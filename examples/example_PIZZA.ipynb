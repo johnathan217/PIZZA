{
  "cells": [
    {
      "cell_type": "markdown",
      "metadata": {
        "id": "ut3kR2GkpSk6"
      },
      "source": [
        "## PIZZA: An Open Source Library for Closed LLM Attribution (or “why did ChatGPT say that?”)"
      ]
    },
    {
      "cell_type": "code",
      "execution_count": 1,
      "metadata": {},
      "outputs": [],
      "source": [
        "import os\n",
        "\n",
        "# Set your open ai API key\n",
        "# BEWARE: This will cost you API credits!\n",
        "os.environ['OPENAI_API_KEY'] = \"YOUR_API_KEY\"\n",
        "\n",
        "\n",
        "import warnings\n",
        "# Suppress annoying FutureWarning from huggingface_hub\n",
        "warnings.filterwarnings('ignore', category=FutureWarning, module='huggingface_hub')\n"
      ]
    },
    {
      "cell_type": "code",
      "execution_count": 2,
      "metadata": {},
      "outputs": [],
      "source": [
        "# Re-import modified modules without restarting the server\n",
        "%load_ext autoreload\n",
        "%autoreload 2"
      ]
    },
    {
      "cell_type": "code",
      "execution_count": 3,
      "metadata": {
        "colab": {
          "base_uri": "https://localhost:8080/"
        },
        "id": "S_SoQ7FLUZ-T",
        "outputId": "a6d7300c-a92d-4a1e-bbd9-a8715a2beb6d"
      },
      "outputs": [
        {
          "name": "stderr",
          "output_type": "stream",
          "text": [
            "/Users/jessicacooper/PIZZA/venv/lib/python3.12/site-packages/tqdm/auto.py:21: TqdmWarning: IProgress not found. Please update jupyter and ipywidgets. See https://ipywidgets.readthedocs.io/en/stable/user_install.html\n",
            "  from .autonotebook import tqdm as notebook_tqdm\n"
          ]
        }
      ],
      "source": [
        "from attribution.api_attribution import OpenAIAttributor\n",
        "from attribution.experiment_logger import ExperimentLogger\n",
        "from attribution.token_perturbation import (\n",
        "    FixedPerturbationStrategy,\n",
        ")\n",
        "\n",
        "gpt3_5_attributor = OpenAIAttributor(request_chunksize=10, openai_model=\"gpt-3.5-turbo\")\n",
        "gpt4_attributor = OpenAIAttributor(request_chunksize=10, openai_model=\"gpt-4o\")"
      ]
    },
    {
      "cell_type": "markdown",
      "metadata": {},
      "source": [
        "# Simple Example"
      ]
    },
    {
      "cell_type": "code",
      "execution_count": 4,
      "metadata": {},
      "outputs": [
        {
          "name": "stdout",
          "output_type": "stream",
          "text": [
            "Mary puts an apple in the box. The box is labelled 'pencils'. John enters the room. What does he think is in the box? Answer in 1 word.\n",
            "GPT3.5: Apples\n",
            "GPT4: Pencils.\n"
          ]
        }
      ],
      "source": [
        "input_str = \"Mary puts an apple in the box. The box is labelled 'pencils'. John enters the room. What does he think is in the box? Answer in 1 word.\"\n",
        "\n",
        "gpt3_5_response = await gpt3_5_attributor.get_chat_completion(input_str)\n",
        "gpt4_response = await gpt4_attributor.get_chat_completion(input_str)\n",
        "\n",
        "print(input_str)\n",
        "print(\"GPT3.5:\", gpt3_5_response.message.content)\n",
        "print(\"GPT4:\", gpt4_response.message.content)"
      ]
    },
    {
      "cell_type": "code",
      "execution_count": 9,
      "metadata": {},
      "outputs": [
        {
          "name": "stderr",
          "output_type": "stream",
          "text": [
            "Sending 10 concurrent requests at a time: 100%|██████████| 4/4 [00:01<00:00,  2.89it/s]\n"
          ]
        },
        {
          "name": "stdout",
          "output_type": "stream",
          "text": [
            "GPT3.5 Total attribution:\n"
          ]
        },
        {
          "data": {
            "text/html": [
              "<div style=\"font-family: monospace;\"><span style=\"text-decoration: underline; text-decoration-color: #e46e56; text-decoration-thickness: 4px;\">Mary</span><span style=\"text-decoration: underline; text-decoration-color: #d65244; text-decoration-thickness: 4px;\"> puts</span><span style=\"text-decoration: underline; text-decoration-color: #d3dbe7; text-decoration-thickness: 4px;\"> an</span><span style=\"text-decoration: underline; text-decoration-color: #cc403a; text-decoration-thickness: 4px;\"> apple</span><span style=\"text-decoration: underline; text-decoration-color: #e3d9d3; text-decoration-thickness: 4px;\"> in</span><span style=\"text-decoration: underline; text-decoration-color: #e7d7ce; text-decoration-thickness: 4px;\"> the</span><span style=\"text-decoration: underline; text-decoration-color: #dd5f4b; text-decoration-thickness: 4px;\"> box</span><span style=\"text-decoration: underline; text-decoration-color: #dadce0; text-decoration-thickness: 4px;\">.</span><span style=\"text-decoration: underline; text-decoration-color: #dcdddd; text-decoration-thickness: 4px;\"> The</span><span style=\"text-decoration: underline; text-decoration-color: #ead5c9; text-decoration-thickness: 4px;\"> box</span><span style=\"text-decoration: underline; text-decoration-color: #dedcdb; text-decoration-thickness: 4px;\"> is</span><span style=\"text-decoration: underline; text-decoration-color: #d8dce2; text-decoration-thickness: 4px;\"> labelled</span><span style=\"text-decoration: underline; text-decoration-color: #dbdcde; text-decoration-thickness: 4px;\"> '</span><span style=\"text-decoration: underline; text-decoration-color: #e1dad6; text-decoration-thickness: 4px;\">pen</span><span style=\"text-decoration: underline; text-decoration-color: #efcfbf; text-decoration-thickness: 4px;\">cil</span><span style=\"text-decoration: underline; text-decoration-color: #cc403a; text-decoration-thickness: 4px;\">s</span><span style=\"text-decoration: underline; text-decoration-color: #ecd3c5; text-decoration-thickness: 4px;\">'.</span><span style=\"text-decoration: underline; text-decoration-color: #ead5c9; text-decoration-thickness: 4px;\"> John</span><span style=\"text-decoration: underline; text-decoration-color: #e6d7cf; text-decoration-thickness: 4px;\"> enters</span><span style=\"text-decoration: underline; text-decoration-color: #d2dbe8; text-decoration-thickness: 4px;\"> the</span><span style=\"text-decoration: underline; text-decoration-color: #dbdcde; text-decoration-thickness: 4px;\"> room</span><span style=\"text-decoration: underline; text-decoration-color: #dedcdb; text-decoration-thickness: 4px;\">.</span><span style=\"text-decoration: underline; text-decoration-color: #e2dad5; text-decoration-thickness: 4px;\"> What</span><span style=\"text-decoration: underline; text-decoration-color: #e0dbd8; text-decoration-thickness: 4px;\"> does</span><span style=\"text-decoration: underline; text-decoration-color: #e1dad6; text-decoration-thickness: 4px;\"> he</span><span style=\"text-decoration: underline; text-decoration-color: #cc403a; text-decoration-thickness: 4px;\"> think</span><span style=\"text-decoration: underline; text-decoration-color: #e3d9d3; text-decoration-thickness: 4px;\"> is</span><span style=\"text-decoration: underline; text-decoration-color: #e36b54; text-decoration-thickness: 4px;\"> in</span><span style=\"text-decoration: underline; text-decoration-color: #dedcdb; text-decoration-thickness: 4px;\"> the</span><span style=\"text-decoration: underline; text-decoration-color: #f2cab5; text-decoration-thickness: 4px;\"> box</span><span style=\"text-decoration: underline; text-decoration-color: #d7dce3; text-decoration-thickness: 4px;\">?</span><span style=\"text-decoration: underline; text-decoration-color: #dedcdb; text-decoration-thickness: 4px;\"> Answer</span><span style=\"text-decoration: underline; text-decoration-color: #dcdddd; text-decoration-thickness: 4px;\"> in</span><span style=\"text-decoration: underline; text-decoration-color: #d55042; text-decoration-thickness: 4px;\"> 1</span><span style=\"text-decoration: underline; text-decoration-color: #cc403a; text-decoration-thickness: 4px;\"> word</span><span style=\"text-decoration: underline; text-decoration-color: #dbdcde; text-decoration-thickness: 4px;\">.</span> -> <b>Apples</b></div>"
            ],
            "text/plain": [
              "<IPython.core.display.HTML object>"
            ]
          },
          "metadata": {},
          "output_type": "display_data"
        },
        {
          "name": "stderr",
          "output_type": "stream",
          "text": [
            "Sending 10 concurrent requests at a time: 100%|██████████| 4/4 [00:01<00:00,  2.48it/s]"
          ]
        },
        {
          "name": "stdout",
          "output_type": "stream",
          "text": [
            "GPT4 Total attribution:\n"
          ]
        },
        {
          "name": "stderr",
          "output_type": "stream",
          "text": [
            "\n"
          ]
        },
        {
          "data": {
            "text/html": [
              "<div style=\"font-family: monospace;\"><span style=\"text-decoration: underline; text-decoration-color: #f3c8b2; text-decoration-thickness: 4px;\">Mary</span><span style=\"text-decoration: underline; text-decoration-color: #f3c7b1; text-decoration-thickness: 4px;\"> puts</span><span style=\"text-decoration: underline; text-decoration-color: #f3c8b2; text-decoration-thickness: 4px;\"> an</span><span style=\"text-decoration: underline; text-decoration-color: #f3c8b2; text-decoration-thickness: 4px;\"> apple</span><span style=\"text-decoration: underline; text-decoration-color: #dfdbd9; text-decoration-thickness: 4px;\"> in</span><span style=\"text-decoration: underline; text-decoration-color: #d8dce2; text-decoration-thickness: 4px;\"> the</span><span style=\"text-decoration: underline; text-decoration-color: #f3c8b2; text-decoration-thickness: 4px;\"> box</span><span style=\"text-decoration: underline; text-decoration-color: #f3c8b2; text-decoration-thickness: 4px;\">.</span><span style=\"text-decoration: underline; text-decoration-color: #f3c8b2; text-decoration-thickness: 4px;\"> The</span><span style=\"text-decoration: underline; text-decoration-color: #f3c8b2; text-decoration-thickness: 4px;\"> box</span><span style=\"text-decoration: underline; text-decoration-color: #d8dce2; text-decoration-thickness: 4px;\"> is</span><span style=\"text-decoration: underline; text-decoration-color: #f3c7b1; text-decoration-thickness: 4px;\"> labelled</span><span style=\"text-decoration: underline; text-decoration-color: #e4d9d2; text-decoration-thickness: 4px;\"> '</span><span style=\"text-decoration: underline; text-decoration-color: #f59c7d; text-decoration-thickness: 4px;\">pen</span><span style=\"text-decoration: underline; text-decoration-color: #ee8468; text-decoration-thickness: 4px;\">cil</span><span style=\"text-decoration: underline; text-decoration-color: #f18d6f; text-decoration-thickness: 4px;\">s</span><span style=\"text-decoration: underline; text-decoration-color: #f3c8b2; text-decoration-thickness: 4px;\">'.</span><span style=\"text-decoration: underline; text-decoration-color: #f3c8b2; text-decoration-thickness: 4px;\"> John</span><span style=\"text-decoration: underline; text-decoration-color: #dadce0; text-decoration-thickness: 4px;\"> enters</span><span style=\"text-decoration: underline; text-decoration-color: #dadce0; text-decoration-thickness: 4px;\"> the</span><span style=\"text-decoration: underline; text-decoration-color: #f3c8b2; text-decoration-thickness: 4px;\"> room</span><span style=\"text-decoration: underline; text-decoration-color: #d4dbe6; text-decoration-thickness: 4px;\">.</span><span style=\"text-decoration: underline; text-decoration-color: #d5dbe5; text-decoration-thickness: 4px;\"> What</span><span style=\"text-decoration: underline; text-decoration-color: #f3c8b2; text-decoration-thickness: 4px;\"> does</span><span style=\"text-decoration: underline; text-decoration-color: #dfdbd9; text-decoration-thickness: 4px;\"> he</span><span style=\"text-decoration: underline; text-decoration-color: #dadce0; text-decoration-thickness: 4px;\"> think</span><span style=\"text-decoration: underline; text-decoration-color: #dadce0; text-decoration-thickness: 4px;\"> is</span><span style=\"text-decoration: underline; text-decoration-color: #d4dbe6; text-decoration-thickness: 4px;\"> in</span><span style=\"text-decoration: underline; text-decoration-color: #e4d9d2; text-decoration-thickness: 4px;\"> the</span><span style=\"text-decoration: underline; text-decoration-color: #dadce0; text-decoration-thickness: 4px;\"> box</span><span style=\"text-decoration: underline; text-decoration-color: #dadce0; text-decoration-thickness: 4px;\">?</span><span style=\"text-decoration: underline; text-decoration-color: #f3c7b1; text-decoration-thickness: 4px;\"> Answer</span><span style=\"text-decoration: underline; text-decoration-color: #e4d9d2; text-decoration-thickness: 4px;\"> in</span><span style=\"text-decoration: underline; text-decoration-color: #d8dce2; text-decoration-thickness: 4px;\"> 1</span><span style=\"text-decoration: underline; text-decoration-color: #cedaeb; text-decoration-thickness: 4px;\"> word</span><span style=\"text-decoration: underline; text-decoration-color: #f3c8b2; text-decoration-thickness: 4px;\">.</span> -> <b>Pencils.</b></div>"
            ],
            "text/plain": [
              "<IPython.core.display.HTML object>"
            ]
          },
          "metadata": {},
          "output_type": "display_data"
        }
      ],
      "source": [
        "# Compute attributions\n",
        "\n",
        "# Initialise a logger to track results. We'll use one for each model.\n",
        "gpt3_5_logger = ExperimentLogger()\n",
        "await gpt3_5_attributor.compute_attributions(\n",
        "    input_str,\n",
        "    perturbation_strategy=FixedPerturbationStrategy(\"\"),\n",
        "    attribution_strategies=[\"prob_diff\"],\n",
        "    logger=gpt3_5_logger\n",
        ")\n",
        "\n",
        "# Let's see...\n",
        "print(\"GPT3.5 Total attribution:\")\n",
        "gpt3_5_logger.print_text_total_attribution()\n",
        "\n",
        "\n",
        "# Now try with GPT4\n",
        "gpt4_logger = ExperimentLogger()\n",
        "await gpt4_attributor.compute_attributions(\n",
        "    input_str,\n",
        "    perturbation_strategy=FixedPerturbationStrategy(\"\"),\n",
        "    attribution_strategies=[\"prob_diff\"],\n",
        "    logger=gpt4_logger\n",
        ")\n",
        "\n",
        "print(\"GPT4 Total attribution:\")\n",
        "gpt4_logger.print_text_total_attribution()"
      ]
    },
    {
      "cell_type": "markdown",
      "metadata": {},
      "source": [
        "GPT3.5 not so hot with the theory of mind there. \n",
        "Notice how the GPT4 attribution is more diffuse, over the entire input? Let's look in more detail."
      ]
    },
    {
      "cell_type": "code",
      "execution_count": 10,
      "metadata": {},
      "outputs": [
        {
          "name": "stdout",
          "output_type": "stream",
          "text": [
            "GPT4 Total attribution:\n"
          ]
        },
        {
          "data": {
            "text/html": [
              "<div style=\"font-family: monospace;\"><span style=\"text-decoration: underline; text-decoration-color: #f3c8b2; text-decoration-thickness: 4px;\">Mary</span><span style=\"text-decoration: underline; text-decoration-color: #f3c7b1; text-decoration-thickness: 4px;\"> puts</span><span style=\"text-decoration: underline; text-decoration-color: #f3c8b2; text-decoration-thickness: 4px;\"> an</span><span style=\"text-decoration: underline; text-decoration-color: #f3c8b2; text-decoration-thickness: 4px;\"> apple</span><span style=\"text-decoration: underline; text-decoration-color: #dfdbd9; text-decoration-thickness: 4px;\"> in</span><span style=\"text-decoration: underline; text-decoration-color: #d8dce2; text-decoration-thickness: 4px;\"> the</span><span style=\"text-decoration: underline; text-decoration-color: #f3c8b2; text-decoration-thickness: 4px;\"> box</span><span style=\"text-decoration: underline; text-decoration-color: #f3c8b2; text-decoration-thickness: 4px;\">.</span><span style=\"text-decoration: underline; text-decoration-color: #f3c8b2; text-decoration-thickness: 4px;\"> The</span><span style=\"text-decoration: underline; text-decoration-color: #f3c8b2; text-decoration-thickness: 4px;\"> box</span><span style=\"text-decoration: underline; text-decoration-color: #d8dce2; text-decoration-thickness: 4px;\"> is</span><span style=\"text-decoration: underline; text-decoration-color: #f3c7b1; text-decoration-thickness: 4px;\"> labelled</span><span style=\"text-decoration: underline; text-decoration-color: #e4d9d2; text-decoration-thickness: 4px;\"> '</span><span style=\"text-decoration: underline; text-decoration-color: #f59c7d; text-decoration-thickness: 4px;\">pen</span><span style=\"text-decoration: underline; text-decoration-color: #ee8468; text-decoration-thickness: 4px;\">cil</span><span style=\"text-decoration: underline; text-decoration-color: #f18d6f; text-decoration-thickness: 4px;\">s</span><span style=\"text-decoration: underline; text-decoration-color: #f3c8b2; text-decoration-thickness: 4px;\">'.</span><span style=\"text-decoration: underline; text-decoration-color: #f3c8b2; text-decoration-thickness: 4px;\"> John</span><span style=\"text-decoration: underline; text-decoration-color: #dadce0; text-decoration-thickness: 4px;\"> enters</span><span style=\"text-decoration: underline; text-decoration-color: #dadce0; text-decoration-thickness: 4px;\"> the</span><span style=\"text-decoration: underline; text-decoration-color: #f3c8b2; text-decoration-thickness: 4px;\"> room</span><span style=\"text-decoration: underline; text-decoration-color: #d4dbe6; text-decoration-thickness: 4px;\">.</span><span style=\"text-decoration: underline; text-decoration-color: #d5dbe5; text-decoration-thickness: 4px;\"> What</span><span style=\"text-decoration: underline; text-decoration-color: #f3c8b2; text-decoration-thickness: 4px;\"> does</span><span style=\"text-decoration: underline; text-decoration-color: #dfdbd9; text-decoration-thickness: 4px;\"> he</span><span style=\"text-decoration: underline; text-decoration-color: #dadce0; text-decoration-thickness: 4px;\"> think</span><span style=\"text-decoration: underline; text-decoration-color: #dadce0; text-decoration-thickness: 4px;\"> is</span><span style=\"text-decoration: underline; text-decoration-color: #d4dbe6; text-decoration-thickness: 4px;\"> in</span><span style=\"text-decoration: underline; text-decoration-color: #e4d9d2; text-decoration-thickness: 4px;\"> the</span><span style=\"text-decoration: underline; text-decoration-color: #dadce0; text-decoration-thickness: 4px;\"> box</span><span style=\"text-decoration: underline; text-decoration-color: #dadce0; text-decoration-thickness: 4px;\">?</span><span style=\"text-decoration: underline; text-decoration-color: #f3c7b1; text-decoration-thickness: 4px;\"> Answer</span><span style=\"text-decoration: underline; text-decoration-color: #e4d9d2; text-decoration-thickness: 4px;\"> in</span><span style=\"text-decoration: underline; text-decoration-color: #d8dce2; text-decoration-thickness: 4px;\"> 1</span><span style=\"text-decoration: underline; text-decoration-color: #cedaeb; text-decoration-thickness: 4px;\"> word</span><span style=\"text-decoration: underline; text-decoration-color: #f3c8b2; text-decoration-thickness: 4px;\">.</span> -> <b>Pencils.</b></div>"
            ],
            "text/plain": [
              "<IPython.core.display.HTML object>"
            ]
          },
          "metadata": {},
          "output_type": "display_data"
        },
        {
          "name": "stdout",
          "output_type": "stream",
          "text": [
            "GPT4 per-output-token attribution:\n"
          ]
        },
        {
          "data": {
            "text/html": [
              "<div style=\"font-family: monospace;\"><span style=\"text-decoration: underline; text-decoration-color: #dddcdc; text-decoration-thickness: 4px;\">Mary</span><span style=\"text-decoration: underline; text-decoration-color: #dddcdc; text-decoration-thickness: 4px;\"> puts</span><span style=\"text-decoration: underline; text-decoration-color: #dddcdc; text-decoration-thickness: 4px;\"> an</span><span style=\"text-decoration: underline; text-decoration-color: #dddcdc; text-decoration-thickness: 4px;\"> apple</span><span style=\"text-decoration: underline; text-decoration-color: #dddcdc; text-decoration-thickness: 4px;\"> in</span><span style=\"text-decoration: underline; text-decoration-color: #dddcdc; text-decoration-thickness: 4px;\"> the</span><span style=\"text-decoration: underline; text-decoration-color: #dddcdc; text-decoration-thickness: 4px;\"> box</span><span style=\"text-decoration: underline; text-decoration-color: #dddcdc; text-decoration-thickness: 4px;\">.</span><span style=\"text-decoration: underline; text-decoration-color: #dddcdc; text-decoration-thickness: 4px;\"> The</span><span style=\"text-decoration: underline; text-decoration-color: #dddcdc; text-decoration-thickness: 4px;\"> box</span><span style=\"text-decoration: underline; text-decoration-color: #dddcdc; text-decoration-thickness: 4px;\"> is</span><span style=\"text-decoration: underline; text-decoration-color: #dddcdc; text-decoration-thickness: 4px;\"> labelled</span><span style=\"text-decoration: underline; text-decoration-color: #dddcdc; text-decoration-thickness: 4px;\"> '</span><span style=\"text-decoration: underline; text-decoration-color: #e3d9d3; text-decoration-thickness: 4px;\">pen</span><span style=\"text-decoration: underline; text-decoration-color: #b40426; text-decoration-thickness: 4px;\">cil</span><span style=\"text-decoration: underline; text-decoration-color: #dddcdc; text-decoration-thickness: 4px;\">s</span><span style=\"text-decoration: underline; text-decoration-color: #dddcdc; text-decoration-thickness: 4px;\">'.</span><span style=\"text-decoration: underline; text-decoration-color: #dddcdc; text-decoration-thickness: 4px;\"> John</span><span style=\"text-decoration: underline; text-decoration-color: #dddcdc; text-decoration-thickness: 4px;\"> enters</span><span style=\"text-decoration: underline; text-decoration-color: #dddcdc; text-decoration-thickness: 4px;\"> the</span><span style=\"text-decoration: underline; text-decoration-color: #dddcdc; text-decoration-thickness: 4px;\"> room</span><span style=\"text-decoration: underline; text-decoration-color: #dddcdc; text-decoration-thickness: 4px;\">.</span><span style=\"text-decoration: underline; text-decoration-color: #dddcdc; text-decoration-thickness: 4px;\"> What</span><span style=\"text-decoration: underline; text-decoration-color: #dddcdc; text-decoration-thickness: 4px;\"> does</span><span style=\"text-decoration: underline; text-decoration-color: #dddcdc; text-decoration-thickness: 4px;\"> he</span><span style=\"text-decoration: underline; text-decoration-color: #dddcdc; text-decoration-thickness: 4px;\"> think</span><span style=\"text-decoration: underline; text-decoration-color: #dddcdc; text-decoration-thickness: 4px;\"> is</span><span style=\"text-decoration: underline; text-decoration-color: #dddcdc; text-decoration-thickness: 4px;\"> in</span><span style=\"text-decoration: underline; text-decoration-color: #dddcdc; text-decoration-thickness: 4px;\"> the</span><span style=\"text-decoration: underline; text-decoration-color: #dddcdc; text-decoration-thickness: 4px;\"> box</span><span style=\"text-decoration: underline; text-decoration-color: #dddcdc; text-decoration-thickness: 4px;\">?</span><span style=\"text-decoration: underline; text-decoration-color: #dddcdc; text-decoration-thickness: 4px;\"> Answer</span><span style=\"text-decoration: underline; text-decoration-color: #dddcdc; text-decoration-thickness: 4px;\"> in</span><span style=\"text-decoration: underline; text-decoration-color: #dddcdc; text-decoration-thickness: 4px;\"> 1</span><span style=\"text-decoration: underline; text-decoration-color: #dddcdc; text-decoration-thickness: 4px;\"> word</span><span style=\"text-decoration: underline; text-decoration-color: #dddcdc; text-decoration-thickness: 4px;\">.</span> -> <b>P</b>encils.</div>"
            ],
            "text/plain": [
              "<IPython.core.display.HTML object>"
            ]
          },
          "metadata": {},
          "output_type": "display_data"
        },
        {
          "data": {
            "text/html": [
              "<div style=\"font-family: monospace;\"><span style=\"text-decoration: underline; text-decoration-color: #dddcdc; text-decoration-thickness: 4px;\">Mary</span><span style=\"text-decoration: underline; text-decoration-color: #dddcdc; text-decoration-thickness: 4px;\"> puts</span><span style=\"text-decoration: underline; text-decoration-color: #dddcdc; text-decoration-thickness: 4px;\"> an</span><span style=\"text-decoration: underline; text-decoration-color: #dddcdc; text-decoration-thickness: 4px;\"> apple</span><span style=\"text-decoration: underline; text-decoration-color: #dddcdc; text-decoration-thickness: 4px;\"> in</span><span style=\"text-decoration: underline; text-decoration-color: #dddcdc; text-decoration-thickness: 4px;\"> the</span><span style=\"text-decoration: underline; text-decoration-color: #dddcdc; text-decoration-thickness: 4px;\"> box</span><span style=\"text-decoration: underline; text-decoration-color: #dddcdc; text-decoration-thickness: 4px;\">.</span><span style=\"text-decoration: underline; text-decoration-color: #dddcdc; text-decoration-thickness: 4px;\"> The</span><span style=\"text-decoration: underline; text-decoration-color: #dddcdc; text-decoration-thickness: 4px;\"> box</span><span style=\"text-decoration: underline; text-decoration-color: #dddcdc; text-decoration-thickness: 4px;\"> is</span><span style=\"text-decoration: underline; text-decoration-color: #dddcdc; text-decoration-thickness: 4px;\"> labelled</span><span style=\"text-decoration: underline; text-decoration-color: #dddcdc; text-decoration-thickness: 4px;\"> '</span><span style=\"text-decoration: underline; text-decoration-color: #e0654f; text-decoration-thickness: 4px;\">pen</span><span style=\"text-decoration: underline; text-decoration-color: #b40426; text-decoration-thickness: 4px;\">cil</span><span style=\"text-decoration: underline; text-decoration-color: #b40426; text-decoration-thickness: 4px;\">s</span><span style=\"text-decoration: underline; text-decoration-color: #dddcdc; text-decoration-thickness: 4px;\">'.</span><span style=\"text-decoration: underline; text-decoration-color: #dddcdc; text-decoration-thickness: 4px;\"> John</span><span style=\"text-decoration: underline; text-decoration-color: #dddcdc; text-decoration-thickness: 4px;\"> enters</span><span style=\"text-decoration: underline; text-decoration-color: #dddcdc; text-decoration-thickness: 4px;\"> the</span><span style=\"text-decoration: underline; text-decoration-color: #dddcdc; text-decoration-thickness: 4px;\"> room</span><span style=\"text-decoration: underline; text-decoration-color: #dddcdc; text-decoration-thickness: 4px;\">.</span><span style=\"text-decoration: underline; text-decoration-color: #dddcdc; text-decoration-thickness: 4px;\"> What</span><span style=\"text-decoration: underline; text-decoration-color: #dddcdc; text-decoration-thickness: 4px;\"> does</span><span style=\"text-decoration: underline; text-decoration-color: #dddcdc; text-decoration-thickness: 4px;\"> he</span><span style=\"text-decoration: underline; text-decoration-color: #dddcdc; text-decoration-thickness: 4px;\"> think</span><span style=\"text-decoration: underline; text-decoration-color: #dddcdc; text-decoration-thickness: 4px;\"> is</span><span style=\"text-decoration: underline; text-decoration-color: #dddcdc; text-decoration-thickness: 4px;\"> in</span><span style=\"text-decoration: underline; text-decoration-color: #dddcdc; text-decoration-thickness: 4px;\"> the</span><span style=\"text-decoration: underline; text-decoration-color: #dddcdc; text-decoration-thickness: 4px;\"> box</span><span style=\"text-decoration: underline; text-decoration-color: #dddcdc; text-decoration-thickness: 4px;\">?</span><span style=\"text-decoration: underline; text-decoration-color: #dddcdc; text-decoration-thickness: 4px;\"> Answer</span><span style=\"text-decoration: underline; text-decoration-color: #dddcdc; text-decoration-thickness: 4px;\"> in</span><span style=\"text-decoration: underline; text-decoration-color: #dddcdc; text-decoration-thickness: 4px;\"> 1</span><span style=\"text-decoration: underline; text-decoration-color: #dddcdc; text-decoration-thickness: 4px;\"> word</span><span style=\"text-decoration: underline; text-decoration-color: #dddcdc; text-decoration-thickness: 4px;\">.</span> -> P<b>encils</b>.</div>"
            ],
            "text/plain": [
              "<IPython.core.display.HTML object>"
            ]
          },
          "metadata": {},
          "output_type": "display_data"
        },
        {
          "data": {
            "text/html": [
              "<div style=\"font-family: monospace;\"><span style=\"text-decoration: underline; text-decoration-color: #e67259; text-decoration-thickness: 4px;\">Mary</span><span style=\"text-decoration: underline; text-decoration-color: #e67259; text-decoration-thickness: 4px;\"> puts</span><span style=\"text-decoration: underline; text-decoration-color: #e67259; text-decoration-thickness: 4px;\"> an</span><span style=\"text-decoration: underline; text-decoration-color: #e67259; text-decoration-thickness: 4px;\"> apple</span><span style=\"text-decoration: underline; text-decoration-color: #e4d9d2; text-decoration-thickness: 4px;\"> in</span><span style=\"text-decoration: underline; text-decoration-color: #cfdaea; text-decoration-thickness: 4px;\"> the</span><span style=\"text-decoration: underline; text-decoration-color: #e67259; text-decoration-thickness: 4px;\"> box</span><span style=\"text-decoration: underline; text-decoration-color: #e67259; text-decoration-thickness: 4px;\">.</span><span style=\"text-decoration: underline; text-decoration-color: #e67259; text-decoration-thickness: 4px;\"> The</span><span style=\"text-decoration: underline; text-decoration-color: #e67259; text-decoration-thickness: 4px;\"> box</span><span style=\"text-decoration: underline; text-decoration-color: #cfdaea; text-decoration-thickness: 4px;\"> is</span><span style=\"text-decoration: underline; text-decoration-color: #e67259; text-decoration-thickness: 4px;\"> labelled</span><span style=\"text-decoration: underline; text-decoration-color: #f0cdbb; text-decoration-thickness: 4px;\"> '</span><span style=\"text-decoration: underline; text-decoration-color: #e67259; text-decoration-thickness: 4px;\">pen</span><span style=\"text-decoration: underline; text-decoration-color: #c0d4f5; text-decoration-thickness: 4px;\">cil</span><span style=\"text-decoration: underline; text-decoration-color: #e67259; text-decoration-thickness: 4px;\">s</span><span style=\"text-decoration: underline; text-decoration-color: #e67259; text-decoration-thickness: 4px;\">'.</span><span style=\"text-decoration: underline; text-decoration-color: #e67259; text-decoration-thickness: 4px;\"> John</span><span style=\"text-decoration: underline; text-decoration-color: #d6dce4; text-decoration-thickness: 4px;\"> enters</span><span style=\"text-decoration: underline; text-decoration-color: #d6dce4; text-decoration-thickness: 4px;\"> the</span><span style=\"text-decoration: underline; text-decoration-color: #e67259; text-decoration-thickness: 4px;\"> room</span><span style=\"text-decoration: underline; text-decoration-color: #c0d4f5; text-decoration-thickness: 4px;\">.</span><span style=\"text-decoration: underline; text-decoration-color: #c4d5f3; text-decoration-thickness: 4px;\"> What</span><span style=\"text-decoration: underline; text-decoration-color: #e67259; text-decoration-thickness: 4px;\"> does</span><span style=\"text-decoration: underline; text-decoration-color: #e4d9d2; text-decoration-thickness: 4px;\"> he</span><span style=\"text-decoration: underline; text-decoration-color: #d6dce4; text-decoration-thickness: 4px;\"> think</span><span style=\"text-decoration: underline; text-decoration-color: #d6dce4; text-decoration-thickness: 4px;\"> is</span><span style=\"text-decoration: underline; text-decoration-color: #c0d4f5; text-decoration-thickness: 4px;\"> in</span><span style=\"text-decoration: underline; text-decoration-color: #f0cdbb; text-decoration-thickness: 4px;\"> the</span><span style=\"text-decoration: underline; text-decoration-color: #d6dce4; text-decoration-thickness: 4px;\"> box</span><span style=\"text-decoration: underline; text-decoration-color: #d6dce4; text-decoration-thickness: 4px;\">?</span><span style=\"text-decoration: underline; text-decoration-color: #e67259; text-decoration-thickness: 4px;\"> Answer</span><span style=\"text-decoration: underline; text-decoration-color: #f0cdbb; text-decoration-thickness: 4px;\"> in</span><span style=\"text-decoration: underline; text-decoration-color: #cfdaea; text-decoration-thickness: 4px;\"> 1</span><span style=\"text-decoration: underline; text-decoration-color: #adc9fd; text-decoration-thickness: 4px;\"> word</span><span style=\"text-decoration: underline; text-decoration-color: #e67259; text-decoration-thickness: 4px;\">.</span> -> Pencils<b>.</b></div>"
            ],
            "text/plain": [
              "<IPython.core.display.HTML object>"
            ]
          },
          "metadata": {},
          "output_type": "display_data"
        }
      ],
      "source": [
        "print(\"GPT4 Total attribution:\")\n",
        "gpt4_logger.print_text_total_attribution()\n",
        "print(\"GPT4 per-output-token attribution:\")\n",
        "gpt4_logger.print_text_attribution_matrix()"
      ]
    },
    {
      "cell_type": "markdown",
      "metadata": {},
      "source": [
        "Interesting! Looks like that diffuse attribution mostly informed the full stop – looks like GPT4 was using sentence structure to determine the punctuation. \"Pencils\" is just attributed to \"pencils\", which makes sense, but doesn't tell us a lot. Let's dig deeper.\n",
        "\n",
        "The table below shows us what's actually happening here - we're iteratively removing (_perturbing_) input tokens (by replacing them with an empty string) and looking at how the output changes. So it makes sense that removing the word \"pencils\" (or actually, \"pen\" or \"cil\") changes the output the most. "
      ]
    },
    {
      "cell_type": "code",
      "execution_count": 11,
      "metadata": {},
      "outputs": [
        {
          "data": {
            "text/html": [
              "<style type=\"text/css\">\n",
              "#T_8f565_row0_col0, #T_8f565_row0_col1, #T_8f565_row0_col2, #T_8f565_row0_col3, #T_8f565_row0_col4, #T_8f565_row0_col5, #T_8f565_row0_col6, #T_8f565_row0_col7, #T_8f565_row0_col8, #T_8f565_row0_col9, #T_8f565_row0_col10, #T_8f565_row0_col11, #T_8f565_row0_col12, #T_8f565_row0_col13, #T_8f565_row0_col14, #T_8f565_row0_col15, #T_8f565_row0_col16, #T_8f565_row0_col17, #T_8f565_row0_col18, #T_8f565_row0_col19, #T_8f565_row0_col20, #T_8f565_row0_col21, #T_8f565_row0_col22, #T_8f565_row0_col23, #T_8f565_row0_col24, #T_8f565_row0_col25, #T_8f565_row0_col26, #T_8f565_row0_col27, #T_8f565_row0_col28, #T_8f565_row0_col29, #T_8f565_row0_col30, #T_8f565_row0_col31, #T_8f565_row0_col32, #T_8f565_row0_col33, #T_8f565_row0_col34, #T_8f565_row0_col35, #T_8f565_row0_col36, #T_8f565_row0_col37, #T_8f565_row0_col38, #T_8f565_row0_col39 {\n",
              "  white-space: pre-wrap;\n",
              "}\n",
              "</style>\n",
              "<table id=\"T_8f565\">\n",
              "  <thead>\n",
              "    <tr>\n",
              "      <th class=\"blank level0\" >&nbsp;</th>\n",
              "      <th id=\"T_8f565_level0_col0\" class=\"col_heading level0 col0\" >exp_id</th>\n",
              "      <th id=\"T_8f565_level0_col1\" class=\"col_heading level0 col1\" >attribution_strategy</th>\n",
              "      <th id=\"T_8f565_level0_col2\" class=\"col_heading level0 col2\" >perturbation_strategy</th>\n",
              "      <th id=\"T_8f565_level0_col3\" class=\"col_heading level0 col3\" >perturb_word_wise</th>\n",
              "      <th id=\"T_8f565_level0_col4\" class=\"col_heading level0 col4\" >token_1</th>\n",
              "      <th id=\"T_8f565_level0_col5\" class=\"col_heading level0 col5\" >token_2</th>\n",
              "      <th id=\"T_8f565_level0_col6\" class=\"col_heading level0 col6\" >token_3</th>\n",
              "      <th id=\"T_8f565_level0_col7\" class=\"col_heading level0 col7\" >token_4</th>\n",
              "      <th id=\"T_8f565_level0_col8\" class=\"col_heading level0 col8\" >token_5</th>\n",
              "      <th id=\"T_8f565_level0_col9\" class=\"col_heading level0 col9\" >token_6</th>\n",
              "      <th id=\"T_8f565_level0_col10\" class=\"col_heading level0 col10\" >token_7</th>\n",
              "      <th id=\"T_8f565_level0_col11\" class=\"col_heading level0 col11\" >token_8</th>\n",
              "      <th id=\"T_8f565_level0_col12\" class=\"col_heading level0 col12\" >token_9</th>\n",
              "      <th id=\"T_8f565_level0_col13\" class=\"col_heading level0 col13\" >token_10</th>\n",
              "      <th id=\"T_8f565_level0_col14\" class=\"col_heading level0 col14\" >token_11</th>\n",
              "      <th id=\"T_8f565_level0_col15\" class=\"col_heading level0 col15\" >token_12</th>\n",
              "      <th id=\"T_8f565_level0_col16\" class=\"col_heading level0 col16\" >token_13</th>\n",
              "      <th id=\"T_8f565_level0_col17\" class=\"col_heading level0 col17\" >token_14</th>\n",
              "      <th id=\"T_8f565_level0_col18\" class=\"col_heading level0 col18\" >token_15</th>\n",
              "      <th id=\"T_8f565_level0_col19\" class=\"col_heading level0 col19\" >token_16</th>\n",
              "      <th id=\"T_8f565_level0_col20\" class=\"col_heading level0 col20\" >token_17</th>\n",
              "      <th id=\"T_8f565_level0_col21\" class=\"col_heading level0 col21\" >token_18</th>\n",
              "      <th id=\"T_8f565_level0_col22\" class=\"col_heading level0 col22\" >token_19</th>\n",
              "      <th id=\"T_8f565_level0_col23\" class=\"col_heading level0 col23\" >token_20</th>\n",
              "      <th id=\"T_8f565_level0_col24\" class=\"col_heading level0 col24\" >token_21</th>\n",
              "      <th id=\"T_8f565_level0_col25\" class=\"col_heading level0 col25\" >token_22</th>\n",
              "      <th id=\"T_8f565_level0_col26\" class=\"col_heading level0 col26\" >token_23</th>\n",
              "      <th id=\"T_8f565_level0_col27\" class=\"col_heading level0 col27\" >token_24</th>\n",
              "      <th id=\"T_8f565_level0_col28\" class=\"col_heading level0 col28\" >token_25</th>\n",
              "      <th id=\"T_8f565_level0_col29\" class=\"col_heading level0 col29\" >token_26</th>\n",
              "      <th id=\"T_8f565_level0_col30\" class=\"col_heading level0 col30\" >token_27</th>\n",
              "      <th id=\"T_8f565_level0_col31\" class=\"col_heading level0 col31\" >token_28</th>\n",
              "      <th id=\"T_8f565_level0_col32\" class=\"col_heading level0 col32\" >token_29</th>\n",
              "      <th id=\"T_8f565_level0_col33\" class=\"col_heading level0 col33\" >token_30</th>\n",
              "      <th id=\"T_8f565_level0_col34\" class=\"col_heading level0 col34\" >token_31</th>\n",
              "      <th id=\"T_8f565_level0_col35\" class=\"col_heading level0 col35\" >token_32</th>\n",
              "      <th id=\"T_8f565_level0_col36\" class=\"col_heading level0 col36\" >token_33</th>\n",
              "      <th id=\"T_8f565_level0_col37\" class=\"col_heading level0 col37\" >token_34</th>\n",
              "      <th id=\"T_8f565_level0_col38\" class=\"col_heading level0 col38\" >token_35</th>\n",
              "      <th id=\"T_8f565_level0_col39\" class=\"col_heading level0 col39\" >token_36</th>\n",
              "    </tr>\n",
              "  </thead>\n",
              "  <tbody>\n",
              "    <tr>\n",
              "      <th id=\"T_8f565_level0_row0\" class=\"row_heading level0 row0\" >0</th>\n",
              "      <td id=\"T_8f565_row0_col0\" class=\"data row0 col0\" >1</td>\n",
              "      <td id=\"T_8f565_row0_col1\" class=\"data row0 col1\" >prob_diff</td>\n",
              "      <td id=\"T_8f565_row0_col2\" class=\"data row0 col2\" >fixed</td>\n",
              "      <td id=\"T_8f565_row0_col3\" class=\"data row0 col3\" >False</td>\n",
              "      <td id=\"T_8f565_row0_col4\" class=\"data row0 col4\" >Mary\n",
              "0.23</td>\n",
              "      <td id=\"T_8f565_row0_col5\" class=\"data row0 col5\" > puts\n",
              "0.23</td>\n",
              "      <td id=\"T_8f565_row0_col6\" class=\"data row0 col6\" > an\n",
              "0.23</td>\n",
              "      <td id=\"T_8f565_row0_col7\" class=\"data row0 col7\" > apple\n",
              "0.23</td>\n",
              "      <td id=\"T_8f565_row0_col8\" class=\"data row0 col8\" > in\n",
              "0.02</td>\n",
              "      <td id=\"T_8f565_row0_col9\" class=\"data row0 col9\" > the\n",
              "-0.03</td>\n",
              "      <td id=\"T_8f565_row0_col10\" class=\"data row0 col10\" > box\n",
              "0.23</td>\n",
              "      <td id=\"T_8f565_row0_col11\" class=\"data row0 col11\" >.\n",
              "0.23</td>\n",
              "      <td id=\"T_8f565_row0_col12\" class=\"data row0 col12\" > The\n",
              "0.23</td>\n",
              "      <td id=\"T_8f565_row0_col13\" class=\"data row0 col13\" > box\n",
              "0.23</td>\n",
              "      <td id=\"T_8f565_row0_col14\" class=\"data row0 col14\" > is\n",
              "-0.03</td>\n",
              "      <td id=\"T_8f565_row0_col15\" class=\"data row0 col15\" > labelled\n",
              "0.23</td>\n",
              "      <td id=\"T_8f565_row0_col16\" class=\"data row0 col16\" > '\n",
              "0.06</td>\n",
              "      <td id=\"T_8f565_row0_col17\" class=\"data row0 col17\" >pen\n",
              "0.49</td>\n",
              "      <td id=\"T_8f565_row0_col18\" class=\"data row0 col18\" >cil\n",
              "0.60</td>\n",
              "      <td id=\"T_8f565_row0_col19\" class=\"data row0 col19\" >s\n",
              "0.56</td>\n",
              "      <td id=\"T_8f565_row0_col20\" class=\"data row0 col20\" >'.\n",
              "0.23</td>\n",
              "      <td id=\"T_8f565_row0_col21\" class=\"data row0 col21\" > John\n",
              "0.23</td>\n",
              "      <td id=\"T_8f565_row0_col22\" class=\"data row0 col22\" > enters\n",
              "-0.02</td>\n",
              "      <td id=\"T_8f565_row0_col23\" class=\"data row0 col23\" > the\n",
              "-0.02</td>\n",
              "      <td id=\"T_8f565_row0_col24\" class=\"data row0 col24\" > room\n",
              "0.23</td>\n",
              "      <td id=\"T_8f565_row0_col25\" class=\"data row0 col25\" >.\n",
              "-0.07</td>\n",
              "      <td id=\"T_8f565_row0_col26\" class=\"data row0 col26\" > What\n",
              "-0.06</td>\n",
              "      <td id=\"T_8f565_row0_col27\" class=\"data row0 col27\" > does\n",
              "0.23</td>\n",
              "      <td id=\"T_8f565_row0_col28\" class=\"data row0 col28\" > he\n",
              "0.02</td>\n",
              "      <td id=\"T_8f565_row0_col29\" class=\"data row0 col29\" > think\n",
              "-0.02</td>\n",
              "      <td id=\"T_8f565_row0_col30\" class=\"data row0 col30\" > is\n",
              "-0.02</td>\n",
              "      <td id=\"T_8f565_row0_col31\" class=\"data row0 col31\" > in\n",
              "-0.07</td>\n",
              "      <td id=\"T_8f565_row0_col32\" class=\"data row0 col32\" > the\n",
              "0.06</td>\n",
              "      <td id=\"T_8f565_row0_col33\" class=\"data row0 col33\" > box\n",
              "-0.02</td>\n",
              "      <td id=\"T_8f565_row0_col34\" class=\"data row0 col34\" >?\n",
              "-0.02</td>\n",
              "      <td id=\"T_8f565_row0_col35\" class=\"data row0 col35\" > Answer\n",
              "0.23</td>\n",
              "      <td id=\"T_8f565_row0_col36\" class=\"data row0 col36\" > in\n",
              "0.06</td>\n",
              "      <td id=\"T_8f565_row0_col37\" class=\"data row0 col37\" > 1\n",
              "-0.03</td>\n",
              "      <td id=\"T_8f565_row0_col38\" class=\"data row0 col38\" > word\n",
              "-0.11</td>\n",
              "      <td id=\"T_8f565_row0_col39\" class=\"data row0 col39\" >.\n",
              "0.23</td>\n",
              "    </tr>\n",
              "  </tbody>\n",
              "</table>\n"
            ],
            "text/plain": [
              "<pandas.io.formats.style.Styler at 0x2a3e2bd10>"
            ]
          },
          "metadata": {},
          "output_type": "display_data"
        },
        {
          "data": {
            "text/html": [
              "<style type=\"text/css\">\n",
              "#T_3464e_row0_col0, #T_3464e_row0_col1, #T_3464e_row1_col0, #T_3464e_row1_col1, #T_3464e_row2_col0, #T_3464e_row2_col1, #T_3464e_row3_col0, #T_3464e_row3_col1, #T_3464e_row4_col0, #T_3464e_row4_col1, #T_3464e_row5_col0, #T_3464e_row5_col1, #T_3464e_row6_col0, #T_3464e_row6_col1, #T_3464e_row7_col0, #T_3464e_row7_col1, #T_3464e_row8_col0, #T_3464e_row8_col1, #T_3464e_row9_col0, #T_3464e_row9_col1, #T_3464e_row10_col0, #T_3464e_row10_col1, #T_3464e_row11_col0, #T_3464e_row11_col1, #T_3464e_row12_col0, #T_3464e_row12_col1, #T_3464e_row15_col0, #T_3464e_row16_col0, #T_3464e_row16_col1, #T_3464e_row17_col0, #T_3464e_row17_col1, #T_3464e_row18_col0, #T_3464e_row18_col1, #T_3464e_row19_col0, #T_3464e_row19_col1, #T_3464e_row20_col0, #T_3464e_row20_col1, #T_3464e_row21_col0, #T_3464e_row21_col1, #T_3464e_row22_col0, #T_3464e_row22_col1, #T_3464e_row23_col0, #T_3464e_row23_col1, #T_3464e_row24_col0, #T_3464e_row24_col1, #T_3464e_row25_col0, #T_3464e_row25_col1, #T_3464e_row26_col0, #T_3464e_row26_col1, #T_3464e_row27_col0, #T_3464e_row27_col1, #T_3464e_row28_col0, #T_3464e_row28_col1, #T_3464e_row29_col0, #T_3464e_row29_col1, #T_3464e_row30_col0, #T_3464e_row30_col1, #T_3464e_row31_col0, #T_3464e_row31_col1, #T_3464e_row32_col0, #T_3464e_row32_col1, #T_3464e_row33_col0, #T_3464e_row33_col1, #T_3464e_row34_col0, #T_3464e_row34_col1, #T_3464e_row35_col0, #T_3464e_row35_col1 {\n",
              "  background-color: #dddcdc;\n",
              "  color: #000000;\n",
              "}\n",
              "#T_3464e_row0_col2, #T_3464e_row1_col2, #T_3464e_row2_col2, #T_3464e_row3_col2, #T_3464e_row6_col2, #T_3464e_row7_col2, #T_3464e_row8_col2, #T_3464e_row9_col2, #T_3464e_row11_col2, #T_3464e_row13_col2, #T_3464e_row15_col2, #T_3464e_row16_col2, #T_3464e_row17_col2, #T_3464e_row20_col2, #T_3464e_row23_col2, #T_3464e_row31_col2, #T_3464e_row35_col2 {\n",
              "  background-color: #e67259;\n",
              "  color: #f1f1f1;\n",
              "}\n",
              "#T_3464e_row4_col2, #T_3464e_row24_col2 {\n",
              "  background-color: #e4d9d2;\n",
              "  color: #000000;\n",
              "}\n",
              "#T_3464e_row5_col2, #T_3464e_row10_col2, #T_3464e_row33_col2 {\n",
              "  background-color: #cfdaea;\n",
              "  color: #000000;\n",
              "}\n",
              "#T_3464e_row12_col2, #T_3464e_row28_col2, #T_3464e_row32_col2 {\n",
              "  background-color: #f0cdbb;\n",
              "  color: #000000;\n",
              "}\n",
              "#T_3464e_row13_col0 {\n",
              "  background-color: #e3d9d3;\n",
              "  color: #000000;\n",
              "}\n",
              "#T_3464e_row13_col1 {\n",
              "  background-color: #e0654f;\n",
              "  color: #f1f1f1;\n",
              "}\n",
              "#T_3464e_row14_col0, #T_3464e_row14_col1, #T_3464e_row15_col1 {\n",
              "  background-color: #b40426;\n",
              "  color: #f1f1f1;\n",
              "}\n",
              "#T_3464e_row14_col2, #T_3464e_row21_col2, #T_3464e_row27_col2 {\n",
              "  background-color: #c0d4f5;\n",
              "  color: #000000;\n",
              "}\n",
              "#T_3464e_row18_col2, #T_3464e_row19_col2, #T_3464e_row25_col2, #T_3464e_row26_col2, #T_3464e_row29_col2, #T_3464e_row30_col2 {\n",
              "  background-color: #d6dce4;\n",
              "  color: #000000;\n",
              "}\n",
              "#T_3464e_row22_col2 {\n",
              "  background-color: #c4d5f3;\n",
              "  color: #000000;\n",
              "}\n",
              "#T_3464e_row34_col2 {\n",
              "  background-color: #adc9fd;\n",
              "  color: #000000;\n",
              "}\n",
              "</style>\n",
              "<table id=\"T_3464e\">\n",
              "  <thead>\n",
              "    <tr>\n",
              "      <th class=\"blank level0\" >&nbsp;</th>\n",
              "      <th id=\"T_3464e_level0_col0\" class=\"col_heading level0 col0\" >P (0)</th>\n",
              "      <th id=\"T_3464e_level0_col1\" class=\"col_heading level0 col1\" >encils (1)</th>\n",
              "      <th id=\"T_3464e_level0_col2\" class=\"col_heading level0 col2\" >. (2)</th>\n",
              "      <th id=\"T_3464e_level0_col3\" class=\"col_heading level0 col3\" >perturbed_input</th>\n",
              "      <th id=\"T_3464e_level0_col4\" class=\"col_heading level0 col4\" >perturbed_output</th>\n",
              "    </tr>\n",
              "  </thead>\n",
              "  <tbody>\n",
              "    <tr>\n",
              "      <th id=\"T_3464e_level0_row0\" class=\"row_heading level0 row0\" >Mary (0)</th>\n",
              "      <td id=\"T_3464e_row0_col0\" class=\"data row0 col0\" >0.000090</td>\n",
              "      <td id=\"T_3464e_row0_col1\" class=\"data row0 col1\" >0.000000</td>\n",
              "      <td id=\"T_3464e_row0_col2\" class=\"data row0 col2\" >0.679160</td>\n",
              "      <td id=\"T_3464e_row0_col3\" class=\"data row0 col3\" >  puts an apple in the box. The box is labelled 'pencils'. John enters the room. What does he think is in the box? Answer in 1 word.</td>\n",
              "      <td id=\"T_3464e_row0_col4\" class=\"data row0 col4\" >Pencils</td>\n",
              "    </tr>\n",
              "    <tr>\n",
              "      <th id=\"T_3464e_level0_row1\" class=\"row_heading level0 row1\" > puts (1)</th>\n",
              "      <td id=\"T_3464e_row1_col0\" class=\"data row1 col0\" >0.000905</td>\n",
              "      <td id=\"T_3464e_row1_col1\" class=\"data row1 col1\" >0.000000</td>\n",
              "      <td id=\"T_3464e_row1_col2\" class=\"data row1 col2\" >0.679160</td>\n",
              "      <td id=\"T_3464e_row1_col3\" class=\"data row1 col3\" >Mary  an apple in the box. The box is labelled 'pencils'. John enters the room. What does he think is in the box? Answer in 1 word.</td>\n",
              "      <td id=\"T_3464e_row1_col4\" class=\"data row1 col4\" >Pencils</td>\n",
              "    </tr>\n",
              "    <tr>\n",
              "      <th id=\"T_3464e_level0_row2\" class=\"row_heading level0 row2\" > an (2)</th>\n",
              "      <td id=\"T_3464e_row2_col0\" class=\"data row2 col0\" >0.000052</td>\n",
              "      <td id=\"T_3464e_row2_col1\" class=\"data row2 col1\" >0.000000</td>\n",
              "      <td id=\"T_3464e_row2_col2\" class=\"data row2 col2\" >0.679160</td>\n",
              "      <td id=\"T_3464e_row2_col3\" class=\"data row2 col3\" >Mary puts  apple in the box. The box is labelled 'pencils'. John enters the room. What does he think is in the box? Answer in 1 word.</td>\n",
              "      <td id=\"T_3464e_row2_col4\" class=\"data row2 col4\" >Pencils</td>\n",
              "    </tr>\n",
              "    <tr>\n",
              "      <th id=\"T_3464e_level0_row3\" class=\"row_heading level0 row3\" > apple (3)</th>\n",
              "      <td id=\"T_3464e_row3_col0\" class=\"data row3 col0\" >0.000290</td>\n",
              "      <td id=\"T_3464e_row3_col1\" class=\"data row3 col1\" >0.000000</td>\n",
              "      <td id=\"T_3464e_row3_col2\" class=\"data row3 col2\" >0.679160</td>\n",
              "      <td id=\"T_3464e_row3_col3\" class=\"data row3 col3\" >Mary puts an  in the box. The box is labelled 'pencils'. John enters the room. What does he think is in the box? Answer in 1 word.</td>\n",
              "      <td id=\"T_3464e_row3_col4\" class=\"data row3 col4\" >Pencils</td>\n",
              "    </tr>\n",
              "    <tr>\n",
              "      <th id=\"T_3464e_level0_row4\" class=\"row_heading level0 row4\" > in (4)</th>\n",
              "      <td id=\"T_3464e_row4_col0\" class=\"data row4 col0\" >0.000255</td>\n",
              "      <td id=\"T_3464e_row4_col1\" class=\"data row4 col1\" >0.000000</td>\n",
              "      <td id=\"T_3464e_row4_col2\" class=\"data row4 col2\" >0.056715</td>\n",
              "      <td id=\"T_3464e_row4_col3\" class=\"data row4 col3\" >Mary puts an apple  the box. The box is labelled 'pencils'. John enters the room. What does he think is in the box? Answer in 1 word.</td>\n",
              "      <td id=\"T_3464e_row4_col4\" class=\"data row4 col4\" >Pencils.</td>\n",
              "    </tr>\n",
              "    <tr>\n",
              "      <th id=\"T_3464e_level0_row5\" class=\"row_heading level0 row5\" > the (5)</th>\n",
              "      <td id=\"T_3464e_row5_col0\" class=\"data row5 col0\" >0.000069</td>\n",
              "      <td id=\"T_3464e_row5_col1\" class=\"data row5 col1\" >0.000000</td>\n",
              "      <td id=\"T_3464e_row5_col2\" class=\"data row5 col2\" >-0.098124</td>\n",
              "      <td id=\"T_3464e_row5_col3\" class=\"data row5 col3\" >Mary puts an apple in  box. The box is labelled 'pencils'. John enters the room. What does he think is in the box? Answer in 1 word.</td>\n",
              "      <td id=\"T_3464e_row5_col4\" class=\"data row5 col4\" >Pencils.</td>\n",
              "    </tr>\n",
              "    <tr>\n",
              "      <th id=\"T_3464e_level0_row6\" class=\"row_heading level0 row6\" > box (6)</th>\n",
              "      <td id=\"T_3464e_row6_col0\" class=\"data row6 col0\" >0.000039</td>\n",
              "      <td id=\"T_3464e_row6_col1\" class=\"data row6 col1\" >0.000000</td>\n",
              "      <td id=\"T_3464e_row6_col2\" class=\"data row6 col2\" >0.679160</td>\n",
              "      <td id=\"T_3464e_row6_col3\" class=\"data row6 col3\" >Mary puts an apple in the. The box is labelled 'pencils'. John enters the room. What does he think is in the box? Answer in 1 word.</td>\n",
              "      <td id=\"T_3464e_row6_col4\" class=\"data row6 col4\" >Pencils</td>\n",
              "    </tr>\n",
              "    <tr>\n",
              "      <th id=\"T_3464e_level0_row7\" class=\"row_heading level0 row7\" >. (7)</th>\n",
              "      <td id=\"T_3464e_row7_col0\" class=\"data row7 col0\" >0.000013</td>\n",
              "      <td id=\"T_3464e_row7_col1\" class=\"data row7 col1\" >0.000000</td>\n",
              "      <td id=\"T_3464e_row7_col2\" class=\"data row7 col2\" >0.679160</td>\n",
              "      <td id=\"T_3464e_row7_col3\" class=\"data row7 col3\" >Mary puts an apple in the box  The box is labelled 'pencils'. John enters the room. What does he think is in the box? Answer in 1 word.</td>\n",
              "      <td id=\"T_3464e_row7_col4\" class=\"data row7 col4\" >Pencils</td>\n",
              "    </tr>\n",
              "    <tr>\n",
              "      <th id=\"T_3464e_level0_row8\" class=\"row_heading level0 row8\" > The (8)</th>\n",
              "      <td id=\"T_3464e_row8_col0\" class=\"data row8 col0\" >0.000034</td>\n",
              "      <td id=\"T_3464e_row8_col1\" class=\"data row8 col1\" >0.000000</td>\n",
              "      <td id=\"T_3464e_row8_col2\" class=\"data row8 col2\" >0.679160</td>\n",
              "      <td id=\"T_3464e_row8_col3\" class=\"data row8 col3\" >Mary puts an apple in the box.  box is labelled 'pencils'. John enters the room. What does he think is in the box? Answer in 1 word.</td>\n",
              "      <td id=\"T_3464e_row8_col4\" class=\"data row8 col4\" >Pencils</td>\n",
              "    </tr>\n",
              "    <tr>\n",
              "      <th id=\"T_3464e_level0_row9\" class=\"row_heading level0 row9\" > box (9)</th>\n",
              "      <td id=\"T_3464e_row9_col0\" class=\"data row9 col0\" >0.000290</td>\n",
              "      <td id=\"T_3464e_row9_col1\" class=\"data row9 col1\" >0.000000</td>\n",
              "      <td id=\"T_3464e_row9_col2\" class=\"data row9 col2\" >0.679160</td>\n",
              "      <td id=\"T_3464e_row9_col3\" class=\"data row9 col3\" >Mary puts an apple in the box. The  is labelled 'pencils'. John enters the room. What does he think is in the box? Answer in 1 word.</td>\n",
              "      <td id=\"T_3464e_row9_col4\" class=\"data row9 col4\" >Pencils</td>\n",
              "    </tr>\n",
              "    <tr>\n",
              "      <th id=\"T_3464e_level0_row10\" class=\"row_heading level0 row10\" > is (10)</th>\n",
              "      <td id=\"T_3464e_row10_col0\" class=\"data row10 col0\" >0.000018</td>\n",
              "      <td id=\"T_3464e_row10_col1\" class=\"data row10 col1\" >0.000000</td>\n",
              "      <td id=\"T_3464e_row10_col2\" class=\"data row10 col2\" >-0.098126</td>\n",
              "      <td id=\"T_3464e_row10_col3\" class=\"data row10 col3\" >Mary puts an apple in the box. The box  labelled 'pencils'. John enters the room. What does he think is in the box? Answer in 1 word.</td>\n",
              "      <td id=\"T_3464e_row10_col4\" class=\"data row10 col4\" >Pencils.</td>\n",
              "    </tr>\n",
              "    <tr>\n",
              "      <th id=\"T_3464e_level0_row11\" class=\"row_heading level0 row11\" > labelled (11)</th>\n",
              "      <td id=\"T_3464e_row11_col0\" class=\"data row11 col0\" >0.000905</td>\n",
              "      <td id=\"T_3464e_row11_col1\" class=\"data row11 col1\" >0.000000</td>\n",
              "      <td id=\"T_3464e_row11_col2\" class=\"data row11 col2\" >0.679160</td>\n",
              "      <td id=\"T_3464e_row11_col3\" class=\"data row11 col3\" >Mary puts an apple in the box. The box is  'pencils'. John enters the room. What does he think is in the box? Answer in 1 word.</td>\n",
              "      <td id=\"T_3464e_row11_col4\" class=\"data row11 col4\" >Pencils</td>\n",
              "    </tr>\n",
              "    <tr>\n",
              "      <th id=\"T_3464e_level0_row12\" class=\"row_heading level0 row12\" > ' (12)</th>\n",
              "      <td id=\"T_3464e_row12_col0\" class=\"data row12 col0\" >0.000152</td>\n",
              "      <td id=\"T_3464e_row12_col1\" class=\"data row12 col1\" >0.000000</td>\n",
              "      <td id=\"T_3464e_row12_col2\" class=\"data row12 col2\" >0.179291</td>\n",
              "      <td id=\"T_3464e_row12_col3\" class=\"data row12 col3\" >Mary puts an apple in the box. The box is labelled pencils'. John enters the room. What does he think is in the box? Answer in 1 word.</td>\n",
              "      <td id=\"T_3464e_row12_col4\" class=\"data row12 col4\" >Pencils.</td>\n",
              "    </tr>\n",
              "    <tr>\n",
              "      <th id=\"T_3464e_level0_row13\" class=\"row_heading level0 row13\" >pen (13)</th>\n",
              "      <td id=\"T_3464e_row13_col0\" class=\"data row13 col0\" >0.053105</td>\n",
              "      <td id=\"T_3464e_row13_col1\" class=\"data row13 col1\" >0.731171</td>\n",
              "      <td id=\"T_3464e_row13_col2\" class=\"data row13 col2\" >0.679160</td>\n",
              "      <td id=\"T_3464e_row13_col3\" class=\"data row13 col3\" >Mary puts an apple in the box. The box is labelled'cils'. John enters the room. What does he think is in the box? Answer in 1 word.</td>\n",
              "      <td id=\"T_3464e_row13_col4\" class=\"data row13 col4\" >Pencil</td>\n",
              "    </tr>\n",
              "    <tr>\n",
              "      <th id=\"T_3464e_level0_row14\" class=\"row_heading level0 row14\" >cil (14)</th>\n",
              "      <td id=\"T_3464e_row14_col0\" class=\"data row14 col0\" >0.999949</td>\n",
              "      <td id=\"T_3464e_row14_col1\" class=\"data row14 col1\" >1.000000</td>\n",
              "      <td id=\"T_3464e_row14_col2\" class=\"data row14 col2\" >-0.201615</td>\n",
              "      <td id=\"T_3464e_row14_col3\" class=\"data row14 col3\" >Mary puts an apple in the box. The box is labelled 'pen s'. John enters the room. What does he think is in the box? Answer in 1 word.</td>\n",
              "      <td id=\"T_3464e_row14_col4\" class=\"data row14 col4\" >Pens.</td>\n",
              "    </tr>\n",
              "    <tr>\n",
              "      <th id=\"T_3464e_level0_row15\" class=\"row_heading level0 row15\" >s (15)</th>\n",
              "      <td id=\"T_3464e_row15_col0\" class=\"data row15 col0\" >0.000034</td>\n",
              "      <td id=\"T_3464e_row15_col1\" class=\"data row15 col1\" >0.998830</td>\n",
              "      <td id=\"T_3464e_row15_col2\" class=\"data row15 col2\" >0.679160</td>\n",
              "      <td id=\"T_3464e_row15_col3\" class=\"data row15 col3\" >Mary puts an apple in the box. The box is labelled 'pencil '. John enters the room. What does he think is in the box? Answer in 1 word.</td>\n",
              "      <td id=\"T_3464e_row15_col4\" class=\"data row15 col4\" >Pencil</td>\n",
              "    </tr>\n",
              "    <tr>\n",
              "      <th id=\"T_3464e_level0_row16\" class=\"row_heading level0 row16\" >'. (16)</th>\n",
              "      <td id=\"T_3464e_row16_col0\" class=\"data row16 col0\" >0.000025</td>\n",
              "      <td id=\"T_3464e_row16_col1\" class=\"data row16 col1\" >0.000000</td>\n",
              "      <td id=\"T_3464e_row16_col2\" class=\"data row16 col2\" >0.679160</td>\n",
              "      <td id=\"T_3464e_row16_col3\" class=\"data row16 col3\" >Mary puts an apple in the box. The box is labelled 'pencils  John enters the room. What does he think is in the box? Answer in 1 word.</td>\n",
              "      <td id=\"T_3464e_row16_col4\" class=\"data row16 col4\" >Pencils</td>\n",
              "    </tr>\n",
              "    <tr>\n",
              "      <th id=\"T_3464e_level0_row17\" class=\"row_heading level0 row17\" > John (17)</th>\n",
              "      <td id=\"T_3464e_row17_col0\" class=\"data row17 col0\" >0.000026</td>\n",
              "      <td id=\"T_3464e_row17_col1\" class=\"data row17 col1\" >0.000000</td>\n",
              "      <td id=\"T_3464e_row17_col2\" class=\"data row17 col2\" >0.679160</td>\n",
              "      <td id=\"T_3464e_row17_col3\" class=\"data row17 col3\" >Mary puts an apple in the box. The box is labelled 'pencils'.  enters the room. What does he think is in the box? Answer in 1 word.</td>\n",
              "      <td id=\"T_3464e_row17_col4\" class=\"data row17 col4\" >Pencils</td>\n",
              "    </tr>\n",
              "    <tr>\n",
              "      <th id=\"T_3464e_level0_row18\" class=\"row_heading level0 row18\" > enters (18)</th>\n",
              "      <td id=\"T_3464e_row18_col0\" class=\"data row18 col0\" >0.000030</td>\n",
              "      <td id=\"T_3464e_row18_col1\" class=\"data row18 col1\" >0.000000</td>\n",
              "      <td id=\"T_3464e_row18_col2\" class=\"data row18 col2\" >-0.051878</td>\n",
              "      <td id=\"T_3464e_row18_col3\" class=\"data row18 col3\" >Mary puts an apple in the box. The box is labelled 'pencils'. John  the room. What does he think is in the box? Answer in 1 word.</td>\n",
              "      <td id=\"T_3464e_row18_col4\" class=\"data row18 col4\" >Pencils.</td>\n",
              "    </tr>\n",
              "    <tr>\n",
              "      <th id=\"T_3464e_level0_row19\" class=\"row_heading level0 row19\" > the (19)</th>\n",
              "      <td id=\"T_3464e_row19_col0\" class=\"data row19 col0\" >0.000034</td>\n",
              "      <td id=\"T_3464e_row19_col1\" class=\"data row19 col1\" >0.000000</td>\n",
              "      <td id=\"T_3464e_row19_col2\" class=\"data row19 col2\" >-0.051878</td>\n",
              "      <td id=\"T_3464e_row19_col3\" class=\"data row19 col3\" >Mary puts an apple in the box. The box is labelled 'pencils'. John enters  room. What does he think is in the box? Answer in 1 word.</td>\n",
              "      <td id=\"T_3464e_row19_col4\" class=\"data row19 col4\" >Pencils.</td>\n",
              "    </tr>\n",
              "    <tr>\n",
              "      <th id=\"T_3464e_level0_row20\" class=\"row_heading level0 row20\" > room (20)</th>\n",
              "      <td id=\"T_3464e_row20_col0\" class=\"data row20 col0\" >0.000079</td>\n",
              "      <td id=\"T_3464e_row20_col1\" class=\"data row20 col1\" >0.000000</td>\n",
              "      <td id=\"T_3464e_row20_col2\" class=\"data row20 col2\" >0.679160</td>\n",
              "      <td id=\"T_3464e_row20_col3\" class=\"data row20 col3\" >Mary puts an apple in the box. The box is labelled 'pencils'. John enters the. What does he think is in the box? Answer in 1 word.</td>\n",
              "      <td id=\"T_3464e_row20_col4\" class=\"data row20 col4\" >Pencils</td>\n",
              "    </tr>\n",
              "    <tr>\n",
              "      <th id=\"T_3464e_level0_row21\" class=\"row_heading level0 row21\" >. (21)</th>\n",
              "      <td id=\"T_3464e_row21_col0\" class=\"data row21 col0\" >0.000015</td>\n",
              "      <td id=\"T_3464e_row21_col1\" class=\"data row21 col1\" >0.000000</td>\n",
              "      <td id=\"T_3464e_row21_col2\" class=\"data row21 col2\" >-0.201624</td>\n",
              "      <td id=\"T_3464e_row21_col3\" class=\"data row21 col3\" >Mary puts an apple in the box. The box is labelled 'pencils'. John enters the room  What does he think is in the box? Answer in 1 word.</td>\n",
              "      <td id=\"T_3464e_row21_col4\" class=\"data row21 col4\" >Pencils.</td>\n",
              "    </tr>\n",
              "    <tr>\n",
              "      <th id=\"T_3464e_level0_row22\" class=\"row_heading level0 row22\" > What (22)</th>\n",
              "      <td id=\"T_3464e_row22_col0\" class=\"data row22 col0\" >0.000005</td>\n",
              "      <td id=\"T_3464e_row22_col1\" class=\"data row22 col1\" >0.000000</td>\n",
              "      <td id=\"T_3464e_row22_col2\" class=\"data row22 col2\" >-0.172758</td>\n",
              "      <td id=\"T_3464e_row22_col3\" class=\"data row22 col3\" >Mary puts an apple in the box. The box is labelled 'pencils'. John enters the room.  does he think is in the box? Answer in 1 word.</td>\n",
              "      <td id=\"T_3464e_row22_col4\" class=\"data row22 col4\" >Pencils.</td>\n",
              "    </tr>\n",
              "    <tr>\n",
              "      <th id=\"T_3464e_level0_row23\" class=\"row_heading level0 row23\" > does (23)</th>\n",
              "      <td id=\"T_3464e_row23_col0\" class=\"data row23 col0\" >0.000134</td>\n",
              "      <td id=\"T_3464e_row23_col1\" class=\"data row23 col1\" >0.000000</td>\n",
              "      <td id=\"T_3464e_row23_col2\" class=\"data row23 col2\" >0.679160</td>\n",
              "      <td id=\"T_3464e_row23_col3\" class=\"data row23 col3\" >Mary puts an apple in the box. The box is labelled 'pencils'. John enters the room. What  he think is in the box? Answer in 1 word.</td>\n",
              "      <td id=\"T_3464e_row23_col4\" class=\"data row23 col4\" >Pencils</td>\n",
              "    </tr>\n",
              "    <tr>\n",
              "      <th id=\"T_3464e_level0_row24\" class=\"row_heading level0 row24\" > he (24)</th>\n",
              "      <td id=\"T_3464e_row24_col0\" class=\"data row24 col0\" >0.001038</td>\n",
              "      <td id=\"T_3464e_row24_col1\" class=\"data row24 col1\" >0.000000</td>\n",
              "      <td id=\"T_3464e_row24_col2\" class=\"data row24 col2\" >0.056723</td>\n",
              "      <td id=\"T_3464e_row24_col3\" class=\"data row24 col3\" >Mary puts an apple in the box. The box is labelled 'pencils'. John enters the room. What does  think is in the box? Answer in 1 word.</td>\n",
              "      <td id=\"T_3464e_row24_col4\" class=\"data row24 col4\" >Pencils.</td>\n",
              "    </tr>\n",
              "    <tr>\n",
              "      <th id=\"T_3464e_level0_row25\" class=\"row_heading level0 row25\" > think (25)</th>\n",
              "      <td id=\"T_3464e_row25_col0\" class=\"data row25 col0\" >0.000079</td>\n",
              "      <td id=\"T_3464e_row25_col1\" class=\"data row25 col1\" >0.000000</td>\n",
              "      <td id=\"T_3464e_row25_col2\" class=\"data row25 col2\" >-0.051871</td>\n",
              "      <td id=\"T_3464e_row25_col3\" class=\"data row25 col3\" >Mary puts an apple in the box. The box is labelled 'pencils'. John enters the room. What does he  is in the box? Answer in 1 word.</td>\n",
              "      <td id=\"T_3464e_row25_col4\" class=\"data row25 col4\" >Pencils.</td>\n",
              "    </tr>\n",
              "    <tr>\n",
              "      <th id=\"T_3464e_level0_row26\" class=\"row_heading level0 row26\" > is (26)</th>\n",
              "      <td id=\"T_3464e_row26_col0\" class=\"data row26 col0\" >0.000018</td>\n",
              "      <td id=\"T_3464e_row26_col1\" class=\"data row26 col1\" >0.000000</td>\n",
              "      <td id=\"T_3464e_row26_col2\" class=\"data row26 col2\" >-0.051881</td>\n",
              "      <td id=\"T_3464e_row26_col3\" class=\"data row26 col3\" >Mary puts an apple in the box. The box is labelled 'pencils'. John enters the room. What does he think  in the box? Answer in 1 word.</td>\n",
              "      <td id=\"T_3464e_row26_col4\" class=\"data row26 col4\" >Pencils.</td>\n",
              "    </tr>\n",
              "    <tr>\n",
              "      <th id=\"T_3464e_level0_row27\" class=\"row_heading level0 row27\" > in (27)</th>\n",
              "      <td id=\"T_3464e_row27_col0\" class=\"data row27 col0\" >0.000010</td>\n",
              "      <td id=\"T_3464e_row27_col1\" class=\"data row27 col1\" >0.000000</td>\n",
              "      <td id=\"T_3464e_row27_col2\" class=\"data row27 col2\" >-0.201610</td>\n",
              "      <td id=\"T_3464e_row27_col3\" class=\"data row27 col3\" >Mary puts an apple in the box. The box is labelled 'pencils'. John enters the room. What does he think is  the box? Answer in 1 word.</td>\n",
              "      <td id=\"T_3464e_row27_col4\" class=\"data row27 col4\" >Pencils.</td>\n",
              "    </tr>\n",
              "    <tr>\n",
              "      <th id=\"T_3464e_level0_row28\" class=\"row_heading level0 row28\" > the (28)</th>\n",
              "      <td id=\"T_3464e_row28_col0\" class=\"data row28 col0\" >0.000021</td>\n",
              "      <td id=\"T_3464e_row28_col1\" class=\"data row28 col1\" >0.000000</td>\n",
              "      <td id=\"T_3464e_row28_col2\" class=\"data row28 col2\" >0.179186</td>\n",
              "      <td id=\"T_3464e_row28_col3\" class=\"data row28 col3\" >Mary puts an apple in the box. The box is labelled 'pencils'. John enters the room. What does he think is in  box? Answer in 1 word.</td>\n",
              "      <td id=\"T_3464e_row28_col4\" class=\"data row28 col4\" >Pencils.</td>\n",
              "    </tr>\n",
              "    <tr>\n",
              "      <th id=\"T_3464e_level0_row29\" class=\"row_heading level0 row29\" > box (29)</th>\n",
              "      <td id=\"T_3464e_row29_col0\" class=\"data row29 col0\" >0.000060</td>\n",
              "      <td id=\"T_3464e_row29_col1\" class=\"data row29 col1\" >0.000000</td>\n",
              "      <td id=\"T_3464e_row29_col2\" class=\"data row29 col2\" >-0.051884</td>\n",
              "      <td id=\"T_3464e_row29_col3\" class=\"data row29 col3\" >Mary puts an apple in the box. The box is labelled 'pencils'. John enters the room. What does he think is in the? Answer in 1 word.</td>\n",
              "      <td id=\"T_3464e_row29_col4\" class=\"data row29 col4\" >Pencils.</td>\n",
              "    </tr>\n",
              "    <tr>\n",
              "      <th id=\"T_3464e_level0_row30\" class=\"row_heading level0 row30\" >? (30)</th>\n",
              "      <td id=\"T_3464e_row30_col0\" class=\"data row30 col0\" >0.000134</td>\n",
              "      <td id=\"T_3464e_row30_col1\" class=\"data row30 col1\" >0.000000</td>\n",
              "      <td id=\"T_3464e_row30_col2\" class=\"data row30 col2\" >-0.051863</td>\n",
              "      <td id=\"T_3464e_row30_col3\" class=\"data row30 col3\" >Mary puts an apple in the box. The box is labelled 'pencils'. John enters the room. What does he think is in the box  Answer in 1 word.</td>\n",
              "      <td id=\"T_3464e_row30_col4\" class=\"data row30 col4\" >Pencils.</td>\n",
              "    </tr>\n",
              "    <tr>\n",
              "      <th id=\"T_3464e_level0_row31\" class=\"row_heading level0 row31\" > Answer (31)</th>\n",
              "      <td id=\"T_3464e_row31_col0\" class=\"data row31 col0\" >0.002177</td>\n",
              "      <td id=\"T_3464e_row31_col1\" class=\"data row31 col1\" >0.000000</td>\n",
              "      <td id=\"T_3464e_row31_col2\" class=\"data row31 col2\" >0.679160</td>\n",
              "      <td id=\"T_3464e_row31_col3\" class=\"data row31 col3\" >Mary puts an apple in the box. The box is labelled 'pencils'. John enters the room. What does he think is in the box?  in 1 word.</td>\n",
              "      <td id=\"T_3464e_row31_col4\" class=\"data row31 col4\" >Pencils</td>\n",
              "    </tr>\n",
              "    <tr>\n",
              "      <th id=\"T_3464e_level0_row32\" class=\"row_heading level0 row32\" > in (32)</th>\n",
              "      <td id=\"T_3464e_row32_col0\" class=\"data row32 col0\" >0.001164</td>\n",
              "      <td id=\"T_3464e_row32_col1\" class=\"data row32 col1\" >0.000000</td>\n",
              "      <td id=\"T_3464e_row32_col2\" class=\"data row32 col2\" >0.179181</td>\n",
              "      <td id=\"T_3464e_row32_col3\" class=\"data row32 col3\" >Mary puts an apple in the box. The box is labelled 'pencils'. John enters the room. What does he think is in the box? Answer  1 word.</td>\n",
              "      <td id=\"T_3464e_row32_col4\" class=\"data row32 col4\" >Pencils.</td>\n",
              "    </tr>\n",
              "    <tr>\n",
              "      <th id=\"T_3464e_level0_row33\" class=\"row_heading level0 row33\" > 1 (33)</th>\n",
              "      <td id=\"T_3464e_row33_col0\" class=\"data row33 col0\" >0.000051</td>\n",
              "      <td id=\"T_3464e_row33_col1\" class=\"data row33 col1\" >0.000000</td>\n",
              "      <td id=\"T_3464e_row33_col2\" class=\"data row33 col2\" >-0.098123</td>\n",
              "      <td id=\"T_3464e_row33_col3\" class=\"data row33 col3\" >Mary puts an apple in the box. The box is labelled 'pencils'. John enters the room. What does he think is in the box? Answer in  word.</td>\n",
              "      <td id=\"T_3464e_row33_col4\" class=\"data row33 col4\" >Pencils.</td>\n",
              "    </tr>\n",
              "    <tr>\n",
              "      <th id=\"T_3464e_level0_row34\" class=\"row_heading level0 row34\" > word (34)</th>\n",
              "      <td id=\"T_3464e_row34_col0\" class=\"data row34 col0\" >0.000416</td>\n",
              "      <td id=\"T_3464e_row34_col1\" class=\"data row34 col1\" >0.000000</td>\n",
              "      <td id=\"T_3464e_row34_col2\" class=\"data row34 col2\" >-0.317658</td>\n",
              "      <td id=\"T_3464e_row34_col3\" class=\"data row34 col3\" >Mary puts an apple in the box. The box is labelled 'pencils'. John enters the room. What does he think is in the box? Answer in 1.</td>\n",
              "      <td id=\"T_3464e_row34_col4\" class=\"data row34 col4\" >Pencils.</td>\n",
              "    </tr>\n",
              "    <tr>\n",
              "      <th id=\"T_3464e_level0_row35\" class=\"row_heading level0 row35\" >. (35)</th>\n",
              "      <td id=\"T_3464e_row35_col0\" class=\"data row35 col0\" >0.000052</td>\n",
              "      <td id=\"T_3464e_row35_col1\" class=\"data row35 col1\" >0.000000</td>\n",
              "      <td id=\"T_3464e_row35_col2\" class=\"data row35 col2\" >0.679160</td>\n",
              "      <td id=\"T_3464e_row35_col3\" class=\"data row35 col3\" >Mary puts an apple in the box. The box is labelled 'pencils'. John enters the room. What does he think is in the box? Answer in 1 word </td>\n",
              "      <td id=\"T_3464e_row35_col4\" class=\"data row35 col4\" >Pencils</td>\n",
              "    </tr>\n",
              "  </tbody>\n",
              "</table>\n"
            ],
            "text/plain": [
              "<pandas.io.formats.style.Styler at 0x2a3e2bd10>"
            ]
          },
          "metadata": {},
          "output_type": "display_data"
        }
      ],
      "source": [
        "gpt4_logger.print_total_attribution()\n",
        "gpt4_logger.print_attribution_matrix(show_debug_cols=True)"
      ]
    },
    {
      "cell_type": "markdown",
      "metadata": {},
      "source": [
        "We could replace each token with something other than an empty string, if we wanted. We can also perturb by word, instead of by token. This has the nice side effect of making attribution computation a bit faster and cheaper."
      ]
    },
    {
      "cell_type": "code",
      "execution_count": 12,
      "metadata": {},
      "outputs": [
        {
          "ename": "ValueError",
          "evalue": "The replacement token must be a single token, or empty.",
          "output_type": "error",
          "traceback": [
            "\u001b[0;31m---------------------------------------------------------------------------\u001b[0m",
            "\u001b[0;31mValueError\u001b[0m                                Traceback (most recent call last)",
            "Cell \u001b[0;32mIn[12], line 3\u001b[0m\n\u001b[1;32m      1\u001b[0m \u001b[38;5;28;01mawait\u001b[39;00m gpt4_attributor\u001b[38;5;241m.\u001b[39mcompute_attributions(\n\u001b[1;32m      2\u001b[0m     input_str,\n\u001b[0;32m----> 3\u001b[0m     perturbation_strategy\u001b[38;5;241m=\u001b[39m\u001b[43mFixedPerturbationStrategy\u001b[49m\u001b[43m(\u001b[49m\u001b[38;5;124;43m\"\u001b[39;49m\u001b[38;5;124;43m[REDACTED]\u001b[39;49m\u001b[38;5;124;43m\"\u001b[39;49m\u001b[43m)\u001b[49m,\n\u001b[1;32m      4\u001b[0m     attribution_strategies\u001b[38;5;241m=\u001b[39m[\u001b[38;5;124m\"\u001b[39m\u001b[38;5;124mprob_diff\u001b[39m\u001b[38;5;124m\"\u001b[39m],\n\u001b[1;32m      5\u001b[0m     logger\u001b[38;5;241m=\u001b[39mgpt4_logger,\n\u001b[1;32m      6\u001b[0m     perturb_word_wise\u001b[38;5;241m=\u001b[39m\u001b[38;5;28;01mTrue\u001b[39;00m\n\u001b[1;32m      7\u001b[0m )\n\u001b[1;32m      9\u001b[0m \u001b[38;5;28mprint\u001b[39m(\u001b[38;5;124m\"\u001b[39m\u001b[38;5;124mExperiments so far:\u001b[39m\u001b[38;5;124m\"\u001b[39m)\n\u001b[1;32m     10\u001b[0m display(gpt4_logger\u001b[38;5;241m.\u001b[39mdf_experiments)\n",
            "File \u001b[0;32m~/PIZZA/attribution/token_perturbation.py:19\u001b[0m, in \u001b[0;36mFixedPerturbationStrategy.__init__\u001b[0;34m(self, replacement_token, tokenizer)\u001b[0m\n\u001b[1;32m     17\u001b[0m replacement_token \u001b[38;5;241m=\u001b[39m \u001b[38;5;28mself\u001b[39m\u001b[38;5;241m.\u001b[39mtokenizer\u001b[38;5;241m.\u001b[39mencode(\u001b[38;5;28mself\u001b[39m\u001b[38;5;241m.\u001b[39mreplacement_token, add_special_tokens\u001b[38;5;241m=\u001b[39m\u001b[38;5;28;01mFalse\u001b[39;00m)\n\u001b[1;32m     18\u001b[0m \u001b[38;5;28;01mif\u001b[39;00m \u001b[38;5;28mlen\u001b[39m(replacement_token) \u001b[38;5;241m>\u001b[39m \u001b[38;5;241m1\u001b[39m:\n\u001b[0;32m---> 19\u001b[0m     \u001b[38;5;28;01mraise\u001b[39;00m \u001b[38;5;167;01mValueError\u001b[39;00m(\u001b[38;5;124m\"\u001b[39m\u001b[38;5;124mThe replacement token must be a single token, or empty.\u001b[39m\u001b[38;5;124m\"\u001b[39m)\n\u001b[1;32m     20\u001b[0m \u001b[38;5;28mself\u001b[39m\u001b[38;5;241m.\u001b[39mreplacement_token \u001b[38;5;241m=\u001b[39m replacement_token[\u001b[38;5;241m0\u001b[39m]\n",
            "\u001b[0;31mValueError\u001b[0m: The replacement token must be a single token, or empty."
          ]
        }
      ],
      "source": [
        "await gpt4_attributor.compute_attributions(\n",
        "    input_str,\n",
        "    perturbation_strategy=FixedPerturbationStrategy(\"[REDACTED]\"),\n",
        "    attribution_strategies=[\"prob_diff\"],\n",
        "    logger=gpt4_logger,\n",
        "    perturb_word_wise=True\n",
        ")\n",
        "\n",
        "print(\"Experiments so far:\")\n",
        "display(gpt4_logger.df_experiments)\n",
        "\n",
        "print(\"\\nResults with word-wise perturbation:\")\n",
        "gpt4_logger.print_text_attribution_matrix(exp_id=-1)\n",
        "\n",
        "gpt4_logger.print_attribution_matrix(show_debug_cols=True)"
      ]
    },
    {
      "cell_type": "markdown",
      "metadata": {},
      "source": [
        "Note how the logger is keeping track of all our experiments! Omit the 'exp_id' argument to display all."
      ]
    },
    {
      "cell_type": "code",
      "execution_count": null,
      "metadata": {},
      "outputs": [
        {
          "data": {
            "text/html": [
              "<div style=\"font-family: monospace;\"><span style=\"text-decoration: underline; text-decoration-color: #e9d5cb; text-decoration-thickness: 4px;\">Mary</span><span style=\"text-decoration: underline; text-decoration-color: #f6bda2; text-decoration-thickness: 4px;\"> puts</span><span style=\"text-decoration: underline; text-decoration-color: #e6d7cf; text-decoration-thickness: 4px;\"> an</span><span style=\"text-decoration: underline; text-decoration-color: #e6d7cf; text-decoration-thickness: 4px;\"> apple</span><span style=\"text-decoration: underline; text-decoration-color: #e4d9d2; text-decoration-thickness: 4px;\"> in</span><span style=\"text-decoration: underline; text-decoration-color: #e9d5cb; text-decoration-thickness: 4px;\"> the</span><span style=\"text-decoration: underline; text-decoration-color: #e9d5cb; text-decoration-thickness: 4px;\"> box</span><span style=\"text-decoration: underline; text-decoration-color: #edd2c3; text-decoration-thickness: 4px;\">.</span><span style=\"text-decoration: underline; text-decoration-color: #edd2c3; text-decoration-thickness: 4px;\"> The</span><span style=\"text-decoration: underline; text-decoration-color: #e9d5cb; text-decoration-thickness: 4px;\"> box</span><span style=\"text-decoration: underline; text-decoration-color: #e9d5cb; text-decoration-thickness: 4px;\"> is</span><span style=\"text-decoration: underline; text-decoration-color: #ead4c8; text-decoration-thickness: 4px;\"> labelled</span><span style=\"text-decoration: underline; text-decoration-color: #e6d7cf; text-decoration-thickness: 4px;\"> '</span><span style=\"text-decoration: underline; text-decoration-color: #f39778; text-decoration-thickness: 4px;\">pen</span><span style=\"text-decoration: underline; text-decoration-color: #ba162b; text-decoration-thickness: 4px;\">cil</span><span style=\"text-decoration: underline; text-decoration-color: #ea7b60; text-decoration-thickness: 4px;\">s</span><span style=\"text-decoration: underline; text-decoration-color: #f6bda2; text-decoration-thickness: 4px;\">'.</span><span style=\"text-decoration: underline; text-decoration-color: #f6bda2; text-decoration-thickness: 4px;\"> John</span><span style=\"text-decoration: underline; text-decoration-color: #edd2c3; text-decoration-thickness: 4px;\"> enters</span><span style=\"text-decoration: underline; text-decoration-color: #e0dbd8; text-decoration-thickness: 4px;\"> the</span><span style=\"text-decoration: underline; text-decoration-color: #edd2c3; text-decoration-thickness: 4px;\"> room</span><span style=\"text-decoration: underline; text-decoration-color: #f6bda2; text-decoration-thickness: 4px;\">.</span><span style=\"text-decoration: underline; text-decoration-color: #e0dbd8; text-decoration-thickness: 4px;\"> What</span><span style=\"text-decoration: underline; text-decoration-color: #f6bda2; text-decoration-thickness: 4px;\"> does</span><span style=\"text-decoration: underline; text-decoration-color: #f6bda2; text-decoration-thickness: 4px;\"> he</span><span style=\"text-decoration: underline; text-decoration-color: #e2dad5; text-decoration-thickness: 4px;\"> think</span><span style=\"text-decoration: underline; text-decoration-color: #ead4c8; text-decoration-thickness: 4px;\"> is</span><span style=\"text-decoration: underline; text-decoration-color: #e0dbd8; text-decoration-thickness: 4px;\"> in</span><span style=\"text-decoration: underline; text-decoration-color: #edd2c3; text-decoration-thickness: 4px;\"> the</span><span style=\"text-decoration: underline; text-decoration-color: #f6bda2; text-decoration-thickness: 4px;\"> box</span><span style=\"text-decoration: underline; text-decoration-color: #e2dad5; text-decoration-thickness: 4px;\">?</span><span style=\"text-decoration: underline; text-decoration-color: #f6bda2; text-decoration-thickness: 4px;\"> Answer</span><span style=\"text-decoration: underline; text-decoration-color: #f6bda2; text-decoration-thickness: 4px;\"> in</span><span style=\"text-decoration: underline; text-decoration-color: #e2dad5; text-decoration-thickness: 4px;\"> 1</span><span style=\"text-decoration: underline; text-decoration-color: #d9dce1; text-decoration-thickness: 4px;\"> word</span><span style=\"text-decoration: underline; text-decoration-color: #f6bda2; text-decoration-thickness: 4px;\">.</span> -> <b>Pencils.</b></div>"
            ],
            "text/plain": [
              "<IPython.core.display.HTML object>"
            ]
          },
          "metadata": {},
          "output_type": "display_data"
        },
        {
          "data": {
            "text/html": [
              "<div style=\"font-family: monospace;\"><span style=\"text-decoration: underline; text-decoration-color: #f6bda2; text-decoration-thickness: 4px;\">Mary</span><span style=\"text-decoration: underline; text-decoration-color: #f6bda2; text-decoration-thickness: 4px;\"> puts</span><span style=\"text-decoration: underline; text-decoration-color: #f6bda2; text-decoration-thickness: 4px;\"> an</span><span style=\"text-decoration: underline; text-decoration-color: #ead4c8; text-decoration-thickness: 4px;\"> apple</span><span style=\"text-decoration: underline; text-decoration-color: #ead4c8; text-decoration-thickness: 4px;\"> in</span><span style=\"text-decoration: underline; text-decoration-color: #e6d7cf; text-decoration-thickness: 4px;\"> the</span><span style=\"text-decoration: underline; text-decoration-color: #f7bca1; text-decoration-thickness: 4px;\"> box</span><span style=\"text-decoration: underline; text-decoration-color: #f7bca1; text-decoration-thickness: 4px;\">.</span><span style=\"text-decoration: underline; text-decoration-color: #f6bda2; text-decoration-thickness: 4px;\"> The</span><span style=\"text-decoration: underline; text-decoration-color: #ead4c8; text-decoration-thickness: 4px;\"> box</span><span style=\"text-decoration: underline; text-decoration-color: #edd2c3; text-decoration-thickness: 4px;\"> is</span><span style=\"text-decoration: underline; text-decoration-color: #f7bca1; text-decoration-thickness: 4px;\"> labelled</span><span style=\"text-decoration: underline; text-decoration-color: #ba162b; text-decoration-thickness: 4px;\"> '</span><span style=\"text-decoration: underline; text-decoration-color: #ba162b; text-decoration-thickness: 4px;\">pen</span><span style=\"text-decoration: underline; text-decoration-color: #ba162b; text-decoration-thickness: 4px;\">cil</span><span style=\"text-decoration: underline; text-decoration-color: #ba162b; text-decoration-thickness: 4px;\">s</span><span style=\"text-decoration: underline; text-decoration-color: #ba162b; text-decoration-thickness: 4px;\">'.</span><span style=\"text-decoration: underline; text-decoration-color: #f6bda2; text-decoration-thickness: 4px;\"> John</span><span style=\"text-decoration: underline; text-decoration-color: #f6bda2; text-decoration-thickness: 4px;\"> enters</span><span style=\"text-decoration: underline; text-decoration-color: #e2dad5; text-decoration-thickness: 4px;\"> the</span><span style=\"text-decoration: underline; text-decoration-color: #ee8669; text-decoration-thickness: 4px;\"> room</span><span style=\"text-decoration: underline; text-decoration-color: #ee8669; text-decoration-thickness: 4px;\">.</span><span style=\"text-decoration: underline; text-decoration-color: #f6bda2; text-decoration-thickness: 4px;\"> What</span><span style=\"text-decoration: underline; text-decoration-color: #edd2c3; text-decoration-thickness: 4px;\"> does</span><span style=\"text-decoration: underline; text-decoration-color: #efcebd; text-decoration-thickness: 4px;\"> he</span><span style=\"text-decoration: underline; text-decoration-color: #f7ba9f; text-decoration-thickness: 4px;\"> think</span><span style=\"text-decoration: underline; text-decoration-color: #f6bda2; text-decoration-thickness: 4px;\"> is</span><span style=\"text-decoration: underline; text-decoration-color: #e4d9d2; text-decoration-thickness: 4px;\"> in</span><span style=\"text-decoration: underline; text-decoration-color: #f6bda2; text-decoration-thickness: 4px;\"> the</span><span style=\"text-decoration: underline; text-decoration-color: #ea7b60; text-decoration-thickness: 4px;\"> box</span><span style=\"text-decoration: underline; text-decoration-color: #ea7b60; text-decoration-thickness: 4px;\">?</span><span style=\"text-decoration: underline; text-decoration-color: #f6bda2; text-decoration-thickness: 4px;\"> Answer</span><span style=\"text-decoration: underline; text-decoration-color: #f7bca1; text-decoration-thickness: 4px;\"> in</span><span style=\"text-decoration: underline; text-decoration-color: #e4d9d2; text-decoration-thickness: 4px;\"> 1</span><span style=\"text-decoration: underline; text-decoration-color: #eb7d62; text-decoration-thickness: 4px;\"> word</span><span style=\"text-decoration: underline; text-decoration-color: #eb7d62; text-decoration-thickness: 4px;\">.</span> -> <b>Pencils.</b></div>"
            ],
            "text/plain": [
              "<IPython.core.display.HTML object>"
            ]
          },
          "metadata": {},
          "output_type": "display_data"
        },
        {
          "data": {
            "text/html": [
              "<style type=\"text/css\">\n",
              "#T_41427_row0_col0, #T_41427_row0_col1, #T_41427_row0_col2, #T_41427_row0_col3, #T_41427_row0_col4, #T_41427_row0_col5, #T_41427_row0_col6, #T_41427_row0_col7, #T_41427_row0_col8, #T_41427_row0_col9, #T_41427_row0_col10, #T_41427_row0_col11, #T_41427_row0_col12, #T_41427_row0_col13, #T_41427_row0_col14, #T_41427_row0_col15, #T_41427_row0_col16, #T_41427_row0_col17, #T_41427_row0_col18, #T_41427_row0_col19, #T_41427_row0_col20, #T_41427_row0_col21, #T_41427_row0_col22, #T_41427_row0_col23, #T_41427_row0_col24, #T_41427_row0_col25, #T_41427_row0_col26, #T_41427_row0_col27, #T_41427_row0_col28, #T_41427_row0_col29, #T_41427_row0_col30, #T_41427_row0_col31, #T_41427_row0_col32, #T_41427_row0_col33, #T_41427_row0_col34, #T_41427_row0_col35, #T_41427_row0_col36, #T_41427_row0_col37, #T_41427_row0_col38, #T_41427_row0_col39, #T_41427_row1_col0, #T_41427_row1_col1, #T_41427_row1_col2, #T_41427_row1_col3, #T_41427_row1_col4, #T_41427_row1_col5, #T_41427_row1_col6, #T_41427_row1_col7, #T_41427_row1_col8, #T_41427_row1_col9, #T_41427_row1_col10, #T_41427_row1_col11, #T_41427_row1_col12, #T_41427_row1_col13, #T_41427_row1_col14, #T_41427_row1_col15, #T_41427_row1_col16, #T_41427_row1_col17, #T_41427_row1_col18, #T_41427_row1_col19, #T_41427_row1_col20, #T_41427_row1_col21, #T_41427_row1_col22, #T_41427_row1_col23, #T_41427_row1_col24, #T_41427_row1_col25, #T_41427_row1_col26, #T_41427_row1_col27, #T_41427_row1_col28, #T_41427_row1_col29, #T_41427_row1_col30, #T_41427_row1_col31, #T_41427_row1_col32, #T_41427_row1_col33, #T_41427_row1_col34, #T_41427_row1_col35, #T_41427_row1_col36, #T_41427_row1_col37, #T_41427_row1_col38, #T_41427_row1_col39 {\n",
              "  white-space: pre-wrap;\n",
              "}\n",
              "</style>\n",
              "<table id=\"T_41427\">\n",
              "  <thead>\n",
              "    <tr>\n",
              "      <th class=\"blank level0\" >&nbsp;</th>\n",
              "      <th id=\"T_41427_level0_col0\" class=\"col_heading level0 col0\" >exp_id</th>\n",
              "      <th id=\"T_41427_level0_col1\" class=\"col_heading level0 col1\" >attribution_strategy</th>\n",
              "      <th id=\"T_41427_level0_col2\" class=\"col_heading level0 col2\" >perturbation_strategy</th>\n",
              "      <th id=\"T_41427_level0_col3\" class=\"col_heading level0 col3\" >perturb_word_wise</th>\n",
              "      <th id=\"T_41427_level0_col4\" class=\"col_heading level0 col4\" >token_1</th>\n",
              "      <th id=\"T_41427_level0_col5\" class=\"col_heading level0 col5\" >token_2</th>\n",
              "      <th id=\"T_41427_level0_col6\" class=\"col_heading level0 col6\" >token_3</th>\n",
              "      <th id=\"T_41427_level0_col7\" class=\"col_heading level0 col7\" >token_4</th>\n",
              "      <th id=\"T_41427_level0_col8\" class=\"col_heading level0 col8\" >token_5</th>\n",
              "      <th id=\"T_41427_level0_col9\" class=\"col_heading level0 col9\" >token_6</th>\n",
              "      <th id=\"T_41427_level0_col10\" class=\"col_heading level0 col10\" >token_7</th>\n",
              "      <th id=\"T_41427_level0_col11\" class=\"col_heading level0 col11\" >token_8</th>\n",
              "      <th id=\"T_41427_level0_col12\" class=\"col_heading level0 col12\" >token_9</th>\n",
              "      <th id=\"T_41427_level0_col13\" class=\"col_heading level0 col13\" >token_10</th>\n",
              "      <th id=\"T_41427_level0_col14\" class=\"col_heading level0 col14\" >token_11</th>\n",
              "      <th id=\"T_41427_level0_col15\" class=\"col_heading level0 col15\" >token_12</th>\n",
              "      <th id=\"T_41427_level0_col16\" class=\"col_heading level0 col16\" >token_13</th>\n",
              "      <th id=\"T_41427_level0_col17\" class=\"col_heading level0 col17\" >token_14</th>\n",
              "      <th id=\"T_41427_level0_col18\" class=\"col_heading level0 col18\" >token_15</th>\n",
              "      <th id=\"T_41427_level0_col19\" class=\"col_heading level0 col19\" >token_16</th>\n",
              "      <th id=\"T_41427_level0_col20\" class=\"col_heading level0 col20\" >token_17</th>\n",
              "      <th id=\"T_41427_level0_col21\" class=\"col_heading level0 col21\" >token_18</th>\n",
              "      <th id=\"T_41427_level0_col22\" class=\"col_heading level0 col22\" >token_19</th>\n",
              "      <th id=\"T_41427_level0_col23\" class=\"col_heading level0 col23\" >token_20</th>\n",
              "      <th id=\"T_41427_level0_col24\" class=\"col_heading level0 col24\" >token_21</th>\n",
              "      <th id=\"T_41427_level0_col25\" class=\"col_heading level0 col25\" >token_22</th>\n",
              "      <th id=\"T_41427_level0_col26\" class=\"col_heading level0 col26\" >token_23</th>\n",
              "      <th id=\"T_41427_level0_col27\" class=\"col_heading level0 col27\" >token_24</th>\n",
              "      <th id=\"T_41427_level0_col28\" class=\"col_heading level0 col28\" >token_25</th>\n",
              "      <th id=\"T_41427_level0_col29\" class=\"col_heading level0 col29\" >token_26</th>\n",
              "      <th id=\"T_41427_level0_col30\" class=\"col_heading level0 col30\" >token_27</th>\n",
              "      <th id=\"T_41427_level0_col31\" class=\"col_heading level0 col31\" >token_28</th>\n",
              "      <th id=\"T_41427_level0_col32\" class=\"col_heading level0 col32\" >token_29</th>\n",
              "      <th id=\"T_41427_level0_col33\" class=\"col_heading level0 col33\" >token_30</th>\n",
              "      <th id=\"T_41427_level0_col34\" class=\"col_heading level0 col34\" >token_31</th>\n",
              "      <th id=\"T_41427_level0_col35\" class=\"col_heading level0 col35\" >token_32</th>\n",
              "      <th id=\"T_41427_level0_col36\" class=\"col_heading level0 col36\" >token_33</th>\n",
              "      <th id=\"T_41427_level0_col37\" class=\"col_heading level0 col37\" >token_34</th>\n",
              "      <th id=\"T_41427_level0_col38\" class=\"col_heading level0 col38\" >token_35</th>\n",
              "      <th id=\"T_41427_level0_col39\" class=\"col_heading level0 col39\" >token_36</th>\n",
              "    </tr>\n",
              "  </thead>\n",
              "  <tbody>\n",
              "    <tr>\n",
              "      <th id=\"T_41427_level0_row0\" class=\"row_heading level0 row0\" >0</th>\n",
              "      <td id=\"T_41427_row0_col0\" class=\"data row0 col0\" >1</td>\n",
              "      <td id=\"T_41427_row0_col1\" class=\"data row0 col1\" >prob_diff</td>\n",
              "      <td id=\"T_41427_row0_col2\" class=\"data row0 col2\" >fixed</td>\n",
              "      <td id=\"T_41427_row0_col3\" class=\"data row0 col3\" >False</td>\n",
              "      <td id=\"T_41427_row0_col4\" class=\"data row0 col4\" >Mary\n",
              "0.09</td>\n",
              "      <td id=\"T_41427_row0_col5\" class=\"data row0 col5\" > puts\n",
              "0.30</td>\n",
              "      <td id=\"T_41427_row0_col6\" class=\"data row0 col6\" > an\n",
              "0.08</td>\n",
              "      <td id=\"T_41427_row0_col7\" class=\"data row0 col7\" > apple\n",
              "0.08</td>\n",
              "      <td id=\"T_41427_row0_col8\" class=\"data row0 col8\" > in\n",
              "0.06</td>\n",
              "      <td id=\"T_41427_row0_col9\" class=\"data row0 col9\" > the\n",
              "0.09</td>\n",
              "      <td id=\"T_41427_row0_col10\" class=\"data row0 col10\" > box\n",
              "0.09</td>\n",
              "      <td id=\"T_41427_row0_col11\" class=\"data row0 col11\" >.\n",
              "0.13</td>\n",
              "      <td id=\"T_41427_row0_col12\" class=\"data row0 col12\" > The\n",
              "0.13</td>\n",
              "      <td id=\"T_41427_row0_col13\" class=\"data row0 col13\" > box\n",
              "0.09</td>\n",
              "      <td id=\"T_41427_row0_col14\" class=\"data row0 col14\" > is\n",
              "0.09</td>\n",
              "      <td id=\"T_41427_row0_col15\" class=\"data row0 col15\" > labelled\n",
              "0.11</td>\n",
              "      <td id=\"T_41427_row0_col16\" class=\"data row0 col16\" > '\n",
              "0.08</td>\n",
              "      <td id=\"T_41427_row0_col17\" class=\"data row0 col17\" >pen\n",
              "0.51</td>\n",
              "      <td id=\"T_41427_row0_col18\" class=\"data row0 col18\" >cil\n",
              "0.97</td>\n",
              "      <td id=\"T_41427_row0_col19\" class=\"data row0 col19\" >s\n",
              "0.63</td>\n",
              "      <td id=\"T_41427_row0_col20\" class=\"data row0 col20\" >'.\n",
              "0.30</td>\n",
              "      <td id=\"T_41427_row0_col21\" class=\"data row0 col21\" > John\n",
              "0.30</td>\n",
              "      <td id=\"T_41427_row0_col22\" class=\"data row0 col22\" > enters\n",
              "0.13</td>\n",
              "      <td id=\"T_41427_row0_col23\" class=\"data row0 col23\" > the\n",
              "0.03</td>\n",
              "      <td id=\"T_41427_row0_col24\" class=\"data row0 col24\" > room\n",
              "0.13</td>\n",
              "      <td id=\"T_41427_row0_col25\" class=\"data row0 col25\" >.\n",
              "0.30</td>\n",
              "      <td id=\"T_41427_row0_col26\" class=\"data row0 col26\" > What\n",
              "0.03</td>\n",
              "      <td id=\"T_41427_row0_col27\" class=\"data row0 col27\" > does\n",
              "0.30</td>\n",
              "      <td id=\"T_41427_row0_col28\" class=\"data row0 col28\" > he\n",
              "0.30</td>\n",
              "      <td id=\"T_41427_row0_col29\" class=\"data row0 col29\" > think\n",
              "0.04</td>\n",
              "      <td id=\"T_41427_row0_col30\" class=\"data row0 col30\" > is\n",
              "0.11</td>\n",
              "      <td id=\"T_41427_row0_col31\" class=\"data row0 col31\" > in\n",
              "0.03</td>\n",
              "      <td id=\"T_41427_row0_col32\" class=\"data row0 col32\" > the\n",
              "0.13</td>\n",
              "      <td id=\"T_41427_row0_col33\" class=\"data row0 col33\" > box\n",
              "0.30</td>\n",
              "      <td id=\"T_41427_row0_col34\" class=\"data row0 col34\" >?\n",
              "0.04</td>\n",
              "      <td id=\"T_41427_row0_col35\" class=\"data row0 col35\" > Answer\n",
              "0.30</td>\n",
              "      <td id=\"T_41427_row0_col36\" class=\"data row0 col36\" > in\n",
              "0.30</td>\n",
              "      <td id=\"T_41427_row0_col37\" class=\"data row0 col37\" > 1\n",
              "0.04</td>\n",
              "      <td id=\"T_41427_row0_col38\" class=\"data row0 col38\" > word\n",
              "-0.03</td>\n",
              "      <td id=\"T_41427_row0_col39\" class=\"data row0 col39\" >.\n",
              "0.30</td>\n",
              "    </tr>\n",
              "    <tr>\n",
              "      <th id=\"T_41427_level0_row1\" class=\"row_heading level0 row1\" >1</th>\n",
              "      <td id=\"T_41427_row1_col0\" class=\"data row1 col0\" >2</td>\n",
              "      <td id=\"T_41427_row1_col1\" class=\"data row1 col1\" >prob_diff</td>\n",
              "      <td id=\"T_41427_row1_col2\" class=\"data row1 col2\" >fixed</td>\n",
              "      <td id=\"T_41427_row1_col3\" class=\"data row1 col3\" >True</td>\n",
              "      <td id=\"T_41427_row1_col4\" class=\"data row1 col4\" >Mary\n",
              "0.30</td>\n",
              "      <td id=\"T_41427_row1_col5\" class=\"data row1 col5\" > puts\n",
              "0.30</td>\n",
              "      <td id=\"T_41427_row1_col6\" class=\"data row1 col6\" > an\n",
              "0.30</td>\n",
              "      <td id=\"T_41427_row1_col7\" class=\"data row1 col7\" > apple\n",
              "0.11</td>\n",
              "      <td id=\"T_41427_row1_col8\" class=\"data row1 col8\" > in\n",
              "0.11</td>\n",
              "      <td id=\"T_41427_row1_col9\" class=\"data row1 col9\" > the\n",
              "0.08</td>\n",
              "      <td id=\"T_41427_row1_col10\" class=\"data row1 col10\" > box\n",
              "0.31</td>\n",
              "      <td id=\"T_41427_row1_col11\" class=\"data row1 col11\" >.\n",
              "0.31</td>\n",
              "      <td id=\"T_41427_row1_col12\" class=\"data row1 col12\" > The\n",
              "0.30</td>\n",
              "      <td id=\"T_41427_row1_col13\" class=\"data row1 col13\" > box\n",
              "0.11</td>\n",
              "      <td id=\"T_41427_row1_col14\" class=\"data row1 col14\" > is\n",
              "0.13</td>\n",
              "      <td id=\"T_41427_row1_col15\" class=\"data row1 col15\" > labelled\n",
              "0.31</td>\n",
              "      <td id=\"T_41427_row1_col16\" class=\"data row1 col16\" > '\n",
              "0.97</td>\n",
              "      <td id=\"T_41427_row1_col17\" class=\"data row1 col17\" >pen\n",
              "0.97</td>\n",
              "      <td id=\"T_41427_row1_col18\" class=\"data row1 col18\" >cil\n",
              "0.97</td>\n",
              "      <td id=\"T_41427_row1_col19\" class=\"data row1 col19\" >s\n",
              "0.97</td>\n",
              "      <td id=\"T_41427_row1_col20\" class=\"data row1 col20\" >'.\n",
              "0.97</td>\n",
              "      <td id=\"T_41427_row1_col21\" class=\"data row1 col21\" > John\n",
              "0.30</td>\n",
              "      <td id=\"T_41427_row1_col22\" class=\"data row1 col22\" > enters\n",
              "0.30</td>\n",
              "      <td id=\"T_41427_row1_col23\" class=\"data row1 col23\" > the\n",
              "0.04</td>\n",
              "      <td id=\"T_41427_row1_col24\" class=\"data row1 col24\" > room\n",
              "0.59</td>\n",
              "      <td id=\"T_41427_row1_col25\" class=\"data row1 col25\" >.\n",
              "0.59</td>\n",
              "      <td id=\"T_41427_row1_col26\" class=\"data row1 col26\" > What\n",
              "0.30</td>\n",
              "      <td id=\"T_41427_row1_col27\" class=\"data row1 col27\" > does\n",
              "0.14</td>\n",
              "      <td id=\"T_41427_row1_col28\" class=\"data row1 col28\" > he\n",
              "0.17</td>\n",
              "      <td id=\"T_41427_row1_col29\" class=\"data row1 col29\" > think\n",
              "0.31</td>\n",
              "      <td id=\"T_41427_row1_col30\" class=\"data row1 col30\" > is\n",
              "0.30</td>\n",
              "      <td id=\"T_41427_row1_col31\" class=\"data row1 col31\" > in\n",
              "0.06</td>\n",
              "      <td id=\"T_41427_row1_col32\" class=\"data row1 col32\" > the\n",
              "0.30</td>\n",
              "      <td id=\"T_41427_row1_col33\" class=\"data row1 col33\" > box\n",
              "0.63</td>\n",
              "      <td id=\"T_41427_row1_col34\" class=\"data row1 col34\" >?\n",
              "0.63</td>\n",
              "      <td id=\"T_41427_row1_col35\" class=\"data row1 col35\" > Answer\n",
              "0.30</td>\n",
              "      <td id=\"T_41427_row1_col36\" class=\"data row1 col36\" > in\n",
              "0.31</td>\n",
              "      <td id=\"T_41427_row1_col37\" class=\"data row1 col37\" > 1\n",
              "0.06</td>\n",
              "      <td id=\"T_41427_row1_col38\" class=\"data row1 col38\" > word\n",
              "0.63</td>\n",
              "      <td id=\"T_41427_row1_col39\" class=\"data row1 col39\" >.\n",
              "0.63</td>\n",
              "    </tr>\n",
              "  </tbody>\n",
              "</table>\n"
            ],
            "text/plain": [
              "<pandas.io.formats.style.Styler at 0x2c26be870>"
            ]
          },
          "metadata": {},
          "output_type": "display_data"
        }
      ],
      "source": [
        "gpt4_logger.print_text_total_attribution()\n",
        "gpt4_logger.print_total_attribution()"
      ]
    },
    {
      "cell_type": "markdown",
      "metadata": {},
      "source": [
        "This isn't the only strategy we can use. Let's try token flipping:"
      ]
    },
    {
      "cell_type": "code",
      "execution_count": null,
      "metadata": {},
      "outputs": [],
      "source": [
        "\n"
      ]
    }
  ],
  "metadata": {
    "colab": {
      "machine_shape": "hm",
      "provenance": []
    },
    "kernelspec": {
      "display_name": "Python 3",
      "name": "python3"
    },
    "language_info": {
      "codemirror_mode": {
        "name": "ipython",
        "version": 3
      },
      "file_extension": ".py",
      "mimetype": "text/x-python",
      "name": "python",
      "nbconvert_exporter": "python",
      "pygments_lexer": "ipython3",
      "version": "3.12.4"
    }
  },
  "nbformat": 4,
  "nbformat_minor": 0
}
