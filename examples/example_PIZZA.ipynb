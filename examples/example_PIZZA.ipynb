{
 "cells": [
  {
   "cell_type": "markdown",
   "metadata": {
    "id": "ut3kR2GkpSk6"
   },
   "source": [
    "# PIZZA: An Open Source Library for Closed LLM Attribution (or “why did ChatGPT say that?”)"
   ]
  },
  {
   "cell_type": "markdown",
   "metadata": {},
   "source": [
    "## Setup\n",
    "\n",
    "**Make sure to uncomment and run the cell below if you're in colab.**"
   ]
  },
  {
   "cell_type": "code",
   "execution_count": 41,
   "metadata": {},
   "outputs": [],
   "source": [
    "# !git clone https://github.com/leap-laboratories/PIZZA.git .\n",
    "# !pip install --quiet -r requirements.txt"
   ]
  },
  {
   "cell_type": "code",
   "execution_count": null,
   "metadata": {},
   "outputs": [],
   "source": [
    "import warnings\n",
    "\n",
    "# Suppress annoying FutureWarning from huggingface_hub that is not our fault\n",
    "warnings.filterwarnings(\"ignore\", category=FutureWarning, module=\"huggingface_hub\")"
   ]
  },
  {
   "cell_type": "code",
   "execution_count": 42,
   "metadata": {},
   "outputs": [
    {
     "name": "stdout",
     "output_type": "stream",
     "text": [
      "The autoreload extension is already loaded. To reload it, use:\n",
      "  %reload_ext autoreload\n"
     ]
    }
   ],
   "source": [
    "from attribution.api_attribution import OpenAIAttributor\n",
    "from attribution.experiment_logger import ExperimentLogger\n",
    "from attribution.token_perturbation import FixedPerturbationStrategy, NthNearestPerturbationStrategy\n",
    "\n",
    "# Re-import modified modules without restarting the server (for dev use)\n",
    "%load_ext autoreload\n",
    "%autoreload 2"
   ]
  },
  {
   "cell_type": "markdown",
   "metadata": {},
   "source": [
    "You need an OpenAI API key to run this! Get one **[here](https://platform.openai.com/api-keys)**. \n",
    "\n",
    "You can either set the `OPENAI_API_KEY` environment variable in your notebook runtime (use the _secrets_ panel on the left in colab), or add it to a `.env` as described [in the README](../README.md#environment-variables).\n",
    "\n",
    "If you're _desperate_ to live on the edge, you can also pass your API key directly to the attributor. But we really don't advise this for security reasons!"
   ]
  },
  {
   "cell_type": "code",
   "execution_count": 43,
   "metadata": {},
   "outputs": [
    {
     "name": "stdout",
     "output_type": "stream",
     "text": [
      "The dotenv extension is already loaded. To reload it, use:\n",
      "  %reload_ext dotenv\n"
     ]
    }
   ],
   "source": [
    "import os\n",
    "\n",
    "from dotenv import load_dotenv\n",
    "\n",
    "# Checks if you're using a .env file, and loads it if so.\n",
    "if os.path.isfile(\".env\"):\n",
    "    load_dotenv()"
   ]
  },
  {
   "cell_type": "markdown",
   "metadata": {},
   "source": [
    "Set up some attributors, and a logger to keep track of and visualise results."
   ]
  },
  {
   "cell_type": "code",
   "execution_count": 44,
   "metadata": {
    "colab": {
     "base_uri": "https://localhost:8080/"
    },
    "id": "S_SoQ7FLUZ-T",
    "outputId": "a6d7300c-a92d-4a1e-bbd9-a8715a2beb6d"
   },
   "outputs": [],
   "source": [
    "gpt3_5_attributor = OpenAIAttributor(\n",
    "    openai_api_key=os.getenv(\"OPENAI_API_KEY\"),\n",
    "    max_concurrent_requests=5,\n",
    "    openai_model=\"gpt-3.5-turbo\",\n",
    ")\n",
    "\n",
    "# Using a slightly older GPT4 model, because the latest is absurdly verbose.\n",
    "gpt4_attributor = OpenAIAttributor(\n",
    "    openai_api_key=os.getenv(\"OPENAI_API_KEY\"),\n",
    "    max_concurrent_requests=5,\n",
    "    openai_model=\"gpt-4-0613\",\n",
    ")\n",
    "\n",
    "logger = ExperimentLogger()"
   ]
  },
  {
   "cell_type": "markdown",
   "metadata": {},
   "source": [
    "Quickstart example showing the different attribution and perturbation strategies:"
   ]
  },
  {
   "cell_type": "code",
   "execution_count": 45,
   "metadata": {},
   "outputs": [
    {
     "name": "stderr",
     "output_type": "stream",
     "text": [
      "Sending 5 concurrent requests at a time: 100%|██████████| 2/2 [00:01<00:00,  1.25it/s]\n",
      "Sending 5 concurrent requests at a time: 100%|██████████| 2/2 [00:00<00:00,  2.06it/s]\n",
      "Sending 5 concurrent requests at a time: 100%|██████████| 2/2 [00:00<00:00,  2.06it/s]"
     ]
    },
    {
     "name": "stdout",
     "output_type": "stream",
     "text": [
      "Hierarchical perturbation with fixed token replacement, probability difference attribution\n"
     ]
    },
    {
     "name": "stderr",
     "output_type": "stream",
     "text": [
      "\n"
     ]
    },
    {
     "data": {
      "text/html": [
       "<div style=\"font-family: monospace; line-height: 1.5;\"><span style=\"text-decoration: underline; text-decoration-color: #ffc9c9; text-decoration-thickness: 4px; text-underline-offset: 3px;\">It</span><span style=\"text-decoration: underline; text-decoration-color: #ffc9c9; text-decoration-thickness: 4px; text-underline-offset: 3px;\"> is</span><span style=\"text-decoration: underline; text-decoration-color: #fc0000; text-decoration-thickness: 4px; text-underline-offset: 3px;\"> 9</span><span style=\"text-decoration: underline; text-decoration-color: #ff3131; text-decoration-thickness: 4px; text-underline-offset: 3px;\">:</span><span style=\"text-decoration: underline; text-decoration-color: #ff3535; text-decoration-thickness: 4px; text-underline-offset: 3px;\">47</span><span style=\"text-decoration: underline; text-decoration-color: #ff9595; text-decoration-thickness: 4px; text-underline-offset: 3px;\">.</span><span style=\"text-decoration: underline; text-decoration-color: #ffbdbd; text-decoration-thickness: 4px; text-underline-offset: 3px;\"> How</span><span style=\"text-decoration: underline; text-decoration-color: #ffbdbd; text-decoration-thickness: 4px; text-underline-offset: 3px;\"> many</span><span style=\"text-decoration: underline; text-decoration-color: #ff3535; text-decoration-thickness: 4px; text-underline-offset: 3px;\"> minutes</span><span style=\"text-decoration: underline; text-decoration-color: #ff3535; text-decoration-thickness: 4px; text-underline-offset: 3px;\"> until</span><span style=\"text-decoration: underline; text-decoration-color: #ff3535; text-decoration-thickness: 4px; text-underline-offset: 3px;\"> 11</span><span style=\"text-decoration: underline; text-decoration-color: #ff9999; text-decoration-thickness: 4px; text-underline-offset: 3px;\">?</span><span style=\"text-decoration: underline; text-decoration-color: #ffe1e1; text-decoration-thickness: 4px; text-underline-offset: 3px;\"> Answer</span><span style=\"text-decoration: underline; text-decoration-color: #ffe1e1; text-decoration-thickness: 4px; text-underline-offset: 3px;\"> in</span><span style=\"text-decoration: underline; text-decoration-color: #ffe1e1; text-decoration-thickness: 4px; text-underline-offset: 3px;\"> one</span><span style=\"text-decoration: underline; text-decoration-color: #ffe1e1; text-decoration-thickness: 4px; text-underline-offset: 3px;\"> number</span><span style=\"text-decoration: underline; text-decoration-color: #fffdfd; text-decoration-thickness: 4px; text-underline-offset: 3px;\">.</span> -> 73</div>"
      ],
      "text/plain": [
       "<IPython.core.display.HTML object>"
      ]
     },
     "metadata": {},
     "output_type": "display_data"
    },
    {
     "data": {
      "text/html": [
       "<style type=\"text/css\">\n",
       "#T_f25dd_row0_col0, #T_f25dd_row1_col0 {\n",
       "  background-color: #ffc9c9;\n",
       "  color: #000000;\n",
       "  white-space: pre-wrap;\n",
       "}\n",
       "#T_f25dd_row2_col0 {\n",
       "  background-color: #fc0000;\n",
       "  color: #f1f1f1;\n",
       "  white-space: pre-wrap;\n",
       "}\n",
       "#T_f25dd_row3_col0 {\n",
       "  background-color: #ff3131;\n",
       "  color: #f1f1f1;\n",
       "  white-space: pre-wrap;\n",
       "}\n",
       "#T_f25dd_row4_col0, #T_f25dd_row8_col0, #T_f25dd_row9_col0, #T_f25dd_row10_col0 {\n",
       "  background-color: #ff3535;\n",
       "  color: #f1f1f1;\n",
       "  white-space: pre-wrap;\n",
       "}\n",
       "#T_f25dd_row5_col0 {\n",
       "  background-color: #ff9595;\n",
       "  color: #000000;\n",
       "  white-space: pre-wrap;\n",
       "}\n",
       "#T_f25dd_row6_col0, #T_f25dd_row7_col0 {\n",
       "  background-color: #ffbdbd;\n",
       "  color: #000000;\n",
       "  white-space: pre-wrap;\n",
       "}\n",
       "#T_f25dd_row11_col0 {\n",
       "  background-color: #ff9999;\n",
       "  color: #000000;\n",
       "  white-space: pre-wrap;\n",
       "}\n",
       "#T_f25dd_row12_col0, #T_f25dd_row13_col0, #T_f25dd_row14_col0, #T_f25dd_row15_col0 {\n",
       "  background-color: #ffe1e1;\n",
       "  color: #000000;\n",
       "  white-space: pre-wrap;\n",
       "}\n",
       "#T_f25dd_row16_col0 {\n",
       "  background-color: #fffdfd;\n",
       "  color: #000000;\n",
       "  white-space: pre-wrap;\n",
       "}\n",
       "</style>\n",
       "<table id=\"T_f25dd\">\n",
       "  <thead>\n",
       "    <tr>\n",
       "      <th class=\"blank level0\" >&nbsp;</th>\n",
       "      <th id=\"T_f25dd_level0_col0\" class=\"col_heading level0 col0\" >73 (0)</th>\n",
       "    </tr>\n",
       "  </thead>\n",
       "  <tbody>\n",
       "    <tr>\n",
       "      <th id=\"T_f25dd_level0_row0\" class=\"row_heading level0 row0\" >It (0)</th>\n",
       "      <td id=\"T_f25dd_row0_col0\" class=\"data row0 col0\" >0.105316</td>\n",
       "    </tr>\n",
       "    <tr>\n",
       "      <th id=\"T_f25dd_level0_row1\" class=\"row_heading level0 row1\" > is (1)</th>\n",
       "      <td id=\"T_f25dd_row1_col0\" class=\"data row1 col0\" >0.104074</td>\n",
       "    </tr>\n",
       "    <tr>\n",
       "      <th id=\"T_f25dd_level0_row2\" class=\"row_heading level0 row2\" > 9 (2)</th>\n",
       "      <td id=\"T_f25dd_row2_col0\" class=\"data row2 col0\" >0.511662</td>\n",
       "    </tr>\n",
       "    <tr>\n",
       "      <th id=\"T_f25dd_level0_row3\" class=\"row_heading level0 row3\" >: (3)</th>\n",
       "      <td id=\"T_f25dd_row3_col0\" class=\"data row3 col0\" >0.401147</td>\n",
       "    </tr>\n",
       "    <tr>\n",
       "      <th id=\"T_f25dd_level0_row4\" class=\"row_heading level0 row4\" >47 (4)</th>\n",
       "      <td id=\"T_f25dd_row4_col0\" class=\"data row4 col0\" >0.396988</td>\n",
       "    </tr>\n",
       "    <tr>\n",
       "      <th id=\"T_f25dd_level0_row5\" class=\"row_heading level0 row5\" >. (5)</th>\n",
       "      <td id=\"T_f25dd_row5_col0\" class=\"data row5 col0\" >0.203619</td>\n",
       "    </tr>\n",
       "    <tr>\n",
       "      <th id=\"T_f25dd_level0_row6\" class=\"row_heading level0 row6\" > How (6)</th>\n",
       "      <td id=\"T_f25dd_row6_col0\" class=\"data row6 col0\" >0.131814</td>\n",
       "    </tr>\n",
       "    <tr>\n",
       "      <th id=\"T_f25dd_level0_row7\" class=\"row_heading level0 row7\" > many (7)</th>\n",
       "      <td id=\"T_f25dd_row7_col0\" class=\"data row7 col0\" >0.131814</td>\n",
       "    </tr>\n",
       "    <tr>\n",
       "      <th id=\"T_f25dd_level0_row8\" class=\"row_heading level0 row8\" > minutes (8)</th>\n",
       "      <td id=\"T_f25dd_row8_col0\" class=\"data row8 col0\" >0.393806</td>\n",
       "    </tr>\n",
       "    <tr>\n",
       "      <th id=\"T_f25dd_level0_row9\" class=\"row_heading level0 row9\" > until (9)</th>\n",
       "      <td id=\"T_f25dd_row9_col0\" class=\"data row9 col0\" >0.396988</td>\n",
       "    </tr>\n",
       "    <tr>\n",
       "      <th id=\"T_f25dd_level0_row10\" class=\"row_heading level0 row10\" > 11 (10)</th>\n",
       "      <td id=\"T_f25dd_row10_col0\" class=\"data row10 col0\" >0.396972</td>\n",
       "    </tr>\n",
       "    <tr>\n",
       "      <th id=\"T_f25dd_level0_row11\" class=\"row_heading level0 row11\" >? (11)</th>\n",
       "      <td id=\"T_f25dd_row11_col0\" class=\"data row11 col0\" >0.197691</td>\n",
       "    </tr>\n",
       "    <tr>\n",
       "      <th id=\"T_f25dd_level0_row12\" class=\"row_heading level0 row12\" > Answer (12)</th>\n",
       "      <td id=\"T_f25dd_row12_col0\" class=\"data row12 col0\" >0.061641</td>\n",
       "    </tr>\n",
       "    <tr>\n",
       "      <th id=\"T_f25dd_level0_row13\" class=\"row_heading level0 row13\" > in (13)</th>\n",
       "      <td id=\"T_f25dd_row13_col0\" class=\"data row13 col0\" >0.061641</td>\n",
       "    </tr>\n",
       "    <tr>\n",
       "      <th id=\"T_f25dd_level0_row14\" class=\"row_heading level0 row14\" > one (14)</th>\n",
       "      <td id=\"T_f25dd_row14_col0\" class=\"data row14 col0\" >0.061641</td>\n",
       "    </tr>\n",
       "    <tr>\n",
       "      <th id=\"T_f25dd_level0_row15\" class=\"row_heading level0 row15\" > number (15)</th>\n",
       "      <td id=\"T_f25dd_row15_col0\" class=\"data row15 col0\" >0.061641</td>\n",
       "    </tr>\n",
       "    <tr>\n",
       "      <th id=\"T_f25dd_level0_row16\" class=\"row_heading level0 row16\" >. (16)</th>\n",
       "      <td id=\"T_f25dd_row16_col0\" class=\"data row16 col0\" >0.004120</td>\n",
       "    </tr>\n",
       "  </tbody>\n",
       "</table>\n"
      ],
      "text/plain": [
       "<pandas.io.formats.style.Styler at 0x2907f6030>"
      ]
     },
     "metadata": {},
     "output_type": "display_data"
    },
    {
     "name": "stderr",
     "output_type": "stream",
     "text": [
      "Sending 5 concurrent requests at a time: 100%|██████████| 4/4 [00:01<00:00,  2.99it/s]"
     ]
    },
    {
     "name": "stdout",
     "output_type": "stream",
     "text": [
      "Iterative perturbation with nth nearest replacement, cosine similarity attribution\n"
     ]
    },
    {
     "name": "stderr",
     "output_type": "stream",
     "text": [
      "\n"
     ]
    },
    {
     "data": {
      "text/html": [
       "<div style=\"font-family: monospace; line-height: 1.5;\"><span style=\"text-decoration: underline; text-decoration-color: #fffdfd; text-decoration-thickness: 4px; text-underline-offset: 3px;\">It</span><span style=\"text-decoration: underline; text-decoration-color: #fffdfd; text-decoration-thickness: 4px; text-underline-offset: 3px;\"> is</span><span style=\"text-decoration: underline; text-decoration-color: #ff2929; text-decoration-thickness: 4px; text-underline-offset: 3px;\"> 9</span><span style=\"text-decoration: underline; text-decoration-color: #fffdfd; text-decoration-thickness: 4px; text-underline-offset: 3px;\">:</span><span style=\"text-decoration: underline; text-decoration-color: #fa0000; text-decoration-thickness: 4px; text-underline-offset: 3px;\">47</span><span style=\"text-decoration: underline; text-decoration-color: #fffdfd; text-decoration-thickness: 4px; text-underline-offset: 3px;\">.</span><span style=\"text-decoration: underline; text-decoration-color: #fffdfd; text-decoration-thickness: 4px; text-underline-offset: 3px;\"> How</span><span style=\"text-decoration: underline; text-decoration-color: #fffdfd; text-decoration-thickness: 4px; text-underline-offset: 3px;\"> many</span><span style=\"text-decoration: underline; text-decoration-color: #e60000; text-decoration-thickness: 4px; text-underline-offset: 3px;\"> minutes</span><span style=\"text-decoration: underline; text-decoration-color: #f20000; text-decoration-thickness: 4px; text-underline-offset: 3px;\"> until</span><span style=\"text-decoration: underline; text-decoration-color: #ff2929; text-decoration-thickness: 4px; text-underline-offset: 3px;\"> 11</span><span style=\"text-decoration: underline; text-decoration-color: #fffdfd; text-decoration-thickness: 4px; text-underline-offset: 3px;\">?</span><span style=\"text-decoration: underline; text-decoration-color: #fffdfd; text-decoration-thickness: 4px; text-underline-offset: 3px;\"> Answer</span><span style=\"text-decoration: underline; text-decoration-color: #fffdfd; text-decoration-thickness: 4px; text-underline-offset: 3px;\"> in</span><span style=\"text-decoration: underline; text-decoration-color: #ff6565; text-decoration-thickness: 4px; text-underline-offset: 3px;\"> one</span><span style=\"text-decoration: underline; text-decoration-color: #ff8989; text-decoration-thickness: 4px; text-underline-offset: 3px;\"> number</span><span style=\"text-decoration: underline; text-decoration-color: #fffdfd; text-decoration-thickness: 4px; text-underline-offset: 3px;\">.</span> -> 73</div>"
      ],
      "text/plain": [
       "<IPython.core.display.HTML object>"
      ]
     },
     "metadata": {},
     "output_type": "display_data"
    },
    {
     "data": {
      "text/html": [
       "<style type=\"text/css\">\n",
       "#T_7d360_row0_col0, #T_7d360_row1_col0, #T_7d360_row3_col0, #T_7d360_row5_col0, #T_7d360_row6_col0, #T_7d360_row7_col0, #T_7d360_row11_col0, #T_7d360_row12_col0, #T_7d360_row13_col0, #T_7d360_row16_col0 {\n",
       "  background-color: #fffdfd;\n",
       "  color: #000000;\n",
       "  white-space: pre-wrap;\n",
       "}\n",
       "#T_7d360_row2_col0, #T_7d360_row10_col0 {\n",
       "  background-color: #ff2929;\n",
       "  color: #f1f1f1;\n",
       "  white-space: pre-wrap;\n",
       "}\n",
       "#T_7d360_row4_col0 {\n",
       "  background-color: #fa0000;\n",
       "  color: #f1f1f1;\n",
       "  white-space: pre-wrap;\n",
       "}\n",
       "#T_7d360_row8_col0 {\n",
       "  background-color: #e60000;\n",
       "  color: #f1f1f1;\n",
       "  white-space: pre-wrap;\n",
       "}\n",
       "#T_7d360_row9_col0 {\n",
       "  background-color: #f20000;\n",
       "  color: #f1f1f1;\n",
       "  white-space: pre-wrap;\n",
       "}\n",
       "#T_7d360_row14_col0 {\n",
       "  background-color: #ff6565;\n",
       "  color: #f1f1f1;\n",
       "  white-space: pre-wrap;\n",
       "}\n",
       "#T_7d360_row15_col0 {\n",
       "  background-color: #ff8989;\n",
       "  color: #000000;\n",
       "  white-space: pre-wrap;\n",
       "}\n",
       "</style>\n",
       "<table id=\"T_7d360\">\n",
       "  <thead>\n",
       "    <tr>\n",
       "      <th class=\"blank level0\" >&nbsp;</th>\n",
       "      <th id=\"T_7d360_level0_col0\" class=\"col_heading level0 col0\" >73 (0)</th>\n",
       "    </tr>\n",
       "  </thead>\n",
       "  <tbody>\n",
       "    <tr>\n",
       "      <th id=\"T_7d360_level0_row0\" class=\"row_heading level0 row0\" >It (0)</th>\n",
       "      <td id=\"T_7d360_row0_col0\" class=\"data row0 col0\" >0.000000</td>\n",
       "    </tr>\n",
       "    <tr>\n",
       "      <th id=\"T_7d360_level0_row1\" class=\"row_heading level0 row1\" > is (1)</th>\n",
       "      <td id=\"T_7d360_row1_col0\" class=\"data row1 col0\" >0.000000</td>\n",
       "    </tr>\n",
       "    <tr>\n",
       "      <th id=\"T_7d360_level0_row2\" class=\"row_heading level0 row2\" > 9 (2)</th>\n",
       "      <td id=\"T_7d360_row2_col0\" class=\"data row2 col0\" >0.421165</td>\n",
       "    </tr>\n",
       "    <tr>\n",
       "      <th id=\"T_7d360_level0_row3\" class=\"row_heading level0 row3\" >: (3)</th>\n",
       "      <td id=\"T_7d360_row3_col0\" class=\"data row3 col0\" >0.000000</td>\n",
       "    </tr>\n",
       "    <tr>\n",
       "      <th id=\"T_7d360_level0_row4\" class=\"row_heading level0 row4\" >47 (4)</th>\n",
       "      <td id=\"T_7d360_row4_col0\" class=\"data row4 col0\" >0.516175</td>\n",
       "    </tr>\n",
       "    <tr>\n",
       "      <th id=\"T_7d360_level0_row5\" class=\"row_heading level0 row5\" >. (5)</th>\n",
       "      <td id=\"T_7d360_row5_col0\" class=\"data row5 col0\" >0.000000</td>\n",
       "    </tr>\n",
       "    <tr>\n",
       "      <th id=\"T_7d360_level0_row6\" class=\"row_heading level0 row6\" > How (6)</th>\n",
       "      <td id=\"T_7d360_row6_col0\" class=\"data row6 col0\" >0.000000</td>\n",
       "    </tr>\n",
       "    <tr>\n",
       "      <th id=\"T_7d360_level0_row7\" class=\"row_heading level0 row7\" > many (7)</th>\n",
       "      <td id=\"T_7d360_row7_col0\" class=\"data row7 col0\" >0.000000</td>\n",
       "    </tr>\n",
       "    <tr>\n",
       "      <th id=\"T_7d360_level0_row8\" class=\"row_heading level0 row8\" > minutes (8)</th>\n",
       "      <td id=\"T_7d360_row8_col0\" class=\"data row8 col0\" >0.599060</td>\n",
       "    </tr>\n",
       "    <tr>\n",
       "      <th id=\"T_7d360_level0_row9\" class=\"row_heading level0 row9\" > until (9)</th>\n",
       "      <td id=\"T_7d360_row9_col0\" class=\"data row9 col0\" >0.554672</td>\n",
       "    </tr>\n",
       "    <tr>\n",
       "      <th id=\"T_7d360_level0_row10\" class=\"row_heading level0 row10\" > 11 (10)</th>\n",
       "      <td id=\"T_7d360_row10_col0\" class=\"data row10 col0\" >0.421165</td>\n",
       "    </tr>\n",
       "    <tr>\n",
       "      <th id=\"T_7d360_level0_row11\" class=\"row_heading level0 row11\" >? (11)</th>\n",
       "      <td id=\"T_7d360_row11_col0\" class=\"data row11 col0\" >0.000000</td>\n",
       "    </tr>\n",
       "    <tr>\n",
       "      <th id=\"T_7d360_level0_row12\" class=\"row_heading level0 row12\" > Answer (12)</th>\n",
       "      <td id=\"T_7d360_row12_col0\" class=\"data row12 col0\" >0.000000</td>\n",
       "    </tr>\n",
       "    <tr>\n",
       "      <th id=\"T_7d360_level0_row13\" class=\"row_heading level0 row13\" > in (13)</th>\n",
       "      <td id=\"T_7d360_row13_col0\" class=\"data row13 col0\" >0.000000</td>\n",
       "    </tr>\n",
       "    <tr>\n",
       "      <th id=\"T_7d360_level0_row14\" class=\"row_heading level0 row14\" > one (14)</th>\n",
       "      <td id=\"T_7d360_row14_col0\" class=\"data row14 col0\" >0.304015</td>\n",
       "    </tr>\n",
       "    <tr>\n",
       "      <th id=\"T_7d360_level0_row15\" class=\"row_heading level0 row15\" > number (15)</th>\n",
       "      <td id=\"T_7d360_row15_col0\" class=\"data row15 col0\" >0.231126</td>\n",
       "    </tr>\n",
       "    <tr>\n",
       "      <th id=\"T_7d360_level0_row16\" class=\"row_heading level0 row16\" >. (16)</th>\n",
       "      <td id=\"T_7d360_row16_col0\" class=\"data row16 col0\" >0.000000</td>\n",
       "    </tr>\n",
       "  </tbody>\n",
       "</table>\n"
      ],
      "text/plain": [
       "<pandas.io.formats.style.Styler at 0x150de5cd0>"
      ]
     },
     "metadata": {},
     "output_type": "display_data"
    }
   ],
   "source": [
    "input_str = \"It is 9:47. How many minutes until 11? Answer in one number.\"\n",
    "\n",
    "await gpt3_5_attributor.hierarchical_perturbation(\n",
    "    input_str,\n",
    "    logger=logger,\n",
    "    attribution_strategies=[\"prob_diff\"],\n",
    "    perturbation_strategy=FixedPerturbationStrategy(replacement_token=\"\"),\n",
    ")\n",
    "print(\"Hierarchical perturbation with fixed token replacement, probability difference attribution\")\n",
    "logger.print_text_total_attribution(exp_id=-1)\n",
    "logger.print_attribution_matrix(exp_id=-1)\n",
    "\n",
    "await gpt3_5_attributor.iterative_perturbation(\n",
    "    input_str,\n",
    "    logger=logger,\n",
    "    attribution_strategies=[\"cosine\"],\n",
    "    perturbation_strategy=NthNearestPerturbationStrategy(n=-1),\n",
    ")\n",
    "print(\"Iterative perturbation with nth nearest replacement, cosine similarity attribution\")\n",
    "logger.print_text_total_attribution(exp_id=-1)\n",
    "logger.print_attribution_matrix(exp_id=-1)"
   ]
  },
  {
   "cell_type": "markdown",
   "metadata": {},
   "source": [
    "## Prompt Engineering"
   ]
  },
  {
   "cell_type": "code",
   "execution_count": 46,
   "metadata": {},
   "outputs": [
    {
     "name": "stdout",
     "output_type": "stream",
     "text": [
      "User: Mary puts an apple in the box. The box is labelled 'pencils'. John enters the room. What does he think is in the box? Answer in 1 word.\n",
      "GPT3.5: Apples\n",
      "GPT4: Pencils\n"
     ]
    }
   ],
   "source": [
    "input_str = \"Mary puts an apple in the box. The box is labelled 'pencils'. John enters the room. What does he think is in the box? Answer in 1 word.\"\n",
    "\n",
    "gpt3_5_response = await gpt3_5_attributor.get_chat_completion(input_str)\n",
    "gpt4_response = await gpt4_attributor.get_chat_completion(input_str)\n",
    "\n",
    "print(\"User:\", input_str)\n",
    "print(\"GPT3.5:\", gpt3_5_response.message.content)\n",
    "print(\"GPT4:\", gpt4_response.message.content)"
   ]
  },
  {
   "cell_type": "markdown",
   "metadata": {},
   "source": [
    "GPT3.5 not so hot with the theory of mind there. Can we find out what went wrong?"
   ]
  },
  {
   "cell_type": "code",
   "execution_count": 47,
   "metadata": {},
   "outputs": [
    {
     "name": "stdout",
     "output_type": "stream",
     "text": [
      "User: Why did you say that?\n",
      "GPT3.5: I apologize for the mistake in my response. John would likely think that pencils are in the box, based on the label.\n"
     ]
    }
   ],
   "source": [
    "# Bit hacky to get model explanation\n",
    "user_request = \"User: Why did you say that?\"\n",
    "print(user_request)\n",
    "model_explanation = await gpt3_5_attributor.openai_client.chat.completions.create(\n",
    "    model=gpt3_5_attributor.openai_model,\n",
    "    messages=[\n",
    "        {\"role\": \"user\", \"content\": input_str},\n",
    "        {\"role\": \"assistant\", \"content\": gpt3_5_response.message.content},\n",
    "        {\"role\": \"user\", \"content\": user_request},\n",
    "    ],\n",
    "    temperature=0.0,\n",
    "    seed=0,\n",
    "    logprobs=True,\n",
    "    top_logprobs=20,\n",
    ")\n",
    "print(\"GPT3.5:\", model_explanation.choices[0].message.content)"
   ]
  },
  {
   "cell_type": "markdown",
   "metadata": {},
   "source": [
    "That's not very helpful! We want to know _why_ the mistake was made in the first place, so we can fix it."
   ]
  },
  {
   "cell_type": "code",
   "execution_count": 48,
   "metadata": {},
   "outputs": [
    {
     "name": "stderr",
     "output_type": "stream",
     "text": [
      "Sending 5 concurrent requests at a time: 100%|██████████| 2/2 [00:01<00:00,  1.37it/s]\n",
      "Sending 5 concurrent requests at a time: 100%|██████████| 3/3 [00:01<00:00,  1.97it/s]\n",
      "Sending 5 concurrent requests at a time: 100%|██████████| 4/4 [00:01<00:00,  3.25it/s]\n",
      "Sending 5 concurrent requests at a time: 100%|██████████| 2/2 [00:01<00:00,  1.67it/s]"
     ]
    },
    {
     "name": "stdout",
     "output_type": "stream",
     "text": [
      "GPT3.5 Attribution:\n"
     ]
    },
    {
     "name": "stderr",
     "output_type": "stream",
     "text": [
      "\n"
     ]
    },
    {
     "data": {
      "text/html": [
       "<div style=\"font-family: monospace; line-height: 1.5;\"><span style=\"text-decoration: underline; text-decoration-color: #ff5959; text-decoration-thickness: 4px; text-underline-offset: 3px;\">Mary</span><span style=\"text-decoration: underline; text-decoration-color: #ff5d5d; text-decoration-thickness: 4px; text-underline-offset: 3px;\"> puts</span><span style=\"text-decoration: underline; text-decoration-color: #ffb1b1; text-decoration-thickness: 4px; text-underline-offset: 3px;\"> an</span><span style=\"text-decoration: underline; text-decoration-color: #ff4545; text-decoration-thickness: 4px; text-underline-offset: 3px;\"> apple</span><span style=\"text-decoration: underline; text-decoration-color: #ffa1a1; text-decoration-thickness: 4px; text-underline-offset: 3px;\"> in</span><span style=\"text-decoration: underline; text-decoration-color: #ff9d9d; text-decoration-thickness: 4px; text-underline-offset: 3px;\"> the</span><span style=\"text-decoration: underline; text-decoration-color: #ffd9d9; text-decoration-thickness: 4px; text-underline-offset: 3px;\"> box</span><span style=\"text-decoration: underline; text-decoration-color: #ffd9d9; text-decoration-thickness: 4px; text-underline-offset: 3px;\">.</span><span style=\"text-decoration: underline; text-decoration-color: #ffd9d9; text-decoration-thickness: 4px; text-underline-offset: 3px;\"> The</span><span style=\"text-decoration: underline; text-decoration-color: #ffd1d1; text-decoration-thickness: 4px; text-underline-offset: 3px;\"> box</span><span style=\"text-decoration: underline; text-decoration-color: #ffd1d1; text-decoration-thickness: 4px; text-underline-offset: 3px;\"> is</span><span style=\"text-decoration: underline; text-decoration-color: #ffd1d1; text-decoration-thickness: 4px; text-underline-offset: 3px;\"> labelled</span><span style=\"text-decoration: underline; text-decoration-color: #ffd1d1; text-decoration-thickness: 4px; text-underline-offset: 3px;\"> '</span><span style=\"text-decoration: underline; text-decoration-color: #ffd1d1; text-decoration-thickness: 4px; text-underline-offset: 3px;\">pen</span><span style=\"text-decoration: underline; text-decoration-color: #ffd1d1; text-decoration-thickness: 4px; text-underline-offset: 3px;\">cil</span><span style=\"text-decoration: underline; text-decoration-color: #ffd1d1; text-decoration-thickness: 4px; text-underline-offset: 3px;\">s</span><span style=\"text-decoration: underline; text-decoration-color: #ffd1d1; text-decoration-thickness: 4px; text-underline-offset: 3px;\">'.</span><span style=\"text-decoration: underline; text-decoration-color: #ffd1d1; text-decoration-thickness: 4px; text-underline-offset: 3px;\"> John</span><span style=\"text-decoration: underline; text-decoration-color: #ffeded; text-decoration-thickness: 4px; text-underline-offset: 3px;\"> enters</span><span style=\"text-decoration: underline; text-decoration-color: #ffeded; text-decoration-thickness: 4px; text-underline-offset: 3px;\"> the</span><span style=\"text-decoration: underline; text-decoration-color: #ffeded; text-decoration-thickness: 4px; text-underline-offset: 3px;\"> room</span><span style=\"text-decoration: underline; text-decoration-color: #ffeded; text-decoration-thickness: 4px; text-underline-offset: 3px;\">.</span><span style=\"text-decoration: underline; text-decoration-color: #ffeded; text-decoration-thickness: 4px; text-underline-offset: 3px;\"> What</span><span style=\"text-decoration: underline; text-decoration-color: #ffeded; text-decoration-thickness: 4px; text-underline-offset: 3px;\"> does</span><span style=\"text-decoration: underline; text-decoration-color: #ffeded; text-decoration-thickness: 4px; text-underline-offset: 3px;\"> he</span><span style=\"text-decoration: underline; text-decoration-color: #ffeded; text-decoration-thickness: 4px; text-underline-offset: 3px;\"> think</span><span style=\"text-decoration: underline; text-decoration-color: #ffeded; text-decoration-thickness: 4px; text-underline-offset: 3px;\"> is</span><span style=\"text-decoration: underline; text-decoration-color: #ff6161; text-decoration-thickness: 4px; text-underline-offset: 3px;\"> in</span><span style=\"text-decoration: underline; text-decoration-color: #ffbdbd; text-decoration-thickness: 4px; text-underline-offset: 3px;\"> the</span><span style=\"text-decoration: underline; text-decoration-color: #ffa1a1; text-decoration-thickness: 4px; text-underline-offset: 3px;\"> box</span><span style=\"text-decoration: underline; text-decoration-color: #ffb9b9; text-decoration-thickness: 4px; text-underline-offset: 3px;\">?</span><span style=\"text-decoration: underline; text-decoration-color: #ffbdbd; text-decoration-thickness: 4px; text-underline-offset: 3px;\"> Answer</span><span style=\"text-decoration: underline; text-decoration-color: #ffb1b1; text-decoration-thickness: 4px; text-underline-offset: 3px;\"> in</span><span style=\"text-decoration: underline; text-decoration-color: #ff6d6d; text-decoration-thickness: 4px; text-underline-offset: 3px;\"> 1</span><span style=\"text-decoration: underline; text-decoration-color: #ff5d5d; text-decoration-thickness: 4px; text-underline-offset: 3px;\"> word</span><span style=\"text-decoration: underline; text-decoration-color: #ffadad; text-decoration-thickness: 4px; text-underline-offset: 3px;\">.</span> -> Apples</div>"
      ],
      "text/plain": [
       "<IPython.core.display.HTML object>"
      ]
     },
     "metadata": {},
     "output_type": "display_data"
    },
    {
     "data": {
      "text/html": [
       "<style type=\"text/css\">\n",
       "#T_24d8d_row0_col0, #T_24d8d_row0_col1, #T_24d8d_row0_col2, #T_24d8d_row0_col3, #T_24d8d_row0_col4, #T_24d8d_row0_col5, #T_24d8d_row0_col6, #T_24d8d_row0_col7, #T_24d8d_row0_col8, #T_24d8d_row0_col9, #T_24d8d_row0_col10, #T_24d8d_row0_col11, #T_24d8d_row0_col12, #T_24d8d_row0_col13, #T_24d8d_row0_col14, #T_24d8d_row0_col15, #T_24d8d_row0_col16, #T_24d8d_row0_col17, #T_24d8d_row0_col18, #T_24d8d_row0_col19, #T_24d8d_row0_col20, #T_24d8d_row0_col21, #T_24d8d_row0_col22, #T_24d8d_row0_col23, #T_24d8d_row0_col24, #T_24d8d_row0_col25, #T_24d8d_row0_col26, #T_24d8d_row0_col27, #T_24d8d_row0_col28, #T_24d8d_row0_col29, #T_24d8d_row0_col30, #T_24d8d_row0_col31, #T_24d8d_row0_col32, #T_24d8d_row0_col33, #T_24d8d_row0_col34, #T_24d8d_row0_col35, #T_24d8d_row0_col36, #T_24d8d_row0_col37, #T_24d8d_row0_col38, #T_24d8d_row0_col39 {\n",
       "  white-space: pre-wrap;\n",
       "}\n",
       "</style>\n",
       "<table id=\"T_24d8d\">\n",
       "  <thead>\n",
       "    <tr>\n",
       "      <th class=\"blank level0\" >&nbsp;</th>\n",
       "      <th id=\"T_24d8d_level0_col0\" class=\"col_heading level0 col0\" >exp_id</th>\n",
       "      <th id=\"T_24d8d_level0_col1\" class=\"col_heading level0 col1\" >attribution_strategy</th>\n",
       "      <th id=\"T_24d8d_level0_col2\" class=\"col_heading level0 col2\" >perturbation_strategy</th>\n",
       "      <th id=\"T_24d8d_level0_col3\" class=\"col_heading level0 col3\" >unit_definition</th>\n",
       "      <th id=\"T_24d8d_level0_col4\" class=\"col_heading level0 col4\" >token_1</th>\n",
       "      <th id=\"T_24d8d_level0_col5\" class=\"col_heading level0 col5\" >token_2</th>\n",
       "      <th id=\"T_24d8d_level0_col6\" class=\"col_heading level0 col6\" >token_3</th>\n",
       "      <th id=\"T_24d8d_level0_col7\" class=\"col_heading level0 col7\" >token_4</th>\n",
       "      <th id=\"T_24d8d_level0_col8\" class=\"col_heading level0 col8\" >token_5</th>\n",
       "      <th id=\"T_24d8d_level0_col9\" class=\"col_heading level0 col9\" >token_6</th>\n",
       "      <th id=\"T_24d8d_level0_col10\" class=\"col_heading level0 col10\" >token_7</th>\n",
       "      <th id=\"T_24d8d_level0_col11\" class=\"col_heading level0 col11\" >token_8</th>\n",
       "      <th id=\"T_24d8d_level0_col12\" class=\"col_heading level0 col12\" >token_9</th>\n",
       "      <th id=\"T_24d8d_level0_col13\" class=\"col_heading level0 col13\" >token_10</th>\n",
       "      <th id=\"T_24d8d_level0_col14\" class=\"col_heading level0 col14\" >token_11</th>\n",
       "      <th id=\"T_24d8d_level0_col15\" class=\"col_heading level0 col15\" >token_12</th>\n",
       "      <th id=\"T_24d8d_level0_col16\" class=\"col_heading level0 col16\" >token_13</th>\n",
       "      <th id=\"T_24d8d_level0_col17\" class=\"col_heading level0 col17\" >token_14</th>\n",
       "      <th id=\"T_24d8d_level0_col18\" class=\"col_heading level0 col18\" >token_15</th>\n",
       "      <th id=\"T_24d8d_level0_col19\" class=\"col_heading level0 col19\" >token_16</th>\n",
       "      <th id=\"T_24d8d_level0_col20\" class=\"col_heading level0 col20\" >token_17</th>\n",
       "      <th id=\"T_24d8d_level0_col21\" class=\"col_heading level0 col21\" >token_18</th>\n",
       "      <th id=\"T_24d8d_level0_col22\" class=\"col_heading level0 col22\" >token_19</th>\n",
       "      <th id=\"T_24d8d_level0_col23\" class=\"col_heading level0 col23\" >token_20</th>\n",
       "      <th id=\"T_24d8d_level0_col24\" class=\"col_heading level0 col24\" >token_21</th>\n",
       "      <th id=\"T_24d8d_level0_col25\" class=\"col_heading level0 col25\" >token_22</th>\n",
       "      <th id=\"T_24d8d_level0_col26\" class=\"col_heading level0 col26\" >token_23</th>\n",
       "      <th id=\"T_24d8d_level0_col27\" class=\"col_heading level0 col27\" >token_24</th>\n",
       "      <th id=\"T_24d8d_level0_col28\" class=\"col_heading level0 col28\" >token_25</th>\n",
       "      <th id=\"T_24d8d_level0_col29\" class=\"col_heading level0 col29\" >token_26</th>\n",
       "      <th id=\"T_24d8d_level0_col30\" class=\"col_heading level0 col30\" >token_27</th>\n",
       "      <th id=\"T_24d8d_level0_col31\" class=\"col_heading level0 col31\" >token_28</th>\n",
       "      <th id=\"T_24d8d_level0_col32\" class=\"col_heading level0 col32\" >token_29</th>\n",
       "      <th id=\"T_24d8d_level0_col33\" class=\"col_heading level0 col33\" >token_30</th>\n",
       "      <th id=\"T_24d8d_level0_col34\" class=\"col_heading level0 col34\" >token_31</th>\n",
       "      <th id=\"T_24d8d_level0_col35\" class=\"col_heading level0 col35\" >token_32</th>\n",
       "      <th id=\"T_24d8d_level0_col36\" class=\"col_heading level0 col36\" >token_33</th>\n",
       "      <th id=\"T_24d8d_level0_col37\" class=\"col_heading level0 col37\" >token_34</th>\n",
       "      <th id=\"T_24d8d_level0_col38\" class=\"col_heading level0 col38\" >token_35</th>\n",
       "      <th id=\"T_24d8d_level0_col39\" class=\"col_heading level0 col39\" >token_36</th>\n",
       "    </tr>\n",
       "  </thead>\n",
       "  <tbody>\n",
       "    <tr>\n",
       "      <th id=\"T_24d8d_level0_row0\" class=\"row_heading level0 row0\" >0</th>\n",
       "      <td id=\"T_24d8d_row0_col0\" class=\"data row0 col0\" >3</td>\n",
       "      <td id=\"T_24d8d_row0_col1\" class=\"data row0 col1\" >prob_diff</td>\n",
       "      <td id=\"T_24d8d_row0_col2\" class=\"data row0 col2\" >fixed</td>\n",
       "      <td id=\"T_24d8d_row0_col3\" class=\"data row0 col3\" >token</td>\n",
       "      <td id=\"T_24d8d_row0_col4\" class=\"data row0 col4\" >Mary\n",
       "0.32</td>\n",
       "      <td id=\"T_24d8d_row0_col5\" class=\"data row0 col5\" > puts\n",
       "0.31</td>\n",
       "      <td id=\"T_24d8d_row0_col6\" class=\"data row0 col6\" > an\n",
       "0.15</td>\n",
       "      <td id=\"T_24d8d_row0_col7\" class=\"data row0 col7\" > apple\n",
       "0.36</td>\n",
       "      <td id=\"T_24d8d_row0_col8\" class=\"data row0 col8\" > in\n",
       "0.18</td>\n",
       "      <td id=\"T_24d8d_row0_col9\" class=\"data row0 col9\" > the\n",
       "0.19</td>\n",
       "      <td id=\"T_24d8d_row0_col10\" class=\"data row0 col10\" > box\n",
       "0.08</td>\n",
       "      <td id=\"T_24d8d_row0_col11\" class=\"data row0 col11\" >.\n",
       "0.08</td>\n",
       "      <td id=\"T_24d8d_row0_col12\" class=\"data row0 col12\" > The\n",
       "0.08</td>\n",
       "      <td id=\"T_24d8d_row0_col13\" class=\"data row0 col13\" > box\n",
       "0.09</td>\n",
       "      <td id=\"T_24d8d_row0_col14\" class=\"data row0 col14\" > is\n",
       "0.09</td>\n",
       "      <td id=\"T_24d8d_row0_col15\" class=\"data row0 col15\" > labelled\n",
       "0.09</td>\n",
       "      <td id=\"T_24d8d_row0_col16\" class=\"data row0 col16\" > '\n",
       "0.09</td>\n",
       "      <td id=\"T_24d8d_row0_col17\" class=\"data row0 col17\" >pen\n",
       "0.09</td>\n",
       "      <td id=\"T_24d8d_row0_col18\" class=\"data row0 col18\" >cil\n",
       "0.09</td>\n",
       "      <td id=\"T_24d8d_row0_col19\" class=\"data row0 col19\" >s\n",
       "0.09</td>\n",
       "      <td id=\"T_24d8d_row0_col20\" class=\"data row0 col20\" >'.\n",
       "0.09</td>\n",
       "      <td id=\"T_24d8d_row0_col21\" class=\"data row0 col21\" > John\n",
       "0.09</td>\n",
       "      <td id=\"T_24d8d_row0_col22\" class=\"data row0 col22\" > enters\n",
       "0.03</td>\n",
       "      <td id=\"T_24d8d_row0_col23\" class=\"data row0 col23\" > the\n",
       "0.03</td>\n",
       "      <td id=\"T_24d8d_row0_col24\" class=\"data row0 col24\" > room\n",
       "0.03</td>\n",
       "      <td id=\"T_24d8d_row0_col25\" class=\"data row0 col25\" >.\n",
       "0.03</td>\n",
       "      <td id=\"T_24d8d_row0_col26\" class=\"data row0 col26\" > What\n",
       "0.03</td>\n",
       "      <td id=\"T_24d8d_row0_col27\" class=\"data row0 col27\" > does\n",
       "0.03</td>\n",
       "      <td id=\"T_24d8d_row0_col28\" class=\"data row0 col28\" > he\n",
       "0.03</td>\n",
       "      <td id=\"T_24d8d_row0_col29\" class=\"data row0 col29\" > think\n",
       "0.03</td>\n",
       "      <td id=\"T_24d8d_row0_col30\" class=\"data row0 col30\" > is\n",
       "0.03</td>\n",
       "      <td id=\"T_24d8d_row0_col31\" class=\"data row0 col31\" > in\n",
       "0.30</td>\n",
       "      <td id=\"T_24d8d_row0_col32\" class=\"data row0 col32\" > the\n",
       "0.13</td>\n",
       "      <td id=\"T_24d8d_row0_col33\" class=\"data row0 col33\" > box\n",
       "0.18</td>\n",
       "      <td id=\"T_24d8d_row0_col34\" class=\"data row0 col34\" >?\n",
       "0.14</td>\n",
       "      <td id=\"T_24d8d_row0_col35\" class=\"data row0 col35\" > Answer\n",
       "0.13</td>\n",
       "      <td id=\"T_24d8d_row0_col36\" class=\"data row0 col36\" > in\n",
       "0.15</td>\n",
       "      <td id=\"T_24d8d_row0_col37\" class=\"data row0 col37\" > 1\n",
       "0.28</td>\n",
       "      <td id=\"T_24d8d_row0_col38\" class=\"data row0 col38\" > word\n",
       "0.31</td>\n",
       "      <td id=\"T_24d8d_row0_col39\" class=\"data row0 col39\" >.\n",
       "0.16</td>\n",
       "    </tr>\n",
       "  </tbody>\n",
       "</table>\n"
      ],
      "text/plain": [
       "<pandas.io.formats.style.Styler at 0x2aabe5b50>"
      ]
     },
     "metadata": {},
     "output_type": "display_data"
    }
   ],
   "source": [
    "await gpt3_5_attributor.hierarchical_perturbation(\n",
    "    input_str, logger=logger, use_absolute_attribution=True\n",
    ")\n",
    "print(\"GPT3.5 Attribution:\")\n",
    "logger.print_text_total_attribution(exp_id=-1)\n",
    "logger.print_total_attribution(exp_id=-1)"
   ]
  },
  {
   "cell_type": "markdown",
   "metadata": {},
   "source": [
    "It looks like the request to \"Answer in 1 word\" is pretty important – in fact, it's attributed more highly than the actual contents of the box. Let's try changing it."
   ]
  },
  {
   "cell_type": "code",
   "execution_count": 49,
   "metadata": {},
   "outputs": [
    {
     "name": "stderr",
     "output_type": "stream",
     "text": [
      "Sending 5 concurrent requests at a time: 100%|██████████| 2/2 [00:01<00:00,  1.18it/s]\n",
      "Sending 5 concurrent requests at a time: 100%|██████████| 2/2 [00:02<00:00,  1.03s/it]\n",
      "Sending 5 concurrent requests at a time: 100%|██████████| 2/2 [00:01<00:00,  1.40it/s]\n",
      "Sending 5 concurrent requests at a time: 100%|██████████| 2/2 [00:01<00:00,  1.47it/s]\n"
     ]
    },
    {
     "name": "stdout",
     "output_type": "stream",
     "text": [
      "GPT3 Total attribution:\n"
     ]
    },
    {
     "data": {
      "text/html": [
       "<div style=\"font-family: monospace; line-height: 1.5;\"><span style=\"text-decoration: underline; text-decoration-color: #ffe9e9; text-decoration-thickness: 4px; text-underline-offset: 3px;\">Mary</span><span style=\"text-decoration: underline; text-decoration-color: #ffe9e9; text-decoration-thickness: 4px; text-underline-offset: 3px;\"> puts</span><span style=\"text-decoration: underline; text-decoration-color: #ffe9e9; text-decoration-thickness: 4px; text-underline-offset: 3px;\"> an</span><span style=\"text-decoration: underline; text-decoration-color: #ffe9e9; text-decoration-thickness: 4px; text-underline-offset: 3px;\"> apple</span><span style=\"text-decoration: underline; text-decoration-color: #ffe9e9; text-decoration-thickness: 4px; text-underline-offset: 3px;\"> in</span><span style=\"text-decoration: underline; text-decoration-color: #ffe9e9; text-decoration-thickness: 4px; text-underline-offset: 3px;\"> the</span><span style=\"text-decoration: underline; text-decoration-color: #ffe9e9; text-decoration-thickness: 4px; text-underline-offset: 3px;\"> box</span><span style=\"text-decoration: underline; text-decoration-color: #ffe9e9; text-decoration-thickness: 4px; text-underline-offset: 3px;\">.</span><span style=\"text-decoration: underline; text-decoration-color: #ffe9e9; text-decoration-thickness: 4px; text-underline-offset: 3px;\"> The</span><span style=\"text-decoration: underline; text-decoration-color: #ffe9e9; text-decoration-thickness: 4px; text-underline-offset: 3px;\"> box</span><span style=\"text-decoration: underline; text-decoration-color: #ffe9e9; text-decoration-thickness: 4px; text-underline-offset: 3px;\"> is</span><span style=\"text-decoration: underline; text-decoration-color: #ffe9e9; text-decoration-thickness: 4px; text-underline-offset: 3px;\"> labelled</span><span style=\"text-decoration: underline; text-decoration-color: #ffe9e9; text-decoration-thickness: 4px; text-underline-offset: 3px;\"> '</span><span style=\"text-decoration: underline; text-decoration-color: #ffe9e9; text-decoration-thickness: 4px; text-underline-offset: 3px;\">pen</span><span style=\"text-decoration: underline; text-decoration-color: #ffe9e9; text-decoration-thickness: 4px; text-underline-offset: 3px;\">cil</span><span style=\"text-decoration: underline; text-decoration-color: #ffe9e9; text-decoration-thickness: 4px; text-underline-offset: 3px;\">s</span><span style=\"text-decoration: underline; text-decoration-color: #ffe1e1; text-decoration-thickness: 4px; text-underline-offset: 3px;\">'.</span><span style=\"text-decoration: underline; text-decoration-color: #ffdddd; text-decoration-thickness: 4px; text-underline-offset: 3px;\"> John</span><span style=\"text-decoration: underline; text-decoration-color: #ffdddd; text-decoration-thickness: 4px; text-underline-offset: 3px;\"> enters</span><span style=\"text-decoration: underline; text-decoration-color: #ffdddd; text-decoration-thickness: 4px; text-underline-offset: 3px;\"> the</span><span style=\"text-decoration: underline; text-decoration-color: #ffe1e1; text-decoration-thickness: 4px; text-underline-offset: 3px;\"> room</span><span style=\"text-decoration: underline; text-decoration-color: #ffe1e1; text-decoration-thickness: 4px; text-underline-offset: 3px;\">.</span><span style=\"text-decoration: underline; text-decoration-color: #ffcdcd; text-decoration-thickness: 4px; text-underline-offset: 3px;\"> What</span><span style=\"text-decoration: underline; text-decoration-color: #ffcdcd; text-decoration-thickness: 4px; text-underline-offset: 3px;\"> does</span><span style=\"text-decoration: underline; text-decoration-color: #ffadad; text-decoration-thickness: 4px; text-underline-offset: 3px;\"> he</span><span style=\"text-decoration: underline; text-decoration-color: #ff6161; text-decoration-thickness: 4px; text-underline-offset: 3px;\"> think</span><span style=\"text-decoration: underline; text-decoration-color: #ffd5d5; text-decoration-thickness: 4px; text-underline-offset: 3px;\"> is</span><span style=\"text-decoration: underline; text-decoration-color: #ffd5d5; text-decoration-thickness: 4px; text-underline-offset: 3px;\"> in</span><span style=\"text-decoration: underline; text-decoration-color: #ffe1e1; text-decoration-thickness: 4px; text-underline-offset: 3px;\"> the</span><span style=\"text-decoration: underline; text-decoration-color: #ffe9e9; text-decoration-thickness: 4px; text-underline-offset: 3px;\"> box</span><span style=\"text-decoration: underline; text-decoration-color: #ffe9e9; text-decoration-thickness: 4px; text-underline-offset: 3px;\">?</span><span style=\"text-decoration: underline; text-decoration-color: #ffe9e9; text-decoration-thickness: 4px; text-underline-offset: 3px;\"> Answer</span><span style=\"text-decoration: underline; text-decoration-color: #ffeded; text-decoration-thickness: 4px; text-underline-offset: 3px;\"> briefly</span><span style=\"text-decoration: underline; text-decoration-color: #fff1f1; text-decoration-thickness: 4px; text-underline-offset: 3px;\">.</span> -> John would likely think there are pencils in the box, as that is what the label indicates.</div>"
      ],
      "text/plain": [
       "<IPython.core.display.HTML object>"
      ]
     },
     "metadata": {},
     "output_type": "display_data"
    }
   ],
   "source": [
    "input_str = \"Mary puts an apple in the box. The box is labelled 'pencils'. John enters the room. What does he think is in the box? Answer briefly.\"\n",
    "\n",
    "await gpt3_5_attributor.hierarchical_perturbation(\n",
    "    input_str,\n",
    "    logger=logger,\n",
    ")\n",
    "\n",
    "# Let's see...\n",
    "print(\"GPT3 Total attribution:\")\n",
    "# exp_id is the experiment index to print. -1 prints the last experiment.\n",
    "logger.print_text_total_attribution(exp_id=-1)"
   ]
  },
  {
   "cell_type": "markdown",
   "metadata": {},
   "source": [
    "That's better!\n",
    "\n",
    "Above we've been using hierarchical perturbation, which can be faster and cheaper than standard iterative perturbation on long inputs with fewer salient tokens. Most importantly, it can also capture multi-token features, which iterative pertrubation cannot.\n",
    "\n",
    "However, on when many tokens are salient, standard iterative perturbation can be faster, and often highlights individual token contributions more clearly. "
   ]
  },
  {
   "cell_type": "code",
   "execution_count": 50,
   "metadata": {},
   "outputs": [
    {
     "name": "stderr",
     "output_type": "stream",
     "text": [
      "Sending 5 concurrent requests at a time: 100%|██████████| 2/2 [00:03<00:00,  1.60s/it]\n"
     ]
    },
    {
     "data": {
      "text/html": [
       "<div style=\"font-family: monospace; line-height: 1.5;\"><span style=\"text-decoration: underline; text-decoration-color: #ffcdcd; text-decoration-thickness: 4px; text-underline-offset: 3px;\">Write</span><span style=\"text-decoration: underline; text-decoration-color: #ff2525; text-decoration-thickness: 4px; text-underline-offset: 3px;\"> a</span><span style=\"text-decoration: underline; text-decoration-color: #ff2d2d; text-decoration-thickness: 4px; text-underline-offset: 3px;\"> funny</span><span style=\"text-decoration: underline; text-decoration-color: #ffd1d1; text-decoration-thickness: 4px; text-underline-offset: 3px;\">,</span><span style=\"text-decoration: underline; text-decoration-color: #ff5d5d; text-decoration-thickness: 4px; text-underline-offset: 3px;\"> sad</span><span style=\"text-decoration: underline; text-decoration-color: #de0000; text-decoration-thickness: 4px; text-underline-offset: 3px;\"> ha</span><span style=\"text-decoration: underline; text-decoration-color: #ff4141; text-decoration-thickness: 4px; text-underline-offset: 3px;\">iku</span><span style=\"text-decoration: underline; text-decoration-color: #ffc9c9; text-decoration-thickness: 4px; text-underline-offset: 3px;\">.</span> -> Lost my favorite sock,\n",
       "In the dryer it did hide,\n",
       "One foot's cold, how odd.</div>"
      ],
      "text/plain": [
       "<IPython.core.display.HTML object>"
      ]
     },
     "metadata": {},
     "output_type": "display_data"
    }
   ],
   "source": [
    "input_str = \"Write a funny, sad haiku.\"\n",
    "\n",
    "await gpt4_attributor.iterative_perturbation(\n",
    "    input_str, perturbation_strategy=FixedPerturbationStrategy(), logger=logger\n",
    ")\n",
    "logger.print_text_total_attribution(exp_id=-1)"
   ]
  },
  {
   "cell_type": "markdown",
   "metadata": {},
   "source": [
    "Hilarious.\n",
    "\n",
    "Anyway, we also have some different logging functions to print the results in different ways. You can see how every input token affects every output token, what perturbations are being applied, etc."
   ]
  },
  {
   "cell_type": "markdown",
   "metadata": {},
   "source": [
    "Note how the model pays a lot of attention to \"haiku\" in the input, when punctuating the poem. "
   ]
  },
  {
   "cell_type": "code",
   "execution_count": 51,
   "metadata": {},
   "outputs": [
    {
     "data": {
      "text/html": [
       "<div style=\"font-family: monospace; line-height: 1.5;\"><span style=\"text-decoration: underline; text-decoration-color: #ffe1e1; text-decoration-thickness: 4px; text-underline-offset: 3px;\">Write</span><span style=\"text-decoration: underline; text-decoration-color: #ffeded; text-decoration-thickness: 4px; text-underline-offset: 3px;\"> a</span><span style=\"text-decoration: underline; text-decoration-color: #ffd9d9; text-decoration-thickness: 4px; text-underline-offset: 3px;\"> funny</span><span style=\"text-decoration: underline; text-decoration-color: #1515ff; text-decoration-thickness: 4px; text-underline-offset: 3px;\">,</span><span style=\"text-decoration: underline; text-decoration-color: #ff8d8d; text-decoration-thickness: 4px; text-underline-offset: 3px;\"> sad</span><span style=\"text-decoration: underline; text-decoration-color: #ff8d8d; text-decoration-thickness: 4px; text-underline-offset: 3px;\"> ha</span><span style=\"text-decoration: underline; text-decoration-color: #ff9999; text-decoration-thickness: 4px; text-underline-offset: 3px;\">iku</span><span style=\"text-decoration: underline; text-decoration-color: #fffdfd; text-decoration-thickness: 4px; text-underline-offset: 3px;\">.</span> -> <span style=\"text-decoration: underline; text-decoration-thickness: 4px; text-underline-offset: 3px;\">Lost</span> my favorite sock,\n",
       "In the dryer it did hide,\n",
       "One foot's cold, how odd.</div>"
      ],
      "text/plain": [
       "<IPython.core.display.HTML object>"
      ]
     },
     "metadata": {},
     "output_type": "display_data"
    },
    {
     "data": {
      "text/html": [
       "<div style=\"font-family: monospace; line-height: 1.5;\"><span style=\"text-decoration: underline; text-decoration-color: #ddddff; text-decoration-thickness: 4px; text-underline-offset: 3px;\">Write</span><span style=\"text-decoration: underline; text-decoration-color: #cc0000; text-decoration-thickness: 4px; text-underline-offset: 3px;\"> a</span><span style=\"text-decoration: underline; text-decoration-color: #c60000; text-decoration-thickness: 4px; text-underline-offset: 3px;\"> funny</span><span style=\"text-decoration: underline; text-decoration-color: #d1d1ff; text-decoration-thickness: 4px; text-underline-offset: 3px;\">,</span><span style=\"text-decoration: underline; text-decoration-color: #8181ff; text-decoration-thickness: 4px; text-underline-offset: 3px;\"> sad</span><span style=\"text-decoration: underline; text-decoration-color: #c60000; text-decoration-thickness: 4px; text-underline-offset: 3px;\"> ha</span><span style=\"text-decoration: underline; text-decoration-color: #c80000; text-decoration-thickness: 4px; text-underline-offset: 3px;\">iku</span><span style=\"text-decoration: underline; text-decoration-color: #e1e1ff; text-decoration-thickness: 4px; text-underline-offset: 3px;\">.</span> -> Lost<span style=\"text-decoration: underline; text-decoration-thickness: 4px; text-underline-offset: 3px;\"> my</span> favorite sock,\n",
       "In the dryer it did hide,\n",
       "One foot's cold, how odd.</div>"
      ],
      "text/plain": [
       "<IPython.core.display.HTML object>"
      ]
     },
     "metadata": {},
     "output_type": "display_data"
    },
    {
     "data": {
      "text/html": [
       "<div style=\"font-family: monospace; line-height: 1.5;\"><span style=\"text-decoration: underline; text-decoration-color: #adadff; text-decoration-thickness: 4px; text-underline-offset: 3px;\">Write</span><span style=\"text-decoration: underline; text-decoration-color: #ff1919; text-decoration-thickness: 4px; text-underline-offset: 3px;\"> a</span><span style=\"text-decoration: underline; text-decoration-color: #ff1919; text-decoration-thickness: 4px; text-underline-offset: 3px;\"> funny</span><span style=\"text-decoration: underline; text-decoration-color: #ffd5d5; text-decoration-thickness: 4px; text-underline-offset: 3px;\">,</span><span style=\"text-decoration: underline; text-decoration-color: #ff1919; text-decoration-thickness: 4px; text-underline-offset: 3px;\"> sad</span><span style=\"text-decoration: underline; text-decoration-color: #ff1919; text-decoration-thickness: 4px; text-underline-offset: 3px;\"> ha</span><span style=\"text-decoration: underline; text-decoration-color: #ff1919; text-decoration-thickness: 4px; text-underline-offset: 3px;\">iku</span><span style=\"text-decoration: underline; text-decoration-color: #ededff; text-decoration-thickness: 4px; text-underline-offset: 3px;\">.</span> -> Lost my<span style=\"text-decoration: underline; text-decoration-thickness: 4px; text-underline-offset: 3px;\"> favorite</span> sock,\n",
       "In the dryer it did hide,\n",
       "One foot's cold, how odd.</div>"
      ],
      "text/plain": [
       "<IPython.core.display.HTML object>"
      ]
     },
     "metadata": {},
     "output_type": "display_data"
    },
    {
     "data": {
      "text/html": [
       "<div style=\"font-family: monospace; line-height: 1.5;\"><span style=\"text-decoration: underline; text-decoration-color: #ffeded; text-decoration-thickness: 4px; text-underline-offset: 3px;\">Write</span><span style=\"text-decoration: underline; text-decoration-color: #ac0000; text-decoration-thickness: 4px; text-underline-offset: 3px;\"> a</span><span style=\"text-decoration: underline; text-decoration-color: #ac0000; text-decoration-thickness: 4px; text-underline-offset: 3px;\"> funny</span><span style=\"text-decoration: underline; text-decoration-color: #fff1f1; text-decoration-thickness: 4px; text-underline-offset: 3px;\">,</span><span style=\"text-decoration: underline; text-decoration-color: #ac0000; text-decoration-thickness: 4px; text-underline-offset: 3px;\"> sad</span><span style=\"text-decoration: underline; text-decoration-color: #ac0000; text-decoration-thickness: 4px; text-underline-offset: 3px;\"> ha</span><span style=\"text-decoration: underline; text-decoration-color: #ac0000; text-decoration-thickness: 4px; text-underline-offset: 3px;\">iku</span><span style=\"text-decoration: underline; text-decoration-color: #fff5f5; text-decoration-thickness: 4px; text-underline-offset: 3px;\">.</span> -> Lost my favorite<span style=\"text-decoration: underline; text-decoration-thickness: 4px; text-underline-offset: 3px;\"> sock</span>,\n",
       "In the dryer it did hide,\n",
       "One foot's cold, how odd.</div>"
      ],
      "text/plain": [
       "<IPython.core.display.HTML object>"
      ]
     },
     "metadata": {},
     "output_type": "display_data"
    },
    {
     "data": {
      "text/html": [
       "<div style=\"font-family: monospace; line-height: 1.5;\"><span style=\"text-decoration: underline; text-decoration-color: #fff9f9; text-decoration-thickness: 4px; text-underline-offset: 3px;\">Write</span><span style=\"text-decoration: underline; text-decoration-color: #9999ff; text-decoration-thickness: 4px; text-underline-offset: 3px;\"> a</span><span style=\"text-decoration: underline; text-decoration-color: #8d8dff; text-decoration-thickness: 4px; text-underline-offset: 3px;\"> funny</span><span style=\"text-decoration: underline; text-decoration-color: #a1a1ff; text-decoration-thickness: 4px; text-underline-offset: 3px;\">,</span><span style=\"text-decoration: underline; text-decoration-color: #b1b1ff; text-decoration-thickness: 4px; text-underline-offset: 3px;\"> sad</span><span style=\"text-decoration: underline; text-decoration-color: #bc0000; text-decoration-thickness: 4px; text-underline-offset: 3px;\"> ha</span><span style=\"text-decoration: underline; text-decoration-color: #e5e5ff; text-decoration-thickness: 4px; text-underline-offset: 3px;\">iku</span><span style=\"text-decoration: underline; text-decoration-color: #fff5f5; text-decoration-thickness: 4px; text-underline-offset: 3px;\">.</span> -> Lost my favorite sock<span style=\"text-decoration: underline; text-decoration-thickness: 4px; text-underline-offset: 3px;\">,\n",
       "</span>In the dryer it did hide,\n",
       "One foot's cold, how odd.</div>"
      ],
      "text/plain": [
       "<IPython.core.display.HTML object>"
      ]
     },
     "metadata": {},
     "output_type": "display_data"
    },
    {
     "data": {
      "text/html": [
       "<div style=\"font-family: monospace; line-height: 1.5;\"><span style=\"text-decoration: underline; text-decoration-color: #ff9d9d; text-decoration-thickness: 4px; text-underline-offset: 3px;\">Write</span><span style=\"text-decoration: underline; text-decoration-color: #ea0000; text-decoration-thickness: 4px; text-underline-offset: 3px;\"> a</span><span style=\"text-decoration: underline; text-decoration-color: #ee0000; text-decoration-thickness: 4px; text-underline-offset: 3px;\"> funny</span><span style=\"text-decoration: underline; text-decoration-color: #e1e1ff; text-decoration-thickness: 4px; text-underline-offset: 3px;\">,</span><span style=\"text-decoration: underline; text-decoration-color: #f20000; text-decoration-thickness: 4px; text-underline-offset: 3px;\"> sad</span><span style=\"text-decoration: underline; text-decoration-color: #ea0000; text-decoration-thickness: 4px; text-underline-offset: 3px;\"> ha</span><span style=\"text-decoration: underline; text-decoration-color: #fe0000; text-decoration-thickness: 4px; text-underline-offset: 3px;\">iku</span><span style=\"text-decoration: underline; text-decoration-color: #fff1f1; text-decoration-thickness: 4px; text-underline-offset: 3px;\">.</span> -> Lost my favorite sock,\n",
       "<span style=\"text-decoration: underline; text-decoration-thickness: 4px; text-underline-offset: 3px;\">In</span> the dryer it did hide,\n",
       "One foot's cold, how odd.</div>"
      ],
      "text/plain": [
       "<IPython.core.display.HTML object>"
      ]
     },
     "metadata": {},
     "output_type": "display_data"
    },
    {
     "data": {
      "text/html": [
       "<div style=\"font-family: monospace; line-height: 1.5;\"><span style=\"text-decoration: underline; text-decoration-color: #ffb1b1; text-decoration-thickness: 4px; text-underline-offset: 3px;\">Write</span><span style=\"text-decoration: underline; text-decoration-color: #ff4141; text-decoration-thickness: 4px; text-underline-offset: 3px;\"> a</span><span style=\"text-decoration: underline; text-decoration-color: #ff7171; text-decoration-thickness: 4px; text-underline-offset: 3px;\"> funny</span><span style=\"text-decoration: underline; text-decoration-color: #ffe9e9; text-decoration-thickness: 4px; text-underline-offset: 3px;\">,</span><span style=\"text-decoration: underline; text-decoration-color: #ff2525; text-decoration-thickness: 4px; text-underline-offset: 3px;\"> sad</span><span style=\"text-decoration: underline; text-decoration-color: #b80000; text-decoration-thickness: 4px; text-underline-offset: 3px;\"> ha</span><span style=\"text-decoration: underline; text-decoration-color: #fffdfd; text-decoration-thickness: 4px; text-underline-offset: 3px;\">iku</span><span style=\"text-decoration: underline; text-decoration-color: #ffeded; text-decoration-thickness: 4px; text-underline-offset: 3px;\">.</span> -> Lost my favorite sock,\n",
       "In<span style=\"text-decoration: underline; text-decoration-thickness: 4px; text-underline-offset: 3px;\"> the</span> dryer it did hide,\n",
       "One foot's cold, how odd.</div>"
      ],
      "text/plain": [
       "<IPython.core.display.HTML object>"
      ]
     },
     "metadata": {},
     "output_type": "display_data"
    },
    {
     "data": {
      "text/html": [
       "<div style=\"font-family: monospace; line-height: 1.5;\"><span style=\"text-decoration: underline; text-decoration-color: #fff5f5; text-decoration-thickness: 4px; text-underline-offset: 3px;\">Write</span><span style=\"text-decoration: underline; text-decoration-color: #b20000; text-decoration-thickness: 4px; text-underline-offset: 3px;\"> a</span><span style=\"text-decoration: underline; text-decoration-color: #b20000; text-decoration-thickness: 4px; text-underline-offset: 3px;\"> funny</span><span style=\"text-decoration: underline; text-decoration-color: #ffeded; text-decoration-thickness: 4px; text-underline-offset: 3px;\">,</span><span style=\"text-decoration: underline; text-decoration-color: #b20000; text-decoration-thickness: 4px; text-underline-offset: 3px;\"> sad</span><span style=\"text-decoration: underline; text-decoration-color: #b20000; text-decoration-thickness: 4px; text-underline-offset: 3px;\"> ha</span><span style=\"text-decoration: underline; text-decoration-color: #b20000; text-decoration-thickness: 4px; text-underline-offset: 3px;\">iku</span><span style=\"text-decoration: underline; text-decoration-color: #ffc9c9; text-decoration-thickness: 4px; text-underline-offset: 3px;\">.</span> -> Lost my favorite sock,\n",
       "In the<span style=\"text-decoration: underline; text-decoration-thickness: 4px; text-underline-offset: 3px;\"> dryer</span> it did hide,\n",
       "One foot's cold, how odd.</div>"
      ],
      "text/plain": [
       "<IPython.core.display.HTML object>"
      ]
     },
     "metadata": {},
     "output_type": "display_data"
    },
    {
     "data": {
      "text/html": [
       "<div style=\"font-family: monospace; line-height: 1.5;\"><span style=\"text-decoration: underline; text-decoration-color: #ff8181; text-decoration-thickness: 4px; text-underline-offset: 3px;\">Write</span><span style=\"text-decoration: underline; text-decoration-color: #ff2525; text-decoration-thickness: 4px; text-underline-offset: 3px;\"> a</span><span style=\"text-decoration: underline; text-decoration-color: #ff2525; text-decoration-thickness: 4px; text-underline-offset: 3px;\"> funny</span><span style=\"text-decoration: underline; text-decoration-color: #ffb5b5; text-decoration-thickness: 4px; text-underline-offset: 3px;\">,</span><span style=\"text-decoration: underline; text-decoration-color: #0000f2; text-decoration-thickness: 4px; text-underline-offset: 3px;\"> sad</span><span style=\"text-decoration: underline; text-decoration-color: #ff2525; text-decoration-thickness: 4px; text-underline-offset: 3px;\"> ha</span><span style=\"text-decoration: underline; text-decoration-color: #ff3131; text-decoration-thickness: 4px; text-underline-offset: 3px;\">iku</span><span style=\"text-decoration: underline; text-decoration-color: #ffd1d1; text-decoration-thickness: 4px; text-underline-offset: 3px;\">.</span> -> Lost my favorite sock,\n",
       "In the dryer<span style=\"text-decoration: underline; text-decoration-thickness: 4px; text-underline-offset: 3px;\"> it</span> did hide,\n",
       "One foot's cold, how odd.</div>"
      ],
      "text/plain": [
       "<IPython.core.display.HTML object>"
      ]
     },
     "metadata": {},
     "output_type": "display_data"
    },
    {
     "data": {
      "text/html": [
       "<div style=\"font-family: monospace; line-height: 1.5;\"><span style=\"text-decoration: underline; text-decoration-color: #ff1111; text-decoration-thickness: 4px; text-underline-offset: 3px;\">Write</span><span style=\"text-decoration: underline; text-decoration-color: #ff1111; text-decoration-thickness: 4px; text-underline-offset: 3px;\"> a</span><span style=\"text-decoration: underline; text-decoration-color: #ff1111; text-decoration-thickness: 4px; text-underline-offset: 3px;\"> funny</span><span style=\"text-decoration: underline; text-decoration-color: #ff1111; text-decoration-thickness: 4px; text-underline-offset: 3px;\">,</span><span style=\"text-decoration: underline; text-decoration-color: #ff1111; text-decoration-thickness: 4px; text-underline-offset: 3px;\"> sad</span><span style=\"text-decoration: underline; text-decoration-color: #ff1d1d; text-decoration-thickness: 4px; text-underline-offset: 3px;\"> ha</span><span style=\"text-decoration: underline; text-decoration-color: #ff1111; text-decoration-thickness: 4px; text-underline-offset: 3px;\">iku</span><span style=\"text-decoration: underline; text-decoration-color: #ff1111; text-decoration-thickness: 4px; text-underline-offset: 3px;\">.</span> -> Lost my favorite sock,\n",
       "In the dryer it<span style=\"text-decoration: underline; text-decoration-thickness: 4px; text-underline-offset: 3px;\"> did</span> hide,\n",
       "One foot's cold, how odd.</div>"
      ],
      "text/plain": [
       "<IPython.core.display.HTML object>"
      ]
     },
     "metadata": {},
     "output_type": "display_data"
    },
    {
     "data": {
      "text/html": [
       "<div style=\"font-family: monospace; line-height: 1.5;\"><span style=\"text-decoration: underline; text-decoration-color: #ff6161; text-decoration-thickness: 4px; text-underline-offset: 3px;\">Write</span><span style=\"text-decoration: underline; text-decoration-color: #ff6161; text-decoration-thickness: 4px; text-underline-offset: 3px;\"> a</span><span style=\"text-decoration: underline; text-decoration-color: #ff6161; text-decoration-thickness: 4px; text-underline-offset: 3px;\"> funny</span><span style=\"text-decoration: underline; text-decoration-color: #ff6161; text-decoration-thickness: 4px; text-underline-offset: 3px;\">,</span><span style=\"text-decoration: underline; text-decoration-color: #ff6161; text-decoration-thickness: 4px; text-underline-offset: 3px;\"> sad</span><span style=\"text-decoration: underline; text-decoration-color: #ff6161; text-decoration-thickness: 4px; text-underline-offset: 3px;\"> ha</span><span style=\"text-decoration: underline; text-decoration-color: #ff6161; text-decoration-thickness: 4px; text-underline-offset: 3px;\">iku</span><span style=\"text-decoration: underline; text-decoration-color: #ff6161; text-decoration-thickness: 4px; text-underline-offset: 3px;\">.</span> -> Lost my favorite sock,\n",
       "In the dryer it did<span style=\"text-decoration: underline; text-decoration-thickness: 4px; text-underline-offset: 3px;\"> hide</span>,\n",
       "One foot's cold, how odd.</div>"
      ],
      "text/plain": [
       "<IPython.core.display.HTML object>"
      ]
     },
     "metadata": {},
     "output_type": "display_data"
    },
    {
     "data": {
      "text/html": [
       "<div style=\"font-family: monospace; line-height: 1.5;\"><span style=\"text-decoration: underline; text-decoration-color: #ffa9a9; text-decoration-thickness: 4px; text-underline-offset: 3px;\">Write</span><span style=\"text-decoration: underline; text-decoration-color: #e9e9ff; text-decoration-thickness: 4px; text-underline-offset: 3px;\"> a</span><span style=\"text-decoration: underline; text-decoration-color: #ddddff; text-decoration-thickness: 4px; text-underline-offset: 3px;\"> funny</span><span style=\"text-decoration: underline; text-decoration-color: #f5f5ff; text-decoration-thickness: 4px; text-underline-offset: 3px;\">,</span><span style=\"text-decoration: underline; text-decoration-color: #fff9f9; text-decoration-thickness: 4px; text-underline-offset: 3px;\"> sad</span><span style=\"text-decoration: underline; text-decoration-color: #930000; text-decoration-thickness: 4px; text-underline-offset: 3px;\"> ha</span><span style=\"text-decoration: underline; text-decoration-color: #ffc9c9; text-decoration-thickness: 4px; text-underline-offset: 3px;\">iku</span><span style=\"text-decoration: underline; text-decoration-color: #ffa1a1; text-decoration-thickness: 4px; text-underline-offset: 3px;\">.</span> -> Lost my favorite sock,\n",
       "In the dryer it did hide<span style=\"text-decoration: underline; text-decoration-thickness: 4px; text-underline-offset: 3px;\">,\n",
       "</span>One foot's cold, how odd.</div>"
      ],
      "text/plain": [
       "<IPython.core.display.HTML object>"
      ]
     },
     "metadata": {},
     "output_type": "display_data"
    },
    {
     "data": {
      "text/html": [
       "<div style=\"font-family: monospace; line-height: 1.5;\"><span style=\"text-decoration: underline; text-decoration-color: #ff8585; text-decoration-thickness: 4px; text-underline-offset: 3px;\">Write</span><span style=\"text-decoration: underline; text-decoration-color: #e00000; text-decoration-thickness: 4px; text-underline-offset: 3px;\"> a</span><span style=\"text-decoration: underline; text-decoration-color: #e00000; text-decoration-thickness: 4px; text-underline-offset: 3px;\"> funny</span><span style=\"text-decoration: underline; text-decoration-color: #ff6969; text-decoration-thickness: 4px; text-underline-offset: 3px;\">,</span><span style=\"text-decoration: underline; text-decoration-color: #e00000; text-decoration-thickness: 4px; text-underline-offset: 3px;\"> sad</span><span style=\"text-decoration: underline; text-decoration-color: #e00000; text-decoration-thickness: 4px; text-underline-offset: 3px;\"> ha</span><span style=\"text-decoration: underline; text-decoration-color: #e00000; text-decoration-thickness: 4px; text-underline-offset: 3px;\">iku</span><span style=\"text-decoration: underline; text-decoration-color: #ff9d9d; text-decoration-thickness: 4px; text-underline-offset: 3px;\">.</span> -> Lost my favorite sock,\n",
       "In the dryer it did hide,\n",
       "<span style=\"text-decoration: underline; text-decoration-thickness: 4px; text-underline-offset: 3px;\">One</span> foot's cold, how odd.</div>"
      ],
      "text/plain": [
       "<IPython.core.display.HTML object>"
      ]
     },
     "metadata": {},
     "output_type": "display_data"
    },
    {
     "data": {
      "text/html": [
       "<div style=\"font-family: monospace; line-height: 1.5;\"><span style=\"text-decoration: underline; text-decoration-color: #ffeded; text-decoration-thickness: 4px; text-underline-offset: 3px;\">Write</span><span style=\"text-decoration: underline; text-decoration-color: #a30000; text-decoration-thickness: 4px; text-underline-offset: 3px;\"> a</span><span style=\"text-decoration: underline; text-decoration-color: #a30000; text-decoration-thickness: 4px; text-underline-offset: 3px;\"> funny</span><span style=\"text-decoration: underline; text-decoration-color: #fff9f9; text-decoration-thickness: 4px; text-underline-offset: 3px;\">,</span><span style=\"text-decoration: underline; text-decoration-color: #a30000; text-decoration-thickness: 4px; text-underline-offset: 3px;\"> sad</span><span style=\"text-decoration: underline; text-decoration-color: #a30000; text-decoration-thickness: 4px; text-underline-offset: 3px;\"> ha</span><span style=\"text-decoration: underline; text-decoration-color: #a30000; text-decoration-thickness: 4px; text-underline-offset: 3px;\">iku</span><span style=\"text-decoration: underline; text-decoration-color: #fff5f5; text-decoration-thickness: 4px; text-underline-offset: 3px;\">.</span> -> Lost my favorite sock,\n",
       "In the dryer it did hide,\n",
       "One<span style=\"text-decoration: underline; text-decoration-thickness: 4px; text-underline-offset: 3px;\"> foot</span>'s cold, how odd.</div>"
      ],
      "text/plain": [
       "<IPython.core.display.HTML object>"
      ]
     },
     "metadata": {},
     "output_type": "display_data"
    },
    {
     "data": {
      "text/html": [
       "<div style=\"font-family: monospace; line-height: 1.5;\"><span style=\"text-decoration: underline; text-decoration-color: #ffe9e9; text-decoration-thickness: 4px; text-underline-offset: 3px;\">Write</span><span style=\"text-decoration: underline; text-decoration-color: #ff2525; text-decoration-thickness: 4px; text-underline-offset: 3px;\"> a</span><span style=\"text-decoration: underline; text-decoration-color: #ff2929; text-decoration-thickness: 4px; text-underline-offset: 3px;\"> funny</span><span style=\"text-decoration: underline; text-decoration-color: #ffeded; text-decoration-thickness: 4px; text-underline-offset: 3px;\">,</span><span style=\"text-decoration: underline; text-decoration-color: #2929ff; text-decoration-thickness: 4px; text-underline-offset: 3px;\"> sad</span><span style=\"text-decoration: underline; text-decoration-color: #fc0000; text-decoration-thickness: 4px; text-underline-offset: 3px;\"> ha</span><span style=\"text-decoration: underline; text-decoration-color: #3131ff; text-decoration-thickness: 4px; text-underline-offset: 3px;\">iku</span><span style=\"text-decoration: underline; text-decoration-color: #ffe5e5; text-decoration-thickness: 4px; text-underline-offset: 3px;\">.</span> -> Lost my favorite sock,\n",
       "In the dryer it did hide,\n",
       "One foot<span style=\"text-decoration: underline; text-decoration-thickness: 4px; text-underline-offset: 3px;\">'s</span> cold, how odd.</div>"
      ],
      "text/plain": [
       "<IPython.core.display.HTML object>"
      ]
     },
     "metadata": {},
     "output_type": "display_data"
    },
    {
     "data": {
      "text/html": [
       "<div style=\"font-family: monospace; line-height: 1.5;\"><span style=\"text-decoration: underline; text-decoration-color: #ff8d8d; text-decoration-thickness: 4px; text-underline-offset: 3px;\">Write</span><span style=\"text-decoration: underline; text-decoration-color: #d20000; text-decoration-thickness: 4px; text-underline-offset: 3px;\"> a</span><span style=\"text-decoration: underline; text-decoration-color: #ff8585; text-decoration-thickness: 4px; text-underline-offset: 3px;\"> funny</span><span style=\"text-decoration: underline; text-decoration-color: #ff6969; text-decoration-thickness: 4px; text-underline-offset: 3px;\">,</span><span style=\"text-decoration: underline; text-decoration-color: #d20000; text-decoration-thickness: 4px; text-underline-offset: 3px;\"> sad</span><span style=\"text-decoration: underline; text-decoration-color: #d20000; text-decoration-thickness: 4px; text-underline-offset: 3px;\"> ha</span><span style=\"text-decoration: underline; text-decoration-color: #d30000; text-decoration-thickness: 4px; text-underline-offset: 3px;\">iku</span><span style=\"text-decoration: underline; text-decoration-color: #ff7171; text-decoration-thickness: 4px; text-underline-offset: 3px;\">.</span> -> Lost my favorite sock,\n",
       "In the dryer it did hide,\n",
       "One foot's<span style=\"text-decoration: underline; text-decoration-thickness: 4px; text-underline-offset: 3px;\"> cold</span>, how odd.</div>"
      ],
      "text/plain": [
       "<IPython.core.display.HTML object>"
      ]
     },
     "metadata": {},
     "output_type": "display_data"
    },
    {
     "data": {
      "text/html": [
       "<div style=\"font-family: monospace; line-height: 1.5;\"><span style=\"text-decoration: underline; text-decoration-color: #ffcdcd; text-decoration-thickness: 4px; text-underline-offset: 3px;\">Write</span><span style=\"text-decoration: underline; text-decoration-color: #ffc1c1; text-decoration-thickness: 4px; text-underline-offset: 3px;\"> a</span><span style=\"text-decoration: underline; text-decoration-color: #d00000; text-decoration-thickness: 4px; text-underline-offset: 3px;\"> funny</span><span style=\"text-decoration: underline; text-decoration-color: #ffbdbd; text-decoration-thickness: 4px; text-underline-offset: 3px;\">,</span><span style=\"text-decoration: underline; text-decoration-color: #ff1d1d; text-decoration-thickness: 4px; text-underline-offset: 3px;\"> sad</span><span style=\"text-decoration: underline; text-decoration-color: #9c0000; text-decoration-thickness: 4px; text-underline-offset: 3px;\"> ha</span><span style=\"text-decoration: underline; text-decoration-color: #ffa1a1; text-decoration-thickness: 4px; text-underline-offset: 3px;\">iku</span><span style=\"text-decoration: underline; text-decoration-color: #ffb5b5; text-decoration-thickness: 4px; text-underline-offset: 3px;\">.</span> -> Lost my favorite sock,\n",
       "In the dryer it did hide,\n",
       "One foot's cold<span style=\"text-decoration: underline; text-decoration-thickness: 4px; text-underline-offset: 3px;\">,</span> how odd.</div>"
      ],
      "text/plain": [
       "<IPython.core.display.HTML object>"
      ]
     },
     "metadata": {},
     "output_type": "display_data"
    },
    {
     "data": {
      "text/html": [
       "<div style=\"font-family: monospace; line-height: 1.5;\"><span style=\"text-decoration: underline; text-decoration-color: #adadff; text-decoration-thickness: 4px; text-underline-offset: 3px;\">Write</span><span style=\"text-decoration: underline; text-decoration-color: #ff0101; text-decoration-thickness: 4px; text-underline-offset: 3px;\"> a</span><span style=\"text-decoration: underline; text-decoration-color: #ff0101; text-decoration-thickness: 4px; text-underline-offset: 3px;\"> funny</span><span style=\"text-decoration: underline; text-decoration-color: #f1f1ff; text-decoration-thickness: 4px; text-underline-offset: 3px;\">,</span><span style=\"text-decoration: underline; text-decoration-color: #ff0101; text-decoration-thickness: 4px; text-underline-offset: 3px;\"> sad</span><span style=\"text-decoration: underline; text-decoration-color: #ff0101; text-decoration-thickness: 4px; text-underline-offset: 3px;\"> ha</span><span style=\"text-decoration: underline; text-decoration-color: #ff0101; text-decoration-thickness: 4px; text-underline-offset: 3px;\">iku</span><span style=\"text-decoration: underline; text-decoration-color: #adadff; text-decoration-thickness: 4px; text-underline-offset: 3px;\">.</span> -> Lost my favorite sock,\n",
       "In the dryer it did hide,\n",
       "One foot's cold,<span style=\"text-decoration: underline; text-decoration-thickness: 4px; text-underline-offset: 3px;\"> how</span> odd.</div>"
      ],
      "text/plain": [
       "<IPython.core.display.HTML object>"
      ]
     },
     "metadata": {},
     "output_type": "display_data"
    },
    {
     "data": {
      "text/html": [
       "<div style=\"font-family: monospace; line-height: 1.5;\"><span style=\"text-decoration: underline; text-decoration-color: #fff5f5; text-decoration-thickness: 4px; text-underline-offset: 3px;\">Write</span><span style=\"text-decoration: underline; text-decoration-color: #ff3131; text-decoration-thickness: 4px; text-underline-offset: 3px;\"> a</span><span style=\"text-decoration: underline; text-decoration-color: #ff3131; text-decoration-thickness: 4px; text-underline-offset: 3px;\"> funny</span><span style=\"text-decoration: underline; text-decoration-color: #ff4d4d; text-decoration-thickness: 4px; text-underline-offset: 3px;\">,</span><span style=\"text-decoration: underline; text-decoration-color: #ff3131; text-decoration-thickness: 4px; text-underline-offset: 3px;\"> sad</span><span style=\"text-decoration: underline; text-decoration-color: #ff3131; text-decoration-thickness: 4px; text-underline-offset: 3px;\"> ha</span><span style=\"text-decoration: underline; text-decoration-color: #ff3131; text-decoration-thickness: 4px; text-underline-offset: 3px;\">iku</span><span style=\"text-decoration: underline; text-decoration-color: #ffc1c1; text-decoration-thickness: 4px; text-underline-offset: 3px;\">.</span> -> Lost my favorite sock,\n",
       "In the dryer it did hide,\n",
       "One foot's cold, how<span style=\"text-decoration: underline; text-decoration-thickness: 4px; text-underline-offset: 3px;\"> odd</span>.</div>"
      ],
      "text/plain": [
       "<IPython.core.display.HTML object>"
      ]
     },
     "metadata": {},
     "output_type": "display_data"
    },
    {
     "data": {
      "text/html": [
       "<div style=\"font-family: monospace; line-height: 1.5;\"><span style=\"text-decoration: underline; text-decoration-color: #ffe1e1; text-decoration-thickness: 4px; text-underline-offset: 3px;\">Write</span><span style=\"text-decoration: underline; text-decoration-color: #ffadad; text-decoration-thickness: 4px; text-underline-offset: 3px;\"> a</span><span style=\"text-decoration: underline; text-decoration-color: #ddddff; text-decoration-thickness: 4px; text-underline-offset: 3px;\"> funny</span><span style=\"text-decoration: underline; text-decoration-color: #ff2525; text-decoration-thickness: 4px; text-underline-offset: 3px;\">,</span><span style=\"text-decoration: underline; text-decoration-color: #ffdddd; text-decoration-thickness: 4px; text-underline-offset: 3px;\"> sad</span><span style=\"text-decoration: underline; text-decoration-color: #960000; text-decoration-thickness: 4px; text-underline-offset: 3px;\"> ha</span><span style=\"text-decoration: underline; text-decoration-color: #d9d9ff; text-decoration-thickness: 4px; text-underline-offset: 3px;\">iku</span><span style=\"text-decoration: underline; text-decoration-color: #ff7979; text-decoration-thickness: 4px; text-underline-offset: 3px;\">.</span> -> Lost my favorite sock,\n",
       "In the dryer it did hide,\n",
       "One foot's cold, how odd<span style=\"text-decoration: underline; text-decoration-thickness: 4px; text-underline-offset: 3px;\">.</span></div>"
      ],
      "text/plain": [
       "<IPython.core.display.HTML object>"
      ]
     },
     "metadata": {},
     "output_type": "display_data"
    },
    {
     "data": {
      "text/html": [
       "<style type=\"text/css\">\n",
       "#T_5a2e0_row0_col0, #T_5a2e0_row0_col1, #T_5a2e0_row0_col2, #T_5a2e0_row0_col3, #T_5a2e0_row0_col4, #T_5a2e0_row0_col5, #T_5a2e0_row0_col6, #T_5a2e0_row0_col7, #T_5a2e0_row0_col8, #T_5a2e0_row0_col9, #T_5a2e0_row0_col10, #T_5a2e0_row0_col11 {\n",
       "  white-space: pre-wrap;\n",
       "}\n",
       "</style>\n",
       "<table id=\"T_5a2e0\">\n",
       "  <thead>\n",
       "    <tr>\n",
       "      <th class=\"blank level0\" >&nbsp;</th>\n",
       "      <th id=\"T_5a2e0_level0_col0\" class=\"col_heading level0 col0\" >exp_id</th>\n",
       "      <th id=\"T_5a2e0_level0_col1\" class=\"col_heading level0 col1\" >attribution_strategy</th>\n",
       "      <th id=\"T_5a2e0_level0_col2\" class=\"col_heading level0 col2\" >perturbation_strategy</th>\n",
       "      <th id=\"T_5a2e0_level0_col3\" class=\"col_heading level0 col3\" >unit_definition</th>\n",
       "      <th id=\"T_5a2e0_level0_col4\" class=\"col_heading level0 col4\" >token_1</th>\n",
       "      <th id=\"T_5a2e0_level0_col5\" class=\"col_heading level0 col5\" >token_2</th>\n",
       "      <th id=\"T_5a2e0_level0_col6\" class=\"col_heading level0 col6\" >token_3</th>\n",
       "      <th id=\"T_5a2e0_level0_col7\" class=\"col_heading level0 col7\" >token_4</th>\n",
       "      <th id=\"T_5a2e0_level0_col8\" class=\"col_heading level0 col8\" >token_5</th>\n",
       "      <th id=\"T_5a2e0_level0_col9\" class=\"col_heading level0 col9\" >token_6</th>\n",
       "      <th id=\"T_5a2e0_level0_col10\" class=\"col_heading level0 col10\" >token_7</th>\n",
       "      <th id=\"T_5a2e0_level0_col11\" class=\"col_heading level0 col11\" >token_8</th>\n",
       "    </tr>\n",
       "  </thead>\n",
       "  <tbody>\n",
       "    <tr>\n",
       "      <th id=\"T_5a2e0_level0_row0\" class=\"row_heading level0 row0\" >0</th>\n",
       "      <td id=\"T_5a2e0_row0_col0\" class=\"data row0 col0\" >5</td>\n",
       "      <td id=\"T_5a2e0_row0_col1\" class=\"data row0 col1\" >prob_diff</td>\n",
       "      <td id=\"T_5a2e0_row0_col2\" class=\"data row0 col2\" >fixed</td>\n",
       "      <td id=\"T_5a2e0_row0_col3\" class=\"data row0 col3\" >token</td>\n",
       "      <td id=\"T_5a2e0_row0_col4\" class=\"data row0 col4\" >Write\n",
       "0.10</td>\n",
       "      <td id=\"T_5a2e0_row0_col5\" class=\"data row0 col5\" > a\n",
       "0.42</td>\n",
       "      <td id=\"T_5a2e0_row0_col6\" class=\"data row0 col6\" > funny\n",
       "0.41</td>\n",
       "      <td id=\"T_5a2e0_row0_col7\" class=\"data row0 col7\" >,\n",
       "0.09</td>\n",
       "      <td id=\"T_5a2e0_row0_col8\" class=\"data row0 col8\" > sad\n",
       "0.31</td>\n",
       "      <td id=\"T_5a2e0_row0_col9\" class=\"data row0 col9\" > ha\n",
       "0.63</td>\n",
       "      <td id=\"T_5a2e0_row0_col10\" class=\"data row0 col10\" >iku\n",
       "0.37</td>\n",
       "      <td id=\"T_5a2e0_row0_col11\" class=\"data row0 col11\" >.\n",
       "0.10</td>\n",
       "    </tr>\n",
       "  </tbody>\n",
       "</table>\n"
      ],
      "text/plain": [
       "<pandas.io.formats.style.Styler at 0x17c112f00>"
      ]
     },
     "metadata": {},
     "output_type": "display_data"
    },
    {
     "data": {
      "text/html": [
       "<style type=\"text/css\">\n",
       "#T_d7a93_row0_col0, #T_d7a93_row0_col19 {\n",
       "  background-color: #ffe1e1;\n",
       "  color: #000000;\n",
       "  white-space: pre-wrap;\n",
       "}\n",
       "#T_d7a93_row0_col1, #T_d7a93_row2_col11, #T_d7a93_row2_col19 {\n",
       "  background-color: #ddddff;\n",
       "  color: #000000;\n",
       "  white-space: pre-wrap;\n",
       "}\n",
       "#T_d7a93_row0_col2, #T_d7a93_row0_col17, #T_d7a93_row7_col17 {\n",
       "  background-color: #adadff;\n",
       "  color: #000000;\n",
       "  white-space: pre-wrap;\n",
       "}\n",
       "#T_d7a93_row0_col3, #T_d7a93_row0_col13, #T_d7a93_row1_col0, #T_d7a93_row3_col7, #T_d7a93_row3_col14, #T_d7a93_row7_col6 {\n",
       "  background-color: #ffeded;\n",
       "  color: #000000;\n",
       "  white-space: pre-wrap;\n",
       "}\n",
       "#T_d7a93_row0_col4, #T_d7a93_row3_col13, #T_d7a93_row4_col11 {\n",
       "  background-color: #fff9f9;\n",
       "  color: #000000;\n",
       "  white-space: pre-wrap;\n",
       "}\n",
       "#T_d7a93_row0_col5, #T_d7a93_row7_col12 {\n",
       "  background-color: #ff9d9d;\n",
       "  color: #000000;\n",
       "  white-space: pre-wrap;\n",
       "}\n",
       "#T_d7a93_row0_col6 {\n",
       "  background-color: #ffb1b1;\n",
       "  color: #000000;\n",
       "  white-space: pre-wrap;\n",
       "}\n",
       "#T_d7a93_row0_col7, #T_d7a93_row0_col18, #T_d7a93_row7_col3, #T_d7a93_row7_col4, #T_d7a93_row7_col13 {\n",
       "  background-color: #fff5f5;\n",
       "  color: #000000;\n",
       "  white-space: pre-wrap;\n",
       "}\n",
       "#T_d7a93_row0_col8 {\n",
       "  background-color: #ff8181;\n",
       "  color: #f1f1f1;\n",
       "  white-space: pre-wrap;\n",
       "}\n",
       "#T_d7a93_row0_col9, #T_d7a93_row1_col9, #T_d7a93_row2_col9, #T_d7a93_row3_col9, #T_d7a93_row4_col9, #T_d7a93_row6_col9, #T_d7a93_row7_col9 {\n",
       "  background-color: #ff1111;\n",
       "  color: #f1f1f1;\n",
       "  white-space: pre-wrap;\n",
       "}\n",
       "#T_d7a93_row0_col10, #T_d7a93_row1_col10, #T_d7a93_row2_col10, #T_d7a93_row3_col10, #T_d7a93_row4_col10, #T_d7a93_row5_col10, #T_d7a93_row6_col10, #T_d7a93_row7_col10 {\n",
       "  background-color: #ff6161;\n",
       "  color: #f1f1f1;\n",
       "  white-space: pre-wrap;\n",
       "}\n",
       "#T_d7a93_row0_col11 {\n",
       "  background-color: #ffa9a9;\n",
       "  color: #000000;\n",
       "  white-space: pre-wrap;\n",
       "}\n",
       "#T_d7a93_row0_col12, #T_d7a93_row2_col15 {\n",
       "  background-color: #ff8585;\n",
       "  color: #f1f1f1;\n",
       "  white-space: pre-wrap;\n",
       "}\n",
       "#T_d7a93_row0_col14, #T_d7a93_row3_col6 {\n",
       "  background-color: #ffe9e9;\n",
       "  color: #000000;\n",
       "  white-space: pre-wrap;\n",
       "}\n",
       "#T_d7a93_row0_col15, #T_d7a93_row4_col0, #T_d7a93_row5_col0 {\n",
       "  background-color: #ff8d8d;\n",
       "  color: #000000;\n",
       "  white-space: pre-wrap;\n",
       "}\n",
       "#T_d7a93_row0_col16 {\n",
       "  background-color: #ffcdcd;\n",
       "  color: #000000;\n",
       "  white-space: pre-wrap;\n",
       "}\n",
       "#T_d7a93_row0_col20, #T_d7a93_row0_col21, #T_d7a93_row1_col20, #T_d7a93_row1_col21, #T_d7a93_row2_col20, #T_d7a93_row2_col21, #T_d7a93_row3_col20, #T_d7a93_row3_col21, #T_d7a93_row4_col20, #T_d7a93_row4_col21, #T_d7a93_row5_col20, #T_d7a93_row5_col21, #T_d7a93_row6_col20, #T_d7a93_row6_col21, #T_d7a93_row7_col20, #T_d7a93_row7_col21 {\n",
       "  white-space: pre-wrap;\n",
       "}\n",
       "#T_d7a93_row1_col1 {\n",
       "  background-color: #cc0000;\n",
       "  color: #f1f1f1;\n",
       "  white-space: pre-wrap;\n",
       "}\n",
       "#T_d7a93_row1_col2, #T_d7a93_row2_col2, #T_d7a93_row4_col2, #T_d7a93_row5_col2, #T_d7a93_row6_col2 {\n",
       "  background-color: #ff1919;\n",
       "  color: #f1f1f1;\n",
       "  white-space: pre-wrap;\n",
       "}\n",
       "#T_d7a93_row1_col3, #T_d7a93_row2_col3, #T_d7a93_row4_col3, #T_d7a93_row5_col3, #T_d7a93_row6_col3 {\n",
       "  background-color: #ac0000;\n",
       "  color: #f1f1f1;\n",
       "  white-space: pre-wrap;\n",
       "}\n",
       "#T_d7a93_row1_col4 {\n",
       "  background-color: #9999ff;\n",
       "  color: #f1f1f1;\n",
       "  white-space: pre-wrap;\n",
       "}\n",
       "#T_d7a93_row1_col5, #T_d7a93_row5_col5 {\n",
       "  background-color: #ea0000;\n",
       "  color: #f1f1f1;\n",
       "  white-space: pre-wrap;\n",
       "}\n",
       "#T_d7a93_row1_col6 {\n",
       "  background-color: #ff4141;\n",
       "  color: #f1f1f1;\n",
       "  white-space: pre-wrap;\n",
       "}\n",
       "#T_d7a93_row1_col7, #T_d7a93_row2_col7, #T_d7a93_row4_col7, #T_d7a93_row5_col7, #T_d7a93_row6_col7 {\n",
       "  background-color: #b20000;\n",
       "  color: #f1f1f1;\n",
       "  white-space: pre-wrap;\n",
       "}\n",
       "#T_d7a93_row1_col8, #T_d7a93_row1_col14, #T_d7a93_row2_col8, #T_d7a93_row3_col19, #T_d7a93_row4_col6, #T_d7a93_row5_col8 {\n",
       "  background-color: #ff2525;\n",
       "  color: #f1f1f1;\n",
       "  white-space: pre-wrap;\n",
       "}\n",
       "#T_d7a93_row1_col11 {\n",
       "  background-color: #e9e9ff;\n",
       "  color: #000000;\n",
       "  white-space: pre-wrap;\n",
       "}\n",
       "#T_d7a93_row1_col12, #T_d7a93_row2_col12, #T_d7a93_row4_col12, #T_d7a93_row5_col12, #T_d7a93_row6_col12 {\n",
       "  background-color: #e00000;\n",
       "  color: #f1f1f1;\n",
       "  white-space: pre-wrap;\n",
       "}\n",
       "#T_d7a93_row1_col13, #T_d7a93_row2_col13, #T_d7a93_row4_col13, #T_d7a93_row5_col13, #T_d7a93_row6_col13 {\n",
       "  background-color: #a30000;\n",
       "  color: #f1f1f1;\n",
       "  white-space: pre-wrap;\n",
       "}\n",
       "#T_d7a93_row1_col15, #T_d7a93_row4_col15, #T_d7a93_row5_col15 {\n",
       "  background-color: #d20000;\n",
       "  color: #f1f1f1;\n",
       "  white-space: pre-wrap;\n",
       "}\n",
       "#T_d7a93_row1_col16, #T_d7a93_row7_col18 {\n",
       "  background-color: #ffc1c1;\n",
       "  color: #000000;\n",
       "  white-space: pre-wrap;\n",
       "}\n",
       "#T_d7a93_row1_col17, #T_d7a93_row2_col17, #T_d7a93_row4_col17, #T_d7a93_row5_col17, #T_d7a93_row6_col17 {\n",
       "  background-color: #ff0101;\n",
       "  color: #f1f1f1;\n",
       "  white-space: pre-wrap;\n",
       "}\n",
       "#T_d7a93_row1_col18, #T_d7a93_row2_col18, #T_d7a93_row4_col18, #T_d7a93_row5_col18, #T_d7a93_row6_col8, #T_d7a93_row6_col18 {\n",
       "  background-color: #ff3131;\n",
       "  color: #f1f1f1;\n",
       "  white-space: pre-wrap;\n",
       "}\n",
       "#T_d7a93_row1_col19 {\n",
       "  background-color: #ffadad;\n",
       "  color: #000000;\n",
       "  white-space: pre-wrap;\n",
       "}\n",
       "#T_d7a93_row2_col0 {\n",
       "  background-color: #ffd9d9;\n",
       "  color: #000000;\n",
       "  white-space: pre-wrap;\n",
       "}\n",
       "#T_d7a93_row2_col1, #T_d7a93_row5_col1 {\n",
       "  background-color: #c60000;\n",
       "  color: #f1f1f1;\n",
       "  white-space: pre-wrap;\n",
       "}\n",
       "#T_d7a93_row2_col4 {\n",
       "  background-color: #8d8dff;\n",
       "  color: #f1f1f1;\n",
       "  white-space: pre-wrap;\n",
       "}\n",
       "#T_d7a93_row2_col5 {\n",
       "  background-color: #ee0000;\n",
       "  color: #f1f1f1;\n",
       "  white-space: pre-wrap;\n",
       "}\n",
       "#T_d7a93_row2_col6, #T_d7a93_row7_col15 {\n",
       "  background-color: #ff7171;\n",
       "  color: #f1f1f1;\n",
       "  white-space: pre-wrap;\n",
       "}\n",
       "#T_d7a93_row2_col14 {\n",
       "  background-color: #ff2929;\n",
       "  color: #f1f1f1;\n",
       "  white-space: pre-wrap;\n",
       "}\n",
       "#T_d7a93_row2_col16 {\n",
       "  background-color: #d00000;\n",
       "  color: #f1f1f1;\n",
       "  white-space: pre-wrap;\n",
       "}\n",
       "#T_d7a93_row3_col0 {\n",
       "  background-color: #1515ff;\n",
       "  color: #f1f1f1;\n",
       "  white-space: pre-wrap;\n",
       "}\n",
       "#T_d7a93_row3_col1 {\n",
       "  background-color: #d1d1ff;\n",
       "  color: #000000;\n",
       "  white-space: pre-wrap;\n",
       "}\n",
       "#T_d7a93_row3_col2 {\n",
       "  background-color: #ffd5d5;\n",
       "  color: #000000;\n",
       "  white-space: pre-wrap;\n",
       "}\n",
       "#T_d7a93_row3_col3, #T_d7a93_row7_col5 {\n",
       "  background-color: #fff1f1;\n",
       "  color: #000000;\n",
       "  white-space: pre-wrap;\n",
       "}\n",
       "#T_d7a93_row3_col4 {\n",
       "  background-color: #a1a1ff;\n",
       "  color: #f1f1f1;\n",
       "  white-space: pre-wrap;\n",
       "}\n",
       "#T_d7a93_row3_col5, #T_d7a93_row7_col1 {\n",
       "  background-color: #e1e1ff;\n",
       "  color: #000000;\n",
       "  white-space: pre-wrap;\n",
       "}\n",
       "#T_d7a93_row3_col8, #T_d7a93_row7_col16 {\n",
       "  background-color: #ffb5b5;\n",
       "  color: #000000;\n",
       "  white-space: pre-wrap;\n",
       "}\n",
       "#T_d7a93_row3_col11 {\n",
       "  background-color: #f5f5ff;\n",
       "  color: #000000;\n",
       "  white-space: pre-wrap;\n",
       "}\n",
       "#T_d7a93_row3_col12, #T_d7a93_row3_col15 {\n",
       "  background-color: #ff6969;\n",
       "  color: #f1f1f1;\n",
       "  white-space: pre-wrap;\n",
       "}\n",
       "#T_d7a93_row3_col16 {\n",
       "  background-color: #ffbdbd;\n",
       "  color: #000000;\n",
       "  white-space: pre-wrap;\n",
       "}\n",
       "#T_d7a93_row3_col17 {\n",
       "  background-color: #f1f1ff;\n",
       "  color: #000000;\n",
       "  white-space: pre-wrap;\n",
       "}\n",
       "#T_d7a93_row3_col18 {\n",
       "  background-color: #ff4d4d;\n",
       "  color: #f1f1f1;\n",
       "  white-space: pre-wrap;\n",
       "}\n",
       "#T_d7a93_row4_col1 {\n",
       "  background-color: #8181ff;\n",
       "  color: #f1f1f1;\n",
       "  white-space: pre-wrap;\n",
       "}\n",
       "#T_d7a93_row4_col4 {\n",
       "  background-color: #b1b1ff;\n",
       "  color: #000000;\n",
       "  white-space: pre-wrap;\n",
       "}\n",
       "#T_d7a93_row4_col5 {\n",
       "  background-color: #f20000;\n",
       "  color: #f1f1f1;\n",
       "  white-space: pre-wrap;\n",
       "}\n",
       "#T_d7a93_row4_col8 {\n",
       "  background-color: #0000f2;\n",
       "  color: #f1f1f1;\n",
       "  white-space: pre-wrap;\n",
       "}\n",
       "#T_d7a93_row4_col14 {\n",
       "  background-color: #2929ff;\n",
       "  color: #f1f1f1;\n",
       "  white-space: pre-wrap;\n",
       "}\n",
       "#T_d7a93_row4_col16, #T_d7a93_row5_col9 {\n",
       "  background-color: #ff1d1d;\n",
       "  color: #f1f1f1;\n",
       "  white-space: pre-wrap;\n",
       "}\n",
       "#T_d7a93_row4_col19 {\n",
       "  background-color: #ffdddd;\n",
       "  color: #000000;\n",
       "  white-space: pre-wrap;\n",
       "}\n",
       "#T_d7a93_row5_col4 {\n",
       "  background-color: #bc0000;\n",
       "  color: #f1f1f1;\n",
       "  white-space: pre-wrap;\n",
       "}\n",
       "#T_d7a93_row5_col6 {\n",
       "  background-color: #b80000;\n",
       "  color: #f1f1f1;\n",
       "  white-space: pre-wrap;\n",
       "}\n",
       "#T_d7a93_row5_col11 {\n",
       "  background-color: #930000;\n",
       "  color: #f1f1f1;\n",
       "  white-space: pre-wrap;\n",
       "}\n",
       "#T_d7a93_row5_col14 {\n",
       "  background-color: #fc0000;\n",
       "  color: #f1f1f1;\n",
       "  white-space: pre-wrap;\n",
       "}\n",
       "#T_d7a93_row5_col16 {\n",
       "  background-color: #9c0000;\n",
       "  color: #f1f1f1;\n",
       "  white-space: pre-wrap;\n",
       "}\n",
       "#T_d7a93_row5_col19 {\n",
       "  background-color: #960000;\n",
       "  color: #f1f1f1;\n",
       "  white-space: pre-wrap;\n",
       "}\n",
       "#T_d7a93_row6_col0 {\n",
       "  background-color: #ff9999;\n",
       "  color: #000000;\n",
       "  white-space: pre-wrap;\n",
       "}\n",
       "#T_d7a93_row6_col1 {\n",
       "  background-color: #c80000;\n",
       "  color: #f1f1f1;\n",
       "  white-space: pre-wrap;\n",
       "}\n",
       "#T_d7a93_row6_col4 {\n",
       "  background-color: #e5e5ff;\n",
       "  color: #000000;\n",
       "  white-space: pre-wrap;\n",
       "}\n",
       "#T_d7a93_row6_col5 {\n",
       "  background-color: #fe0000;\n",
       "  color: #f1f1f1;\n",
       "  white-space: pre-wrap;\n",
       "}\n",
       "#T_d7a93_row6_col6, #T_d7a93_row7_col0 {\n",
       "  background-color: #fffdfd;\n",
       "  color: #000000;\n",
       "  white-space: pre-wrap;\n",
       "}\n",
       "#T_d7a93_row6_col11, #T_d7a93_row7_col7 {\n",
       "  background-color: #ffc9c9;\n",
       "  color: #000000;\n",
       "  white-space: pre-wrap;\n",
       "}\n",
       "#T_d7a93_row6_col14 {\n",
       "  background-color: #3131ff;\n",
       "  color: #f1f1f1;\n",
       "  white-space: pre-wrap;\n",
       "}\n",
       "#T_d7a93_row6_col15 {\n",
       "  background-color: #d30000;\n",
       "  color: #f1f1f1;\n",
       "  white-space: pre-wrap;\n",
       "}\n",
       "#T_d7a93_row6_col16, #T_d7a93_row7_col11 {\n",
       "  background-color: #ffa1a1;\n",
       "  color: #000000;\n",
       "  white-space: pre-wrap;\n",
       "}\n",
       "#T_d7a93_row6_col19 {\n",
       "  background-color: #d9d9ff;\n",
       "  color: #000000;\n",
       "  white-space: pre-wrap;\n",
       "}\n",
       "#T_d7a93_row7_col2 {\n",
       "  background-color: #ededff;\n",
       "  color: #000000;\n",
       "  white-space: pre-wrap;\n",
       "}\n",
       "#T_d7a93_row7_col8 {\n",
       "  background-color: #ffd1d1;\n",
       "  color: #000000;\n",
       "  white-space: pre-wrap;\n",
       "}\n",
       "#T_d7a93_row7_col14 {\n",
       "  background-color: #ffe5e5;\n",
       "  color: #000000;\n",
       "  white-space: pre-wrap;\n",
       "}\n",
       "#T_d7a93_row7_col19 {\n",
       "  background-color: #ff7979;\n",
       "  color: #f1f1f1;\n",
       "  white-space: pre-wrap;\n",
       "}\n",
       "</style>\n",
       "<table id=\"T_d7a93\">\n",
       "  <thead>\n",
       "    <tr>\n",
       "      <th class=\"blank level0\" >&nbsp;</th>\n",
       "      <th id=\"T_d7a93_level0_col0\" class=\"col_heading level0 col0\" >Lost (0)</th>\n",
       "      <th id=\"T_d7a93_level0_col1\" class=\"col_heading level0 col1\" > my (1)</th>\n",
       "      <th id=\"T_d7a93_level0_col2\" class=\"col_heading level0 col2\" > favorite (2)</th>\n",
       "      <th id=\"T_d7a93_level0_col3\" class=\"col_heading level0 col3\" > sock (3)</th>\n",
       "      <th id=\"T_d7a93_level0_col4\" class=\"col_heading level0 col4\" >,\n",
       " (4)</th>\n",
       "      <th id=\"T_d7a93_level0_col5\" class=\"col_heading level0 col5\" >In (5)</th>\n",
       "      <th id=\"T_d7a93_level0_col6\" class=\"col_heading level0 col6\" > the (6)</th>\n",
       "      <th id=\"T_d7a93_level0_col7\" class=\"col_heading level0 col7\" > dryer (7)</th>\n",
       "      <th id=\"T_d7a93_level0_col8\" class=\"col_heading level0 col8\" > it (8)</th>\n",
       "      <th id=\"T_d7a93_level0_col9\" class=\"col_heading level0 col9\" > did (9)</th>\n",
       "      <th id=\"T_d7a93_level0_col10\" class=\"col_heading level0 col10\" > hide (10)</th>\n",
       "      <th id=\"T_d7a93_level0_col11\" class=\"col_heading level0 col11\" >,\n",
       " (11)</th>\n",
       "      <th id=\"T_d7a93_level0_col12\" class=\"col_heading level0 col12\" >One (12)</th>\n",
       "      <th id=\"T_d7a93_level0_col13\" class=\"col_heading level0 col13\" > foot (13)</th>\n",
       "      <th id=\"T_d7a93_level0_col14\" class=\"col_heading level0 col14\" >'s (14)</th>\n",
       "      <th id=\"T_d7a93_level0_col15\" class=\"col_heading level0 col15\" > cold (15)</th>\n",
       "      <th id=\"T_d7a93_level0_col16\" class=\"col_heading level0 col16\" >, (16)</th>\n",
       "      <th id=\"T_d7a93_level0_col17\" class=\"col_heading level0 col17\" > how (17)</th>\n",
       "      <th id=\"T_d7a93_level0_col18\" class=\"col_heading level0 col18\" > odd (18)</th>\n",
       "      <th id=\"T_d7a93_level0_col19\" class=\"col_heading level0 col19\" >. (19)</th>\n",
       "      <th id=\"T_d7a93_level0_col20\" class=\"col_heading level0 col20\" >perturbed_input</th>\n",
       "      <th id=\"T_d7a93_level0_col21\" class=\"col_heading level0 col21\" >perturbed_output</th>\n",
       "    </tr>\n",
       "  </thead>\n",
       "  <tbody>\n",
       "    <tr>\n",
       "      <th id=\"T_d7a93_level0_row0\" class=\"row_heading level0 row0\" >Write (0)</th>\n",
       "      <td id=\"T_d7a93_row0_col0\" class=\"data row0 col0\" >0.058729</td>\n",
       "      <td id=\"T_d7a93_row0_col1\" class=\"data row0 col1\" >-0.062608</td>\n",
       "      <td id=\"T_d7a93_row0_col2\" class=\"data row0 col2\" >-0.157312</td>\n",
       "      <td id=\"T_d7a93_row0_col3\" class=\"data row0 col3\" >0.034773</td>\n",
       "      <td id=\"T_d7a93_row0_col4\" class=\"data row0 col4\" >0.012939</td>\n",
       "      <td id=\"T_d7a93_row0_col5\" class=\"data row0 col5\" >0.190583</td>\n",
       "      <td id=\"T_d7a93_row0_col6\" class=\"data row0 col6\" >0.155516</td>\n",
       "      <td id=\"T_d7a93_row0_col7\" class=\"data row0 col7\" >0.018959</td>\n",
       "      <td id=\"T_d7a93_row0_col8\" class=\"data row0 col8\" >0.247980</td>\n",
       "      <td id=\"T_d7a93_row0_col9\" class=\"data row0 col9\" >0.468207</td>\n",
       "      <td id=\"T_d7a93_row0_col10\" class=\"data row0 col10\" >0.309745</td>\n",
       "      <td id=\"T_d7a93_row0_col11\" class=\"data row0 col11\" >0.171677</td>\n",
       "      <td id=\"T_d7a93_row0_col12\" class=\"data row0 col12\" >0.238188</td>\n",
       "      <td id=\"T_d7a93_row0_col13\" class=\"data row0 col13\" >0.036627</td>\n",
       "      <td id=\"T_d7a93_row0_col14\" class=\"data row0 col14\" >0.042578</td>\n",
       "      <td id=\"T_d7a93_row0_col15\" class=\"data row0 col15\" >0.224231</td>\n",
       "      <td id=\"T_d7a93_row0_col16\" class=\"data row0 col16\" >0.096970</td>\n",
       "      <td id=\"T_d7a93_row0_col17\" class=\"data row0 col17\" >-0.159632</td>\n",
       "      <td id=\"T_d7a93_row0_col18\" class=\"data row0 col18\" >0.020852</td>\n",
       "      <td id=\"T_d7a93_row0_col19\" class=\"data row0 col19\" >0.060157</td>\n",
       "      <td id=\"T_d7a93_row0_col20\" class=\"data row0 col20\" >a funny, sad haiku.</td>\n",
       "      <td id=\"T_d7a93_row0_col21\" class=\"data row0 col21\" >Lost my favorite sock,\n",
       "In the dryer's hungry maw,\n",
       "One foot's cold, how odd.</td>\n",
       "    </tr>\n",
       "    <tr>\n",
       "      <th id=\"T_d7a93_level0_row1\" class=\"row_heading level0 row1\" > a (1)</th>\n",
       "      <td id=\"T_d7a93_row1_col0\" class=\"data row1 col0\" >0.033637</td>\n",
       "      <td id=\"T_d7a93_row1_col1\" class=\"data row1 col1\" >0.699767</td>\n",
       "      <td id=\"T_d7a93_row1_col2\" class=\"data row1 col2\" >0.452264</td>\n",
       "      <td id=\"T_d7a93_row1_col3\" class=\"data row1 col3\" >0.825941</td>\n",
       "      <td id=\"T_d7a93_row1_col4\" class=\"data row1 col4\" >-0.199469</td>\n",
       "      <td id=\"T_d7a93_row1_col5\" class=\"data row1 col5\" >0.580676</td>\n",
       "      <td id=\"T_d7a93_row1_col6\" class=\"data row1 col6\" >0.371116</td>\n",
       "      <td id=\"T_d7a93_row1_col7\" class=\"data row1 col7\" >0.804238</td>\n",
       "      <td id=\"T_d7a93_row1_col8\" class=\"data row1 col8\" >0.425344</td>\n",
       "      <td id=\"T_d7a93_row1_col9\" class=\"data row1 col9\" >0.468207</td>\n",
       "      <td id=\"T_d7a93_row1_col10\" class=\"data row1 col10\" >0.309745</td>\n",
       "      <td id=\"T_d7a93_row1_col11\" class=\"data row1 col11\" >-0.040731</td>\n",
       "      <td id=\"T_d7a93_row1_col12\" class=\"data row1 col12\" >0.623583</td>\n",
       "      <td id=\"T_d7a93_row1_col13\" class=\"data row1 col13\" >0.853683</td>\n",
       "      <td id=\"T_d7a93_row1_col14\" class=\"data row1 col14\" >0.424368</td>\n",
       "      <td id=\"T_d7a93_row1_col15\" class=\"data row1 col15\" >0.674956</td>\n",
       "      <td id=\"T_d7a93_row1_col16\" class=\"data row1 col16\" >0.122470</td>\n",
       "      <td id=\"T_d7a93_row1_col17\" class=\"data row1 col17\" >0.493038</td>\n",
       "      <td id=\"T_d7a93_row1_col18\" class=\"data row1 col18\" >0.401068</td>\n",
       "      <td id=\"T_d7a93_row1_col19\" class=\"data row1 col19\" >0.158819</td>\n",
       "      <td id=\"T_d7a93_row1_col20\" class=\"data row1 col20\" >Write funny, sad haiku.</td>\n",
       "      <td id=\"T_d7a93_row1_col21\" class=\"data row1 col21\" >Fell down in public,\n",
       "Laughter echoes, cheeks turn red,\n",
       "Pride bruised, ego dead.</td>\n",
       "    </tr>\n",
       "    <tr>\n",
       "      <th id=\"T_d7a93_level0_row2\" class=\"row_heading level0 row2\" > funny (2)</th>\n",
       "      <td id=\"T_d7a93_row2_col0\" class=\"data row2 col0\" >0.070476</td>\n",
       "      <td id=\"T_d7a93_row2_col1\" class=\"data row2 col1\" >0.723181</td>\n",
       "      <td id=\"T_d7a93_row2_col2\" class=\"data row2 col2\" >0.452264</td>\n",
       "      <td id=\"T_d7a93_row2_col3\" class=\"data row2 col3\" >0.825941</td>\n",
       "      <td id=\"T_d7a93_row2_col4\" class=\"data row2 col4\" >-0.222482</td>\n",
       "      <td id=\"T_d7a93_row2_col5\" class=\"data row2 col5\" >0.567958</td>\n",
       "      <td id=\"T_d7a93_row2_col6\" class=\"data row2 col6\" >0.274560</td>\n",
       "      <td id=\"T_d7a93_row2_col7\" class=\"data row2 col7\" >0.804238</td>\n",
       "      <td id=\"T_d7a93_row2_col8\" class=\"data row2 col8\" >0.425344</td>\n",
       "      <td id=\"T_d7a93_row2_col9\" class=\"data row2 col9\" >0.468207</td>\n",
       "      <td id=\"T_d7a93_row2_col10\" class=\"data row2 col10\" >0.309745</td>\n",
       "      <td id=\"T_d7a93_row2_col11\" class=\"data row2 col11\" >-0.063745</td>\n",
       "      <td id=\"T_d7a93_row2_col12\" class=\"data row2 col12\" >0.623583</td>\n",
       "      <td id=\"T_d7a93_row2_col13\" class=\"data row2 col13\" >0.853683</td>\n",
       "      <td id=\"T_d7a93_row2_col14\" class=\"data row2 col14\" >0.414231</td>\n",
       "      <td id=\"T_d7a93_row2_col15\" class=\"data row2 col15\" >0.236969</td>\n",
       "      <td id=\"T_d7a93_row2_col16\" class=\"data row2 col16\" >0.682519</td>\n",
       "      <td id=\"T_d7a93_row2_col17\" class=\"data row2 col17\" >0.493038</td>\n",
       "      <td id=\"T_d7a93_row2_col18\" class=\"data row2 col18\" >0.401068</td>\n",
       "      <td id=\"T_d7a93_row2_col19\" class=\"data row2 col19\" >-0.067260</td>\n",
       "      <td id=\"T_d7a93_row2_col20\" class=\"data row2 col20\" >Write a, sad haiku.</td>\n",
       "      <td id=\"T_d7a93_row2_col21\" class=\"data row2 col21\" >Autumn leaves falling,\n",
       "Empty swing sways in the breeze,\n",
       "Childhood, now a ghost.</td>\n",
       "    </tr>\n",
       "    <tr>\n",
       "      <th id=\"T_d7a93_level0_row3\" class=\"row_heading level0 row3\" >, (3)</th>\n",
       "      <td id=\"T_d7a93_row3_col0\" class=\"data row3 col0\" >-0.454407</td>\n",
       "      <td id=\"T_d7a93_row3_col1\" class=\"data row3 col1\" >-0.086855</td>\n",
       "      <td id=\"T_d7a93_row3_col2\" class=\"data row3 col2\" >0.084067</td>\n",
       "      <td id=\"T_d7a93_row3_col3\" class=\"data row3 col3\" >0.030620</td>\n",
       "      <td id=\"T_d7a93_row3_col4\" class=\"data row3 col4\" >-0.181603</td>\n",
       "      <td id=\"T_d7a93_row3_col5\" class=\"data row3 col5\" >-0.062012</td>\n",
       "      <td id=\"T_d7a93_row3_col6\" class=\"data row3 col6\" >0.040113</td>\n",
       "      <td id=\"T_d7a93_row3_col7\" class=\"data row3 col7\" >0.035986</td>\n",
       "      <td id=\"T_d7a93_row3_col8\" class=\"data row3 col8\" >0.143970</td>\n",
       "      <td id=\"T_d7a93_row3_col9\" class=\"data row3 col9\" >0.468207</td>\n",
       "      <td id=\"T_d7a93_row3_col10\" class=\"data row3 col10\" >0.309745</td>\n",
       "      <td id=\"T_d7a93_row3_col11\" class=\"data row3 col11\" >-0.022866</td>\n",
       "      <td id=\"T_d7a93_row3_col12\" class=\"data row3 col12\" >0.292496</td>\n",
       "      <td id=\"T_d7a93_row3_col13\" class=\"data row3 col13\" >0.012132</td>\n",
       "      <td id=\"T_d7a93_row3_col14\" class=\"data row3 col14\" >0.033939</td>\n",
       "      <td id=\"T_d7a93_row3_col15\" class=\"data row3 col15\" >0.292460</td>\n",
       "      <td id=\"T_d7a93_row3_col16\" class=\"data row3 col16\" >0.130676</td>\n",
       "      <td id=\"T_d7a93_row3_col17\" class=\"data row3 col17\" >-0.028300</td>\n",
       "      <td id=\"T_d7a93_row3_col18\" class=\"data row3 col18\" >0.351008</td>\n",
       "      <td id=\"T_d7a93_row3_col19\" class=\"data row3 col19\" >0.426715</td>\n",
       "      <td id=\"T_d7a93_row3_col20\" class=\"data row3 col20\" >Write a funny sad haiku.</td>\n",
       "      <td id=\"T_d7a93_row3_col21\" class=\"data row3 col21\" >Lost my favorite sock,\n",
       "In the dryer's black abyss,\n",
       "One foot's cold, how cruel.</td>\n",
       "    </tr>\n",
       "    <tr>\n",
       "      <th id=\"T_d7a93_level0_row4\" class=\"row_heading level0 row4\" > sad (4)</th>\n",
       "      <td id=\"T_d7a93_row4_col0\" class=\"data row4 col0\" >0.222060</td>\n",
       "      <td id=\"T_d7a93_row4_col1\" class=\"data row4 col1\" >-0.247568</td>\n",
       "      <td id=\"T_d7a93_row4_col2\" class=\"data row4 col2\" >0.445813</td>\n",
       "      <td id=\"T_d7a93_row4_col3\" class=\"data row4 col3\" >0.825941</td>\n",
       "      <td id=\"T_d7a93_row4_col4\" class=\"data row4 col4\" >-0.149867</td>\n",
       "      <td id=\"T_d7a93_row4_col5\" class=\"data row4 col5\" >0.548458</td>\n",
       "      <td id=\"T_d7a93_row4_col6\" class=\"data row4 col6\" >0.423481</td>\n",
       "      <td id=\"T_d7a93_row4_col7\" class=\"data row4 col7\" >0.804238</td>\n",
       "      <td id=\"T_d7a93_row4_col8\" class=\"data row4 col8\" >-0.538124</td>\n",
       "      <td id=\"T_d7a93_row4_col9\" class=\"data row4 col9\" >0.468207</td>\n",
       "      <td id=\"T_d7a93_row4_col10\" class=\"data row4 col10\" >0.309745</td>\n",
       "      <td id=\"T_d7a93_row4_col11\" class=\"data row4 col11\" >0.008870</td>\n",
       "      <td id=\"T_d7a93_row4_col12\" class=\"data row4 col12\" >0.623583</td>\n",
       "      <td id=\"T_d7a93_row4_col13\" class=\"data row4 col13\" >0.853683</td>\n",
       "      <td id=\"T_d7a93_row4_col14\" class=\"data row4 col14\" >-0.418445</td>\n",
       "      <td id=\"T_d7a93_row4_col15\" class=\"data row4 col15\" >0.674956</td>\n",
       "      <td id=\"T_d7a93_row4_col16\" class=\"data row4 col16\" >0.440914</td>\n",
       "      <td id=\"T_d7a93_row4_col17\" class=\"data row4 col17\" >0.493038</td>\n",
       "      <td id=\"T_d7a93_row4_col18\" class=\"data row4 col18\" >0.401068</td>\n",
       "      <td id=\"T_d7a93_row4_col19\" class=\"data row4 col19\" >0.063841</td>\n",
       "      <td id=\"T_d7a93_row4_col20\" class=\"data row4 col20\" >Write a funny, haiku.</td>\n",
       "      <td id=\"T_d7a93_row4_col21\" class=\"data row4 col21\" >Coffee in my cup,\n",
       "Spilled it on my laptop - oops,\n",
       "Guess it's time to wake up.</td>\n",
       "    </tr>\n",
       "    <tr>\n",
       "      <th id=\"T_d7a93_level0_row5\" class=\"row_heading level0 row5\" > ha (5)</th>\n",
       "      <td id=\"T_d7a93_row5_col0\" class=\"data row5 col0\" >0.225787</td>\n",
       "      <td id=\"T_d7a93_row5_col1\" class=\"data row5 col1\" >0.723181</td>\n",
       "      <td id=\"T_d7a93_row5_col2\" class=\"data row5 col2\" >0.452264</td>\n",
       "      <td id=\"T_d7a93_row5_col3\" class=\"data row5 col3\" >0.825941</td>\n",
       "      <td id=\"T_d7a93_row5_col4\" class=\"data row5 col4\" >0.760688</td>\n",
       "      <td id=\"T_d7a93_row5_col5\" class=\"data row5 col5\" >0.584216</td>\n",
       "      <td id=\"T_d7a93_row5_col6\" class=\"data row5 col6\" >0.777782</td>\n",
       "      <td id=\"T_d7a93_row5_col7\" class=\"data row5 col7\" >0.804238</td>\n",
       "      <td id=\"T_d7a93_row5_col8\" class=\"data row5 col8\" >0.425341</td>\n",
       "      <td id=\"T_d7a93_row5_col9\" class=\"data row5 col9\" >0.438122</td>\n",
       "      <td id=\"T_d7a93_row5_col10\" class=\"data row5 col10\" >0.309745</td>\n",
       "      <td id=\"T_d7a93_row5_col11\" class=\"data row5 col11\" >0.919426</td>\n",
       "      <td id=\"T_d7a93_row5_col12\" class=\"data row5 col12\" >0.621279</td>\n",
       "      <td id=\"T_d7a93_row5_col13\" class=\"data row5 col13\" >0.853683</td>\n",
       "      <td id=\"T_d7a93_row5_col14\" class=\"data row5 col14\" >0.509341</td>\n",
       "      <td id=\"T_d7a93_row5_col15\" class=\"data row5 col15\" >0.674956</td>\n",
       "      <td id=\"T_d7a93_row5_col16\" class=\"data row5 col16\" >0.888870</td>\n",
       "      <td id=\"T_d7a93_row5_col17\" class=\"data row5 col17\" >0.493038</td>\n",
       "      <td id=\"T_d7a93_row5_col18\" class=\"data row5 col18\" >0.401068</td>\n",
       "      <td id=\"T_d7a93_row5_col19\" class=\"data row5 col19\" >0.910882</td>\n",
       "      <td id=\"T_d7a93_row5_col20\" class=\"data row5 col20\" >Write a funny, sadiku.</td>\n",
       "      <td id=\"T_d7a93_row5_col21\" class=\"data row5 col21\" >Why don't scientists trust atoms?\n",
       "\n",
       "Because they make up everything!</td>\n",
       "    </tr>\n",
       "    <tr>\n",
       "      <th id=\"T_d7a93_level0_row6\" class=\"row_heading level0 row6\" >iku (6)</th>\n",
       "      <td id=\"T_d7a93_row6_col0\" class=\"data row6 col0\" >0.198373</td>\n",
       "      <td id=\"T_d7a93_row6_col1\" class=\"data row6 col1\" >0.715661</td>\n",
       "      <td id=\"T_d7a93_row6_col2\" class=\"data row6 col2\" >0.452264</td>\n",
       "      <td id=\"T_d7a93_row6_col3\" class=\"data row6 col3\" >0.825941</td>\n",
       "      <td id=\"T_d7a93_row6_col4\" class=\"data row6 col4\" >-0.054676</td>\n",
       "      <td id=\"T_d7a93_row6_col5\" class=\"data row6 col5\" >0.502589</td>\n",
       "      <td id=\"T_d7a93_row6_col6\" class=\"data row6 col6\" >0.006491</td>\n",
       "      <td id=\"T_d7a93_row6_col7\" class=\"data row6 col7\" >0.804238</td>\n",
       "      <td id=\"T_d7a93_row6_col8\" class=\"data row6 col8\" >0.405845</td>\n",
       "      <td id=\"T_d7a93_row6_col9\" class=\"data row6 col9\" >0.468207</td>\n",
       "      <td id=\"T_d7a93_row6_col10\" class=\"data row6 col10\" >0.309745</td>\n",
       "      <td id=\"T_d7a93_row6_col11\" class=\"data row6 col11\" >0.104061</td>\n",
       "      <td id=\"T_d7a93_row6_col12\" class=\"data row6 col12\" >0.623583</td>\n",
       "      <td id=\"T_d7a93_row6_col13\" class=\"data row6 col13\" >0.853683</td>\n",
       "      <td id=\"T_d7a93_row6_col14\" class=\"data row6 col14\" >-0.398664</td>\n",
       "      <td id=\"T_d7a93_row6_col15\" class=\"data row6 col15\" >0.670586</td>\n",
       "      <td id=\"T_d7a93_row6_col16\" class=\"data row6 col16\" >0.181148</td>\n",
       "      <td id=\"T_d7a93_row6_col17\" class=\"data row6 col17\" >0.493038</td>\n",
       "      <td id=\"T_d7a93_row6_col18\" class=\"data row6 col18\" >0.401068</td>\n",
       "      <td id=\"T_d7a93_row6_col19\" class=\"data row6 col19\" >-0.071824</td>\n",
       "      <td id=\"T_d7a93_row6_col20\" class=\"data row6 col20\" >Write a funny, sad ha.</td>\n",
       "      <td id=\"T_d7a93_row6_col21\" class=\"data row6 col21\" >A clown in the rain, alone,\n",
       "His red nose, now a sad tone,\n",
       "Laughter lost, in the puddle's moan.</td>\n",
       "    </tr>\n",
       "    <tr>\n",
       "      <th id=\"T_d7a93_level0_row7\" class=\"row_heading level0 row7\" >. (7)</th>\n",
       "      <td id=\"T_d7a93_row7_col0\" class=\"data row7 col0\" >0.007176</td>\n",
       "      <td id=\"T_d7a93_row7_col1\" class=\"data row7 col1\" >-0.056034</td>\n",
       "      <td id=\"T_d7a93_row7_col2\" class=\"data row7 col2\" >-0.038070</td>\n",
       "      <td id=\"T_d7a93_row7_col3\" class=\"data row7 col3\" >0.018426</td>\n",
       "      <td id=\"T_d7a93_row7_col4\" class=\"data row7 col4\" >0.022159</td>\n",
       "      <td id=\"T_d7a93_row7_col5\" class=\"data row7 col5\" >0.027644</td>\n",
       "      <td id=\"T_d7a93_row7_col6\" class=\"data row7 col6\" >0.034181</td>\n",
       "      <td id=\"T_d7a93_row7_col7\" class=\"data row7 col7\" >0.109216</td>\n",
       "      <td id=\"T_d7a93_row7_col8\" class=\"data row7 col8\" >0.090997</td>\n",
       "      <td id=\"T_d7a93_row7_col9\" class=\"data row7 col9\" >0.468207</td>\n",
       "      <td id=\"T_d7a93_row7_col10\" class=\"data row7 col10\" >0.309745</td>\n",
       "      <td id=\"T_d7a93_row7_col11\" class=\"data row7 col11\" >0.180896</td>\n",
       "      <td id=\"T_d7a93_row7_col12\" class=\"data row7 col12\" >0.190598</td>\n",
       "      <td id=\"T_d7a93_row7_col13\" class=\"data row7 col13\" >0.021004</td>\n",
       "      <td id=\"T_d7a93_row7_col14\" class=\"data row7 col14\" >0.051714</td>\n",
       "      <td id=\"T_d7a93_row7_col15\" class=\"data row7 col15\" >0.277822</td>\n",
       "      <td id=\"T_d7a93_row7_col16\" class=\"data row7 col16\" >0.147923</td>\n",
       "      <td id=\"T_d7a93_row7_col17\" class=\"data row7 col17\" >-0.161198</td>\n",
       "      <td id=\"T_d7a93_row7_col18\" class=\"data row7 col18\" >0.121602</td>\n",
       "      <td id=\"T_d7a93_row7_col19\" class=\"data row7 col19\" >0.263819</td>\n",
       "      <td id=\"T_d7a93_row7_col20\" class=\"data row7 col20\" >Write a funny, sad haiku</td>\n",
       "      <td id=\"T_d7a93_row7_col21\" class=\"data row7 col21\" >Lost my favorite sock,\n",
       "In the dryer's hungry maw,\n",
       "One foot's cold, how cruel.</td>\n",
       "    </tr>\n",
       "  </tbody>\n",
       "</table>\n"
      ],
      "text/plain": [
       "<pandas.io.formats.style.Styler at 0x17e9c7d70>"
      ]
     },
     "metadata": {},
     "output_type": "display_data"
    }
   ],
   "source": [
    "logger.print_text_attribution_matrix(exp_id=-1)\n",
    "logger.print_total_attribution(exp_id=-1)\n",
    "logger.print_attribution_matrix(exp_id=-1, show_debug_cols=True)"
   ]
  },
  {
   "cell_type": "markdown",
   "metadata": {},
   "source": [
    "## Steganography\n",
    "\n",
    "Could we use attribution to detect hidden messages between LLMs? Maybe. This is a forced example – you can probably think of better experiments. First let's get GPT4 to secretly encode a message."
   ]
  },
  {
   "cell_type": "code",
   "execution_count": 52,
   "metadata": {},
   "outputs": [
    {
     "name": "stdout",
     "output_type": "stream",
     "text": [
      "VGhlIG93bCBob290cyBhdCBtaWRuaWdodCE=\n"
     ]
    }
   ],
   "source": [
    "input_str = \"Encode this message so that only you can decode it, then reply with just the encoded message (don't explain further): 'The owl hoots at midnight!'\"\n",
    "\n",
    "encoded = await gpt4_attributor.get_chat_completion(input_str)\n",
    "encoded = encoded.message.content\n",
    "print(encoded)"
   ]
  },
  {
   "cell_type": "code",
   "execution_count": 53,
   "metadata": {},
   "outputs": [
    {
     "name": "stdout",
     "output_type": "stream",
     "text": [
      "The owl hoots at midnight!\n"
     ]
    }
   ],
   "source": [
    "input_str = f\"Decode this message. Do not explain further. '{encoded}'\"\n",
    "decoded = await gpt4_attributor.get_chat_completion(input_str)\n",
    "decoded = decoded.message.content\n",
    "print(decoded)"
   ]
  },
  {
   "cell_type": "markdown",
   "metadata": {},
   "source": [
    "Let's see if we can figure out which parts of the prompt were encoded."
   ]
  },
  {
   "cell_type": "code",
   "execution_count": 54,
   "metadata": {},
   "outputs": [
    {
     "name": "stderr",
     "output_type": "stream",
     "text": [
      "Sending 5 concurrent requests at a time: 100%|██████████| 2/2 [00:04<00:00,  2.25s/it]\n",
      "Sending 5 concurrent requests at a time: 100%|██████████| 2/2 [00:01<00:00,  1.28it/s]\n",
      "Sending 5 concurrent requests at a time: 100%|██████████| 3/3 [00:02<00:00,  1.42it/s]\n",
      "Sending 5 concurrent requests at a time: 100%|██████████| 3/3 [00:04<00:00,  1.62s/it]\n",
      "Sending 5 concurrent requests at a time: 100%|██████████| 3/3 [00:04<00:00,  1.35s/it]\n"
     ]
    },
    {
     "data": {
      "text/html": [
       "<div style=\"font-family: monospace; line-height: 1.5;\"><span style=\"text-decoration: underline; text-decoration-color: #fff1f1; text-decoration-thickness: 4px; text-underline-offset: 3px;\">Dec</span><span style=\"text-decoration: underline; text-decoration-color: #fff1f1; text-decoration-thickness: 4px; text-underline-offset: 3px;\">ode</span><span style=\"text-decoration: underline; text-decoration-color: #fff1f1; text-decoration-thickness: 4px; text-underline-offset: 3px;\"> this</span><span style=\"text-decoration: underline; text-decoration-color: #fff1f1; text-decoration-thickness: 4px; text-underline-offset: 3px;\"> message</span><span style=\"text-decoration: underline; text-decoration-color: #fff1f1; text-decoration-thickness: 4px; text-underline-offset: 3px;\">.</span><span style=\"text-decoration: underline; text-decoration-color: #fff1f1; text-decoration-thickness: 4px; text-underline-offset: 3px;\"> Do</span><span style=\"text-decoration: underline; text-decoration-color: #fff1f1; text-decoration-thickness: 4px; text-underline-offset: 3px;\"> not</span><span style=\"text-decoration: underline; text-decoration-color: #ffdddd; text-decoration-thickness: 4px; text-underline-offset: 3px;\"> explain</span><span style=\"text-decoration: underline; text-decoration-color: #ffe5e5; text-decoration-thickness: 4px; text-underline-offset: 3px;\"> further</span><span style=\"text-decoration: underline; text-decoration-color: #ffe5e5; text-decoration-thickness: 4px; text-underline-offset: 3px;\">.</span><span style=\"text-decoration: underline; text-decoration-color: #ffd9d9; text-decoration-thickness: 4px; text-underline-offset: 3px;\"> '</span><span style=\"text-decoration: underline; text-decoration-color: #ffc9c9; text-decoration-thickness: 4px; text-underline-offset: 3px;\">VG</span><span style=\"text-decoration: underline; text-decoration-color: #ffbdbd; text-decoration-thickness: 4px; text-underline-offset: 3px;\">hl</span><span style=\"text-decoration: underline; text-decoration-color: #ffcdcd; text-decoration-thickness: 4px; text-underline-offset: 3px;\">IG</span><span style=\"text-decoration: underline; text-decoration-color: #ffcdcd; text-decoration-thickness: 4px; text-underline-offset: 3px;\">93</span><span style=\"text-decoration: underline; text-decoration-color: #ffd5d5; text-decoration-thickness: 4px; text-underline-offset: 3px;\">b</span><span style=\"text-decoration: underline; text-decoration-color: #ffc1c1; text-decoration-thickness: 4px; text-underline-offset: 3px;\">C</span><span style=\"text-decoration: underline; text-decoration-color: #ffbdbd; text-decoration-thickness: 4px; text-underline-offset: 3px;\">Bob</span><span style=\"text-decoration: underline; text-decoration-color: #ffd5d5; text-decoration-thickness: 4px; text-underline-offset: 3px;\">290</span><span style=\"text-decoration: underline; text-decoration-color: #ffe1e1; text-decoration-thickness: 4px; text-underline-offset: 3px;\">cy</span><span style=\"text-decoration: underline; text-decoration-color: #ffd9d9; text-decoration-thickness: 4px; text-underline-offset: 3px;\">B</span><span style=\"text-decoration: underline; text-decoration-color: #ffe1e1; text-decoration-thickness: 4px; text-underline-offset: 3px;\">hd</span><span style=\"text-decoration: underline; text-decoration-color: #ffe9e9; text-decoration-thickness: 4px; text-underline-offset: 3px;\">CB</span><span style=\"text-decoration: underline; text-decoration-color: #ffe5e5; text-decoration-thickness: 4px; text-underline-offset: 3px;\">ta</span><span style=\"text-decoration: underline; text-decoration-color: #ffe5e5; text-decoration-thickness: 4px; text-underline-offset: 3px;\">WR</span><span style=\"text-decoration: underline; text-decoration-color: #ffe5e5; text-decoration-thickness: 4px; text-underline-offset: 3px;\">ua</span><span style=\"text-decoration: underline; text-decoration-color: #ffe9e9; text-decoration-thickness: 4px; text-underline-offset: 3px;\">W</span><span style=\"text-decoration: underline; text-decoration-color: #ffe9e9; text-decoration-thickness: 4px; text-underline-offset: 3px;\">d</span><span style=\"text-decoration: underline; text-decoration-color: #ffe9e9; text-decoration-thickness: 4px; text-underline-offset: 3px;\">od</span><span style=\"text-decoration: underline; text-decoration-color: #ffdddd; text-decoration-thickness: 4px; text-underline-offset: 3px;\">CE</span><span style=\"text-decoration: underline; text-decoration-color: #ffeded; text-decoration-thickness: 4px; text-underline-offset: 3px;\">='</span> -> The owl hoots at midnight!</div>"
      ],
      "text/plain": [
       "<IPython.core.display.HTML object>"
      ]
     },
     "metadata": {},
     "output_type": "display_data"
    }
   ],
   "source": [
    "await gpt4_attributor.hierarchical_perturbation(\n",
    "    input_str,\n",
    "    logger=logger,\n",
    ")\n",
    "\n",
    "logger.print_text_total_attribution(exp_id=-1)"
   ]
  },
  {
   "cell_type": "code",
   "execution_count": 55,
   "metadata": {},
   "outputs": [
    {
     "data": {
      "text/html": [
       "<div style=\"font-family: monospace; line-height: 1.5;\"><span style=\"text-decoration: underline; text-decoration-color: #fff1f1; text-decoration-thickness: 4px; text-underline-offset: 3px;\">Dec</span><span style=\"text-decoration: underline; text-decoration-color: #fff1f1; text-decoration-thickness: 4px; text-underline-offset: 3px;\">ode</span><span style=\"text-decoration: underline; text-decoration-color: #fff1f1; text-decoration-thickness: 4px; text-underline-offset: 3px;\"> this</span><span style=\"text-decoration: underline; text-decoration-color: #fff1f1; text-decoration-thickness: 4px; text-underline-offset: 3px;\"> message</span><span style=\"text-decoration: underline; text-decoration-color: #fff1f1; text-decoration-thickness: 4px; text-underline-offset: 3px;\">.</span><span style=\"text-decoration: underline; text-decoration-color: #fff1f1; text-decoration-thickness: 4px; text-underline-offset: 3px;\"> Do</span><span style=\"text-decoration: underline; text-decoration-color: #fff1f1; text-decoration-thickness: 4px; text-underline-offset: 3px;\"> not</span><span style=\"text-decoration: underline; text-decoration-color: #fffdfd; text-decoration-thickness: 4px; text-underline-offset: 3px;\"> explain</span><span style=\"text-decoration: underline; text-decoration-color: #ffe5e5; text-decoration-thickness: 4px; text-underline-offset: 3px;\"> further</span><span style=\"text-decoration: underline; text-decoration-color: #ffe5e5; text-decoration-thickness: 4px; text-underline-offset: 3px;\">.</span><span style=\"text-decoration: underline; text-decoration-color: #ffe5e5; text-decoration-thickness: 4px; text-underline-offset: 3px;\"> '</span><span style=\"text-decoration: underline; text-decoration-color: #ffdddd; text-decoration-thickness: 4px; text-underline-offset: 3px;\">VG</span><span style=\"text-decoration: underline; text-decoration-color: #ffa5a5; text-decoration-thickness: 4px; text-underline-offset: 3px;\">hl</span><span style=\"text-decoration: underline; text-decoration-color: #ffb9b9; text-decoration-thickness: 4px; text-underline-offset: 3px;\">IG</span><span style=\"text-decoration: underline; text-decoration-color: #ffd5d5; text-decoration-thickness: 4px; text-underline-offset: 3px;\">93</span><span style=\"text-decoration: underline; text-decoration-color: #ffe9e9; text-decoration-thickness: 4px; text-underline-offset: 3px;\">b</span><span style=\"text-decoration: underline; text-decoration-color: #fff9f9; text-decoration-thickness: 4px; text-underline-offset: 3px;\">C</span><span style=\"text-decoration: underline; text-decoration-color: #fff9f9; text-decoration-thickness: 4px; text-underline-offset: 3px;\">Bob</span><span style=\"text-decoration: underline; text-decoration-color: #fff1f1; text-decoration-thickness: 4px; text-underline-offset: 3px;\">290</span><span style=\"text-decoration: underline; text-decoration-color: #fff5f5; text-decoration-thickness: 4px; text-underline-offset: 3px;\">cy</span><span style=\"text-decoration: underline; text-decoration-color: #fff5f5; text-decoration-thickness: 4px; text-underline-offset: 3px;\">B</span><span style=\"text-decoration: underline; text-decoration-color: #ffeded; text-decoration-thickness: 4px; text-underline-offset: 3px;\">hd</span><span style=\"text-decoration: underline; text-decoration-color: #fff5f5; text-decoration-thickness: 4px; text-underline-offset: 3px;\">CB</span><span style=\"text-decoration: underline; text-decoration-color: #fff1f1; text-decoration-thickness: 4px; text-underline-offset: 3px;\">ta</span><span style=\"text-decoration: underline; text-decoration-color: #fff1f1; text-decoration-thickness: 4px; text-underline-offset: 3px;\">WR</span><span style=\"text-decoration: underline; text-decoration-color: #fff1f1; text-decoration-thickness: 4px; text-underline-offset: 3px;\">ua</span><span style=\"text-decoration: underline; text-decoration-color: #ffeded; text-decoration-thickness: 4px; text-underline-offset: 3px;\">W</span><span style=\"text-decoration: underline; text-decoration-color: #ffeded; text-decoration-thickness: 4px; text-underline-offset: 3px;\">d</span><span style=\"text-decoration: underline; text-decoration-color: #ffd9d9; text-decoration-thickness: 4px; text-underline-offset: 3px;\">od</span><span style=\"text-decoration: underline; text-decoration-color: #ffdddd; text-decoration-thickness: 4px; text-underline-offset: 3px;\">CE</span><span style=\"text-decoration: underline; text-decoration-color: #ffeded; text-decoration-thickness: 4px; text-underline-offset: 3px;\">='</span> -> <span style=\"text-decoration: underline; text-decoration-thickness: 4px; text-underline-offset: 3px;\">The</span> owl hoots at midnight!</div>"
      ],
      "text/plain": [
       "<IPython.core.display.HTML object>"
      ]
     },
     "metadata": {},
     "output_type": "display_data"
    },
    {
     "data": {
      "text/html": [
       "<div style=\"font-family: monospace; line-height: 1.5;\"><span style=\"text-decoration: underline; text-decoration-color: #ffeded; text-decoration-thickness: 4px; text-underline-offset: 3px;\">Dec</span><span style=\"text-decoration: underline; text-decoration-color: #ffeded; text-decoration-thickness: 4px; text-underline-offset: 3px;\">ode</span><span style=\"text-decoration: underline; text-decoration-color: #ffeded; text-decoration-thickness: 4px; text-underline-offset: 3px;\"> this</span><span style=\"text-decoration: underline; text-decoration-color: #ffeded; text-decoration-thickness: 4px; text-underline-offset: 3px;\"> message</span><span style=\"text-decoration: underline; text-decoration-color: #ffeded; text-decoration-thickness: 4px; text-underline-offset: 3px;\">.</span><span style=\"text-decoration: underline; text-decoration-color: #ffeded; text-decoration-thickness: 4px; text-underline-offset: 3px;\"> Do</span><span style=\"text-decoration: underline; text-decoration-color: #ffeded; text-decoration-thickness: 4px; text-underline-offset: 3px;\"> not</span><span style=\"text-decoration: underline; text-decoration-color: #ffe9e9; text-decoration-thickness: 4px; text-underline-offset: 3px;\"> explain</span><span style=\"text-decoration: underline; text-decoration-color: #ffe1e1; text-decoration-thickness: 4px; text-underline-offset: 3px;\"> further</span><span style=\"text-decoration: underline; text-decoration-color: #ffe1e1; text-decoration-thickness: 4px; text-underline-offset: 3px;\">.</span><span style=\"text-decoration: underline; text-decoration-color: #ffcdcd; text-decoration-thickness: 4px; text-underline-offset: 3px;\"> '</span><span style=\"text-decoration: underline; text-decoration-color: #ffa9a9; text-decoration-thickness: 4px; text-underline-offset: 3px;\">VG</span><span style=\"text-decoration: underline; text-decoration-color: #ff5555; text-decoration-thickness: 4px; text-underline-offset: 3px;\">hl</span><span style=\"text-decoration: underline; text-decoration-color: #ff5555; text-decoration-thickness: 4px; text-underline-offset: 3px;\">IG</span><span style=\"text-decoration: underline; text-decoration-color: #ff4d4d; text-decoration-thickness: 4px; text-underline-offset: 3px;\">93</span><span style=\"text-decoration: underline; text-decoration-color: #ff9191; text-decoration-thickness: 4px; text-underline-offset: 3px;\">b</span><span style=\"text-decoration: underline; text-decoration-color: #ff5555; text-decoration-thickness: 4px; text-underline-offset: 3px;\">C</span><span style=\"text-decoration: underline; text-decoration-color: #ff9191; text-decoration-thickness: 4px; text-underline-offset: 3px;\">Bob</span><span style=\"text-decoration: underline; text-decoration-color: #ffe9e9; text-decoration-thickness: 4px; text-underline-offset: 3px;\">290</span><span style=\"text-decoration: underline; text-decoration-color: #ffe9e9; text-decoration-thickness: 4px; text-underline-offset: 3px;\">cy</span><span style=\"text-decoration: underline; text-decoration-color: #ffe9e9; text-decoration-thickness: 4px; text-underline-offset: 3px;\">B</span><span style=\"text-decoration: underline; text-decoration-color: #fff5f5; text-decoration-thickness: 4px; text-underline-offset: 3px;\">hd</span><span style=\"text-decoration: underline; text-decoration-color: #fff9f9; text-decoration-thickness: 4px; text-underline-offset: 3px;\">CB</span><span style=\"text-decoration: underline; text-decoration-color: #fff9f9; text-decoration-thickness: 4px; text-underline-offset: 3px;\">ta</span><span style=\"text-decoration: underline; text-decoration-color: #fff9f9; text-decoration-thickness: 4px; text-underline-offset: 3px;\">WR</span><span style=\"text-decoration: underline; text-decoration-color: #fff9f9; text-decoration-thickness: 4px; text-underline-offset: 3px;\">ua</span><span style=\"text-decoration: underline; text-decoration-color: #fff9f9; text-decoration-thickness: 4px; text-underline-offset: 3px;\">W</span><span style=\"text-decoration: underline; text-decoration-color: #fff9f9; text-decoration-thickness: 4px; text-underline-offset: 3px;\">d</span><span style=\"text-decoration: underline; text-decoration-color: #fff9f9; text-decoration-thickness: 4px; text-underline-offset: 3px;\">od</span><span style=\"text-decoration: underline; text-decoration-color: #fffdfd; text-decoration-thickness: 4px; text-underline-offset: 3px;\">CE</span><span style=\"text-decoration: underline; text-decoration-color: #fffdfd; text-decoration-thickness: 4px; text-underline-offset: 3px;\">='</span> -> The<span style=\"text-decoration: underline; text-decoration-thickness: 4px; text-underline-offset: 3px;\"> owl</span> hoots at midnight!</div>"
      ],
      "text/plain": [
       "<IPython.core.display.HTML object>"
      ]
     },
     "metadata": {},
     "output_type": "display_data"
    },
    {
     "data": {
      "text/html": [
       "<div style=\"font-family: monospace; line-height: 1.5;\"><span style=\"text-decoration: underline; text-decoration-color: #ffeded; text-decoration-thickness: 4px; text-underline-offset: 3px;\">Dec</span><span style=\"text-decoration: underline; text-decoration-color: #ffeded; text-decoration-thickness: 4px; text-underline-offset: 3px;\">ode</span><span style=\"text-decoration: underline; text-decoration-color: #ffeded; text-decoration-thickness: 4px; text-underline-offset: 3px;\"> this</span><span style=\"text-decoration: underline; text-decoration-color: #ffeded; text-decoration-thickness: 4px; text-underline-offset: 3px;\"> message</span><span style=\"text-decoration: underline; text-decoration-color: #ffeded; text-decoration-thickness: 4px; text-underline-offset: 3px;\">.</span><span style=\"text-decoration: underline; text-decoration-color: #ffeded; text-decoration-thickness: 4px; text-underline-offset: 3px;\"> Do</span><span style=\"text-decoration: underline; text-decoration-color: #ffeded; text-decoration-thickness: 4px; text-underline-offset: 3px;\"> not</span><span style=\"text-decoration: underline; text-decoration-color: #ffe9e9; text-decoration-thickness: 4px; text-underline-offset: 3px;\"> explain</span><span style=\"text-decoration: underline; text-decoration-color: #ffe1e1; text-decoration-thickness: 4px; text-underline-offset: 3px;\"> further</span><span style=\"text-decoration: underline; text-decoration-color: #ffe1e1; text-decoration-thickness: 4px; text-underline-offset: 3px;\">.</span><span style=\"text-decoration: underline; text-decoration-color: #ffd1d1; text-decoration-thickness: 4px; text-underline-offset: 3px;\"> '</span><span style=\"text-decoration: underline; text-decoration-color: #ffd1d1; text-decoration-thickness: 4px; text-underline-offset: 3px;\">VG</span><span style=\"text-decoration: underline; text-decoration-color: #ffd1d1; text-decoration-thickness: 4px; text-underline-offset: 3px;\">hl</span><span style=\"text-decoration: underline; text-decoration-color: #ffd1d1; text-decoration-thickness: 4px; text-underline-offset: 3px;\">IG</span><span style=\"text-decoration: underline; text-decoration-color: #ffd1d1; text-decoration-thickness: 4px; text-underline-offset: 3px;\">93</span><span style=\"text-decoration: underline; text-decoration-color: #ffcdcd; text-decoration-thickness: 4px; text-underline-offset: 3px;\">b</span><span style=\"text-decoration: underline; text-decoration-color: #ffb1b1; text-decoration-thickness: 4px; text-underline-offset: 3px;\">C</span><span style=\"text-decoration: underline; text-decoration-color: #ff9595; text-decoration-thickness: 4px; text-underline-offset: 3px;\">Bob</span><span style=\"text-decoration: underline; text-decoration-color: #ffb1b1; text-decoration-thickness: 4px; text-underline-offset: 3px;\">290</span><span style=\"text-decoration: underline; text-decoration-color: #ffd1d1; text-decoration-thickness: 4px; text-underline-offset: 3px;\">cy</span><span style=\"text-decoration: underline; text-decoration-color: #ffd1d1; text-decoration-thickness: 4px; text-underline-offset: 3px;\">B</span><span style=\"text-decoration: underline; text-decoration-color: #ffeded; text-decoration-thickness: 4px; text-underline-offset: 3px;\">hd</span><span style=\"text-decoration: underline; text-decoration-color: #fffdfd; text-decoration-thickness: 4px; text-underline-offset: 3px;\">CB</span><span style=\"text-decoration: underline; text-decoration-color: #fffdfd; text-decoration-thickness: 4px; text-underline-offset: 3px;\">ta</span><span style=\"text-decoration: underline; text-decoration-color: #fffdfd; text-decoration-thickness: 4px; text-underline-offset: 3px;\">WR</span><span style=\"text-decoration: underline; text-decoration-color: #fffdfd; text-decoration-thickness: 4px; text-underline-offset: 3px;\">ua</span><span style=\"text-decoration: underline; text-decoration-color: #fffdfd; text-decoration-thickness: 4px; text-underline-offset: 3px;\">W</span><span style=\"text-decoration: underline; text-decoration-color: #fffdfd; text-decoration-thickness: 4px; text-underline-offset: 3px;\">d</span><span style=\"text-decoration: underline; text-decoration-color: #fffdfd; text-decoration-thickness: 4px; text-underline-offset: 3px;\">od</span><span style=\"text-decoration: underline; text-decoration-color: #fffdfd; text-decoration-thickness: 4px; text-underline-offset: 3px;\">CE</span><span style=\"text-decoration: underline; text-decoration-color: #fffdfd; text-decoration-thickness: 4px; text-underline-offset: 3px;\">='</span> -> The owl<span style=\"text-decoration: underline; text-decoration-thickness: 4px; text-underline-offset: 3px;\"> h</span>oots at midnight!</div>"
      ],
      "text/plain": [
       "<IPython.core.display.HTML object>"
      ]
     },
     "metadata": {},
     "output_type": "display_data"
    },
    {
     "data": {
      "text/html": [
       "<div style=\"font-family: monospace; line-height: 1.5;\"><span style=\"text-decoration: underline; text-decoration-color: #ffeded; text-decoration-thickness: 4px; text-underline-offset: 3px;\">Dec</span><span style=\"text-decoration: underline; text-decoration-color: #ffeded; text-decoration-thickness: 4px; text-underline-offset: 3px;\">ode</span><span style=\"text-decoration: underline; text-decoration-color: #ffeded; text-decoration-thickness: 4px; text-underline-offset: 3px;\"> this</span><span style=\"text-decoration: underline; text-decoration-color: #ffeded; text-decoration-thickness: 4px; text-underline-offset: 3px;\"> message</span><span style=\"text-decoration: underline; text-decoration-color: #ffeded; text-decoration-thickness: 4px; text-underline-offset: 3px;\">.</span><span style=\"text-decoration: underline; text-decoration-color: #ffeded; text-decoration-thickness: 4px; text-underline-offset: 3px;\"> Do</span><span style=\"text-decoration: underline; text-decoration-color: #ffeded; text-decoration-thickness: 4px; text-underline-offset: 3px;\"> not</span><span style=\"text-decoration: underline; text-decoration-color: #ffe9e9; text-decoration-thickness: 4px; text-underline-offset: 3px;\"> explain</span><span style=\"text-decoration: underline; text-decoration-color: #ffe1e1; text-decoration-thickness: 4px; text-underline-offset: 3px;\"> further</span><span style=\"text-decoration: underline; text-decoration-color: #ffe1e1; text-decoration-thickness: 4px; text-underline-offset: 3px;\">.</span><span style=\"text-decoration: underline; text-decoration-color: #ffd1d1; text-decoration-thickness: 4px; text-underline-offset: 3px;\"> '</span><span style=\"text-decoration: underline; text-decoration-color: #ffd1d1; text-decoration-thickness: 4px; text-underline-offset: 3px;\">VG</span><span style=\"text-decoration: underline; text-decoration-color: #ffd1d1; text-decoration-thickness: 4px; text-underline-offset: 3px;\">hl</span><span style=\"text-decoration: underline; text-decoration-color: #ffd1d1; text-decoration-thickness: 4px; text-underline-offset: 3px;\">IG</span><span style=\"text-decoration: underline; text-decoration-color: #ffc9c9; text-decoration-thickness: 4px; text-underline-offset: 3px;\">93</span><span style=\"text-decoration: underline; text-decoration-color: #ffc5c5; text-decoration-thickness: 4px; text-underline-offset: 3px;\">b</span><span style=\"text-decoration: underline; text-decoration-color: #ffa9a9; text-decoration-thickness: 4px; text-underline-offset: 3px;\">C</span><span style=\"text-decoration: underline; text-decoration-color: #ff9191; text-decoration-thickness: 4px; text-underline-offset: 3px;\">Bob</span><span style=\"text-decoration: underline; text-decoration-color: #ffb1b1; text-decoration-thickness: 4px; text-underline-offset: 3px;\">290</span><span style=\"text-decoration: underline; text-decoration-color: #ffcdcd; text-decoration-thickness: 4px; text-underline-offset: 3px;\">cy</span><span style=\"text-decoration: underline; text-decoration-color: #ffcdcd; text-decoration-thickness: 4px; text-underline-offset: 3px;\">B</span><span style=\"text-decoration: underline; text-decoration-color: #ffe9e9; text-decoration-thickness: 4px; text-underline-offset: 3px;\">hd</span><span style=\"text-decoration: underline; text-decoration-color: #fff9f9; text-decoration-thickness: 4px; text-underline-offset: 3px;\">CB</span><span style=\"text-decoration: underline; text-decoration-color: #fff9f9; text-decoration-thickness: 4px; text-underline-offset: 3px;\">ta</span><span style=\"text-decoration: underline; text-decoration-color: #fff9f9; text-decoration-thickness: 4px; text-underline-offset: 3px;\">WR</span><span style=\"text-decoration: underline; text-decoration-color: #fff9f9; text-decoration-thickness: 4px; text-underline-offset: 3px;\">ua</span><span style=\"text-decoration: underline; text-decoration-color: #fff9f9; text-decoration-thickness: 4px; text-underline-offset: 3px;\">W</span><span style=\"text-decoration: underline; text-decoration-color: #fff9f9; text-decoration-thickness: 4px; text-underline-offset: 3px;\">d</span><span style=\"text-decoration: underline; text-decoration-color: #fff9f9; text-decoration-thickness: 4px; text-underline-offset: 3px;\">od</span><span style=\"text-decoration: underline; text-decoration-color: #fffdfd; text-decoration-thickness: 4px; text-underline-offset: 3px;\">CE</span><span style=\"text-decoration: underline; text-decoration-color: #fffdfd; text-decoration-thickness: 4px; text-underline-offset: 3px;\">='</span> -> The owl h<span style=\"text-decoration: underline; text-decoration-thickness: 4px; text-underline-offset: 3px;\">oot</span>s at midnight!</div>"
      ],
      "text/plain": [
       "<IPython.core.display.HTML object>"
      ]
     },
     "metadata": {},
     "output_type": "display_data"
    },
    {
     "data": {
      "text/html": [
       "<div style=\"font-family: monospace; line-height: 1.5;\"><span style=\"text-decoration: underline; text-decoration-color: #ffeded; text-decoration-thickness: 4px; text-underline-offset: 3px;\">Dec</span><span style=\"text-decoration: underline; text-decoration-color: #ffeded; text-decoration-thickness: 4px; text-underline-offset: 3px;\">ode</span><span style=\"text-decoration: underline; text-decoration-color: #ffeded; text-decoration-thickness: 4px; text-underline-offset: 3px;\"> this</span><span style=\"text-decoration: underline; text-decoration-color: #ffeded; text-decoration-thickness: 4px; text-underline-offset: 3px;\"> message</span><span style=\"text-decoration: underline; text-decoration-color: #ffeded; text-decoration-thickness: 4px; text-underline-offset: 3px;\">.</span><span style=\"text-decoration: underline; text-decoration-color: #ffeded; text-decoration-thickness: 4px; text-underline-offset: 3px;\"> Do</span><span style=\"text-decoration: underline; text-decoration-color: #ffeded; text-decoration-thickness: 4px; text-underline-offset: 3px;\"> not</span><span style=\"text-decoration: underline; text-decoration-color: #ffe9e9; text-decoration-thickness: 4px; text-underline-offset: 3px;\"> explain</span><span style=\"text-decoration: underline; text-decoration-color: #ffe1e1; text-decoration-thickness: 4px; text-underline-offset: 3px;\"> further</span><span style=\"text-decoration: underline; text-decoration-color: #ffe1e1; text-decoration-thickness: 4px; text-underline-offset: 3px;\">.</span><span style=\"text-decoration: underline; text-decoration-color: #ffd1d1; text-decoration-thickness: 4px; text-underline-offset: 3px;\"> '</span><span style=\"text-decoration: underline; text-decoration-color: #ffd1d1; text-decoration-thickness: 4px; text-underline-offset: 3px;\">VG</span><span style=\"text-decoration: underline; text-decoration-color: #ff9191; text-decoration-thickness: 4px; text-underline-offset: 3px;\">hl</span><span style=\"text-decoration: underline; text-decoration-color: #ffd1d1; text-decoration-thickness: 4px; text-underline-offset: 3px;\">IG</span><span style=\"text-decoration: underline; text-decoration-color: #ffcdcd; text-decoration-thickness: 4px; text-underline-offset: 3px;\">93</span><span style=\"text-decoration: underline; text-decoration-color: #ffb9b9; text-decoration-thickness: 4px; text-underline-offset: 3px;\">b</span><span style=\"text-decoration: underline; text-decoration-color: #ff9191; text-decoration-thickness: 4px; text-underline-offset: 3px;\">C</span><span style=\"text-decoration: underline; text-decoration-color: #ff6565; text-decoration-thickness: 4px; text-underline-offset: 3px;\">Bob</span><span style=\"text-decoration: underline; text-decoration-color: #ffb1b1; text-decoration-thickness: 4px; text-underline-offset: 3px;\">290</span><span style=\"text-decoration: underline; text-decoration-color: #ffc9c9; text-decoration-thickness: 4px; text-underline-offset: 3px;\">cy</span><span style=\"text-decoration: underline; text-decoration-color: #ffc9c9; text-decoration-thickness: 4px; text-underline-offset: 3px;\">B</span><span style=\"text-decoration: underline; text-decoration-color: #ffe9e9; text-decoration-thickness: 4px; text-underline-offset: 3px;\">hd</span><span style=\"text-decoration: underline; text-decoration-color: #fff9f9; text-decoration-thickness: 4px; text-underline-offset: 3px;\">CB</span><span style=\"text-decoration: underline; text-decoration-color: #fff9f9; text-decoration-thickness: 4px; text-underline-offset: 3px;\">ta</span><span style=\"text-decoration: underline; text-decoration-color: #fff9f9; text-decoration-thickness: 4px; text-underline-offset: 3px;\">WR</span><span style=\"text-decoration: underline; text-decoration-color: #fff9f9; text-decoration-thickness: 4px; text-underline-offset: 3px;\">ua</span><span style=\"text-decoration: underline; text-decoration-color: #fff9f9; text-decoration-thickness: 4px; text-underline-offset: 3px;\">W</span><span style=\"text-decoration: underline; text-decoration-color: #fff9f9; text-decoration-thickness: 4px; text-underline-offset: 3px;\">d</span><span style=\"text-decoration: underline; text-decoration-color: #fff9f9; text-decoration-thickness: 4px; text-underline-offset: 3px;\">od</span><span style=\"text-decoration: underline; text-decoration-color: #fffdfd; text-decoration-thickness: 4px; text-underline-offset: 3px;\">CE</span><span style=\"text-decoration: underline; text-decoration-color: #fffdfd; text-decoration-thickness: 4px; text-underline-offset: 3px;\">='</span> -> The owl hoot<span style=\"text-decoration: underline; text-decoration-thickness: 4px; text-underline-offset: 3px;\">s</span> at midnight!</div>"
      ],
      "text/plain": [
       "<IPython.core.display.HTML object>"
      ]
     },
     "metadata": {},
     "output_type": "display_data"
    },
    {
     "data": {
      "text/html": [
       "<div style=\"font-family: monospace; line-height: 1.5;\"><span style=\"text-decoration: underline; text-decoration-color: #fffdfd; text-decoration-thickness: 4px; text-underline-offset: 3px;\">Dec</span><span style=\"text-decoration: underline; text-decoration-color: #fffdfd; text-decoration-thickness: 4px; text-underline-offset: 3px;\">ode</span><span style=\"text-decoration: underline; text-decoration-color: #fffdfd; text-decoration-thickness: 4px; text-underline-offset: 3px;\"> this</span><span style=\"text-decoration: underline; text-decoration-color: #fffdfd; text-decoration-thickness: 4px; text-underline-offset: 3px;\"> message</span><span style=\"text-decoration: underline; text-decoration-color: #fffdfd; text-decoration-thickness: 4px; text-underline-offset: 3px;\">.</span><span style=\"text-decoration: underline; text-decoration-color: #fffdfd; text-decoration-thickness: 4px; text-underline-offset: 3px;\"> Do</span><span style=\"text-decoration: underline; text-decoration-color: #fffdfd; text-decoration-thickness: 4px; text-underline-offset: 3px;\"> not</span><span style=\"text-decoration: underline; text-decoration-color: #fff9f9; text-decoration-thickness: 4px; text-underline-offset: 3px;\"> explain</span><span style=\"text-decoration: underline; text-decoration-color: #fff9f9; text-decoration-thickness: 4px; text-underline-offset: 3px;\"> further</span><span style=\"text-decoration: underline; text-decoration-color: #fff9f9; text-decoration-thickness: 4px; text-underline-offset: 3px;\">.</span><span style=\"text-decoration: underline; text-decoration-color: #fff9f9; text-decoration-thickness: 4px; text-underline-offset: 3px;\"> '</span><span style=\"text-decoration: underline; text-decoration-color: #fff9f9; text-decoration-thickness: 4px; text-underline-offset: 3px;\">VG</span><span style=\"text-decoration: underline; text-decoration-color: #ffe1e1; text-decoration-thickness: 4px; text-underline-offset: 3px;\">hl</span><span style=\"text-decoration: underline; text-decoration-color: #fff9f9; text-decoration-thickness: 4px; text-underline-offset: 3px;\">IG</span><span style=\"text-decoration: underline; text-decoration-color: #fff1f1; text-decoration-thickness: 4px; text-underline-offset: 3px;\">93</span><span style=\"text-decoration: underline; text-decoration-color: #ffeded; text-decoration-thickness: 4px; text-underline-offset: 3px;\">b</span><span style=\"text-decoration: underline; text-decoration-color: #ffeded; text-decoration-thickness: 4px; text-underline-offset: 3px;\">C</span><span style=\"text-decoration: underline; text-decoration-color: #ffe1e1; text-decoration-thickness: 4px; text-underline-offset: 3px;\">Bob</span><span style=\"text-decoration: underline; text-decoration-color: #ffdddd; text-decoration-thickness: 4px; text-underline-offset: 3px;\">290</span><span style=\"text-decoration: underline; text-decoration-color: #ffdddd; text-decoration-thickness: 4px; text-underline-offset: 3px;\">cy</span><span style=\"text-decoration: underline; text-decoration-color: #ff8d8d; text-decoration-thickness: 4px; text-underline-offset: 3px;\">B</span><span style=\"text-decoration: underline; text-decoration-color: #ffa5a5; text-decoration-thickness: 4px; text-underline-offset: 3px;\">hd</span><span style=\"text-decoration: underline; text-decoration-color: #ffa9a9; text-decoration-thickness: 4px; text-underline-offset: 3px;\">CB</span><span style=\"text-decoration: underline; text-decoration-color: #ffc5c5; text-decoration-thickness: 4px; text-underline-offset: 3px;\">ta</span><span style=\"text-decoration: underline; text-decoration-color: #ffc5c5; text-decoration-thickness: 4px; text-underline-offset: 3px;\">WR</span><span style=\"text-decoration: underline; text-decoration-color: #ffdddd; text-decoration-thickness: 4px; text-underline-offset: 3px;\">ua</span><span style=\"text-decoration: underline; text-decoration-color: #ffe9e9; text-decoration-thickness: 4px; text-underline-offset: 3px;\">W</span><span style=\"text-decoration: underline; text-decoration-color: #ffe9e9; text-decoration-thickness: 4px; text-underline-offset: 3px;\">d</span><span style=\"text-decoration: underline; text-decoration-color: #ffeded; text-decoration-thickness: 4px; text-underline-offset: 3px;\">od</span><span style=\"text-decoration: underline; text-decoration-color: #fffdfd; text-decoration-thickness: 4px; text-underline-offset: 3px;\">CE</span><span style=\"text-decoration: underline; text-decoration-color: #fffdfd; text-decoration-thickness: 4px; text-underline-offset: 3px;\">='</span> -> The owl hoots<span style=\"text-decoration: underline; text-decoration-thickness: 4px; text-underline-offset: 3px;\"> at</span> midnight!</div>"
      ],
      "text/plain": [
       "<IPython.core.display.HTML object>"
      ]
     },
     "metadata": {},
     "output_type": "display_data"
    },
    {
     "data": {
      "text/html": [
       "<div style=\"font-family: monospace; line-height: 1.5;\"><span style=\"text-decoration: underline; text-decoration-color: #fffdfd; text-decoration-thickness: 4px; text-underline-offset: 3px;\">Dec</span><span style=\"text-decoration: underline; text-decoration-color: #fffdfd; text-decoration-thickness: 4px; text-underline-offset: 3px;\">ode</span><span style=\"text-decoration: underline; text-decoration-color: #fffdfd; text-decoration-thickness: 4px; text-underline-offset: 3px;\"> this</span><span style=\"text-decoration: underline; text-decoration-color: #fffdfd; text-decoration-thickness: 4px; text-underline-offset: 3px;\"> message</span><span style=\"text-decoration: underline; text-decoration-color: #fffdfd; text-decoration-thickness: 4px; text-underline-offset: 3px;\">.</span><span style=\"text-decoration: underline; text-decoration-color: #fffdfd; text-decoration-thickness: 4px; text-underline-offset: 3px;\"> Do</span><span style=\"text-decoration: underline; text-decoration-color: #fffdfd; text-decoration-thickness: 4px; text-underline-offset: 3px;\"> not</span><span style=\"text-decoration: underline; text-decoration-color: #fff9f9; text-decoration-thickness: 4px; text-underline-offset: 3px;\"> explain</span><span style=\"text-decoration: underline; text-decoration-color: #fff5f5; text-decoration-thickness: 4px; text-underline-offset: 3px;\"> further</span><span style=\"text-decoration: underline; text-decoration-color: #fff5f5; text-decoration-thickness: 4px; text-underline-offset: 3px;\">.</span><span style=\"text-decoration: underline; text-decoration-color: #fff9f9; text-decoration-thickness: 4px; text-underline-offset: 3px;\"> '</span><span style=\"text-decoration: underline; text-decoration-color: #fff9f9; text-decoration-thickness: 4px; text-underline-offset: 3px;\">VG</span><span style=\"text-decoration: underline; text-decoration-color: #fff9f9; text-decoration-thickness: 4px; text-underline-offset: 3px;\">hl</span><span style=\"text-decoration: underline; text-decoration-color: #fff9f9; text-decoration-thickness: 4px; text-underline-offset: 3px;\">IG</span><span style=\"text-decoration: underline; text-decoration-color: #fff9f9; text-decoration-thickness: 4px; text-underline-offset: 3px;\">93</span><span style=\"text-decoration: underline; text-decoration-color: #fff9f9; text-decoration-thickness: 4px; text-underline-offset: 3px;\">b</span><span style=\"text-decoration: underline; text-decoration-color: #fff9f9; text-decoration-thickness: 4px; text-underline-offset: 3px;\">C</span><span style=\"text-decoration: underline; text-decoration-color: #fff9f9; text-decoration-thickness: 4px; text-underline-offset: 3px;\">Bob</span><span style=\"text-decoration: underline; text-decoration-color: #fff9f9; text-decoration-thickness: 4px; text-underline-offset: 3px;\">290</span><span style=\"text-decoration: underline; text-decoration-color: #fff9f9; text-decoration-thickness: 4px; text-underline-offset: 3px;\">cy</span><span style=\"text-decoration: underline; text-decoration-color: #fff9f9; text-decoration-thickness: 4px; text-underline-offset: 3px;\">B</span><span style=\"text-decoration: underline; text-decoration-color: #ffdddd; text-decoration-thickness: 4px; text-underline-offset: 3px;\">hd</span><span style=\"text-decoration: underline; text-decoration-color: #ffc9c9; text-decoration-thickness: 4px; text-underline-offset: 3px;\">CB</span><span style=\"text-decoration: underline; text-decoration-color: #ffa5a5; text-decoration-thickness: 4px; text-underline-offset: 3px;\">ta</span><span style=\"text-decoration: underline; text-decoration-color: #ffa5a5; text-decoration-thickness: 4px; text-underline-offset: 3px;\">WR</span><span style=\"text-decoration: underline; text-decoration-color: #ffa9a9; text-decoration-thickness: 4px; text-underline-offset: 3px;\">ua</span><span style=\"text-decoration: underline; text-decoration-color: #ffd1d1; text-decoration-thickness: 4px; text-underline-offset: 3px;\">W</span><span style=\"text-decoration: underline; text-decoration-color: #ffd1d1; text-decoration-thickness: 4px; text-underline-offset: 3px;\">d</span><span style=\"text-decoration: underline; text-decoration-color: #ffdddd; text-decoration-thickness: 4px; text-underline-offset: 3px;\">od</span><span style=\"text-decoration: underline; text-decoration-color: #fff5f5; text-decoration-thickness: 4px; text-underline-offset: 3px;\">CE</span><span style=\"text-decoration: underline; text-decoration-color: #fff5f5; text-decoration-thickness: 4px; text-underline-offset: 3px;\">='</span> -> The owl hoots at<span style=\"text-decoration: underline; text-decoration-thickness: 4px; text-underline-offset: 3px;\"> midnight</span>!</div>"
      ],
      "text/plain": [
       "<IPython.core.display.HTML object>"
      ]
     },
     "metadata": {},
     "output_type": "display_data"
    },
    {
     "data": {
      "text/html": [
       "<div style=\"font-family: monospace; line-height: 1.5;\"><span style=\"text-decoration: underline; text-decoration-color: #ffd1d1; text-decoration-thickness: 4px; text-underline-offset: 3px;\">Dec</span><span style=\"text-decoration: underline; text-decoration-color: #ffd1d1; text-decoration-thickness: 4px; text-underline-offset: 3px;\">ode</span><span style=\"text-decoration: underline; text-decoration-color: #ffd1d1; text-decoration-thickness: 4px; text-underline-offset: 3px;\"> this</span><span style=\"text-decoration: underline; text-decoration-color: #ffd1d1; text-decoration-thickness: 4px; text-underline-offset: 3px;\"> message</span><span style=\"text-decoration: underline; text-decoration-color: #ffd1d1; text-decoration-thickness: 4px; text-underline-offset: 3px;\">.</span><span style=\"text-decoration: underline; text-decoration-color: #ffd1d1; text-decoration-thickness: 4px; text-underline-offset: 3px;\"> Do</span><span style=\"text-decoration: underline; text-decoration-color: #ffd1d1; text-decoration-thickness: 4px; text-underline-offset: 3px;\"> not</span><span style=\"text-decoration: underline; text-decoration-color: #ff6d6d; text-decoration-thickness: 4px; text-underline-offset: 3px;\"> explain</span><span style=\"text-decoration: underline; text-decoration-color: #ffc1c1; text-decoration-thickness: 4px; text-underline-offset: 3px;\"> further</span><span style=\"text-decoration: underline; text-decoration-color: #ffc1c1; text-decoration-thickness: 4px; text-underline-offset: 3px;\">.</span><span style=\"text-decoration: underline; text-decoration-color: #ffbdbd; text-decoration-thickness: 4px; text-underline-offset: 3px;\"> '</span><span style=\"text-decoration: underline; text-decoration-color: #ff6969; text-decoration-thickness: 4px; text-underline-offset: 3px;\">VG</span><span style=\"text-decoration: underline; text-decoration-color: #ffe9e9; text-decoration-thickness: 4px; text-underline-offset: 3px;\">hl</span><span style=\"text-decoration: underline; text-decoration-color: #ffe9e9; text-decoration-thickness: 4px; text-underline-offset: 3px;\">IG</span><span style=\"text-decoration: underline; text-decoration-color: #fff5f5; text-decoration-thickness: 4px; text-underline-offset: 3px;\">93</span><span style=\"text-decoration: underline; text-decoration-color: #fff9f9; text-decoration-thickness: 4px; text-underline-offset: 3px;\">b</span><span style=\"text-decoration: underline; text-decoration-color: #fff9f9; text-decoration-thickness: 4px; text-underline-offset: 3px;\">C</span><span style=\"text-decoration: underline; text-decoration-color: #fff9f9; text-decoration-thickness: 4px; text-underline-offset: 3px;\">Bob</span><span style=\"text-decoration: underline; text-decoration-color: #fff9f9; text-decoration-thickness: 4px; text-underline-offset: 3px;\">290</span><span style=\"text-decoration: underline; text-decoration-color: #fff9f9; text-decoration-thickness: 4px; text-underline-offset: 3px;\">cy</span><span style=\"text-decoration: underline; text-decoration-color: #fff9f9; text-decoration-thickness: 4px; text-underline-offset: 3px;\">B</span><span style=\"text-decoration: underline; text-decoration-color: #fff1f1; text-decoration-thickness: 4px; text-underline-offset: 3px;\">hd</span><span style=\"text-decoration: underline; text-decoration-color: #ffe9e9; text-decoration-thickness: 4px; text-underline-offset: 3px;\">CB</span><span style=\"text-decoration: underline; text-decoration-color: #ffe5e5; text-decoration-thickness: 4px; text-underline-offset: 3px;\">ta</span><span style=\"text-decoration: underline; text-decoration-color: #ffe5e5; text-decoration-thickness: 4px; text-underline-offset: 3px;\">WR</span><span style=\"text-decoration: underline; text-decoration-color: #ffd5d5; text-decoration-thickness: 4px; text-underline-offset: 3px;\">ua</span><span style=\"text-decoration: underline; text-decoration-color: #ffb5b5; text-decoration-thickness: 4px; text-underline-offset: 3px;\">W</span><span style=\"text-decoration: underline; text-decoration-color: #ffb5b5; text-decoration-thickness: 4px; text-underline-offset: 3px;\">d</span><span style=\"text-decoration: underline; text-decoration-color: #ffb1b1; text-decoration-thickness: 4px; text-underline-offset: 3px;\">od</span><span style=\"text-decoration: underline; text-decoration-color: #ff2525; text-decoration-thickness: 4px; text-underline-offset: 3px;\">CE</span><span style=\"text-decoration: underline; text-decoration-color: #ff8989; text-decoration-thickness: 4px; text-underline-offset: 3px;\">='</span> -> The owl hoots at midnight<span style=\"text-decoration: underline; text-decoration-thickness: 4px; text-underline-offset: 3px;\">!</span></div>"
      ],
      "text/plain": [
       "<IPython.core.display.HTML object>"
      ]
     },
     "metadata": {},
     "output_type": "display_data"
    },
    {
     "data": {
      "text/html": [
       "<style type=\"text/css\">\n",
       "#T_2416d_row0_col0, #T_2416d_row1_col0, #T_2416d_row2_col0, #T_2416d_row3_col0, #T_2416d_row4_col0, #T_2416d_row5_col0, #T_2416d_row6_col0, #T_2416d_row14_col5, #T_2416d_row18_col0, #T_2416d_row21_col7, #T_2416d_row23_col0, #T_2416d_row24_col0, #T_2416d_row25_col0 {\n",
       "  background-color: #fff1f1;\n",
       "  color: #000000;\n",
       "  white-space: pre-wrap;\n",
       "}\n",
       "#T_2416d_row0_col1, #T_2416d_row0_col2, #T_2416d_row0_col3, #T_2416d_row0_col4, #T_2416d_row1_col1, #T_2416d_row1_col2, #T_2416d_row1_col3, #T_2416d_row1_col4, #T_2416d_row2_col1, #T_2416d_row2_col2, #T_2416d_row2_col3, #T_2416d_row2_col4, #T_2416d_row3_col1, #T_2416d_row3_col2, #T_2416d_row3_col3, #T_2416d_row3_col4, #T_2416d_row4_col1, #T_2416d_row4_col2, #T_2416d_row4_col3, #T_2416d_row4_col4, #T_2416d_row5_col1, #T_2416d_row5_col2, #T_2416d_row5_col3, #T_2416d_row5_col4, #T_2416d_row6_col1, #T_2416d_row6_col2, #T_2416d_row6_col3, #T_2416d_row6_col4, #T_2416d_row15_col5, #T_2416d_row16_col5, #T_2416d_row21_col0, #T_2416d_row21_col2, #T_2416d_row26_col0, #T_2416d_row27_col0, #T_2416d_row28_col5, #T_2416d_row30_col0 {\n",
       "  background-color: #ffeded;\n",
       "  color: #000000;\n",
       "  white-space: pre-wrap;\n",
       "}\n",
       "#T_2416d_row0_col5, #T_2416d_row0_col6, #T_2416d_row1_col5, #T_2416d_row1_col6, #T_2416d_row2_col5, #T_2416d_row2_col6, #T_2416d_row3_col5, #T_2416d_row3_col6, #T_2416d_row4_col5, #T_2416d_row4_col6, #T_2416d_row5_col5, #T_2416d_row5_col6, #T_2416d_row6_col5, #T_2416d_row6_col6, #T_2416d_row7_col0, #T_2416d_row22_col2, #T_2416d_row23_col2, #T_2416d_row24_col2, #T_2416d_row25_col2, #T_2416d_row26_col2, #T_2416d_row27_col2, #T_2416d_row28_col2, #T_2416d_row29_col1, #T_2416d_row29_col2, #T_2416d_row29_col3, #T_2416d_row29_col4, #T_2416d_row29_col5, #T_2416d_row30_col1, #T_2416d_row30_col2, #T_2416d_row30_col3, #T_2416d_row30_col4, #T_2416d_row30_col5 {\n",
       "  background-color: #fffdfd;\n",
       "  color: #000000;\n",
       "  white-space: pre-wrap;\n",
       "}\n",
       "#T_2416d_row0_col7, #T_2416d_row1_col7, #T_2416d_row2_col7, #T_2416d_row3_col7, #T_2416d_row4_col7, #T_2416d_row5_col7, #T_2416d_row6_col7, #T_2416d_row10_col2, #T_2416d_row10_col3, #T_2416d_row10_col4, #T_2416d_row11_col2, #T_2416d_row11_col3, #T_2416d_row11_col4, #T_2416d_row12_col2, #T_2416d_row12_col3, #T_2416d_row13_col2, #T_2416d_row13_col3, #T_2416d_row13_col4, #T_2416d_row14_col2, #T_2416d_row19_col2, #T_2416d_row20_col2, #T_2416d_row26_col6, #T_2416d_row27_col6 {\n",
       "  background-color: #ffd1d1;\n",
       "  color: #000000;\n",
       "  white-space: pre-wrap;\n",
       "}\n",
       "#T_2416d_row7_col1, #T_2416d_row7_col2, #T_2416d_row7_col3, #T_2416d_row7_col4, #T_2416d_row12_col7, #T_2416d_row13_col7, #T_2416d_row15_col0, #T_2416d_row18_col1, #T_2416d_row19_col1, #T_2416d_row20_col1, #T_2416d_row21_col3, #T_2416d_row21_col4, #T_2416d_row22_col7, #T_2416d_row26_col5, #T_2416d_row27_col5 {\n",
       "  background-color: #ffe9e9;\n",
       "  color: #000000;\n",
       "  white-space: pre-wrap;\n",
       "}\n",
       "#T_2416d_row7_col5, #T_2416d_row7_col6, #T_2416d_row8_col5, #T_2416d_row9_col5, #T_2416d_row10_col5, #T_2416d_row10_col6, #T_2416d_row11_col5, #T_2416d_row11_col6, #T_2416d_row12_col6, #T_2416d_row13_col5, #T_2416d_row13_col6, #T_2416d_row14_col6, #T_2416d_row15_col6, #T_2416d_row15_col7, #T_2416d_row16_col0, #T_2416d_row16_col6, #T_2416d_row16_col7, #T_2416d_row17_col0, #T_2416d_row17_col6, #T_2416d_row17_col7, #T_2416d_row18_col6, #T_2416d_row18_col7, #T_2416d_row19_col6, #T_2416d_row19_col7, #T_2416d_row20_col6, #T_2416d_row20_col7, #T_2416d_row22_col1, #T_2416d_row22_col3, #T_2416d_row22_col4, #T_2416d_row23_col1, #T_2416d_row23_col3, #T_2416d_row23_col4, #T_2416d_row24_col1, #T_2416d_row24_col3, #T_2416d_row24_col4, #T_2416d_row25_col1, #T_2416d_row25_col3, #T_2416d_row25_col4, #T_2416d_row26_col1, #T_2416d_row26_col3, #T_2416d_row26_col4, #T_2416d_row27_col1, #T_2416d_row27_col3, #T_2416d_row27_col4, #T_2416d_row28_col1, #T_2416d_row28_col3, #T_2416d_row28_col4 {\n",
       "  background-color: #fff9f9;\n",
       "  color: #000000;\n",
       "  white-space: pre-wrap;\n",
       "}\n",
       "#T_2416d_row7_col7 {\n",
       "  background-color: #ff6d6d;\n",
       "  color: #f1f1f1;\n",
       "  white-space: pre-wrap;\n",
       "}\n",
       "#T_2416d_row8_col0, #T_2416d_row9_col0, #T_2416d_row10_col0, #T_2416d_row23_col7, #T_2416d_row24_col7 {\n",
       "  background-color: #ffe5e5;\n",
       "  color: #000000;\n",
       "  white-space: pre-wrap;\n",
       "}\n",
       "#T_2416d_row8_col1, #T_2416d_row8_col2, #T_2416d_row8_col3, #T_2416d_row8_col4, #T_2416d_row9_col1, #T_2416d_row9_col2, #T_2416d_row9_col3, #T_2416d_row9_col4, #T_2416d_row12_col5, #T_2416d_row17_col5 {\n",
       "  background-color: #ffe1e1;\n",
       "  color: #000000;\n",
       "  white-space: pre-wrap;\n",
       "}\n",
       "#T_2416d_row8_col6, #T_2416d_row9_col6, #T_2416d_row14_col7, #T_2416d_row19_col0, #T_2416d_row20_col0, #T_2416d_row21_col1, #T_2416d_row22_col0, #T_2416d_row29_col6, #T_2416d_row30_col6 {\n",
       "  background-color: #fff5f5;\n",
       "  color: #000000;\n",
       "  white-space: pre-wrap;\n",
       "}\n",
       "#T_2416d_row8_col7, #T_2416d_row9_col7 {\n",
       "  background-color: #ffc1c1;\n",
       "  color: #000000;\n",
       "  white-space: pre-wrap;\n",
       "}\n",
       "#T_2416d_row10_col1, #T_2416d_row14_col4, #T_2416d_row15_col2, #T_2416d_row19_col3, #T_2416d_row20_col3 {\n",
       "  background-color: #ffcdcd;\n",
       "  color: #000000;\n",
       "  white-space: pre-wrap;\n",
       "}\n",
       "#T_2416d_row10_col7 {\n",
       "  background-color: #ffbdbd;\n",
       "  color: #000000;\n",
       "  white-space: pre-wrap;\n",
       "}\n",
       "#T_2416d_row11_col0, #T_2416d_row18_col5, #T_2416d_row19_col5, #T_2416d_row21_col6, #T_2416d_row25_col5, #T_2416d_row28_col6, #T_2416d_row29_col0 {\n",
       "  background-color: #ffdddd;\n",
       "  color: #000000;\n",
       "  white-space: pre-wrap;\n",
       "}\n",
       "#T_2416d_row11_col1, #T_2416d_row16_col3, #T_2416d_row22_col5, #T_2416d_row25_col6 {\n",
       "  background-color: #ffa9a9;\n",
       "  color: #000000;\n",
       "  white-space: pre-wrap;\n",
       "}\n",
       "#T_2416d_row11_col7 {\n",
       "  background-color: #ff6969;\n",
       "  color: #f1f1f1;\n",
       "  white-space: pre-wrap;\n",
       "}\n",
       "#T_2416d_row12_col0, #T_2416d_row21_col5, #T_2416d_row23_col6, #T_2416d_row24_col6 {\n",
       "  background-color: #ffa5a5;\n",
       "  color: #000000;\n",
       "  white-space: pre-wrap;\n",
       "}\n",
       "#T_2416d_row12_col1, #T_2416d_row13_col1, #T_2416d_row16_col1 {\n",
       "  background-color: #ff5555;\n",
       "  color: #f1f1f1;\n",
       "  white-space: pre-wrap;\n",
       "}\n",
       "#T_2416d_row12_col4, #T_2416d_row15_col1, #T_2416d_row16_col4, #T_2416d_row17_col1, #T_2416d_row17_col3 {\n",
       "  background-color: #ff9191;\n",
       "  color: #000000;\n",
       "  white-space: pre-wrap;\n",
       "}\n",
       "#T_2416d_row13_col0, #T_2416d_row15_col4 {\n",
       "  background-color: #ffb9b9;\n",
       "  color: #000000;\n",
       "  white-space: pre-wrap;\n",
       "}\n",
       "#T_2416d_row14_col0, #T_2416d_row25_col7 {\n",
       "  background-color: #ffd5d5;\n",
       "  color: #000000;\n",
       "  white-space: pre-wrap;\n",
       "}\n",
       "#T_2416d_row14_col1 {\n",
       "  background-color: #ff4d4d;\n",
       "  color: #f1f1f1;\n",
       "  white-space: pre-wrap;\n",
       "}\n",
       "#T_2416d_row14_col3, #T_2416d_row19_col4, #T_2416d_row20_col4, #T_2416d_row22_col6 {\n",
       "  background-color: #ffc9c9;\n",
       "  color: #000000;\n",
       "  white-space: pre-wrap;\n",
       "}\n",
       "#T_2416d_row15_col3, #T_2416d_row23_col5, #T_2416d_row24_col5 {\n",
       "  background-color: #ffc5c5;\n",
       "  color: #000000;\n",
       "  white-space: pre-wrap;\n",
       "}\n",
       "#T_2416d_row16_col2, #T_2416d_row18_col2, #T_2416d_row18_col3, #T_2416d_row18_col4, #T_2416d_row28_col7 {\n",
       "  background-color: #ffb1b1;\n",
       "  color: #000000;\n",
       "  white-space: pre-wrap;\n",
       "}\n",
       "#T_2416d_row17_col2 {\n",
       "  background-color: #ff9595;\n",
       "  color: #000000;\n",
       "  white-space: pre-wrap;\n",
       "}\n",
       "#T_2416d_row17_col4 {\n",
       "  background-color: #ff6565;\n",
       "  color: #f1f1f1;\n",
       "  white-space: pre-wrap;\n",
       "}\n",
       "#T_2416d_row20_col5 {\n",
       "  background-color: #ff8d8d;\n",
       "  color: #000000;\n",
       "  white-space: pre-wrap;\n",
       "}\n",
       "#T_2416d_row26_col7, #T_2416d_row27_col7 {\n",
       "  background-color: #ffb5b5;\n",
       "  color: #000000;\n",
       "  white-space: pre-wrap;\n",
       "}\n",
       "#T_2416d_row28_col0 {\n",
       "  background-color: #ffd9d9;\n",
       "  color: #000000;\n",
       "  white-space: pre-wrap;\n",
       "}\n",
       "#T_2416d_row29_col7 {\n",
       "  background-color: #ff2525;\n",
       "  color: #f1f1f1;\n",
       "  white-space: pre-wrap;\n",
       "}\n",
       "#T_2416d_row30_col7 {\n",
       "  background-color: #ff8989;\n",
       "  color: #000000;\n",
       "  white-space: pre-wrap;\n",
       "}\n",
       "</style>\n",
       "<table id=\"T_2416d\">\n",
       "  <thead>\n",
       "    <tr>\n",
       "      <th class=\"blank level0\" >&nbsp;</th>\n",
       "      <th id=\"T_2416d_level0_col0\" class=\"col_heading level0 col0\" >The (0)</th>\n",
       "      <th id=\"T_2416d_level0_col1\" class=\"col_heading level0 col1\" > owl (1)</th>\n",
       "      <th id=\"T_2416d_level0_col2\" class=\"col_heading level0 col2\" > h (2)</th>\n",
       "      <th id=\"T_2416d_level0_col3\" class=\"col_heading level0 col3\" >oot (3)</th>\n",
       "      <th id=\"T_2416d_level0_col4\" class=\"col_heading level0 col4\" >s (4)</th>\n",
       "      <th id=\"T_2416d_level0_col5\" class=\"col_heading level0 col5\" > at (5)</th>\n",
       "      <th id=\"T_2416d_level0_col6\" class=\"col_heading level0 col6\" > midnight (6)</th>\n",
       "      <th id=\"T_2416d_level0_col7\" class=\"col_heading level0 col7\" >! (7)</th>\n",
       "    </tr>\n",
       "  </thead>\n",
       "  <tbody>\n",
       "    <tr>\n",
       "      <th id=\"T_2416d_level0_row0\" class=\"row_heading level0 row0\" >Dec (0)</th>\n",
       "      <td id=\"T_2416d_row0_col0\" class=\"data row0 col0\" >0.028536</td>\n",
       "      <td id=\"T_2416d_row0_col1\" class=\"data row0 col1\" >0.033333</td>\n",
       "      <td id=\"T_2416d_row0_col2\" class=\"data row0 col2\" >0.033333</td>\n",
       "      <td id=\"T_2416d_row0_col3\" class=\"data row0 col3\" >0.033333</td>\n",
       "      <td id=\"T_2416d_row0_col4\" class=\"data row0 col4\" >0.033337</td>\n",
       "      <td id=\"T_2416d_row0_col5\" class=\"data row0 col5\" >0.000000</td>\n",
       "      <td id=\"T_2416d_row0_col6\" class=\"data row0 col6\" >0.000001</td>\n",
       "      <td id=\"T_2416d_row0_col7\" class=\"data row0 col7\" >0.087659</td>\n",
       "    </tr>\n",
       "    <tr>\n",
       "      <th id=\"T_2416d_level0_row1\" class=\"row_heading level0 row1\" >ode (1)</th>\n",
       "      <td id=\"T_2416d_row1_col0\" class=\"data row1 col0\" >0.028536</td>\n",
       "      <td id=\"T_2416d_row1_col1\" class=\"data row1 col1\" >0.033333</td>\n",
       "      <td id=\"T_2416d_row1_col2\" class=\"data row1 col2\" >0.033333</td>\n",
       "      <td id=\"T_2416d_row1_col3\" class=\"data row1 col3\" >0.033333</td>\n",
       "      <td id=\"T_2416d_row1_col4\" class=\"data row1 col4\" >0.033337</td>\n",
       "      <td id=\"T_2416d_row1_col5\" class=\"data row1 col5\" >0.000000</td>\n",
       "      <td id=\"T_2416d_row1_col6\" class=\"data row1 col6\" >0.000001</td>\n",
       "      <td id=\"T_2416d_row1_col7\" class=\"data row1 col7\" >0.087659</td>\n",
       "    </tr>\n",
       "    <tr>\n",
       "      <th id=\"T_2416d_level0_row2\" class=\"row_heading level0 row2\" > this (2)</th>\n",
       "      <td id=\"T_2416d_row2_col0\" class=\"data row2 col0\" >0.028536</td>\n",
       "      <td id=\"T_2416d_row2_col1\" class=\"data row2 col1\" >0.033333</td>\n",
       "      <td id=\"T_2416d_row2_col2\" class=\"data row2 col2\" >0.033333</td>\n",
       "      <td id=\"T_2416d_row2_col3\" class=\"data row2 col3\" >0.033333</td>\n",
       "      <td id=\"T_2416d_row2_col4\" class=\"data row2 col4\" >0.033337</td>\n",
       "      <td id=\"T_2416d_row2_col5\" class=\"data row2 col5\" >0.000000</td>\n",
       "      <td id=\"T_2416d_row2_col6\" class=\"data row2 col6\" >0.000001</td>\n",
       "      <td id=\"T_2416d_row2_col7\" class=\"data row2 col7\" >0.087659</td>\n",
       "    </tr>\n",
       "    <tr>\n",
       "      <th id=\"T_2416d_level0_row3\" class=\"row_heading level0 row3\" > message (3)</th>\n",
       "      <td id=\"T_2416d_row3_col0\" class=\"data row3 col0\" >0.028536</td>\n",
       "      <td id=\"T_2416d_row3_col1\" class=\"data row3 col1\" >0.033333</td>\n",
       "      <td id=\"T_2416d_row3_col2\" class=\"data row3 col2\" >0.033333</td>\n",
       "      <td id=\"T_2416d_row3_col3\" class=\"data row3 col3\" >0.033333</td>\n",
       "      <td id=\"T_2416d_row3_col4\" class=\"data row3 col4\" >0.033337</td>\n",
       "      <td id=\"T_2416d_row3_col5\" class=\"data row3 col5\" >0.000000</td>\n",
       "      <td id=\"T_2416d_row3_col6\" class=\"data row3 col6\" >0.000001</td>\n",
       "      <td id=\"T_2416d_row3_col7\" class=\"data row3 col7\" >0.087659</td>\n",
       "    </tr>\n",
       "    <tr>\n",
       "      <th id=\"T_2416d_level0_row4\" class=\"row_heading level0 row4\" >. (4)</th>\n",
       "      <td id=\"T_2416d_row4_col0\" class=\"data row4 col0\" >0.028536</td>\n",
       "      <td id=\"T_2416d_row4_col1\" class=\"data row4 col1\" >0.033333</td>\n",
       "      <td id=\"T_2416d_row4_col2\" class=\"data row4 col2\" >0.033333</td>\n",
       "      <td id=\"T_2416d_row4_col3\" class=\"data row4 col3\" >0.033333</td>\n",
       "      <td id=\"T_2416d_row4_col4\" class=\"data row4 col4\" >0.033337</td>\n",
       "      <td id=\"T_2416d_row4_col5\" class=\"data row4 col5\" >0.000000</td>\n",
       "      <td id=\"T_2416d_row4_col6\" class=\"data row4 col6\" >0.000001</td>\n",
       "      <td id=\"T_2416d_row4_col7\" class=\"data row4 col7\" >0.087659</td>\n",
       "    </tr>\n",
       "    <tr>\n",
       "      <th id=\"T_2416d_level0_row5\" class=\"row_heading level0 row5\" > Do (5)</th>\n",
       "      <td id=\"T_2416d_row5_col0\" class=\"data row5 col0\" >0.028536</td>\n",
       "      <td id=\"T_2416d_row5_col1\" class=\"data row5 col1\" >0.033333</td>\n",
       "      <td id=\"T_2416d_row5_col2\" class=\"data row5 col2\" >0.033333</td>\n",
       "      <td id=\"T_2416d_row5_col3\" class=\"data row5 col3\" >0.033333</td>\n",
       "      <td id=\"T_2416d_row5_col4\" class=\"data row5 col4\" >0.033337</td>\n",
       "      <td id=\"T_2416d_row5_col5\" class=\"data row5 col5\" >0.000000</td>\n",
       "      <td id=\"T_2416d_row5_col6\" class=\"data row5 col6\" >0.000001</td>\n",
       "      <td id=\"T_2416d_row5_col7\" class=\"data row5 col7\" >0.087659</td>\n",
       "    </tr>\n",
       "    <tr>\n",
       "      <th id=\"T_2416d_level0_row6\" class=\"row_heading level0 row6\" > not (6)</th>\n",
       "      <td id=\"T_2416d_row6_col0\" class=\"data row6 col0\" >0.028536</td>\n",
       "      <td id=\"T_2416d_row6_col1\" class=\"data row6 col1\" >0.033333</td>\n",
       "      <td id=\"T_2416d_row6_col2\" class=\"data row6 col2\" >0.033333</td>\n",
       "      <td id=\"T_2416d_row6_col3\" class=\"data row6 col3\" >0.033333</td>\n",
       "      <td id=\"T_2416d_row6_col4\" class=\"data row6 col4\" >0.033337</td>\n",
       "      <td id=\"T_2416d_row6_col5\" class=\"data row6 col5\" >0.000000</td>\n",
       "      <td id=\"T_2416d_row6_col6\" class=\"data row6 col6\" >0.000001</td>\n",
       "      <td id=\"T_2416d_row6_col7\" class=\"data row6 col7\" >0.087659</td>\n",
       "    </tr>\n",
       "    <tr>\n",
       "      <th id=\"T_2416d_level0_row7\" class=\"row_heading level0 row7\" > explain (7)</th>\n",
       "      <td id=\"T_2416d_row7_col0\" class=\"data row7 col0\" >0.007018</td>\n",
       "      <td id=\"T_2416d_row7_col1\" class=\"data row7 col1\" >0.046032</td>\n",
       "      <td id=\"T_2416d_row7_col2\" class=\"data row7 col2\" >0.046032</td>\n",
       "      <td id=\"T_2416d_row7_col3\" class=\"data row7 col3\" >0.046032</td>\n",
       "      <td id=\"T_2416d_row7_col4\" class=\"data row7 col4\" >0.046035</td>\n",
       "      <td id=\"T_2416d_row7_col5\" class=\"data row7 col5\" >0.012003</td>\n",
       "      <td id=\"T_2416d_row7_col6\" class=\"data row7 col6\" >0.013824</td>\n",
       "      <td id=\"T_2416d_row7_col7\" class=\"data row7 col7\" >0.286336</td>\n",
       "    </tr>\n",
       "    <tr>\n",
       "      <th id=\"T_2416d_level0_row8\" class=\"row_heading level0 row8\" > further (8)</th>\n",
       "      <td id=\"T_2416d_row8_col0\" class=\"data row8 col0\" >0.052807</td>\n",
       "      <td id=\"T_2416d_row8_col1\" class=\"data row8 col1\" >0.057767</td>\n",
       "      <td id=\"T_2416d_row8_col2\" class=\"data row8 col2\" >0.055238</td>\n",
       "      <td id=\"T_2416d_row8_col3\" class=\"data row8 col3\" >0.055238</td>\n",
       "      <td id=\"T_2416d_row8_col4\" class=\"data row8 col4\" >0.055238</td>\n",
       "      <td id=\"T_2416d_row8_col5\" class=\"data row8 col5\" >0.014404</td>\n",
       "      <td id=\"T_2416d_row8_col6\" class=\"data row8 col6\" >0.016589</td>\n",
       "      <td id=\"T_2416d_row8_col7\" class=\"data row8 col7\" >0.121890</td>\n",
       "    </tr>\n",
       "    <tr>\n",
       "      <th id=\"T_2416d_level0_row9\" class=\"row_heading level0 row9\" >. (9)</th>\n",
       "      <td id=\"T_2416d_row9_col0\" class=\"data row9 col0\" >0.052807</td>\n",
       "      <td id=\"T_2416d_row9_col1\" class=\"data row9 col1\" >0.057767</td>\n",
       "      <td id=\"T_2416d_row9_col2\" class=\"data row9 col2\" >0.055238</td>\n",
       "      <td id=\"T_2416d_row9_col3\" class=\"data row9 col3\" >0.055238</td>\n",
       "      <td id=\"T_2416d_row9_col4\" class=\"data row9 col4\" >0.055238</td>\n",
       "      <td id=\"T_2416d_row9_col5\" class=\"data row9 col5\" >0.014404</td>\n",
       "      <td id=\"T_2416d_row9_col6\" class=\"data row9 col6\" >0.016589</td>\n",
       "      <td id=\"T_2416d_row9_col7\" class=\"data row9 col7\" >0.121890</td>\n",
       "    </tr>\n",
       "    <tr>\n",
       "      <th id=\"T_2416d_level0_row10\" class=\"row_heading level0 row10\" > ' (10)</th>\n",
       "      <td id=\"T_2416d_row10_col0\" class=\"data row10 col0\" >0.047459</td>\n",
       "      <td id=\"T_2416d_row10_col1\" class=\"data row10 col1\" >0.100200</td>\n",
       "      <td id=\"T_2416d_row10_col2\" class=\"data row10 col2\" >0.087698</td>\n",
       "      <td id=\"T_2416d_row10_col3\" class=\"data row10 col3\" >0.087698</td>\n",
       "      <td id=\"T_2416d_row10_col4\" class=\"data row10 col4\" >0.087699</td>\n",
       "      <td id=\"T_2416d_row10_col5\" class=\"data row10 col5\" >0.012050</td>\n",
       "      <td id=\"T_2416d_row10_col6\" class=\"data row10 col6\" >0.013832</td>\n",
       "      <td id=\"T_2416d_row10_col7\" class=\"data row10 col7\" >0.129348</td>\n",
       "    </tr>\n",
       "    <tr>\n",
       "      <th id=\"T_2416d_level0_row11\" class=\"row_heading level0 row11\" >VG (11)</th>\n",
       "      <td id=\"T_2416d_row11_col0\" class=\"data row11 col0\" >0.069507</td>\n",
       "      <td id=\"T_2416d_row11_col1\" class=\"data row11 col1\" >0.164599</td>\n",
       "      <td id=\"T_2416d_row11_col2\" class=\"data row11 col2\" >0.087699</td>\n",
       "      <td id=\"T_2416d_row11_col3\" class=\"data row11 col3\" >0.087699</td>\n",
       "      <td id=\"T_2416d_row11_col4\" class=\"data row11 col4\" >0.087701</td>\n",
       "      <td id=\"T_2416d_row11_col5\" class=\"data row11 col5\" >0.012051</td>\n",
       "      <td id=\"T_2416d_row11_col6\" class=\"data row11 col6\" >0.013833</td>\n",
       "      <td id=\"T_2416d_row11_col7\" class=\"data row11 col7\" >0.295921</td>\n",
       "    </tr>\n",
       "    <tr>\n",
       "      <th id=\"T_2416d_level0_row12\" class=\"row_heading level0 row12\" >hl (12)</th>\n",
       "      <td id=\"T_2416d_row12_col0\" class=\"data row12 col0\" >0.174756</td>\n",
       "      <td id=\"T_2416d_row12_col1\" class=\"data row12 col1\" >0.335728</td>\n",
       "      <td id=\"T_2416d_row12_col2\" class=\"data row12 col2\" >0.087698</td>\n",
       "      <td id=\"T_2416d_row12_col3\" class=\"data row12 col3\" >0.087698</td>\n",
       "      <td id=\"T_2416d_row12_col4\" class=\"data row12 col4\" >0.211099</td>\n",
       "      <td id=\"T_2416d_row12_col5\" class=\"data row12 col5\" >0.055317</td>\n",
       "      <td id=\"T_2416d_row12_col6\" class=\"data row12 col6\" >0.013832</td>\n",
       "      <td id=\"T_2416d_row12_col7\" class=\"data row12 col7\" >0.046039</td>\n",
       "    </tr>\n",
       "    <tr>\n",
       "      <th id=\"T_2416d_level0_row13\" class=\"row_heading level0 row13\" >IG (13)</th>\n",
       "      <td id=\"T_2416d_row13_col0\" class=\"data row13 col0\" >0.135234</td>\n",
       "      <td id=\"T_2416d_row13_col1\" class=\"data row13 col1\" >0.335144</td>\n",
       "      <td id=\"T_2416d_row13_col2\" class=\"data row13 col2\" >0.087698</td>\n",
       "      <td id=\"T_2416d_row13_col3\" class=\"data row13 col3\" >0.087698</td>\n",
       "      <td id=\"T_2416d_row13_col4\" class=\"data row13 col4\" >0.088272</td>\n",
       "      <td id=\"T_2416d_row13_col5\" class=\"data row13 col5\" >0.012050</td>\n",
       "      <td id=\"T_2416d_row13_col6\" class=\"data row13 col6\" >0.013832</td>\n",
       "      <td id=\"T_2416d_row13_col7\" class=\"data row13 col7\" >0.046022</td>\n",
       "    </tr>\n",
       "    <tr>\n",
       "      <th id=\"T_2416d_level0_row14\" class=\"row_heading level0 row14\" >93 (14)</th>\n",
       "      <td id=\"T_2416d_row14_col0\" class=\"data row14 col0\" >0.084725</td>\n",
       "      <td id=\"T_2416d_row14_col1\" class=\"data row14 col1\" >0.345251</td>\n",
       "      <td id=\"T_2416d_row14_col2\" class=\"data row14 col2\" >0.092011</td>\n",
       "      <td id=\"T_2416d_row14_col3\" class=\"data row14 col3\" >0.105120</td>\n",
       "      <td id=\"T_2416d_row14_col4\" class=\"data row14 col4\" >0.098155</td>\n",
       "      <td id=\"T_2416d_row14_col5\" class=\"data row14 col5\" >0.026000</td>\n",
       "      <td id=\"T_2416d_row14_col6\" class=\"data row14 col6\" >0.013349</td>\n",
       "      <td id=\"T_2416d_row14_col7\" class=\"data row14 col7\" >0.020042</td>\n",
       "    </tr>\n",
       "    <tr>\n",
       "      <th id=\"T_2416d_level0_row15\" class=\"row_heading level0 row15\" >b (15)</th>\n",
       "      <td id=\"T_2416d_row15_col0\" class=\"data row15 col0\" >0.039341</td>\n",
       "      <td id=\"T_2416d_row15_col1\" class=\"data row15 col1\" >0.210967</td>\n",
       "      <td id=\"T_2416d_row15_col2\" class=\"data row15 col2\" >0.094833</td>\n",
       "      <td id=\"T_2416d_row15_col3\" class=\"data row15 col3\" >0.109393</td>\n",
       "      <td id=\"T_2416d_row15_col4\" class=\"data row15 col4\" >0.139336</td>\n",
       "      <td id=\"T_2416d_row15_col5\" class=\"data row15 col5\" >0.037779</td>\n",
       "      <td id=\"T_2416d_row15_col6\" class=\"data row15 col6\" >0.014832</td>\n",
       "      <td id=\"T_2416d_row15_col7\" class=\"data row15 col7\" >0.014853</td>\n",
       "    </tr>\n",
       "    <tr>\n",
       "      <th id=\"T_2416d_level0_row16\" class=\"row_heading level0 row16\" >C (16)</th>\n",
       "      <td id=\"T_2416d_row16_col0\" class=\"data row16 col0\" >0.009736</td>\n",
       "      <td id=\"T_2416d_row16_col1\" class=\"data row16 col1\" >0.331484</td>\n",
       "      <td id=\"T_2416d_row16_col2\" class=\"data row16 col2\" >0.150382</td>\n",
       "      <td id=\"T_2416d_row16_col3\" class=\"data row16 col3\" >0.164939</td>\n",
       "      <td id=\"T_2416d_row16_col4\" class=\"data row16 col4\" >0.215212</td>\n",
       "      <td id=\"T_2416d_row16_col5\" class=\"data row16 col5\" >0.037779</td>\n",
       "      <td id=\"T_2416d_row16_col6\" class=\"data row16 col6\" >0.014833</td>\n",
       "      <td id=\"T_2416d_row16_col7\" class=\"data row16 col7\" >0.014865</td>\n",
       "    </tr>\n",
       "    <tr>\n",
       "      <th id=\"T_2416d_level0_row17\" class=\"row_heading level0 row17\" >Bob (17)</th>\n",
       "      <td id=\"T_2416d_row17_col0\" class=\"data row17 col0\" >0.013089</td>\n",
       "      <td id=\"T_2416d_row17_col1\" class=\"data row17 col1\" >0.217908</td>\n",
       "      <td id=\"T_2416d_row17_col2\" class=\"data row17 col2\" >0.205099</td>\n",
       "      <td id=\"T_2416d_row17_col3\" class=\"data row17 col3\" >0.211236</td>\n",
       "      <td id=\"T_2416d_row17_col4\" class=\"data row17 col4\" >0.301401</td>\n",
       "      <td id=\"T_2416d_row17_col5\" class=\"data row17 col5\" >0.060829</td>\n",
       "      <td id=\"T_2416d_row17_col6\" class=\"data row17 col6\" >0.014833</td>\n",
       "      <td id=\"T_2416d_row17_col7\" class=\"data row17 col7\" >0.014826</td>\n",
       "    </tr>\n",
       "    <tr>\n",
       "      <th id=\"T_2416d_level0_row18\" class=\"row_heading level0 row18\" >290 (18)</th>\n",
       "      <td id=\"T_2416d_row18_col0\" class=\"data row18 col0\" >0.025534</td>\n",
       "      <td id=\"T_2416d_row18_col1\" class=\"data row18 col1\" >0.045607</td>\n",
       "      <td id=\"T_2416d_row18_col2\" class=\"data row18 col2\" >0.148874</td>\n",
       "      <td id=\"T_2416d_row18_col3\" class=\"data row18 col3\" >0.155692</td>\n",
       "      <td id=\"T_2416d_row18_col4\" class=\"data row18 col4\" >0.155738</td>\n",
       "      <td id=\"T_2416d_row18_col5\" class=\"data row18 col5\" >0.066016</td>\n",
       "      <td id=\"T_2416d_row18_col6\" class=\"data row18 col6\" >0.014833</td>\n",
       "      <td id=\"T_2416d_row18_col7\" class=\"data row18 col7\" >0.014826</td>\n",
       "    </tr>\n",
       "    <tr>\n",
       "      <th id=\"T_2416d_level0_row19\" class=\"row_heading level0 row19\" >cy (19)</th>\n",
       "      <td id=\"T_2416d_row19_col0\" class=\"data row19 col0\" >0.021402</td>\n",
       "      <td id=\"T_2416d_row19_col1\" class=\"data row19 col1\" >0.044578</td>\n",
       "      <td id=\"T_2416d_row19_col2\" class=\"data row19 col2\" >0.090614</td>\n",
       "      <td id=\"T_2416d_row19_col3\" class=\"data row19 col3\" >0.100132</td>\n",
       "      <td id=\"T_2416d_row19_col4\" class=\"data row19 col4\" >0.102908</td>\n",
       "      <td id=\"T_2416d_row19_col5\" class=\"data row19 col5\" >0.066009</td>\n",
       "      <td id=\"T_2416d_row19_col6\" class=\"data row19 col6\" >0.014833</td>\n",
       "      <td id=\"T_2416d_row19_col7\" class=\"data row19 col7\" >0.014839</td>\n",
       "    </tr>\n",
       "    <tr>\n",
       "      <th id=\"T_2416d_level0_row20\" class=\"row_heading level0 row20\" >B (20)</th>\n",
       "      <td id=\"T_2416d_row20_col0\" class=\"data row20 col0\" >0.021353</td>\n",
       "      <td id=\"T_2416d_row20_col1\" class=\"data row20 col1\" >0.044577</td>\n",
       "      <td id=\"T_2416d_row20_col2\" class=\"data row20 col2\" >0.090088</td>\n",
       "      <td id=\"T_2416d_row20_col3\" class=\"data row20 col3\" >0.100132</td>\n",
       "      <td id=\"T_2416d_row20_col4\" class=\"data row20 col4\" >0.102613</td>\n",
       "      <td id=\"T_2416d_row20_col5\" class=\"data row20 col5\" >0.226282</td>\n",
       "      <td id=\"T_2416d_row20_col6\" class=\"data row20 col6\" >0.015226</td>\n",
       "      <td id=\"T_2416d_row20_col7\" class=\"data row20 col7\" >0.014837</td>\n",
       "    </tr>\n",
       "    <tr>\n",
       "      <th id=\"T_2416d_level0_row21\" class=\"row_heading level0 row21\" >hd (21)</th>\n",
       "      <td id=\"T_2416d_row21_col0\" class=\"data row21 col0\" >0.033360</td>\n",
       "      <td id=\"T_2416d_row21_col1\" class=\"data row21 col1\" >0.021529</td>\n",
       "      <td id=\"T_2416d_row21_col2\" class=\"data row21 col2\" >0.035035</td>\n",
       "      <td id=\"T_2416d_row21_col3\" class=\"data row21 col3\" >0.042361</td>\n",
       "      <td id=\"T_2416d_row21_col4\" class=\"data row21 col4\" >0.042363</td>\n",
       "      <td id=\"T_2416d_row21_col5\" class=\"data row21 col5\" >0.175669</td>\n",
       "      <td id=\"T_2416d_row21_col6\" class=\"data row21 col6\" >0.067376</td>\n",
       "      <td id=\"T_2416d_row21_col7\" class=\"data row21 col7\" >0.029988</td>\n",
       "    </tr>\n",
       "    <tr>\n",
       "      <th id=\"T_2416d_level0_row22\" class=\"row_heading level0 row22\" >CB (22)</th>\n",
       "      <td id=\"T_2416d_row22_col0\" class=\"data row22 col0\" >0.019443</td>\n",
       "      <td id=\"T_2416d_row22_col1\" class=\"data row22 col1\" >0.009526</td>\n",
       "      <td id=\"T_2416d_row22_col2\" class=\"data row22 col2\" >0.001978</td>\n",
       "      <td id=\"T_2416d_row22_col3\" class=\"data row22 col3\" >0.009524</td>\n",
       "      <td id=\"T_2416d_row22_col4\" class=\"data row22 col4\" >0.009528</td>\n",
       "      <td id=\"T_2416d_row22_col5\" class=\"data row22 col5\" >0.167167</td>\n",
       "      <td id=\"T_2416d_row22_col6\" class=\"data row22 col6\" >0.105952</td>\n",
       "      <td id=\"T_2416d_row22_col7\" class=\"data row22 col7\" >0.041838</td>\n",
       "    </tr>\n",
       "    <tr>\n",
       "      <th id=\"T_2416d_level0_row23\" class=\"row_heading level0 row23\" >ta (23)</th>\n",
       "      <td id=\"T_2416d_row23_col0\" class=\"data row23 col0\" >0.024364</td>\n",
       "      <td id=\"T_2416d_row23_col1\" class=\"data row23 col1\" >0.011113</td>\n",
       "      <td id=\"T_2416d_row23_col2\" class=\"data row23 col2\" >0.002308</td>\n",
       "      <td id=\"T_2416d_row23_col3\" class=\"data row23 col3\" >0.011111</td>\n",
       "      <td id=\"T_2416d_row23_col4\" class=\"data row23 col4\" >0.011113</td>\n",
       "      <td id=\"T_2416d_row23_col5\" class=\"data row23 col5\" >0.111696</td>\n",
       "      <td id=\"T_2416d_row23_col6\" class=\"data row23 col6\" >0.179166</td>\n",
       "      <td id=\"T_2416d_row23_col7\" class=\"data row23 col7\" >0.049078</td>\n",
       "    </tr>\n",
       "    <tr>\n",
       "      <th id=\"T_2416d_level0_row24\" class=\"row_heading level0 row24\" >WR (24)</th>\n",
       "      <td id=\"T_2416d_row24_col0\" class=\"data row24 col0\" >0.024364</td>\n",
       "      <td id=\"T_2416d_row24_col1\" class=\"data row24 col1\" >0.011113</td>\n",
       "      <td id=\"T_2416d_row24_col2\" class=\"data row24 col2\" >0.002308</td>\n",
       "      <td id=\"T_2416d_row24_col3\" class=\"data row24 col3\" >0.011111</td>\n",
       "      <td id=\"T_2416d_row24_col4\" class=\"data row24 col4\" >0.011113</td>\n",
       "      <td id=\"T_2416d_row24_col5\" class=\"data row24 col5\" >0.111696</td>\n",
       "      <td id=\"T_2416d_row24_col6\" class=\"data row24 col6\" >0.179166</td>\n",
       "      <td id=\"T_2416d_row24_col7\" class=\"data row24 col7\" >0.049078</td>\n",
       "    </tr>\n",
       "    <tr>\n",
       "      <th id=\"T_2416d_level0_row25\" class=\"row_heading level0 row25\" >ua (25)</th>\n",
       "      <td id=\"T_2416d_row25_col0\" class=\"data row25 col0\" >0.029490</td>\n",
       "      <td id=\"T_2416d_row25_col1\" class=\"data row25 col1\" >0.011114</td>\n",
       "      <td id=\"T_2416d_row25_col2\" class=\"data row25 col2\" >0.002308</td>\n",
       "      <td id=\"T_2416d_row25_col3\" class=\"data row25 col3\" >0.011111</td>\n",
       "      <td id=\"T_2416d_row25_col4\" class=\"data row25 col4\" >0.011113</td>\n",
       "      <td id=\"T_2416d_row25_col5\" class=\"data row25 col5\" >0.070034</td>\n",
       "      <td id=\"T_2416d_row25_col6\" class=\"data row25 col6\" >0.164544</td>\n",
       "      <td id=\"T_2416d_row25_col7\" class=\"data row25 col7\" >0.085818</td>\n",
       "    </tr>\n",
       "    <tr>\n",
       "      <th id=\"T_2416d_level0_row26\" class=\"row_heading level0 row26\" >W (26)</th>\n",
       "      <td id=\"T_2416d_row26_col0\" class=\"data row26 col0\" >0.034824</td>\n",
       "      <td id=\"T_2416d_row26_col1\" class=\"data row26 col1\" >0.013368</td>\n",
       "      <td id=\"T_2416d_row26_col2\" class=\"data row26 col2\" >0.002769</td>\n",
       "      <td id=\"T_2416d_row26_col3\" class=\"data row26 col3\" >0.013333</td>\n",
       "      <td id=\"T_2416d_row26_col4\" class=\"data row26 col4\" >0.013334</td>\n",
       "      <td id=\"T_2416d_row26_col5\" class=\"data row26 col5\" >0.044041</td>\n",
       "      <td id=\"T_2416d_row26_col6\" class=\"data row26 col6\" >0.090802</td>\n",
       "      <td id=\"T_2416d_row26_col7\" class=\"data row26 col7\" >0.142446</td>\n",
       "    </tr>\n",
       "    <tr>\n",
       "      <th id=\"T_2416d_level0_row27\" class=\"row_heading level0 row27\" >d (27)</th>\n",
       "      <td id=\"T_2416d_row27_col0\" class=\"data row27 col0\" >0.034824</td>\n",
       "      <td id=\"T_2416d_row27_col1\" class=\"data row27 col1\" >0.013368</td>\n",
       "      <td id=\"T_2416d_row27_col2\" class=\"data row27 col2\" >0.002769</td>\n",
       "      <td id=\"T_2416d_row27_col3\" class=\"data row27 col3\" >0.013333</td>\n",
       "      <td id=\"T_2416d_row27_col4\" class=\"data row27 col4\" >0.013334</td>\n",
       "      <td id=\"T_2416d_row27_col5\" class=\"data row27 col5\" >0.044041</td>\n",
       "      <td id=\"T_2416d_row27_col6\" class=\"data row27 col6\" >0.090802</td>\n",
       "      <td id=\"T_2416d_row27_col7\" class=\"data row27 col7\" >0.142446</td>\n",
       "    </tr>\n",
       "    <tr>\n",
       "      <th id=\"T_2416d_level0_row28\" class=\"row_heading level0 row28\" >od (28)</th>\n",
       "      <td id=\"T_2416d_row28_col0\" class=\"data row28 col0\" >0.077551</td>\n",
       "      <td id=\"T_2416d_row28_col1\" class=\"data row28 col1\" >0.009598</td>\n",
       "      <td id=\"T_2416d_row28_col2\" class=\"data row28 col2\" >0.001978</td>\n",
       "      <td id=\"T_2416d_row28_col3\" class=\"data row28 col3\" >0.009524</td>\n",
       "      <td id=\"T_2416d_row28_col4\" class=\"data row28 col4\" >0.009525</td>\n",
       "      <td id=\"T_2416d_row28_col5\" class=\"data row28 col5\" >0.031458</td>\n",
       "      <td id=\"T_2416d_row28_col6\" class=\"data row28 col6\" >0.064879</td>\n",
       "      <td id=\"T_2416d_row28_col7\" class=\"data row28 col7\" >0.153729</td>\n",
       "    </tr>\n",
       "    <tr>\n",
       "      <th id=\"T_2416d_level0_row29\" class=\"row_heading level0 row29\" >CE (29)</th>\n",
       "      <td id=\"T_2416d_row29_col0\" class=\"data row29 col0\" >0.064564</td>\n",
       "      <td id=\"T_2416d_row29_col1\" class=\"data row29 col1\" >0.000101</td>\n",
       "      <td id=\"T_2416d_row29_col2\" class=\"data row29 col2\" >0.000000</td>\n",
       "      <td id=\"T_2416d_row29_col3\" class=\"data row29 col3\" >0.000001</td>\n",
       "      <td id=\"T_2416d_row29_col4\" class=\"data row29 col4\" >0.000000</td>\n",
       "      <td id=\"T_2416d_row29_col5\" class=\"data row29 col5\" >0.005708</td>\n",
       "      <td id=\"T_2416d_row29_col6\" class=\"data row29 col6\" >0.020021</td>\n",
       "      <td id=\"T_2416d_row29_col7\" class=\"data row29 col7\" >0.426662</td>\n",
       "    </tr>\n",
       "    <tr>\n",
       "      <th id=\"T_2416d_level0_row30\" class=\"row_heading level0 row30\" >=' (30)</th>\n",
       "      <td id=\"T_2416d_row30_col0\" class=\"data row30 col0\" >0.038735</td>\n",
       "      <td id=\"T_2416d_row30_col1\" class=\"data row30 col1\" >0.000101</td>\n",
       "      <td id=\"T_2416d_row30_col2\" class=\"data row30 col2\" >0.000000</td>\n",
       "      <td id=\"T_2416d_row30_col3\" class=\"data row30 col3\" >0.000000</td>\n",
       "      <td id=\"T_2416d_row30_col4\" class=\"data row30 col4\" >0.000000</td>\n",
       "      <td id=\"T_2416d_row30_col5\" class=\"data row30 col5\" >0.005708</td>\n",
       "      <td id=\"T_2416d_row30_col6\" class=\"data row30 col6\" >0.020020</td>\n",
       "      <td id=\"T_2416d_row30_col7\" class=\"data row30 col7\" >0.226675</td>\n",
       "    </tr>\n",
       "  </tbody>\n",
       "</table>\n"
      ],
      "text/plain": [
       "<pandas.io.formats.style.Styler at 0x17f647170>"
      ]
     },
     "metadata": {},
     "output_type": "display_data"
    }
   ],
   "source": [
    "logger.print_text_attribution_matrix(exp_id=-1)\n",
    "logger.print_attribution_matrix(exp_id=-1)"
   ]
  },
  {
   "cell_type": "markdown",
   "metadata": {},
   "source": [
    "\n",
    "That's all for now. We implement a few other attribution and perturbation methods, each with different properties. Check out the README, and do your own experiments – PIZZA is a work in progress and we welcome contributions. "
   ]
  },
  {
   "cell_type": "code",
   "execution_count": 56,
   "metadata": {},
   "outputs": [
    {
     "data": {
      "text/html": [
       "<div>\n",
       "<style scoped>\n",
       "    .dataframe tbody tr th:only-of-type {\n",
       "        vertical-align: middle;\n",
       "    }\n",
       "\n",
       "    .dataframe tbody tr th {\n",
       "        vertical-align: top;\n",
       "    }\n",
       "\n",
       "    .dataframe thead th {\n",
       "        text-align: right;\n",
       "    }\n",
       "</style>\n",
       "<table border=\"1\" class=\"dataframe\">\n",
       "  <thead>\n",
       "    <tr style=\"text-align: right;\">\n",
       "      <th></th>\n",
       "      <th>exp_id</th>\n",
       "      <th>original_input</th>\n",
       "      <th>original_output</th>\n",
       "      <th>perturbation_strategy</th>\n",
       "      <th>unit_definition</th>\n",
       "      <th>duration</th>\n",
       "      <th>num_llm_calls</th>\n",
       "    </tr>\n",
       "  </thead>\n",
       "  <tbody>\n",
       "    <tr>\n",
       "      <th>0</th>\n",
       "      <td>1</td>\n",
       "      <td>It is 9:47. How many minutes until 11? Answer ...</td>\n",
       "      <td>73</td>\n",
       "      <td>fixed</td>\n",
       "      <td>token</td>\n",
       "      <td>4.28802</td>\n",
       "      <td>30</td>\n",
       "    </tr>\n",
       "    <tr>\n",
       "      <th>1</th>\n",
       "      <td>2</td>\n",
       "      <td>It is 9:47. How many minutes until 11? Answer ...</td>\n",
       "      <td>73</td>\n",
       "      <td>nth_nearest (n=-1)</td>\n",
       "      <td>token</td>\n",
       "      <td>4.007842</td>\n",
       "      <td>18</td>\n",
       "    </tr>\n",
       "    <tr>\n",
       "      <th>2</th>\n",
       "      <td>3</td>\n",
       "      <td>Mary puts an apple in the box. The box is labe...</td>\n",
       "      <td>Apples</td>\n",
       "      <td>fixed</td>\n",
       "      <td>token</td>\n",
       "      <td>8.626639</td>\n",
       "      <td>50</td>\n",
       "    </tr>\n",
       "    <tr>\n",
       "      <th>3</th>\n",
       "      <td>4</td>\n",
       "      <td>Mary puts an apple in the box. The box is labe...</td>\n",
       "      <td>John would likely think there are pencils in t...</td>\n",
       "      <td>fixed</td>\n",
       "      <td>token</td>\n",
       "      <td>10.092385</td>\n",
       "      <td>32</td>\n",
       "    </tr>\n",
       "    <tr>\n",
       "      <th>4</th>\n",
       "      <td>5</td>\n",
       "      <td>Write a funny, sad haiku.</td>\n",
       "      <td>Lost my favorite sock,\\nIn the dryer it did hi...</td>\n",
       "      <td>fixed</td>\n",
       "      <td>token</td>\n",
       "      <td>3.358939</td>\n",
       "      <td>9</td>\n",
       "    </tr>\n",
       "    <tr>\n",
       "      <th>5</th>\n",
       "      <td>6</td>\n",
       "      <td>Decode this message. Do not explain further. '...</td>\n",
       "      <td>The owl hoots at midnight!</td>\n",
       "      <td>fixed</td>\n",
       "      <td>token</td>\n",
       "      <td>18.47873</td>\n",
       "      <td>53</td>\n",
       "    </tr>\n",
       "  </tbody>\n",
       "</table>\n",
       "</div>"
      ],
      "text/plain": [
       "   exp_id                                     original_input  \\\n",
       "0       1  It is 9:47. How many minutes until 11? Answer ...   \n",
       "1       2  It is 9:47. How many minutes until 11? Answer ...   \n",
       "2       3  Mary puts an apple in the box. The box is labe...   \n",
       "3       4  Mary puts an apple in the box. The box is labe...   \n",
       "4       5                          Write a funny, sad haiku.   \n",
       "5       6  Decode this message. Do not explain further. '...   \n",
       "\n",
       "                                     original_output perturbation_strategy  \\\n",
       "0                                                 73                 fixed   \n",
       "1                                                 73    nth_nearest (n=-1)   \n",
       "2                                             Apples                 fixed   \n",
       "3  John would likely think there are pencils in t...                 fixed   \n",
       "4  Lost my favorite sock,\\nIn the dryer it did hi...                 fixed   \n",
       "5                         The owl hoots at midnight!                 fixed   \n",
       "\n",
       "  unit_definition   duration num_llm_calls  \n",
       "0           token    4.28802            30  \n",
       "1           token   4.007842            18  \n",
       "2           token   8.626639            50  \n",
       "3           token  10.092385            32  \n",
       "4           token   3.358939             9  \n",
       "5           token   18.47873            53  "
      ]
     },
     "metadata": {},
     "output_type": "display_data"
    }
   ],
   "source": [
    "display(logger.df_experiments)"
   ]
  }
 ],
 "metadata": {
  "colab": {
   "machine_shape": "hm",
   "provenance": []
  },
  "kernelspec": {
   "display_name": "Python 3",
   "name": "python3"
  },
  "language_info": {
   "codemirror_mode": {
    "name": "ipython",
    "version": 3
   },
   "file_extension": ".py",
   "mimetype": "text/x-python",
   "name": "python",
   "nbconvert_exporter": "python",
   "pygments_lexer": "ipython3",
   "version": "3.12.4"
  }
 },
 "nbformat": 4,
 "nbformat_minor": 0
}
