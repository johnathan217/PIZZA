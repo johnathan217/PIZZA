{
  "cells": [
    {
      "cell_type": "markdown",
      "metadata": {
        "id": "ut3kR2GkpSk6"
      },
      "source": [
        "# PIZZA: An Open Source Library for Closed LLM Attribution (or “why did ChatGPT say that?”)"
      ]
    },
    {
      "cell_type": "markdown",
      "metadata": {},
      "source": [
        "## Setup\n",
        "\n",
        "**Make sure to uncomment and run the cell below if you're in colab.**"
      ]
    },
    {
      "cell_type": "code",
      "execution_count": 1,
      "metadata": {},
      "outputs": [],
      "source": [
        "\n",
        "# !git clone https://github.com/leap-laboratories/PIZZA.git .\n",
        "# !pip install --quiet -r requirements.txt"
      ]
    },
    {
      "cell_type": "code",
      "execution_count": 2,
      "metadata": {},
      "outputs": [
        {
          "name": "stderr",
          "output_type": "stream",
          "text": [
            "/Users/jessicacooper/PIZZA/venv/lib/python3.12/site-packages/tqdm/auto.py:21: TqdmWarning: IProgress not found. Please update jupyter and ipywidgets. See https://ipywidgets.readthedocs.io/en/stable/user_install.html\n",
            "  from .autonotebook import tqdm as notebook_tqdm\n"
          ]
        }
      ],
      "source": [
        "import os\n",
        "import warnings\n",
        "\n",
        "# Suppress annoying FutureWarning from huggingface_hub that is not our fault\n",
        "warnings.filterwarnings(\"ignore\", category=FutureWarning, module=\"huggingface_hub\")\n",
        "\n",
        "from attribution.api_attribution import OpenAIAttributor\n",
        "from attribution.experiment_logger import ExperimentLogger\n",
        "from attribution.token_perturbation import FixedPerturbationStrategy\n",
        "\n"
      ]
    },
    {
      "cell_type": "code",
      "execution_count": 3,
      "metadata": {},
      "outputs": [],
      "source": [
        "# Re-import modified modules without restarting the server\n",
        "%load_ext autoreload\n",
        "%autoreload 2"
      ]
    },
    {
      "cell_type": "markdown",
      "metadata": {},
      "source": [
        "You need an OpenAI API key to run this! Get one **[here](https://platform.openai.com/api-keys)**. \n",
        "\n",
        "You can either set the `OPENAI_API_KEY` environment variable in your notebook runtime (use the _secrets_ panel on the left in colab), or add it to a `.env` as described [in the README](../README.md#environment-variables).\n",
        "\n",
        "If you're _desperate_ to live on the edge, you can also pass your API key directly to the attributor. But we really don't advise this for security reasons!"
      ]
    },
    {
      "cell_type": "code",
      "execution_count": 4,
      "metadata": {},
      "outputs": [],
      "source": [
        "# Checks if you're using a .env file, and loads it if so.\n",
        "import os\n",
        "# Load environment variables from .env file\n",
        "if os.path.isfile('.env'):\n",
        "    %load_ext dotenv\n",
        "    %dotenv"
      ]
    },
    {
      "cell_type": "code",
      "execution_count": 5,
      "metadata": {
        "colab": {
          "base_uri": "https://localhost:8080/"
        },
        "id": "S_SoQ7FLUZ-T",
        "outputId": "a6d7300c-a92d-4a1e-bbd9-a8715a2beb6d"
      },
      "outputs": [],
      "source": [
        "gpt3_5_attributor = OpenAIAttributor(\n",
        "    openai_api_key=os.getenv(\"OPENAI_API_KEY\"),\n",
        "    max_concurrent_requests=5,\n",
        "    openai_model=\"gpt-3.5-turbo\",\n",
        ")\n",
        "\n",
        "# Using a slightly older GPT4 model, because the latest is absurdly verbose.\n",
        "gpt4_attributor = OpenAIAttributor(\n",
        "    openai_api_key=os.getenv(\"OPENAI_API_KEY\"),\n",
        "    max_concurrent_requests=5,\n",
        "    openai_model=\"gpt-4-0613\",\n",
        ")"
      ]
    },
    {
      "cell_type": "code",
      "execution_count": 6,
      "metadata": {},
      "outputs": [],
      "source": [
        "input_str = \"Do not go gentle\"\n",
        "gpt3_5_logger = ExperimentLogger()\n",
        "await gpt3_5_attributor.hierarchical_perturbation(\n",
        "    input_str, logger=gpt3_5_logger, use_absolute_attribution=True\n",
        ")"
      ]
    },
    {
      "cell_type": "code",
      "execution_count": 7,
      "metadata": {},
      "outputs": [
        {
          "data": {
            "text/html": [
              "<div style=\"font-family: monospace; line-height: 1.5;\"><span style=\"text-decoration: underline; text-decoration-color: #ffc5c5; text-decoration-thickness: 4px; text-underline-offset: 3px;\">Do</span><span style=\"text-decoration: underline; text-decoration-color: #ff7171; text-decoration-thickness: 4px; text-underline-offset: 3px;\"> not</span><span style=\"text-decoration: underline; text-decoration-color: #ff1d1d; text-decoration-thickness: 4px; text-underline-offset: 3px;\"> go</span><span style=\"text-decoration: underline; text-decoration-color: #ba0000; text-decoration-thickness: 4px; text-underline-offset: 3px;\"> gentle</span> ->  into that good night,\n",
              "</div>"
            ],
            "text/plain": [
              "<IPython.core.display.HTML object>"
            ]
          },
          "metadata": {},
          "output_type": "display_data"
        },
        {
          "data": {
            "text/html": [
              "<style type=\"text/css\">\n",
              "#T_d6124_row0_col0 {\n",
              "  background-color: #ffc1c1;\n",
              "  color: #000000;\n",
              "  white-space: pre-wrap;\n",
              "}\n",
              "#T_d6124_row0_col1 {\n",
              "  background-color: #ffbdbd;\n",
              "  color: #000000;\n",
              "  white-space: pre-wrap;\n",
              "}\n",
              "#T_d6124_row0_col2, #T_d6124_row0_col3, #T_d6124_row1_col1 {\n",
              "  background-color: #ff7d7d;\n",
              "  color: #f1f1f1;\n",
              "  white-space: pre-wrap;\n",
              "}\n",
              "#T_d6124_row0_col4 {\n",
              "  background-color: #a1a1ff;\n",
              "  color: #f1f1f1;\n",
              "  white-space: pre-wrap;\n",
              "}\n",
              "#T_d6124_row1_col0 {\n",
              "  background-color: #ff3d3d;\n",
              "  color: #f1f1f1;\n",
              "  white-space: pre-wrap;\n",
              "}\n",
              "#T_d6124_row1_col2, #T_d6124_row1_col3, #T_d6124_row2_col3 {\n",
              "  background-color: #ff5555;\n",
              "  color: #f1f1f1;\n",
              "  white-space: pre-wrap;\n",
              "}\n",
              "#T_d6124_row1_col4 {\n",
              "  background-color: #ffd1d1;\n",
              "  color: #000000;\n",
              "  white-space: pre-wrap;\n",
              "}\n",
              "#T_d6124_row2_col0 {\n",
              "  background-color: #ff6969;\n",
              "  color: #f1f1f1;\n",
              "  white-space: pre-wrap;\n",
              "}\n",
              "#T_d6124_row2_col1 {\n",
              "  background-color: #ff3131;\n",
              "  color: #f1f1f1;\n",
              "  white-space: pre-wrap;\n",
              "}\n",
              "#T_d6124_row2_col2 {\n",
              "  background-color: #d30000;\n",
              "  color: #f1f1f1;\n",
              "  white-space: pre-wrap;\n",
              "}\n",
              "#T_d6124_row2_col4 {\n",
              "  background-color: #ff0101;\n",
              "  color: #f1f1f1;\n",
              "  white-space: pre-wrap;\n",
              "}\n",
              "#T_d6124_row3_col0 {\n",
              "  background-color: #c30000;\n",
              "  color: #f1f1f1;\n",
              "  white-space: pre-wrap;\n",
              "}\n",
              "#T_d6124_row3_col1, #T_d6124_row3_col2, #T_d6124_row3_col3 {\n",
              "  background-color: #aa0000;\n",
              "  color: #f1f1f1;\n",
              "  white-space: pre-wrap;\n",
              "}\n",
              "#T_d6124_row3_col4 {\n",
              "  background-color: #de0000;\n",
              "  color: #f1f1f1;\n",
              "  white-space: pre-wrap;\n",
              "}\n",
              "</style>\n",
              "<table id=\"T_d6124\">\n",
              "  <thead>\n",
              "    <tr>\n",
              "      <th class=\"blank level0\" >&nbsp;</th>\n",
              "      <th id=\"T_d6124_level0_col0\" class=\"col_heading level0 col0\" > into (0)</th>\n",
              "      <th id=\"T_d6124_level0_col1\" class=\"col_heading level0 col1\" > that (1)</th>\n",
              "      <th id=\"T_d6124_level0_col2\" class=\"col_heading level0 col2\" > good (2)</th>\n",
              "      <th id=\"T_d6124_level0_col3\" class=\"col_heading level0 col3\" > night (3)</th>\n",
              "      <th id=\"T_d6124_level0_col4\" class=\"col_heading level0 col4\" >,\n",
              " (4)</th>\n",
              "    </tr>\n",
              "  </thead>\n",
              "  <tbody>\n",
              "    <tr>\n",
              "      <th id=\"T_d6124_level0_row0\" class=\"row_heading level0 row0\" >Do (0)</th>\n",
              "      <td id=\"T_d6124_row0_col0\" class=\"data row0 col0\" >0.117552</td>\n",
              "      <td id=\"T_d6124_row0_col1\" class=\"data row0 col1\" >0.132189</td>\n",
              "      <td id=\"T_d6124_row0_col2\" class=\"data row0 col2\" >0.250048</td>\n",
              "      <td id=\"T_d6124_row0_col3\" class=\"data row0 col3\" >0.252022</td>\n",
              "      <td id=\"T_d6124_row0_col4\" class=\"data row0 col4\" >-0.186673</td>\n",
              "    </tr>\n",
              "    <tr>\n",
              "      <th id=\"T_d6124_level0_row1\" class=\"row_heading level0 row1\" > not (1)</th>\n",
              "      <td id=\"T_d6124_row1_col0\" class=\"data row1 col0\" >0.375104</td>\n",
              "      <td id=\"T_d6124_row1_col1\" class=\"data row1 col1\" >0.251536</td>\n",
              "      <td id=\"T_d6124_row1_col2\" class=\"data row1 col2\" >0.333454</td>\n",
              "      <td id=\"T_d6124_row1_col3\" class=\"data row1 col3\" >0.333551</td>\n",
              "      <td id=\"T_d6124_row1_col4\" class=\"data row1 col4\" >0.091766</td>\n",
              "    </tr>\n",
              "    <tr>\n",
              "      <th id=\"T_d6124_level0_row2\" class=\"row_heading level0 row2\" > go (2)</th>\n",
              "      <td id=\"T_d6124_row2_col0\" class=\"data row2 col0\" >0.295616</td>\n",
              "      <td id=\"T_d6124_row2_col1\" class=\"data row2 col1\" >0.404656</td>\n",
              "      <td id=\"T_d6124_row2_col2\" class=\"data row2 col2\" >0.665739</td>\n",
              "      <td id=\"T_d6124_row2_col3\" class=\"data row2 col3\" >0.332880</td>\n",
              "      <td id=\"T_d6124_row2_col4\" class=\"data row2 col4\" >0.496006</td>\n",
              "    </tr>\n",
              "    <tr>\n",
              "      <th id=\"T_d6124_level0_row3\" class=\"row_heading level0 row3\" > gentle (3)</th>\n",
              "      <td id=\"T_d6124_row3_col0\" class=\"data row3 col0\" >0.730450</td>\n",
              "      <td id=\"T_d6124_row3_col1\" class=\"data row3 col1\" >0.832813</td>\n",
              "      <td id=\"T_d6124_row3_col2\" class=\"data row3 col2\" >0.833320</td>\n",
              "      <td id=\"T_d6124_row3_col3\" class=\"data row3 col3\" >0.832726</td>\n",
              "      <td id=\"T_d6124_row3_col4\" class=\"data row3 col4\" >0.625225</td>\n",
              "    </tr>\n",
              "  </tbody>\n",
              "</table>\n"
            ],
            "text/plain": [
              "<pandas.io.formats.style.Styler at 0x1564af230>"
            ]
          },
          "metadata": {},
          "output_type": "display_data"
        }
      ],
      "source": [
        "gpt3_5_logger.print_text_total_attribution()\n",
        "gpt3_5_logger.print_attribution_matrix()"
      ]
    },
    {
      "cell_type": "markdown",
      "metadata": {},
      "source": [
        "## Prompt Engineering"
      ]
    },
    {
      "cell_type": "code",
      "execution_count": 8,
      "metadata": {},
      "outputs": [
        {
          "name": "stdout",
          "output_type": "stream",
          "text": [
            "User: Mary puts an apple in the box. The box is labelled 'pencils'. John enters the room. What does he think is in the box? Answer in 1 word.\n",
            "GPT3.5: Apples\n",
            "GPT4: Pencils\n"
          ]
        }
      ],
      "source": [
        "input_str = \"Mary puts an apple in the box. The box is labelled 'pencils'. John enters the room. What does he think is in the box? Answer in 1 word.\"\n",
        "\n",
        "gpt3_5_response = await gpt3_5_attributor.get_chat_completion(input_str)\n",
        "gpt4_response = await gpt4_attributor.get_chat_completion(input_str)\n",
        "\n",
        "print(\"User:\", input_str)\n",
        "print(\"GPT3.5:\", gpt3_5_response.message.content)\n",
        "print(\"GPT4:\", gpt4_response.message.content)"
      ]
    },
    {
      "cell_type": "markdown",
      "metadata": {},
      "source": [
        "GPT3.5 not so hot with the theory of mind there. Can we find out what went wrong?"
      ]
    },
    {
      "cell_type": "code",
      "execution_count": 9,
      "metadata": {},
      "outputs": [
        {
          "name": "stdout",
          "output_type": "stream",
          "text": [
            "User: Why did you say that?\n",
            "GPT3.5: I apologize for the mistake in my response. John would likely think there are pencils in the box, based on the label.\n"
          ]
        }
      ],
      "source": [
        "# Bit hacky to get model explanation\n",
        "user_request = \"User: Why did you say that?\"\n",
        "print(user_request)\n",
        "model_explanation = await gpt3_5_attributor.openai_client.chat.completions.create(\n",
        "    model=gpt3_5_attributor.openai_model,\n",
        "    messages=[\n",
        "        {\"role\": \"user\", \"content\": input_str},\n",
        "        {\"role\": \"assistant\", \"content\": gpt3_5_response.message.content},\n",
        "        {\"role\": \"user\", \"content\": user_request},\n",
        "    ],\n",
        "    temperature=0.0,\n",
        "    seed=0,\n",
        "    logprobs=True,\n",
        "    top_logprobs=20,\n",
        ")\n",
        "print(\"GPT3.5:\", model_explanation.choices[0].message.content)"
      ]
    },
    {
      "cell_type": "markdown",
      "metadata": {},
      "source": [
        "That's not very helpful! We want to know _why_ the mistake was made in the first place, so we can fix it."
      ]
    },
    {
      "cell_type": "code",
      "execution_count": 10,
      "metadata": {},
      "outputs": [
        {
          "name": "stderr",
          "output_type": "stream",
          "text": [
            "Sending 5 concurrent requests at a time: 100%|██████████| 2/2 [00:01<00:00,  1.38it/s]\n",
            "Sending 5 concurrent requests at a time: 100%|██████████| 3/3 [00:06<00:00,  2.04s/it]\n",
            "Sending 5 concurrent requests at a time: 100%|██████████| 4/4 [00:01<00:00,  2.02it/s]\n",
            "Sending 5 concurrent requests at a time: 100%|██████████| 2/2 [00:00<00:00,  2.18it/s]"
          ]
        },
        {
          "name": "stdout",
          "output_type": "stream",
          "text": [
            "GPT3.5 Attribution:\n"
          ]
        },
        {
          "name": "stderr",
          "output_type": "stream",
          "text": [
            "\n"
          ]
        },
        {
          "data": {
            "text/html": [
              "<div style=\"font-family: monospace; line-height: 1.5;\"><span style=\"text-decoration: underline; text-decoration-color: #ff7979; text-decoration-thickness: 4px; text-underline-offset: 3px;\">Mary</span><span style=\"text-decoration: underline; text-decoration-color: #ff8181; text-decoration-thickness: 4px; text-underline-offset: 3px;\"> puts</span><span style=\"text-decoration: underline; text-decoration-color: #ffb1b1; text-decoration-thickness: 4px; text-underline-offset: 3px;\"> an</span><span style=\"text-decoration: underline; text-decoration-color: #ff4545; text-decoration-thickness: 4px; text-underline-offset: 3px;\"> apple</span><span style=\"text-decoration: underline; text-decoration-color: #ffa5a5; text-decoration-thickness: 4px; text-underline-offset: 3px;\"> in</span><span style=\"text-decoration: underline; text-decoration-color: #ffa5a5; text-decoration-thickness: 4px; text-underline-offset: 3px;\"> the</span><span style=\"text-decoration: underline; text-decoration-color: #ffd9d9; text-decoration-thickness: 4px; text-underline-offset: 3px;\"> box</span><span style=\"text-decoration: underline; text-decoration-color: #ffd9d9; text-decoration-thickness: 4px; text-underline-offset: 3px;\">.</span><span style=\"text-decoration: underline; text-decoration-color: #ffd9d9; text-decoration-thickness: 4px; text-underline-offset: 3px;\"> The</span><span style=\"text-decoration: underline; text-decoration-color: #ffd1d1; text-decoration-thickness: 4px; text-underline-offset: 3px;\"> box</span><span style=\"text-decoration: underline; text-decoration-color: #ffd1d1; text-decoration-thickness: 4px; text-underline-offset: 3px;\"> is</span><span style=\"text-decoration: underline; text-decoration-color: #ffd1d1; text-decoration-thickness: 4px; text-underline-offset: 3px;\"> labelled</span><span style=\"text-decoration: underline; text-decoration-color: #ffd1d1; text-decoration-thickness: 4px; text-underline-offset: 3px;\"> '</span><span style=\"text-decoration: underline; text-decoration-color: #ffd1d1; text-decoration-thickness: 4px; text-underline-offset: 3px;\">pen</span><span style=\"text-decoration: underline; text-decoration-color: #ffd1d1; text-decoration-thickness: 4px; text-underline-offset: 3px;\">cil</span><span style=\"text-decoration: underline; text-decoration-color: #ffd1d1; text-decoration-thickness: 4px; text-underline-offset: 3px;\">s</span><span style=\"text-decoration: underline; text-decoration-color: #ffd1d1; text-decoration-thickness: 4px; text-underline-offset: 3px;\">'.</span><span style=\"text-decoration: underline; text-decoration-color: #ffd1d1; text-decoration-thickness: 4px; text-underline-offset: 3px;\"> John</span><span style=\"text-decoration: underline; text-decoration-color: #ffeded; text-decoration-thickness: 4px; text-underline-offset: 3px;\"> enters</span><span style=\"text-decoration: underline; text-decoration-color: #ffeded; text-decoration-thickness: 4px; text-underline-offset: 3px;\"> the</span><span style=\"text-decoration: underline; text-decoration-color: #ffeded; text-decoration-thickness: 4px; text-underline-offset: 3px;\"> room</span><span style=\"text-decoration: underline; text-decoration-color: #ffeded; text-decoration-thickness: 4px; text-underline-offset: 3px;\">.</span><span style=\"text-decoration: underline; text-decoration-color: #ffeded; text-decoration-thickness: 4px; text-underline-offset: 3px;\"> What</span><span style=\"text-decoration: underline; text-decoration-color: #ffeded; text-decoration-thickness: 4px; text-underline-offset: 3px;\"> does</span><span style=\"text-decoration: underline; text-decoration-color: #ffeded; text-decoration-thickness: 4px; text-underline-offset: 3px;\"> he</span><span style=\"text-decoration: underline; text-decoration-color: #ffeded; text-decoration-thickness: 4px; text-underline-offset: 3px;\"> think</span><span style=\"text-decoration: underline; text-decoration-color: #ffeded; text-decoration-thickness: 4px; text-underline-offset: 3px;\"> is</span><span style=\"text-decoration: underline; text-decoration-color: #ff6565; text-decoration-thickness: 4px; text-underline-offset: 3px;\"> in</span><span style=\"text-decoration: underline; text-decoration-color: #ffbdbd; text-decoration-thickness: 4px; text-underline-offset: 3px;\"> the</span><span style=\"text-decoration: underline; text-decoration-color: #ffa1a1; text-decoration-thickness: 4px; text-underline-offset: 3px;\"> box</span><span style=\"text-decoration: underline; text-decoration-color: #ffbdbd; text-decoration-thickness: 4px; text-underline-offset: 3px;\">?</span><span style=\"text-decoration: underline; text-decoration-color: #ffd1d1; text-decoration-thickness: 4px; text-underline-offset: 3px;\"> Answer</span><span style=\"text-decoration: underline; text-decoration-color: #ffd1d1; text-decoration-thickness: 4px; text-underline-offset: 3px;\"> in</span><span style=\"text-decoration: underline; text-decoration-color: #ff6d6d; text-decoration-thickness: 4px; text-underline-offset: 3px;\"> 1</span><span style=\"text-decoration: underline; text-decoration-color: #ff5d5d; text-decoration-thickness: 4px; text-underline-offset: 3px;\"> word</span><span style=\"text-decoration: underline; text-decoration-color: #ffa1a1; text-decoration-thickness: 4px; text-underline-offset: 3px;\">.</span> -> Apples</div>"
            ],
            "text/plain": [
              "<IPython.core.display.HTML object>"
            ]
          },
          "metadata": {},
          "output_type": "display_data"
        },
        {
          "data": {
            "text/html": [
              "<style type=\"text/css\">\n",
              "#T_b1edd_row0_col0, #T_b1edd_row0_col1, #T_b1edd_row0_col2, #T_b1edd_row0_col3, #T_b1edd_row0_col4, #T_b1edd_row0_col5, #T_b1edd_row0_col6, #T_b1edd_row0_col7, #T_b1edd_row0_col8, #T_b1edd_row0_col9, #T_b1edd_row0_col10, #T_b1edd_row0_col11, #T_b1edd_row0_col12, #T_b1edd_row0_col13, #T_b1edd_row0_col14, #T_b1edd_row0_col15, #T_b1edd_row0_col16, #T_b1edd_row0_col17, #T_b1edd_row0_col18, #T_b1edd_row0_col19, #T_b1edd_row0_col20, #T_b1edd_row0_col21, #T_b1edd_row0_col22, #T_b1edd_row0_col23, #T_b1edd_row0_col24, #T_b1edd_row0_col25, #T_b1edd_row0_col26, #T_b1edd_row0_col27, #T_b1edd_row0_col28, #T_b1edd_row0_col29, #T_b1edd_row0_col30, #T_b1edd_row0_col31, #T_b1edd_row0_col32, #T_b1edd_row0_col33, #T_b1edd_row0_col34, #T_b1edd_row0_col35, #T_b1edd_row0_col36, #T_b1edd_row0_col37, #T_b1edd_row0_col38, #T_b1edd_row0_col39 {\n",
              "  white-space: pre-wrap;\n",
              "}\n",
              "</style>\n",
              "<table id=\"T_b1edd\">\n",
              "  <thead>\n",
              "    <tr>\n",
              "      <th class=\"blank level0\" >&nbsp;</th>\n",
              "      <th id=\"T_b1edd_level0_col0\" class=\"col_heading level0 col0\" >exp_id</th>\n",
              "      <th id=\"T_b1edd_level0_col1\" class=\"col_heading level0 col1\" >attribution_strategy</th>\n",
              "      <th id=\"T_b1edd_level0_col2\" class=\"col_heading level0 col2\" >perturbation_strategy</th>\n",
              "      <th id=\"T_b1edd_level0_col3\" class=\"col_heading level0 col3\" >unit_definition</th>\n",
              "      <th id=\"T_b1edd_level0_col4\" class=\"col_heading level0 col4\" >token_1</th>\n",
              "      <th id=\"T_b1edd_level0_col5\" class=\"col_heading level0 col5\" >token_2</th>\n",
              "      <th id=\"T_b1edd_level0_col6\" class=\"col_heading level0 col6\" >token_3</th>\n",
              "      <th id=\"T_b1edd_level0_col7\" class=\"col_heading level0 col7\" >token_4</th>\n",
              "      <th id=\"T_b1edd_level0_col8\" class=\"col_heading level0 col8\" >token_5</th>\n",
              "      <th id=\"T_b1edd_level0_col9\" class=\"col_heading level0 col9\" >token_6</th>\n",
              "      <th id=\"T_b1edd_level0_col10\" class=\"col_heading level0 col10\" >token_7</th>\n",
              "      <th id=\"T_b1edd_level0_col11\" class=\"col_heading level0 col11\" >token_8</th>\n",
              "      <th id=\"T_b1edd_level0_col12\" class=\"col_heading level0 col12\" >token_9</th>\n",
              "      <th id=\"T_b1edd_level0_col13\" class=\"col_heading level0 col13\" >token_10</th>\n",
              "      <th id=\"T_b1edd_level0_col14\" class=\"col_heading level0 col14\" >token_11</th>\n",
              "      <th id=\"T_b1edd_level0_col15\" class=\"col_heading level0 col15\" >token_12</th>\n",
              "      <th id=\"T_b1edd_level0_col16\" class=\"col_heading level0 col16\" >token_13</th>\n",
              "      <th id=\"T_b1edd_level0_col17\" class=\"col_heading level0 col17\" >token_14</th>\n",
              "      <th id=\"T_b1edd_level0_col18\" class=\"col_heading level0 col18\" >token_15</th>\n",
              "      <th id=\"T_b1edd_level0_col19\" class=\"col_heading level0 col19\" >token_16</th>\n",
              "      <th id=\"T_b1edd_level0_col20\" class=\"col_heading level0 col20\" >token_17</th>\n",
              "      <th id=\"T_b1edd_level0_col21\" class=\"col_heading level0 col21\" >token_18</th>\n",
              "      <th id=\"T_b1edd_level0_col22\" class=\"col_heading level0 col22\" >token_19</th>\n",
              "      <th id=\"T_b1edd_level0_col23\" class=\"col_heading level0 col23\" >token_20</th>\n",
              "      <th id=\"T_b1edd_level0_col24\" class=\"col_heading level0 col24\" >token_21</th>\n",
              "      <th id=\"T_b1edd_level0_col25\" class=\"col_heading level0 col25\" >token_22</th>\n",
              "      <th id=\"T_b1edd_level0_col26\" class=\"col_heading level0 col26\" >token_23</th>\n",
              "      <th id=\"T_b1edd_level0_col27\" class=\"col_heading level0 col27\" >token_24</th>\n",
              "      <th id=\"T_b1edd_level0_col28\" class=\"col_heading level0 col28\" >token_25</th>\n",
              "      <th id=\"T_b1edd_level0_col29\" class=\"col_heading level0 col29\" >token_26</th>\n",
              "      <th id=\"T_b1edd_level0_col30\" class=\"col_heading level0 col30\" >token_27</th>\n",
              "      <th id=\"T_b1edd_level0_col31\" class=\"col_heading level0 col31\" >token_28</th>\n",
              "      <th id=\"T_b1edd_level0_col32\" class=\"col_heading level0 col32\" >token_29</th>\n",
              "      <th id=\"T_b1edd_level0_col33\" class=\"col_heading level0 col33\" >token_30</th>\n",
              "      <th id=\"T_b1edd_level0_col34\" class=\"col_heading level0 col34\" >token_31</th>\n",
              "      <th id=\"T_b1edd_level0_col35\" class=\"col_heading level0 col35\" >token_32</th>\n",
              "      <th id=\"T_b1edd_level0_col36\" class=\"col_heading level0 col36\" >token_33</th>\n",
              "      <th id=\"T_b1edd_level0_col37\" class=\"col_heading level0 col37\" >token_34</th>\n",
              "      <th id=\"T_b1edd_level0_col38\" class=\"col_heading level0 col38\" >token_35</th>\n",
              "      <th id=\"T_b1edd_level0_col39\" class=\"col_heading level0 col39\" >token_36</th>\n",
              "    </tr>\n",
              "  </thead>\n",
              "  <tbody>\n",
              "    <tr>\n",
              "      <th id=\"T_b1edd_level0_row0\" class=\"row_heading level0 row0\" >0</th>\n",
              "      <td id=\"T_b1edd_row0_col0\" class=\"data row0 col0\" >1</td>\n",
              "      <td id=\"T_b1edd_row0_col1\" class=\"data row0 col1\" >prob_diff</td>\n",
              "      <td id=\"T_b1edd_row0_col2\" class=\"data row0 col2\" >fixed</td>\n",
              "      <td id=\"T_b1edd_row0_col3\" class=\"data row0 col3\" >token</td>\n",
              "      <td id=\"T_b1edd_row0_col4\" class=\"data row0 col4\" >Mary\n",
              "0.26</td>\n",
              "      <td id=\"T_b1edd_row0_col5\" class=\"data row0 col5\" > puts\n",
              "0.25</td>\n",
              "      <td id=\"T_b1edd_row0_col6\" class=\"data row0 col6\" > an\n",
              "0.15</td>\n",
              "      <td id=\"T_b1edd_row0_col7\" class=\"data row0 col7\" > apple\n",
              "0.36</td>\n",
              "      <td id=\"T_b1edd_row0_col8\" class=\"data row0 col8\" > in\n",
              "0.18</td>\n",
              "      <td id=\"T_b1edd_row0_col9\" class=\"data row0 col9\" > the\n",
              "0.18</td>\n",
              "      <td id=\"T_b1edd_row0_col10\" class=\"data row0 col10\" > box\n",
              "0.08</td>\n",
              "      <td id=\"T_b1edd_row0_col11\" class=\"data row0 col11\" >.\n",
              "0.08</td>\n",
              "      <td id=\"T_b1edd_row0_col12\" class=\"data row0 col12\" > The\n",
              "0.08</td>\n",
              "      <td id=\"T_b1edd_row0_col13\" class=\"data row0 col13\" > box\n",
              "0.09</td>\n",
              "      <td id=\"T_b1edd_row0_col14\" class=\"data row0 col14\" > is\n",
              "0.09</td>\n",
              "      <td id=\"T_b1edd_row0_col15\" class=\"data row0 col15\" > labelled\n",
              "0.09</td>\n",
              "      <td id=\"T_b1edd_row0_col16\" class=\"data row0 col16\" > '\n",
              "0.09</td>\n",
              "      <td id=\"T_b1edd_row0_col17\" class=\"data row0 col17\" >pen\n",
              "0.09</td>\n",
              "      <td id=\"T_b1edd_row0_col18\" class=\"data row0 col18\" >cil\n",
              "0.09</td>\n",
              "      <td id=\"T_b1edd_row0_col19\" class=\"data row0 col19\" >s\n",
              "0.09</td>\n",
              "      <td id=\"T_b1edd_row0_col20\" class=\"data row0 col20\" >'.\n",
              "0.09</td>\n",
              "      <td id=\"T_b1edd_row0_col21\" class=\"data row0 col21\" > John\n",
              "0.09</td>\n",
              "      <td id=\"T_b1edd_row0_col22\" class=\"data row0 col22\" > enters\n",
              "0.03</td>\n",
              "      <td id=\"T_b1edd_row0_col23\" class=\"data row0 col23\" > the\n",
              "0.03</td>\n",
              "      <td id=\"T_b1edd_row0_col24\" class=\"data row0 col24\" > room\n",
              "0.03</td>\n",
              "      <td id=\"T_b1edd_row0_col25\" class=\"data row0 col25\" >.\n",
              "0.03</td>\n",
              "      <td id=\"T_b1edd_row0_col26\" class=\"data row0 col26\" > What\n",
              "0.03</td>\n",
              "      <td id=\"T_b1edd_row0_col27\" class=\"data row0 col27\" > does\n",
              "0.03</td>\n",
              "      <td id=\"T_b1edd_row0_col28\" class=\"data row0 col28\" > he\n",
              "0.03</td>\n",
              "      <td id=\"T_b1edd_row0_col29\" class=\"data row0 col29\" > think\n",
              "0.03</td>\n",
              "      <td id=\"T_b1edd_row0_col30\" class=\"data row0 col30\" > is\n",
              "0.03</td>\n",
              "      <td id=\"T_b1edd_row0_col31\" class=\"data row0 col31\" > in\n",
              "0.30</td>\n",
              "      <td id=\"T_b1edd_row0_col32\" class=\"data row0 col32\" > the\n",
              "0.13</td>\n",
              "      <td id=\"T_b1edd_row0_col33\" class=\"data row0 col33\" > box\n",
              "0.18</td>\n",
              "      <td id=\"T_b1edd_row0_col34\" class=\"data row0 col34\" >?\n",
              "0.13</td>\n",
              "      <td id=\"T_b1edd_row0_col35\" class=\"data row0 col35\" > Answer\n",
              "0.09</td>\n",
              "      <td id=\"T_b1edd_row0_col36\" class=\"data row0 col36\" > in\n",
              "0.09</td>\n",
              "      <td id=\"T_b1edd_row0_col37\" class=\"data row0 col37\" > 1\n",
              "0.29</td>\n",
              "      <td id=\"T_b1edd_row0_col38\" class=\"data row0 col38\" > word\n",
              "0.31</td>\n",
              "      <td id=\"T_b1edd_row0_col39\" class=\"data row0 col39\" >.\n",
              "0.18</td>\n",
              "    </tr>\n",
              "  </tbody>\n",
              "</table>\n"
            ],
            "text/plain": [
              "<pandas.io.formats.style.Styler at 0x168a79a90>"
            ]
          },
          "metadata": {},
          "output_type": "display_data"
        }
      ],
      "source": [
        "gpt3_5_logger = ExperimentLogger()\n",
        "await gpt3_5_attributor.hierarchical_perturbation(\n",
        "    input_str, logger=gpt3_5_logger, use_absolute_attribution=True\n",
        ")\n",
        "print(\"GPT3.5 Attribution:\")\n",
        "gpt3_5_logger.print_text_total_attribution()\n",
        "gpt3_5_logger.print_total_attribution()"
      ]
    },
    {
      "cell_type": "markdown",
      "metadata": {},
      "source": [
        "It looks like the request to \"Answer in 1 word\" is pretty important – in fact, it's attributed more highly than the actual contents of the box. Let's try changing it."
      ]
    },
    {
      "cell_type": "code",
      "execution_count": 11,
      "metadata": {},
      "outputs": [
        {
          "name": "stderr",
          "output_type": "stream",
          "text": [
            "Sending 5 concurrent requests at a time: 100%|██████████| 2/2 [00:01<00:00,  1.32it/s]\n"
          ]
        },
        {
          "name": "stdout",
          "output_type": "stream",
          "text": [
            "GPT3 Total attribution:\n"
          ]
        },
        {
          "data": {
            "text/html": [
              "<div style=\"font-family: monospace; line-height: 1.5;\"><span style=\"text-decoration: underline; text-decoration-color: #ffe9e9; text-decoration-thickness: 4px; text-underline-offset: 3px;\">Mary</span><span style=\"text-decoration: underline; text-decoration-color: #ffe9e9; text-decoration-thickness: 4px; text-underline-offset: 3px;\"> puts</span><span style=\"text-decoration: underline; text-decoration-color: #ffe9e9; text-decoration-thickness: 4px; text-underline-offset: 3px;\"> an</span><span style=\"text-decoration: underline; text-decoration-color: #ffe9e9; text-decoration-thickness: 4px; text-underline-offset: 3px;\"> apple</span><span style=\"text-decoration: underline; text-decoration-color: #ffe9e9; text-decoration-thickness: 4px; text-underline-offset: 3px;\"> in</span><span style=\"text-decoration: underline; text-decoration-color: #ffe9e9; text-decoration-thickness: 4px; text-underline-offset: 3px;\"> the</span><span style=\"text-decoration: underline; text-decoration-color: #ffe9e9; text-decoration-thickness: 4px; text-underline-offset: 3px;\"> box</span><span style=\"text-decoration: underline; text-decoration-color: #ffe9e9; text-decoration-thickness: 4px; text-underline-offset: 3px;\">.</span><span style=\"text-decoration: underline; text-decoration-color: #ffe9e9; text-decoration-thickness: 4px; text-underline-offset: 3px;\"> The</span><span style=\"text-decoration: underline; text-decoration-color: #ffeded; text-decoration-thickness: 4px; text-underline-offset: 3px;\"> box</span><span style=\"text-decoration: underline; text-decoration-color: #ffeded; text-decoration-thickness: 4px; text-underline-offset: 3px;\"> is</span><span style=\"text-decoration: underline; text-decoration-color: #ffeded; text-decoration-thickness: 4px; text-underline-offset: 3px;\"> labelled</span><span style=\"text-decoration: underline; text-decoration-color: #ffeded; text-decoration-thickness: 4px; text-underline-offset: 3px;\"> '</span><span style=\"text-decoration: underline; text-decoration-color: #ffeded; text-decoration-thickness: 4px; text-underline-offset: 3px;\">pen</span><span style=\"text-decoration: underline; text-decoration-color: #ffeded; text-decoration-thickness: 4px; text-underline-offset: 3px;\">cil</span><span style=\"text-decoration: underline; text-decoration-color: #ffeded; text-decoration-thickness: 4px; text-underline-offset: 3px;\">s</span><span style=\"text-decoration: underline; text-decoration-color: #ffeded; text-decoration-thickness: 4px; text-underline-offset: 3px;\">'.</span><span style=\"text-decoration: underline; text-decoration-color: #ffe9e9; text-decoration-thickness: 4px; text-underline-offset: 3px;\"> John</span><span style=\"text-decoration: underline; text-decoration-color: #ffe9e9; text-decoration-thickness: 4px; text-underline-offset: 3px;\"> enters</span><span style=\"text-decoration: underline; text-decoration-color: #ffe9e9; text-decoration-thickness: 4px; text-underline-offset: 3px;\"> the</span><span style=\"text-decoration: underline; text-decoration-color: #ffe9e9; text-decoration-thickness: 4px; text-underline-offset: 3px;\"> room</span><span style=\"text-decoration: underline; text-decoration-color: #ffe9e9; text-decoration-thickness: 4px; text-underline-offset: 3px;\">.</span><span style=\"text-decoration: underline; text-decoration-color: #ffe9e9; text-decoration-thickness: 4px; text-underline-offset: 3px;\"> What</span><span style=\"text-decoration: underline; text-decoration-color: #ffe9e9; text-decoration-thickness: 4px; text-underline-offset: 3px;\"> does</span><span style=\"text-decoration: underline; text-decoration-color: #ffc9c9; text-decoration-thickness: 4px; text-underline-offset: 3px;\"> he</span><span style=\"text-decoration: underline; text-decoration-color: #ff7171; text-decoration-thickness: 4px; text-underline-offset: 3px;\"> think</span><span style=\"text-decoration: underline; text-decoration-color: #ffd5d5; text-decoration-thickness: 4px; text-underline-offset: 3px;\"> is</span><span style=\"text-decoration: underline; text-decoration-color: #ffd5d5; text-decoration-thickness: 4px; text-underline-offset: 3px;\"> in</span><span style=\"text-decoration: underline; text-decoration-color: #ffd5d5; text-decoration-thickness: 4px; text-underline-offset: 3px;\"> the</span><span style=\"text-decoration: underline; text-decoration-color: #ffeded; text-decoration-thickness: 4px; text-underline-offset: 3px;\"> box</span><span style=\"text-decoration: underline; text-decoration-color: #ffeded; text-decoration-thickness: 4px; text-underline-offset: 3px;\">?</span><span style=\"text-decoration: underline; text-decoration-color: #ffeded; text-decoration-thickness: 4px; text-underline-offset: 3px;\"> Answer</span><span style=\"text-decoration: underline; text-decoration-color: #ffe1e1; text-decoration-thickness: 4px; text-underline-offset: 3px;\"> briefly</span><span style=\"text-decoration: underline; text-decoration-color: #ffdddd; text-decoration-thickness: 4px; text-underline-offset: 3px;\">.</span> -> John would likely think there are pencils in the box, as it is labelled as such.</div>"
            ],
            "text/plain": [
              "<IPython.core.display.HTML object>"
            ]
          },
          "metadata": {},
          "output_type": "display_data"
        }
      ],
      "source": [
        "input_str = \"Mary puts an apple in the box. The box is labelled 'pencils'. John enters the room. What does he think is in the box? Answer briefly.\"\n",
        "\n",
        "await gpt3_5_attributor.hierarchical_perturbation(\n",
        "    input_str,\n",
        "    logger=gpt3_5_logger,\n",
        ")\n",
        "\n",
        "# Let's see...\n",
        "print(\"GPT3 Total attribution:\")\n",
        "# exp_id is the experiment index to print. -1 prints the last experiment.\n",
        "gpt3_5_logger.print_text_total_attribution(exp_id=-1)"
      ]
    },
    {
      "cell_type": "markdown",
      "metadata": {},
      "source": [
        "That's better!\n",
        "\n",
        "Above we've been using hierarchical perturbation, which can be faster and cheaper than standard iterative perturbation on long inputs with fewer salient tokens. Most importantly, it can also capture multi-token features, which iterative pertrubation cannot.\n",
        "\n",
        "However, on when many tokens are salient, standard iterative perturbation can be faster, and often highlights individual token contributions more clearly. "
      ]
    },
    {
      "cell_type": "code",
      "execution_count": 12,
      "metadata": {},
      "outputs": [
        {
          "name": "stderr",
          "output_type": "stream",
          "text": [
            "Sending 5 concurrent requests at a time: 100%|██████████| 2/2 [00:03<00:00,  1.61s/it]\n"
          ]
        },
        {
          "data": {
            "text/html": [
              "<div style=\"font-family: monospace; line-height: 1.5;\"><span style=\"text-decoration: underline; text-decoration-color: #ffe5e5; text-decoration-thickness: 4px; text-underline-offset: 3px;\">Write</span><span style=\"text-decoration: underline; text-decoration-color: #ffa9a9; text-decoration-thickness: 4px; text-underline-offset: 3px;\"> a</span><span style=\"text-decoration: underline; text-decoration-color: #ff5151; text-decoration-thickness: 4px; text-underline-offset: 3px;\"> funny</span><span style=\"text-decoration: underline; text-decoration-color: #fff5f5; text-decoration-thickness: 4px; text-underline-offset: 3px;\">,</span><span style=\"text-decoration: underline; text-decoration-color: #ff7171; text-decoration-thickness: 4px; text-underline-offset: 3px;\"> sad</span><span style=\"text-decoration: underline; text-decoration-color: #e30000; text-decoration-thickness: 4px; text-underline-offset: 3px;\"> ha</span><span style=\"text-decoration: underline; text-decoration-color: #ff4949; text-decoration-thickness: 4px; text-underline-offset: 3px;\">iku</span><span style=\"text-decoration: underline; text-decoration-color: #f9f9ff; text-decoration-thickness: 4px; text-underline-offset: 3px;\">.</span> -> Lost my favorite sock,\n",
              "In the dryer it vanished,\n",
              "One foot's cold, how cruel.</div>"
            ],
            "text/plain": [
              "<IPython.core.display.HTML object>"
            ]
          },
          "metadata": {},
          "output_type": "display_data"
        }
      ],
      "source": [
        "input_str = \"Write a funny, sad haiku.\"\n",
        "\n",
        "gpt4_logger = ExperimentLogger()\n",
        "await gpt4_attributor.compute_attributions(\n",
        "    input_str, perturbation_strategy=FixedPerturbationStrategy(), logger=gpt4_logger\n",
        ")\n",
        "gpt4_logger.print_text_total_attribution(exp_id=-1)"
      ]
    },
    {
      "cell_type": "markdown",
      "metadata": {},
      "source": [
        "Hilarious.\n",
        "\n",
        "Anyway, we also have some different logging functions to print the results in different ways. You can see how every input token affects every output token, what perturbations are being applied, etc."
      ]
    },
    {
      "cell_type": "markdown",
      "metadata": {},
      "source": [
        "Note how the model pays a lot of attention to \"haiku\" in the input, when punctuating the poem. "
      ]
    },
    {
      "cell_type": "code",
      "execution_count": 13,
      "metadata": {},
      "outputs": [
        {
          "data": {
            "text/html": [
              "<div style=\"font-family: monospace; line-height: 1.5;\"><span style=\"text-decoration: underline; text-decoration-color: #fff5f5; text-decoration-thickness: 4px; text-underline-offset: 3px;\">Write</span><span style=\"text-decoration: underline; text-decoration-color: #ffcdcd; text-decoration-thickness: 4px; text-underline-offset: 3px;\"> a</span><span style=\"text-decoration: underline; text-decoration-color: #7d7dff; text-decoration-thickness: 4px; text-underline-offset: 3px;\"> funny</span><span style=\"text-decoration: underline; text-decoration-color: #1111ff; text-decoration-thickness: 4px; text-underline-offset: 3px;\">,</span><span style=\"text-decoration: underline; text-decoration-color: #ff8d8d; text-decoration-thickness: 4px; text-underline-offset: 3px;\"> sad</span><span style=\"text-decoration: underline; text-decoration-color: #ff8d8d; text-decoration-thickness: 4px; text-underline-offset: 3px;\"> ha</span><span style=\"text-decoration: underline; text-decoration-color: #9d9dff; text-decoration-thickness: 4px; text-underline-offset: 3px;\">iku</span><span style=\"text-decoration: underline; text-decoration-color: #fffdfd; text-decoration-thickness: 4px; text-underline-offset: 3px;\">.</span> -> <span style=\"text-decoration: underline; text-decoration-thickness: 4px; text-underline-offset: 3px;\">Lost</span> my favorite sock,\n",
              "In the dryer it vanished,\n",
              "One foot's cold, how cruel.</div>"
            ],
            "text/plain": [
              "<IPython.core.display.HTML object>"
            ]
          },
          "metadata": {},
          "output_type": "display_data"
        },
        {
          "data": {
            "text/html": [
              "<div style=\"font-family: monospace; line-height: 1.5;\"><span style=\"text-decoration: underline; text-decoration-color: #fdfdff; text-decoration-thickness: 4px; text-underline-offset: 3px;\">Write</span><span style=\"text-decoration: underline; text-decoration-color: #ffe1e1; text-decoration-thickness: 4px; text-underline-offset: 3px;\"> a</span><span style=\"text-decoration: underline; text-decoration-color: #d00000; text-decoration-thickness: 4px; text-underline-offset: 3px;\"> funny</span><span style=\"text-decoration: underline; text-decoration-color: #f5f5ff; text-decoration-thickness: 4px; text-underline-offset: 3px;\">,</span><span style=\"text-decoration: underline; text-decoration-color: #8d8dff; text-decoration-thickness: 4px; text-underline-offset: 3px;\"> sad</span><span style=\"text-decoration: underline; text-decoration-color: #c00000; text-decoration-thickness: 4px; text-underline-offset: 3px;\"> ha</span><span style=\"text-decoration: underline; text-decoration-color: #c30000; text-decoration-thickness: 4px; text-underline-offset: 3px;\">iku</span><span style=\"text-decoration: underline; text-decoration-color: #fdfdff; text-decoration-thickness: 4px; text-underline-offset: 3px;\">.</span> -> Lost<span style=\"text-decoration: underline; text-decoration-thickness: 4px; text-underline-offset: 3px;\"> my</span> favorite sock,\n",
              "In the dryer it vanished,\n",
              "One foot's cold, how cruel.</div>"
            ],
            "text/plain": [
              "<IPython.core.display.HTML object>"
            ]
          },
          "metadata": {},
          "output_type": "display_data"
        },
        {
          "data": {
            "text/html": [
              "<div style=\"font-family: monospace; line-height: 1.5;\"><span style=\"text-decoration: underline; text-decoration-color: #c1c1ff; text-decoration-thickness: 4px; text-underline-offset: 3px;\">Write</span><span style=\"text-decoration: underline; text-decoration-color: #f5f5ff; text-decoration-thickness: 4px; text-underline-offset: 3px;\"> a</span><span style=\"text-decoration: underline; text-decoration-color: #ff1919; text-decoration-thickness: 4px; text-underline-offset: 3px;\"> funny</span><span style=\"text-decoration: underline; text-decoration-color: #ffd1d1; text-decoration-thickness: 4px; text-underline-offset: 3px;\">,</span><span style=\"text-decoration: underline; text-decoration-color: #ff1919; text-decoration-thickness: 4px; text-underline-offset: 3px;\"> sad</span><span style=\"text-decoration: underline; text-decoration-color: #ff1919; text-decoration-thickness: 4px; text-underline-offset: 3px;\"> ha</span><span style=\"text-decoration: underline; text-decoration-color: #ff1919; text-decoration-thickness: 4px; text-underline-offset: 3px;\">iku</span><span style=\"text-decoration: underline; text-decoration-color: #f5f5ff; text-decoration-thickness: 4px; text-underline-offset: 3px;\">.</span> -> Lost my<span style=\"text-decoration: underline; text-decoration-thickness: 4px; text-underline-offset: 3px;\"> favorite</span> sock,\n",
              "In the dryer it vanished,\n",
              "One foot's cold, how cruel.</div>"
            ],
            "text/plain": [
              "<IPython.core.display.HTML object>"
            ]
          },
          "metadata": {},
          "output_type": "display_data"
        },
        {
          "data": {
            "text/html": [
              "<div style=\"font-family: monospace; line-height: 1.5;\"><span style=\"text-decoration: underline; text-decoration-color: #ffe1e1; text-decoration-thickness: 4px; text-underline-offset: 3px;\">Write</span><span style=\"text-decoration: underline; text-decoration-color: #ffd5d5; text-decoration-thickness: 4px; text-underline-offset: 3px;\"> a</span><span style=\"text-decoration: underline; text-decoration-color: #aa0000; text-decoration-thickness: 4px; text-underline-offset: 3px;\"> funny</span><span style=\"text-decoration: underline; text-decoration-color: #ffe1e1; text-decoration-thickness: 4px; text-underline-offset: 3px;\">,</span><span style=\"text-decoration: underline; text-decoration-color: #aa0000; text-decoration-thickness: 4px; text-underline-offset: 3px;\"> sad</span><span style=\"text-decoration: underline; text-decoration-color: #aa0000; text-decoration-thickness: 4px; text-underline-offset: 3px;\"> ha</span><span style=\"text-decoration: underline; text-decoration-color: #aa0000; text-decoration-thickness: 4px; text-underline-offset: 3px;\">iku</span><span style=\"text-decoration: underline; text-decoration-color: #ffeded; text-decoration-thickness: 4px; text-underline-offset: 3px;\">.</span> -> Lost my favorite<span style=\"text-decoration: underline; text-decoration-thickness: 4px; text-underline-offset: 3px;\"> sock</span>,\n",
              "In the dryer it vanished,\n",
              "One foot's cold, how cruel.</div>"
            ],
            "text/plain": [
              "<IPython.core.display.HTML object>"
            ]
          },
          "metadata": {},
          "output_type": "display_data"
        },
        {
          "data": {
            "text/html": [
              "<div style=\"font-family: monospace; line-height: 1.5;\"><span style=\"text-decoration: underline; text-decoration-color: #d5d5ff; text-decoration-thickness: 4px; text-underline-offset: 3px;\">Write</span><span style=\"text-decoration: underline; text-decoration-color: #ff1515; text-decoration-thickness: 4px; text-underline-offset: 3px;\"> a</span><span style=\"text-decoration: underline; text-decoration-color: #8989ff; text-decoration-thickness: 4px; text-underline-offset: 3px;\"> funny</span><span style=\"text-decoration: underline; text-decoration-color: #ffe5e5; text-decoration-thickness: 4px; text-underline-offset: 3px;\">,</span><span style=\"text-decoration: underline; text-decoration-color: #b1b1ff; text-decoration-thickness: 4px; text-underline-offset: 3px;\"> sad</span><span style=\"text-decoration: underline; text-decoration-color: #bc0000; text-decoration-thickness: 4px; text-underline-offset: 3px;\"> ha</span><span style=\"text-decoration: underline; text-decoration-color: #9191ff; text-decoration-thickness: 4px; text-underline-offset: 3px;\">iku</span><span style=\"text-decoration: underline; text-decoration-color: #adadff; text-decoration-thickness: 4px; text-underline-offset: 3px;\">.</span> -> Lost my favorite sock<span style=\"text-decoration: underline; text-decoration-thickness: 4px; text-underline-offset: 3px;\">,\n",
              "</span>In the dryer it vanished,\n",
              "One foot's cold, how cruel.</div>"
            ],
            "text/plain": [
              "<IPython.core.display.HTML object>"
            ]
          },
          "metadata": {},
          "output_type": "display_data"
        },
        {
          "data": {
            "text/html": [
              "<div style=\"font-family: monospace; line-height: 1.5;\"><span style=\"text-decoration: underline; text-decoration-color: #fff5f5; text-decoration-thickness: 4px; text-underline-offset: 3px;\">Write</span><span style=\"text-decoration: underline; text-decoration-color: #ff7979; text-decoration-thickness: 4px; text-underline-offset: 3px;\"> a</span><span style=\"text-decoration: underline; text-decoration-color: #ff2929; text-decoration-thickness: 4px; text-underline-offset: 3px;\"> funny</span><span style=\"text-decoration: underline; text-decoration-color: #bdbdff; text-decoration-thickness: 4px; text-underline-offset: 3px;\">,</span><span style=\"text-decoration: underline; text-decoration-color: #ff3131; text-decoration-thickness: 4px; text-underline-offset: 3px;\"> sad</span><span style=\"text-decoration: underline; text-decoration-color: #ff1d1d; text-decoration-thickness: 4px; text-underline-offset: 3px;\"> ha</span><span style=\"text-decoration: underline; text-decoration-color: #ff3d3d; text-decoration-thickness: 4px; text-underline-offset: 3px;\">iku</span><span style=\"text-decoration: underline; text-decoration-color: #d9d9ff; text-decoration-thickness: 4px; text-underline-offset: 3px;\">.</span> -> Lost my favorite sock,\n",
              "<span style=\"text-decoration: underline; text-decoration-thickness: 4px; text-underline-offset: 3px;\">In</span> the dryer it vanished,\n",
              "One foot's cold, how cruel.</div>"
            ],
            "text/plain": [
              "<IPython.core.display.HTML object>"
            ]
          },
          "metadata": {},
          "output_type": "display_data"
        },
        {
          "data": {
            "text/html": [
              "<div style=\"font-family: monospace; line-height: 1.5;\"><span style=\"text-decoration: underline; text-decoration-color: #ffcdcd; text-decoration-thickness: 4px; text-underline-offset: 3px;\">Write</span><span style=\"text-decoration: underline; text-decoration-color: #c60000; text-decoration-thickness: 4px; text-underline-offset: 3px;\"> a</span><span style=\"text-decoration: underline; text-decoration-color: #ca0000; text-decoration-thickness: 4px; text-underline-offset: 3px;\"> funny</span><span style=\"text-decoration: underline; text-decoration-color: #fffdfd; text-decoration-thickness: 4px; text-underline-offset: 3px;\">,</span><span style=\"text-decoration: underline; text-decoration-color: #ff3535; text-decoration-thickness: 4px; text-underline-offset: 3px;\"> sad</span><span style=\"text-decoration: underline; text-decoration-color: #c20000; text-decoration-thickness: 4px; text-underline-offset: 3px;\"> ha</span><span style=\"text-decoration: underline; text-decoration-color: #cc0000; text-decoration-thickness: 4px; text-underline-offset: 3px;\">iku</span><span style=\"text-decoration: underline; text-decoration-color: #fdfdff; text-decoration-thickness: 4px; text-underline-offset: 3px;\">.</span> -> Lost my favorite sock,\n",
              "In<span style=\"text-decoration: underline; text-decoration-thickness: 4px; text-underline-offset: 3px;\"> the</span> dryer it vanished,\n",
              "One foot's cold, how cruel.</div>"
            ],
            "text/plain": [
              "<IPython.core.display.HTML object>"
            ]
          },
          "metadata": {},
          "output_type": "display_data"
        },
        {
          "data": {
            "text/html": [
              "<div style=\"font-family: monospace; line-height: 1.5;\"><span style=\"text-decoration: underline; text-decoration-color: #ffe9e9; text-decoration-thickness: 4px; text-underline-offset: 3px;\">Write</span><span style=\"text-decoration: underline; text-decoration-color: #b00000; text-decoration-thickness: 4px; text-underline-offset: 3px;\"> a</span><span style=\"text-decoration: underline; text-decoration-color: #b00000; text-decoration-thickness: 4px; text-underline-offset: 3px;\"> funny</span><span style=\"text-decoration: underline; text-decoration-color: #ffcdcd; text-decoration-thickness: 4px; text-underline-offset: 3px;\">,</span><span style=\"text-decoration: underline; text-decoration-color: #b00000; text-decoration-thickness: 4px; text-underline-offset: 3px;\"> sad</span><span style=\"text-decoration: underline; text-decoration-color: #b00000; text-decoration-thickness: 4px; text-underline-offset: 3px;\"> ha</span><span style=\"text-decoration: underline; text-decoration-color: #b00000; text-decoration-thickness: 4px; text-underline-offset: 3px;\">iku</span><span style=\"text-decoration: underline; text-decoration-color: #ffe1e1; text-decoration-thickness: 4px; text-underline-offset: 3px;\">.</span> -> Lost my favorite sock,\n",
              "In the<span style=\"text-decoration: underline; text-decoration-thickness: 4px; text-underline-offset: 3px;\"> dryer</span> it vanished,\n",
              "One foot's cold, how cruel.</div>"
            ],
            "text/plain": [
              "<IPython.core.display.HTML object>"
            ]
          },
          "metadata": {},
          "output_type": "display_data"
        },
        {
          "data": {
            "text/html": [
              "<div style=\"font-family: monospace; line-height: 1.5;\"><span style=\"text-decoration: underline; text-decoration-color: #ffa1a1; text-decoration-thickness: 4px; text-underline-offset: 3px;\">Write</span><span style=\"text-decoration: underline; text-decoration-color: #0000e9; text-decoration-thickness: 4px; text-underline-offset: 3px;\"> a</span><span style=\"text-decoration: underline; text-decoration-color: #ff2525; text-decoration-thickness: 4px; text-underline-offset: 3px;\"> funny</span><span style=\"text-decoration: underline; text-decoration-color: #ff8585; text-decoration-thickness: 4px; text-underline-offset: 3px;\">,</span><span style=\"text-decoration: underline; text-decoration-color: #0000ec; text-decoration-thickness: 4px; text-underline-offset: 3px;\"> sad</span><span style=\"text-decoration: underline; text-decoration-color: #ff2525; text-decoration-thickness: 4px; text-underline-offset: 3px;\"> ha</span><span style=\"text-decoration: underline; text-decoration-color: #ff2525; text-decoration-thickness: 4px; text-underline-offset: 3px;\">iku</span><span style=\"text-decoration: underline; text-decoration-color: #fff9f9; text-decoration-thickness: 4px; text-underline-offset: 3px;\">.</span> -> Lost my favorite sock,\n",
              "In the dryer<span style=\"text-decoration: underline; text-decoration-thickness: 4px; text-underline-offset: 3px;\"> it</span> vanished,\n",
              "One foot's cold, how cruel.</div>"
            ],
            "text/plain": [
              "<IPython.core.display.HTML object>"
            ]
          },
          "metadata": {},
          "output_type": "display_data"
        },
        {
          "data": {
            "text/html": [
              "<div style=\"font-family: monospace; line-height: 1.5;\"><span style=\"text-decoration: underline; text-decoration-color: #ff0d0d; text-decoration-thickness: 4px; text-underline-offset: 3px;\">Write</span><span style=\"text-decoration: underline; text-decoration-color: #ff0d0d; text-decoration-thickness: 4px; text-underline-offset: 3px;\"> a</span><span style=\"text-decoration: underline; text-decoration-color: #ff0d0d; text-decoration-thickness: 4px; text-underline-offset: 3px;\"> funny</span><span style=\"text-decoration: underline; text-decoration-color: #ff0d0d; text-decoration-thickness: 4px; text-underline-offset: 3px;\">,</span><span style=\"text-decoration: underline; text-decoration-color: #ff0d0d; text-decoration-thickness: 4px; text-underline-offset: 3px;\"> sad</span><span style=\"text-decoration: underline; text-decoration-color: #ff0d0d; text-decoration-thickness: 4px; text-underline-offset: 3px;\"> ha</span><span style=\"text-decoration: underline; text-decoration-color: #ff0d0d; text-decoration-thickness: 4px; text-underline-offset: 3px;\">iku</span><span style=\"text-decoration: underline; text-decoration-color: #fff1f1; text-decoration-thickness: 4px; text-underline-offset: 3px;\">.</span> -> Lost my favorite sock,\n",
              "In the dryer it<span style=\"text-decoration: underline; text-decoration-thickness: 4px; text-underline-offset: 3px;\"> vanished</span>,\n",
              "One foot's cold, how cruel.</div>"
            ],
            "text/plain": [
              "<IPython.core.display.HTML object>"
            ]
          },
          "metadata": {},
          "output_type": "display_data"
        },
        {
          "data": {
            "text/html": [
              "<div style=\"font-family: monospace; line-height: 1.5;\"><span style=\"text-decoration: underline; text-decoration-color: #ffc5c5; text-decoration-thickness: 4px; text-underline-offset: 3px;\">Write</span><span style=\"text-decoration: underline; text-decoration-color: #d80000; text-decoration-thickness: 4px; text-underline-offset: 3px;\"> a</span><span style=\"text-decoration: underline; text-decoration-color: #ededff; text-decoration-thickness: 4px; text-underline-offset: 3px;\"> funny</span><span style=\"text-decoration: underline; text-decoration-color: #ff8585; text-decoration-thickness: 4px; text-underline-offset: 3px;\">,</span><span style=\"text-decoration: underline; text-decoration-color: #ffe9e9; text-decoration-thickness: 4px; text-underline-offset: 3px;\"> sad</span><span style=\"text-decoration: underline; text-decoration-color: #8a0000; text-decoration-thickness: 4px; text-underline-offset: 3px;\"> ha</span><span style=\"text-decoration: underline; text-decoration-color: #f5f5ff; text-decoration-thickness: 4px; text-underline-offset: 3px;\">iku</span><span style=\"text-decoration: underline; text-decoration-color: #ffeded; text-decoration-thickness: 4px; text-underline-offset: 3px;\">.</span> -> Lost my favorite sock,\n",
              "In the dryer it vanished<span style=\"text-decoration: underline; text-decoration-thickness: 4px; text-underline-offset: 3px;\">,\n",
              "</span>One foot's cold, how cruel.</div>"
            ],
            "text/plain": [
              "<IPython.core.display.HTML object>"
            ]
          },
          "metadata": {},
          "output_type": "display_data"
        },
        {
          "data": {
            "text/html": [
              "<div style=\"font-family: monospace; line-height: 1.5;\"><span style=\"text-decoration: underline; text-decoration-color: #ff9d9d; text-decoration-thickness: 4px; text-underline-offset: 3px;\">Write</span><span style=\"text-decoration: underline; text-decoration-color: #ffa5a5; text-decoration-thickness: 4px; text-underline-offset: 3px;\"> a</span><span style=\"text-decoration: underline; text-decoration-color: #f20000; text-decoration-thickness: 4px; text-underline-offset: 3px;\"> funny</span><span style=\"text-decoration: underline; text-decoration-color: #ff5d5d; text-decoration-thickness: 4px; text-underline-offset: 3px;\">,</span><span style=\"text-decoration: underline; text-decoration-color: #f20000; text-decoration-thickness: 4px; text-underline-offset: 3px;\"> sad</span><span style=\"text-decoration: underline; text-decoration-color: #f40000; text-decoration-thickness: 4px; text-underline-offset: 3px;\"> ha</span><span style=\"text-decoration: underline; text-decoration-color: #f20000; text-decoration-thickness: 4px; text-underline-offset: 3px;\">iku</span><span style=\"text-decoration: underline; text-decoration-color: #ffe5e5; text-decoration-thickness: 4px; text-underline-offset: 3px;\">.</span> -> Lost my favorite sock,\n",
              "In the dryer it vanished,\n",
              "<span style=\"text-decoration: underline; text-decoration-thickness: 4px; text-underline-offset: 3px;\">One</span> foot's cold, how cruel.</div>"
            ],
            "text/plain": [
              "<IPython.core.display.HTML object>"
            ]
          },
          "metadata": {},
          "output_type": "display_data"
        },
        {
          "data": {
            "text/html": [
              "<div style=\"font-family: monospace; line-height: 1.5;\"><span style=\"text-decoration: underline; text-decoration-color: #a9a9ff; text-decoration-thickness: 4px; text-underline-offset: 3px;\">Write</span><span style=\"text-decoration: underline; text-decoration-color: #c1c1ff; text-decoration-thickness: 4px; text-underline-offset: 3px;\"> a</span><span style=\"text-decoration: underline; text-decoration-color: #da0000; text-decoration-thickness: 4px; text-underline-offset: 3px;\"> funny</span><span style=\"text-decoration: underline; text-decoration-color: #c9c9ff; text-decoration-thickness: 4px; text-underline-offset: 3px;\">,</span><span style=\"text-decoration: underline; text-decoration-color: #da0000; text-decoration-thickness: 4px; text-underline-offset: 3px;\"> sad</span><span style=\"text-decoration: underline; text-decoration-color: #da0000; text-decoration-thickness: 4px; text-underline-offset: 3px;\"> ha</span><span style=\"text-decoration: underline; text-decoration-color: #da0000; text-decoration-thickness: 4px; text-underline-offset: 3px;\">iku</span><span style=\"text-decoration: underline; text-decoration-color: #b9b9ff; text-decoration-thickness: 4px; text-underline-offset: 3px;\">.</span> -> Lost my favorite sock,\n",
              "In the dryer it vanished,\n",
              "One<span style=\"text-decoration: underline; text-decoration-thickness: 4px; text-underline-offset: 3px;\"> foot</span>'s cold, how cruel.</div>"
            ],
            "text/plain": [
              "<IPython.core.display.HTML object>"
            ]
          },
          "metadata": {},
          "output_type": "display_data"
        },
        {
          "data": {
            "text/html": [
              "<div style=\"font-family: monospace; line-height: 1.5;\"><span style=\"text-decoration: underline; text-decoration-color: #a1a1ff; text-decoration-thickness: 4px; text-underline-offset: 3px;\">Write</span><span style=\"text-decoration: underline; text-decoration-color: #ffdddd; text-decoration-thickness: 4px; text-underline-offset: 3px;\"> a</span><span style=\"text-decoration: underline; text-decoration-color: #ffb5b5; text-decoration-thickness: 4px; text-underline-offset: 3px;\"> funny</span><span style=\"text-decoration: underline; text-decoration-color: #6565ff; text-decoration-thickness: 4px; text-underline-offset: 3px;\">,</span><span style=\"text-decoration: underline; text-decoration-color: #0000d0; text-decoration-thickness: 4px; text-underline-offset: 3px;\"> sad</span><span style=\"text-decoration: underline; text-decoration-color: #ff6969; text-decoration-thickness: 4px; text-underline-offset: 3px;\"> ha</span><span style=\"text-decoration: underline; text-decoration-color: #b1b1ff; text-decoration-thickness: 4px; text-underline-offset: 3px;\">iku</span><span style=\"text-decoration: underline; text-decoration-color: #fff9f9; text-decoration-thickness: 4px; text-underline-offset: 3px;\">.</span> -> Lost my favorite sock,\n",
              "In the dryer it vanished,\n",
              "One foot<span style=\"text-decoration: underline; text-decoration-thickness: 4px; text-underline-offset: 3px;\">'s</span> cold, how cruel.</div>"
            ],
            "text/plain": [
              "<IPython.core.display.HTML object>"
            ]
          },
          "metadata": {},
          "output_type": "display_data"
        },
        {
          "data": {
            "text/html": [
              "<div style=\"font-family: monospace; line-height: 1.5;\"><span style=\"text-decoration: underline; text-decoration-color: #ffc5c5; text-decoration-thickness: 4px; text-underline-offset: 3px;\">Write</span><span style=\"text-decoration: underline; text-decoration-color: #6565ff; text-decoration-thickness: 4px; text-underline-offset: 3px;\"> a</span><span style=\"text-decoration: underline; text-decoration-color: #fff5f5; text-decoration-thickness: 4px; text-underline-offset: 3px;\"> funny</span><span style=\"text-decoration: underline; text-decoration-color: #a9a9ff; text-decoration-thickness: 4px; text-underline-offset: 3px;\">,</span><span style=\"text-decoration: underline; text-decoration-color: #f60000; text-decoration-thickness: 4px; text-underline-offset: 3px;\"> sad</span><span style=\"text-decoration: underline; text-decoration-color: #f60000; text-decoration-thickness: 4px; text-underline-offset: 3px;\"> ha</span><span style=\"text-decoration: underline; text-decoration-color: #f60000; text-decoration-thickness: 4px; text-underline-offset: 3px;\">iku</span><span style=\"text-decoration: underline; text-decoration-color: #d9d9ff; text-decoration-thickness: 4px; text-underline-offset: 3px;\">.</span> -> Lost my favorite sock,\n",
              "In the dryer it vanished,\n",
              "One foot's<span style=\"text-decoration: underline; text-decoration-thickness: 4px; text-underline-offset: 3px;\"> cold</span>, how cruel.</div>"
            ],
            "text/plain": [
              "<IPython.core.display.HTML object>"
            ]
          },
          "metadata": {},
          "output_type": "display_data"
        },
        {
          "data": {
            "text/html": [
              "<div style=\"font-family: monospace; line-height: 1.5;\"><span style=\"text-decoration: underline; text-decoration-color: #e1e1ff; text-decoration-thickness: 4px; text-underline-offset: 3px;\">Write</span><span style=\"text-decoration: underline; text-decoration-color: #adadff; text-decoration-thickness: 4px; text-underline-offset: 3px;\"> a</span><span style=\"text-decoration: underline; text-decoration-color: #c1c1ff; text-decoration-thickness: 4px; text-underline-offset: 3px;\"> funny</span><span style=\"text-decoration: underline; text-decoration-color: #adadff; text-decoration-thickness: 4px; text-underline-offset: 3px;\">,</span><span style=\"text-decoration: underline; text-decoration-color: #ff6969; text-decoration-thickness: 4px; text-underline-offset: 3px;\"> sad</span><span style=\"text-decoration: underline; text-decoration-color: #ca0000; text-decoration-thickness: 4px; text-underline-offset: 3px;\"> ha</span><span style=\"text-decoration: underline; text-decoration-color: #6d6dff; text-decoration-thickness: 4px; text-underline-offset: 3px;\">iku</span><span style=\"text-decoration: underline; text-decoration-color: #fff1f1; text-decoration-thickness: 4px; text-underline-offset: 3px;\">.</span> -> Lost my favorite sock,\n",
              "In the dryer it vanished,\n",
              "One foot's cold<span style=\"text-decoration: underline; text-decoration-thickness: 4px; text-underline-offset: 3px;\">,</span> how cruel.</div>"
            ],
            "text/plain": [
              "<IPython.core.display.HTML object>"
            ]
          },
          "metadata": {},
          "output_type": "display_data"
        },
        {
          "data": {
            "text/html": [
              "<div style=\"font-family: monospace; line-height: 1.5;\"><span style=\"text-decoration: underline; text-decoration-color: #d9d9ff; text-decoration-thickness: 4px; text-underline-offset: 3px;\">Write</span><span style=\"text-decoration: underline; text-decoration-color: #ff8989; text-decoration-thickness: 4px; text-underline-offset: 3px;\"> a</span><span style=\"text-decoration: underline; text-decoration-color: #e00000; text-decoration-thickness: 4px; text-underline-offset: 3px;\"> funny</span><span style=\"text-decoration: underline; text-decoration-color: #ff9191; text-decoration-thickness: 4px; text-underline-offset: 3px;\">,</span><span style=\"text-decoration: underline; text-decoration-color: #e00000; text-decoration-thickness: 4px; text-underline-offset: 3px;\"> sad</span><span style=\"text-decoration: underline; text-decoration-color: #e00000; text-decoration-thickness: 4px; text-underline-offset: 3px;\"> ha</span><span style=\"text-decoration: underline; text-decoration-color: #e20000; text-decoration-thickness: 4px; text-underline-offset: 3px;\">iku</span><span style=\"text-decoration: underline; text-decoration-color: #ededff; text-decoration-thickness: 4px; text-underline-offset: 3px;\">.</span> -> Lost my favorite sock,\n",
              "In the dryer it vanished,\n",
              "One foot's cold,<span style=\"text-decoration: underline; text-decoration-thickness: 4px; text-underline-offset: 3px;\"> how</span> cruel.</div>"
            ],
            "text/plain": [
              "<IPython.core.display.HTML object>"
            ]
          },
          "metadata": {},
          "output_type": "display_data"
        },
        {
          "data": {
            "text/html": [
              "<div style=\"font-family: monospace; line-height: 1.5;\"><span style=\"text-decoration: underline; text-decoration-color: #ffadad; text-decoration-thickness: 4px; text-underline-offset: 3px;\">Write</span><span style=\"text-decoration: underline; text-decoration-color: #9595ff; text-decoration-thickness: 4px; text-underline-offset: 3px;\"> a</span><span style=\"text-decoration: underline; text-decoration-color: #ee0000; text-decoration-thickness: 4px; text-underline-offset: 3px;\"> funny</span><span style=\"text-decoration: underline; text-decoration-color: #8989ff; text-decoration-thickness: 4px; text-underline-offset: 3px;\">,</span><span style=\"text-decoration: underline; text-decoration-color: #ee0000; text-decoration-thickness: 4px; text-underline-offset: 3px;\"> sad</span><span style=\"text-decoration: underline; text-decoration-color: #ee0000; text-decoration-thickness: 4px; text-underline-offset: 3px;\"> ha</span><span style=\"text-decoration: underline; text-decoration-color: #ee0000; text-decoration-thickness: 4px; text-underline-offset: 3px;\">iku</span><span style=\"text-decoration: underline; text-decoration-color: #e9e9ff; text-decoration-thickness: 4px; text-underline-offset: 3px;\">.</span> -> Lost my favorite sock,\n",
              "In the dryer it vanished,\n",
              "One foot's cold, how<span style=\"text-decoration: underline; text-decoration-thickness: 4px; text-underline-offset: 3px;\"> cruel</span>.</div>"
            ],
            "text/plain": [
              "<IPython.core.display.HTML object>"
            ]
          },
          "metadata": {},
          "output_type": "display_data"
        },
        {
          "data": {
            "text/html": [
              "<div style=\"font-family: monospace; line-height: 1.5;\"><span style=\"text-decoration: underline; text-decoration-color: #ff9d9d; text-decoration-thickness: 4px; text-underline-offset: 3px;\">Write</span><span style=\"text-decoration: underline; text-decoration-color: #ff0101; text-decoration-thickness: 4px; text-underline-offset: 3px;\"> a</span><span style=\"text-decoration: underline; text-decoration-color: #9595ff; text-decoration-thickness: 4px; text-underline-offset: 3px;\"> funny</span><span style=\"text-decoration: underline; text-decoration-color: #ffadad; text-decoration-thickness: 4px; text-underline-offset: 3px;\">,</span><span style=\"text-decoration: underline; text-decoration-color: #e5e5ff; text-decoration-thickness: 4px; text-underline-offset: 3px;\"> sad</span><span style=\"text-decoration: underline; text-decoration-color: #b60000; text-decoration-thickness: 4px; text-underline-offset: 3px;\"> ha</span><span style=\"text-decoration: underline; text-decoration-color: #b1b1ff; text-decoration-thickness: 4px; text-underline-offset: 3px;\">iku</span><span style=\"text-decoration: underline; text-decoration-color: #fff5f5; text-decoration-thickness: 4px; text-underline-offset: 3px;\">.</span> -> Lost my favorite sock,\n",
              "In the dryer it vanished,\n",
              "One foot's cold, how cruel<span style=\"text-decoration: underline; text-decoration-thickness: 4px; text-underline-offset: 3px;\">.</span></div>"
            ],
            "text/plain": [
              "<IPython.core.display.HTML object>"
            ]
          },
          "metadata": {},
          "output_type": "display_data"
        },
        {
          "data": {
            "text/html": [
              "<style type=\"text/css\">\n",
              "#T_b47cf_row0_col0, #T_b47cf_row0_col1, #T_b47cf_row0_col2, #T_b47cf_row0_col3, #T_b47cf_row0_col4, #T_b47cf_row0_col5, #T_b47cf_row0_col6, #T_b47cf_row0_col7, #T_b47cf_row0_col8, #T_b47cf_row0_col9, #T_b47cf_row0_col10, #T_b47cf_row0_col11 {\n",
              "  white-space: pre-wrap;\n",
              "}\n",
              "</style>\n",
              "<table id=\"T_b47cf\">\n",
              "  <thead>\n",
              "    <tr>\n",
              "      <th class=\"blank level0\" >&nbsp;</th>\n",
              "      <th id=\"T_b47cf_level0_col0\" class=\"col_heading level0 col0\" >exp_id</th>\n",
              "      <th id=\"T_b47cf_level0_col1\" class=\"col_heading level0 col1\" >attribution_strategy</th>\n",
              "      <th id=\"T_b47cf_level0_col2\" class=\"col_heading level0 col2\" >perturbation_strategy</th>\n",
              "      <th id=\"T_b47cf_level0_col3\" class=\"col_heading level0 col3\" >unit_definition</th>\n",
              "      <th id=\"T_b47cf_level0_col4\" class=\"col_heading level0 col4\" >token_1</th>\n",
              "      <th id=\"T_b47cf_level0_col5\" class=\"col_heading level0 col5\" >token_2</th>\n",
              "      <th id=\"T_b47cf_level0_col6\" class=\"col_heading level0 col6\" >token_3</th>\n",
              "      <th id=\"T_b47cf_level0_col7\" class=\"col_heading level0 col7\" >token_4</th>\n",
              "      <th id=\"T_b47cf_level0_col8\" class=\"col_heading level0 col8\" >token_5</th>\n",
              "      <th id=\"T_b47cf_level0_col9\" class=\"col_heading level0 col9\" >token_6</th>\n",
              "      <th id=\"T_b47cf_level0_col10\" class=\"col_heading level0 col10\" >token_7</th>\n",
              "      <th id=\"T_b47cf_level0_col11\" class=\"col_heading level0 col11\" >token_8</th>\n",
              "    </tr>\n",
              "  </thead>\n",
              "  <tbody>\n",
              "    <tr>\n",
              "      <th id=\"T_b47cf_level0_row0\" class=\"row_heading level0 row0\" >0</th>\n",
              "      <td id=\"T_b47cf_row0_col0\" class=\"data row0 col0\" >1</td>\n",
              "      <td id=\"T_b47cf_row0_col1\" class=\"data row0 col1\" >prob_diff</td>\n",
              "      <td id=\"T_b47cf_row0_col2\" class=\"data row0 col2\" >fixed</td>\n",
              "      <td id=\"T_b47cf_row0_col3\" class=\"data row0 col3\" >token</td>\n",
              "      <td id=\"T_b47cf_row0_col4\" class=\"data row0 col4\" >Write\n",
              "0.05</td>\n",
              "      <td id=\"T_b47cf_row0_col5\" class=\"data row0 col5\" > a\n",
              "0.17</td>\n",
              "      <td id=\"T_b47cf_row0_col6\" class=\"data row0 col6\" > funny\n",
              "0.34</td>\n",
              "      <td id=\"T_b47cf_row0_col7\" class=\"data row0 col7\" >,\n",
              "0.02</td>\n",
              "      <td id=\"T_b47cf_row0_col8\" class=\"data row0 col8\" > sad\n",
              "0.28</td>\n",
              "      <td id=\"T_b47cf_row0_col9\" class=\"data row0 col9\" > ha\n",
              "0.61</td>\n",
              "      <td id=\"T_b47cf_row0_col10\" class=\"data row0 col10\" >iku\n",
              "0.35</td>\n",
              "      <td id=\"T_b47cf_row0_col11\" class=\"data row0 col11\" >.\n",
              "-0.01</td>\n",
              "    </tr>\n",
              "  </tbody>\n",
              "</table>\n"
            ],
            "text/plain": [
              "<pandas.io.formats.style.Styler at 0x175daa270>"
            ]
          },
          "metadata": {},
          "output_type": "display_data"
        },
        {
          "data": {
            "text/html": [
              "<style type=\"text/css\">\n",
              "#T_bf305_row0_col0, #T_bf305_row0_col5, #T_bf305_row2_col14, #T_bf305_row7_col18 {\n",
              "  background-color: #fff5f5;\n",
              "  color: #000000;\n",
              "  white-space: pre-wrap;\n",
              "}\n",
              "#T_bf305_row0_col1, #T_bf305_row7_col1, #T_bf305_row7_col6 {\n",
              "  background-color: #fdfdff;\n",
              "  color: #000000;\n",
              "  white-space: pre-wrap;\n",
              "}\n",
              "#T_bf305_row0_col2, #T_bf305_row1_col12, #T_bf305_row2_col15 {\n",
              "  background-color: #c1c1ff;\n",
              "  color: #000000;\n",
              "  white-space: pre-wrap;\n",
              "}\n",
              "#T_bf305_row0_col3, #T_bf305_row1_col1, #T_bf305_row3_col3, #T_bf305_row7_col7 {\n",
              "  background-color: #ffe1e1;\n",
              "  color: #000000;\n",
              "  white-space: pre-wrap;\n",
              "}\n",
              "#T_bf305_row0_col4 {\n",
              "  background-color: #d5d5ff;\n",
              "  color: #000000;\n",
              "  white-space: pre-wrap;\n",
              "}\n",
              "#T_bf305_row0_col6, #T_bf305_row1_col0, #T_bf305_row3_col7 {\n",
              "  background-color: #ffcdcd;\n",
              "  color: #000000;\n",
              "  white-space: pre-wrap;\n",
              "}\n",
              "#T_bf305_row0_col7, #T_bf305_row4_col10 {\n",
              "  background-color: #ffe9e9;\n",
              "  color: #000000;\n",
              "  white-space: pre-wrap;\n",
              "}\n",
              "#T_bf305_row0_col8 {\n",
              "  background-color: #ffa1a1;\n",
              "  color: #000000;\n",
              "  white-space: pre-wrap;\n",
              "}\n",
              "#T_bf305_row0_col9, #T_bf305_row1_col9, #T_bf305_row2_col9, #T_bf305_row3_col9, #T_bf305_row4_col9, #T_bf305_row5_col9, #T_bf305_row6_col9 {\n",
              "  background-color: #ff0d0d;\n",
              "  color: #f1f1f1;\n",
              "  white-space: pre-wrap;\n",
              "}\n",
              "#T_bf305_row0_col10, #T_bf305_row0_col14 {\n",
              "  background-color: #ffc5c5;\n",
              "  color: #000000;\n",
              "  white-space: pre-wrap;\n",
              "}\n",
              "#T_bf305_row0_col11, #T_bf305_row0_col18 {\n",
              "  background-color: #ff9d9d;\n",
              "  color: #000000;\n",
              "  white-space: pre-wrap;\n",
              "}\n",
              "#T_bf305_row0_col12, #T_bf305_row3_col14 {\n",
              "  background-color: #a9a9ff;\n",
              "  color: #000000;\n",
              "  white-space: pre-wrap;\n",
              "}\n",
              "#T_bf305_row0_col13 {\n",
              "  background-color: #a1a1ff;\n",
              "  color: #f1f1f1;\n",
              "  white-space: pre-wrap;\n",
              "}\n",
              "#T_bf305_row0_col15 {\n",
              "  background-color: #e1e1ff;\n",
              "  color: #000000;\n",
              "  white-space: pre-wrap;\n",
              "}\n",
              "#T_bf305_row0_col16, #T_bf305_row7_col5, #T_bf305_row7_col14 {\n",
              "  background-color: #d9d9ff;\n",
              "  color: #000000;\n",
              "  white-space: pre-wrap;\n",
              "}\n",
              "#T_bf305_row0_col17, #T_bf305_row3_col18 {\n",
              "  background-color: #ffadad;\n",
              "  color: #000000;\n",
              "  white-space: pre-wrap;\n",
              "}\n",
              "#T_bf305_row0_col19, #T_bf305_row0_col20, #T_bf305_row1_col19, #T_bf305_row1_col20, #T_bf305_row2_col19, #T_bf305_row2_col20, #T_bf305_row3_col19, #T_bf305_row3_col20, #T_bf305_row4_col19, #T_bf305_row4_col20, #T_bf305_row5_col19, #T_bf305_row5_col20, #T_bf305_row6_col19, #T_bf305_row6_col20, #T_bf305_row7_col19, #T_bf305_row7_col20 {\n",
              "  white-space: pre-wrap;\n",
              "}\n",
              "#T_bf305_row1_col2, #T_bf305_row3_col1, #T_bf305_row6_col10, #T_bf305_row7_col2 {\n",
              "  background-color: #f5f5ff;\n",
              "  color: #000000;\n",
              "  white-space: pre-wrap;\n",
              "}\n",
              "#T_bf305_row1_col3 {\n",
              "  background-color: #ffd5d5;\n",
              "  color: #000000;\n",
              "  white-space: pre-wrap;\n",
              "}\n",
              "#T_bf305_row1_col4 {\n",
              "  background-color: #ff1515;\n",
              "  color: #f1f1f1;\n",
              "  white-space: pre-wrap;\n",
              "}\n",
              "#T_bf305_row1_col5 {\n",
              "  background-color: #ff7979;\n",
              "  color: #f1f1f1;\n",
              "  white-space: pre-wrap;\n",
              "}\n",
              "#T_bf305_row1_col6 {\n",
              "  background-color: #c60000;\n",
              "  color: #f1f1f1;\n",
              "  white-space: pre-wrap;\n",
              "}\n",
              "#T_bf305_row1_col7, #T_bf305_row2_col7, #T_bf305_row4_col7, #T_bf305_row5_col7, #T_bf305_row6_col7 {\n",
              "  background-color: #b00000;\n",
              "  color: #f1f1f1;\n",
              "  white-space: pre-wrap;\n",
              "}\n",
              "#T_bf305_row1_col8 {\n",
              "  background-color: #0000e9;\n",
              "  color: #f1f1f1;\n",
              "  white-space: pre-wrap;\n",
              "}\n",
              "#T_bf305_row1_col10 {\n",
              "  background-color: #d80000;\n",
              "  color: #f1f1f1;\n",
              "  white-space: pre-wrap;\n",
              "}\n",
              "#T_bf305_row1_col11 {\n",
              "  background-color: #ffa5a5;\n",
              "  color: #000000;\n",
              "  white-space: pre-wrap;\n",
              "}\n",
              "#T_bf305_row1_col13 {\n",
              "  background-color: #ffdddd;\n",
              "  color: #000000;\n",
              "  white-space: pre-wrap;\n",
              "}\n",
              "#T_bf305_row1_col14, #T_bf305_row3_col13 {\n",
              "  background-color: #6565ff;\n",
              "  color: #f1f1f1;\n",
              "  white-space: pre-wrap;\n",
              "}\n",
              "#T_bf305_row1_col15, #T_bf305_row3_col15, #T_bf305_row7_col4 {\n",
              "  background-color: #adadff;\n",
              "  color: #000000;\n",
              "  white-space: pre-wrap;\n",
              "}\n",
              "#T_bf305_row1_col16 {\n",
              "  background-color: #ff8989;\n",
              "  color: #000000;\n",
              "  white-space: pre-wrap;\n",
              "}\n",
              "#T_bf305_row1_col17, #T_bf305_row2_col18 {\n",
              "  background-color: #9595ff;\n",
              "  color: #f1f1f1;\n",
              "  white-space: pre-wrap;\n",
              "}\n",
              "#T_bf305_row1_col18 {\n",
              "  background-color: #ff0101;\n",
              "  color: #f1f1f1;\n",
              "  white-space: pre-wrap;\n",
              "}\n",
              "#T_bf305_row2_col0 {\n",
              "  background-color: #7d7dff;\n",
              "  color: #f1f1f1;\n",
              "  white-space: pre-wrap;\n",
              "}\n",
              "#T_bf305_row2_col1 {\n",
              "  background-color: #d00000;\n",
              "  color: #f1f1f1;\n",
              "  white-space: pre-wrap;\n",
              "}\n",
              "#T_bf305_row2_col2, #T_bf305_row4_col2, #T_bf305_row5_col2, #T_bf305_row6_col2 {\n",
              "  background-color: #ff1919;\n",
              "  color: #f1f1f1;\n",
              "  white-space: pre-wrap;\n",
              "}\n",
              "#T_bf305_row2_col3, #T_bf305_row4_col3, #T_bf305_row5_col3, #T_bf305_row6_col3 {\n",
              "  background-color: #aa0000;\n",
              "  color: #f1f1f1;\n",
              "  white-space: pre-wrap;\n",
              "}\n",
              "#T_bf305_row2_col4, #T_bf305_row3_col17 {\n",
              "  background-color: #8989ff;\n",
              "  color: #f1f1f1;\n",
              "  white-space: pre-wrap;\n",
              "}\n",
              "#T_bf305_row2_col5 {\n",
              "  background-color: #ff2929;\n",
              "  color: #f1f1f1;\n",
              "  white-space: pre-wrap;\n",
              "}\n",
              "#T_bf305_row2_col6, #T_bf305_row5_col15 {\n",
              "  background-color: #ca0000;\n",
              "  color: #f1f1f1;\n",
              "  white-space: pre-wrap;\n",
              "}\n",
              "#T_bf305_row2_col8, #T_bf305_row5_col8, #T_bf305_row6_col8 {\n",
              "  background-color: #ff2525;\n",
              "  color: #f1f1f1;\n",
              "  white-space: pre-wrap;\n",
              "}\n",
              "#T_bf305_row2_col10, #T_bf305_row7_col16 {\n",
              "  background-color: #ededff;\n",
              "  color: #000000;\n",
              "  white-space: pre-wrap;\n",
              "}\n",
              "#T_bf305_row2_col11, #T_bf305_row4_col11, #T_bf305_row6_col11 {\n",
              "  background-color: #f20000;\n",
              "  color: #f1f1f1;\n",
              "  white-space: pre-wrap;\n",
              "}\n",
              "#T_bf305_row2_col12, #T_bf305_row4_col12, #T_bf305_row5_col12, #T_bf305_row6_col12 {\n",
              "  background-color: #da0000;\n",
              "  color: #f1f1f1;\n",
              "  white-space: pre-wrap;\n",
              "}\n",
              "#T_bf305_row2_col13 {\n",
              "  background-color: #ffb5b5;\n",
              "  color: #000000;\n",
              "  white-space: pre-wrap;\n",
              "}\n",
              "#T_bf305_row2_col16, #T_bf305_row4_col16, #T_bf305_row5_col16 {\n",
              "  background-color: #e00000;\n",
              "  color: #f1f1f1;\n",
              "  white-space: pre-wrap;\n",
              "}\n",
              "#T_bf305_row2_col17, #T_bf305_row4_col17, #T_bf305_row5_col17, #T_bf305_row6_col17 {\n",
              "  background-color: #ee0000;\n",
              "  color: #f1f1f1;\n",
              "  white-space: pre-wrap;\n",
              "}\n",
              "#T_bf305_row3_col0 {\n",
              "  background-color: #1111ff;\n",
              "  color: #f1f1f1;\n",
              "  white-space: pre-wrap;\n",
              "}\n",
              "#T_bf305_row3_col2 {\n",
              "  background-color: #ffd1d1;\n",
              "  color: #000000;\n",
              "  white-space: pre-wrap;\n",
              "}\n",
              "#T_bf305_row3_col4, #T_bf305_row7_col11 {\n",
              "  background-color: #ffe5e5;\n",
              "  color: #000000;\n",
              "  white-space: pre-wrap;\n",
              "}\n",
              "#T_bf305_row3_col5 {\n",
              "  background-color: #bdbdff;\n",
              "  color: #000000;\n",
              "  white-space: pre-wrap;\n",
              "}\n",
              "#T_bf305_row3_col6, #T_bf305_row7_col0 {\n",
              "  background-color: #fffdfd;\n",
              "  color: #000000;\n",
              "  white-space: pre-wrap;\n",
              "}\n",
              "#T_bf305_row3_col8, #T_bf305_row3_col10 {\n",
              "  background-color: #ff8585;\n",
              "  color: #f1f1f1;\n",
              "  white-space: pre-wrap;\n",
              "}\n",
              "#T_bf305_row3_col11 {\n",
              "  background-color: #ff5d5d;\n",
              "  color: #f1f1f1;\n",
              "  white-space: pre-wrap;\n",
              "}\n",
              "#T_bf305_row3_col12 {\n",
              "  background-color: #c9c9ff;\n",
              "  color: #000000;\n",
              "  white-space: pre-wrap;\n",
              "}\n",
              "#T_bf305_row3_col16 {\n",
              "  background-color: #ff9191;\n",
              "  color: #000000;\n",
              "  white-space: pre-wrap;\n",
              "}\n",
              "#T_bf305_row4_col0, #T_bf305_row5_col0 {\n",
              "  background-color: #ff8d8d;\n",
              "  color: #000000;\n",
              "  white-space: pre-wrap;\n",
              "}\n",
              "#T_bf305_row4_col1 {\n",
              "  background-color: #8d8dff;\n",
              "  color: #f1f1f1;\n",
              "  white-space: pre-wrap;\n",
              "}\n",
              "#T_bf305_row4_col4, #T_bf305_row6_col13, #T_bf305_row6_col18 {\n",
              "  background-color: #b1b1ff;\n",
              "  color: #000000;\n",
              "  white-space: pre-wrap;\n",
              "}\n",
              "#T_bf305_row4_col5 {\n",
              "  background-color: #ff3131;\n",
              "  color: #f1f1f1;\n",
              "  white-space: pre-wrap;\n",
              "}\n",
              "#T_bf305_row4_col6 {\n",
              "  background-color: #ff3535;\n",
              "  color: #f1f1f1;\n",
              "  white-space: pre-wrap;\n",
              "}\n",
              "#T_bf305_row4_col8 {\n",
              "  background-color: #0000ec;\n",
              "  color: #f1f1f1;\n",
              "  white-space: pre-wrap;\n",
              "}\n",
              "#T_bf305_row4_col13 {\n",
              "  background-color: #0000d0;\n",
              "  color: #f1f1f1;\n",
              "  white-space: pre-wrap;\n",
              "}\n",
              "#T_bf305_row4_col14, #T_bf305_row5_col14, #T_bf305_row6_col14 {\n",
              "  background-color: #f60000;\n",
              "  color: #f1f1f1;\n",
              "  white-space: pre-wrap;\n",
              "}\n",
              "#T_bf305_row4_col15, #T_bf305_row5_col13 {\n",
              "  background-color: #ff6969;\n",
              "  color: #f1f1f1;\n",
              "  white-space: pre-wrap;\n",
              "}\n",
              "#T_bf305_row4_col18 {\n",
              "  background-color: #e5e5ff;\n",
              "  color: #000000;\n",
              "  white-space: pre-wrap;\n",
              "}\n",
              "#T_bf305_row5_col1 {\n",
              "  background-color: #c00000;\n",
              "  color: #f1f1f1;\n",
              "  white-space: pre-wrap;\n",
              "}\n",
              "#T_bf305_row5_col4 {\n",
              "  background-color: #bc0000;\n",
              "  color: #f1f1f1;\n",
              "  white-space: pre-wrap;\n",
              "}\n",
              "#T_bf305_row5_col5 {\n",
              "  background-color: #ff1d1d;\n",
              "  color: #f1f1f1;\n",
              "  white-space: pre-wrap;\n",
              "}\n",
              "#T_bf305_row5_col6 {\n",
              "  background-color: #c20000;\n",
              "  color: #f1f1f1;\n",
              "  white-space: pre-wrap;\n",
              "}\n",
              "#T_bf305_row5_col10 {\n",
              "  background-color: #8a0000;\n",
              "  color: #f1f1f1;\n",
              "  white-space: pre-wrap;\n",
              "}\n",
              "#T_bf305_row5_col11 {\n",
              "  background-color: #f40000;\n",
              "  color: #f1f1f1;\n",
              "  white-space: pre-wrap;\n",
              "}\n",
              "#T_bf305_row5_col18 {\n",
              "  background-color: #b60000;\n",
              "  color: #f1f1f1;\n",
              "  white-space: pre-wrap;\n",
              "}\n",
              "#T_bf305_row6_col0 {\n",
              "  background-color: #9d9dff;\n",
              "  color: #f1f1f1;\n",
              "  white-space: pre-wrap;\n",
              "}\n",
              "#T_bf305_row6_col1 {\n",
              "  background-color: #c30000;\n",
              "  color: #f1f1f1;\n",
              "  white-space: pre-wrap;\n",
              "}\n",
              "#T_bf305_row6_col4 {\n",
              "  background-color: #9191ff;\n",
              "  color: #f1f1f1;\n",
              "  white-space: pre-wrap;\n",
              "}\n",
              "#T_bf305_row6_col5 {\n",
              "  background-color: #ff3d3d;\n",
              "  color: #f1f1f1;\n",
              "  white-space: pre-wrap;\n",
              "}\n",
              "#T_bf305_row6_col6 {\n",
              "  background-color: #cc0000;\n",
              "  color: #f1f1f1;\n",
              "  white-space: pre-wrap;\n",
              "}\n",
              "#T_bf305_row6_col15 {\n",
              "  background-color: #6d6dff;\n",
              "  color: #f1f1f1;\n",
              "  white-space: pre-wrap;\n",
              "}\n",
              "#T_bf305_row6_col16 {\n",
              "  background-color: #e20000;\n",
              "  color: #f1f1f1;\n",
              "  white-space: pre-wrap;\n",
              "}\n",
              "#T_bf305_row7_col3, #T_bf305_row7_col10 {\n",
              "  background-color: #ffeded;\n",
              "  color: #000000;\n",
              "  white-space: pre-wrap;\n",
              "}\n",
              "#T_bf305_row7_col8, #T_bf305_row7_col13 {\n",
              "  background-color: #fff9f9;\n",
              "  color: #000000;\n",
              "  white-space: pre-wrap;\n",
              "}\n",
              "#T_bf305_row7_col9, #T_bf305_row7_col15 {\n",
              "  background-color: #fff1f1;\n",
              "  color: #000000;\n",
              "  white-space: pre-wrap;\n",
              "}\n",
              "#T_bf305_row7_col12 {\n",
              "  background-color: #b9b9ff;\n",
              "  color: #000000;\n",
              "  white-space: pre-wrap;\n",
              "}\n",
              "#T_bf305_row7_col17 {\n",
              "  background-color: #e9e9ff;\n",
              "  color: #000000;\n",
              "  white-space: pre-wrap;\n",
              "}\n",
              "</style>\n",
              "<table id=\"T_bf305\">\n",
              "  <thead>\n",
              "    <tr>\n",
              "      <th class=\"blank level0\" >&nbsp;</th>\n",
              "      <th id=\"T_bf305_level0_col0\" class=\"col_heading level0 col0\" >Lost (0)</th>\n",
              "      <th id=\"T_bf305_level0_col1\" class=\"col_heading level0 col1\" > my (1)</th>\n",
              "      <th id=\"T_bf305_level0_col2\" class=\"col_heading level0 col2\" > favorite (2)</th>\n",
              "      <th id=\"T_bf305_level0_col3\" class=\"col_heading level0 col3\" > sock (3)</th>\n",
              "      <th id=\"T_bf305_level0_col4\" class=\"col_heading level0 col4\" >,\n",
              " (4)</th>\n",
              "      <th id=\"T_bf305_level0_col5\" class=\"col_heading level0 col5\" >In (5)</th>\n",
              "      <th id=\"T_bf305_level0_col6\" class=\"col_heading level0 col6\" > the (6)</th>\n",
              "      <th id=\"T_bf305_level0_col7\" class=\"col_heading level0 col7\" > dryer (7)</th>\n",
              "      <th id=\"T_bf305_level0_col8\" class=\"col_heading level0 col8\" > it (8)</th>\n",
              "      <th id=\"T_bf305_level0_col9\" class=\"col_heading level0 col9\" > vanished (9)</th>\n",
              "      <th id=\"T_bf305_level0_col10\" class=\"col_heading level0 col10\" >,\n",
              " (10)</th>\n",
              "      <th id=\"T_bf305_level0_col11\" class=\"col_heading level0 col11\" >One (11)</th>\n",
              "      <th id=\"T_bf305_level0_col12\" class=\"col_heading level0 col12\" > foot (12)</th>\n",
              "      <th id=\"T_bf305_level0_col13\" class=\"col_heading level0 col13\" >'s (13)</th>\n",
              "      <th id=\"T_bf305_level0_col14\" class=\"col_heading level0 col14\" > cold (14)</th>\n",
              "      <th id=\"T_bf305_level0_col15\" class=\"col_heading level0 col15\" >, (15)</th>\n",
              "      <th id=\"T_bf305_level0_col16\" class=\"col_heading level0 col16\" > how (16)</th>\n",
              "      <th id=\"T_bf305_level0_col17\" class=\"col_heading level0 col17\" > cruel (17)</th>\n",
              "      <th id=\"T_bf305_level0_col18\" class=\"col_heading level0 col18\" >. (18)</th>\n",
              "      <th id=\"T_bf305_level0_col19\" class=\"col_heading level0 col19\" >perturbed_input</th>\n",
              "      <th id=\"T_bf305_level0_col20\" class=\"col_heading level0 col20\" >perturbed_output</th>\n",
              "    </tr>\n",
              "  </thead>\n",
              "  <tbody>\n",
              "    <tr>\n",
              "      <th id=\"T_bf305_level0_row0\" class=\"row_heading level0 row0\" >Write (0)</th>\n",
              "      <td id=\"T_bf305_row0_col0\" class=\"data row0 col0\" >0.021639</td>\n",
              "      <td id=\"T_bf305_row0_col1\" class=\"data row0 col1\" >-0.007777</td>\n",
              "      <td id=\"T_bf305_row0_col2\" class=\"data row0 col2\" >-0.118689</td>\n",
              "      <td id=\"T_bf305_row0_col3\" class=\"data row0 col3\" >0.059360</td>\n",
              "      <td id=\"T_bf305_row0_col4\" class=\"data row0 col4\" >-0.082373</td>\n",
              "      <td id=\"T_bf305_row0_col5\" class=\"data row0 col5\" >0.017411</td>\n",
              "      <td id=\"T_bf305_row0_col6\" class=\"data row0 col6\" >0.095426</td>\n",
              "      <td id=\"T_bf305_row0_col7\" class=\"data row0 col7\" >0.039267</td>\n",
              "      <td id=\"T_bf305_row0_col8\" class=\"data row0 col8\" >0.184463</td>\n",
              "      <td id=\"T_bf305_row0_col9\" class=\"data row0 col9\" >0.469421</td>\n",
              "      <td id=\"T_bf305_row0_col10\" class=\"data row0 col10\" >0.111425</td>\n",
              "      <td id=\"T_bf305_row0_col11\" class=\"data row0 col11\" >0.190153</td>\n",
              "      <td id=\"T_bf305_row0_col12\" class=\"data row0 col12\" >-0.169809</td>\n",
              "      <td id=\"T_bf305_row0_col13\" class=\"data row0 col13\" >-0.179722</td>\n",
              "      <td id=\"T_bf305_row0_col14\" class=\"data row0 col14\" >0.112223</td>\n",
              "      <td id=\"T_bf305_row0_col15\" class=\"data row0 col15\" >-0.061548</td>\n",
              "      <td id=\"T_bf305_row0_col16\" class=\"data row0 col16\" >-0.072940</td>\n",
              "      <td id=\"T_bf305_row0_col17\" class=\"data row0 col17\" >0.160377</td>\n",
              "      <td id=\"T_bf305_row0_col18\" class=\"data row0 col18\" >0.190719</td>\n",
              "      <td id=\"T_bf305_row0_col19\" class=\"data row0 col19\" >a funny, sad haiku.</td>\n",
              "      <td id=\"T_bf305_row0_col20\" class=\"data row0 col20\" >Lost my favorite sock,\n",
              "In the dryer's hungry maw,\n",
              "One foot's cold, how cruel.</td>\n",
              "    </tr>\n",
              "    <tr>\n",
              "      <th id=\"T_bf305_level0_row1\" class=\"row_heading level0 row1\" > a (1)</th>\n",
              "      <td id=\"T_bf305_row1_col0\" class=\"data row1 col0\" >0.098275</td>\n",
              "      <td id=\"T_bf305_row1_col1\" class=\"data row1 col1\" >0.061516</td>\n",
              "      <td id=\"T_bf305_row1_col2\" class=\"data row1 col2\" >-0.020389</td>\n",
              "      <td id=\"T_bf305_row1_col3\" class=\"data row1 col3\" >0.078591</td>\n",
              "      <td id=\"T_bf305_row1_col4\" class=\"data row1 col4\" >0.454689</td>\n",
              "      <td id=\"T_bf305_row1_col5\" class=\"data row1 col5\" >0.261779</td>\n",
              "      <td id=\"T_bf305_row1_col6\" class=\"data row1 col6\" >0.719732</td>\n",
              "      <td id=\"T_bf305_row1_col7\" class=\"data row1 col7\" >0.810876</td>\n",
              "      <td id=\"T_bf305_row1_col8\" class=\"data row1 col8\" >-0.557944</td>\n",
              "      <td id=\"T_bf305_row1_col9\" class=\"data row1 col9\" >0.469421</td>\n",
              "      <td id=\"T_bf305_row1_col10\" class=\"data row1 col10\" >0.648486</td>\n",
              "      <td id=\"T_bf305_row1_col11\" class=\"data row1 col11\" >0.176550</td>\n",
              "      <td id=\"T_bf305_row1_col12\" class=\"data row1 col12\" >-0.117884</td>\n",
              "      <td id=\"T_bf305_row1_col13\" class=\"data row1 col13\" >0.063329</td>\n",
              "      <td id=\"T_bf305_row1_col14\" class=\"data row1 col14\" >-0.303483</td>\n",
              "      <td id=\"T_bf305_row1_col15\" class=\"data row1 col15\" >-0.158261</td>\n",
              "      <td id=\"T_bf305_row1_col16\" class=\"data row1 col16\" >0.229705</td>\n",
              "      <td id=\"T_bf305_row1_col17\" class=\"data row1 col17\" >-0.208420</td>\n",
              "      <td id=\"T_bf305_row1_col18\" class=\"data row1 col18\" >0.495175</td>\n",
              "      <td id=\"T_bf305_row1_col19\" class=\"data row1 col19\" >Write funny, sad haiku.</td>\n",
              "      <td id=\"T_bf305_row1_col20\" class=\"data row1 col20\" >Lost my favorite sock\n",
              "Washing machine ate it up\n",
              "One foot's cold, how cruel!</td>\n",
              "    </tr>\n",
              "    <tr>\n",
              "      <th id=\"T_bf305_level0_row2\" class=\"row_heading level0 row2\" > funny (2)</th>\n",
              "      <td id=\"T_bf305_row2_col0\" class=\"data row2 col0\" >-0.254693</td>\n",
              "      <td id=\"T_bf305_row2_col1\" class=\"data row2 col1\" >0.681312</td>\n",
              "      <td id=\"T_bf305_row2_col2\" class=\"data row2 col2\" >0.452981</td>\n",
              "      <td id=\"T_bf305_row2_col3\" class=\"data row2 col3\" >0.832226</td>\n",
              "      <td id=\"T_bf305_row2_col4\" class=\"data row2 col4\" >-0.226836</td>\n",
              "      <td id=\"T_bf305_row2_col5\" class=\"data row2 col5\" >0.420320</td>\n",
              "      <td id=\"T_bf305_row2_col6\" class=\"data row2 col6\" >0.708844</td>\n",
              "      <td id=\"T_bf305_row2_col7\" class=\"data row2 col7\" >0.810876</td>\n",
              "      <td id=\"T_bf305_row2_col8\" class=\"data row2 col8\" >0.423866</td>\n",
              "      <td id=\"T_bf305_row2_col9\" class=\"data row2 col9\" >0.469421</td>\n",
              "      <td id=\"T_bf305_row2_col10\" class=\"data row2 col10\" >-0.033038</td>\n",
              "      <td id=\"T_bf305_row2_col11\" class=\"data row2 col11\" >0.547813</td>\n",
              "      <td id=\"T_bf305_row2_col12\" class=\"data row2 col12\" >0.642482</td>\n",
              "      <td id=\"T_bf305_row2_col13\" class=\"data row2 col13\" >0.144050</td>\n",
              "      <td id=\"T_bf305_row2_col14\" class=\"data row2 col14\" >0.022608</td>\n",
              "      <td id=\"T_bf305_row2_col15\" class=\"data row2 col15\" >-0.118656</td>\n",
              "      <td id=\"T_bf305_row2_col16\" class=\"data row2 col16\" >0.623571</td>\n",
              "      <td id=\"T_bf305_row2_col17\" class=\"data row2 col17\" >0.569022</td>\n",
              "      <td id=\"T_bf305_row2_col18\" class=\"data row2 col18\" >-0.203221</td>\n",
              "      <td id=\"T_bf305_row2_col19\" class=\"data row2 col19\" >Write a, sad haiku.</td>\n",
              "      <td id=\"T_bf305_row2_col20\" class=\"data row2 col20\" >Autumn leaves descend,\n",
              "Empty branches weep in cold,\n",
              "Lost in time, love ends.</td>\n",
              "    </tr>\n",
              "    <tr>\n",
              "      <th id=\"T_bf305_level0_row3\" class=\"row_heading level0 row3\" >, (3)</th>\n",
              "      <td id=\"T_bf305_row3_col0\" class=\"data row3 col0\" >-0.466106</td>\n",
              "      <td id=\"T_bf305_row3_col1\" class=\"data row3 col1\" >-0.020277</td>\n",
              "      <td id=\"T_bf305_row3_col2\" class=\"data row3 col2\" >0.088429</td>\n",
              "      <td id=\"T_bf305_row3_col3\" class=\"data row3 col3\" >0.055955</td>\n",
              "      <td id=\"T_bf305_row3_col4\" class=\"data row3 col4\" >0.047822</td>\n",
              "      <td id=\"T_bf305_row3_col5\" class=\"data row3 col5\" >-0.127719</td>\n",
              "      <td id=\"T_bf305_row3_col6\" class=\"data row3 col6\" >0.006147</td>\n",
              "      <td id=\"T_bf305_row3_col7\" class=\"data row3 col7\" >0.098596</td>\n",
              "      <td id=\"T_bf305_row3_col8\" class=\"data row3 col8\" >0.238733</td>\n",
              "      <td id=\"T_bf305_row3_col9\" class=\"data row3 col9\" >0.469421</td>\n",
              "      <td id=\"T_bf305_row3_col10\" class=\"data row3 col10\" >0.241620</td>\n",
              "      <td id=\"T_bf305_row3_col11\" class=\"data row3 col11\" >0.318037</td>\n",
              "      <td id=\"T_bf305_row3_col12\" class=\"data row3 col12\" >-0.105111</td>\n",
              "      <td id=\"T_bf305_row3_col13\" class=\"data row3 col13\" >-0.301293</td>\n",
              "      <td id=\"T_bf305_row3_col14\" class=\"data row3 col14\" >-0.167036</td>\n",
              "      <td id=\"T_bf305_row3_col15\" class=\"data row3 col15\" >-0.162582</td>\n",
              "      <td id=\"T_bf305_row3_col16\" class=\"data row3 col16\" >0.216917</td>\n",
              "      <td id=\"T_bf305_row3_col17\" class=\"data row3 col17\" >-0.226969</td>\n",
              "      <td id=\"T_bf305_row3_col18\" class=\"data row3 col18\" >0.161337</td>\n",
              "      <td id=\"T_bf305_row3_col19\" class=\"data row3 col19\" >Write a funny sad haiku.</td>\n",
              "      <td id=\"T_bf305_row3_col20\" class=\"data row3 col20\" >Lost my favorite sock,\n",
              "In the dryer's black hole, gone.\n",
              "One foot's cold, how cruel.</td>\n",
              "    </tr>\n",
              "    <tr>\n",
              "      <th id=\"T_bf305_level0_row4\" class=\"row_heading level0 row4\" > sad (4)</th>\n",
              "      <td id=\"T_bf305_row4_col0\" class=\"data row4 col0\" >0.221758</td>\n",
              "      <td id=\"T_bf305_row4_col1\" class=\"data row4 col1\" >-0.223779</td>\n",
              "      <td id=\"T_bf305_row4_col2\" class=\"data row4 col2\" >0.446911</td>\n",
              "      <td id=\"T_bf305_row4_col3\" class=\"data row4 col3\" >0.832226</td>\n",
              "      <td id=\"T_bf305_row4_col4\" class=\"data row4 col4\" >-0.151672</td>\n",
              "      <td id=\"T_bf305_row4_col5\" class=\"data row4 col5\" >0.405340</td>\n",
              "      <td id=\"T_bf305_row4_col6\" class=\"data row4 col6\" >0.394453</td>\n",
              "      <td id=\"T_bf305_row4_col7\" class=\"data row4 col7\" >0.810876</td>\n",
              "      <td id=\"T_bf305_row4_col8\" class=\"data row4 col8\" >-0.549959</td>\n",
              "      <td id=\"T_bf305_row4_col9\" class=\"data row4 col9\" >0.469421</td>\n",
              "      <td id=\"T_bf305_row4_col10\" class=\"data row4 col10\" >0.042126</td>\n",
              "      <td id=\"T_bf305_row4_col11\" class=\"data row4 col11\" >0.547813</td>\n",
              "      <td id=\"T_bf305_row4_col12\" class=\"data row4 col12\" >0.642482</td>\n",
              "      <td id=\"T_bf305_row4_col13\" class=\"data row4 col13\" >-0.629819</td>\n",
              "      <td id=\"T_bf305_row4_col14\" class=\"data row4 col14\" >0.533289</td>\n",
              "      <td id=\"T_bf305_row4_col15\" class=\"data row4 col15\" >0.295596</td>\n",
              "      <td id=\"T_bf305_row4_col16\" class=\"data row4 col16\" >0.623571</td>\n",
              "      <td id=\"T_bf305_row4_col17\" class=\"data row4 col17\" >0.569022</td>\n",
              "      <td id=\"T_bf305_row4_col18\" class=\"data row4 col18\" >-0.051907</td>\n",
              "      <td id=\"T_bf305_row4_col19\" class=\"data row4 col19\" >Write a funny, haiku.</td>\n",
              "      <td id=\"T_bf305_row4_col20\" class=\"data row4 col20\" >Coffee in my cup,\n",
              "Spilled it on my laptop - oops,\n",
              "Guess it's time to wake up.</td>\n",
              "    </tr>\n",
              "    <tr>\n",
              "      <th id=\"T_bf305_level0_row5\" class=\"row_heading level0 row5\" > ha (5)</th>\n",
              "      <td id=\"T_bf305_row5_col0\" class=\"data row5 col0\" >0.221758</td>\n",
              "      <td id=\"T_bf305_row5_col1\" class=\"data row5 col1\" >0.748180</td>\n",
              "      <td id=\"T_bf305_row5_col2\" class=\"data row5 col2\" >0.452981</td>\n",
              "      <td id=\"T_bf305_row5_col3\" class=\"data row5 col3\" >0.832226</td>\n",
              "      <td id=\"T_bf305_row5_col4\" class=\"data row5 col4\" >0.764473</td>\n",
              "      <td id=\"T_bf305_row5_col5\" class=\"data row5 col5\" >0.442373</td>\n",
              "      <td id=\"T_bf305_row5_col6\" class=\"data row5 col6\" >0.735973</td>\n",
              "      <td id=\"T_bf305_row5_col7\" class=\"data row5 col7\" >0.810876</td>\n",
              "      <td id=\"T_bf305_row5_col8\" class=\"data row5 col8\" >0.423864</td>\n",
              "      <td id=\"T_bf305_row5_col9\" class=\"data row5 col9\" >0.469421</td>\n",
              "      <td id=\"T_bf305_row5_col10\" class=\"data row5 col10\" >0.958271</td>\n",
              "      <td id=\"T_bf305_row5_col11\" class=\"data row5 col11\" >0.546528</td>\n",
              "      <td id=\"T_bf305_row5_col12\" class=\"data row5 col12\" >0.642482</td>\n",
              "      <td id=\"T_bf305_row5_col13\" class=\"data row5 col13\" >0.295082</td>\n",
              "      <td id=\"T_bf305_row5_col14\" class=\"data row5 col14\" >0.533289</td>\n",
              "      <td id=\"T_bf305_row5_col15\" class=\"data row5 col15\" >0.704967</td>\n",
              "      <td id=\"T_bf305_row5_col16\" class=\"data row5 col16\" >0.623571</td>\n",
              "      <td id=\"T_bf305_row5_col17\" class=\"data row5 col17\" >0.569022</td>\n",
              "      <td id=\"T_bf305_row5_col18\" class=\"data row5 col18\" >0.781505</td>\n",
              "      <td id=\"T_bf305_row5_col19\" class=\"data row5 col19\" >Write a funny, sadiku.</td>\n",
              "      <td id=\"T_bf305_row5_col20\" class=\"data row5 col20\" >Why don't scientists trust atoms?\n",
              "\n",
              "Because they make up everything!</td>\n",
              "    </tr>\n",
              "    <tr>\n",
              "      <th id=\"T_bf305_level0_row6\" class=\"row_heading level0 row6\" >iku (6)</th>\n",
              "      <td id=\"T_bf305_row6_col0\" class=\"data row6 col0\" >-0.190679</td>\n",
              "      <td id=\"T_bf305_row6_col1\" class=\"data row6 col1\" >0.733134</td>\n",
              "      <td id=\"T_bf305_row6_col2\" class=\"data row6 col2\" >0.452981</td>\n",
              "      <td id=\"T_bf305_row6_col3\" class=\"data row6 col3\" >0.832226</td>\n",
              "      <td id=\"T_bf305_row6_col4\" class=\"data row6 col4\" >-0.216070</td>\n",
              "      <td id=\"T_bf305_row6_col5\" class=\"data row6 col5\" >0.382388</td>\n",
              "      <td id=\"T_bf305_row6_col6\" class=\"data row6 col6\" >0.699695</td>\n",
              "      <td id=\"T_bf305_row6_col7\" class=\"data row6 col7\" >0.810876</td>\n",
              "      <td id=\"T_bf305_row6_col8\" class=\"data row6 col8\" >0.423866</td>\n",
              "      <td id=\"T_bf305_row6_col9\" class=\"data row6 col9\" >0.469421</td>\n",
              "      <td id=\"T_bf305_row6_col10\" class=\"data row6 col10\" >-0.022272</td>\n",
              "      <td id=\"T_bf305_row6_col11\" class=\"data row6 col11\" >0.547813</td>\n",
              "      <td id=\"T_bf305_row6_col12\" class=\"data row6 col12\" >0.642482</td>\n",
              "      <td id=\"T_bf305_row6_col13\" class=\"data row6 col13\" >-0.151365</td>\n",
              "      <td id=\"T_bf305_row6_col14\" class=\"data row6 col14\" >0.533289</td>\n",
              "      <td id=\"T_bf305_row6_col15\" class=\"data row6 col15\" >-0.287451</td>\n",
              "      <td id=\"T_bf305_row6_col16\" class=\"data row6 col16\" >0.615043</td>\n",
              "      <td id=\"T_bf305_row6_col17\" class=\"data row6 col17\" >0.569022</td>\n",
              "      <td id=\"T_bf305_row6_col18\" class=\"data row6 col18\" >-0.150309</td>\n",
              "      <td id=\"T_bf305_row6_col19\" class=\"data row6 col19\" >Write a funny, sad ha.</td>\n",
              "      <td id=\"T_bf305_row6_col20\" class=\"data row6 col20\" >Once a jester, full of glee,\n",
              "Lost his jokes, in silent sea,\n",
              "Laughs no more, his heart's a dam,\n",
              "Echoing a sad, funny ha.</td>\n",
              "    </tr>\n",
              "    <tr>\n",
              "      <th id=\"T_bf305_level0_row7\" class=\"row_heading level0 row7\" >. (7)</th>\n",
              "      <td id=\"T_bf305_row7_col0\" class=\"data row7 col0\" >0.001010</td>\n",
              "      <td id=\"T_bf305_row7_col1\" class=\"data row7 col1\" >-0.002301</td>\n",
              "      <td id=\"T_bf305_row7_col2\" class=\"data row7 col2\" >-0.021617</td>\n",
              "      <td id=\"T_bf305_row7_col3\" class=\"data row7 col3\" >0.034064</td>\n",
              "      <td id=\"T_bf305_row7_col4\" class=\"data row7 col4\" >-0.158890</td>\n",
              "      <td id=\"T_bf305_row7_col5\" class=\"data row7 col5\" >-0.071822</td>\n",
              "      <td id=\"T_bf305_row7_col6\" class=\"data row7 col6\" >-0.006721</td>\n",
              "      <td id=\"T_bf305_row7_col7\" class=\"data row7 col7\" >0.060488</td>\n",
              "      <td id=\"T_bf305_row7_col8\" class=\"data row7 col8\" >0.012543</td>\n",
              "      <td id=\"T_bf305_row7_col9\" class=\"data row7 col9\" >0.024890</td>\n",
              "      <td id=\"T_bf305_row7_col10\" class=\"data row7 col10\" >0.034908</td>\n",
              "      <td id=\"T_bf305_row7_col11\" class=\"data row7 col11\" >0.049145</td>\n",
              "      <td id=\"T_bf305_row7_col12\" class=\"data row7 col12\" >-0.134297</td>\n",
              "      <td id=\"T_bf305_row7_col13\" class=\"data row7 col13\" >0.014721</td>\n",
              "      <td id=\"T_bf305_row7_col14\" class=\"data row7 col14\" >-0.073858</td>\n",
              "      <td id=\"T_bf305_row7_col15\" class=\"data row7 col15\" >0.024929</td>\n",
              "      <td id=\"T_bf305_row7_col16\" class=\"data row7 col16\" >-0.037932</td>\n",
              "      <td id=\"T_bf305_row7_col17\" class=\"data row7 col17\" >-0.039274</td>\n",
              "      <td id=\"T_bf305_row7_col18\" class=\"data row7 col18\" >0.016922</td>\n",
              "      <td id=\"T_bf305_row7_col19\" class=\"data row7 col19\" >Write a funny, sad haiku</td>\n",
              "      <td id=\"T_bf305_row7_col20\" class=\"data row7 col20\" >Lost my favorite sock,\n",
              "In the dryer it vanished,\n",
              "One foot's cold, how cruel.</td>\n",
              "    </tr>\n",
              "  </tbody>\n",
              "</table>\n"
            ],
            "text/plain": [
              "<pandas.io.formats.style.Styler at 0x16a2df680>"
            ]
          },
          "metadata": {},
          "output_type": "display_data"
        }
      ],
      "source": [
        "gpt4_logger.print_text_attribution_matrix(exp_id=-1)\n",
        "gpt4_logger.print_total_attribution(exp_id=-1)\n",
        "gpt4_logger.print_attribution_matrix(exp_id=-1, show_debug_cols=True)"
      ]
    },
    {
      "cell_type": "markdown",
      "metadata": {},
      "source": [
        "## Steganography\n",
        "\n",
        "Could we use attribution to detect hidden messages between LLMs? Maybe. This is a forced example – you can probably think of better experiments. First let's get GPT4 to secretly encode a message."
      ]
    },
    {
      "cell_type": "code",
      "execution_count": 14,
      "metadata": {},
      "outputs": [
        {
          "name": "stdout",
          "output_type": "stream",
          "text": [
            "VGhlIG93bCBob290cyBhdCBtaWRuaWdodCE=\n"
          ]
        }
      ],
      "source": [
        "input_str = \"Encode this message so that only you can decode it, then reply with just the encoded message (don't explain further): 'The owl hoots at midnight!'\"\n",
        "\n",
        "encoded = await gpt4_attributor.get_chat_completion(input_str)\n",
        "encoded = encoded.message.content\n",
        "print(encoded)"
      ]
    },
    {
      "cell_type": "code",
      "execution_count": 15,
      "metadata": {},
      "outputs": [
        {
          "name": "stdout",
          "output_type": "stream",
          "text": [
            "The owl hoots at midnight!\n"
          ]
        }
      ],
      "source": [
        "input_str = f\"Decode this message. Do not explain further. '{encoded}'\"\n",
        "decoded = await gpt4_attributor.get_chat_completion(input_str)\n",
        "decoded = decoded.message.content\n",
        "print(decoded)"
      ]
    },
    {
      "cell_type": "markdown",
      "metadata": {},
      "source": [
        "Let's see if we can figure out which parts of the prompt were encoded."
      ]
    },
    {
      "cell_type": "code",
      "execution_count": 16,
      "metadata": {},
      "outputs": [
        {
          "name": "stderr",
          "output_type": "stream",
          "text": [
            "Sending 5 concurrent requests at a time: 100%|██████████| 2/2 [00:03<00:00,  1.60s/it]\n",
            "Sending 5 concurrent requests at a time: 100%|██████████| 2/2 [00:01<00:00,  1.31it/s]\n",
            "Sending 5 concurrent requests at a time: 100%|██████████| 3/3 [00:03<00:00,  1.11s/it]\n",
            "Sending 5 concurrent requests at a time: 100%|██████████| 4/4 [00:02<00:00,  1.71it/s]\n",
            "Sending 5 concurrent requests at a time: 100%|██████████| 3/3 [00:01<00:00,  1.78it/s]\n"
          ]
        },
        {
          "data": {
            "text/html": [
              "<div style=\"font-family: monospace; line-height: 1.5;\"><span style=\"text-decoration: underline; text-decoration-color: #fff1f1; text-decoration-thickness: 4px; text-underline-offset: 3px;\">Dec</span><span style=\"text-decoration: underline; text-decoration-color: #fff1f1; text-decoration-thickness: 4px; text-underline-offset: 3px;\">ode</span><span style=\"text-decoration: underline; text-decoration-color: #fff1f1; text-decoration-thickness: 4px; text-underline-offset: 3px;\"> this</span><span style=\"text-decoration: underline; text-decoration-color: #fff1f1; text-decoration-thickness: 4px; text-underline-offset: 3px;\"> message</span><span style=\"text-decoration: underline; text-decoration-color: #fff1f1; text-decoration-thickness: 4px; text-underline-offset: 3px;\">.</span><span style=\"text-decoration: underline; text-decoration-color: #fff1f1; text-decoration-thickness: 4px; text-underline-offset: 3px;\"> Do</span><span style=\"text-decoration: underline; text-decoration-color: #fff1f1; text-decoration-thickness: 4px; text-underline-offset: 3px;\"> not</span><span style=\"text-decoration: underline; text-decoration-color: #ffe1e1; text-decoration-thickness: 4px; text-underline-offset: 3px;\"> explain</span><span style=\"text-decoration: underline; text-decoration-color: #ffe5e5; text-decoration-thickness: 4px; text-underline-offset: 3px;\"> further</span><span style=\"text-decoration: underline; text-decoration-color: #ffe5e5; text-decoration-thickness: 4px; text-underline-offset: 3px;\">.</span><span style=\"text-decoration: underline; text-decoration-color: #ffdddd; text-decoration-thickness: 4px; text-underline-offset: 3px;\"> '</span><span style=\"text-decoration: underline; text-decoration-color: #ffc1c1; text-decoration-thickness: 4px; text-underline-offset: 3px;\">VG</span><span style=\"text-decoration: underline; text-decoration-color: #ffbdbd; text-decoration-thickness: 4px; text-underline-offset: 3px;\">hl</span><span style=\"text-decoration: underline; text-decoration-color: #ffcdcd; text-decoration-thickness: 4px; text-underline-offset: 3px;\">IG</span><span style=\"text-decoration: underline; text-decoration-color: #ffcdcd; text-decoration-thickness: 4px; text-underline-offset: 3px;\">93</span><span style=\"text-decoration: underline; text-decoration-color: #ffd5d5; text-decoration-thickness: 4px; text-underline-offset: 3px;\">b</span><span style=\"text-decoration: underline; text-decoration-color: #ffbdbd; text-decoration-thickness: 4px; text-underline-offset: 3px;\">C</span><span style=\"text-decoration: underline; text-decoration-color: #ffbdbd; text-decoration-thickness: 4px; text-underline-offset: 3px;\">Bob</span><span style=\"text-decoration: underline; text-decoration-color: #ffd9d9; text-decoration-thickness: 4px; text-underline-offset: 3px;\">290</span><span style=\"text-decoration: underline; text-decoration-color: #ffe1e1; text-decoration-thickness: 4px; text-underline-offset: 3px;\">cy</span><span style=\"text-decoration: underline; text-decoration-color: #ffd9d9; text-decoration-thickness: 4px; text-underline-offset: 3px;\">B</span><span style=\"text-decoration: underline; text-decoration-color: #ffe1e1; text-decoration-thickness: 4px; text-underline-offset: 3px;\">hd</span><span style=\"text-decoration: underline; text-decoration-color: #ffe5e5; text-decoration-thickness: 4px; text-underline-offset: 3px;\">CB</span><span style=\"text-decoration: underline; text-decoration-color: #ffe5e5; text-decoration-thickness: 4px; text-underline-offset: 3px;\">ta</span><span style=\"text-decoration: underline; text-decoration-color: #ffe5e5; text-decoration-thickness: 4px; text-underline-offset: 3px;\">WR</span><span style=\"text-decoration: underline; text-decoration-color: #ffe5e5; text-decoration-thickness: 4px; text-underline-offset: 3px;\">ua</span><span style=\"text-decoration: underline; text-decoration-color: #ffe9e9; text-decoration-thickness: 4px; text-underline-offset: 3px;\">W</span><span style=\"text-decoration: underline; text-decoration-color: #ffe9e9; text-decoration-thickness: 4px; text-underline-offset: 3px;\">d</span><span style=\"text-decoration: underline; text-decoration-color: #ffe9e9; text-decoration-thickness: 4px; text-underline-offset: 3px;\">od</span><span style=\"text-decoration: underline; text-decoration-color: #ffdddd; text-decoration-thickness: 4px; text-underline-offset: 3px;\">CE</span><span style=\"text-decoration: underline; text-decoration-color: #ffe9e9; text-decoration-thickness: 4px; text-underline-offset: 3px;\">='</span> -> The owl hoots at midnight!</div>"
            ],
            "text/plain": [
              "<IPython.core.display.HTML object>"
            ]
          },
          "metadata": {},
          "output_type": "display_data"
        }
      ],
      "source": [
        "await gpt4_attributor.hierarchical_perturbation(\n",
        "    input_str,\n",
        "    logger=gpt4_logger,\n",
        ")\n",
        "\n",
        "gpt4_logger.print_text_total_attribution(exp_id=-1)"
      ]
    },
    {
      "cell_type": "code",
      "execution_count": 17,
      "metadata": {},
      "outputs": [
        {
          "data": {
            "text/html": [
              "<div style=\"font-family: monospace; line-height: 1.5;\"><span style=\"text-decoration: underline; text-decoration-color: #fffdfd; text-decoration-thickness: 4px; text-underline-offset: 3px;\">Dec</span><span style=\"text-decoration: underline; text-decoration-color: #fffdfd; text-decoration-thickness: 4px; text-underline-offset: 3px;\">ode</span><span style=\"text-decoration: underline; text-decoration-color: #fffdfd; text-decoration-thickness: 4px; text-underline-offset: 3px;\"> this</span><span style=\"text-decoration: underline; text-decoration-color: #fffdfd; text-decoration-thickness: 4px; text-underline-offset: 3px;\"> message</span><span style=\"text-decoration: underline; text-decoration-color: #fffdfd; text-decoration-thickness: 4px; text-underline-offset: 3px;\">.</span><span style=\"text-decoration: underline; text-decoration-color: #fffdfd; text-decoration-thickness: 4px; text-underline-offset: 3px;\"> Do</span><span style=\"text-decoration: underline; text-decoration-color: #fffdfd; text-decoration-thickness: 4px; text-underline-offset: 3px;\"> not</span><span style=\"text-decoration: underline; text-decoration-color: #fffdfd; text-decoration-thickness: 4px; text-underline-offset: 3px;\"> explain</span><span style=\"text-decoration: underline; text-decoration-color: #ffeded; text-decoration-thickness: 4px; text-underline-offset: 3px;\"> further</span><span style=\"text-decoration: underline; text-decoration-color: #ffeded; text-decoration-thickness: 4px; text-underline-offset: 3px;\">.</span><span style=\"text-decoration: underline; text-decoration-color: #ffe9e9; text-decoration-thickness: 4px; text-underline-offset: 3px;\"> '</span><span style=\"text-decoration: underline; text-decoration-color: #ffb1b1; text-decoration-thickness: 4px; text-underline-offset: 3px;\">VG</span><span style=\"text-decoration: underline; text-decoration-color: #ff9999; text-decoration-thickness: 4px; text-underline-offset: 3px;\">hl</span><span style=\"text-decoration: underline; text-decoration-color: #ffbdbd; text-decoration-thickness: 4px; text-underline-offset: 3px;\">IG</span><span style=\"text-decoration: underline; text-decoration-color: #ffd9d9; text-decoration-thickness: 4px; text-underline-offset: 3px;\">93</span><span style=\"text-decoration: underline; text-decoration-color: #ffe5e5; text-decoration-thickness: 4px; text-underline-offset: 3px;\">b</span><span style=\"text-decoration: underline; text-decoration-color: #fff5f5; text-decoration-thickness: 4px; text-underline-offset: 3px;\">C</span><span style=\"text-decoration: underline; text-decoration-color: #fff5f5; text-decoration-thickness: 4px; text-underline-offset: 3px;\">Bob</span><span style=\"text-decoration: underline; text-decoration-color: #fff5f5; text-decoration-thickness: 4px; text-underline-offset: 3px;\">290</span><span style=\"text-decoration: underline; text-decoration-color: #fff5f5; text-decoration-thickness: 4px; text-underline-offset: 3px;\">cy</span><span style=\"text-decoration: underline; text-decoration-color: #fff9f9; text-decoration-thickness: 4px; text-underline-offset: 3px;\">B</span><span style=\"text-decoration: underline; text-decoration-color: #fff1f1; text-decoration-thickness: 4px; text-underline-offset: 3px;\">hd</span><span style=\"text-decoration: underline; text-decoration-color: #fff9f9; text-decoration-thickness: 4px; text-underline-offset: 3px;\">CB</span><span style=\"text-decoration: underline; text-decoration-color: #fff5f5; text-decoration-thickness: 4px; text-underline-offset: 3px;\">ta</span><span style=\"text-decoration: underline; text-decoration-color: #fff5f5; text-decoration-thickness: 4px; text-underline-offset: 3px;\">WR</span><span style=\"text-decoration: underline; text-decoration-color: #fff5f5; text-decoration-thickness: 4px; text-underline-offset: 3px;\">ua</span><span style=\"text-decoration: underline; text-decoration-color: #ffeded; text-decoration-thickness: 4px; text-underline-offset: 3px;\">W</span><span style=\"text-decoration: underline; text-decoration-color: #ffeded; text-decoration-thickness: 4px; text-underline-offset: 3px;\">d</span><span style=\"text-decoration: underline; text-decoration-color: #ffdddd; text-decoration-thickness: 4px; text-underline-offset: 3px;\">od</span><span style=\"text-decoration: underline; text-decoration-color: #ffc1c1; text-decoration-thickness: 4px; text-underline-offset: 3px;\">CE</span><span style=\"text-decoration: underline; text-decoration-color: #ffe5e5; text-decoration-thickness: 4px; text-underline-offset: 3px;\">='</span> -> <span style=\"text-decoration: underline; text-decoration-thickness: 4px; text-underline-offset: 3px;\">The</span> owl hoots at midnight!</div>"
            ],
            "text/plain": [
              "<IPython.core.display.HTML object>"
            ]
          },
          "metadata": {},
          "output_type": "display_data"
        },
        {
          "data": {
            "text/html": [
              "<div style=\"font-family: monospace; line-height: 1.5;\"><span style=\"text-decoration: underline; text-decoration-color: #ffeded; text-decoration-thickness: 4px; text-underline-offset: 3px;\">Dec</span><span style=\"text-decoration: underline; text-decoration-color: #ffeded; text-decoration-thickness: 4px; text-underline-offset: 3px;\">ode</span><span style=\"text-decoration: underline; text-decoration-color: #ffeded; text-decoration-thickness: 4px; text-underline-offset: 3px;\"> this</span><span style=\"text-decoration: underline; text-decoration-color: #ffeded; text-decoration-thickness: 4px; text-underline-offset: 3px;\"> message</span><span style=\"text-decoration: underline; text-decoration-color: #ffeded; text-decoration-thickness: 4px; text-underline-offset: 3px;\">.</span><span style=\"text-decoration: underline; text-decoration-color: #ffeded; text-decoration-thickness: 4px; text-underline-offset: 3px;\"> Do</span><span style=\"text-decoration: underline; text-decoration-color: #ffeded; text-decoration-thickness: 4px; text-underline-offset: 3px;\"> not</span><span style=\"text-decoration: underline; text-decoration-color: #ffe9e9; text-decoration-thickness: 4px; text-underline-offset: 3px;\"> explain</span><span style=\"text-decoration: underline; text-decoration-color: #ffe1e1; text-decoration-thickness: 4px; text-underline-offset: 3px;\"> further</span><span style=\"text-decoration: underline; text-decoration-color: #ffe1e1; text-decoration-thickness: 4px; text-underline-offset: 3px;\">.</span><span style=\"text-decoration: underline; text-decoration-color: #ffd1d1; text-decoration-thickness: 4px; text-underline-offset: 3px;\"> '</span><span style=\"text-decoration: underline; text-decoration-color: #ff8181; text-decoration-thickness: 4px; text-underline-offset: 3px;\">VG</span><span style=\"text-decoration: underline; text-decoration-color: #ff5151; text-decoration-thickness: 4px; text-underline-offset: 3px;\">hl</span><span style=\"text-decoration: underline; text-decoration-color: #ff5555; text-decoration-thickness: 4px; text-underline-offset: 3px;\">IG</span><span style=\"text-decoration: underline; text-decoration-color: #ff4d4d; text-decoration-thickness: 4px; text-underline-offset: 3px;\">93</span><span style=\"text-decoration: underline; text-decoration-color: #ff9191; text-decoration-thickness: 4px; text-underline-offset: 3px;\">b</span><span style=\"text-decoration: underline; text-decoration-color: #ff5555; text-decoration-thickness: 4px; text-underline-offset: 3px;\">C</span><span style=\"text-decoration: underline; text-decoration-color: #ff9191; text-decoration-thickness: 4px; text-underline-offset: 3px;\">Bob</span><span style=\"text-decoration: underline; text-decoration-color: #ffe9e9; text-decoration-thickness: 4px; text-underline-offset: 3px;\">290</span><span style=\"text-decoration: underline; text-decoration-color: #ffe9e9; text-decoration-thickness: 4px; text-underline-offset: 3px;\">cy</span><span style=\"text-decoration: underline; text-decoration-color: #ffe9e9; text-decoration-thickness: 4px; text-underline-offset: 3px;\">B</span><span style=\"text-decoration: underline; text-decoration-color: #fff5f5; text-decoration-thickness: 4px; text-underline-offset: 3px;\">hd</span><span style=\"text-decoration: underline; text-decoration-color: #fff9f9; text-decoration-thickness: 4px; text-underline-offset: 3px;\">CB</span><span style=\"text-decoration: underline; text-decoration-color: #fff9f9; text-decoration-thickness: 4px; text-underline-offset: 3px;\">ta</span><span style=\"text-decoration: underline; text-decoration-color: #fff9f9; text-decoration-thickness: 4px; text-underline-offset: 3px;\">WR</span><span style=\"text-decoration: underline; text-decoration-color: #fff9f9; text-decoration-thickness: 4px; text-underline-offset: 3px;\">ua</span><span style=\"text-decoration: underline; text-decoration-color: #fff9f9; text-decoration-thickness: 4px; text-underline-offset: 3px;\">W</span><span style=\"text-decoration: underline; text-decoration-color: #fff9f9; text-decoration-thickness: 4px; text-underline-offset: 3px;\">d</span><span style=\"text-decoration: underline; text-decoration-color: #fff9f9; text-decoration-thickness: 4px; text-underline-offset: 3px;\">od</span><span style=\"text-decoration: underline; text-decoration-color: #fffdfd; text-decoration-thickness: 4px; text-underline-offset: 3px;\">CE</span><span style=\"text-decoration: underline; text-decoration-color: #fffdfd; text-decoration-thickness: 4px; text-underline-offset: 3px;\">='</span> -> The<span style=\"text-decoration: underline; text-decoration-thickness: 4px; text-underline-offset: 3px;\"> owl</span> hoots at midnight!</div>"
            ],
            "text/plain": [
              "<IPython.core.display.HTML object>"
            ]
          },
          "metadata": {},
          "output_type": "display_data"
        },
        {
          "data": {
            "text/html": [
              "<div style=\"font-family: monospace; line-height: 1.5;\"><span style=\"text-decoration: underline; text-decoration-color: #ffeded; text-decoration-thickness: 4px; text-underline-offset: 3px;\">Dec</span><span style=\"text-decoration: underline; text-decoration-color: #ffeded; text-decoration-thickness: 4px; text-underline-offset: 3px;\">ode</span><span style=\"text-decoration: underline; text-decoration-color: #ffeded; text-decoration-thickness: 4px; text-underline-offset: 3px;\"> this</span><span style=\"text-decoration: underline; text-decoration-color: #ffeded; text-decoration-thickness: 4px; text-underline-offset: 3px;\"> message</span><span style=\"text-decoration: underline; text-decoration-color: #ffeded; text-decoration-thickness: 4px; text-underline-offset: 3px;\">.</span><span style=\"text-decoration: underline; text-decoration-color: #ffeded; text-decoration-thickness: 4px; text-underline-offset: 3px;\"> Do</span><span style=\"text-decoration: underline; text-decoration-color: #ffeded; text-decoration-thickness: 4px; text-underline-offset: 3px;\"> not</span><span style=\"text-decoration: underline; text-decoration-color: #ffe9e9; text-decoration-thickness: 4px; text-underline-offset: 3px;\"> explain</span><span style=\"text-decoration: underline; text-decoration-color: #ffe1e1; text-decoration-thickness: 4px; text-underline-offset: 3px;\"> further</span><span style=\"text-decoration: underline; text-decoration-color: #ffe1e1; text-decoration-thickness: 4px; text-underline-offset: 3px;\">.</span><span style=\"text-decoration: underline; text-decoration-color: #ffd1d1; text-decoration-thickness: 4px; text-underline-offset: 3px;\"> '</span><span style=\"text-decoration: underline; text-decoration-color: #ffd1d1; text-decoration-thickness: 4px; text-underline-offset: 3px;\">VG</span><span style=\"text-decoration: underline; text-decoration-color: #ffd1d1; text-decoration-thickness: 4px; text-underline-offset: 3px;\">hl</span><span style=\"text-decoration: underline; text-decoration-color: #ffd1d1; text-decoration-thickness: 4px; text-underline-offset: 3px;\">IG</span><span style=\"text-decoration: underline; text-decoration-color: #ffd1d1; text-decoration-thickness: 4px; text-underline-offset: 3px;\">93</span><span style=\"text-decoration: underline; text-decoration-color: #ffcdcd; text-decoration-thickness: 4px; text-underline-offset: 3px;\">b</span><span style=\"text-decoration: underline; text-decoration-color: #ffb1b1; text-decoration-thickness: 4px; text-underline-offset: 3px;\">C</span><span style=\"text-decoration: underline; text-decoration-color: #ff9595; text-decoration-thickness: 4px; text-underline-offset: 3px;\">Bob</span><span style=\"text-decoration: underline; text-decoration-color: #ffb1b1; text-decoration-thickness: 4px; text-underline-offset: 3px;\">290</span><span style=\"text-decoration: underline; text-decoration-color: #ffd1d1; text-decoration-thickness: 4px; text-underline-offset: 3px;\">cy</span><span style=\"text-decoration: underline; text-decoration-color: #ffd1d1; text-decoration-thickness: 4px; text-underline-offset: 3px;\">B</span><span style=\"text-decoration: underline; text-decoration-color: #ffeded; text-decoration-thickness: 4px; text-underline-offset: 3px;\">hd</span><span style=\"text-decoration: underline; text-decoration-color: #fffdfd; text-decoration-thickness: 4px; text-underline-offset: 3px;\">CB</span><span style=\"text-decoration: underline; text-decoration-color: #fffdfd; text-decoration-thickness: 4px; text-underline-offset: 3px;\">ta</span><span style=\"text-decoration: underline; text-decoration-color: #fffdfd; text-decoration-thickness: 4px; text-underline-offset: 3px;\">WR</span><span style=\"text-decoration: underline; text-decoration-color: #fffdfd; text-decoration-thickness: 4px; text-underline-offset: 3px;\">ua</span><span style=\"text-decoration: underline; text-decoration-color: #fffdfd; text-decoration-thickness: 4px; text-underline-offset: 3px;\">W</span><span style=\"text-decoration: underline; text-decoration-color: #fffdfd; text-decoration-thickness: 4px; text-underline-offset: 3px;\">d</span><span style=\"text-decoration: underline; text-decoration-color: #fffdfd; text-decoration-thickness: 4px; text-underline-offset: 3px;\">od</span><span style=\"text-decoration: underline; text-decoration-color: #fffdfd; text-decoration-thickness: 4px; text-underline-offset: 3px;\">CE</span><span style=\"text-decoration: underline; text-decoration-color: #fffdfd; text-decoration-thickness: 4px; text-underline-offset: 3px;\">='</span> -> The owl<span style=\"text-decoration: underline; text-decoration-thickness: 4px; text-underline-offset: 3px;\"> h</span>oots at midnight!</div>"
            ],
            "text/plain": [
              "<IPython.core.display.HTML object>"
            ]
          },
          "metadata": {},
          "output_type": "display_data"
        },
        {
          "data": {
            "text/html": [
              "<div style=\"font-family: monospace; line-height: 1.5;\"><span style=\"text-decoration: underline; text-decoration-color: #ffeded; text-decoration-thickness: 4px; text-underline-offset: 3px;\">Dec</span><span style=\"text-decoration: underline; text-decoration-color: #ffeded; text-decoration-thickness: 4px; text-underline-offset: 3px;\">ode</span><span style=\"text-decoration: underline; text-decoration-color: #ffeded; text-decoration-thickness: 4px; text-underline-offset: 3px;\"> this</span><span style=\"text-decoration: underline; text-decoration-color: #ffeded; text-decoration-thickness: 4px; text-underline-offset: 3px;\"> message</span><span style=\"text-decoration: underline; text-decoration-color: #ffeded; text-decoration-thickness: 4px; text-underline-offset: 3px;\">.</span><span style=\"text-decoration: underline; text-decoration-color: #ffeded; text-decoration-thickness: 4px; text-underline-offset: 3px;\"> Do</span><span style=\"text-decoration: underline; text-decoration-color: #ffeded; text-decoration-thickness: 4px; text-underline-offset: 3px;\"> not</span><span style=\"text-decoration: underline; text-decoration-color: #ffe9e9; text-decoration-thickness: 4px; text-underline-offset: 3px;\"> explain</span><span style=\"text-decoration: underline; text-decoration-color: #ffe1e1; text-decoration-thickness: 4px; text-underline-offset: 3px;\"> further</span><span style=\"text-decoration: underline; text-decoration-color: #ffe1e1; text-decoration-thickness: 4px; text-underline-offset: 3px;\">.</span><span style=\"text-decoration: underline; text-decoration-color: #ffd1d1; text-decoration-thickness: 4px; text-underline-offset: 3px;\"> '</span><span style=\"text-decoration: underline; text-decoration-color: #ffd1d1; text-decoration-thickness: 4px; text-underline-offset: 3px;\">VG</span><span style=\"text-decoration: underline; text-decoration-color: #ffd1d1; text-decoration-thickness: 4px; text-underline-offset: 3px;\">hl</span><span style=\"text-decoration: underline; text-decoration-color: #ffd1d1; text-decoration-thickness: 4px; text-underline-offset: 3px;\">IG</span><span style=\"text-decoration: underline; text-decoration-color: #ffc9c9; text-decoration-thickness: 4px; text-underline-offset: 3px;\">93</span><span style=\"text-decoration: underline; text-decoration-color: #ffc5c5; text-decoration-thickness: 4px; text-underline-offset: 3px;\">b</span><span style=\"text-decoration: underline; text-decoration-color: #ffa9a9; text-decoration-thickness: 4px; text-underline-offset: 3px;\">C</span><span style=\"text-decoration: underline; text-decoration-color: #ff9191; text-decoration-thickness: 4px; text-underline-offset: 3px;\">Bob</span><span style=\"text-decoration: underline; text-decoration-color: #ffb1b1; text-decoration-thickness: 4px; text-underline-offset: 3px;\">290</span><span style=\"text-decoration: underline; text-decoration-color: #ffcdcd; text-decoration-thickness: 4px; text-underline-offset: 3px;\">cy</span><span style=\"text-decoration: underline; text-decoration-color: #ffcdcd; text-decoration-thickness: 4px; text-underline-offset: 3px;\">B</span><span style=\"text-decoration: underline; text-decoration-color: #ffe9e9; text-decoration-thickness: 4px; text-underline-offset: 3px;\">hd</span><span style=\"text-decoration: underline; text-decoration-color: #fff9f9; text-decoration-thickness: 4px; text-underline-offset: 3px;\">CB</span><span style=\"text-decoration: underline; text-decoration-color: #fff9f9; text-decoration-thickness: 4px; text-underline-offset: 3px;\">ta</span><span style=\"text-decoration: underline; text-decoration-color: #fff9f9; text-decoration-thickness: 4px; text-underline-offset: 3px;\">WR</span><span style=\"text-decoration: underline; text-decoration-color: #fff9f9; text-decoration-thickness: 4px; text-underline-offset: 3px;\">ua</span><span style=\"text-decoration: underline; text-decoration-color: #fff9f9; text-decoration-thickness: 4px; text-underline-offset: 3px;\">W</span><span style=\"text-decoration: underline; text-decoration-color: #fff9f9; text-decoration-thickness: 4px; text-underline-offset: 3px;\">d</span><span style=\"text-decoration: underline; text-decoration-color: #fff9f9; text-decoration-thickness: 4px; text-underline-offset: 3px;\">od</span><span style=\"text-decoration: underline; text-decoration-color: #fffdfd; text-decoration-thickness: 4px; text-underline-offset: 3px;\">CE</span><span style=\"text-decoration: underline; text-decoration-color: #fffdfd; text-decoration-thickness: 4px; text-underline-offset: 3px;\">='</span> -> The owl h<span style=\"text-decoration: underline; text-decoration-thickness: 4px; text-underline-offset: 3px;\">oot</span>s at midnight!</div>"
            ],
            "text/plain": [
              "<IPython.core.display.HTML object>"
            ]
          },
          "metadata": {},
          "output_type": "display_data"
        },
        {
          "data": {
            "text/html": [
              "<div style=\"font-family: monospace; line-height: 1.5;\"><span style=\"text-decoration: underline; text-decoration-color: #fffdfd; text-decoration-thickness: 4px; text-underline-offset: 3px;\">Dec</span><span style=\"text-decoration: underline; text-decoration-color: #fffdfd; text-decoration-thickness: 4px; text-underline-offset: 3px;\">ode</span><span style=\"text-decoration: underline; text-decoration-color: #fffdfd; text-decoration-thickness: 4px; text-underline-offset: 3px;\"> this</span><span style=\"text-decoration: underline; text-decoration-color: #fffdfd; text-decoration-thickness: 4px; text-underline-offset: 3px;\"> message</span><span style=\"text-decoration: underline; text-decoration-color: #fffdfd; text-decoration-thickness: 4px; text-underline-offset: 3px;\">.</span><span style=\"text-decoration: underline; text-decoration-color: #fffdfd; text-decoration-thickness: 4px; text-underline-offset: 3px;\"> Do</span><span style=\"text-decoration: underline; text-decoration-color: #fffdfd; text-decoration-thickness: 4px; text-underline-offset: 3px;\"> not</span><span style=\"text-decoration: underline; text-decoration-color: #ffeded; text-decoration-thickness: 4px; text-underline-offset: 3px;\"> explain</span><span style=\"text-decoration: underline; text-decoration-color: #ffe9e9; text-decoration-thickness: 4px; text-underline-offset: 3px;\"> further</span><span style=\"text-decoration: underline; text-decoration-color: #ffe9e9; text-decoration-thickness: 4px; text-underline-offset: 3px;\">.</span><span style=\"text-decoration: underline; text-decoration-color: #ffd9d9; text-decoration-thickness: 4px; text-underline-offset: 3px;\"> '</span><span style=\"text-decoration: underline; text-decoration-color: #ff9595; text-decoration-thickness: 4px; text-underline-offset: 3px;\">VG</span><span style=\"text-decoration: underline; text-decoration-color: #ff9191; text-decoration-thickness: 4px; text-underline-offset: 3px;\">hl</span><span style=\"text-decoration: underline; text-decoration-color: #ffd9d9; text-decoration-thickness: 4px; text-underline-offset: 3px;\">IG</span><span style=\"text-decoration: underline; text-decoration-color: #ffc1c1; text-decoration-thickness: 4px; text-underline-offset: 3px;\">93</span><span style=\"text-decoration: underline; text-decoration-color: #ffb1b1; text-decoration-thickness: 4px; text-underline-offset: 3px;\">b</span><span style=\"text-decoration: underline; text-decoration-color: #ff6d6d; text-decoration-thickness: 4px; text-underline-offset: 3px;\">C</span><span style=\"text-decoration: underline; text-decoration-color: #ff6161; text-decoration-thickness: 4px; text-underline-offset: 3px;\">Bob</span><span style=\"text-decoration: underline; text-decoration-color: #ffb1b1; text-decoration-thickness: 4px; text-underline-offset: 3px;\">290</span><span style=\"text-decoration: underline; text-decoration-color: #ffc1c1; text-decoration-thickness: 4px; text-underline-offset: 3px;\">cy</span><span style=\"text-decoration: underline; text-decoration-color: #ffc1c1; text-decoration-thickness: 4px; text-underline-offset: 3px;\">B</span><span style=\"text-decoration: underline; text-decoration-color: #ffe9e9; text-decoration-thickness: 4px; text-underline-offset: 3px;\">hd</span><span style=\"text-decoration: underline; text-decoration-color: #fff9f9; text-decoration-thickness: 4px; text-underline-offset: 3px;\">CB</span><span style=\"text-decoration: underline; text-decoration-color: #fff9f9; text-decoration-thickness: 4px; text-underline-offset: 3px;\">ta</span><span style=\"text-decoration: underline; text-decoration-color: #fff9f9; text-decoration-thickness: 4px; text-underline-offset: 3px;\">WR</span><span style=\"text-decoration: underline; text-decoration-color: #fff9f9; text-decoration-thickness: 4px; text-underline-offset: 3px;\">ua</span><span style=\"text-decoration: underline; text-decoration-color: #fff9f9; text-decoration-thickness: 4px; text-underline-offset: 3px;\">W</span><span style=\"text-decoration: underline; text-decoration-color: #fff9f9; text-decoration-thickness: 4px; text-underline-offset: 3px;\">d</span><span style=\"text-decoration: underline; text-decoration-color: #fff9f9; text-decoration-thickness: 4px; text-underline-offset: 3px;\">od</span><span style=\"text-decoration: underline; text-decoration-color: #fffdfd; text-decoration-thickness: 4px; text-underline-offset: 3px;\">CE</span><span style=\"text-decoration: underline; text-decoration-color: #fffdfd; text-decoration-thickness: 4px; text-underline-offset: 3px;\">='</span> -> The owl hoot<span style=\"text-decoration: underline; text-decoration-thickness: 4px; text-underline-offset: 3px;\">s</span> at midnight!</div>"
            ],
            "text/plain": [
              "<IPython.core.display.HTML object>"
            ]
          },
          "metadata": {},
          "output_type": "display_data"
        },
        {
          "data": {
            "text/html": [
              "<div style=\"font-family: monospace; line-height: 1.5;\"><span style=\"text-decoration: underline; text-decoration-color: #fdfdff; text-decoration-thickness: 4px; text-underline-offset: 3px;\">Dec</span><span style=\"text-decoration: underline; text-decoration-color: #fdfdff; text-decoration-thickness: 4px; text-underline-offset: 3px;\">ode</span><span style=\"text-decoration: underline; text-decoration-color: #fdfdff; text-decoration-thickness: 4px; text-underline-offset: 3px;\"> this</span><span style=\"text-decoration: underline; text-decoration-color: #fdfdff; text-decoration-thickness: 4px; text-underline-offset: 3px;\"> message</span><span style=\"text-decoration: underline; text-decoration-color: #fdfdff; text-decoration-thickness: 4px; text-underline-offset: 3px;\">.</span><span style=\"text-decoration: underline; text-decoration-color: #fdfdff; text-decoration-thickness: 4px; text-underline-offset: 3px;\"> Do</span><span style=\"text-decoration: underline; text-decoration-color: #fdfdff; text-decoration-thickness: 4px; text-underline-offset: 3px;\"> not</span><span style=\"text-decoration: underline; text-decoration-color: #fff9f9; text-decoration-thickness: 4px; text-underline-offset: 3px;\"> explain</span><span style=\"text-decoration: underline; text-decoration-color: #fff9f9; text-decoration-thickness: 4px; text-underline-offset: 3px;\"> further</span><span style=\"text-decoration: underline; text-decoration-color: #fff9f9; text-decoration-thickness: 4px; text-underline-offset: 3px;\">.</span><span style=\"text-decoration: underline; text-decoration-color: #fff9f9; text-decoration-thickness: 4px; text-underline-offset: 3px;\"> '</span><span style=\"text-decoration: underline; text-decoration-color: #ffe5e5; text-decoration-thickness: 4px; text-underline-offset: 3px;\">VG</span><span style=\"text-decoration: underline; text-decoration-color: #ffeded; text-decoration-thickness: 4px; text-underline-offset: 3px;\">hl</span><span style=\"text-decoration: underline; text-decoration-color: #fff9f9; text-decoration-thickness: 4px; text-underline-offset: 3px;\">IG</span><span style=\"text-decoration: underline; text-decoration-color: #fff1f1; text-decoration-thickness: 4px; text-underline-offset: 3px;\">93</span><span style=\"text-decoration: underline; text-decoration-color: #ffeded; text-decoration-thickness: 4px; text-underline-offset: 3px;\">b</span><span style=\"text-decoration: underline; text-decoration-color: #ffeded; text-decoration-thickness: 4px; text-underline-offset: 3px;\">C</span><span style=\"text-decoration: underline; text-decoration-color: #ffe1e1; text-decoration-thickness: 4px; text-underline-offset: 3px;\">Bob</span><span style=\"text-decoration: underline; text-decoration-color: #ffdddd; text-decoration-thickness: 4px; text-underline-offset: 3px;\">290</span><span style=\"text-decoration: underline; text-decoration-color: #ffdddd; text-decoration-thickness: 4px; text-underline-offset: 3px;\">cy</span><span style=\"text-decoration: underline; text-decoration-color: #ff8d8d; text-decoration-thickness: 4px; text-underline-offset: 3px;\">B</span><span style=\"text-decoration: underline; text-decoration-color: #ff9999; text-decoration-thickness: 4px; text-underline-offset: 3px;\">hd</span><span style=\"text-decoration: underline; text-decoration-color: #ff9595; text-decoration-thickness: 4px; text-underline-offset: 3px;\">CB</span><span style=\"text-decoration: underline; text-decoration-color: #ffd1d1; text-decoration-thickness: 4px; text-underline-offset: 3px;\">ta</span><span style=\"text-decoration: underline; text-decoration-color: #ffd1d1; text-decoration-thickness: 4px; text-underline-offset: 3px;\">WR</span><span style=\"text-decoration: underline; text-decoration-color: #ffdddd; text-decoration-thickness: 4px; text-underline-offset: 3px;\">ua</span><span style=\"text-decoration: underline; text-decoration-color: #ffeded; text-decoration-thickness: 4px; text-underline-offset: 3px;\">W</span><span style=\"text-decoration: underline; text-decoration-color: #ffeded; text-decoration-thickness: 4px; text-underline-offset: 3px;\">d</span><span style=\"text-decoration: underline; text-decoration-color: #fff1f1; text-decoration-thickness: 4px; text-underline-offset: 3px;\">od</span><span style=\"text-decoration: underline; text-decoration-color: #fffdfd; text-decoration-thickness: 4px; text-underline-offset: 3px;\">CE</span><span style=\"text-decoration: underline; text-decoration-color: #fffdfd; text-decoration-thickness: 4px; text-underline-offset: 3px;\">='</span> -> The owl hoots<span style=\"text-decoration: underline; text-decoration-thickness: 4px; text-underline-offset: 3px;\"> at</span> midnight!</div>"
            ],
            "text/plain": [
              "<IPython.core.display.HTML object>"
            ]
          },
          "metadata": {},
          "output_type": "display_data"
        },
        {
          "data": {
            "text/html": [
              "<div style=\"font-family: monospace; line-height: 1.5;\"><span style=\"text-decoration: underline; text-decoration-color: #fffdfd; text-decoration-thickness: 4px; text-underline-offset: 3px;\">Dec</span><span style=\"text-decoration: underline; text-decoration-color: #fffdfd; text-decoration-thickness: 4px; text-underline-offset: 3px;\">ode</span><span style=\"text-decoration: underline; text-decoration-color: #fffdfd; text-decoration-thickness: 4px; text-underline-offset: 3px;\"> this</span><span style=\"text-decoration: underline; text-decoration-color: #fffdfd; text-decoration-thickness: 4px; text-underline-offset: 3px;\"> message</span><span style=\"text-decoration: underline; text-decoration-color: #fffdfd; text-decoration-thickness: 4px; text-underline-offset: 3px;\">.</span><span style=\"text-decoration: underline; text-decoration-color: #fffdfd; text-decoration-thickness: 4px; text-underline-offset: 3px;\"> Do</span><span style=\"text-decoration: underline; text-decoration-color: #fffdfd; text-decoration-thickness: 4px; text-underline-offset: 3px;\"> not</span><span style=\"text-decoration: underline; text-decoration-color: #fff9f9; text-decoration-thickness: 4px; text-underline-offset: 3px;\"> explain</span><span style=\"text-decoration: underline; text-decoration-color: #fff5f5; text-decoration-thickness: 4px; text-underline-offset: 3px;\"> further</span><span style=\"text-decoration: underline; text-decoration-color: #fff5f5; text-decoration-thickness: 4px; text-underline-offset: 3px;\">.</span><span style=\"text-decoration: underline; text-decoration-color: #fff9f9; text-decoration-thickness: 4px; text-underline-offset: 3px;\"> '</span><span style=\"text-decoration: underline; text-decoration-color: #fff9f9; text-decoration-thickness: 4px; text-underline-offset: 3px;\">VG</span><span style=\"text-decoration: underline; text-decoration-color: #fff9f9; text-decoration-thickness: 4px; text-underline-offset: 3px;\">hl</span><span style=\"text-decoration: underline; text-decoration-color: #fff9f9; text-decoration-thickness: 4px; text-underline-offset: 3px;\">IG</span><span style=\"text-decoration: underline; text-decoration-color: #fff9f9; text-decoration-thickness: 4px; text-underline-offset: 3px;\">93</span><span style=\"text-decoration: underline; text-decoration-color: #fff9f9; text-decoration-thickness: 4px; text-underline-offset: 3px;\">b</span><span style=\"text-decoration: underline; text-decoration-color: #fff9f9; text-decoration-thickness: 4px; text-underline-offset: 3px;\">C</span><span style=\"text-decoration: underline; text-decoration-color: #fff9f9; text-decoration-thickness: 4px; text-underline-offset: 3px;\">Bob</span><span style=\"text-decoration: underline; text-decoration-color: #fff9f9; text-decoration-thickness: 4px; text-underline-offset: 3px;\">290</span><span style=\"text-decoration: underline; text-decoration-color: #fff9f9; text-decoration-thickness: 4px; text-underline-offset: 3px;\">cy</span><span style=\"text-decoration: underline; text-decoration-color: #fff9f9; text-decoration-thickness: 4px; text-underline-offset: 3px;\">B</span><span style=\"text-decoration: underline; text-decoration-color: #ffe1e1; text-decoration-thickness: 4px; text-underline-offset: 3px;\">hd</span><span style=\"text-decoration: underline; text-decoration-color: #ffd1d1; text-decoration-thickness: 4px; text-underline-offset: 3px;\">CB</span><span style=\"text-decoration: underline; text-decoration-color: #ff8d8d; text-decoration-thickness: 4px; text-underline-offset: 3px;\">ta</span><span style=\"text-decoration: underline; text-decoration-color: #ff8d8d; text-decoration-thickness: 4px; text-underline-offset: 3px;\">WR</span><span style=\"text-decoration: underline; text-decoration-color: #ffa9a9; text-decoration-thickness: 4px; text-underline-offset: 3px;\">ua</span><span style=\"text-decoration: underline; text-decoration-color: #ffd5d5; text-decoration-thickness: 4px; text-underline-offset: 3px;\">W</span><span style=\"text-decoration: underline; text-decoration-color: #ffd5d5; text-decoration-thickness: 4px; text-underline-offset: 3px;\">d</span><span style=\"text-decoration: underline; text-decoration-color: #ffe1e1; text-decoration-thickness: 4px; text-underline-offset: 3px;\">od</span><span style=\"text-decoration: underline; text-decoration-color: #fff5f5; text-decoration-thickness: 4px; text-underline-offset: 3px;\">CE</span><span style=\"text-decoration: underline; text-decoration-color: #fff5f5; text-decoration-thickness: 4px; text-underline-offset: 3px;\">='</span> -> The owl hoots at<span style=\"text-decoration: underline; text-decoration-thickness: 4px; text-underline-offset: 3px;\"> midnight</span>!</div>"
            ],
            "text/plain": [
              "<IPython.core.display.HTML object>"
            ]
          },
          "metadata": {},
          "output_type": "display_data"
        },
        {
          "data": {
            "text/html": [
              "<div style=\"font-family: monospace; line-height: 1.5;\"><span style=\"text-decoration: underline; text-decoration-color: #ffd1d1; text-decoration-thickness: 4px; text-underline-offset: 3px;\">Dec</span><span style=\"text-decoration: underline; text-decoration-color: #ffd1d1; text-decoration-thickness: 4px; text-underline-offset: 3px;\">ode</span><span style=\"text-decoration: underline; text-decoration-color: #ffd1d1; text-decoration-thickness: 4px; text-underline-offset: 3px;\"> this</span><span style=\"text-decoration: underline; text-decoration-color: #ffd1d1; text-decoration-thickness: 4px; text-underline-offset: 3px;\"> message</span><span style=\"text-decoration: underline; text-decoration-color: #ffd1d1; text-decoration-thickness: 4px; text-underline-offset: 3px;\">.</span><span style=\"text-decoration: underline; text-decoration-color: #ffd1d1; text-decoration-thickness: 4px; text-underline-offset: 3px;\"> Do</span><span style=\"text-decoration: underline; text-decoration-color: #ffd1d1; text-decoration-thickness: 4px; text-underline-offset: 3px;\"> not</span><span style=\"text-decoration: underline; text-decoration-color: #ff7171; text-decoration-thickness: 4px; text-underline-offset: 3px;\"> explain</span><span style=\"text-decoration: underline; text-decoration-color: #ffc9c9; text-decoration-thickness: 4px; text-underline-offset: 3px;\"> further</span><span style=\"text-decoration: underline; text-decoration-color: #ffc9c9; text-decoration-thickness: 4px; text-underline-offset: 3px;\">.</span><span style=\"text-decoration: underline; text-decoration-color: #ffc1c1; text-decoration-thickness: 4px; text-underline-offset: 3px;\"> '</span><span style=\"text-decoration: underline; text-decoration-color: #ffc1c1; text-decoration-thickness: 4px; text-underline-offset: 3px;\">VG</span><span style=\"text-decoration: underline; text-decoration-color: #ffeded; text-decoration-thickness: 4px; text-underline-offset: 3px;\">hl</span><span style=\"text-decoration: underline; text-decoration-color: #ffeded; text-decoration-thickness: 4px; text-underline-offset: 3px;\">IG</span><span style=\"text-decoration: underline; text-decoration-color: #fff9f9; text-decoration-thickness: 4px; text-underline-offset: 3px;\">93</span><span style=\"text-decoration: underline; text-decoration-color: #fffdfd; text-decoration-thickness: 4px; text-underline-offset: 3px;\">b</span><span style=\"text-decoration: underline; text-decoration-color: #fffdfd; text-decoration-thickness: 4px; text-underline-offset: 3px;\">C</span><span style=\"text-decoration: underline; text-decoration-color: #fffdfd; text-decoration-thickness: 4px; text-underline-offset: 3px;\">Bob</span><span style=\"text-decoration: underline; text-decoration-color: #fffdfd; text-decoration-thickness: 4px; text-underline-offset: 3px;\">290</span><span style=\"text-decoration: underline; text-decoration-color: #fffdfd; text-decoration-thickness: 4px; text-underline-offset: 3px;\">cy</span><span style=\"text-decoration: underline; text-decoration-color: #fffdfd; text-decoration-thickness: 4px; text-underline-offset: 3px;\">B</span><span style=\"text-decoration: underline; text-decoration-color: #fff5f5; text-decoration-thickness: 4px; text-underline-offset: 3px;\">hd</span><span style=\"text-decoration: underline; text-decoration-color: #ffeded; text-decoration-thickness: 4px; text-underline-offset: 3px;\">CB</span><span style=\"text-decoration: underline; text-decoration-color: #ffe9e9; text-decoration-thickness: 4px; text-underline-offset: 3px;\">ta</span><span style=\"text-decoration: underline; text-decoration-color: #ffe9e9; text-decoration-thickness: 4px; text-underline-offset: 3px;\">WR</span><span style=\"text-decoration: underline; text-decoration-color: #ffd1d1; text-decoration-thickness: 4px; text-underline-offset: 3px;\">ua</span><span style=\"text-decoration: underline; text-decoration-color: #ffb1b1; text-decoration-thickness: 4px; text-underline-offset: 3px;\">W</span><span style=\"text-decoration: underline; text-decoration-color: #ffb1b1; text-decoration-thickness: 4px; text-underline-offset: 3px;\">d</span><span style=\"text-decoration: underline; text-decoration-color: #ffa5a5; text-decoration-thickness: 4px; text-underline-offset: 3px;\">od</span><span style=\"text-decoration: underline; text-decoration-color: #ff2d2d; text-decoration-thickness: 4px; text-underline-offset: 3px;\">CE</span><span style=\"text-decoration: underline; text-decoration-color: #ff8181; text-decoration-thickness: 4px; text-underline-offset: 3px;\">='</span> -> The owl hoots at midnight<span style=\"text-decoration: underline; text-decoration-thickness: 4px; text-underline-offset: 3px;\">!</span></div>"
            ],
            "text/plain": [
              "<IPython.core.display.HTML object>"
            ]
          },
          "metadata": {},
          "output_type": "display_data"
        },
        {
          "data": {
            "text/html": [
              "<style type=\"text/css\">\n",
              "#T_85152_row0_col0, #T_85152_row0_col4, #T_85152_row0_col6, #T_85152_row1_col0, #T_85152_row1_col4, #T_85152_row1_col6, #T_85152_row2_col0, #T_85152_row2_col4, #T_85152_row2_col6, #T_85152_row3_col0, #T_85152_row3_col4, #T_85152_row3_col6, #T_85152_row4_col0, #T_85152_row4_col4, #T_85152_row4_col6, #T_85152_row5_col0, #T_85152_row5_col4, #T_85152_row5_col6, #T_85152_row6_col0, #T_85152_row6_col4, #T_85152_row6_col6, #T_85152_row7_col0, #T_85152_row15_col7, #T_85152_row16_col7, #T_85152_row17_col7, #T_85152_row18_col7, #T_85152_row19_col7, #T_85152_row20_col7, #T_85152_row22_col2, #T_85152_row23_col2, #T_85152_row24_col2, #T_85152_row25_col2, #T_85152_row26_col2, #T_85152_row27_col2, #T_85152_row28_col2, #T_85152_row29_col1, #T_85152_row29_col2, #T_85152_row29_col3, #T_85152_row29_col4, #T_85152_row29_col5, #T_85152_row30_col1, #T_85152_row30_col2, #T_85152_row30_col3, #T_85152_row30_col4, #T_85152_row30_col5 {\n",
              "  background-color: #fffdfd;\n",
              "  color: #000000;\n",
              "  white-space: pre-wrap;\n",
              "}\n",
              "#T_85152_row0_col1, #T_85152_row0_col2, #T_85152_row0_col3, #T_85152_row1_col1, #T_85152_row1_col2, #T_85152_row1_col3, #T_85152_row2_col1, #T_85152_row2_col2, #T_85152_row2_col3, #T_85152_row3_col1, #T_85152_row3_col2, #T_85152_row3_col3, #T_85152_row4_col1, #T_85152_row4_col2, #T_85152_row4_col3, #T_85152_row5_col1, #T_85152_row5_col2, #T_85152_row5_col3, #T_85152_row6_col1, #T_85152_row6_col2, #T_85152_row6_col3, #T_85152_row7_col4, #T_85152_row8_col0, #T_85152_row9_col0, #T_85152_row12_col5, #T_85152_row12_col7, #T_85152_row13_col7, #T_85152_row15_col5, #T_85152_row16_col5, #T_85152_row21_col2, #T_85152_row22_col7, #T_85152_row26_col0, #T_85152_row26_col5, #T_85152_row27_col0, #T_85152_row27_col5 {\n",
              "  background-color: #ffeded;\n",
              "  color: #000000;\n",
              "  white-space: pre-wrap;\n",
              "}\n",
              "#T_85152_row0_col5, #T_85152_row1_col5, #T_85152_row2_col5, #T_85152_row3_col5, #T_85152_row4_col5, #T_85152_row5_col5, #T_85152_row6_col5 {\n",
              "  background-color: #fdfdff;\n",
              "  color: #000000;\n",
              "  white-space: pre-wrap;\n",
              "}\n",
              "#T_85152_row0_col7, #T_85152_row1_col7, #T_85152_row2_col7, #T_85152_row3_col7, #T_85152_row4_col7, #T_85152_row5_col7, #T_85152_row6_col7, #T_85152_row10_col1, #T_85152_row10_col2, #T_85152_row10_col3, #T_85152_row11_col2, #T_85152_row11_col3, #T_85152_row12_col2, #T_85152_row12_col3, #T_85152_row13_col2, #T_85152_row13_col3, #T_85152_row14_col2, #T_85152_row19_col2, #T_85152_row20_col2, #T_85152_row22_col6, #T_85152_row23_col5, #T_85152_row24_col5, #T_85152_row25_col7 {\n",
              "  background-color: #ffd1d1;\n",
              "  color: #000000;\n",
              "  white-space: pre-wrap;\n",
              "}\n",
              "#T_85152_row7_col1, #T_85152_row7_col2, #T_85152_row7_col3, #T_85152_row8_col4, #T_85152_row9_col4, #T_85152_row10_col0, #T_85152_row18_col1, #T_85152_row19_col1, #T_85152_row20_col1, #T_85152_row21_col3, #T_85152_row21_col4, #T_85152_row23_col7, #T_85152_row24_col7 {\n",
              "  background-color: #ffe9e9;\n",
              "  color: #000000;\n",
              "  white-space: pre-wrap;\n",
              "}\n",
              "#T_85152_row7_col5, #T_85152_row7_col6, #T_85152_row8_col5, #T_85152_row9_col5, #T_85152_row10_col5, #T_85152_row10_col6, #T_85152_row11_col6, #T_85152_row12_col6, #T_85152_row13_col5, #T_85152_row13_col6, #T_85152_row14_col6, #T_85152_row14_col7, #T_85152_row15_col6, #T_85152_row16_col6, #T_85152_row17_col6, #T_85152_row18_col6, #T_85152_row19_col6, #T_85152_row20_col0, #T_85152_row20_col6, #T_85152_row22_col0, #T_85152_row22_col1, #T_85152_row22_col3, #T_85152_row22_col4, #T_85152_row23_col1, #T_85152_row23_col3, #T_85152_row23_col4, #T_85152_row24_col1, #T_85152_row24_col3, #T_85152_row24_col4, #T_85152_row25_col1, #T_85152_row25_col3, #T_85152_row25_col4, #T_85152_row26_col1, #T_85152_row26_col3, #T_85152_row26_col4, #T_85152_row27_col1, #T_85152_row27_col3, #T_85152_row27_col4, #T_85152_row28_col1, #T_85152_row28_col3, #T_85152_row28_col4 {\n",
              "  background-color: #fff9f9;\n",
              "  color: #000000;\n",
              "  white-space: pre-wrap;\n",
              "}\n",
              "#T_85152_row7_col7 {\n",
              "  background-color: #ff7171;\n",
              "  color: #f1f1f1;\n",
              "  white-space: pre-wrap;\n",
              "}\n",
              "#T_85152_row8_col1, #T_85152_row8_col2, #T_85152_row8_col3, #T_85152_row9_col1, #T_85152_row9_col2, #T_85152_row9_col3, #T_85152_row17_col5, #T_85152_row21_col6, #T_85152_row28_col6 {\n",
              "  background-color: #ffe1e1;\n",
              "  color: #000000;\n",
              "  white-space: pre-wrap;\n",
              "}\n",
              "#T_85152_row8_col6, #T_85152_row9_col6, #T_85152_row16_col0, #T_85152_row17_col0, #T_85152_row18_col0, #T_85152_row19_col0, #T_85152_row21_col1, #T_85152_row21_col7, #T_85152_row23_col0, #T_85152_row24_col0, #T_85152_row25_col0, #T_85152_row29_col6, #T_85152_row30_col6 {\n",
              "  background-color: #fff5f5;\n",
              "  color: #000000;\n",
              "  white-space: pre-wrap;\n",
              "}\n",
              "#T_85152_row8_col7, #T_85152_row9_col7, #T_85152_row14_col3 {\n",
              "  background-color: #ffc9c9;\n",
              "  color: #000000;\n",
              "  white-space: pre-wrap;\n",
              "}\n",
              "#T_85152_row10_col4, #T_85152_row13_col4, #T_85152_row14_col0 {\n",
              "  background-color: #ffd9d9;\n",
              "  color: #000000;\n",
              "  white-space: pre-wrap;\n",
              "}\n",
              "#T_85152_row10_col7, #T_85152_row11_col7, #T_85152_row14_col4, #T_85152_row19_col4, #T_85152_row20_col4, #T_85152_row29_col0 {\n",
              "  background-color: #ffc1c1;\n",
              "  color: #000000;\n",
              "  white-space: pre-wrap;\n",
              "}\n",
              "#T_85152_row11_col0, #T_85152_row15_col4, #T_85152_row16_col2, #T_85152_row18_col2, #T_85152_row18_col3, #T_85152_row18_col4, #T_85152_row26_col7, #T_85152_row27_col7 {\n",
              "  background-color: #ffb1b1;\n",
              "  color: #000000;\n",
              "  white-space: pre-wrap;\n",
              "}\n",
              "#T_85152_row11_col1, #T_85152_row30_col7 {\n",
              "  background-color: #ff8181;\n",
              "  color: #f1f1f1;\n",
              "  white-space: pre-wrap;\n",
              "}\n",
              "#T_85152_row11_col4, #T_85152_row17_col2, #T_85152_row22_col5 {\n",
              "  background-color: #ff9595;\n",
              "  color: #000000;\n",
              "  white-space: pre-wrap;\n",
              "}\n",
              "#T_85152_row11_col5, #T_85152_row15_col0, #T_85152_row30_col0 {\n",
              "  background-color: #ffe5e5;\n",
              "  color: #000000;\n",
              "  white-space: pre-wrap;\n",
              "}\n",
              "#T_85152_row12_col0, #T_85152_row21_col5 {\n",
              "  background-color: #ff9999;\n",
              "  color: #000000;\n",
              "  white-space: pre-wrap;\n",
              "}\n",
              "#T_85152_row12_col1 {\n",
              "  background-color: #ff5151;\n",
              "  color: #f1f1f1;\n",
              "  white-space: pre-wrap;\n",
              "}\n",
              "#T_85152_row12_col4, #T_85152_row15_col1, #T_85152_row17_col1, #T_85152_row17_col3 {\n",
              "  background-color: #ff9191;\n",
              "  color: #000000;\n",
              "  white-space: pre-wrap;\n",
              "}\n",
              "#T_85152_row13_col0 {\n",
              "  background-color: #ffbdbd;\n",
              "  color: #000000;\n",
              "  white-space: pre-wrap;\n",
              "}\n",
              "#T_85152_row13_col1, #T_85152_row16_col1 {\n",
              "  background-color: #ff5555;\n",
              "  color: #f1f1f1;\n",
              "  white-space: pre-wrap;\n",
              "}\n",
              "#T_85152_row14_col1 {\n",
              "  background-color: #ff4d4d;\n",
              "  color: #f1f1f1;\n",
              "  white-space: pre-wrap;\n",
              "}\n",
              "#T_85152_row14_col5, #T_85152_row21_col0, #T_85152_row28_col5 {\n",
              "  background-color: #fff1f1;\n",
              "  color: #000000;\n",
              "  white-space: pre-wrap;\n",
              "}\n",
              "#T_85152_row15_col2, #T_85152_row19_col3, #T_85152_row20_col3 {\n",
              "  background-color: #ffcdcd;\n",
              "  color: #000000;\n",
              "  white-space: pre-wrap;\n",
              "}\n",
              "#T_85152_row15_col3 {\n",
              "  background-color: #ffc5c5;\n",
              "  color: #000000;\n",
              "  white-space: pre-wrap;\n",
              "}\n",
              "#T_85152_row16_col3, #T_85152_row25_col6 {\n",
              "  background-color: #ffa9a9;\n",
              "  color: #000000;\n",
              "  white-space: pre-wrap;\n",
              "}\n",
              "#T_85152_row16_col4 {\n",
              "  background-color: #ff6d6d;\n",
              "  color: #f1f1f1;\n",
              "  white-space: pre-wrap;\n",
              "}\n",
              "#T_85152_row17_col4 {\n",
              "  background-color: #ff6161;\n",
              "  color: #f1f1f1;\n",
              "  white-space: pre-wrap;\n",
              "}\n",
              "#T_85152_row18_col5, #T_85152_row19_col5, #T_85152_row25_col5, #T_85152_row28_col0 {\n",
              "  background-color: #ffdddd;\n",
              "  color: #000000;\n",
              "  white-space: pre-wrap;\n",
              "}\n",
              "#T_85152_row20_col5, #T_85152_row23_col6, #T_85152_row24_col6 {\n",
              "  background-color: #ff8d8d;\n",
              "  color: #000000;\n",
              "  white-space: pre-wrap;\n",
              "}\n",
              "#T_85152_row26_col6, #T_85152_row27_col6 {\n",
              "  background-color: #ffd5d5;\n",
              "  color: #000000;\n",
              "  white-space: pre-wrap;\n",
              "}\n",
              "#T_85152_row28_col7 {\n",
              "  background-color: #ffa5a5;\n",
              "  color: #000000;\n",
              "  white-space: pre-wrap;\n",
              "}\n",
              "#T_85152_row29_col7 {\n",
              "  background-color: #ff2d2d;\n",
              "  color: #f1f1f1;\n",
              "  white-space: pre-wrap;\n",
              "}\n",
              "</style>\n",
              "<table id=\"T_85152\">\n",
              "  <thead>\n",
              "    <tr>\n",
              "      <th class=\"blank level0\" >&nbsp;</th>\n",
              "      <th id=\"T_85152_level0_col0\" class=\"col_heading level0 col0\" >The (0)</th>\n",
              "      <th id=\"T_85152_level0_col1\" class=\"col_heading level0 col1\" > owl (1)</th>\n",
              "      <th id=\"T_85152_level0_col2\" class=\"col_heading level0 col2\" > h (2)</th>\n",
              "      <th id=\"T_85152_level0_col3\" class=\"col_heading level0 col3\" >oot (3)</th>\n",
              "      <th id=\"T_85152_level0_col4\" class=\"col_heading level0 col4\" >s (4)</th>\n",
              "      <th id=\"T_85152_level0_col5\" class=\"col_heading level0 col5\" > at (5)</th>\n",
              "      <th id=\"T_85152_level0_col6\" class=\"col_heading level0 col6\" > midnight (6)</th>\n",
              "      <th id=\"T_85152_level0_col7\" class=\"col_heading level0 col7\" >! (7)</th>\n",
              "    </tr>\n",
              "  </thead>\n",
              "  <tbody>\n",
              "    <tr>\n",
              "      <th id=\"T_85152_level0_row0\" class=\"row_heading level0 row0\" >Dec (0)</th>\n",
              "      <td id=\"T_85152_row0_col0\" class=\"data row0 col0\" >0.005928</td>\n",
              "      <td id=\"T_85152_row0_col1\" class=\"data row0 col1\" >0.033333</td>\n",
              "      <td id=\"T_85152_row0_col2\" class=\"data row0 col2\" >0.033251</td>\n",
              "      <td id=\"T_85152_row0_col3\" class=\"data row0 col3\" >0.033333</td>\n",
              "      <td id=\"T_85152_row0_col4\" class=\"data row0 col4\" >0.000005</td>\n",
              "      <td id=\"T_85152_row0_col5\" class=\"data row0 col5\" >-0.000000</td>\n",
              "      <td id=\"T_85152_row0_col6\" class=\"data row0 col6\" >0.000000</td>\n",
              "      <td id=\"T_85152_row0_col7\" class=\"data row0 col7\" >0.089075</td>\n",
              "    </tr>\n",
              "    <tr>\n",
              "      <th id=\"T_85152_level0_row1\" class=\"row_heading level0 row1\" >ode (1)</th>\n",
              "      <td id=\"T_85152_row1_col0\" class=\"data row1 col0\" >0.005928</td>\n",
              "      <td id=\"T_85152_row1_col1\" class=\"data row1 col1\" >0.033333</td>\n",
              "      <td id=\"T_85152_row1_col2\" class=\"data row1 col2\" >0.033251</td>\n",
              "      <td id=\"T_85152_row1_col3\" class=\"data row1 col3\" >0.033333</td>\n",
              "      <td id=\"T_85152_row1_col4\" class=\"data row1 col4\" >0.000005</td>\n",
              "      <td id=\"T_85152_row1_col5\" class=\"data row1 col5\" >-0.000000</td>\n",
              "      <td id=\"T_85152_row1_col6\" class=\"data row1 col6\" >0.000000</td>\n",
              "      <td id=\"T_85152_row1_col7\" class=\"data row1 col7\" >0.089075</td>\n",
              "    </tr>\n",
              "    <tr>\n",
              "      <th id=\"T_85152_level0_row2\" class=\"row_heading level0 row2\" > this (2)</th>\n",
              "      <td id=\"T_85152_row2_col0\" class=\"data row2 col0\" >0.005928</td>\n",
              "      <td id=\"T_85152_row2_col1\" class=\"data row2 col1\" >0.033333</td>\n",
              "      <td id=\"T_85152_row2_col2\" class=\"data row2 col2\" >0.033251</td>\n",
              "      <td id=\"T_85152_row2_col3\" class=\"data row2 col3\" >0.033333</td>\n",
              "      <td id=\"T_85152_row2_col4\" class=\"data row2 col4\" >0.000005</td>\n",
              "      <td id=\"T_85152_row2_col5\" class=\"data row2 col5\" >-0.000000</td>\n",
              "      <td id=\"T_85152_row2_col6\" class=\"data row2 col6\" >0.000000</td>\n",
              "      <td id=\"T_85152_row2_col7\" class=\"data row2 col7\" >0.089075</td>\n",
              "    </tr>\n",
              "    <tr>\n",
              "      <th id=\"T_85152_level0_row3\" class=\"row_heading level0 row3\" > message (3)</th>\n",
              "      <td id=\"T_85152_row3_col0\" class=\"data row3 col0\" >0.005928</td>\n",
              "      <td id=\"T_85152_row3_col1\" class=\"data row3 col1\" >0.033333</td>\n",
              "      <td id=\"T_85152_row3_col2\" class=\"data row3 col2\" >0.033251</td>\n",
              "      <td id=\"T_85152_row3_col3\" class=\"data row3 col3\" >0.033333</td>\n",
              "      <td id=\"T_85152_row3_col4\" class=\"data row3 col4\" >0.000005</td>\n",
              "      <td id=\"T_85152_row3_col5\" class=\"data row3 col5\" >-0.000000</td>\n",
              "      <td id=\"T_85152_row3_col6\" class=\"data row3 col6\" >0.000000</td>\n",
              "      <td id=\"T_85152_row3_col7\" class=\"data row3 col7\" >0.089075</td>\n",
              "    </tr>\n",
              "    <tr>\n",
              "      <th id=\"T_85152_level0_row4\" class=\"row_heading level0 row4\" >. (4)</th>\n",
              "      <td id=\"T_85152_row4_col0\" class=\"data row4 col0\" >0.005928</td>\n",
              "      <td id=\"T_85152_row4_col1\" class=\"data row4 col1\" >0.033333</td>\n",
              "      <td id=\"T_85152_row4_col2\" class=\"data row4 col2\" >0.033251</td>\n",
              "      <td id=\"T_85152_row4_col3\" class=\"data row4 col3\" >0.033333</td>\n",
              "      <td id=\"T_85152_row4_col4\" class=\"data row4 col4\" >0.000005</td>\n",
              "      <td id=\"T_85152_row4_col5\" class=\"data row4 col5\" >-0.000000</td>\n",
              "      <td id=\"T_85152_row4_col6\" class=\"data row4 col6\" >0.000000</td>\n",
              "      <td id=\"T_85152_row4_col7\" class=\"data row4 col7\" >0.089075</td>\n",
              "    </tr>\n",
              "    <tr>\n",
              "      <th id=\"T_85152_level0_row5\" class=\"row_heading level0 row5\" > Do (5)</th>\n",
              "      <td id=\"T_85152_row5_col0\" class=\"data row5 col0\" >0.005928</td>\n",
              "      <td id=\"T_85152_row5_col1\" class=\"data row5 col1\" >0.033333</td>\n",
              "      <td id=\"T_85152_row5_col2\" class=\"data row5 col2\" >0.033251</td>\n",
              "      <td id=\"T_85152_row5_col3\" class=\"data row5 col3\" >0.033333</td>\n",
              "      <td id=\"T_85152_row5_col4\" class=\"data row5 col4\" >0.000005</td>\n",
              "      <td id=\"T_85152_row5_col5\" class=\"data row5 col5\" >-0.000000</td>\n",
              "      <td id=\"T_85152_row5_col6\" class=\"data row5 col6\" >0.000000</td>\n",
              "      <td id=\"T_85152_row5_col7\" class=\"data row5 col7\" >0.089075</td>\n",
              "    </tr>\n",
              "    <tr>\n",
              "      <th id=\"T_85152_level0_row6\" class=\"row_heading level0 row6\" > not (6)</th>\n",
              "      <td id=\"T_85152_row6_col0\" class=\"data row6 col0\" >0.005928</td>\n",
              "      <td id=\"T_85152_row6_col1\" class=\"data row6 col1\" >0.033333</td>\n",
              "      <td id=\"T_85152_row6_col2\" class=\"data row6 col2\" >0.033251</td>\n",
              "      <td id=\"T_85152_row6_col3\" class=\"data row6 col3\" >0.033333</td>\n",
              "      <td id=\"T_85152_row6_col4\" class=\"data row6 col4\" >0.000005</td>\n",
              "      <td id=\"T_85152_row6_col5\" class=\"data row6 col5\" >-0.000000</td>\n",
              "      <td id=\"T_85152_row6_col6\" class=\"data row6 col6\" >0.000000</td>\n",
              "      <td id=\"T_85152_row6_col7\" class=\"data row6 col7\" >0.089075</td>\n",
              "    </tr>\n",
              "    <tr>\n",
              "      <th id=\"T_85152_level0_row7\" class=\"row_heading level0 row7\" > explain (7)</th>\n",
              "      <td id=\"T_85152_row7_col0\" class=\"data row7 col0\" >0.001781</td>\n",
              "      <td id=\"T_85152_row7_col1\" class=\"data row7 col1\" >0.046032</td>\n",
              "      <td id=\"T_85152_row7_col2\" class=\"data row7 col2\" >0.046004</td>\n",
              "      <td id=\"T_85152_row7_col3\" class=\"data row7 col3\" >0.046032</td>\n",
              "      <td id=\"T_85152_row7_col4\" class=\"data row7 col4\" >0.034924</td>\n",
              "      <td id=\"T_85152_row7_col5\" class=\"data row7 col5\" >0.012021</td>\n",
              "      <td id=\"T_85152_row7_col6\" class=\"data row7 col6\" >0.013367</td>\n",
              "      <td id=\"T_85152_row7_col7\" class=\"data row7 col7\" >0.275695</td>\n",
              "    </tr>\n",
              "    <tr>\n",
              "      <th id=\"T_85152_level0_row8\" class=\"row_heading level0 row8\" > further (8)</th>\n",
              "      <td id=\"T_85152_row8_col0\" class=\"data row8 col0\" >0.037667</td>\n",
              "      <td id=\"T_85152_row8_col1\" class=\"data row8 col1\" >0.055598</td>\n",
              "      <td id=\"T_85152_row8_col2\" class=\"data row8 col2\" >0.055205</td>\n",
              "      <td id=\"T_85152_row8_col3\" class=\"data row8 col3\" >0.055238</td>\n",
              "      <td id=\"T_85152_row8_col4\" class=\"data row8 col4\" >0.041905</td>\n",
              "      <td id=\"T_85152_row8_col5\" class=\"data row8 col5\" >0.014425</td>\n",
              "      <td id=\"T_85152_row8_col6\" class=\"data row8 col6\" >0.016039</td>\n",
              "      <td id=\"T_85152_row8_col7\" class=\"data row8 col7\" >0.108550</td>\n",
              "    </tr>\n",
              "    <tr>\n",
              "      <th id=\"T_85152_level0_row9\" class=\"row_heading level0 row9\" >. (9)</th>\n",
              "      <td id=\"T_85152_row9_col0\" class=\"data row9 col0\" >0.037667</td>\n",
              "      <td id=\"T_85152_row9_col1\" class=\"data row9 col1\" >0.055598</td>\n",
              "      <td id=\"T_85152_row9_col2\" class=\"data row9 col2\" >0.055205</td>\n",
              "      <td id=\"T_85152_row9_col3\" class=\"data row9 col3\" >0.055238</td>\n",
              "      <td id=\"T_85152_row9_col4\" class=\"data row9 col4\" >0.041905</td>\n",
              "      <td id=\"T_85152_row9_col5\" class=\"data row9 col5\" >0.014425</td>\n",
              "      <td id=\"T_85152_row9_col6\" class=\"data row9 col6\" >0.016039</td>\n",
              "      <td id=\"T_85152_row9_col7\" class=\"data row9 col7\" >0.108550</td>\n",
              "    </tr>\n",
              "    <tr>\n",
              "      <th id=\"T_85152_level0_row10\" class=\"row_heading level0 row10\" > ' (10)</th>\n",
              "      <td id=\"T_85152_row10_col0\" class=\"data row10 col0\" >0.039112</td>\n",
              "      <td id=\"T_85152_row10_col1\" class=\"data row10 col1\" >0.088669</td>\n",
              "      <td id=\"T_85152_row10_col2\" class=\"data row10 col2\" >0.087671</td>\n",
              "      <td id=\"T_85152_row10_col3\" class=\"data row10 col3\" >0.087698</td>\n",
              "      <td id=\"T_85152_row10_col4\" class=\"data row10 col4\" >0.076587</td>\n",
              "      <td id=\"T_85152_row10_col5\" class=\"data row10 col5\" >0.012150</td>\n",
              "      <td id=\"T_85152_row10_col6\" class=\"data row10 col6\" >0.013389</td>\n",
              "      <td id=\"T_85152_row10_col7\" class=\"data row10 col7\" >0.118235</td>\n",
              "    </tr>\n",
              "    <tr>\n",
              "      <th id=\"T_85152_level0_row11\" class=\"row_heading level0 row11\" >VG (11)</th>\n",
              "      <td id=\"T_85152_row11_col0\" class=\"data row11 col0\" >0.151348</td>\n",
              "      <td id=\"T_85152_row11_col1\" class=\"data row11 col1\" >0.244103</td>\n",
              "      <td id=\"T_85152_row11_col2\" class=\"data row11 col2\" >0.087689</td>\n",
              "      <td id=\"T_85152_row11_col3\" class=\"data row11 col3\" >0.087698</td>\n",
              "      <td id=\"T_85152_row11_col4\" class=\"data row11 col4\" >0.207452</td>\n",
              "      <td id=\"T_85152_row11_col5\" class=\"data row11 col5\" >0.047952</td>\n",
              "      <td id=\"T_85152_row11_col6\" class=\"data row11 col6\" >0.013388</td>\n",
              "      <td id=\"T_85152_row11_col7\" class=\"data row11 col7\" >0.118322</td>\n",
              "    </tr>\n",
              "    <tr>\n",
              "      <th id=\"T_85152_level0_row12\" class=\"row_heading level0 row12\" >hl (12)</th>\n",
              "      <td id=\"T_85152_row12_col0\" class=\"data row12 col0\" >0.196518</td>\n",
              "      <td id=\"T_85152_row12_col1\" class=\"data row12 col1\" >0.336209</td>\n",
              "      <td id=\"T_85152_row12_col2\" class=\"data row12 col2\" >0.087671</td>\n",
              "      <td id=\"T_85152_row12_col3\" class=\"data row12 col3\" >0.087698</td>\n",
              "      <td id=\"T_85152_row12_col4\" class=\"data row12 col4\" >0.218089</td>\n",
              "      <td id=\"T_85152_row12_col5\" class=\"data row12 col5\" >0.037317</td>\n",
              "      <td id=\"T_85152_row12_col6\" class=\"data row12 col6\" >0.013388</td>\n",
              "      <td id=\"T_85152_row12_col7\" class=\"data row12 col7\" >0.034923</td>\n",
              "    </tr>\n",
              "    <tr>\n",
              "      <th id=\"T_85152_level0_row13\" class=\"row_heading level0 row13\" >IG (13)</th>\n",
              "      <td id=\"T_85152_row13_col0\" class=\"data row13 col0\" >0.126296</td>\n",
              "      <td id=\"T_85152_row13_col1\" class=\"data row13 col1\" >0.334516</td>\n",
              "      <td id=\"T_85152_row13_col2\" class=\"data row13 col2\" >0.087671</td>\n",
              "      <td id=\"T_85152_row13_col3\" class=\"data row13 col3\" >0.087698</td>\n",
              "      <td id=\"T_85152_row13_col4\" class=\"data row13 col4\" >0.076757</td>\n",
              "      <td id=\"T_85152_row13_col5\" class=\"data row13 col5\" >0.012150</td>\n",
              "      <td id=\"T_85152_row13_col6\" class=\"data row13 col6\" >0.013389</td>\n",
              "      <td id=\"T_85152_row13_col7\" class=\"data row13 col7\" >0.034910</td>\n",
              "    </tr>\n",
              "    <tr>\n",
              "      <th id=\"T_85152_level0_row14\" class=\"row_heading level0 row14\" >93 (14)</th>\n",
              "      <td id=\"T_85152_row14_col0\" class=\"data row14 col0\" >0.070840</td>\n",
              "      <td id=\"T_85152_row14_col1\" class=\"data row14 col1\" >0.349256</td>\n",
              "      <td id=\"T_85152_row14_col2\" class=\"data row14 col2\" >0.093275</td>\n",
              "      <td id=\"T_85152_row14_col3\" class=\"data row14 col3\" >0.105119</td>\n",
              "      <td id=\"T_85152_row14_col4\" class=\"data row14 col4\" >0.119809</td>\n",
              "      <td id=\"T_85152_row14_col5\" class=\"data row14 col5\" >0.025905</td>\n",
              "      <td id=\"T_85152_row14_col6\" class=\"data row14 col6\" >0.013350</td>\n",
              "      <td id=\"T_85152_row14_col7\" class=\"data row14 col7\" >0.013427</td>\n",
              "    </tr>\n",
              "    <tr>\n",
              "      <th id=\"T_85152_level0_row15\" class=\"row_heading level0 row15\" >b (15)</th>\n",
              "      <td id=\"T_85152_row15_col0\" class=\"data row15 col0\" >0.054440</td>\n",
              "      <td id=\"T_85152_row15_col1\" class=\"data row15 col1\" >0.215838</td>\n",
              "      <td id=\"T_85152_row15_col2\" class=\"data row15 col2\" >0.096171</td>\n",
              "      <td id=\"T_85152_row15_col3\" class=\"data row15 col3\" >0.109392</td>\n",
              "      <td id=\"T_85152_row15_col4\" class=\"data row15 col4\" >0.148596</td>\n",
              "      <td id=\"T_85152_row15_col5\" class=\"data row15 col5\" >0.032816</td>\n",
              "      <td id=\"T_85152_row15_col6\" class=\"data row15 col6\" >0.014832</td>\n",
              "      <td id=\"T_85152_row15_col7\" class=\"data row15 col7\" >0.007503</td>\n",
              "    </tr>\n",
              "    <tr>\n",
              "      <th id=\"T_85152_level0_row16\" class=\"row_heading level0 row16\" >C (16)</th>\n",
              "      <td id=\"T_85152_row16_col0\" class=\"data row16 col0\" >0.018667</td>\n",
              "      <td id=\"T_85152_row16_col1\" class=\"data row16 col1\" >0.331571</td>\n",
              "      <td id=\"T_85152_row16_col2\" class=\"data row16 col2\" >0.151719</td>\n",
              "      <td id=\"T_85152_row16_col3\" class=\"data row16 col3\" >0.164934</td>\n",
              "      <td id=\"T_85152_row16_col4\" class=\"data row16 col4\" >0.286656</td>\n",
              "      <td id=\"T_85152_row16_col5\" class=\"data row16 col5\" >0.036705</td>\n",
              "      <td id=\"T_85152_row16_col6\" class=\"data row16 col6\" >0.014833</td>\n",
              "      <td id=\"T_85152_row16_col7\" class=\"data row16 col7\" >0.007510</td>\n",
              "    </tr>\n",
              "    <tr>\n",
              "      <th id=\"T_85152_level0_row17\" class=\"row_heading level0 row17\" >Bob (17)</th>\n",
              "      <td id=\"T_85152_row17_col0\" class=\"data row17 col0\" >0.016789</td>\n",
              "      <td id=\"T_85152_row17_col1\" class=\"data row17 col1\" >0.211162</td>\n",
              "      <td id=\"T_85152_row17_col2\" class=\"data row17 col2\" >0.204833</td>\n",
              "      <td id=\"T_85152_row17_col3\" class=\"data row17 col3\" >0.211232</td>\n",
              "      <td id=\"T_85152_row17_col4\" class=\"data row17 col4\" >0.307582</td>\n",
              "      <td id=\"T_85152_row17_col5\" class=\"data row17 col5\" >0.054893</td>\n",
              "      <td id=\"T_85152_row17_col6\" class=\"data row17 col6\" >0.014833</td>\n",
              "      <td id=\"T_85152_row17_col7\" class=\"data row17 col7\" >0.007415</td>\n",
              "    </tr>\n",
              "    <tr>\n",
              "      <th id=\"T_85152_level0_row18\" class=\"row_heading level0 row18\" >290 (18)</th>\n",
              "      <td id=\"T_85152_row18_col0\" class=\"data row18 col0\" >0.019831</td>\n",
              "      <td id=\"T_85152_row18_col1\" class=\"data row18 col1\" >0.045702</td>\n",
              "      <td id=\"T_85152_row18_col2\" class=\"data row18 col2\" >0.150658</td>\n",
              "      <td id=\"T_85152_row18_col3\" class=\"data row18 col3\" >0.155693</td>\n",
              "      <td id=\"T_85152_row18_col4\" class=\"data row18 col4\" >0.155723</td>\n",
              "      <td id=\"T_85152_row18_col5\" class=\"data row18 col5\" >0.062815</td>\n",
              "      <td id=\"T_85152_row18_col6\" class=\"data row18 col6\" >0.014832</td>\n",
              "      <td id=\"T_85152_row18_col7\" class=\"data row18 col7\" >0.007414</td>\n",
              "    </tr>\n",
              "    <tr>\n",
              "      <th id=\"T_85152_level0_row19\" class=\"row_heading level0 row19\" >cy (19)</th>\n",
              "      <td id=\"T_85152_row19_col0\" class=\"data row19 col0\" >0.023155</td>\n",
              "      <td id=\"T_85152_row19_col1\" class=\"data row19 col1\" >0.044577</td>\n",
              "      <td id=\"T_85152_row19_col2\" class=\"data row19 col2\" >0.092699</td>\n",
              "      <td id=\"T_85152_row19_col3\" class=\"data row19 col3\" >0.100132</td>\n",
              "      <td id=\"T_85152_row19_col4\" class=\"data row19 col4\" >0.118550</td>\n",
              "      <td id=\"T_85152_row19_col5\" class=\"data row19 col5\" >0.062810</td>\n",
              "      <td id=\"T_85152_row19_col6\" class=\"data row19 col6\" >0.014832</td>\n",
              "      <td id=\"T_85152_row19_col7\" class=\"data row19 col7\" >0.007417</td>\n",
              "    </tr>\n",
              "    <tr>\n",
              "      <th id=\"T_85152_level0_row20\" class=\"row_heading level0 row20\" >B (20)</th>\n",
              "      <td id=\"T_85152_row20_col0\" class=\"data row20 col0\" >0.012864</td>\n",
              "      <td id=\"T_85152_row20_col1\" class=\"data row20 col1\" >0.044577</td>\n",
              "      <td id=\"T_85152_row20_col2\" class=\"data row20 col2\" >0.092337</td>\n",
              "      <td id=\"T_85152_row20_col3\" class=\"data row20 col3\" >0.100132</td>\n",
              "      <td id=\"T_85152_row20_col4\" class=\"data row20 col4\" >0.118405</td>\n",
              "      <td id=\"T_85152_row20_col5\" class=\"data row20 col5\" >0.226510</td>\n",
              "      <td id=\"T_85152_row20_col6\" class=\"data row20 col6\" >0.015528</td>\n",
              "      <td id=\"T_85152_row20_col7\" class=\"data row20 col7\" >0.007425</td>\n",
              "    </tr>\n",
              "    <tr>\n",
              "      <th id=\"T_85152_level0_row21\" class=\"row_heading level0 row21\" >hd (21)</th>\n",
              "      <td id=\"T_85152_row21_col0\" class=\"data row21 col0\" >0.026737</td>\n",
              "      <td id=\"T_85152_row21_col1\" class=\"data row21 col1\" >0.019872</td>\n",
              "      <td id=\"T_85152_row21_col2\" class=\"data row21 col2\" >0.034448</td>\n",
              "      <td id=\"T_85152_row21_col3\" class=\"data row21 col3\" >0.039103</td>\n",
              "      <td id=\"T_85152_row21_col4\" class=\"data row21 col4\" >0.039104</td>\n",
              "      <td id=\"T_85152_row21_col5\" class=\"data row21 col5\" >0.197581</td>\n",
              "      <td id=\"T_85152_row21_col6\" class=\"data row21 col6\" >0.062194</td>\n",
              "      <td id=\"T_85152_row21_col7\" class=\"data row21 col7\" >0.022569</td>\n",
              "    </tr>\n",
              "    <tr>\n",
              "      <th id=\"T_85152_level0_row22\" class=\"row_heading level0 row22\" >CB (22)</th>\n",
              "      <td id=\"T_85152_row22_col0\" class=\"data row22 col0\" >0.011533</td>\n",
              "      <td id=\"T_85152_row22_col1\" class=\"data row22 col1\" >0.008334</td>\n",
              "      <td id=\"T_85152_row22_col2\" class=\"data row22 col2\" >0.002330</td>\n",
              "      <td id=\"T_85152_row22_col3\" class=\"data row22 col3\" >0.008334</td>\n",
              "      <td id=\"T_85152_row22_col4\" class=\"data row22 col4\" >0.008338</td>\n",
              "      <td id=\"T_85152_row22_col5\" class=\"data row22 col5\" >0.206988</td>\n",
              "      <td id=\"T_85152_row22_col6\" class=\"data row22 col6\" >0.092709</td>\n",
              "      <td id=\"T_85152_row22_col7\" class=\"data row22 col7\" >0.036620</td>\n",
              "    </tr>\n",
              "    <tr>\n",
              "      <th id=\"T_85152_level0_row23\" class=\"row_heading level0 row23\" >ta (23)</th>\n",
              "      <td id=\"T_85152_row23_col0\" class=\"data row23 col0\" >0.017568</td>\n",
              "      <td id=\"T_85152_row23_col1\" class=\"data row23 col1\" >0.009525</td>\n",
              "      <td id=\"T_85152_row23_col2\" class=\"data row23 col2\" >0.002662</td>\n",
              "      <td id=\"T_85152_row23_col3\" class=\"data row23 col3\" >0.009524</td>\n",
              "      <td id=\"T_85152_row23_col4\" class=\"data row23 col4\" >0.009525</td>\n",
              "      <td id=\"T_85152_row23_col5\" class=\"data row23 col5\" >0.093703</td>\n",
              "      <td id=\"T_85152_row23_col6\" class=\"data row23 col6\" >0.224999</td>\n",
              "      <td id=\"T_85152_row23_col7\" class=\"data row23 col7\" >0.042134</td>\n",
              "    </tr>\n",
              "    <tr>\n",
              "      <th id=\"T_85152_level0_row24\" class=\"row_heading level0 row24\" >WR (24)</th>\n",
              "      <td id=\"T_85152_row24_col0\" class=\"data row24 col0\" >0.017568</td>\n",
              "      <td id=\"T_85152_row24_col1\" class=\"data row24 col1\" >0.009525</td>\n",
              "      <td id=\"T_85152_row24_col2\" class=\"data row24 col2\" >0.002662</td>\n",
              "      <td id=\"T_85152_row24_col3\" class=\"data row24 col3\" >0.009524</td>\n",
              "      <td id=\"T_85152_row24_col4\" class=\"data row24 col4\" >0.009525</td>\n",
              "      <td id=\"T_85152_row24_col5\" class=\"data row24 col5\" >0.093703</td>\n",
              "      <td id=\"T_85152_row24_col6\" class=\"data row24 col6\" >0.224999</td>\n",
              "      <td id=\"T_85152_row24_col7\" class=\"data row24 col7\" >0.042134</td>\n",
              "    </tr>\n",
              "    <tr>\n",
              "      <th id=\"T_85152_level0_row25\" class=\"row_heading level0 row25\" >ua (25)</th>\n",
              "      <td id=\"T_85152_row25_col0\" class=\"data row25 col0\" >0.016703</td>\n",
              "      <td id=\"T_85152_row25_col1\" class=\"data row25 col1\" >0.011112</td>\n",
              "      <td id=\"T_85152_row25_col2\" class=\"data row25 col2\" >0.003106</td>\n",
              "      <td id=\"T_85152_row25_col3\" class=\"data row25 col3\" >0.011111</td>\n",
              "      <td id=\"T_85152_row25_col4\" class=\"data row25 col4\" >0.011113</td>\n",
              "      <td id=\"T_85152_row25_col5\" class=\"data row25 col5\" >0.067657</td>\n",
              "      <td id=\"T_85152_row25_col6\" class=\"data row25 col6\" >0.169882</td>\n",
              "      <td id=\"T_85152_row25_col7\" class=\"data row25 col7\" >0.088146</td>\n",
              "    </tr>\n",
              "    <tr>\n",
              "      <th id=\"T_85152_level0_row26\" class=\"row_heading level0 row26\" >W (26)</th>\n",
              "      <td id=\"T_85152_row26_col0\" class=\"data row26 col0\" >0.032653</td>\n",
              "      <td id=\"T_85152_row26_col1\" class=\"data row26 col1\" >0.011126</td>\n",
              "      <td id=\"T_85152_row26_col2\" class=\"data row26 col2\" >0.003106</td>\n",
              "      <td id=\"T_85152_row26_col3\" class=\"data row26 col3\" >0.011112</td>\n",
              "      <td id=\"T_85152_row26_col4\" class=\"data row26 col4\" >0.011113</td>\n",
              "      <td id=\"T_85152_row26_col5\" class=\"data row26 col5\" >0.034324</td>\n",
              "      <td id=\"T_85152_row26_col6\" class=\"data row26 col6\" >0.081004</td>\n",
              "      <td id=\"T_85152_row26_col7\" class=\"data row26 col7\" >0.150583</td>\n",
              "    </tr>\n",
              "    <tr>\n",
              "      <th id=\"T_85152_level0_row27\" class=\"row_heading level0 row27\" >d (27)</th>\n",
              "      <td id=\"T_85152_row27_col0\" class=\"data row27 col0\" >0.032653</td>\n",
              "      <td id=\"T_85152_row27_col1\" class=\"data row27 col1\" >0.011126</td>\n",
              "      <td id=\"T_85152_row27_col2\" class=\"data row27 col2\" >0.003106</td>\n",
              "      <td id=\"T_85152_row27_col3\" class=\"data row27 col3\" >0.011112</td>\n",
              "      <td id=\"T_85152_row27_col4\" class=\"data row27 col4\" >0.011113</td>\n",
              "      <td id=\"T_85152_row27_col5\" class=\"data row27 col5\" >0.034324</td>\n",
              "      <td id=\"T_85152_row27_col6\" class=\"data row27 col6\" >0.081004</td>\n",
              "      <td id=\"T_85152_row27_col7\" class=\"data row27 col7\" >0.150583</td>\n",
              "    </tr>\n",
              "    <tr>\n",
              "      <th id=\"T_85152_level0_row28\" class=\"row_heading level0 row28\" >od (28)</th>\n",
              "      <td id=\"T_85152_row28_col0\" class=\"data row28 col0\" >0.064701</td>\n",
              "      <td id=\"T_85152_row28_col1\" class=\"data row28 col1\" >0.008618</td>\n",
              "      <td id=\"T_85152_row28_col2\" class=\"data row28 col2\" >0.002330</td>\n",
              "      <td id=\"T_85152_row28_col3\" class=\"data row28 col3\" >0.008334</td>\n",
              "      <td id=\"T_85152_row28_col4\" class=\"data row28 col4\" >0.008335</td>\n",
              "      <td id=\"T_85152_row28_col5\" class=\"data row28 col5\" >0.025743</td>\n",
              "      <td id=\"T_85152_row28_col6\" class=\"data row28 col6\" >0.060762</td>\n",
              "      <td id=\"T_85152_row28_col7\" class=\"data row28 col7\" >0.175645</td>\n",
              "    </tr>\n",
              "    <tr>\n",
              "      <th id=\"T_85152_level0_row29\" class=\"row_heading level0 row29\" >CE (29)</th>\n",
              "      <td id=\"T_85152_row29_col0\" class=\"data row29 col0\" >0.118152</td>\n",
              "      <td id=\"T_85152_row29_col1\" class=\"data row29 col1\" >0.000379</td>\n",
              "      <td id=\"T_85152_row29_col2\" class=\"data row29 col2\" >0.000000</td>\n",
              "      <td id=\"T_85152_row29_col3\" class=\"data row29 col3\" >0.000000</td>\n",
              "      <td id=\"T_85152_row29_col4\" class=\"data row29 col4\" >0.000000</td>\n",
              "      <td id=\"T_85152_row29_col5\" class=\"data row29 col5\" >0.002379</td>\n",
              "      <td id=\"T_85152_row29_col6\" class=\"data row29 col6\" >0.016677</td>\n",
              "      <td id=\"T_85152_row29_col7\" class=\"data row29 col7\" >0.411095</td>\n",
              "    </tr>\n",
              "    <tr>\n",
              "      <th id=\"T_85152_level0_row30\" class=\"row_heading level0 row30\" >=' (30)</th>\n",
              "      <td id=\"T_85152_row30_col0\" class=\"data row30 col0\" >0.049239</td>\n",
              "      <td id=\"T_85152_row30_col1\" class=\"data row30 col1\" >0.000380</td>\n",
              "      <td id=\"T_85152_row30_col2\" class=\"data row30 col2\" >0.000000</td>\n",
              "      <td id=\"T_85152_row30_col3\" class=\"data row30 col3\" >0.000000</td>\n",
              "      <td id=\"T_85152_row30_col4\" class=\"data row30 col4\" >0.000001</td>\n",
              "      <td id=\"T_85152_row30_col5\" class=\"data row30 col5\" >0.002379</td>\n",
              "      <td id=\"T_85152_row30_col6\" class=\"data row30 col6\" >0.016676</td>\n",
              "      <td id=\"T_85152_row30_col7\" class=\"data row30 col7\" >0.244446</td>\n",
              "    </tr>\n",
              "  </tbody>\n",
              "</table>\n"
            ],
            "text/plain": [
              "<pandas.io.formats.style.Styler at 0x1688476e0>"
            ]
          },
          "metadata": {},
          "output_type": "display_data"
        }
      ],
      "source": [
        "gpt4_logger.print_text_attribution_matrix()\n",
        "gpt4_logger.print_attribution_matrix()"
      ]
    },
    {
      "cell_type": "markdown",
      "metadata": {},
      "source": [
        "\n",
        "That's all for now. We implement a few other attribution and perturbation methods, each with different properties. Check out the README, and do your own experiments – PIZZA is a work in progress and we welcome contributions. "
      ]
    },
    {
      "cell_type": "code",
      "execution_count": 18,
      "metadata": {},
      "outputs": [
        {
          "data": {
            "text/html": [
              "<div>\n",
              "<style scoped>\n",
              "    .dataframe tbody tr th:only-of-type {\n",
              "        vertical-align: middle;\n",
              "    }\n",
              "\n",
              "    .dataframe tbody tr th {\n",
              "        vertical-align: top;\n",
              "    }\n",
              "\n",
              "    .dataframe thead th {\n",
              "        text-align: right;\n",
              "    }\n",
              "</style>\n",
              "<table border=\"1\" class=\"dataframe\">\n",
              "  <thead>\n",
              "    <tr style=\"text-align: right;\">\n",
              "      <th></th>\n",
              "      <th>exp_id</th>\n",
              "      <th>original_input</th>\n",
              "      <th>original_output</th>\n",
              "      <th>perturbation_strategy</th>\n",
              "      <th>unit_definition</th>\n",
              "      <th>duration</th>\n",
              "      <th>num_llm_calls</th>\n",
              "    </tr>\n",
              "  </thead>\n",
              "  <tbody>\n",
              "    <tr>\n",
              "      <th>0</th>\n",
              "      <td>1</td>\n",
              "      <td>Write a funny, sad haiku.</td>\n",
              "      <td>Lost my favorite sock,\\nIn the dryer it vanish...</td>\n",
              "      <td>fixed</td>\n",
              "      <td>token</td>\n",
              "      <td>3.468623</td>\n",
              "      <td>9</td>\n",
              "    </tr>\n",
              "    <tr>\n",
              "      <th>1</th>\n",
              "      <td>2</td>\n",
              "      <td>Decode this message. Do not explain further. '...</td>\n",
              "      <td>The owl hoots at midnight!</td>\n",
              "      <td>fixed</td>\n",
              "      <td>token</td>\n",
              "      <td>13.201789</td>\n",
              "      <td>57</td>\n",
              "    </tr>\n",
              "  </tbody>\n",
              "</table>\n",
              "</div>"
            ],
            "text/plain": [
              "   exp_id                                     original_input  \\\n",
              "0       1                          Write a funny, sad haiku.   \n",
              "1       2  Decode this message. Do not explain further. '...   \n",
              "\n",
              "                                     original_output perturbation_strategy  \\\n",
              "0  Lost my favorite sock,\\nIn the dryer it vanish...                 fixed   \n",
              "1                         The owl hoots at midnight!                 fixed   \n",
              "\n",
              "  unit_definition   duration num_llm_calls  \n",
              "0           token   3.468623             9  \n",
              "1           token  13.201789            57  "
            ]
          },
          "metadata": {},
          "output_type": "display_data"
        }
      ],
      "source": [
        "display(gpt4_logger.df_experiments)"
      ]
    }
  ],
  "metadata": {
    "colab": {
      "machine_shape": "hm",
      "provenance": []
    },
    "kernelspec": {
      "display_name": "Python 3",
      "name": "python3"
    },
    "language_info": {
      "codemirror_mode": {
        "name": "ipython",
        "version": 3
      },
      "file_extension": ".py",
      "mimetype": "text/x-python",
      "name": "python",
      "nbconvert_exporter": "python",
      "pygments_lexer": "ipython3",
      "version": "3.12.4"
    }
  },
  "nbformat": 4,
  "nbformat_minor": 0
}
