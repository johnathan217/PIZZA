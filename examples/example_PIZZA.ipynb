{
  "cells": [
    {
      "cell_type": "markdown",
      "metadata": {
        "id": "ut3kR2GkpSk6"
      },
      "source": [
        "# PIZZA: An Open Source Library for Closed LLM Attribution (or “why did ChatGPT say that?”)"
      ]
    },
    {
      "cell_type": "markdown",
      "metadata": {},
      "source": [
        "## Setup\n",
        "\n",
        "**Make sure to uncomment and run the cell below if you're in colab.**"
      ]
    },
    {
      "cell_type": "code",
      "execution_count": 9,
      "metadata": {},
      "outputs": [],
      "source": [
        "\n",
        "# !git clone https://github.com/leap-laboratories/PIZZA.git .\n",
        "# !pip install --quiet -r requirements.txt"
      ]
    },
    {
      "cell_type": "code",
      "execution_count": 10,
      "metadata": {},
      "outputs": [
        {
          "name": "stdout",
          "output_type": "stream",
          "text": [
            "The autoreload extension is already loaded. To reload it, use:\n",
            "  %reload_ext autoreload\n"
          ]
        }
      ],
      "source": [
        "import os\n",
        "import warnings\n",
        "\n",
        "# Suppress annoying FutureWarning from huggingface_hub that is not our fault\n",
        "warnings.filterwarnings(\"ignore\", category=FutureWarning, module=\"huggingface_hub\")\n",
        "\n",
        "from attribution.api_attribution import OpenAIAttributor\n",
        "from attribution.experiment_logger import ExperimentLogger\n",
        "from attribution.token_perturbation import FixedPerturbationStrategy, NthNearestPerturbationStrategy\n",
        "\n",
        "# Re-import modified modules without restarting the server (for dev use)\n",
        "%load_ext autoreload\n",
        "%autoreload 2"
      ]
    },
    {
      "cell_type": "markdown",
      "metadata": {},
      "source": [
        "You need an OpenAI API key to run this! Get one **[here](https://platform.openai.com/api-keys)**. \n",
        "\n",
        "You can either set the `OPENAI_API_KEY` environment variable in your notebook runtime (use the _secrets_ panel on the left in colab), or add it to a `.env` as described [in the README](../README.md#environment-variables).\n",
        "\n",
        "If you're _desperate_ to live on the edge, you can also pass your API key directly to the attributor. But we really don't advise this for security reasons!"
      ]
    },
    {
      "cell_type": "code",
      "execution_count": 11,
      "metadata": {},
      "outputs": [
        {
          "name": "stdout",
          "output_type": "stream",
          "text": [
            "The dotenv extension is already loaded. To reload it, use:\n",
            "  %reload_ext dotenv\n"
          ]
        }
      ],
      "source": [
        "# Checks if you're using a .env file, and loads it if so.\n",
        "import os\n",
        "# Load environment variables from .env file\n",
        "if os.path.isfile('.env'):\n",
        "    %load_ext dotenv\n",
        "    %dotenv"
      ]
    },
    {
      "cell_type": "markdown",
      "metadata": {},
      "source": [
        "Set up some attributors, and a logger to keep track of and visualise results."
      ]
    },
    {
      "cell_type": "code",
      "execution_count": 12,
      "metadata": {
        "colab": {
          "base_uri": "https://localhost:8080/"
        },
        "id": "S_SoQ7FLUZ-T",
        "outputId": "a6d7300c-a92d-4a1e-bbd9-a8715a2beb6d"
      },
      "outputs": [],
      "source": [
        "gpt3_5_attributor = OpenAIAttributor(\n",
        "    openai_api_key=os.getenv(\"OPENAI_API_KEY\"),\n",
        "    max_concurrent_requests=5,\n",
        "    openai_model=\"gpt-3.5-turbo\",\n",
        ")\n",
        "\n",
        "# Using a slightly older GPT4 model, because the latest is absurdly verbose.\n",
        "gpt4_attributor = OpenAIAttributor(\n",
        "    openai_api_key=os.getenv(\"OPENAI_API_KEY\"),\n",
        "    max_concurrent_requests=5,\n",
        "    openai_model=\"gpt-4-0613\",\n",
        ")\n",
        "\n",
        "logger = ExperimentLogger()\n"
      ]
    },
    {
      "cell_type": "markdown",
      "metadata": {},
      "source": [
        "Quickstart example showing the different attribution and perturbation strategies:"
      ]
    },
    {
      "cell_type": "code",
      "execution_count": 23,
      "metadata": {},
      "outputs": [
        {
          "name": "stderr",
          "output_type": "stream",
          "text": [
            "Sending 5 concurrent requests at a time: 100%|██████████| 2/2 [00:01<00:00,  1.40it/s]\n",
            "Sending 5 concurrent requests at a time:   0%|          | 0/2 [00:00<?, ?it/s]\n"
          ]
        },
        {
          "ename": "CancelledError",
          "evalue": "",
          "output_type": "error",
          "traceback": [
            "\u001b[0;31m---------------------------------------------------------------------------\u001b[0m",
            "\u001b[0;31mCancelledError\u001b[0m                            Traceback (most recent call last)",
            "Cell \u001b[0;32mIn[23], line 3\u001b[0m\n\u001b[1;32m      1\u001b[0m input_str \u001b[38;5;241m=\u001b[39m \u001b[38;5;124m\"\u001b[39m\u001b[38;5;124mIt is 9:47. How many minutes until 11? Answer in one number.\u001b[39m\u001b[38;5;124m\"\u001b[39m\n\u001b[0;32m----> 3\u001b[0m \u001b[38;5;28;01mawait\u001b[39;00m gpt3_5_attributor\u001b[38;5;241m.\u001b[39mhierarchical_perturbation(\n\u001b[1;32m      4\u001b[0m     input_str, logger\u001b[38;5;241m=\u001b[39mlogger, attribution_strategies\u001b[38;5;241m=\u001b[39m[\u001b[38;5;124m'\u001b[39m\u001b[38;5;124mprob_diff\u001b[39m\u001b[38;5;124m'\u001b[39m], perturbation_strategy\u001b[38;5;241m=\u001b[39mFixedPerturbationStrategy(replacement_token\u001b[38;5;241m=\u001b[39m\u001b[38;5;124m'\u001b[39m\u001b[38;5;124m'\u001b[39m)\n\u001b[1;32m      5\u001b[0m )\n\u001b[1;32m      6\u001b[0m \u001b[38;5;28mprint\u001b[39m(\u001b[38;5;124m'\u001b[39m\u001b[38;5;124mHierarchical perturbation with fixed token replacement, probability difference attribution\u001b[39m\u001b[38;5;124m'\u001b[39m)\n\u001b[1;32m      7\u001b[0m logger\u001b[38;5;241m.\u001b[39mprint_text_total_attribution(exp_id\u001b[38;5;241m=\u001b[39m\u001b[38;5;241m-\u001b[39m\u001b[38;5;241m1\u001b[39m)\n",
            "File \u001b[0;32m~/PIZZA/attribution/api_attribution.py:196\u001b[0m, in \u001b[0;36mOpenAIAttributor.hierarchical_perturbation\u001b[0;34m(self, original_input, init_chunk_size, stride, perturbation_strategy, attribution_strategies, threshold_attribution_strategy, static_threshold, use_absolute_attribution, unit_definition, ignore_output_token_location, logger, verbosity)\u001b[0m\n\u001b[1;32m    193\u001b[0m     \u001b[38;5;28mprint\u001b[39m(\u001b[38;5;241m*\u001b[39m[[perturbation\u001b[38;5;241m.\u001b[39mmasked_string] \u001b[38;5;28;01mfor\u001b[39;00m perturbation \u001b[38;5;129;01min\u001b[39;00m perturbations], sep\u001b[38;5;241m=\u001b[39m\u001b[38;5;124m\"\u001b[39m\u001b[38;5;124m \u001b[39m\u001b[38;5;124m\"\u001b[39m)\n\u001b[1;32m    195\u001b[0m \u001b[38;5;66;03m# Wait for the perturbed results\u001b[39;00m\n\u001b[0;32m--> 196\u001b[0m outputs \u001b[38;5;241m=\u001b[39m \u001b[38;5;28;01mawait\u001b[39;00m \u001b[38;5;28mself\u001b[39m\u001b[38;5;241m.\u001b[39mget_multiple_completions(\n\u001b[1;32m    197\u001b[0m     [perturbation\u001b[38;5;241m.\u001b[39mperturbed_string \u001b[38;5;28;01mfor\u001b[39;00m perturbation \u001b[38;5;129;01min\u001b[39;00m perturbations]\n\u001b[1;32m    198\u001b[0m )\n\u001b[1;32m    199\u001b[0m total_llm_calls \u001b[38;5;241m+\u001b[39m\u001b[38;5;241m=\u001b[39m \u001b[38;5;28mlen\u001b[39m(outputs)\n\u001b[1;32m    201\u001b[0m \u001b[38;5;66;03m# Calculate attribution scores for each perturbation\u001b[39;00m\n",
            "File \u001b[0;32m~/PIZZA/attribution/api_attribution.py:290\u001b[0m, in \u001b[0;36mOpenAIAttributor.get_multiple_completions\u001b[0;34m(self, inputs)\u001b[0m\n\u001b[1;32m    285\u001b[0m         batch \u001b[38;5;241m=\u001b[39m [\n\u001b[1;32m    286\u001b[0m             tasks[i]\n\u001b[1;32m    287\u001b[0m             \u001b[38;5;28;01mfor\u001b[39;00m i \u001b[38;5;129;01min\u001b[39;00m \u001b[38;5;28mrange\u001b[39m(idx, \u001b[38;5;28mmin\u001b[39m(idx \u001b[38;5;241m+\u001b[39m \u001b[38;5;28mself\u001b[39m\u001b[38;5;241m.\u001b[39mmax_concurrent_requests, \u001b[38;5;28mlen\u001b[39m(tasks)))\n\u001b[1;32m    288\u001b[0m         ]\n\u001b[1;32m    289\u001b[0m         outputs\u001b[38;5;241m.\u001b[39mextend(\u001b[38;5;28;01mawait\u001b[39;00m asyncio\u001b[38;5;241m.\u001b[39mgather(\u001b[38;5;241m*\u001b[39mbatch))\n\u001b[0;32m--> 290\u001b[0m         \u001b[38;5;28;01mawait\u001b[39;00m asyncio\u001b[38;5;241m.\u001b[39msleep(REQUEST_DELAY)\n\u001b[1;32m    291\u001b[0m \u001b[38;5;28;01melse\u001b[39;00m:\n\u001b[1;32m    292\u001b[0m     outputs \u001b[38;5;241m=\u001b[39m \u001b[38;5;28;01mawait\u001b[39;00m asyncio\u001b[38;5;241m.\u001b[39mgather(\u001b[38;5;241m*\u001b[39mtasks)\n",
            "File \u001b[0;32m/opt/homebrew/Cellar/python@3.12/3.12.4/Frameworks/Python.framework/Versions/3.12/lib/python3.12/asyncio/tasks.py:665\u001b[0m, in \u001b[0;36msleep\u001b[0;34m(delay, result)\u001b[0m\n\u001b[1;32m    661\u001b[0m h \u001b[38;5;241m=\u001b[39m loop\u001b[38;5;241m.\u001b[39mcall_later(delay,\n\u001b[1;32m    662\u001b[0m                     futures\u001b[38;5;241m.\u001b[39m_set_result_unless_cancelled,\n\u001b[1;32m    663\u001b[0m                     future, result)\n\u001b[1;32m    664\u001b[0m \u001b[38;5;28;01mtry\u001b[39;00m:\n\u001b[0;32m--> 665\u001b[0m     \u001b[38;5;28;01mreturn\u001b[39;00m \u001b[38;5;28;01mawait\u001b[39;00m future\n\u001b[1;32m    666\u001b[0m \u001b[38;5;28;01mfinally\u001b[39;00m:\n\u001b[1;32m    667\u001b[0m     h\u001b[38;5;241m.\u001b[39mcancel()\n",
            "\u001b[0;31mCancelledError\u001b[0m: "
          ]
        }
      ],
      "source": [
        "input_str = \"It is 9:47. How many minutes until 11? Answer in one number.\"\n",
        "\n",
        "await gpt3_5_attributor.hierarchical_perturbation(\n",
        "    input_str, logger=logger, attribution_strategies=['prob_diff'], perturbation_strategy=FixedPerturbationStrategy(replacement_token='')\n",
        ")\n",
        "print('Hierarchical perturbation with fixed token replacement, probability difference attribution')\n",
        "logger.print_text_total_attribution(exp_id=-1)\n",
        "logger.print_attribution_matrix(exp_id=-1)\n",
        "\n",
        "await gpt3_5_attributor.hierarchical_perturbation(\n",
        "    input_str, logger=logger, attribution_strategies=['cosine'], perturbation_strategy=NthNearestPerturbationStrategy(n=-1)\n",
        ")\n",
        "print('Iterative perturbation with nth nearest replacement, cosine similarity attribution')\n",
        "logger.print_text_total_attribution(exp_id=-1)\n",
        "logger.print_attribution_matrix(exp_id=-1)"
      ]
    },
    {
      "cell_type": "markdown",
      "metadata": {},
      "source": [
        "## Prompt Engineering"
      ]
    },
    {
      "cell_type": "code",
      "execution_count": 14,
      "metadata": {},
      "outputs": [
        {
          "name": "stdout",
          "output_type": "stream",
          "text": [
            "User: Mary puts an apple in the box. The box is labelled 'pencils'. John enters the room. What does he think is in the box? Answer in 1 word.\n",
            "GPT3.5: Apples\n",
            "GPT4: Pencils\n"
          ]
        }
      ],
      "source": [
        "input_str = \"Mary puts an apple in the box. The box is labelled 'pencils'. John enters the room. What does he think is in the box? Answer in 1 word.\"\n",
        "\n",
        "gpt3_5_response = await gpt3_5_attributor.get_chat_completion(input_str)\n",
        "gpt4_response = await gpt4_attributor.get_chat_completion(input_str)\n",
        "\n",
        "print(\"User:\", input_str)\n",
        "print(\"GPT3.5:\", gpt3_5_response.message.content)\n",
        "print(\"GPT4:\", gpt4_response.message.content)"
      ]
    },
    {
      "cell_type": "markdown",
      "metadata": {},
      "source": [
        "GPT3.5 not so hot with the theory of mind there. Can we find out what went wrong?"
      ]
    },
    {
      "cell_type": "code",
      "execution_count": 15,
      "metadata": {},
      "outputs": [
        {
          "name": "stdout",
          "output_type": "stream",
          "text": [
            "User: Why did you say that?\n",
            "GPT3.5: I apologize for the mistake in my response. John would likely think there are pencils in the box, based on the label.\n"
          ]
        }
      ],
      "source": [
        "# Bit hacky to get model explanation\n",
        "user_request = \"User: Why did you say that?\"\n",
        "print(user_request)\n",
        "model_explanation = await gpt3_5_attributor.openai_client.chat.completions.create(\n",
        "    model=gpt3_5_attributor.openai_model,\n",
        "    messages=[\n",
        "        {\"role\": \"user\", \"content\": input_str},\n",
        "        {\"role\": \"assistant\", \"content\": gpt3_5_response.message.content},\n",
        "        {\"role\": \"user\", \"content\": user_request},\n",
        "    ],\n",
        "    temperature=0.0,\n",
        "    seed=0,\n",
        "    logprobs=True,\n",
        "    top_logprobs=20,\n",
        ")\n",
        "print(\"GPT3.5:\", model_explanation.choices[0].message.content)"
      ]
    },
    {
      "cell_type": "markdown",
      "metadata": {},
      "source": [
        "That's not very helpful! We want to know _why_ the mistake was made in the first place, so we can fix it."
      ]
    },
    {
      "cell_type": "code",
      "execution_count": 16,
      "metadata": {},
      "outputs": [
        {
          "name": "stderr",
          "output_type": "stream",
          "text": [
            "Sending 5 concurrent requests at a time: 100%|██████████| 2/2 [00:01<00:00,  1.61it/s]\n",
            "Sending 5 concurrent requests at a time: 100%|██████████| 3/3 [00:01<00:00,  2.01it/s]\n",
            "Sending 5 concurrent requests at a time: 100%|██████████| 4/4 [00:01<00:00,  2.65it/s]\n",
            "Sending 5 concurrent requests at a time: 100%|██████████| 2/2 [00:01<00:00,  1.76it/s]"
          ]
        },
        {
          "name": "stdout",
          "output_type": "stream",
          "text": [
            "GPT3.5 Attribution:\n"
          ]
        },
        {
          "name": "stderr",
          "output_type": "stream",
          "text": [
            "\n"
          ]
        },
        {
          "data": {
            "text/html": [
              "<div style=\"font-family: monospace; line-height: 1.5;\"><span style=\"text-decoration: underline; text-decoration-color: #ff5d5d; text-decoration-thickness: 4px; text-underline-offset: 3px;\">Mary</span><span style=\"text-decoration: underline; text-decoration-color: #ff5d5d; text-decoration-thickness: 4px; text-underline-offset: 3px;\"> puts</span><span style=\"text-decoration: underline; text-decoration-color: #ffb5b5; text-decoration-thickness: 4px; text-underline-offset: 3px;\"> an</span><span style=\"text-decoration: underline; text-decoration-color: #ff4949; text-decoration-thickness: 4px; text-underline-offset: 3px;\"> apple</span><span style=\"text-decoration: underline; text-decoration-color: #ffa5a5; text-decoration-thickness: 4px; text-underline-offset: 3px;\"> in</span><span style=\"text-decoration: underline; text-decoration-color: #ffa5a5; text-decoration-thickness: 4px; text-underline-offset: 3px;\"> the</span><span style=\"text-decoration: underline; text-decoration-color: #ffd9d9; text-decoration-thickness: 4px; text-underline-offset: 3px;\"> box</span><span style=\"text-decoration: underline; text-decoration-color: #ffd9d9; text-decoration-thickness: 4px; text-underline-offset: 3px;\">.</span><span style=\"text-decoration: underline; text-decoration-color: #ffd9d9; text-decoration-thickness: 4px; text-underline-offset: 3px;\"> The</span><span style=\"text-decoration: underline; text-decoration-color: #ffd1d1; text-decoration-thickness: 4px; text-underline-offset: 3px;\"> box</span><span style=\"text-decoration: underline; text-decoration-color: #ffd1d1; text-decoration-thickness: 4px; text-underline-offset: 3px;\"> is</span><span style=\"text-decoration: underline; text-decoration-color: #ffd5d5; text-decoration-thickness: 4px; text-underline-offset: 3px;\"> labelled</span><span style=\"text-decoration: underline; text-decoration-color: #ffd5d5; text-decoration-thickness: 4px; text-underline-offset: 3px;\"> '</span><span style=\"text-decoration: underline; text-decoration-color: #ffd1d1; text-decoration-thickness: 4px; text-underline-offset: 3px;\">pen</span><span style=\"text-decoration: underline; text-decoration-color: #ffd1d1; text-decoration-thickness: 4px; text-underline-offset: 3px;\">cil</span><span style=\"text-decoration: underline; text-decoration-color: #ffd1d1; text-decoration-thickness: 4px; text-underline-offset: 3px;\">s</span><span style=\"text-decoration: underline; text-decoration-color: #ffd1d1; text-decoration-thickness: 4px; text-underline-offset: 3px;\">'.</span><span style=\"text-decoration: underline; text-decoration-color: #ffd1d1; text-decoration-thickness: 4px; text-underline-offset: 3px;\"> John</span><span style=\"text-decoration: underline; text-decoration-color: #ffeded; text-decoration-thickness: 4px; text-underline-offset: 3px;\"> enters</span><span style=\"text-decoration: underline; text-decoration-color: #ffeded; text-decoration-thickness: 4px; text-underline-offset: 3px;\"> the</span><span style=\"text-decoration: underline; text-decoration-color: #ffeded; text-decoration-thickness: 4px; text-underline-offset: 3px;\"> room</span><span style=\"text-decoration: underline; text-decoration-color: #ffeded; text-decoration-thickness: 4px; text-underline-offset: 3px;\">.</span><span style=\"text-decoration: underline; text-decoration-color: #ffeded; text-decoration-thickness: 4px; text-underline-offset: 3px;\"> What</span><span style=\"text-decoration: underline; text-decoration-color: #ffeded; text-decoration-thickness: 4px; text-underline-offset: 3px;\"> does</span><span style=\"text-decoration: underline; text-decoration-color: #ffeded; text-decoration-thickness: 4px; text-underline-offset: 3px;\"> he</span><span style=\"text-decoration: underline; text-decoration-color: #ffeded; text-decoration-thickness: 4px; text-underline-offset: 3px;\"> think</span><span style=\"text-decoration: underline; text-decoration-color: #ffeded; text-decoration-thickness: 4px; text-underline-offset: 3px;\"> is</span><span style=\"text-decoration: underline; text-decoration-color: #ff6565; text-decoration-thickness: 4px; text-underline-offset: 3px;\"> in</span><span style=\"text-decoration: underline; text-decoration-color: #ffc5c5; text-decoration-thickness: 4px; text-underline-offset: 3px;\"> the</span><span style=\"text-decoration: underline; text-decoration-color: #ffa5a5; text-decoration-thickness: 4px; text-underline-offset: 3px;\"> box</span><span style=\"text-decoration: underline; text-decoration-color: #ffbdbd; text-decoration-thickness: 4px; text-underline-offset: 3px;\">?</span><span style=\"text-decoration: underline; text-decoration-color: #ffbdbd; text-decoration-thickness: 4px; text-underline-offset: 3px;\"> Answer</span><span style=\"text-decoration: underline; text-decoration-color: #ff7d7d; text-decoration-thickness: 4px; text-underline-offset: 3px;\"> in</span><span style=\"text-decoration: underline; text-decoration-color: #ff6d6d; text-decoration-thickness: 4px; text-underline-offset: 3px;\"> 1</span><span style=\"text-decoration: underline; text-decoration-color: #ff6161; text-decoration-thickness: 4px; text-underline-offset: 3px;\"> word</span><span style=\"text-decoration: underline; text-decoration-color: #ffa1a1; text-decoration-thickness: 4px; text-underline-offset: 3px;\">.</span> -> Apples</div>"
            ],
            "text/plain": [
              "<IPython.core.display.HTML object>"
            ]
          },
          "metadata": {},
          "output_type": "display_data"
        },
        {
          "data": {
            "text/html": [
              "<style type=\"text/css\">\n",
              "#T_51c2e_row0_col0, #T_51c2e_row0_col1, #T_51c2e_row0_col2, #T_51c2e_row0_col3, #T_51c2e_row0_col4, #T_51c2e_row0_col5, #T_51c2e_row0_col6, #T_51c2e_row0_col7, #T_51c2e_row0_col8, #T_51c2e_row0_col9, #T_51c2e_row0_col10, #T_51c2e_row0_col11, #T_51c2e_row0_col12, #T_51c2e_row0_col13, #T_51c2e_row0_col14, #T_51c2e_row0_col15, #T_51c2e_row0_col16, #T_51c2e_row0_col17, #T_51c2e_row0_col18, #T_51c2e_row0_col19, #T_51c2e_row0_col20, #T_51c2e_row0_col21, #T_51c2e_row0_col22, #T_51c2e_row0_col23, #T_51c2e_row0_col24, #T_51c2e_row0_col25, #T_51c2e_row0_col26, #T_51c2e_row0_col27, #T_51c2e_row0_col28, #T_51c2e_row0_col29, #T_51c2e_row0_col30, #T_51c2e_row0_col31, #T_51c2e_row0_col32, #T_51c2e_row0_col33, #T_51c2e_row0_col34, #T_51c2e_row0_col35, #T_51c2e_row0_col36, #T_51c2e_row0_col37, #T_51c2e_row0_col38, #T_51c2e_row0_col39 {\n",
              "  white-space: pre-wrap;\n",
              "}\n",
              "</style>\n",
              "<table id=\"T_51c2e\">\n",
              "  <thead>\n",
              "    <tr>\n",
              "      <th class=\"blank level0\" >&nbsp;</th>\n",
              "      <th id=\"T_51c2e_level0_col0\" class=\"col_heading level0 col0\" >exp_id</th>\n",
              "      <th id=\"T_51c2e_level0_col1\" class=\"col_heading level0 col1\" >attribution_strategy</th>\n",
              "      <th id=\"T_51c2e_level0_col2\" class=\"col_heading level0 col2\" >perturbation_strategy</th>\n",
              "      <th id=\"T_51c2e_level0_col3\" class=\"col_heading level0 col3\" >unit_definition</th>\n",
              "      <th id=\"T_51c2e_level0_col4\" class=\"col_heading level0 col4\" >token_1</th>\n",
              "      <th id=\"T_51c2e_level0_col5\" class=\"col_heading level0 col5\" >token_2</th>\n",
              "      <th id=\"T_51c2e_level0_col6\" class=\"col_heading level0 col6\" >token_3</th>\n",
              "      <th id=\"T_51c2e_level0_col7\" class=\"col_heading level0 col7\" >token_4</th>\n",
              "      <th id=\"T_51c2e_level0_col8\" class=\"col_heading level0 col8\" >token_5</th>\n",
              "      <th id=\"T_51c2e_level0_col9\" class=\"col_heading level0 col9\" >token_6</th>\n",
              "      <th id=\"T_51c2e_level0_col10\" class=\"col_heading level0 col10\" >token_7</th>\n",
              "      <th id=\"T_51c2e_level0_col11\" class=\"col_heading level0 col11\" >token_8</th>\n",
              "      <th id=\"T_51c2e_level0_col12\" class=\"col_heading level0 col12\" >token_9</th>\n",
              "      <th id=\"T_51c2e_level0_col13\" class=\"col_heading level0 col13\" >token_10</th>\n",
              "      <th id=\"T_51c2e_level0_col14\" class=\"col_heading level0 col14\" >token_11</th>\n",
              "      <th id=\"T_51c2e_level0_col15\" class=\"col_heading level0 col15\" >token_12</th>\n",
              "      <th id=\"T_51c2e_level0_col16\" class=\"col_heading level0 col16\" >token_13</th>\n",
              "      <th id=\"T_51c2e_level0_col17\" class=\"col_heading level0 col17\" >token_14</th>\n",
              "      <th id=\"T_51c2e_level0_col18\" class=\"col_heading level0 col18\" >token_15</th>\n",
              "      <th id=\"T_51c2e_level0_col19\" class=\"col_heading level0 col19\" >token_16</th>\n",
              "      <th id=\"T_51c2e_level0_col20\" class=\"col_heading level0 col20\" >token_17</th>\n",
              "      <th id=\"T_51c2e_level0_col21\" class=\"col_heading level0 col21\" >token_18</th>\n",
              "      <th id=\"T_51c2e_level0_col22\" class=\"col_heading level0 col22\" >token_19</th>\n",
              "      <th id=\"T_51c2e_level0_col23\" class=\"col_heading level0 col23\" >token_20</th>\n",
              "      <th id=\"T_51c2e_level0_col24\" class=\"col_heading level0 col24\" >token_21</th>\n",
              "      <th id=\"T_51c2e_level0_col25\" class=\"col_heading level0 col25\" >token_22</th>\n",
              "      <th id=\"T_51c2e_level0_col26\" class=\"col_heading level0 col26\" >token_23</th>\n",
              "      <th id=\"T_51c2e_level0_col27\" class=\"col_heading level0 col27\" >token_24</th>\n",
              "      <th id=\"T_51c2e_level0_col28\" class=\"col_heading level0 col28\" >token_25</th>\n",
              "      <th id=\"T_51c2e_level0_col29\" class=\"col_heading level0 col29\" >token_26</th>\n",
              "      <th id=\"T_51c2e_level0_col30\" class=\"col_heading level0 col30\" >token_27</th>\n",
              "      <th id=\"T_51c2e_level0_col31\" class=\"col_heading level0 col31\" >token_28</th>\n",
              "      <th id=\"T_51c2e_level0_col32\" class=\"col_heading level0 col32\" >token_29</th>\n",
              "      <th id=\"T_51c2e_level0_col33\" class=\"col_heading level0 col33\" >token_30</th>\n",
              "      <th id=\"T_51c2e_level0_col34\" class=\"col_heading level0 col34\" >token_31</th>\n",
              "      <th id=\"T_51c2e_level0_col35\" class=\"col_heading level0 col35\" >token_32</th>\n",
              "      <th id=\"T_51c2e_level0_col36\" class=\"col_heading level0 col36\" >token_33</th>\n",
              "      <th id=\"T_51c2e_level0_col37\" class=\"col_heading level0 col37\" >token_34</th>\n",
              "      <th id=\"T_51c2e_level0_col38\" class=\"col_heading level0 col38\" >token_35</th>\n",
              "      <th id=\"T_51c2e_level0_col39\" class=\"col_heading level0 col39\" >token_36</th>\n",
              "    </tr>\n",
              "  </thead>\n",
              "  <tbody>\n",
              "    <tr>\n",
              "      <th id=\"T_51c2e_level0_row0\" class=\"row_heading level0 row0\" >0</th>\n",
              "      <td id=\"T_51c2e_row0_col0\" class=\"data row0 col0\" >3</td>\n",
              "      <td id=\"T_51c2e_row0_col1\" class=\"data row0 col1\" >prob_diff</td>\n",
              "      <td id=\"T_51c2e_row0_col2\" class=\"data row0 col2\" >fixed</td>\n",
              "      <td id=\"T_51c2e_row0_col3\" class=\"data row0 col3\" >token</td>\n",
              "      <td id=\"T_51c2e_row0_col4\" class=\"data row0 col4\" >Mary\n",
              "0.32</td>\n",
              "      <td id=\"T_51c2e_row0_col5\" class=\"data row0 col5\" > puts\n",
              "0.31</td>\n",
              "      <td id=\"T_51c2e_row0_col6\" class=\"data row0 col6\" > an\n",
              "0.15</td>\n",
              "      <td id=\"T_51c2e_row0_col7\" class=\"data row0 col7\" > apple\n",
              "0.36</td>\n",
              "      <td id=\"T_51c2e_row0_col8\" class=\"data row0 col8\" > in\n",
              "0.18</td>\n",
              "      <td id=\"T_51c2e_row0_col9\" class=\"data row0 col9\" > the\n",
              "0.18</td>\n",
              "      <td id=\"T_51c2e_row0_col10\" class=\"data row0 col10\" > box\n",
              "0.07</td>\n",
              "      <td id=\"T_51c2e_row0_col11\" class=\"data row0 col11\" >.\n",
              "0.07</td>\n",
              "      <td id=\"T_51c2e_row0_col12\" class=\"data row0 col12\" > The\n",
              "0.07</td>\n",
              "      <td id=\"T_51c2e_row0_col13\" class=\"data row0 col13\" > box\n",
              "0.09</td>\n",
              "      <td id=\"T_51c2e_row0_col14\" class=\"data row0 col14\" > is\n",
              "0.09</td>\n",
              "      <td id=\"T_51c2e_row0_col15\" class=\"data row0 col15\" > labelled\n",
              "0.08</td>\n",
              "      <td id=\"T_51c2e_row0_col16\" class=\"data row0 col16\" > '\n",
              "0.08</td>\n",
              "      <td id=\"T_51c2e_row0_col17\" class=\"data row0 col17\" >pen\n",
              "0.09</td>\n",
              "      <td id=\"T_51c2e_row0_col18\" class=\"data row0 col18\" >cil\n",
              "0.09</td>\n",
              "      <td id=\"T_51c2e_row0_col19\" class=\"data row0 col19\" >s\n",
              "0.09</td>\n",
              "      <td id=\"T_51c2e_row0_col20\" class=\"data row0 col20\" >'.\n",
              "0.09</td>\n",
              "      <td id=\"T_51c2e_row0_col21\" class=\"data row0 col21\" > John\n",
              "0.09</td>\n",
              "      <td id=\"T_51c2e_row0_col22\" class=\"data row0 col22\" > enters\n",
              "0.03</td>\n",
              "      <td id=\"T_51c2e_row0_col23\" class=\"data row0 col23\" > the\n",
              "0.03</td>\n",
              "      <td id=\"T_51c2e_row0_col24\" class=\"data row0 col24\" > room\n",
              "0.03</td>\n",
              "      <td id=\"T_51c2e_row0_col25\" class=\"data row0 col25\" >.\n",
              "0.03</td>\n",
              "      <td id=\"T_51c2e_row0_col26\" class=\"data row0 col26\" > What\n",
              "0.03</td>\n",
              "      <td id=\"T_51c2e_row0_col27\" class=\"data row0 col27\" > does\n",
              "0.03</td>\n",
              "      <td id=\"T_51c2e_row0_col28\" class=\"data row0 col28\" > he\n",
              "0.03</td>\n",
              "      <td id=\"T_51c2e_row0_col29\" class=\"data row0 col29\" > think\n",
              "0.03</td>\n",
              "      <td id=\"T_51c2e_row0_col30\" class=\"data row0 col30\" > is\n",
              "0.03</td>\n",
              "      <td id=\"T_51c2e_row0_col31\" class=\"data row0 col31\" > in\n",
              "0.30</td>\n",
              "      <td id=\"T_51c2e_row0_col32\" class=\"data row0 col32\" > the\n",
              "0.11</td>\n",
              "      <td id=\"T_51c2e_row0_col33\" class=\"data row0 col33\" > box\n",
              "0.17</td>\n",
              "      <td id=\"T_51c2e_row0_col34\" class=\"data row0 col34\" >?\n",
              "0.13</td>\n",
              "      <td id=\"T_51c2e_row0_col35\" class=\"data row0 col35\" > Answer\n",
              "0.13</td>\n",
              "      <td id=\"T_51c2e_row0_col36\" class=\"data row0 col36\" > in\n",
              "0.25</td>\n",
              "      <td id=\"T_51c2e_row0_col37\" class=\"data row0 col37\" > 1\n",
              "0.28</td>\n",
              "      <td id=\"T_51c2e_row0_col38\" class=\"data row0 col38\" > word\n",
              "0.31</td>\n",
              "      <td id=\"T_51c2e_row0_col39\" class=\"data row0 col39\" >.\n",
              "0.18</td>\n",
              "    </tr>\n",
              "  </tbody>\n",
              "</table>\n"
            ],
            "text/plain": [
              "<pandas.io.formats.style.Styler at 0x2afc80500>"
            ]
          },
          "metadata": {},
          "output_type": "display_data"
        }
      ],
      "source": [
        "await gpt3_5_attributor.hierarchical_perturbation(\n",
        "    input_str, logger=logger, use_absolute_attribution=True\n",
        ")\n",
        "print(\"GPT3.5 Attribution:\")\n",
        "logger.print_text_total_attribution(exp_id=-1)\n",
        "logger.print_total_attribution(exp_id=-1)"
      ]
    },
    {
      "cell_type": "markdown",
      "metadata": {},
      "source": [
        "It looks like the request to \"Answer in 1 word\" is pretty important – in fact, it's attributed more highly than the actual contents of the box. Let's try changing it."
      ]
    },
    {
      "cell_type": "code",
      "execution_count": 17,
      "metadata": {},
      "outputs": [
        {
          "name": "stderr",
          "output_type": "stream",
          "text": [
            "Sending 5 concurrent requests at a time: 100%|██████████| 2/2 [00:01<00:00,  1.03it/s]\n",
            "Sending 5 concurrent requests at a time: 100%|██████████| 2/2 [00:01<00:00,  1.37it/s]\n",
            "Sending 5 concurrent requests at a time:   0%|          | 0/3 [00:00<?, ?it/s]\n"
          ]
        },
        {
          "ename": "CancelledError",
          "evalue": "",
          "output_type": "error",
          "traceback": [
            "\u001b[0;31m---------------------------------------------------------------------------\u001b[0m",
            "\u001b[0;31mCancelledError\u001b[0m                            Traceback (most recent call last)",
            "Cell \u001b[0;32mIn[17], line 3\u001b[0m\n\u001b[1;32m      1\u001b[0m input_str \u001b[38;5;241m=\u001b[39m \u001b[38;5;124m\"\u001b[39m\u001b[38;5;124mMary puts an apple in the box. The box is labelled \u001b[39m\u001b[38;5;124m'\u001b[39m\u001b[38;5;124mpencils\u001b[39m\u001b[38;5;124m'\u001b[39m\u001b[38;5;124m. John enters the room. What does he think is in the box? Answer briefly.\u001b[39m\u001b[38;5;124m\"\u001b[39m\n\u001b[0;32m----> 3\u001b[0m \u001b[38;5;28;01mawait\u001b[39;00m gpt3_5_attributor\u001b[38;5;241m.\u001b[39mhierarchical_perturbation(\n\u001b[1;32m      4\u001b[0m     input_str,\n\u001b[1;32m      5\u001b[0m     logger\u001b[38;5;241m=\u001b[39mlogger,\n\u001b[1;32m      6\u001b[0m )\n\u001b[1;32m      8\u001b[0m \u001b[38;5;66;03m# Let's see...\u001b[39;00m\n\u001b[1;32m      9\u001b[0m \u001b[38;5;28mprint\u001b[39m(\u001b[38;5;124m\"\u001b[39m\u001b[38;5;124mGPT3 Total attribution:\u001b[39m\u001b[38;5;124m\"\u001b[39m)\n",
            "File \u001b[0;32m~/PIZZA/attribution/api_attribution.py:196\u001b[0m, in \u001b[0;36mOpenAIAttributor.hierarchical_perturbation\u001b[0;34m(self, original_input, init_chunk_size, stride, perturbation_strategy, attribution_strategies, threshold_attribution_strategy, static_threshold, use_absolute_attribution, unit_definition, ignore_output_token_location, logger, verbosity)\u001b[0m\n\u001b[1;32m    193\u001b[0m     \u001b[38;5;28mprint\u001b[39m(\u001b[38;5;241m*\u001b[39m[[perturbation\u001b[38;5;241m.\u001b[39mmasked_string] \u001b[38;5;28;01mfor\u001b[39;00m perturbation \u001b[38;5;129;01min\u001b[39;00m perturbations], sep\u001b[38;5;241m=\u001b[39m\u001b[38;5;124m\"\u001b[39m\u001b[38;5;124m \u001b[39m\u001b[38;5;124m\"\u001b[39m)\n\u001b[1;32m    195\u001b[0m \u001b[38;5;66;03m# Wait for the perturbed results\u001b[39;00m\n\u001b[0;32m--> 196\u001b[0m outputs \u001b[38;5;241m=\u001b[39m \u001b[38;5;28;01mawait\u001b[39;00m \u001b[38;5;28mself\u001b[39m\u001b[38;5;241m.\u001b[39mget_multiple_completions(\n\u001b[1;32m    197\u001b[0m     [perturbation\u001b[38;5;241m.\u001b[39mperturbed_string \u001b[38;5;28;01mfor\u001b[39;00m perturbation \u001b[38;5;129;01min\u001b[39;00m perturbations]\n\u001b[1;32m    198\u001b[0m )\n\u001b[1;32m    199\u001b[0m total_llm_calls \u001b[38;5;241m+\u001b[39m\u001b[38;5;241m=\u001b[39m \u001b[38;5;28mlen\u001b[39m(outputs)\n\u001b[1;32m    201\u001b[0m \u001b[38;5;66;03m# Calculate attribution scores for each perturbation\u001b[39;00m\n",
            "File \u001b[0;32m~/PIZZA/attribution/api_attribution.py:289\u001b[0m, in \u001b[0;36mOpenAIAttributor.get_multiple_completions\u001b[0;34m(self, inputs)\u001b[0m\n\u001b[1;32m    281\u001b[0m     \u001b[38;5;28;01mfor\u001b[39;00m idx \u001b[38;5;129;01min\u001b[39;00m tqdm(\n\u001b[1;32m    282\u001b[0m         \u001b[38;5;28mrange\u001b[39m(\u001b[38;5;241m0\u001b[39m, \u001b[38;5;28mlen\u001b[39m(tasks), \u001b[38;5;28mself\u001b[39m\u001b[38;5;241m.\u001b[39mmax_concurrent_requests),\n\u001b[1;32m    283\u001b[0m         desc\u001b[38;5;241m=\u001b[39m\u001b[38;5;124mf\u001b[39m\u001b[38;5;124m\"\u001b[39m\u001b[38;5;124mSending \u001b[39m\u001b[38;5;132;01m{\u001b[39;00m\u001b[38;5;28mself\u001b[39m\u001b[38;5;241m.\u001b[39mmax_concurrent_requests\u001b[38;5;132;01m:\u001b[39;00m\u001b[38;5;124m.0f\u001b[39m\u001b[38;5;132;01m}\u001b[39;00m\u001b[38;5;124m concurrent requests at a time\u001b[39m\u001b[38;5;124m\"\u001b[39m,\n\u001b[1;32m    284\u001b[0m     ):\n\u001b[1;32m    285\u001b[0m         batch \u001b[38;5;241m=\u001b[39m [\n\u001b[1;32m    286\u001b[0m             tasks[i]\n\u001b[1;32m    287\u001b[0m             \u001b[38;5;28;01mfor\u001b[39;00m i \u001b[38;5;129;01min\u001b[39;00m \u001b[38;5;28mrange\u001b[39m(idx, \u001b[38;5;28mmin\u001b[39m(idx \u001b[38;5;241m+\u001b[39m \u001b[38;5;28mself\u001b[39m\u001b[38;5;241m.\u001b[39mmax_concurrent_requests, \u001b[38;5;28mlen\u001b[39m(tasks)))\n\u001b[1;32m    288\u001b[0m         ]\n\u001b[0;32m--> 289\u001b[0m         outputs\u001b[38;5;241m.\u001b[39mextend(\u001b[38;5;28;01mawait\u001b[39;00m asyncio\u001b[38;5;241m.\u001b[39mgather(\u001b[38;5;241m*\u001b[39mbatch))\n\u001b[1;32m    290\u001b[0m         \u001b[38;5;28;01mawait\u001b[39;00m asyncio\u001b[38;5;241m.\u001b[39msleep(REQUEST_DELAY)\n\u001b[1;32m    291\u001b[0m \u001b[38;5;28;01melse\u001b[39;00m:\n",
            "File \u001b[0;32m~/PIZZA/attribution/api_attribution.py:265\u001b[0m, in \u001b[0;36mOpenAIAttributor.get_chat_completion\u001b[0;34m(self, input)\u001b[0m\n\u001b[1;32m    264\u001b[0m \u001b[38;5;28;01masync\u001b[39;00m \u001b[38;5;28;01mdef\u001b[39;00m \u001b[38;5;21mget_chat_completion\u001b[39m(\u001b[38;5;28mself\u001b[39m, \u001b[38;5;28minput\u001b[39m: \u001b[38;5;28mstr\u001b[39m) \u001b[38;5;241m-\u001b[39m\u001b[38;5;241m>\u001b[39m StrictChoice:\n\u001b[0;32m--> 265\u001b[0m     response \u001b[38;5;241m=\u001b[39m \u001b[38;5;28;01mawait\u001b[39;00m \u001b[38;5;28mself\u001b[39m\u001b[38;5;241m.\u001b[39mopenai_client\u001b[38;5;241m.\u001b[39mchat\u001b[38;5;241m.\u001b[39mcompletions\u001b[38;5;241m.\u001b[39mcreate(\n\u001b[1;32m    266\u001b[0m         model\u001b[38;5;241m=\u001b[39m\u001b[38;5;28mself\u001b[39m\u001b[38;5;241m.\u001b[39mopenai_model,\n\u001b[1;32m    267\u001b[0m         messages\u001b[38;5;241m=\u001b[39m[{\u001b[38;5;124m\"\u001b[39m\u001b[38;5;124mrole\u001b[39m\u001b[38;5;124m\"\u001b[39m: \u001b[38;5;124m\"\u001b[39m\u001b[38;5;124muser\u001b[39m\u001b[38;5;124m\"\u001b[39m, \u001b[38;5;124m\"\u001b[39m\u001b[38;5;124mcontent\u001b[39m\u001b[38;5;124m\"\u001b[39m: \u001b[38;5;28minput\u001b[39m}],\n\u001b[1;32m    268\u001b[0m         temperature\u001b[38;5;241m=\u001b[39m\u001b[38;5;241m0.0\u001b[39m,\n\u001b[1;32m    269\u001b[0m         seed\u001b[38;5;241m=\u001b[39m\u001b[38;5;241m0\u001b[39m,\n\u001b[1;32m    270\u001b[0m         logprobs\u001b[38;5;241m=\u001b[39m\u001b[38;5;28;01mTrue\u001b[39;00m,\n\u001b[1;32m    271\u001b[0m         top_logprobs\u001b[38;5;241m=\u001b[39m\u001b[38;5;241m20\u001b[39m,\n\u001b[1;32m    272\u001b[0m     )\n\u001b[1;32m    273\u001b[0m     \u001b[38;5;28;01mreturn\u001b[39;00m StrictChoice(\u001b[38;5;241m*\u001b[39m\u001b[38;5;241m*\u001b[39mresponse\u001b[38;5;241m.\u001b[39mchoices[\u001b[38;5;241m0\u001b[39m]\u001b[38;5;241m.\u001b[39mmodel_dump())\n",
            "File \u001b[0;32m~/PIZZA/venv/lib/python3.12/site-packages/openai/resources/chat/completions.py:1344\u001b[0m, in \u001b[0;36mAsyncCompletions.create\u001b[0;34m(self, messages, model, frequency_penalty, function_call, functions, logit_bias, logprobs, max_tokens, n, presence_penalty, response_format, seed, stop, stream, temperature, tool_choice, tools, top_logprobs, top_p, user, extra_headers, extra_query, extra_body, timeout)\u001b[0m\n\u001b[1;32m   1290\u001b[0m \u001b[38;5;129m@required_args\u001b[39m([\u001b[38;5;124m\"\u001b[39m\u001b[38;5;124mmessages\u001b[39m\u001b[38;5;124m\"\u001b[39m, \u001b[38;5;124m\"\u001b[39m\u001b[38;5;124mmodel\u001b[39m\u001b[38;5;124m\"\u001b[39m], [\u001b[38;5;124m\"\u001b[39m\u001b[38;5;124mmessages\u001b[39m\u001b[38;5;124m\"\u001b[39m, \u001b[38;5;124m\"\u001b[39m\u001b[38;5;124mmodel\u001b[39m\u001b[38;5;124m\"\u001b[39m, \u001b[38;5;124m\"\u001b[39m\u001b[38;5;124mstream\u001b[39m\u001b[38;5;124m\"\u001b[39m])\n\u001b[1;32m   1291\u001b[0m \u001b[38;5;28;01masync\u001b[39;00m \u001b[38;5;28;01mdef\u001b[39;00m \u001b[38;5;21mcreate\u001b[39m(\n\u001b[1;32m   1292\u001b[0m     \u001b[38;5;28mself\u001b[39m,\n\u001b[0;32m   (...)\u001b[0m\n\u001b[1;32m   1342\u001b[0m     timeout: \u001b[38;5;28mfloat\u001b[39m \u001b[38;5;241m|\u001b[39m httpx\u001b[38;5;241m.\u001b[39mTimeout \u001b[38;5;241m|\u001b[39m \u001b[38;5;28;01mNone\u001b[39;00m \u001b[38;5;241m|\u001b[39m NotGiven \u001b[38;5;241m=\u001b[39m NOT_GIVEN,\n\u001b[1;32m   1343\u001b[0m ) \u001b[38;5;241m-\u001b[39m\u001b[38;5;241m>\u001b[39m ChatCompletion \u001b[38;5;241m|\u001b[39m AsyncStream[ChatCompletionChunk]:\n\u001b[0;32m-> 1344\u001b[0m     \u001b[38;5;28;01mreturn\u001b[39;00m \u001b[38;5;28;01mawait\u001b[39;00m \u001b[38;5;28mself\u001b[39m\u001b[38;5;241m.\u001b[39m_post(\n\u001b[1;32m   1345\u001b[0m         \u001b[38;5;124m\"\u001b[39m\u001b[38;5;124m/chat/completions\u001b[39m\u001b[38;5;124m\"\u001b[39m,\n\u001b[1;32m   1346\u001b[0m         body\u001b[38;5;241m=\u001b[39m\u001b[38;5;28;01mawait\u001b[39;00m async_maybe_transform(\n\u001b[1;32m   1347\u001b[0m             {\n\u001b[1;32m   1348\u001b[0m                 \u001b[38;5;124m\"\u001b[39m\u001b[38;5;124mmessages\u001b[39m\u001b[38;5;124m\"\u001b[39m: messages,\n\u001b[1;32m   1349\u001b[0m                 \u001b[38;5;124m\"\u001b[39m\u001b[38;5;124mmodel\u001b[39m\u001b[38;5;124m\"\u001b[39m: model,\n\u001b[1;32m   1350\u001b[0m                 \u001b[38;5;124m\"\u001b[39m\u001b[38;5;124mfrequency_penalty\u001b[39m\u001b[38;5;124m\"\u001b[39m: frequency_penalty,\n\u001b[1;32m   1351\u001b[0m                 \u001b[38;5;124m\"\u001b[39m\u001b[38;5;124mfunction_call\u001b[39m\u001b[38;5;124m\"\u001b[39m: function_call,\n\u001b[1;32m   1352\u001b[0m                 \u001b[38;5;124m\"\u001b[39m\u001b[38;5;124mfunctions\u001b[39m\u001b[38;5;124m\"\u001b[39m: functions,\n\u001b[1;32m   1353\u001b[0m                 \u001b[38;5;124m\"\u001b[39m\u001b[38;5;124mlogit_bias\u001b[39m\u001b[38;5;124m\"\u001b[39m: logit_bias,\n\u001b[1;32m   1354\u001b[0m                 \u001b[38;5;124m\"\u001b[39m\u001b[38;5;124mlogprobs\u001b[39m\u001b[38;5;124m\"\u001b[39m: logprobs,\n\u001b[1;32m   1355\u001b[0m                 \u001b[38;5;124m\"\u001b[39m\u001b[38;5;124mmax_tokens\u001b[39m\u001b[38;5;124m\"\u001b[39m: max_tokens,\n\u001b[1;32m   1356\u001b[0m                 \u001b[38;5;124m\"\u001b[39m\u001b[38;5;124mn\u001b[39m\u001b[38;5;124m\"\u001b[39m: n,\n\u001b[1;32m   1357\u001b[0m                 \u001b[38;5;124m\"\u001b[39m\u001b[38;5;124mpresence_penalty\u001b[39m\u001b[38;5;124m\"\u001b[39m: presence_penalty,\n\u001b[1;32m   1358\u001b[0m                 \u001b[38;5;124m\"\u001b[39m\u001b[38;5;124mresponse_format\u001b[39m\u001b[38;5;124m\"\u001b[39m: response_format,\n\u001b[1;32m   1359\u001b[0m                 \u001b[38;5;124m\"\u001b[39m\u001b[38;5;124mseed\u001b[39m\u001b[38;5;124m\"\u001b[39m: seed,\n\u001b[1;32m   1360\u001b[0m                 \u001b[38;5;124m\"\u001b[39m\u001b[38;5;124mstop\u001b[39m\u001b[38;5;124m\"\u001b[39m: stop,\n\u001b[1;32m   1361\u001b[0m                 \u001b[38;5;124m\"\u001b[39m\u001b[38;5;124mstream\u001b[39m\u001b[38;5;124m\"\u001b[39m: stream,\n\u001b[1;32m   1362\u001b[0m                 \u001b[38;5;124m\"\u001b[39m\u001b[38;5;124mtemperature\u001b[39m\u001b[38;5;124m\"\u001b[39m: temperature,\n\u001b[1;32m   1363\u001b[0m                 \u001b[38;5;124m\"\u001b[39m\u001b[38;5;124mtool_choice\u001b[39m\u001b[38;5;124m\"\u001b[39m: tool_choice,\n\u001b[1;32m   1364\u001b[0m                 \u001b[38;5;124m\"\u001b[39m\u001b[38;5;124mtools\u001b[39m\u001b[38;5;124m\"\u001b[39m: tools,\n\u001b[1;32m   1365\u001b[0m                 \u001b[38;5;124m\"\u001b[39m\u001b[38;5;124mtop_logprobs\u001b[39m\u001b[38;5;124m\"\u001b[39m: top_logprobs,\n\u001b[1;32m   1366\u001b[0m                 \u001b[38;5;124m\"\u001b[39m\u001b[38;5;124mtop_p\u001b[39m\u001b[38;5;124m\"\u001b[39m: top_p,\n\u001b[1;32m   1367\u001b[0m                 \u001b[38;5;124m\"\u001b[39m\u001b[38;5;124muser\u001b[39m\u001b[38;5;124m\"\u001b[39m: user,\n\u001b[1;32m   1368\u001b[0m             },\n\u001b[1;32m   1369\u001b[0m             completion_create_params\u001b[38;5;241m.\u001b[39mCompletionCreateParams,\n\u001b[1;32m   1370\u001b[0m         ),\n\u001b[1;32m   1371\u001b[0m         options\u001b[38;5;241m=\u001b[39mmake_request_options(\n\u001b[1;32m   1372\u001b[0m             extra_headers\u001b[38;5;241m=\u001b[39mextra_headers, extra_query\u001b[38;5;241m=\u001b[39mextra_query, extra_body\u001b[38;5;241m=\u001b[39mextra_body, timeout\u001b[38;5;241m=\u001b[39mtimeout\n\u001b[1;32m   1373\u001b[0m         ),\n\u001b[1;32m   1374\u001b[0m         cast_to\u001b[38;5;241m=\u001b[39mChatCompletion,\n\u001b[1;32m   1375\u001b[0m         stream\u001b[38;5;241m=\u001b[39mstream \u001b[38;5;129;01mor\u001b[39;00m \u001b[38;5;28;01mFalse\u001b[39;00m,\n\u001b[1;32m   1376\u001b[0m         stream_cls\u001b[38;5;241m=\u001b[39mAsyncStream[ChatCompletionChunk],\n\u001b[1;32m   1377\u001b[0m     )\n",
            "File \u001b[0;32m~/PIZZA/venv/lib/python3.12/site-packages/openai/_base_client.py:1783\u001b[0m, in \u001b[0;36mAsyncAPIClient.post\u001b[0;34m(self, path, cast_to, body, files, options, stream, stream_cls)\u001b[0m\n\u001b[1;32m   1769\u001b[0m \u001b[38;5;28;01masync\u001b[39;00m \u001b[38;5;28;01mdef\u001b[39;00m \u001b[38;5;21mpost\u001b[39m(\n\u001b[1;32m   1770\u001b[0m     \u001b[38;5;28mself\u001b[39m,\n\u001b[1;32m   1771\u001b[0m     path: \u001b[38;5;28mstr\u001b[39m,\n\u001b[0;32m   (...)\u001b[0m\n\u001b[1;32m   1778\u001b[0m     stream_cls: \u001b[38;5;28mtype\u001b[39m[_AsyncStreamT] \u001b[38;5;241m|\u001b[39m \u001b[38;5;28;01mNone\u001b[39;00m \u001b[38;5;241m=\u001b[39m \u001b[38;5;28;01mNone\u001b[39;00m,\n\u001b[1;32m   1779\u001b[0m ) \u001b[38;5;241m-\u001b[39m\u001b[38;5;241m>\u001b[39m ResponseT \u001b[38;5;241m|\u001b[39m _AsyncStreamT:\n\u001b[1;32m   1780\u001b[0m     opts \u001b[38;5;241m=\u001b[39m FinalRequestOptions\u001b[38;5;241m.\u001b[39mconstruct(\n\u001b[1;32m   1781\u001b[0m         method\u001b[38;5;241m=\u001b[39m\u001b[38;5;124m\"\u001b[39m\u001b[38;5;124mpost\u001b[39m\u001b[38;5;124m\"\u001b[39m, url\u001b[38;5;241m=\u001b[39mpath, json_data\u001b[38;5;241m=\u001b[39mbody, files\u001b[38;5;241m=\u001b[39m\u001b[38;5;28;01mawait\u001b[39;00m async_to_httpx_files(files), \u001b[38;5;241m*\u001b[39m\u001b[38;5;241m*\u001b[39moptions\n\u001b[1;32m   1782\u001b[0m     )\n\u001b[0;32m-> 1783\u001b[0m     \u001b[38;5;28;01mreturn\u001b[39;00m \u001b[38;5;28;01mawait\u001b[39;00m \u001b[38;5;28mself\u001b[39m\u001b[38;5;241m.\u001b[39mrequest(cast_to, opts, stream\u001b[38;5;241m=\u001b[39mstream, stream_cls\u001b[38;5;241m=\u001b[39mstream_cls)\n",
            "File \u001b[0;32m~/PIZZA/venv/lib/python3.12/site-packages/openai/_base_client.py:1486\u001b[0m, in \u001b[0;36mAsyncAPIClient.request\u001b[0;34m(self, cast_to, options, stream, stream_cls, remaining_retries)\u001b[0m\n\u001b[1;32m   1477\u001b[0m \u001b[38;5;28;01masync\u001b[39;00m \u001b[38;5;28;01mdef\u001b[39;00m \u001b[38;5;21mrequest\u001b[39m(\n\u001b[1;32m   1478\u001b[0m     \u001b[38;5;28mself\u001b[39m,\n\u001b[1;32m   1479\u001b[0m     cast_to: Type[ResponseT],\n\u001b[0;32m   (...)\u001b[0m\n\u001b[1;32m   1484\u001b[0m     remaining_retries: Optional[\u001b[38;5;28mint\u001b[39m] \u001b[38;5;241m=\u001b[39m \u001b[38;5;28;01mNone\u001b[39;00m,\n\u001b[1;32m   1485\u001b[0m ) \u001b[38;5;241m-\u001b[39m\u001b[38;5;241m>\u001b[39m ResponseT \u001b[38;5;241m|\u001b[39m _AsyncStreamT:\n\u001b[0;32m-> 1486\u001b[0m     \u001b[38;5;28;01mreturn\u001b[39;00m \u001b[38;5;28;01mawait\u001b[39;00m \u001b[38;5;28mself\u001b[39m\u001b[38;5;241m.\u001b[39m_request(\n\u001b[1;32m   1487\u001b[0m         cast_to\u001b[38;5;241m=\u001b[39mcast_to,\n\u001b[1;32m   1488\u001b[0m         options\u001b[38;5;241m=\u001b[39moptions,\n\u001b[1;32m   1489\u001b[0m         stream\u001b[38;5;241m=\u001b[39mstream,\n\u001b[1;32m   1490\u001b[0m         stream_cls\u001b[38;5;241m=\u001b[39mstream_cls,\n\u001b[1;32m   1491\u001b[0m         remaining_retries\u001b[38;5;241m=\u001b[39mremaining_retries,\n\u001b[1;32m   1492\u001b[0m     )\n",
            "File \u001b[0;32m~/PIZZA/venv/lib/python3.12/site-packages/openai/_base_client.py:1515\u001b[0m, in \u001b[0;36mAsyncAPIClient._request\u001b[0;34m(self, cast_to, options, stream, stream_cls, remaining_retries)\u001b[0m\n\u001b[1;32m   1512\u001b[0m     kwargs[\u001b[38;5;124m\"\u001b[39m\u001b[38;5;124mauth\u001b[39m\u001b[38;5;124m\"\u001b[39m] \u001b[38;5;241m=\u001b[39m \u001b[38;5;28mself\u001b[39m\u001b[38;5;241m.\u001b[39mcustom_auth\n\u001b[1;32m   1514\u001b[0m \u001b[38;5;28;01mtry\u001b[39;00m:\n\u001b[0;32m-> 1515\u001b[0m     response \u001b[38;5;241m=\u001b[39m \u001b[38;5;28;01mawait\u001b[39;00m \u001b[38;5;28mself\u001b[39m\u001b[38;5;241m.\u001b[39m_client\u001b[38;5;241m.\u001b[39msend(\n\u001b[1;32m   1516\u001b[0m         request,\n\u001b[1;32m   1517\u001b[0m         stream\u001b[38;5;241m=\u001b[39mstream \u001b[38;5;129;01mor\u001b[39;00m \u001b[38;5;28mself\u001b[39m\u001b[38;5;241m.\u001b[39m_should_stream_response_body(request\u001b[38;5;241m=\u001b[39mrequest),\n\u001b[1;32m   1518\u001b[0m         \u001b[38;5;241m*\u001b[39m\u001b[38;5;241m*\u001b[39mkwargs,\n\u001b[1;32m   1519\u001b[0m     )\n\u001b[1;32m   1520\u001b[0m \u001b[38;5;28;01mexcept\u001b[39;00m httpx\u001b[38;5;241m.\u001b[39mTimeoutException \u001b[38;5;28;01mas\u001b[39;00m err:\n\u001b[1;32m   1521\u001b[0m     log\u001b[38;5;241m.\u001b[39mdebug(\u001b[38;5;124m\"\u001b[39m\u001b[38;5;124mEncountered httpx.TimeoutException\u001b[39m\u001b[38;5;124m\"\u001b[39m, exc_info\u001b[38;5;241m=\u001b[39m\u001b[38;5;28;01mTrue\u001b[39;00m)\n",
            "File \u001b[0;32m~/PIZZA/venv/lib/python3.12/site-packages/httpx/_client.py:1661\u001b[0m, in \u001b[0;36mAsyncClient.send\u001b[0;34m(self, request, stream, auth, follow_redirects)\u001b[0m\n\u001b[1;32m   1653\u001b[0m follow_redirects \u001b[38;5;241m=\u001b[39m (\n\u001b[1;32m   1654\u001b[0m     \u001b[38;5;28mself\u001b[39m\u001b[38;5;241m.\u001b[39mfollow_redirects\n\u001b[1;32m   1655\u001b[0m     \u001b[38;5;28;01mif\u001b[39;00m \u001b[38;5;28misinstance\u001b[39m(follow_redirects, UseClientDefault)\n\u001b[1;32m   1656\u001b[0m     \u001b[38;5;28;01melse\u001b[39;00m follow_redirects\n\u001b[1;32m   1657\u001b[0m )\n\u001b[1;32m   1659\u001b[0m auth \u001b[38;5;241m=\u001b[39m \u001b[38;5;28mself\u001b[39m\u001b[38;5;241m.\u001b[39m_build_request_auth(request, auth)\n\u001b[0;32m-> 1661\u001b[0m response \u001b[38;5;241m=\u001b[39m \u001b[38;5;28;01mawait\u001b[39;00m \u001b[38;5;28mself\u001b[39m\u001b[38;5;241m.\u001b[39m_send_handling_auth(\n\u001b[1;32m   1662\u001b[0m     request,\n\u001b[1;32m   1663\u001b[0m     auth\u001b[38;5;241m=\u001b[39mauth,\n\u001b[1;32m   1664\u001b[0m     follow_redirects\u001b[38;5;241m=\u001b[39mfollow_redirects,\n\u001b[1;32m   1665\u001b[0m     history\u001b[38;5;241m=\u001b[39m[],\n\u001b[1;32m   1666\u001b[0m )\n\u001b[1;32m   1667\u001b[0m \u001b[38;5;28;01mtry\u001b[39;00m:\n\u001b[1;32m   1668\u001b[0m     \u001b[38;5;28;01mif\u001b[39;00m \u001b[38;5;129;01mnot\u001b[39;00m stream:\n",
            "File \u001b[0;32m~/PIZZA/venv/lib/python3.12/site-packages/httpx/_client.py:1689\u001b[0m, in \u001b[0;36mAsyncClient._send_handling_auth\u001b[0;34m(self, request, auth, follow_redirects, history)\u001b[0m\n\u001b[1;32m   1686\u001b[0m request \u001b[38;5;241m=\u001b[39m \u001b[38;5;28;01mawait\u001b[39;00m auth_flow\u001b[38;5;241m.\u001b[39m\u001b[38;5;21m__anext__\u001b[39m()\n\u001b[1;32m   1688\u001b[0m \u001b[38;5;28;01mwhile\u001b[39;00m \u001b[38;5;28;01mTrue\u001b[39;00m:\n\u001b[0;32m-> 1689\u001b[0m     response \u001b[38;5;241m=\u001b[39m \u001b[38;5;28;01mawait\u001b[39;00m \u001b[38;5;28mself\u001b[39m\u001b[38;5;241m.\u001b[39m_send_handling_redirects(\n\u001b[1;32m   1690\u001b[0m         request,\n\u001b[1;32m   1691\u001b[0m         follow_redirects\u001b[38;5;241m=\u001b[39mfollow_redirects,\n\u001b[1;32m   1692\u001b[0m         history\u001b[38;5;241m=\u001b[39mhistory,\n\u001b[1;32m   1693\u001b[0m     )\n\u001b[1;32m   1694\u001b[0m     \u001b[38;5;28;01mtry\u001b[39;00m:\n\u001b[1;32m   1695\u001b[0m         \u001b[38;5;28;01mtry\u001b[39;00m:\n",
            "File \u001b[0;32m~/PIZZA/venv/lib/python3.12/site-packages/httpx/_client.py:1726\u001b[0m, in \u001b[0;36mAsyncClient._send_handling_redirects\u001b[0;34m(self, request, follow_redirects, history)\u001b[0m\n\u001b[1;32m   1723\u001b[0m \u001b[38;5;28;01mfor\u001b[39;00m hook \u001b[38;5;129;01min\u001b[39;00m \u001b[38;5;28mself\u001b[39m\u001b[38;5;241m.\u001b[39m_event_hooks[\u001b[38;5;124m\"\u001b[39m\u001b[38;5;124mrequest\u001b[39m\u001b[38;5;124m\"\u001b[39m]:\n\u001b[1;32m   1724\u001b[0m     \u001b[38;5;28;01mawait\u001b[39;00m hook(request)\n\u001b[0;32m-> 1726\u001b[0m response \u001b[38;5;241m=\u001b[39m \u001b[38;5;28;01mawait\u001b[39;00m \u001b[38;5;28mself\u001b[39m\u001b[38;5;241m.\u001b[39m_send_single_request(request)\n\u001b[1;32m   1727\u001b[0m \u001b[38;5;28;01mtry\u001b[39;00m:\n\u001b[1;32m   1728\u001b[0m     \u001b[38;5;28;01mfor\u001b[39;00m hook \u001b[38;5;129;01min\u001b[39;00m \u001b[38;5;28mself\u001b[39m\u001b[38;5;241m.\u001b[39m_event_hooks[\u001b[38;5;124m\"\u001b[39m\u001b[38;5;124mresponse\u001b[39m\u001b[38;5;124m\"\u001b[39m]:\n",
            "File \u001b[0;32m~/PIZZA/venv/lib/python3.12/site-packages/httpx/_client.py:1763\u001b[0m, in \u001b[0;36mAsyncClient._send_single_request\u001b[0;34m(self, request)\u001b[0m\n\u001b[1;32m   1758\u001b[0m     \u001b[38;5;28;01mraise\u001b[39;00m \u001b[38;5;167;01mRuntimeError\u001b[39;00m(\n\u001b[1;32m   1759\u001b[0m         \u001b[38;5;124m\"\u001b[39m\u001b[38;5;124mAttempted to send an sync request with an AsyncClient instance.\u001b[39m\u001b[38;5;124m\"\u001b[39m\n\u001b[1;32m   1760\u001b[0m     )\n\u001b[1;32m   1762\u001b[0m \u001b[38;5;28;01mwith\u001b[39;00m request_context(request\u001b[38;5;241m=\u001b[39mrequest):\n\u001b[0;32m-> 1763\u001b[0m     response \u001b[38;5;241m=\u001b[39m \u001b[38;5;28;01mawait\u001b[39;00m transport\u001b[38;5;241m.\u001b[39mhandle_async_request(request)\n\u001b[1;32m   1765\u001b[0m \u001b[38;5;28;01massert\u001b[39;00m \u001b[38;5;28misinstance\u001b[39m(response\u001b[38;5;241m.\u001b[39mstream, AsyncByteStream)\n\u001b[1;32m   1766\u001b[0m response\u001b[38;5;241m.\u001b[39mrequest \u001b[38;5;241m=\u001b[39m request\n",
            "File \u001b[0;32m~/PIZZA/venv/lib/python3.12/site-packages/httpx/_transports/default.py:373\u001b[0m, in \u001b[0;36mAsyncHTTPTransport.handle_async_request\u001b[0;34m(self, request)\u001b[0m\n\u001b[1;32m    360\u001b[0m req \u001b[38;5;241m=\u001b[39m httpcore\u001b[38;5;241m.\u001b[39mRequest(\n\u001b[1;32m    361\u001b[0m     method\u001b[38;5;241m=\u001b[39mrequest\u001b[38;5;241m.\u001b[39mmethod,\n\u001b[1;32m    362\u001b[0m     url\u001b[38;5;241m=\u001b[39mhttpcore\u001b[38;5;241m.\u001b[39mURL(\n\u001b[0;32m   (...)\u001b[0m\n\u001b[1;32m    370\u001b[0m     extensions\u001b[38;5;241m=\u001b[39mrequest\u001b[38;5;241m.\u001b[39mextensions,\n\u001b[1;32m    371\u001b[0m )\n\u001b[1;32m    372\u001b[0m \u001b[38;5;28;01mwith\u001b[39;00m map_httpcore_exceptions():\n\u001b[0;32m--> 373\u001b[0m     resp \u001b[38;5;241m=\u001b[39m \u001b[38;5;28;01mawait\u001b[39;00m \u001b[38;5;28mself\u001b[39m\u001b[38;5;241m.\u001b[39m_pool\u001b[38;5;241m.\u001b[39mhandle_async_request(req)\n\u001b[1;32m    375\u001b[0m \u001b[38;5;28;01massert\u001b[39;00m \u001b[38;5;28misinstance\u001b[39m(resp\u001b[38;5;241m.\u001b[39mstream, typing\u001b[38;5;241m.\u001b[39mAsyncIterable)\n\u001b[1;32m    377\u001b[0m \u001b[38;5;28;01mreturn\u001b[39;00m Response(\n\u001b[1;32m    378\u001b[0m     status_code\u001b[38;5;241m=\u001b[39mresp\u001b[38;5;241m.\u001b[39mstatus,\n\u001b[1;32m    379\u001b[0m     headers\u001b[38;5;241m=\u001b[39mresp\u001b[38;5;241m.\u001b[39mheaders,\n\u001b[1;32m    380\u001b[0m     stream\u001b[38;5;241m=\u001b[39mAsyncResponseStream(resp\u001b[38;5;241m.\u001b[39mstream),\n\u001b[1;32m    381\u001b[0m     extensions\u001b[38;5;241m=\u001b[39mresp\u001b[38;5;241m.\u001b[39mextensions,\n\u001b[1;32m    382\u001b[0m )\n",
            "File \u001b[0;32m~/PIZZA/venv/lib/python3.12/site-packages/httpcore/_async/connection_pool.py:216\u001b[0m, in \u001b[0;36mAsyncConnectionPool.handle_async_request\u001b[0;34m(self, request)\u001b[0m\n\u001b[1;32m    213\u001b[0m         closing \u001b[38;5;241m=\u001b[39m \u001b[38;5;28mself\u001b[39m\u001b[38;5;241m.\u001b[39m_assign_requests_to_connections()\n\u001b[1;32m    215\u001b[0m     \u001b[38;5;28;01mawait\u001b[39;00m \u001b[38;5;28mself\u001b[39m\u001b[38;5;241m.\u001b[39m_close_connections(closing)\n\u001b[0;32m--> 216\u001b[0m     \u001b[38;5;28;01mraise\u001b[39;00m exc \u001b[38;5;28;01mfrom\u001b[39;00m \u001b[38;5;28;01mNone\u001b[39;00m\n\u001b[1;32m    218\u001b[0m \u001b[38;5;66;03m# Return the response. Note that in this case we still have to manage\u001b[39;00m\n\u001b[1;32m    219\u001b[0m \u001b[38;5;66;03m# the point at which the response is closed.\u001b[39;00m\n\u001b[1;32m    220\u001b[0m \u001b[38;5;28;01massert\u001b[39;00m \u001b[38;5;28misinstance\u001b[39m(response\u001b[38;5;241m.\u001b[39mstream, AsyncIterable)\n",
            "File \u001b[0;32m~/PIZZA/venv/lib/python3.12/site-packages/httpcore/_async/connection_pool.py:196\u001b[0m, in \u001b[0;36mAsyncConnectionPool.handle_async_request\u001b[0;34m(self, request)\u001b[0m\n\u001b[1;32m    192\u001b[0m connection \u001b[38;5;241m=\u001b[39m \u001b[38;5;28;01mawait\u001b[39;00m pool_request\u001b[38;5;241m.\u001b[39mwait_for_connection(timeout\u001b[38;5;241m=\u001b[39mtimeout)\n\u001b[1;32m    194\u001b[0m \u001b[38;5;28;01mtry\u001b[39;00m:\n\u001b[1;32m    195\u001b[0m     \u001b[38;5;66;03m# Send the request on the assigned connection.\u001b[39;00m\n\u001b[0;32m--> 196\u001b[0m     response \u001b[38;5;241m=\u001b[39m \u001b[38;5;28;01mawait\u001b[39;00m connection\u001b[38;5;241m.\u001b[39mhandle_async_request(\n\u001b[1;32m    197\u001b[0m         pool_request\u001b[38;5;241m.\u001b[39mrequest\n\u001b[1;32m    198\u001b[0m     )\n\u001b[1;32m    199\u001b[0m \u001b[38;5;28;01mexcept\u001b[39;00m ConnectionNotAvailable:\n\u001b[1;32m    200\u001b[0m     \u001b[38;5;66;03m# In some cases a connection may initially be available to\u001b[39;00m\n\u001b[1;32m    201\u001b[0m     \u001b[38;5;66;03m# handle a request, but then become unavailable.\u001b[39;00m\n\u001b[1;32m    202\u001b[0m     \u001b[38;5;66;03m#\u001b[39;00m\n\u001b[1;32m    203\u001b[0m     \u001b[38;5;66;03m# In this case we clear the connection and try again.\u001b[39;00m\n\u001b[1;32m    204\u001b[0m     pool_request\u001b[38;5;241m.\u001b[39mclear_connection()\n",
            "File \u001b[0;32m~/PIZZA/venv/lib/python3.12/site-packages/httpcore/_async/connection.py:99\u001b[0m, in \u001b[0;36mAsyncHTTPConnection.handle_async_request\u001b[0;34m(self, request)\u001b[0m\n\u001b[1;32m     97\u001b[0m \u001b[38;5;28;01mexcept\u001b[39;00m \u001b[38;5;167;01mBaseException\u001b[39;00m \u001b[38;5;28;01mas\u001b[39;00m exc:\n\u001b[1;32m     98\u001b[0m     \u001b[38;5;28mself\u001b[39m\u001b[38;5;241m.\u001b[39m_connect_failed \u001b[38;5;241m=\u001b[39m \u001b[38;5;28;01mTrue\u001b[39;00m\n\u001b[0;32m---> 99\u001b[0m     \u001b[38;5;28;01mraise\u001b[39;00m exc\n\u001b[1;32m    101\u001b[0m \u001b[38;5;28;01mreturn\u001b[39;00m \u001b[38;5;28;01mawait\u001b[39;00m \u001b[38;5;28mself\u001b[39m\u001b[38;5;241m.\u001b[39m_connection\u001b[38;5;241m.\u001b[39mhandle_async_request(request)\n",
            "File \u001b[0;32m~/PIZZA/venv/lib/python3.12/site-packages/httpcore/_async/connection.py:74\u001b[0m, in \u001b[0;36mAsyncHTTPConnection.handle_async_request\u001b[0;34m(self, request)\u001b[0m\n\u001b[1;32m     69\u001b[0m     \u001b[38;5;28;01mraise\u001b[39;00m \u001b[38;5;167;01mRuntimeError\u001b[39;00m(\n\u001b[1;32m     70\u001b[0m         \u001b[38;5;124mf\u001b[39m\u001b[38;5;124m\"\u001b[39m\u001b[38;5;124mAttempted to send request to \u001b[39m\u001b[38;5;132;01m{\u001b[39;00mrequest\u001b[38;5;241m.\u001b[39murl\u001b[38;5;241m.\u001b[39morigin\u001b[38;5;132;01m}\u001b[39;00m\u001b[38;5;124m on connection to \u001b[39m\u001b[38;5;132;01m{\u001b[39;00m\u001b[38;5;28mself\u001b[39m\u001b[38;5;241m.\u001b[39m_origin\u001b[38;5;132;01m}\u001b[39;00m\u001b[38;5;124m\"\u001b[39m\n\u001b[1;32m     71\u001b[0m     )\n\u001b[1;32m     73\u001b[0m \u001b[38;5;28;01mtry\u001b[39;00m:\n\u001b[0;32m---> 74\u001b[0m     \u001b[38;5;28;01masync\u001b[39;00m \u001b[38;5;28;01mwith\u001b[39;00m \u001b[38;5;28mself\u001b[39m\u001b[38;5;241m.\u001b[39m_request_lock:\n\u001b[1;32m     75\u001b[0m         \u001b[38;5;28;01mif\u001b[39;00m \u001b[38;5;28mself\u001b[39m\u001b[38;5;241m.\u001b[39m_connection \u001b[38;5;129;01mis\u001b[39;00m \u001b[38;5;28;01mNone\u001b[39;00m:\n\u001b[1;32m     76\u001b[0m             stream \u001b[38;5;241m=\u001b[39m \u001b[38;5;28;01mawait\u001b[39;00m \u001b[38;5;28mself\u001b[39m\u001b[38;5;241m.\u001b[39m_connect(request)\n",
            "File \u001b[0;32m~/PIZZA/venv/lib/python3.12/site-packages/httpcore/_synchronization.py:76\u001b[0m, in \u001b[0;36mAsyncLock.__aenter__\u001b[0;34m(self)\u001b[0m\n\u001b[1;32m     74\u001b[0m     \u001b[38;5;28;01mawait\u001b[39;00m \u001b[38;5;28mself\u001b[39m\u001b[38;5;241m.\u001b[39m_trio_lock\u001b[38;5;241m.\u001b[39macquire()\n\u001b[1;32m     75\u001b[0m \u001b[38;5;28;01melif\u001b[39;00m \u001b[38;5;28mself\u001b[39m\u001b[38;5;241m.\u001b[39m_backend \u001b[38;5;241m==\u001b[39m \u001b[38;5;124m\"\u001b[39m\u001b[38;5;124masyncio\u001b[39m\u001b[38;5;124m\"\u001b[39m:\n\u001b[0;32m---> 76\u001b[0m     \u001b[38;5;28;01mawait\u001b[39;00m \u001b[38;5;28mself\u001b[39m\u001b[38;5;241m.\u001b[39m_anyio_lock\u001b[38;5;241m.\u001b[39macquire()\n\u001b[1;32m     78\u001b[0m \u001b[38;5;28;01mreturn\u001b[39;00m \u001b[38;5;28mself\u001b[39m\n",
            "File \u001b[0;32m~/PIZZA/venv/lib/python3.12/site-packages/anyio/_core/_synchronization.py:179\u001b[0m, in \u001b[0;36mLock.acquire\u001b[0;34m(self)\u001b[0m\n\u001b[1;32m    177\u001b[0m \u001b[38;5;28;01melse\u001b[39;00m:\n\u001b[1;32m    178\u001b[0m     \u001b[38;5;28;01mtry\u001b[39;00m:\n\u001b[0;32m--> 179\u001b[0m         \u001b[38;5;28;01mawait\u001b[39;00m cancel_shielded_checkpoint()\n\u001b[1;32m    180\u001b[0m     \u001b[38;5;28;01mexcept\u001b[39;00m \u001b[38;5;167;01mBaseException\u001b[39;00m:\n\u001b[1;32m    181\u001b[0m         \u001b[38;5;28mself\u001b[39m\u001b[38;5;241m.\u001b[39mrelease()\n",
            "File \u001b[0;32m~/PIZZA/venv/lib/python3.12/site-packages/anyio/lowlevel.py:55\u001b[0m, in \u001b[0;36mcancel_shielded_checkpoint\u001b[0;34m()\u001b[0m\n\u001b[1;32m     42\u001b[0m \u001b[38;5;28;01masync\u001b[39;00m \u001b[38;5;28;01mdef\u001b[39;00m \u001b[38;5;21mcancel_shielded_checkpoint\u001b[39m() \u001b[38;5;241m-\u001b[39m\u001b[38;5;241m>\u001b[39m \u001b[38;5;28;01mNone\u001b[39;00m:\n\u001b[1;32m     43\u001b[0m \u001b[38;5;250m    \u001b[39m\u001b[38;5;124;03m\"\"\"\u001b[39;00m\n\u001b[1;32m     44\u001b[0m \u001b[38;5;124;03m    Allow the scheduler to switch to another task but without checking for cancellation.\u001b[39;00m\n\u001b[1;32m     45\u001b[0m \n\u001b[0;32m   (...)\u001b[0m\n\u001b[1;32m     53\u001b[0m \n\u001b[1;32m     54\u001b[0m \u001b[38;5;124;03m    \"\"\"\u001b[39;00m\n\u001b[0;32m---> 55\u001b[0m     \u001b[38;5;28;01mawait\u001b[39;00m get_async_backend()\u001b[38;5;241m.\u001b[39mcancel_shielded_checkpoint()\n",
            "File \u001b[0;32m~/PIZZA/venv/lib/python3.12/site-packages/anyio/_backends/_asyncio.py:2074\u001b[0m, in \u001b[0;36mAsyncIOBackend.cancel_shielded_checkpoint\u001b[0;34m(cls)\u001b[0m\n\u001b[1;32m   2071\u001b[0m \u001b[38;5;129m@classmethod\u001b[39m\n\u001b[1;32m   2072\u001b[0m \u001b[38;5;28;01masync\u001b[39;00m \u001b[38;5;28;01mdef\u001b[39;00m \u001b[38;5;21mcancel_shielded_checkpoint\u001b[39m(\u001b[38;5;28mcls\u001b[39m) \u001b[38;5;241m-\u001b[39m\u001b[38;5;241m>\u001b[39m \u001b[38;5;28;01mNone\u001b[39;00m:\n\u001b[1;32m   2073\u001b[0m     \u001b[38;5;28;01mwith\u001b[39;00m CancelScope(shield\u001b[38;5;241m=\u001b[39m\u001b[38;5;28;01mTrue\u001b[39;00m):\n\u001b[0;32m-> 2074\u001b[0m         \u001b[38;5;28;01mawait\u001b[39;00m sleep(\u001b[38;5;241m0\u001b[39m)\n",
            "File \u001b[0;32m/opt/homebrew/Cellar/python@3.12/3.12.4/Frameworks/Python.framework/Versions/3.12/lib/python3.12/asyncio/tasks.py:656\u001b[0m, in \u001b[0;36msleep\u001b[0;34m(delay, result)\u001b[0m\n\u001b[1;32m    654\u001b[0m \u001b[38;5;250m\u001b[39m\u001b[38;5;124;03m\"\"\"Coroutine that completes after a given time (in seconds).\"\"\"\u001b[39;00m\n\u001b[1;32m    655\u001b[0m \u001b[38;5;28;01mif\u001b[39;00m delay \u001b[38;5;241m<\u001b[39m\u001b[38;5;241m=\u001b[39m \u001b[38;5;241m0\u001b[39m:\n\u001b[0;32m--> 656\u001b[0m     \u001b[38;5;28;01mawait\u001b[39;00m __sleep0()\n\u001b[1;32m    657\u001b[0m     \u001b[38;5;28;01mreturn\u001b[39;00m result\n\u001b[1;32m    659\u001b[0m loop \u001b[38;5;241m=\u001b[39m events\u001b[38;5;241m.\u001b[39mget_running_loop()\n",
            "File \u001b[0;32m/opt/homebrew/Cellar/python@3.12/3.12.4/Frameworks/Python.framework/Versions/3.12/lib/python3.12/asyncio/tasks.py:650\u001b[0m, in \u001b[0;36m__sleep0\u001b[0;34m()\u001b[0m\n\u001b[1;32m    641\u001b[0m \u001b[38;5;129m@types\u001b[39m\u001b[38;5;241m.\u001b[39mcoroutine\n\u001b[1;32m    642\u001b[0m \u001b[38;5;28;01mdef\u001b[39;00m \u001b[38;5;21m__sleep0\u001b[39m():\n\u001b[1;32m    643\u001b[0m \u001b[38;5;250m    \u001b[39m\u001b[38;5;124;03m\"\"\"Skip one event loop run cycle.\u001b[39;00m\n\u001b[1;32m    644\u001b[0m \n\u001b[1;32m    645\u001b[0m \u001b[38;5;124;03m    This is a private helper for 'asyncio.sleep()', used\u001b[39;00m\n\u001b[0;32m   (...)\u001b[0m\n\u001b[1;32m    648\u001b[0m \u001b[38;5;124;03m    instead of creating a Future object.\u001b[39;00m\n\u001b[1;32m    649\u001b[0m \u001b[38;5;124;03m    \"\"\"\u001b[39;00m\n\u001b[0;32m--> 650\u001b[0m     \u001b[38;5;28;01myield\u001b[39;00m\n",
            "\u001b[0;31mCancelledError\u001b[0m: "
          ]
        }
      ],
      "source": [
        "input_str = \"Mary puts an apple in the box. The box is labelled 'pencils'. John enters the room. What does he think is in the box? Answer briefly.\"\n",
        "\n",
        "await gpt3_5_attributor.hierarchical_perturbation(\n",
        "    input_str,\n",
        "    logger=logger,\n",
        ")\n",
        "\n",
        "# Let's see...\n",
        "print(\"GPT3 Total attribution:\")\n",
        "# exp_id is the experiment index to print. -1 prints the last experiment.\n",
        "logger.print_text_total_attribution(exp_id=-1)"
      ]
    },
    {
      "cell_type": "markdown",
      "metadata": {},
      "source": [
        "That's better!\n",
        "\n",
        "Above we've been using hierarchical perturbation, which can be faster and cheaper than standard iterative perturbation on long inputs with fewer salient tokens. Most importantly, it can also capture multi-token features, which iterative pertrubation cannot.\n",
        "\n",
        "However, on when many tokens are salient, standard iterative perturbation can be faster, and often highlights individual token contributions more clearly. "
      ]
    },
    {
      "cell_type": "code",
      "execution_count": null,
      "metadata": {},
      "outputs": [
        {
          "name": "stderr",
          "output_type": "stream",
          "text": [
            "Sending 5 concurrent requests at a time: 100%|██████████| 2/2 [00:02<00:00,  1.38s/it]\n"
          ]
        },
        {
          "data": {
            "text/html": [
              "<div style=\"font-family: monospace; line-height: 1.5;\"><span style=\"text-decoration: underline; text-decoration-color: #ff4545; text-decoration-thickness: 4px; text-underline-offset: 3px;\">Write</span><span style=\"text-decoration: underline; text-decoration-color: #ff8181; text-decoration-thickness: 4px; text-underline-offset: 3px;\"> a</span><span style=\"text-decoration: underline; text-decoration-color: #ff4545; text-decoration-thickness: 4px; text-underline-offset: 3px;\"> funny</span><span style=\"text-decoration: underline; text-decoration-color: #ffdddd; text-decoration-thickness: 4px; text-underline-offset: 3px;\">,</span><span style=\"text-decoration: underline; text-decoration-color: #ff6565; text-decoration-thickness: 4px; text-underline-offset: 3px;\"> sad</span><span style=\"text-decoration: underline; text-decoration-color: #e20000; text-decoration-thickness: 4px; text-underline-offset: 3px;\"> ha</span><span style=\"text-decoration: underline; text-decoration-color: #ff4141; text-decoration-thickness: 4px; text-underline-offset: 3px;\">iku</span><span style=\"text-decoration: underline; text-decoration-color: #ffd1d1; text-decoration-thickness: 4px; text-underline-offset: 3px;\">.</span> -> Lost my favorite sock,\n",
              "In the dryer it did hide,\n",
              "One foot's cold, how odd.</div>"
            ],
            "text/plain": [
              "<IPython.core.display.HTML object>"
            ]
          },
          "metadata": {},
          "output_type": "display_data"
        }
      ],
      "source": [
        "input_str = \"Write a funny, sad haiku.\"\n",
        "\n",
        "await gpt4_attributor.iterative_perturbation(\n",
        "    input_str, perturbation_strategy=FixedPerturbationStrategy(), logger=logger\n",
        ")\n",
        "logger.print_text_total_attribution(exp_id=-1)"
      ]
    },
    {
      "cell_type": "markdown",
      "metadata": {},
      "source": [
        "Hilarious.\n",
        "\n",
        "Anyway, we also have some different logging functions to print the results in different ways. You can see how every input token affects every output token, what perturbations are being applied, etc."
      ]
    },
    {
      "cell_type": "markdown",
      "metadata": {},
      "source": [
        "Note how the model pays a lot of attention to \"haiku\" in the input, when punctuating the poem. "
      ]
    },
    {
      "cell_type": "code",
      "execution_count": null,
      "metadata": {},
      "outputs": [
        {
          "data": {
            "text/html": [
              "<div style=\"font-family: monospace; line-height: 1.5;\"><span style=\"text-decoration: underline; text-decoration-color: #ffd5d5; text-decoration-thickness: 4px; text-underline-offset: 3px;\">Write</span><span style=\"text-decoration: underline; text-decoration-color: #ffc1c1; text-decoration-thickness: 4px; text-underline-offset: 3px;\"> a</span><span style=\"text-decoration: underline; text-decoration-color: #ff9d9d; text-decoration-thickness: 4px; text-underline-offset: 3px;\"> funny</span><span style=\"text-decoration: underline; text-decoration-color: #1919ff; text-decoration-thickness: 4px; text-underline-offset: 3px;\">,</span><span style=\"text-decoration: underline; text-decoration-color: #ff8989; text-decoration-thickness: 4px; text-underline-offset: 3px;\"> sad</span><span style=\"text-decoration: underline; text-decoration-color: #ff8585; text-decoration-thickness: 4px; text-underline-offset: 3px;\"> ha</span><span style=\"text-decoration: underline; text-decoration-color: #7979ff; text-decoration-thickness: 4px; text-underline-offset: 3px;\">iku</span><span style=\"text-decoration: underline; text-decoration-color: #fff1f1; text-decoration-thickness: 4px; text-underline-offset: 3px;\">.</span> -> <span style=\"text-decoration: underline; text-decoration-thickness: 4px; text-underline-offset: 3px;\">Lost</span> my favorite sock,\n",
              "In the dryer it did hide,\n",
              "One foot's cold, how odd.</div>"
            ],
            "text/plain": [
              "<IPython.core.display.HTML object>"
            ]
          },
          "metadata": {},
          "output_type": "display_data"
        },
        {
          "data": {
            "text/html": [
              "<div style=\"font-family: monospace; line-height: 1.5;\"><span style=\"text-decoration: underline; text-decoration-color: #fdfdff; text-decoration-thickness: 4px; text-underline-offset: 3px;\">Write</span><span style=\"text-decoration: underline; text-decoration-color: #ffd9d9; text-decoration-thickness: 4px; text-underline-offset: 3px;\"> a</span><span style=\"text-decoration: underline; text-decoration-color: #c00000; text-decoration-thickness: 4px; text-underline-offset: 3px;\"> funny</span><span style=\"text-decoration: underline; text-decoration-color: #ddddff; text-decoration-thickness: 4px; text-underline-offset: 3px;\">,</span><span style=\"text-decoration: underline; text-decoration-color: #8d8dff; text-decoration-thickness: 4px; text-underline-offset: 3px;\"> sad</span><span style=\"text-decoration: underline; text-decoration-color: #c00000; text-decoration-thickness: 4px; text-underline-offset: 3px;\"> ha</span><span style=\"text-decoration: underline; text-decoration-color: #c30000; text-decoration-thickness: 4px; text-underline-offset: 3px;\">iku</span><span style=\"text-decoration: underline; text-decoration-color: #e9e9ff; text-decoration-thickness: 4px; text-underline-offset: 3px;\">.</span> -> Lost<span style=\"text-decoration: underline; text-decoration-thickness: 4px; text-underline-offset: 3px;\"> my</span> favorite sock,\n",
              "In the dryer it did hide,\n",
              "One foot's cold, how odd.</div>"
            ],
            "text/plain": [
              "<IPython.core.display.HTML object>"
            ]
          },
          "metadata": {},
          "output_type": "display_data"
        },
        {
          "data": {
            "text/html": [
              "<div style=\"font-family: monospace; line-height: 1.5;\"><span style=\"text-decoration: underline; text-decoration-color: #ff1111; text-decoration-thickness: 4px; text-underline-offset: 3px;\">Write</span><span style=\"text-decoration: underline; text-decoration-color: #fffdfd; text-decoration-thickness: 4px; text-underline-offset: 3px;\"> a</span><span style=\"text-decoration: underline; text-decoration-color: #ff1111; text-decoration-thickness: 4px; text-underline-offset: 3px;\"> funny</span><span style=\"text-decoration: underline; text-decoration-color: #ffd1d1; text-decoration-thickness: 4px; text-underline-offset: 3px;\">,</span><span style=\"text-decoration: underline; text-decoration-color: #ff1515; text-decoration-thickness: 4px; text-underline-offset: 3px;\"> sad</span><span style=\"text-decoration: underline; text-decoration-color: #ff1111; text-decoration-thickness: 4px; text-underline-offset: 3px;\"> ha</span><span style=\"text-decoration: underline; text-decoration-color: #ff1111; text-decoration-thickness: 4px; text-underline-offset: 3px;\">iku</span><span style=\"text-decoration: underline; text-decoration-color: #e5e5ff; text-decoration-thickness: 4px; text-underline-offset: 3px;\">.</span> -> Lost my<span style=\"text-decoration: underline; text-decoration-thickness: 4px; text-underline-offset: 3px;\"> favorite</span> sock,\n",
              "In the dryer it did hide,\n",
              "One foot's cold, how odd.</div>"
            ],
            "text/plain": [
              "<IPython.core.display.HTML object>"
            ]
          },
          "metadata": {},
          "output_type": "display_data"
        },
        {
          "data": {
            "text/html": [
              "<div style=\"font-family: monospace; line-height: 1.5;\"><span style=\"text-decoration: underline; text-decoration-color: #a60000; text-decoration-thickness: 4px; text-underline-offset: 3px;\">Write</span><span style=\"text-decoration: underline; text-decoration-color: #ffdddd; text-decoration-thickness: 4px; text-underline-offset: 3px;\"> a</span><span style=\"text-decoration: underline; text-decoration-color: #a60000; text-decoration-thickness: 4px; text-underline-offset: 3px;\"> funny</span><span style=\"text-decoration: underline; text-decoration-color: #ffdddd; text-decoration-thickness: 4px; text-underline-offset: 3px;\">,</span><span style=\"text-decoration: underline; text-decoration-color: #a60000; text-decoration-thickness: 4px; text-underline-offset: 3px;\"> sad</span><span style=\"text-decoration: underline; text-decoration-color: #a60000; text-decoration-thickness: 4px; text-underline-offset: 3px;\"> ha</span><span style=\"text-decoration: underline; text-decoration-color: #a60000; text-decoration-thickness: 4px; text-underline-offset: 3px;\">iku</span><span style=\"text-decoration: underline; text-decoration-color: #ffeded; text-decoration-thickness: 4px; text-underline-offset: 3px;\">.</span> -> Lost my favorite<span style=\"text-decoration: underline; text-decoration-thickness: 4px; text-underline-offset: 3px;\"> sock</span>,\n",
              "In the dryer it did hide,\n",
              "One foot's cold, how odd.</div>"
            ],
            "text/plain": [
              "<IPython.core.display.HTML object>"
            ]
          },
          "metadata": {},
          "output_type": "display_data"
        },
        {
          "data": {
            "text/html": [
              "<div style=\"font-family: monospace; line-height: 1.5;\"><span style=\"text-decoration: underline; text-decoration-color: #7d7dff; text-decoration-thickness: 4px; text-underline-offset: 3px;\">Write</span><span style=\"text-decoration: underline; text-decoration-color: #ff4545; text-decoration-thickness: 4px; text-underline-offset: 3px;\"> a</span><span style=\"text-decoration: underline; text-decoration-color: #7979ff; text-decoration-thickness: 4px; text-underline-offset: 3px;\"> funny</span><span style=\"text-decoration: underline; text-decoration-color: #8989ff; text-decoration-thickness: 4px; text-underline-offset: 3px;\">,</span><span style=\"text-decoration: underline; text-decoration-color: #9d9dff; text-decoration-thickness: 4px; text-underline-offset: 3px;\"> sad</span><span style=\"text-decoration: underline; text-decoration-color: #c30000; text-decoration-thickness: 4px; text-underline-offset: 3px;\"> ha</span><span style=\"text-decoration: underline; text-decoration-color: #8585ff; text-decoration-thickness: 4px; text-underline-offset: 3px;\">iku</span><span style=\"text-decoration: underline; text-decoration-color: #f1f1ff; text-decoration-thickness: 4px; text-underline-offset: 3px;\">.</span> -> Lost my favorite sock<span style=\"text-decoration: underline; text-decoration-thickness: 4px; text-underline-offset: 3px;\">,\n",
              "</span>In the dryer it did hide,\n",
              "One foot's cold, how odd.</div>"
            ],
            "text/plain": [
              "<IPython.core.display.HTML object>"
            ]
          },
          "metadata": {},
          "output_type": "display_data"
        },
        {
          "data": {
            "text/html": [
              "<div style=\"font-family: monospace; line-height: 1.5;\"><span style=\"text-decoration: underline; text-decoration-color: #f80000; text-decoration-thickness: 4px; text-underline-offset: 3px;\">Write</span><span style=\"text-decoration: underline; text-decoration-color: #ff4949; text-decoration-thickness: 4px; text-underline-offset: 3px;\"> a</span><span style=\"text-decoration: underline; text-decoration-color: #ff1515; text-decoration-thickness: 4px; text-underline-offset: 3px;\"> funny</span><span style=\"text-decoration: underline; text-decoration-color: #d1d1ff; text-decoration-thickness: 4px; text-underline-offset: 3px;\">,</span><span style=\"text-decoration: underline; text-decoration-color: #ff0505; text-decoration-thickness: 4px; text-underline-offset: 3px;\"> sad</span><span style=\"text-decoration: underline; text-decoration-color: #f80000; text-decoration-thickness: 4px; text-underline-offset: 3px;\"> ha</span><span style=\"text-decoration: underline; text-decoration-color: #ff1111; text-decoration-thickness: 4px; text-underline-offset: 3px;\">iku</span><span style=\"text-decoration: underline; text-decoration-color: #e5e5ff; text-decoration-thickness: 4px; text-underline-offset: 3px;\">.</span> -> Lost my favorite sock,\n",
              "<span style=\"text-decoration: underline; text-decoration-thickness: 4px; text-underline-offset: 3px;\">In</span> the dryer it did hide,\n",
              "One foot's cold, how odd.</div>"
            ],
            "text/plain": [
              "<IPython.core.display.HTML object>"
            ]
          },
          "metadata": {},
          "output_type": "display_data"
        },
        {
          "data": {
            "text/html": [
              "<div style=\"font-family: monospace; line-height: 1.5;\"><span style=\"text-decoration: underline; text-decoration-color: #ce0000; text-decoration-thickness: 4px; text-underline-offset: 3px;\">Write</span><span style=\"text-decoration: underline; text-decoration-color: #c20000; text-decoration-thickness: 4px; text-underline-offset: 3px;\"> a</span><span style=\"text-decoration: underline; text-decoration-color: #e5e5ff; text-decoration-thickness: 4px; text-underline-offset: 3px;\"> funny</span><span style=\"text-decoration: underline; text-decoration-color: #ffe9e9; text-decoration-thickness: 4px; text-underline-offset: 3px;\">,</span><span style=\"text-decoration: underline; text-decoration-color: #ff1919; text-decoration-thickness: 4px; text-underline-offset: 3px;\"> sad</span><span style=\"text-decoration: underline; text-decoration-color: #be0000; text-decoration-thickness: 4px; text-underline-offset: 3px;\"> ha</span><span style=\"text-decoration: underline; text-decoration-color: #ffc5c5; text-decoration-thickness: 4px; text-underline-offset: 3px;\">iku</span><span style=\"text-decoration: underline; text-decoration-color: #f9f9ff; text-decoration-thickness: 4px; text-underline-offset: 3px;\">.</span> -> Lost my favorite sock,\n",
              "In<span style=\"text-decoration: underline; text-decoration-thickness: 4px; text-underline-offset: 3px;\"> the</span> dryer it did hide,\n",
              "One foot's cold, how odd.</div>"
            ],
            "text/plain": [
              "<IPython.core.display.HTML object>"
            ]
          },
          "metadata": {},
          "output_type": "display_data"
        },
        {
          "data": {
            "text/html": [
              "<div style=\"font-family: monospace; line-height: 1.5;\"><span style=\"text-decoration: underline; text-decoration-color: #b30000; text-decoration-thickness: 4px; text-underline-offset: 3px;\">Write</span><span style=\"text-decoration: underline; text-decoration-color: #b30000; text-decoration-thickness: 4px; text-underline-offset: 3px;\"> a</span><span style=\"text-decoration: underline; text-decoration-color: #b30000; text-decoration-thickness: 4px; text-underline-offset: 3px;\"> funny</span><span style=\"text-decoration: underline; text-decoration-color: #fff5f5; text-decoration-thickness: 4px; text-underline-offset: 3px;\">,</span><span style=\"text-decoration: underline; text-decoration-color: #b30000; text-decoration-thickness: 4px; text-underline-offset: 3px;\"> sad</span><span style=\"text-decoration: underline; text-decoration-color: #b30000; text-decoration-thickness: 4px; text-underline-offset: 3px;\"> ha</span><span style=\"text-decoration: underline; text-decoration-color: #b30000; text-decoration-thickness: 4px; text-underline-offset: 3px;\">iku</span><span style=\"text-decoration: underline; text-decoration-color: #ffcdcd; text-decoration-thickness: 4px; text-underline-offset: 3px;\">.</span> -> Lost my favorite sock,\n",
              "In the<span style=\"text-decoration: underline; text-decoration-thickness: 4px; text-underline-offset: 3px;\"> dryer</span> it did hide,\n",
              "One foot's cold, how odd.</div>"
            ],
            "text/plain": [
              "<IPython.core.display.HTML object>"
            ]
          },
          "metadata": {},
          "output_type": "display_data"
        },
        {
          "data": {
            "text/html": [
              "<div style=\"font-family: monospace; line-height: 1.5;\"><span style=\"text-decoration: underline; text-decoration-color: #ff2525; text-decoration-thickness: 4px; text-underline-offset: 3px;\">Write</span><span style=\"text-decoration: underline; text-decoration-color: #0000e9; text-decoration-thickness: 4px; text-underline-offset: 3px;\"> a</span><span style=\"text-decoration: underline; text-decoration-color: #ff2525; text-decoration-thickness: 4px; text-underline-offset: 3px;\"> funny</span><span style=\"text-decoration: underline; text-decoration-color: #ff9191; text-decoration-thickness: 4px; text-underline-offset: 3px;\">,</span><span style=\"text-decoration: underline; text-decoration-color: #0000ef; text-decoration-thickness: 4px; text-underline-offset: 3px;\"> sad</span><span style=\"text-decoration: underline; text-decoration-color: #ff2525; text-decoration-thickness: 4px; text-underline-offset: 3px;\"> ha</span><span style=\"text-decoration: underline; text-decoration-color: #ff2525; text-decoration-thickness: 4px; text-underline-offset: 3px;\">iku</span><span style=\"text-decoration: underline; text-decoration-color: #ffd1d1; text-decoration-thickness: 4px; text-underline-offset: 3px;\">.</span> -> Lost my favorite sock,\n",
              "In the dryer<span style=\"text-decoration: underline; text-decoration-thickness: 4px; text-underline-offset: 3px;\"> it</span> did hide,\n",
              "One foot's cold, how odd.</div>"
            ],
            "text/plain": [
              "<IPython.core.display.HTML object>"
            ]
          },
          "metadata": {},
          "output_type": "display_data"
        },
        {
          "data": {
            "text/html": [
              "<div style=\"font-family: monospace; line-height: 1.5;\"><span style=\"text-decoration: underline; text-decoration-color: #ff7d7d; text-decoration-thickness: 4px; text-underline-offset: 3px;\">Write</span><span style=\"text-decoration: underline; text-decoration-color: #ff1515; text-decoration-thickness: 4px; text-underline-offset: 3px;\"> a</span><span style=\"text-decoration: underline; text-decoration-color: #ff1515; text-decoration-thickness: 4px; text-underline-offset: 3px;\"> funny</span><span style=\"text-decoration: underline; text-decoration-color: #ff1515; text-decoration-thickness: 4px; text-underline-offset: 3px;\">,</span><span style=\"text-decoration: underline; text-decoration-color: #ff1515; text-decoration-thickness: 4px; text-underline-offset: 3px;\"> sad</span><span style=\"text-decoration: underline; text-decoration-color: #ff2525; text-decoration-thickness: 4px; text-underline-offset: 3px;\"> ha</span><span style=\"text-decoration: underline; text-decoration-color: #ff1515; text-decoration-thickness: 4px; text-underline-offset: 3px;\">iku</span><span style=\"text-decoration: underline; text-decoration-color: #ff1515; text-decoration-thickness: 4px; text-underline-offset: 3px;\">.</span> -> Lost my favorite sock,\n",
              "In the dryer it<span style=\"text-decoration: underline; text-decoration-thickness: 4px; text-underline-offset: 3px;\"> did</span> hide,\n",
              "One foot's cold, how odd.</div>"
            ],
            "text/plain": [
              "<IPython.core.display.HTML object>"
            ]
          },
          "metadata": {},
          "output_type": "display_data"
        },
        {
          "data": {
            "text/html": [
              "<div style=\"font-family: monospace; line-height: 1.5;\"><span style=\"text-decoration: underline; text-decoration-color: #ff6161; text-decoration-thickness: 4px; text-underline-offset: 3px;\">Write</span><span style=\"text-decoration: underline; text-decoration-color: #ff6161; text-decoration-thickness: 4px; text-underline-offset: 3px;\"> a</span><span style=\"text-decoration: underline; text-decoration-color: #ff6161; text-decoration-thickness: 4px; text-underline-offset: 3px;\"> funny</span><span style=\"text-decoration: underline; text-decoration-color: #ff6161; text-decoration-thickness: 4px; text-underline-offset: 3px;\">,</span><span style=\"text-decoration: underline; text-decoration-color: #ff6161; text-decoration-thickness: 4px; text-underline-offset: 3px;\"> sad</span><span style=\"text-decoration: underline; text-decoration-color: #ff6161; text-decoration-thickness: 4px; text-underline-offset: 3px;\"> ha</span><span style=\"text-decoration: underline; text-decoration-color: #ff6161; text-decoration-thickness: 4px; text-underline-offset: 3px;\">iku</span><span style=\"text-decoration: underline; text-decoration-color: #ff6161; text-decoration-thickness: 4px; text-underline-offset: 3px;\">.</span> -> Lost my favorite sock,\n",
              "In the dryer it did<span style=\"text-decoration: underline; text-decoration-thickness: 4px; text-underline-offset: 3px;\"> hide</span>,\n",
              "One foot's cold, how odd.</div>"
            ],
            "text/plain": [
              "<IPython.core.display.HTML object>"
            ]
          },
          "metadata": {},
          "output_type": "display_data"
        },
        {
          "data": {
            "text/html": [
              "<div style=\"font-family: monospace; line-height: 1.5;\"><span style=\"text-decoration: underline; text-decoration-color: #ddddff; text-decoration-thickness: 4px; text-underline-offset: 3px;\">Write</span><span style=\"text-decoration: underline; text-decoration-color: #f00000; text-decoration-thickness: 4px; text-underline-offset: 3px;\"> a</span><span style=\"text-decoration: underline; text-decoration-color: #ddddff; text-decoration-thickness: 4px; text-underline-offset: 3px;\"> funny</span><span style=\"text-decoration: underline; text-decoration-color: #ededff; text-decoration-thickness: 4px; text-underline-offset: 3px;\">,</span><span style=\"text-decoration: underline; text-decoration-color: #fffdfd; text-decoration-thickness: 4px; text-underline-offset: 3px;\"> sad</span><span style=\"text-decoration: underline; text-decoration-color: #930000; text-decoration-thickness: 4px; text-underline-offset: 3px;\"> ha</span><span style=\"text-decoration: underline; text-decoration-color: #e5e5ff; text-decoration-thickness: 4px; text-underline-offset: 3px;\">iku</span><span style=\"text-decoration: underline; text-decoration-color: #ffa9a9; text-decoration-thickness: 4px; text-underline-offset: 3px;\">.</span> -> Lost my favorite sock,\n",
              "In the dryer it did hide<span style=\"text-decoration: underline; text-decoration-thickness: 4px; text-underline-offset: 3px;\">,\n",
              "</span>One foot's cold, how odd.</div>"
            ],
            "text/plain": [
              "<IPython.core.display.HTML object>"
            ]
          },
          "metadata": {},
          "output_type": "display_data"
        },
        {
          "data": {
            "text/html": [
              "<div style=\"font-family: monospace; line-height: 1.5;\"><span style=\"text-decoration: underline; text-decoration-color: #de0000; text-decoration-thickness: 4px; text-underline-offset: 3px;\">Write</span><span style=\"text-decoration: underline; text-decoration-color: #ff7171; text-decoration-thickness: 4px; text-underline-offset: 3px;\"> a</span><span style=\"text-decoration: underline; text-decoration-color: #de0000; text-decoration-thickness: 4px; text-underline-offset: 3px;\"> funny</span><span style=\"text-decoration: underline; text-decoration-color: #ff5959; text-decoration-thickness: 4px; text-underline-offset: 3px;\">,</span><span style=\"text-decoration: underline; text-decoration-color: #de0000; text-decoration-thickness: 4px; text-underline-offset: 3px;\"> sad</span><span style=\"text-decoration: underline; text-decoration-color: #de0000; text-decoration-thickness: 4px; text-underline-offset: 3px;\"> ha</span><span style=\"text-decoration: underline; text-decoration-color: #de0000; text-decoration-thickness: 4px; text-underline-offset: 3px;\">iku</span><span style=\"text-decoration: underline; text-decoration-color: #ffa1a1; text-decoration-thickness: 4px; text-underline-offset: 3px;\">.</span> -> Lost my favorite sock,\n",
              "In the dryer it did hide,\n",
              "<span style=\"text-decoration: underline; text-decoration-thickness: 4px; text-underline-offset: 3px;\">One</span> foot's cold, how odd.</div>"
            ],
            "text/plain": [
              "<IPython.core.display.HTML object>"
            ]
          },
          "metadata": {},
          "output_type": "display_data"
        },
        {
          "data": {
            "text/html": [
              "<div style=\"font-family: monospace; line-height: 1.5;\"><span style=\"text-decoration: underline; text-decoration-color: #be0000; text-decoration-thickness: 4px; text-underline-offset: 3px;\">Write</span><span style=\"text-decoration: underline; text-decoration-color: #e5e5ff; text-decoration-thickness: 4px; text-underline-offset: 3px;\"> a</span><span style=\"text-decoration: underline; text-decoration-color: #ba0000; text-decoration-thickness: 4px; text-underline-offset: 3px;\"> funny</span><span style=\"text-decoration: underline; text-decoration-color: #e1e1ff; text-decoration-thickness: 4px; text-underline-offset: 3px;\">,</span><span style=\"text-decoration: underline; text-decoration-color: #ba0000; text-decoration-thickness: 4px; text-underline-offset: 3px;\"> sad</span><span style=\"text-decoration: underline; text-decoration-color: #ba0000; text-decoration-thickness: 4px; text-underline-offset: 3px;\"> ha</span><span style=\"text-decoration: underline; text-decoration-color: #ba0000; text-decoration-thickness: 4px; text-underline-offset: 3px;\">iku</span><span style=\"text-decoration: underline; text-decoration-color: #e1e1ff; text-decoration-thickness: 4px; text-underline-offset: 3px;\">.</span> -> Lost my favorite sock,\n",
              "In the dryer it did hide,\n",
              "One<span style=\"text-decoration: underline; text-decoration-thickness: 4px; text-underline-offset: 3px;\"> foot</span>'s cold, how odd.</div>"
            ],
            "text/plain": [
              "<IPython.core.display.HTML object>"
            ]
          },
          "metadata": {},
          "output_type": "display_data"
        },
        {
          "data": {
            "text/html": [
              "<div style=\"font-family: monospace; line-height: 1.5;\"><span style=\"text-decoration: underline; text-decoration-color: #ff9191; text-decoration-thickness: 4px; text-underline-offset: 3px;\">Write</span><span style=\"text-decoration: underline; text-decoration-color: #ff8d8d; text-decoration-thickness: 4px; text-underline-offset: 3px;\"> a</span><span style=\"text-decoration: underline; text-decoration-color: #0000f7; text-decoration-thickness: 4px; text-underline-offset: 3px;\"> funny</span><span style=\"text-decoration: underline; text-decoration-color: #d1d1ff; text-decoration-thickness: 4px; text-underline-offset: 3px;\">,</span><span style=\"text-decoration: underline; text-decoration-color: #1d1dff; text-decoration-thickness: 4px; text-underline-offset: 3px;\"> sad</span><span style=\"text-decoration: underline; text-decoration-color: #ff0d0d; text-decoration-thickness: 4px; text-underline-offset: 3px;\"> ha</span><span style=\"text-decoration: underline; text-decoration-color: #ff0d0d; text-decoration-thickness: 4px; text-underline-offset: 3px;\">iku</span><span style=\"text-decoration: underline; text-decoration-color: #ffdddd; text-decoration-thickness: 4px; text-underline-offset: 3px;\">.</span> -> Lost my favorite sock,\n",
              "In the dryer it did hide,\n",
              "One foot<span style=\"text-decoration: underline; text-decoration-thickness: 4px; text-underline-offset: 3px;\">'s</span> cold, how odd.</div>"
            ],
            "text/plain": [
              "<IPython.core.display.HTML object>"
            ]
          },
          "metadata": {},
          "output_type": "display_data"
        },
        {
          "data": {
            "text/html": [
              "<div style=\"font-family: monospace; line-height: 1.5;\"><span style=\"text-decoration: underline; text-decoration-color: #e30000; text-decoration-thickness: 4px; text-underline-offset: 3px;\">Write</span><span style=\"text-decoration: underline; text-decoration-color: #ffc5c5; text-decoration-thickness: 4px; text-underline-offset: 3px;\"> a</span><span style=\"text-decoration: underline; text-decoration-color: #f60000; text-decoration-thickness: 4px; text-underline-offset: 3px;\"> funny</span><span style=\"text-decoration: underline; text-decoration-color: #ffa1a1; text-decoration-thickness: 4px; text-underline-offset: 3px;\">,</span><span style=\"text-decoration: underline; text-decoration-color: #e30000; text-decoration-thickness: 4px; text-underline-offset: 3px;\"> sad</span><span style=\"text-decoration: underline; text-decoration-color: #e30000; text-decoration-thickness: 4px; text-underline-offset: 3px;\"> ha</span><span style=\"text-decoration: underline; text-decoration-color: #e30000; text-decoration-thickness: 4px; text-underline-offset: 3px;\">iku</span><span style=\"text-decoration: underline; text-decoration-color: #ff7d7d; text-decoration-thickness: 4px; text-underline-offset: 3px;\">.</span> -> Lost my favorite sock,\n",
              "In the dryer it did hide,\n",
              "One foot's<span style=\"text-decoration: underline; text-decoration-thickness: 4px; text-underline-offset: 3px;\"> cold</span>, how odd.</div>"
            ],
            "text/plain": [
              "<IPython.core.display.HTML object>"
            ]
          },
          "metadata": {},
          "output_type": "display_data"
        },
        {
          "data": {
            "text/html": [
              "<div style=\"font-family: monospace; line-height: 1.5;\"><span style=\"text-decoration: underline; text-decoration-color: #ffd1d1; text-decoration-thickness: 4px; text-underline-offset: 3px;\">Write</span><span style=\"text-decoration: underline; text-decoration-color: #ffb1b1; text-decoration-thickness: 4px; text-underline-offset: 3px;\"> a</span><span style=\"text-decoration: underline; text-decoration-color: #d20000; text-decoration-thickness: 4px; text-underline-offset: 3px;\"> funny</span><span style=\"text-decoration: underline; text-decoration-color: #ffd1d1; text-decoration-thickness: 4px; text-underline-offset: 3px;\">,</span><span style=\"text-decoration: underline; text-decoration-color: #ff2929; text-decoration-thickness: 4px; text-underline-offset: 3px;\"> sad</span><span style=\"text-decoration: underline; text-decoration-color: #9a0000; text-decoration-thickness: 4px; text-underline-offset: 3px;\"> ha</span><span style=\"text-decoration: underline; text-decoration-color: #d5d5ff; text-decoration-thickness: 4px; text-underline-offset: 3px;\">iku</span><span style=\"text-decoration: underline; text-decoration-color: #ffb9b9; text-decoration-thickness: 4px; text-underline-offset: 3px;\">.</span> -> Lost my favorite sock,\n",
              "In the dryer it did hide,\n",
              "One foot's cold<span style=\"text-decoration: underline; text-decoration-thickness: 4px; text-underline-offset: 3px;\">,</span> how odd.</div>"
            ],
            "text/plain": [
              "<IPython.core.display.HTML object>"
            ]
          },
          "metadata": {},
          "output_type": "display_data"
        },
        {
          "data": {
            "text/html": [
              "<div style=\"font-family: monospace; line-height: 1.5;\"><span style=\"text-decoration: underline; text-decoration-color: #ff1919; text-decoration-thickness: 4px; text-underline-offset: 3px;\">Write</span><span style=\"text-decoration: underline; text-decoration-color: #ffb5b5; text-decoration-thickness: 4px; text-underline-offset: 3px;\"> a</span><span style=\"text-decoration: underline; text-decoration-color: #ff1919; text-decoration-thickness: 4px; text-underline-offset: 3px;\"> funny</span><span style=\"text-decoration: underline; text-decoration-color: #c9c9ff; text-decoration-thickness: 4px; text-underline-offset: 3px;\">,</span><span style=\"text-decoration: underline; text-decoration-color: #ff1919; text-decoration-thickness: 4px; text-underline-offset: 3px;\"> sad</span><span style=\"text-decoration: underline; text-decoration-color: #ff1919; text-decoration-thickness: 4px; text-underline-offset: 3px;\"> ha</span><span style=\"text-decoration: underline; text-decoration-color: #ff1d1d; text-decoration-thickness: 4px; text-underline-offset: 3px;\">iku</span><span style=\"text-decoration: underline; text-decoration-color: #7575ff; text-decoration-thickness: 4px; text-underline-offset: 3px;\">.</span> -> Lost my favorite sock,\n",
              "In the dryer it did hide,\n",
              "One foot's cold,<span style=\"text-decoration: underline; text-decoration-thickness: 4px; text-underline-offset: 3px;\"> how</span> odd.</div>"
            ],
            "text/plain": [
              "<IPython.core.display.HTML object>"
            ]
          },
          "metadata": {},
          "output_type": "display_data"
        },
        {
          "data": {
            "text/html": [
              "<div style=\"font-family: monospace; line-height: 1.5;\"><span style=\"text-decoration: underline; text-decoration-color: #ff2525; text-decoration-thickness: 4px; text-underline-offset: 3px;\">Write</span><span style=\"text-decoration: underline; text-decoration-color: #ff3939; text-decoration-thickness: 4px; text-underline-offset: 3px;\"> a</span><span style=\"text-decoration: underline; text-decoration-color: #ff2525; text-decoration-thickness: 4px; text-underline-offset: 3px;\"> funny</span><span style=\"text-decoration: underline; text-decoration-color: #ff3939; text-decoration-thickness: 4px; text-underline-offset: 3px;\">,</span><span style=\"text-decoration: underline; text-decoration-color: #ff2525; text-decoration-thickness: 4px; text-underline-offset: 3px;\"> sad</span><span style=\"text-decoration: underline; text-decoration-color: #ff2525; text-decoration-thickness: 4px; text-underline-offset: 3px;\"> ha</span><span style=\"text-decoration: underline; text-decoration-color: #ff2525; text-decoration-thickness: 4px; text-underline-offset: 3px;\">iku</span><span style=\"text-decoration: underline; text-decoration-color: #ff8585; text-decoration-thickness: 4px; text-underline-offset: 3px;\">.</span> -> Lost my favorite sock,\n",
              "In the dryer it did hide,\n",
              "One foot's cold, how<span style=\"text-decoration: underline; text-decoration-thickness: 4px; text-underline-offset: 3px;\"> odd</span>.</div>"
            ],
            "text/plain": [
              "<IPython.core.display.HTML object>"
            ]
          },
          "metadata": {},
          "output_type": "display_data"
        },
        {
          "data": {
            "text/html": [
              "<div style=\"font-family: monospace; line-height: 1.5;\"><span style=\"text-decoration: underline; text-decoration-color: #fff5f5; text-decoration-thickness: 4px; text-underline-offset: 3px;\">Write</span><span style=\"text-decoration: underline; text-decoration-color: #ff1515; text-decoration-thickness: 4px; text-underline-offset: 3px;\"> a</span><span style=\"text-decoration: underline; text-decoration-color: #d5d5ff; text-decoration-thickness: 4px; text-underline-offset: 3px;\"> funny</span><span style=\"text-decoration: underline; text-decoration-color: #ff6969; text-decoration-thickness: 4px; text-underline-offset: 3px;\">,</span><span style=\"text-decoration: underline; text-decoration-color: #fff9f9; text-decoration-thickness: 4px; text-underline-offset: 3px;\"> sad</span><span style=\"text-decoration: underline; text-decoration-color: #980000; text-decoration-thickness: 4px; text-underline-offset: 3px;\"> ha</span><span style=\"text-decoration: underline; text-decoration-color: #ffbdbd; text-decoration-thickness: 4px; text-underline-offset: 3px;\">iku</span><span style=\"text-decoration: underline; text-decoration-color: #ff8181; text-decoration-thickness: 4px; text-underline-offset: 3px;\">.</span> -> Lost my favorite sock,\n",
              "In the dryer it did hide,\n",
              "One foot's cold, how odd<span style=\"text-decoration: underline; text-decoration-thickness: 4px; text-underline-offset: 3px;\">.</span></div>"
            ],
            "text/plain": [
              "<IPython.core.display.HTML object>"
            ]
          },
          "metadata": {},
          "output_type": "display_data"
        },
        {
          "data": {
            "text/html": [
              "<style type=\"text/css\">\n",
              "#T_12055_row0_col0, #T_12055_row0_col1, #T_12055_row0_col2, #T_12055_row0_col3, #T_12055_row0_col4, #T_12055_row0_col5, #T_12055_row0_col6, #T_12055_row0_col7, #T_12055_row0_col8, #T_12055_row0_col9, #T_12055_row0_col10, #T_12055_row0_col11 {\n",
              "  white-space: pre-wrap;\n",
              "}\n",
              "</style>\n",
              "<table id=\"T_12055\">\n",
              "  <thead>\n",
              "    <tr>\n",
              "      <th class=\"blank level0\" >&nbsp;</th>\n",
              "      <th id=\"T_12055_level0_col0\" class=\"col_heading level0 col0\" >exp_id</th>\n",
              "      <th id=\"T_12055_level0_col1\" class=\"col_heading level0 col1\" >attribution_strategy</th>\n",
              "      <th id=\"T_12055_level0_col2\" class=\"col_heading level0 col2\" >perturbation_strategy</th>\n",
              "      <th id=\"T_12055_level0_col3\" class=\"col_heading level0 col3\" >unit_definition</th>\n",
              "      <th id=\"T_12055_level0_col4\" class=\"col_heading level0 col4\" >token_1</th>\n",
              "      <th id=\"T_12055_level0_col5\" class=\"col_heading level0 col5\" >token_2</th>\n",
              "      <th id=\"T_12055_level0_col6\" class=\"col_heading level0 col6\" >token_3</th>\n",
              "      <th id=\"T_12055_level0_col7\" class=\"col_heading level0 col7\" >token_4</th>\n",
              "      <th id=\"T_12055_level0_col8\" class=\"col_heading level0 col8\" >token_5</th>\n",
              "      <th id=\"T_12055_level0_col9\" class=\"col_heading level0 col9\" >token_6</th>\n",
              "      <th id=\"T_12055_level0_col10\" class=\"col_heading level0 col10\" >token_7</th>\n",
              "      <th id=\"T_12055_level0_col11\" class=\"col_heading level0 col11\" >token_8</th>\n",
              "    </tr>\n",
              "  </thead>\n",
              "  <tbody>\n",
              "    <tr>\n",
              "      <th id=\"T_12055_level0_row0\" class=\"row_heading level0 row0\" >0</th>\n",
              "      <td id=\"T_12055_row0_col0\" class=\"data row0 col0\" >5</td>\n",
              "      <td id=\"T_12055_row0_col1\" class=\"data row0 col1\" >prob_diff</td>\n",
              "      <td id=\"T_12055_row0_col2\" class=\"data row0 col2\" >fixed</td>\n",
              "      <td id=\"T_12055_row0_col3\" class=\"data row0 col3\" >token</td>\n",
              "      <td id=\"T_12055_row0_col4\" class=\"data row0 col4\" >Write\n",
              "0.36</td>\n",
              "      <td id=\"T_12055_row0_col5\" class=\"data row0 col5\" > a\n",
              "0.25</td>\n",
              "      <td id=\"T_12055_row0_col6\" class=\"data row0 col6\" > funny\n",
              "0.36</td>\n",
              "      <td id=\"T_12055_row0_col7\" class=\"data row0 col7\" >,\n",
              "0.07</td>\n",
              "      <td id=\"T_12055_row0_col8\" class=\"data row0 col8\" > sad\n",
              "0.30</td>\n",
              "      <td id=\"T_12055_row0_col9\" class=\"data row0 col9\" > ha\n",
              "0.62</td>\n",
              "      <td id=\"T_12055_row0_col10\" class=\"data row0 col10\" >iku\n",
              "0.37</td>\n",
              "      <td id=\"T_12055_row0_col11\" class=\"data row0 col11\" >.\n",
              "0.09</td>\n",
              "    </tr>\n",
              "  </tbody>\n",
              "</table>\n"
            ],
            "text/plain": [
              "<pandas.io.formats.style.Styler at 0x16a18cdd0>"
            ]
          },
          "metadata": {},
          "output_type": "display_data"
        },
        {
          "data": {
            "text/html": [
              "<style type=\"text/css\">\n",
              "#T_c97a4_row0_col0 {\n",
              "  background-color: #ffd5d5;\n",
              "  color: #000000;\n",
              "  white-space: pre-wrap;\n",
              "}\n",
              "#T_c97a4_row0_col1 {\n",
              "  background-color: #fdfdff;\n",
              "  color: #000000;\n",
              "  white-space: pre-wrap;\n",
              "}\n",
              "#T_c97a4_row0_col2, #T_c97a4_row2_col2, #T_c97a4_row5_col2, #T_c97a4_row6_col2, #T_c97a4_row6_col5 {\n",
              "  background-color: #ff1111;\n",
              "  color: #f1f1f1;\n",
              "  white-space: pre-wrap;\n",
              "}\n",
              "#T_c97a4_row0_col3, #T_c97a4_row2_col3, #T_c97a4_row4_col3, #T_c97a4_row5_col3, #T_c97a4_row6_col3 {\n",
              "  background-color: #a60000;\n",
              "  color: #f1f1f1;\n",
              "  white-space: pre-wrap;\n",
              "}\n",
              "#T_c97a4_row0_col4 {\n",
              "  background-color: #7d7dff;\n",
              "  color: #f1f1f1;\n",
              "  white-space: pre-wrap;\n",
              "}\n",
              "#T_c97a4_row0_col5, #T_c97a4_row5_col5 {\n",
              "  background-color: #f80000;\n",
              "  color: #f1f1f1;\n",
              "  white-space: pre-wrap;\n",
              "}\n",
              "#T_c97a4_row0_col6 {\n",
              "  background-color: #ce0000;\n",
              "  color: #f1f1f1;\n",
              "  white-space: pre-wrap;\n",
              "}\n",
              "#T_c97a4_row0_col7, #T_c97a4_row1_col7, #T_c97a4_row2_col7, #T_c97a4_row4_col7, #T_c97a4_row5_col7, #T_c97a4_row6_col7 {\n",
              "  background-color: #b30000;\n",
              "  color: #f1f1f1;\n",
              "  white-space: pre-wrap;\n",
              "}\n",
              "#T_c97a4_row0_col8, #T_c97a4_row0_col18, #T_c97a4_row2_col8, #T_c97a4_row2_col18, #T_c97a4_row4_col18, #T_c97a4_row5_col8, #T_c97a4_row5_col9, #T_c97a4_row5_col18, #T_c97a4_row6_col8, #T_c97a4_row6_col18 {\n",
              "  background-color: #ff2525;\n",
              "  color: #f1f1f1;\n",
              "  white-space: pre-wrap;\n",
              "}\n",
              "#T_c97a4_row0_col9, #T_c97a4_row7_col15 {\n",
              "  background-color: #ff7d7d;\n",
              "  color: #f1f1f1;\n",
              "  white-space: pre-wrap;\n",
              "}\n",
              "#T_c97a4_row0_col10, #T_c97a4_row1_col10, #T_c97a4_row2_col10, #T_c97a4_row3_col10, #T_c97a4_row4_col10, #T_c97a4_row5_col10, #T_c97a4_row6_col10, #T_c97a4_row7_col10 {\n",
              "  background-color: #ff6161;\n",
              "  color: #f1f1f1;\n",
              "  white-space: pre-wrap;\n",
              "}\n",
              "#T_c97a4_row0_col11, #T_c97a4_row2_col11, #T_c97a4_row3_col1 {\n",
              "  background-color: #ddddff;\n",
              "  color: #000000;\n",
              "  white-space: pre-wrap;\n",
              "}\n",
              "#T_c97a4_row0_col12, #T_c97a4_row2_col12, #T_c97a4_row4_col12, #T_c97a4_row5_col12, #T_c97a4_row6_col12 {\n",
              "  background-color: #de0000;\n",
              "  color: #f1f1f1;\n",
              "  white-space: pre-wrap;\n",
              "}\n",
              "#T_c97a4_row0_col13, #T_c97a4_row5_col6 {\n",
              "  background-color: #be0000;\n",
              "  color: #f1f1f1;\n",
              "  white-space: pre-wrap;\n",
              "}\n",
              "#T_c97a4_row0_col14, #T_c97a4_row3_col8 {\n",
              "  background-color: #ff9191;\n",
              "  color: #000000;\n",
              "  white-space: pre-wrap;\n",
              "}\n",
              "#T_c97a4_row0_col15, #T_c97a4_row4_col15, #T_c97a4_row5_col15, #T_c97a4_row6_col15 {\n",
              "  background-color: #e30000;\n",
              "  color: #f1f1f1;\n",
              "  white-space: pre-wrap;\n",
              "}\n",
              "#T_c97a4_row0_col16, #T_c97a4_row3_col2, #T_c97a4_row3_col16, #T_c97a4_row7_col8 {\n",
              "  background-color: #ffd1d1;\n",
              "  color: #000000;\n",
              "  white-space: pre-wrap;\n",
              "}\n",
              "#T_c97a4_row0_col17, #T_c97a4_row2_col17, #T_c97a4_row4_col6, #T_c97a4_row4_col17, #T_c97a4_row5_col17 {\n",
              "  background-color: #ff1919;\n",
              "  color: #f1f1f1;\n",
              "  white-space: pre-wrap;\n",
              "}\n",
              "#T_c97a4_row0_col19, #T_c97a4_row3_col7 {\n",
              "  background-color: #fff5f5;\n",
              "  color: #000000;\n",
              "  white-space: pre-wrap;\n",
              "}\n",
              "#T_c97a4_row0_col20, #T_c97a4_row0_col21, #T_c97a4_row1_col20, #T_c97a4_row1_col21, #T_c97a4_row2_col20, #T_c97a4_row2_col21, #T_c97a4_row3_col20, #T_c97a4_row3_col21, #T_c97a4_row4_col20, #T_c97a4_row4_col21, #T_c97a4_row5_col20, #T_c97a4_row5_col21, #T_c97a4_row6_col20, #T_c97a4_row6_col21, #T_c97a4_row7_col20, #T_c97a4_row7_col21 {\n",
              "  white-space: pre-wrap;\n",
              "}\n",
              "#T_c97a4_row1_col0 {\n",
              "  background-color: #ffc1c1;\n",
              "  color: #000000;\n",
              "  white-space: pre-wrap;\n",
              "}\n",
              "#T_c97a4_row1_col1 {\n",
              "  background-color: #ffd9d9;\n",
              "  color: #000000;\n",
              "  white-space: pre-wrap;\n",
              "}\n",
              "#T_c97a4_row1_col2, #T_c97a4_row4_col11 {\n",
              "  background-color: #fffdfd;\n",
              "  color: #000000;\n",
              "  white-space: pre-wrap;\n",
              "}\n",
              "#T_c97a4_row1_col3, #T_c97a4_row3_col3, #T_c97a4_row7_col14 {\n",
              "  background-color: #ffdddd;\n",
              "  color: #000000;\n",
              "  white-space: pre-wrap;\n",
              "}\n",
              "#T_c97a4_row1_col4 {\n",
              "  background-color: #ff4545;\n",
              "  color: #f1f1f1;\n",
              "  white-space: pre-wrap;\n",
              "}\n",
              "#T_c97a4_row1_col5 {\n",
              "  background-color: #ff4949;\n",
              "  color: #f1f1f1;\n",
              "  white-space: pre-wrap;\n",
              "}\n",
              "#T_c97a4_row1_col6 {\n",
              "  background-color: #c20000;\n",
              "  color: #f1f1f1;\n",
              "  white-space: pre-wrap;\n",
              "}\n",
              "#T_c97a4_row1_col8 {\n",
              "  background-color: #0000e9;\n",
              "  color: #f1f1f1;\n",
              "  white-space: pre-wrap;\n",
              "}\n",
              "#T_c97a4_row1_col9, #T_c97a4_row1_col19, #T_c97a4_row2_col5, #T_c97a4_row2_col9, #T_c97a4_row3_col9, #T_c97a4_row4_col2, #T_c97a4_row4_col9, #T_c97a4_row6_col9, #T_c97a4_row7_col9 {\n",
              "  background-color: #ff1515;\n",
              "  color: #f1f1f1;\n",
              "  white-space: pre-wrap;\n",
              "}\n",
              "#T_c97a4_row1_col11 {\n",
              "  background-color: #f00000;\n",
              "  color: #f1f1f1;\n",
              "  white-space: pre-wrap;\n",
              "}\n",
              "#T_c97a4_row1_col12 {\n",
              "  background-color: #ff7171;\n",
              "  color: #f1f1f1;\n",
              "  white-space: pre-wrap;\n",
              "}\n",
              "#T_c97a4_row1_col13, #T_c97a4_row2_col6, #T_c97a4_row6_col11, #T_c97a4_row7_col2, #T_c97a4_row7_col5 {\n",
              "  background-color: #e5e5ff;\n",
              "  color: #000000;\n",
              "  white-space: pre-wrap;\n",
              "}\n",
              "#T_c97a4_row1_col14 {\n",
              "  background-color: #ff8d8d;\n",
              "  color: #000000;\n",
              "  white-space: pre-wrap;\n",
              "}\n",
              "#T_c97a4_row1_col15, #T_c97a4_row6_col6 {\n",
              "  background-color: #ffc5c5;\n",
              "  color: #000000;\n",
              "  white-space: pre-wrap;\n",
              "}\n",
              "#T_c97a4_row1_col16 {\n",
              "  background-color: #ffb1b1;\n",
              "  color: #000000;\n",
              "  white-space: pre-wrap;\n",
              "}\n",
              "#T_c97a4_row1_col17 {\n",
              "  background-color: #ffb5b5;\n",
              "  color: #000000;\n",
              "  white-space: pre-wrap;\n",
              "}\n",
              "#T_c97a4_row1_col18, #T_c97a4_row3_col18 {\n",
              "  background-color: #ff3939;\n",
              "  color: #f1f1f1;\n",
              "  white-space: pre-wrap;\n",
              "}\n",
              "#T_c97a4_row2_col0 {\n",
              "  background-color: #ff9d9d;\n",
              "  color: #000000;\n",
              "  white-space: pre-wrap;\n",
              "}\n",
              "#T_c97a4_row2_col1, #T_c97a4_row5_col1 {\n",
              "  background-color: #c00000;\n",
              "  color: #f1f1f1;\n",
              "  white-space: pre-wrap;\n",
              "}\n",
              "#T_c97a4_row2_col4, #T_c97a4_row6_col0 {\n",
              "  background-color: #7979ff;\n",
              "  color: #f1f1f1;\n",
              "  white-space: pre-wrap;\n",
              "}\n",
              "#T_c97a4_row2_col13, #T_c97a4_row4_col13, #T_c97a4_row5_col13, #T_c97a4_row6_col13 {\n",
              "  background-color: #ba0000;\n",
              "  color: #f1f1f1;\n",
              "  white-space: pre-wrap;\n",
              "}\n",
              "#T_c97a4_row2_col14 {\n",
              "  background-color: #0000f7;\n",
              "  color: #f1f1f1;\n",
              "  white-space: pre-wrap;\n",
              "}\n",
              "#T_c97a4_row2_col15 {\n",
              "  background-color: #f60000;\n",
              "  color: #f1f1f1;\n",
              "  white-space: pre-wrap;\n",
              "}\n",
              "#T_c97a4_row2_col16 {\n",
              "  background-color: #d20000;\n",
              "  color: #f1f1f1;\n",
              "  white-space: pre-wrap;\n",
              "}\n",
              "#T_c97a4_row2_col19, #T_c97a4_row6_col16 {\n",
              "  background-color: #d5d5ff;\n",
              "  color: #000000;\n",
              "  white-space: pre-wrap;\n",
              "}\n",
              "#T_c97a4_row3_col0 {\n",
              "  background-color: #1919ff;\n",
              "  color: #f1f1f1;\n",
              "  white-space: pre-wrap;\n",
              "}\n",
              "#T_c97a4_row3_col4 {\n",
              "  background-color: #8989ff;\n",
              "  color: #f1f1f1;\n",
              "  white-space: pre-wrap;\n",
              "}\n",
              "#T_c97a4_row3_col5, #T_c97a4_row3_col14 {\n",
              "  background-color: #d1d1ff;\n",
              "  color: #000000;\n",
              "  white-space: pre-wrap;\n",
              "}\n",
              "#T_c97a4_row3_col6 {\n",
              "  background-color: #ffe9e9;\n",
              "  color: #000000;\n",
              "  white-space: pre-wrap;\n",
              "}\n",
              "#T_c97a4_row3_col11 {\n",
              "  background-color: #ededff;\n",
              "  color: #000000;\n",
              "  white-space: pre-wrap;\n",
              "}\n",
              "#T_c97a4_row3_col12 {\n",
              "  background-color: #ff5959;\n",
              "  color: #f1f1f1;\n",
              "  white-space: pre-wrap;\n",
              "}\n",
              "#T_c97a4_row3_col13, #T_c97a4_row7_col13 {\n",
              "  background-color: #e1e1ff;\n",
              "  color: #000000;\n",
              "  white-space: pre-wrap;\n",
              "}\n",
              "#T_c97a4_row3_col15, #T_c97a4_row7_col12 {\n",
              "  background-color: #ffa1a1;\n",
              "  color: #000000;\n",
              "  white-space: pre-wrap;\n",
              "}\n",
              "#T_c97a4_row3_col17 {\n",
              "  background-color: #c9c9ff;\n",
              "  color: #000000;\n",
              "  white-space: pre-wrap;\n",
              "}\n",
              "#T_c97a4_row3_col19 {\n",
              "  background-color: #ff6969;\n",
              "  color: #f1f1f1;\n",
              "  white-space: pre-wrap;\n",
              "}\n",
              "#T_c97a4_row4_col0 {\n",
              "  background-color: #ff8989;\n",
              "  color: #000000;\n",
              "  white-space: pre-wrap;\n",
              "}\n",
              "#T_c97a4_row4_col1 {\n",
              "  background-color: #8d8dff;\n",
              "  color: #f1f1f1;\n",
              "  white-space: pre-wrap;\n",
              "}\n",
              "#T_c97a4_row4_col4 {\n",
              "  background-color: #9d9dff;\n",
              "  color: #f1f1f1;\n",
              "  white-space: pre-wrap;\n",
              "}\n",
              "#T_c97a4_row4_col5 {\n",
              "  background-color: #ff0505;\n",
              "  color: #f1f1f1;\n",
              "  white-space: pre-wrap;\n",
              "}\n",
              "#T_c97a4_row4_col8 {\n",
              "  background-color: #0000ef;\n",
              "  color: #f1f1f1;\n",
              "  white-space: pre-wrap;\n",
              "}\n",
              "#T_c97a4_row4_col14 {\n",
              "  background-color: #1d1dff;\n",
              "  color: #f1f1f1;\n",
              "  white-space: pre-wrap;\n",
              "}\n",
              "#T_c97a4_row4_col16 {\n",
              "  background-color: #ff2929;\n",
              "  color: #f1f1f1;\n",
              "  white-space: pre-wrap;\n",
              "}\n",
              "#T_c97a4_row4_col19 {\n",
              "  background-color: #fff9f9;\n",
              "  color: #000000;\n",
              "  white-space: pre-wrap;\n",
              "}\n",
              "#T_c97a4_row5_col0, #T_c97a4_row7_col18 {\n",
              "  background-color: #ff8585;\n",
              "  color: #f1f1f1;\n",
              "  white-space: pre-wrap;\n",
              "}\n",
              "#T_c97a4_row5_col4, #T_c97a4_row6_col1 {\n",
              "  background-color: #c30000;\n",
              "  color: #f1f1f1;\n",
              "  white-space: pre-wrap;\n",
              "}\n",
              "#T_c97a4_row5_col11 {\n",
              "  background-color: #930000;\n",
              "  color: #f1f1f1;\n",
              "  white-space: pre-wrap;\n",
              "}\n",
              "#T_c97a4_row5_col14, #T_c97a4_row6_col14 {\n",
              "  background-color: #ff0d0d;\n",
              "  color: #f1f1f1;\n",
              "  white-space: pre-wrap;\n",
              "}\n",
              "#T_c97a4_row5_col16 {\n",
              "  background-color: #9a0000;\n",
              "  color: #f1f1f1;\n",
              "  white-space: pre-wrap;\n",
              "}\n",
              "#T_c97a4_row5_col19 {\n",
              "  background-color: #980000;\n",
              "  color: #f1f1f1;\n",
              "  white-space: pre-wrap;\n",
              "}\n",
              "#T_c97a4_row6_col4 {\n",
              "  background-color: #8585ff;\n",
              "  color: #f1f1f1;\n",
              "  white-space: pre-wrap;\n",
              "}\n",
              "#T_c97a4_row6_col17 {\n",
              "  background-color: #ff1d1d;\n",
              "  color: #f1f1f1;\n",
              "  white-space: pre-wrap;\n",
              "}\n",
              "#T_c97a4_row6_col19 {\n",
              "  background-color: #ffbdbd;\n",
              "  color: #000000;\n",
              "  white-space: pre-wrap;\n",
              "}\n",
              "#T_c97a4_row7_col0 {\n",
              "  background-color: #fff1f1;\n",
              "  color: #000000;\n",
              "  white-space: pre-wrap;\n",
              "}\n",
              "#T_c97a4_row7_col1 {\n",
              "  background-color: #e9e9ff;\n",
              "  color: #000000;\n",
              "  white-space: pre-wrap;\n",
              "}\n",
              "#T_c97a4_row7_col3 {\n",
              "  background-color: #ffeded;\n",
              "  color: #000000;\n",
              "  white-space: pre-wrap;\n",
              "}\n",
              "#T_c97a4_row7_col4 {\n",
              "  background-color: #f1f1ff;\n",
              "  color: #000000;\n",
              "  white-space: pre-wrap;\n",
              "}\n",
              "#T_c97a4_row7_col6 {\n",
              "  background-color: #f9f9ff;\n",
              "  color: #000000;\n",
              "  white-space: pre-wrap;\n",
              "}\n",
              "#T_c97a4_row7_col7 {\n",
              "  background-color: #ffcdcd;\n",
              "  color: #000000;\n",
              "  white-space: pre-wrap;\n",
              "}\n",
              "#T_c97a4_row7_col11 {\n",
              "  background-color: #ffa9a9;\n",
              "  color: #000000;\n",
              "  white-space: pre-wrap;\n",
              "}\n",
              "#T_c97a4_row7_col16 {\n",
              "  background-color: #ffb9b9;\n",
              "  color: #000000;\n",
              "  white-space: pre-wrap;\n",
              "}\n",
              "#T_c97a4_row7_col17 {\n",
              "  background-color: #7575ff;\n",
              "  color: #f1f1f1;\n",
              "  white-space: pre-wrap;\n",
              "}\n",
              "#T_c97a4_row7_col19 {\n",
              "  background-color: #ff8181;\n",
              "  color: #f1f1f1;\n",
              "  white-space: pre-wrap;\n",
              "}\n",
              "</style>\n",
              "<table id=\"T_c97a4\">\n",
              "  <thead>\n",
              "    <tr>\n",
              "      <th class=\"blank level0\" >&nbsp;</th>\n",
              "      <th id=\"T_c97a4_level0_col0\" class=\"col_heading level0 col0\" >Lost (0)</th>\n",
              "      <th id=\"T_c97a4_level0_col1\" class=\"col_heading level0 col1\" > my (1)</th>\n",
              "      <th id=\"T_c97a4_level0_col2\" class=\"col_heading level0 col2\" > favorite (2)</th>\n",
              "      <th id=\"T_c97a4_level0_col3\" class=\"col_heading level0 col3\" > sock (3)</th>\n",
              "      <th id=\"T_c97a4_level0_col4\" class=\"col_heading level0 col4\" >,\n",
              " (4)</th>\n",
              "      <th id=\"T_c97a4_level0_col5\" class=\"col_heading level0 col5\" >In (5)</th>\n",
              "      <th id=\"T_c97a4_level0_col6\" class=\"col_heading level0 col6\" > the (6)</th>\n",
              "      <th id=\"T_c97a4_level0_col7\" class=\"col_heading level0 col7\" > dryer (7)</th>\n",
              "      <th id=\"T_c97a4_level0_col8\" class=\"col_heading level0 col8\" > it (8)</th>\n",
              "      <th id=\"T_c97a4_level0_col9\" class=\"col_heading level0 col9\" > did (9)</th>\n",
              "      <th id=\"T_c97a4_level0_col10\" class=\"col_heading level0 col10\" > hide (10)</th>\n",
              "      <th id=\"T_c97a4_level0_col11\" class=\"col_heading level0 col11\" >,\n",
              " (11)</th>\n",
              "      <th id=\"T_c97a4_level0_col12\" class=\"col_heading level0 col12\" >One (12)</th>\n",
              "      <th id=\"T_c97a4_level0_col13\" class=\"col_heading level0 col13\" > foot (13)</th>\n",
              "      <th id=\"T_c97a4_level0_col14\" class=\"col_heading level0 col14\" >'s (14)</th>\n",
              "      <th id=\"T_c97a4_level0_col15\" class=\"col_heading level0 col15\" > cold (15)</th>\n",
              "      <th id=\"T_c97a4_level0_col16\" class=\"col_heading level0 col16\" >, (16)</th>\n",
              "      <th id=\"T_c97a4_level0_col17\" class=\"col_heading level0 col17\" > how (17)</th>\n",
              "      <th id=\"T_c97a4_level0_col18\" class=\"col_heading level0 col18\" > odd (18)</th>\n",
              "      <th id=\"T_c97a4_level0_col19\" class=\"col_heading level0 col19\" >. (19)</th>\n",
              "      <th id=\"T_c97a4_level0_col20\" class=\"col_heading level0 col20\" >perturbed_input</th>\n",
              "      <th id=\"T_c97a4_level0_col21\" class=\"col_heading level0 col21\" >perturbed_output</th>\n",
              "    </tr>\n",
              "  </thead>\n",
              "  <tbody>\n",
              "    <tr>\n",
              "      <th id=\"T_c97a4_level0_row0\" class=\"row_heading level0 row0\" >Write (0)</th>\n",
              "      <td id=\"T_c97a4_row0_col0\" class=\"data row0 col0\" >0.085926</td>\n",
              "      <td id=\"T_c97a4_row0_col1\" class=\"data row0 col1\" >-0.007451</td>\n",
              "      <td id=\"T_c97a4_row0_col2\" class=\"data row0 col2\" >0.468663</td>\n",
              "      <td id=\"T_c97a4_row0_col3\" class=\"data row0 col3\" >0.843929</td>\n",
              "      <td id=\"T_c97a4_row0_col4\" class=\"data row0 col4\" >-0.254139</td>\n",
              "      <td id=\"T_c97a4_row0_col5\" class=\"data row0 col5\" >0.527553</td>\n",
              "      <td id=\"T_c97a4_row0_col6\" class=\"data row0 col6\" >0.691508</td>\n",
              "      <td id=\"T_c97a4_row0_col7\" class=\"data row0 col7\" >0.790795</td>\n",
              "      <td id=\"T_c97a4_row0_col8\" class=\"data row0 col8\" >0.423908</td>\n",
              "      <td id=\"T_c97a4_row0_col9\" class=\"data row0 col9\" >0.256473</td>\n",
              "      <td id=\"T_c97a4_row0_col10\" class=\"data row0 col10\" >0.306266</td>\n",
              "      <td id=\"T_c97a4_row0_col11\" class=\"data row0 col11\" >-0.064182</td>\n",
              "      <td id=\"T_c97a4_row0_col12\" class=\"data row0 col12\" >0.629379</td>\n",
              "      <td id=\"T_c97a4_row0_col13\" class=\"data row0 col13\" >0.750506</td>\n",
              "      <td id=\"T_c97a4_row0_col14\" class=\"data row0 col14\" >0.214251</td>\n",
              "      <td id=\"T_c97a4_row0_col15\" class=\"data row0 col15\" >0.606542</td>\n",
              "      <td id=\"T_c97a4_row0_col16\" class=\"data row0 col16\" >0.090606</td>\n",
              "      <td id=\"T_c97a4_row0_col17\" class=\"data row0 col17\" >0.447819</td>\n",
              "      <td id=\"T_c97a4_row0_col18\" class=\"data row0 col18\" >0.428600</td>\n",
              "      <td id=\"T_c97a4_row0_col19\" class=\"data row0 col19\" >0.023355</td>\n",
              "      <td id=\"T_c97a4_row0_col20\" class=\"data row0 col20\" >a funny, sad haiku.</td>\n",
              "      <td id=\"T_c97a4_row0_col21\" class=\"data row0 col21\" >Tripped on my own feet,\n",
              "Laughter echoed, tears did leak,\n",
              "Pride's fall, quite a feat.</td>\n",
              "    </tr>\n",
              "    <tr>\n",
              "      <th id=\"T_c97a4_level0_row1\" class=\"row_heading level0 row1\" > a (1)</th>\n",
              "      <td id=\"T_c97a4_row1_col0\" class=\"data row1 col0\" >0.123701</td>\n",
              "      <td id=\"T_c97a4_row1_col1\" class=\"data row1 col1\" >0.076361</td>\n",
              "      <td id=\"T_c97a4_row1_col2\" class=\"data row1 col2\" >0.002374</td>\n",
              "      <td id=\"T_c97a4_row1_col3\" class=\"data row1 col3\" >0.066352</td>\n",
              "      <td id=\"T_c97a4_row1_col4\" class=\"data row1 col4\" >0.364827</td>\n",
              "      <td id=\"T_c97a4_row1_col5\" class=\"data row1 col5\" >0.355052</td>\n",
              "      <td id=\"T_c97a4_row1_col6\" class=\"data row1 col6\" >0.742088</td>\n",
              "      <td id=\"T_c97a4_row1_col7\" class=\"data row1 col7\" >0.790795</td>\n",
              "      <td id=\"T_c97a4_row1_col8\" class=\"data row1 col8\" >-0.559562</td>\n",
              "      <td id=\"T_c97a4_row1_col9\" class=\"data row1 col9\" >0.453181</td>\n",
              "      <td id=\"T_c97a4_row1_col10\" class=\"data row1 col10\" >0.306266</td>\n",
              "      <td id=\"T_c97a4_row1_col11\" class=\"data row1 col11\" >0.554784</td>\n",
              "      <td id=\"T_c97a4_row1_col12\" class=\"data row1 col12\" >0.275467</td>\n",
              "      <td id=\"T_c97a4_row1_col13\" class=\"data row1 col13\" >-0.054386</td>\n",
              "      <td id=\"T_c97a4_row1_col14\" class=\"data row1 col14\" >0.225345</td>\n",
              "      <td id=\"T_c97a4_row1_col15\" class=\"data row1 col15\" >0.110153</td>\n",
              "      <td id=\"T_c97a4_row1_col16\" class=\"data row1 col16\" >0.156112</td>\n",
              "      <td id=\"T_c97a4_row1_col17\" class=\"data row1 col17\" >0.147257</td>\n",
              "      <td id=\"T_c97a4_row1_col18\" class=\"data row1 col18\" >0.388503</td>\n",
              "      <td id=\"T_c97a4_row1_col19\" class=\"data row1 col19\" >0.458816</td>\n",
              "      <td id=\"T_c97a4_row1_col20\" class=\"data row1 col20\" >Write funny, sad haiku.</td>\n",
              "      <td id=\"T_c97a4_row1_col21\" class=\"data row1 col21\" >Lost my favorite sock\n",
              "Washing machine ate it whole\n",
              "One foot's cold, how cruel.</td>\n",
              "    </tr>\n",
              "    <tr>\n",
              "      <th id=\"T_c97a4_level0_row2\" class=\"row_heading level0 row2\" > funny (2)</th>\n",
              "      <td id=\"T_c97a4_row2_col0\" class=\"data row2 col0\" >0.192401</td>\n",
              "      <td id=\"T_c97a4_row2_col1\" class=\"data row2 col1\" >0.747085</td>\n",
              "      <td id=\"T_c97a4_row2_col2\" class=\"data row2 col2\" >0.468663</td>\n",
              "      <td id=\"T_c97a4_row2_col3\" class=\"data row2 col3\" >0.844986</td>\n",
              "      <td id=\"T_c97a4_row2_col4\" class=\"data row2 col4\" >-0.258164</td>\n",
              "      <td id=\"T_c97a4_row2_col5\" class=\"data row2 col5\" >0.458580</td>\n",
              "      <td id=\"T_c97a4_row2_col6\" class=\"data row2 col6\" >-0.054601</td>\n",
              "      <td id=\"T_c97a4_row2_col7\" class=\"data row2 col7\" >0.790795</td>\n",
              "      <td id=\"T_c97a4_row2_col8\" class=\"data row2 col8\" >0.423908</td>\n",
              "      <td id=\"T_c97a4_row2_col9\" class=\"data row2 col9\" >0.453181</td>\n",
              "      <td id=\"T_c97a4_row2_col10\" class=\"data row2 col10\" >0.306266</td>\n",
              "      <td id=\"T_c97a4_row2_col11\" class=\"data row2 col11\" >-0.068207</td>\n",
              "      <td id=\"T_c97a4_row2_col12\" class=\"data row2 col12\" >0.629379</td>\n",
              "      <td id=\"T_c97a4_row2_col13\" class=\"data row2 col13\" >0.769185</td>\n",
              "      <td id=\"T_c97a4_row2_col14\" class=\"data row2 col14\" >-0.522108</td>\n",
              "      <td id=\"T_c97a4_row2_col15\" class=\"data row2 col15\" >0.537155</td>\n",
              "      <td id=\"T_c97a4_row2_col16\" class=\"data row2 col16\" >0.676532</td>\n",
              "      <td id=\"T_c97a4_row2_col17\" class=\"data row2 col17\" >0.447819</td>\n",
              "      <td id=\"T_c97a4_row2_col18\" class=\"data row2 col18\" >0.428600</td>\n",
              "      <td id=\"T_c97a4_row2_col19\" class=\"data row2 col19\" >-0.081804</td>\n",
              "      <td id=\"T_c97a4_row2_col20\" class=\"data row2 col20\" >Write a, sad haiku.</td>\n",
              "      <td id=\"T_c97a4_row2_col21\" class=\"data row2 col21\" >Tears fall like raindrops,\n",
              "Joy lost in the heart's deep well,\n",
              "Laughter's echo fades.</td>\n",
              "    </tr>\n",
              "    <tr>\n",
              "      <th id=\"T_c97a4_level0_row3\" class=\"row_heading level0 row3\" >, (3)</th>\n",
              "      <td id=\"T_c97a4_row3_col0\" class=\"data row3 col0\" >-0.446988</td>\n",
              "      <td id=\"T_c97a4_row3_col1\" class=\"data row3 col1\" >-0.065879</td>\n",
              "      <td id=\"T_c97a4_row3_col2\" class=\"data row3 col2\" >0.091967</td>\n",
              "      <td id=\"T_c97a4_row3_col3\" class=\"data row3 col3\" >0.062906</td>\n",
              "      <td id=\"T_c97a4_row3_col4\" class=\"data row3 col4\" >-0.227181</td>\n",
              "      <td id=\"T_c97a4_row3_col5\" class=\"data row3 col5\" >-0.088485</td>\n",
              "      <td id=\"T_c97a4_row3_col6\" class=\"data row3 col6\" >0.042855</td>\n",
              "      <td id=\"T_c97a4_row3_col7\" class=\"data row3 col7\" >0.021042</td>\n",
              "      <td id=\"T_c97a4_row3_col8\" class=\"data row3 col8\" >0.214313</td>\n",
              "      <td id=\"T_c97a4_row3_col9\" class=\"data row3 col9\" >0.453181</td>\n",
              "      <td id=\"T_c97a4_row3_col10\" class=\"data row3 col10\" >0.306266</td>\n",
              "      <td id=\"T_c97a4_row3_col11\" class=\"data row3 col11\" >-0.037223</td>\n",
              "      <td id=\"T_c97a4_row3_col12\" class=\"data row3 col12\" >0.322512</td>\n",
              "      <td id=\"T_c97a4_row3_col13\" class=\"data row3 col13\" >-0.055629</td>\n",
              "      <td id=\"T_c97a4_row3_col14\" class=\"data row3 col14\" >-0.091371</td>\n",
              "      <td id=\"T_c97a4_row3_col15\" class=\"data row3 col15\" >0.185144</td>\n",
              "      <td id=\"T_c97a4_row3_col16\" class=\"data row3 col16\" >0.092737</td>\n",
              "      <td id=\"T_c97a4_row3_col17\" class=\"data row3 col17\" >-0.102348</td>\n",
              "      <td id=\"T_c97a4_row3_col18\" class=\"data row3 col18\" >0.389933</td>\n",
              "      <td id=\"T_c97a4_row3_col19\" class=\"data row3 col19\" >0.291519</td>\n",
              "      <td id=\"T_c97a4_row3_col20\" class=\"data row3 col20\" >Write a funny sad haiku.</td>\n",
              "      <td id=\"T_c97a4_row3_col21\" class=\"data row3 col21\" >Lost my favorite sock,\n",
              "In the dryer's black abyss,\n",
              "One foot's cold, how cruel.</td>\n",
              "    </tr>\n",
              "    <tr>\n",
              "      <th id=\"T_c97a4_level0_row4\" class=\"row_heading level0 row4\" > sad (4)</th>\n",
              "      <td id=\"T_c97a4_row4_col0\" class=\"data row4 col0\" >0.231247</td>\n",
              "      <td id=\"T_c97a4_row4_col1\" class=\"data row4 col1\" >-0.223566</td>\n",
              "      <td id=\"T_c97a4_row4_col2\" class=\"data row4 col2\" >0.460796</td>\n",
              "      <td id=\"T_c97a4_row4_col3\" class=\"data row4 col3\" >0.844986</td>\n",
              "      <td id=\"T_c97a4_row4_col4\" class=\"data row4 col4\" >-0.188315</td>\n",
              "      <td id=\"T_c97a4_row4_col5\" class=\"data row4 col5\" >0.492037</td>\n",
              "      <td id=\"T_c97a4_row4_col6\" class=\"data row4 col6\" >0.452525</td>\n",
              "      <td id=\"T_c97a4_row4_col7\" class=\"data row4 col7\" >0.790795</td>\n",
              "      <td id=\"T_c97a4_row4_col8\" class=\"data row4 col8\" >-0.543771</td>\n",
              "      <td id=\"T_c97a4_row4_col9\" class=\"data row4 col9\" >0.453181</td>\n",
              "      <td id=\"T_c97a4_row4_col10\" class=\"data row4 col10\" >0.306266</td>\n",
              "      <td id=\"T_c97a4_row4_col11\" class=\"data row4 col11\" >0.001642</td>\n",
              "      <td id=\"T_c97a4_row4_col12\" class=\"data row4 col12\" >0.629379</td>\n",
              "      <td id=\"T_c97a4_row4_col13\" class=\"data row4 col13\" >0.769185</td>\n",
              "      <td id=\"T_c97a4_row4_col14\" class=\"data row4 col14\" >-0.439374</td>\n",
              "      <td id=\"T_c97a4_row4_col15\" class=\"data row4 col15\" >0.606542</td>\n",
              "      <td id=\"T_c97a4_row4_col16\" class=\"data row4 col16\" >0.419960</td>\n",
              "      <td id=\"T_c97a4_row4_col17\" class=\"data row4 col17\" >0.447819</td>\n",
              "      <td id=\"T_c97a4_row4_col18\" class=\"data row4 col18\" >0.428600</td>\n",
              "      <td id=\"T_c97a4_row4_col19\" class=\"data row4 col19\" >0.008626</td>\n",
              "      <td id=\"T_c97a4_row4_col20\" class=\"data row4 col20\" >Write a funny, haiku.</td>\n",
              "      <td id=\"T_c97a4_row4_col21\" class=\"data row4 col21\" >Coffee in my cup,\n",
              "Spilled it on my laptop, oops,\n",
              "Guess it's time to wake up.</td>\n",
              "    </tr>\n",
              "    <tr>\n",
              "      <th id=\"T_c97a4_level0_row5\" class=\"row_heading level0 row5\" > ha (5)</th>\n",
              "      <td id=\"T_c97a4_row5_col0\" class=\"data row5 col0\" >0.234409</td>\n",
              "      <td id=\"T_c97a4_row5_col1\" class=\"data row5 col1\" >0.747085</td>\n",
              "      <td id=\"T_c97a4_row5_col2\" class=\"data row5 col2\" >0.468663</td>\n",
              "      <td id=\"T_c97a4_row5_col3\" class=\"data row5 col3\" >0.844986</td>\n",
              "      <td id=\"T_c97a4_row5_col4\" class=\"data row5 col4\" >0.728675</td>\n",
              "      <td id=\"T_c97a4_row5_col5\" class=\"data row5 col5\" >0.528705</td>\n",
              "      <td id=\"T_c97a4_row5_col6\" class=\"data row5 col6\" >0.756977</td>\n",
              "      <td id=\"T_c97a4_row5_col7\" class=\"data row5 col7\" >0.790795</td>\n",
              "      <td id=\"T_c97a4_row5_col8\" class=\"data row5 col8\" >0.423906</td>\n",
              "      <td id=\"T_c97a4_row5_col9\" class=\"data row5 col9\" >0.423451</td>\n",
              "      <td id=\"T_c97a4_row5_col10\" class=\"data row5 col10\" >0.306266</td>\n",
              "      <td id=\"T_c97a4_row5_col11\" class=\"data row5 col11\" >0.918632</td>\n",
              "      <td id=\"T_c97a4_row5_col12\" class=\"data row5 col12\" >0.626881</td>\n",
              "      <td id=\"T_c97a4_row5_col13\" class=\"data row5 col13\" >0.769185</td>\n",
              "      <td id=\"T_c97a4_row5_col14\" class=\"data row5 col14\" >0.472028</td>\n",
              "      <td id=\"T_c97a4_row5_col15\" class=\"data row5 col15\" >0.606542</td>\n",
              "      <td id=\"T_c97a4_row5_col16\" class=\"data row5 col16\" >0.895728</td>\n",
              "      <td id=\"T_c97a4_row5_col17\" class=\"data row5 col17\" >0.447819</td>\n",
              "      <td id=\"T_c97a4_row5_col18\" class=\"data row5 col18\" >0.428600</td>\n",
              "      <td id=\"T_c97a4_row5_col19\" class=\"data row5 col19\" >0.904933</td>\n",
              "      <td id=\"T_c97a4_row5_col20\" class=\"data row5 col20\" >Write a funny, sadiku.</td>\n",
              "      <td id=\"T_c97a4_row5_col21\" class=\"data row5 col21\" >Why don't scientists trust atoms?\n",
              "\n",
              "Because they make up everything!</td>\n",
              "    </tr>\n",
              "    <tr>\n",
              "      <th id=\"T_c97a4_level0_row6\" class=\"row_heading level0 row6\" >iku (6)</th>\n",
              "      <td id=\"T_c97a4_row6_col0\" class=\"data row6 col0\" >-0.258952</td>\n",
              "      <td id=\"T_c97a4_row6_col1\" class=\"data row6 col1\" >0.727466</td>\n",
              "      <td id=\"T_c97a4_row6_col2\" class=\"data row6 col2\" >0.468663</td>\n",
              "      <td id=\"T_c97a4_row6_col3\" class=\"data row6 col3\" >0.844986</td>\n",
              "      <td id=\"T_c97a4_row6_col4\" class=\"data row6 col4\" >-0.237573</td>\n",
              "      <td id=\"T_c97a4_row6_col5\" class=\"data row6 col5\" >0.468184</td>\n",
              "      <td id=\"T_c97a4_row6_col6\" class=\"data row6 col6\" >0.114857</td>\n",
              "      <td id=\"T_c97a4_row6_col7\" class=\"data row6 col7\" >0.790795</td>\n",
              "      <td id=\"T_c97a4_row6_col8\" class=\"data row6 col8\" >0.423908</td>\n",
              "      <td id=\"T_c97a4_row6_col9\" class=\"data row6 col9\" >0.453181</td>\n",
              "      <td id=\"T_c97a4_row6_col10\" class=\"data row6 col10\" >0.306266</td>\n",
              "      <td id=\"T_c97a4_row6_col11\" class=\"data row6 col11\" >-0.047616</td>\n",
              "      <td id=\"T_c97a4_row6_col12\" class=\"data row6 col12\" >0.629379</td>\n",
              "      <td id=\"T_c97a4_row6_col13\" class=\"data row6 col13\" >0.769185</td>\n",
              "      <td id=\"T_c97a4_row6_col14\" class=\"data row6 col14\" >0.469058</td>\n",
              "      <td id=\"T_c97a4_row6_col15\" class=\"data row6 col15\" >0.606542</td>\n",
              "      <td id=\"T_c97a4_row6_col16\" class=\"data row6 col16\" >-0.082936</td>\n",
              "      <td id=\"T_c97a4_row6_col17\" class=\"data row6 col17\" >0.439314</td>\n",
              "      <td id=\"T_c97a4_row6_col18\" class=\"data row6 col18\" >0.428600</td>\n",
              "      <td id=\"T_c97a4_row6_col19\" class=\"data row6 col19\" >0.131820</td>\n",
              "      <td id=\"T_c97a4_row6_col20\" class=\"data row6 col20\" >Write a funny, sad ha.</td>\n",
              "      <td id=\"T_c97a4_row6_col21\" class=\"data row6 col21\" >Once a jester, full of glee,\n",
              "Lost his jokes, in a sad sea,\n",
              "Laughed no more, oh, the irony.</td>\n",
              "    </tr>\n",
              "    <tr>\n",
              "      <th id=\"T_c97a4_level0_row7\" class=\"row_heading level0 row7\" >. (7)</th>\n",
              "      <td id=\"T_c97a4_row7_col0\" class=\"data row7 col0\" >0.024758</td>\n",
              "      <td id=\"T_c97a4_row7_col1\" class=\"data row7 col1\" >-0.044858</td>\n",
              "      <td id=\"T_c97a4_row7_col2\" class=\"data row7 col2\" >-0.049809</td>\n",
              "      <td id=\"T_c97a4_row7_col3\" class=\"data row7 col3\" >0.035263</td>\n",
              "      <td id=\"T_c97a4_row7_col4\" class=\"data row7 col4\" >-0.024846</td>\n",
              "      <td id=\"T_c97a4_row7_col5\" class=\"data row7 col5\" >-0.051402</td>\n",
              "      <td id=\"T_c97a4_row7_col6\" class=\"data row7 col6\" >-0.015507</td>\n",
              "      <td id=\"T_c97a4_row7_col7\" class=\"data row7 col7\" >0.100479</td>\n",
              "      <td id=\"T_c97a4_row7_col8\" class=\"data row7 col8\" >0.089009</td>\n",
              "      <td id=\"T_c97a4_row7_col9\" class=\"data row7 col9\" >0.453181</td>\n",
              "      <td id=\"T_c97a4_row7_col10\" class=\"data row7 col10\" >0.306266</td>\n",
              "      <td id=\"T_c97a4_row7_col11\" class=\"data row7 col11\" >0.165111</td>\n",
              "      <td id=\"T_c97a4_row7_col12\" class=\"data row7 col12\" >0.182015</td>\n",
              "      <td id=\"T_c97a4_row7_col13\" class=\"data row7 col13\" >-0.058605</td>\n",
              "      <td id=\"T_c97a4_row7_col14\" class=\"data row7 col14\" >0.066807</td>\n",
              "      <td id=\"T_c97a4_row7_col15\" class=\"data row7 col15\" >0.255314</td>\n",
              "      <td id=\"T_c97a4_row7_col16\" class=\"data row7 col16\" >0.133043</td>\n",
              "      <td id=\"T_c97a4_row7_col17\" class=\"data row7 col17\" >-0.270163</td>\n",
              "      <td id=\"T_c97a4_row7_col18\" class=\"data row7 col18\" >0.236995</td>\n",
              "      <td id=\"T_c97a4_row7_col19\" class=\"data row7 col19\" >0.247083</td>\n",
              "      <td id=\"T_c97a4_row7_col20\" class=\"data row7 col20\" >Write a funny, sad haiku</td>\n",
              "      <td id=\"T_c97a4_row7_col21\" class=\"data row7 col21\" >Lost my favorite sock,\n",
              "In the dryer's hungry maw,\n",
              "One foot's cold, how cruel.</td>\n",
              "    </tr>\n",
              "  </tbody>\n",
              "</table>\n"
            ],
            "text/plain": [
              "<pandas.io.formats.style.Styler at 0x168411bb0>"
            ]
          },
          "metadata": {},
          "output_type": "display_data"
        }
      ],
      "source": [
        "logger.print_text_attribution_matrix(exp_id=-1)\n",
        "logger.print_total_attribution(exp_id=-1)\n",
        "logger.print_attribution_matrix(exp_id=-1, show_debug_cols=True)"
      ]
    },
    {
      "cell_type": "markdown",
      "metadata": {},
      "source": [
        "## Steganography\n",
        "\n",
        "Could we use attribution to detect hidden messages between LLMs? Maybe. This is a forced example – you can probably think of better experiments. First let's get GPT4 to secretly encode a message."
      ]
    },
    {
      "cell_type": "code",
      "execution_count": null,
      "metadata": {},
      "outputs": [
        {
          "name": "stdout",
          "output_type": "stream",
          "text": [
            "VGhlIG93bCBob290cyBhdCBtaWRuaWdodCE=\n"
          ]
        }
      ],
      "source": [
        "input_str = \"Encode this message so that only you can decode it, then reply with just the encoded message (don't explain further): 'The owl hoots at midnight!'\"\n",
        "\n",
        "encoded = await gpt4_attributor.get_chat_completion(input_str)\n",
        "encoded = encoded.message.content\n",
        "print(encoded)"
      ]
    },
    {
      "cell_type": "code",
      "execution_count": null,
      "metadata": {},
      "outputs": [
        {
          "name": "stdout",
          "output_type": "stream",
          "text": [
            "The owl hoots at midnight!\n"
          ]
        }
      ],
      "source": [
        "input_str = f\"Decode this message. Do not explain further. '{encoded}'\"\n",
        "decoded = await gpt4_attributor.get_chat_completion(input_str)\n",
        "decoded = decoded.message.content\n",
        "print(decoded)"
      ]
    },
    {
      "cell_type": "markdown",
      "metadata": {},
      "source": [
        "Let's see if we can figure out which parts of the prompt were encoded."
      ]
    },
    {
      "cell_type": "code",
      "execution_count": null,
      "metadata": {},
      "outputs": [
        {
          "name": "stderr",
          "output_type": "stream",
          "text": [
            "Sending 5 concurrent requests at a time: 100%|██████████| 2/2 [00:04<00:00,  2.10s/it]\n",
            "Sending 5 concurrent requests at a time:   0%|          | 0/2 [00:00<?, ?it/s]\n"
          ]
        },
        {
          "ename": "CancelledError",
          "evalue": "",
          "output_type": "error",
          "traceback": [
            "\u001b[0;31m---------------------------------------------------------------------------\u001b[0m",
            "\u001b[0;31mCancelledError\u001b[0m                            Traceback (most recent call last)",
            "Cell \u001b[0;32mIn[14], line 1\u001b[0m\n\u001b[0;32m----> 1\u001b[0m \u001b[38;5;28;01mawait\u001b[39;00m gpt4_attributor\u001b[38;5;241m.\u001b[39mhierarchical_perturbation(\n\u001b[1;32m      2\u001b[0m     input_str,\n\u001b[1;32m      3\u001b[0m     logger\u001b[38;5;241m=\u001b[39mlogger,\n\u001b[1;32m      4\u001b[0m )\n\u001b[1;32m      6\u001b[0m logger\u001b[38;5;241m.\u001b[39mprint_text_total_attribution(exp_id\u001b[38;5;241m=\u001b[39m\u001b[38;5;241m-\u001b[39m\u001b[38;5;241m1\u001b[39m)\n",
            "File \u001b[0;32m~/PIZZA/attribution/api_attribution.py:196\u001b[0m, in \u001b[0;36mOpenAIAttributor.hierarchical_perturbation\u001b[0;34m(self, original_input, init_chunk_size, stride, perturbation_strategy, attribution_strategies, threshold_attribution_strategy, static_threshold, use_absolute_attribution, unit_definition, ignore_output_token_location, logger, verbosity)\u001b[0m\n\u001b[1;32m    193\u001b[0m     \u001b[38;5;28mprint\u001b[39m(\u001b[38;5;241m*\u001b[39m[[perturbation\u001b[38;5;241m.\u001b[39mmasked_string] \u001b[38;5;28;01mfor\u001b[39;00m perturbation \u001b[38;5;129;01min\u001b[39;00m perturbations], sep\u001b[38;5;241m=\u001b[39m\u001b[38;5;124m\"\u001b[39m\u001b[38;5;124m \u001b[39m\u001b[38;5;124m\"\u001b[39m)\n\u001b[1;32m    195\u001b[0m \u001b[38;5;66;03m# Wait for the perturbed results\u001b[39;00m\n\u001b[0;32m--> 196\u001b[0m outputs \u001b[38;5;241m=\u001b[39m \u001b[38;5;28;01mawait\u001b[39;00m \u001b[38;5;28mself\u001b[39m\u001b[38;5;241m.\u001b[39mget_multiple_completions(\n\u001b[1;32m    197\u001b[0m     [perturbation\u001b[38;5;241m.\u001b[39mperturbed_string \u001b[38;5;28;01mfor\u001b[39;00m perturbation \u001b[38;5;129;01min\u001b[39;00m perturbations]\n\u001b[1;32m    198\u001b[0m )\n\u001b[1;32m    199\u001b[0m total_llm_calls \u001b[38;5;241m+\u001b[39m\u001b[38;5;241m=\u001b[39m \u001b[38;5;28mlen\u001b[39m(outputs)\n\u001b[1;32m    201\u001b[0m \u001b[38;5;66;03m# Calculate attribution scores for each perturbation\u001b[39;00m\n",
            "File \u001b[0;32m~/PIZZA/attribution/api_attribution.py:289\u001b[0m, in \u001b[0;36mOpenAIAttributor.get_multiple_completions\u001b[0;34m(self, inputs)\u001b[0m\n\u001b[1;32m    281\u001b[0m     \u001b[38;5;28;01mfor\u001b[39;00m idx \u001b[38;5;129;01min\u001b[39;00m tqdm(\n\u001b[1;32m    282\u001b[0m         \u001b[38;5;28mrange\u001b[39m(\u001b[38;5;241m0\u001b[39m, \u001b[38;5;28mlen\u001b[39m(tasks), \u001b[38;5;28mself\u001b[39m\u001b[38;5;241m.\u001b[39mmax_concurrent_requests),\n\u001b[1;32m    283\u001b[0m         desc\u001b[38;5;241m=\u001b[39m\u001b[38;5;124mf\u001b[39m\u001b[38;5;124m\"\u001b[39m\u001b[38;5;124mSending \u001b[39m\u001b[38;5;132;01m{\u001b[39;00m\u001b[38;5;28mself\u001b[39m\u001b[38;5;241m.\u001b[39mmax_concurrent_requests\u001b[38;5;132;01m:\u001b[39;00m\u001b[38;5;124m.0f\u001b[39m\u001b[38;5;132;01m}\u001b[39;00m\u001b[38;5;124m concurrent requests at a time\u001b[39m\u001b[38;5;124m\"\u001b[39m,\n\u001b[1;32m    284\u001b[0m     ):\n\u001b[1;32m    285\u001b[0m         batch \u001b[38;5;241m=\u001b[39m [\n\u001b[1;32m    286\u001b[0m             tasks[i]\n\u001b[1;32m    287\u001b[0m             \u001b[38;5;28;01mfor\u001b[39;00m i \u001b[38;5;129;01min\u001b[39;00m \u001b[38;5;28mrange\u001b[39m(idx, \u001b[38;5;28mmin\u001b[39m(idx \u001b[38;5;241m+\u001b[39m \u001b[38;5;28mself\u001b[39m\u001b[38;5;241m.\u001b[39mmax_concurrent_requests, \u001b[38;5;28mlen\u001b[39m(tasks)))\n\u001b[1;32m    288\u001b[0m         ]\n\u001b[0;32m--> 289\u001b[0m         outputs\u001b[38;5;241m.\u001b[39mextend(\u001b[38;5;28;01mawait\u001b[39;00m asyncio\u001b[38;5;241m.\u001b[39mgather(\u001b[38;5;241m*\u001b[39mbatch))\n\u001b[1;32m    290\u001b[0m         \u001b[38;5;28;01mawait\u001b[39;00m asyncio\u001b[38;5;241m.\u001b[39msleep(REQUEST_DELAY)\n\u001b[1;32m    291\u001b[0m \u001b[38;5;28;01melse\u001b[39;00m:\n",
            "File \u001b[0;32m~/PIZZA/attribution/api_attribution.py:265\u001b[0m, in \u001b[0;36mOpenAIAttributor.get_chat_completion\u001b[0;34m(self, input)\u001b[0m\n\u001b[1;32m    264\u001b[0m \u001b[38;5;28;01masync\u001b[39;00m \u001b[38;5;28;01mdef\u001b[39;00m \u001b[38;5;21mget_chat_completion\u001b[39m(\u001b[38;5;28mself\u001b[39m, \u001b[38;5;28minput\u001b[39m: \u001b[38;5;28mstr\u001b[39m) \u001b[38;5;241m-\u001b[39m\u001b[38;5;241m>\u001b[39m StrictChoice:\n\u001b[0;32m--> 265\u001b[0m     response \u001b[38;5;241m=\u001b[39m \u001b[38;5;28;01mawait\u001b[39;00m \u001b[38;5;28mself\u001b[39m\u001b[38;5;241m.\u001b[39mopenai_client\u001b[38;5;241m.\u001b[39mchat\u001b[38;5;241m.\u001b[39mcompletions\u001b[38;5;241m.\u001b[39mcreate(\n\u001b[1;32m    266\u001b[0m         model\u001b[38;5;241m=\u001b[39m\u001b[38;5;28mself\u001b[39m\u001b[38;5;241m.\u001b[39mopenai_model,\n\u001b[1;32m    267\u001b[0m         messages\u001b[38;5;241m=\u001b[39m[{\u001b[38;5;124m\"\u001b[39m\u001b[38;5;124mrole\u001b[39m\u001b[38;5;124m\"\u001b[39m: \u001b[38;5;124m\"\u001b[39m\u001b[38;5;124muser\u001b[39m\u001b[38;5;124m\"\u001b[39m, \u001b[38;5;124m\"\u001b[39m\u001b[38;5;124mcontent\u001b[39m\u001b[38;5;124m\"\u001b[39m: \u001b[38;5;28minput\u001b[39m}],\n\u001b[1;32m    268\u001b[0m         temperature\u001b[38;5;241m=\u001b[39m\u001b[38;5;241m0.0\u001b[39m,\n\u001b[1;32m    269\u001b[0m         seed\u001b[38;5;241m=\u001b[39m\u001b[38;5;241m0\u001b[39m,\n\u001b[1;32m    270\u001b[0m         logprobs\u001b[38;5;241m=\u001b[39m\u001b[38;5;28;01mTrue\u001b[39;00m,\n\u001b[1;32m    271\u001b[0m         top_logprobs\u001b[38;5;241m=\u001b[39m\u001b[38;5;241m20\u001b[39m,\n\u001b[1;32m    272\u001b[0m     )\n\u001b[1;32m    273\u001b[0m     \u001b[38;5;28;01mreturn\u001b[39;00m StrictChoice(\u001b[38;5;241m*\u001b[39m\u001b[38;5;241m*\u001b[39mresponse\u001b[38;5;241m.\u001b[39mchoices[\u001b[38;5;241m0\u001b[39m]\u001b[38;5;241m.\u001b[39mmodel_dump())\n",
            "File \u001b[0;32m~/PIZZA/venv/lib/python3.12/site-packages/openai/resources/chat/completions.py:1344\u001b[0m, in \u001b[0;36mAsyncCompletions.create\u001b[0;34m(self, messages, model, frequency_penalty, function_call, functions, logit_bias, logprobs, max_tokens, n, presence_penalty, response_format, seed, stop, stream, temperature, tool_choice, tools, top_logprobs, top_p, user, extra_headers, extra_query, extra_body, timeout)\u001b[0m\n\u001b[1;32m   1290\u001b[0m \u001b[38;5;129m@required_args\u001b[39m([\u001b[38;5;124m\"\u001b[39m\u001b[38;5;124mmessages\u001b[39m\u001b[38;5;124m\"\u001b[39m, \u001b[38;5;124m\"\u001b[39m\u001b[38;5;124mmodel\u001b[39m\u001b[38;5;124m\"\u001b[39m], [\u001b[38;5;124m\"\u001b[39m\u001b[38;5;124mmessages\u001b[39m\u001b[38;5;124m\"\u001b[39m, \u001b[38;5;124m\"\u001b[39m\u001b[38;5;124mmodel\u001b[39m\u001b[38;5;124m\"\u001b[39m, \u001b[38;5;124m\"\u001b[39m\u001b[38;5;124mstream\u001b[39m\u001b[38;5;124m\"\u001b[39m])\n\u001b[1;32m   1291\u001b[0m \u001b[38;5;28;01masync\u001b[39;00m \u001b[38;5;28;01mdef\u001b[39;00m \u001b[38;5;21mcreate\u001b[39m(\n\u001b[1;32m   1292\u001b[0m     \u001b[38;5;28mself\u001b[39m,\n\u001b[0;32m   (...)\u001b[0m\n\u001b[1;32m   1342\u001b[0m     timeout: \u001b[38;5;28mfloat\u001b[39m \u001b[38;5;241m|\u001b[39m httpx\u001b[38;5;241m.\u001b[39mTimeout \u001b[38;5;241m|\u001b[39m \u001b[38;5;28;01mNone\u001b[39;00m \u001b[38;5;241m|\u001b[39m NotGiven \u001b[38;5;241m=\u001b[39m NOT_GIVEN,\n\u001b[1;32m   1343\u001b[0m ) \u001b[38;5;241m-\u001b[39m\u001b[38;5;241m>\u001b[39m ChatCompletion \u001b[38;5;241m|\u001b[39m AsyncStream[ChatCompletionChunk]:\n\u001b[0;32m-> 1344\u001b[0m     \u001b[38;5;28;01mreturn\u001b[39;00m \u001b[38;5;28;01mawait\u001b[39;00m \u001b[38;5;28mself\u001b[39m\u001b[38;5;241m.\u001b[39m_post(\n\u001b[1;32m   1345\u001b[0m         \u001b[38;5;124m\"\u001b[39m\u001b[38;5;124m/chat/completions\u001b[39m\u001b[38;5;124m\"\u001b[39m,\n\u001b[1;32m   1346\u001b[0m         body\u001b[38;5;241m=\u001b[39m\u001b[38;5;28;01mawait\u001b[39;00m async_maybe_transform(\n\u001b[1;32m   1347\u001b[0m             {\n\u001b[1;32m   1348\u001b[0m                 \u001b[38;5;124m\"\u001b[39m\u001b[38;5;124mmessages\u001b[39m\u001b[38;5;124m\"\u001b[39m: messages,\n\u001b[1;32m   1349\u001b[0m                 \u001b[38;5;124m\"\u001b[39m\u001b[38;5;124mmodel\u001b[39m\u001b[38;5;124m\"\u001b[39m: model,\n\u001b[1;32m   1350\u001b[0m                 \u001b[38;5;124m\"\u001b[39m\u001b[38;5;124mfrequency_penalty\u001b[39m\u001b[38;5;124m\"\u001b[39m: frequency_penalty,\n\u001b[1;32m   1351\u001b[0m                 \u001b[38;5;124m\"\u001b[39m\u001b[38;5;124mfunction_call\u001b[39m\u001b[38;5;124m\"\u001b[39m: function_call,\n\u001b[1;32m   1352\u001b[0m                 \u001b[38;5;124m\"\u001b[39m\u001b[38;5;124mfunctions\u001b[39m\u001b[38;5;124m\"\u001b[39m: functions,\n\u001b[1;32m   1353\u001b[0m                 \u001b[38;5;124m\"\u001b[39m\u001b[38;5;124mlogit_bias\u001b[39m\u001b[38;5;124m\"\u001b[39m: logit_bias,\n\u001b[1;32m   1354\u001b[0m                 \u001b[38;5;124m\"\u001b[39m\u001b[38;5;124mlogprobs\u001b[39m\u001b[38;5;124m\"\u001b[39m: logprobs,\n\u001b[1;32m   1355\u001b[0m                 \u001b[38;5;124m\"\u001b[39m\u001b[38;5;124mmax_tokens\u001b[39m\u001b[38;5;124m\"\u001b[39m: max_tokens,\n\u001b[1;32m   1356\u001b[0m                 \u001b[38;5;124m\"\u001b[39m\u001b[38;5;124mn\u001b[39m\u001b[38;5;124m\"\u001b[39m: n,\n\u001b[1;32m   1357\u001b[0m                 \u001b[38;5;124m\"\u001b[39m\u001b[38;5;124mpresence_penalty\u001b[39m\u001b[38;5;124m\"\u001b[39m: presence_penalty,\n\u001b[1;32m   1358\u001b[0m                 \u001b[38;5;124m\"\u001b[39m\u001b[38;5;124mresponse_format\u001b[39m\u001b[38;5;124m\"\u001b[39m: response_format,\n\u001b[1;32m   1359\u001b[0m                 \u001b[38;5;124m\"\u001b[39m\u001b[38;5;124mseed\u001b[39m\u001b[38;5;124m\"\u001b[39m: seed,\n\u001b[1;32m   1360\u001b[0m                 \u001b[38;5;124m\"\u001b[39m\u001b[38;5;124mstop\u001b[39m\u001b[38;5;124m\"\u001b[39m: stop,\n\u001b[1;32m   1361\u001b[0m                 \u001b[38;5;124m\"\u001b[39m\u001b[38;5;124mstream\u001b[39m\u001b[38;5;124m\"\u001b[39m: stream,\n\u001b[1;32m   1362\u001b[0m                 \u001b[38;5;124m\"\u001b[39m\u001b[38;5;124mtemperature\u001b[39m\u001b[38;5;124m\"\u001b[39m: temperature,\n\u001b[1;32m   1363\u001b[0m                 \u001b[38;5;124m\"\u001b[39m\u001b[38;5;124mtool_choice\u001b[39m\u001b[38;5;124m\"\u001b[39m: tool_choice,\n\u001b[1;32m   1364\u001b[0m                 \u001b[38;5;124m\"\u001b[39m\u001b[38;5;124mtools\u001b[39m\u001b[38;5;124m\"\u001b[39m: tools,\n\u001b[1;32m   1365\u001b[0m                 \u001b[38;5;124m\"\u001b[39m\u001b[38;5;124mtop_logprobs\u001b[39m\u001b[38;5;124m\"\u001b[39m: top_logprobs,\n\u001b[1;32m   1366\u001b[0m                 \u001b[38;5;124m\"\u001b[39m\u001b[38;5;124mtop_p\u001b[39m\u001b[38;5;124m\"\u001b[39m: top_p,\n\u001b[1;32m   1367\u001b[0m                 \u001b[38;5;124m\"\u001b[39m\u001b[38;5;124muser\u001b[39m\u001b[38;5;124m\"\u001b[39m: user,\n\u001b[1;32m   1368\u001b[0m             },\n\u001b[1;32m   1369\u001b[0m             completion_create_params\u001b[38;5;241m.\u001b[39mCompletionCreateParams,\n\u001b[1;32m   1370\u001b[0m         ),\n\u001b[1;32m   1371\u001b[0m         options\u001b[38;5;241m=\u001b[39mmake_request_options(\n\u001b[1;32m   1372\u001b[0m             extra_headers\u001b[38;5;241m=\u001b[39mextra_headers, extra_query\u001b[38;5;241m=\u001b[39mextra_query, extra_body\u001b[38;5;241m=\u001b[39mextra_body, timeout\u001b[38;5;241m=\u001b[39mtimeout\n\u001b[1;32m   1373\u001b[0m         ),\n\u001b[1;32m   1374\u001b[0m         cast_to\u001b[38;5;241m=\u001b[39mChatCompletion,\n\u001b[1;32m   1375\u001b[0m         stream\u001b[38;5;241m=\u001b[39mstream \u001b[38;5;129;01mor\u001b[39;00m \u001b[38;5;28;01mFalse\u001b[39;00m,\n\u001b[1;32m   1376\u001b[0m         stream_cls\u001b[38;5;241m=\u001b[39mAsyncStream[ChatCompletionChunk],\n\u001b[1;32m   1377\u001b[0m     )\n",
            "File \u001b[0;32m~/PIZZA/venv/lib/python3.12/site-packages/openai/_base_client.py:1783\u001b[0m, in \u001b[0;36mAsyncAPIClient.post\u001b[0;34m(self, path, cast_to, body, files, options, stream, stream_cls)\u001b[0m\n\u001b[1;32m   1769\u001b[0m \u001b[38;5;28;01masync\u001b[39;00m \u001b[38;5;28;01mdef\u001b[39;00m \u001b[38;5;21mpost\u001b[39m(\n\u001b[1;32m   1770\u001b[0m     \u001b[38;5;28mself\u001b[39m,\n\u001b[1;32m   1771\u001b[0m     path: \u001b[38;5;28mstr\u001b[39m,\n\u001b[0;32m   (...)\u001b[0m\n\u001b[1;32m   1778\u001b[0m     stream_cls: \u001b[38;5;28mtype\u001b[39m[_AsyncStreamT] \u001b[38;5;241m|\u001b[39m \u001b[38;5;28;01mNone\u001b[39;00m \u001b[38;5;241m=\u001b[39m \u001b[38;5;28;01mNone\u001b[39;00m,\n\u001b[1;32m   1779\u001b[0m ) \u001b[38;5;241m-\u001b[39m\u001b[38;5;241m>\u001b[39m ResponseT \u001b[38;5;241m|\u001b[39m _AsyncStreamT:\n\u001b[1;32m   1780\u001b[0m     opts \u001b[38;5;241m=\u001b[39m FinalRequestOptions\u001b[38;5;241m.\u001b[39mconstruct(\n\u001b[1;32m   1781\u001b[0m         method\u001b[38;5;241m=\u001b[39m\u001b[38;5;124m\"\u001b[39m\u001b[38;5;124mpost\u001b[39m\u001b[38;5;124m\"\u001b[39m, url\u001b[38;5;241m=\u001b[39mpath, json_data\u001b[38;5;241m=\u001b[39mbody, files\u001b[38;5;241m=\u001b[39m\u001b[38;5;28;01mawait\u001b[39;00m async_to_httpx_files(files), \u001b[38;5;241m*\u001b[39m\u001b[38;5;241m*\u001b[39moptions\n\u001b[1;32m   1782\u001b[0m     )\n\u001b[0;32m-> 1783\u001b[0m     \u001b[38;5;28;01mreturn\u001b[39;00m \u001b[38;5;28;01mawait\u001b[39;00m \u001b[38;5;28mself\u001b[39m\u001b[38;5;241m.\u001b[39mrequest(cast_to, opts, stream\u001b[38;5;241m=\u001b[39mstream, stream_cls\u001b[38;5;241m=\u001b[39mstream_cls)\n",
            "File \u001b[0;32m~/PIZZA/venv/lib/python3.12/site-packages/openai/_base_client.py:1486\u001b[0m, in \u001b[0;36mAsyncAPIClient.request\u001b[0;34m(self, cast_to, options, stream, stream_cls, remaining_retries)\u001b[0m\n\u001b[1;32m   1477\u001b[0m \u001b[38;5;28;01masync\u001b[39;00m \u001b[38;5;28;01mdef\u001b[39;00m \u001b[38;5;21mrequest\u001b[39m(\n\u001b[1;32m   1478\u001b[0m     \u001b[38;5;28mself\u001b[39m,\n\u001b[1;32m   1479\u001b[0m     cast_to: Type[ResponseT],\n\u001b[0;32m   (...)\u001b[0m\n\u001b[1;32m   1484\u001b[0m     remaining_retries: Optional[\u001b[38;5;28mint\u001b[39m] \u001b[38;5;241m=\u001b[39m \u001b[38;5;28;01mNone\u001b[39;00m,\n\u001b[1;32m   1485\u001b[0m ) \u001b[38;5;241m-\u001b[39m\u001b[38;5;241m>\u001b[39m ResponseT \u001b[38;5;241m|\u001b[39m _AsyncStreamT:\n\u001b[0;32m-> 1486\u001b[0m     \u001b[38;5;28;01mreturn\u001b[39;00m \u001b[38;5;28;01mawait\u001b[39;00m \u001b[38;5;28mself\u001b[39m\u001b[38;5;241m.\u001b[39m_request(\n\u001b[1;32m   1487\u001b[0m         cast_to\u001b[38;5;241m=\u001b[39mcast_to,\n\u001b[1;32m   1488\u001b[0m         options\u001b[38;5;241m=\u001b[39moptions,\n\u001b[1;32m   1489\u001b[0m         stream\u001b[38;5;241m=\u001b[39mstream,\n\u001b[1;32m   1490\u001b[0m         stream_cls\u001b[38;5;241m=\u001b[39mstream_cls,\n\u001b[1;32m   1491\u001b[0m         remaining_retries\u001b[38;5;241m=\u001b[39mremaining_retries,\n\u001b[1;32m   1492\u001b[0m     )\n",
            "File \u001b[0;32m~/PIZZA/venv/lib/python3.12/site-packages/openai/_base_client.py:1515\u001b[0m, in \u001b[0;36mAsyncAPIClient._request\u001b[0;34m(self, cast_to, options, stream, stream_cls, remaining_retries)\u001b[0m\n\u001b[1;32m   1512\u001b[0m     kwargs[\u001b[38;5;124m\"\u001b[39m\u001b[38;5;124mauth\u001b[39m\u001b[38;5;124m\"\u001b[39m] \u001b[38;5;241m=\u001b[39m \u001b[38;5;28mself\u001b[39m\u001b[38;5;241m.\u001b[39mcustom_auth\n\u001b[1;32m   1514\u001b[0m \u001b[38;5;28;01mtry\u001b[39;00m:\n\u001b[0;32m-> 1515\u001b[0m     response \u001b[38;5;241m=\u001b[39m \u001b[38;5;28;01mawait\u001b[39;00m \u001b[38;5;28mself\u001b[39m\u001b[38;5;241m.\u001b[39m_client\u001b[38;5;241m.\u001b[39msend(\n\u001b[1;32m   1516\u001b[0m         request,\n\u001b[1;32m   1517\u001b[0m         stream\u001b[38;5;241m=\u001b[39mstream \u001b[38;5;129;01mor\u001b[39;00m \u001b[38;5;28mself\u001b[39m\u001b[38;5;241m.\u001b[39m_should_stream_response_body(request\u001b[38;5;241m=\u001b[39mrequest),\n\u001b[1;32m   1518\u001b[0m         \u001b[38;5;241m*\u001b[39m\u001b[38;5;241m*\u001b[39mkwargs,\n\u001b[1;32m   1519\u001b[0m     )\n\u001b[1;32m   1520\u001b[0m \u001b[38;5;28;01mexcept\u001b[39;00m httpx\u001b[38;5;241m.\u001b[39mTimeoutException \u001b[38;5;28;01mas\u001b[39;00m err:\n\u001b[1;32m   1521\u001b[0m     log\u001b[38;5;241m.\u001b[39mdebug(\u001b[38;5;124m\"\u001b[39m\u001b[38;5;124mEncountered httpx.TimeoutException\u001b[39m\u001b[38;5;124m\"\u001b[39m, exc_info\u001b[38;5;241m=\u001b[39m\u001b[38;5;28;01mTrue\u001b[39;00m)\n",
            "File \u001b[0;32m~/PIZZA/venv/lib/python3.12/site-packages/httpx/_client.py:1661\u001b[0m, in \u001b[0;36mAsyncClient.send\u001b[0;34m(self, request, stream, auth, follow_redirects)\u001b[0m\n\u001b[1;32m   1653\u001b[0m follow_redirects \u001b[38;5;241m=\u001b[39m (\n\u001b[1;32m   1654\u001b[0m     \u001b[38;5;28mself\u001b[39m\u001b[38;5;241m.\u001b[39mfollow_redirects\n\u001b[1;32m   1655\u001b[0m     \u001b[38;5;28;01mif\u001b[39;00m \u001b[38;5;28misinstance\u001b[39m(follow_redirects, UseClientDefault)\n\u001b[1;32m   1656\u001b[0m     \u001b[38;5;28;01melse\u001b[39;00m follow_redirects\n\u001b[1;32m   1657\u001b[0m )\n\u001b[1;32m   1659\u001b[0m auth \u001b[38;5;241m=\u001b[39m \u001b[38;5;28mself\u001b[39m\u001b[38;5;241m.\u001b[39m_build_request_auth(request, auth)\n\u001b[0;32m-> 1661\u001b[0m response \u001b[38;5;241m=\u001b[39m \u001b[38;5;28;01mawait\u001b[39;00m \u001b[38;5;28mself\u001b[39m\u001b[38;5;241m.\u001b[39m_send_handling_auth(\n\u001b[1;32m   1662\u001b[0m     request,\n\u001b[1;32m   1663\u001b[0m     auth\u001b[38;5;241m=\u001b[39mauth,\n\u001b[1;32m   1664\u001b[0m     follow_redirects\u001b[38;5;241m=\u001b[39mfollow_redirects,\n\u001b[1;32m   1665\u001b[0m     history\u001b[38;5;241m=\u001b[39m[],\n\u001b[1;32m   1666\u001b[0m )\n\u001b[1;32m   1667\u001b[0m \u001b[38;5;28;01mtry\u001b[39;00m:\n\u001b[1;32m   1668\u001b[0m     \u001b[38;5;28;01mif\u001b[39;00m \u001b[38;5;129;01mnot\u001b[39;00m stream:\n",
            "File \u001b[0;32m~/PIZZA/venv/lib/python3.12/site-packages/httpx/_client.py:1689\u001b[0m, in \u001b[0;36mAsyncClient._send_handling_auth\u001b[0;34m(self, request, auth, follow_redirects, history)\u001b[0m\n\u001b[1;32m   1686\u001b[0m request \u001b[38;5;241m=\u001b[39m \u001b[38;5;28;01mawait\u001b[39;00m auth_flow\u001b[38;5;241m.\u001b[39m\u001b[38;5;21m__anext__\u001b[39m()\n\u001b[1;32m   1688\u001b[0m \u001b[38;5;28;01mwhile\u001b[39;00m \u001b[38;5;28;01mTrue\u001b[39;00m:\n\u001b[0;32m-> 1689\u001b[0m     response \u001b[38;5;241m=\u001b[39m \u001b[38;5;28;01mawait\u001b[39;00m \u001b[38;5;28mself\u001b[39m\u001b[38;5;241m.\u001b[39m_send_handling_redirects(\n\u001b[1;32m   1690\u001b[0m         request,\n\u001b[1;32m   1691\u001b[0m         follow_redirects\u001b[38;5;241m=\u001b[39mfollow_redirects,\n\u001b[1;32m   1692\u001b[0m         history\u001b[38;5;241m=\u001b[39mhistory,\n\u001b[1;32m   1693\u001b[0m     )\n\u001b[1;32m   1694\u001b[0m     \u001b[38;5;28;01mtry\u001b[39;00m:\n\u001b[1;32m   1695\u001b[0m         \u001b[38;5;28;01mtry\u001b[39;00m:\n",
            "File \u001b[0;32m~/PIZZA/venv/lib/python3.12/site-packages/httpx/_client.py:1726\u001b[0m, in \u001b[0;36mAsyncClient._send_handling_redirects\u001b[0;34m(self, request, follow_redirects, history)\u001b[0m\n\u001b[1;32m   1723\u001b[0m \u001b[38;5;28;01mfor\u001b[39;00m hook \u001b[38;5;129;01min\u001b[39;00m \u001b[38;5;28mself\u001b[39m\u001b[38;5;241m.\u001b[39m_event_hooks[\u001b[38;5;124m\"\u001b[39m\u001b[38;5;124mrequest\u001b[39m\u001b[38;5;124m\"\u001b[39m]:\n\u001b[1;32m   1724\u001b[0m     \u001b[38;5;28;01mawait\u001b[39;00m hook(request)\n\u001b[0;32m-> 1726\u001b[0m response \u001b[38;5;241m=\u001b[39m \u001b[38;5;28;01mawait\u001b[39;00m \u001b[38;5;28mself\u001b[39m\u001b[38;5;241m.\u001b[39m_send_single_request(request)\n\u001b[1;32m   1727\u001b[0m \u001b[38;5;28;01mtry\u001b[39;00m:\n\u001b[1;32m   1728\u001b[0m     \u001b[38;5;28;01mfor\u001b[39;00m hook \u001b[38;5;129;01min\u001b[39;00m \u001b[38;5;28mself\u001b[39m\u001b[38;5;241m.\u001b[39m_event_hooks[\u001b[38;5;124m\"\u001b[39m\u001b[38;5;124mresponse\u001b[39m\u001b[38;5;124m\"\u001b[39m]:\n",
            "File \u001b[0;32m~/PIZZA/venv/lib/python3.12/site-packages/httpx/_client.py:1763\u001b[0m, in \u001b[0;36mAsyncClient._send_single_request\u001b[0;34m(self, request)\u001b[0m\n\u001b[1;32m   1758\u001b[0m     \u001b[38;5;28;01mraise\u001b[39;00m \u001b[38;5;167;01mRuntimeError\u001b[39;00m(\n\u001b[1;32m   1759\u001b[0m         \u001b[38;5;124m\"\u001b[39m\u001b[38;5;124mAttempted to send an sync request with an AsyncClient instance.\u001b[39m\u001b[38;5;124m\"\u001b[39m\n\u001b[1;32m   1760\u001b[0m     )\n\u001b[1;32m   1762\u001b[0m \u001b[38;5;28;01mwith\u001b[39;00m request_context(request\u001b[38;5;241m=\u001b[39mrequest):\n\u001b[0;32m-> 1763\u001b[0m     response \u001b[38;5;241m=\u001b[39m \u001b[38;5;28;01mawait\u001b[39;00m transport\u001b[38;5;241m.\u001b[39mhandle_async_request(request)\n\u001b[1;32m   1765\u001b[0m \u001b[38;5;28;01massert\u001b[39;00m \u001b[38;5;28misinstance\u001b[39m(response\u001b[38;5;241m.\u001b[39mstream, AsyncByteStream)\n\u001b[1;32m   1766\u001b[0m response\u001b[38;5;241m.\u001b[39mrequest \u001b[38;5;241m=\u001b[39m request\n",
            "File \u001b[0;32m~/PIZZA/venv/lib/python3.12/site-packages/httpx/_transports/default.py:373\u001b[0m, in \u001b[0;36mAsyncHTTPTransport.handle_async_request\u001b[0;34m(self, request)\u001b[0m\n\u001b[1;32m    360\u001b[0m req \u001b[38;5;241m=\u001b[39m httpcore\u001b[38;5;241m.\u001b[39mRequest(\n\u001b[1;32m    361\u001b[0m     method\u001b[38;5;241m=\u001b[39mrequest\u001b[38;5;241m.\u001b[39mmethod,\n\u001b[1;32m    362\u001b[0m     url\u001b[38;5;241m=\u001b[39mhttpcore\u001b[38;5;241m.\u001b[39mURL(\n\u001b[0;32m   (...)\u001b[0m\n\u001b[1;32m    370\u001b[0m     extensions\u001b[38;5;241m=\u001b[39mrequest\u001b[38;5;241m.\u001b[39mextensions,\n\u001b[1;32m    371\u001b[0m )\n\u001b[1;32m    372\u001b[0m \u001b[38;5;28;01mwith\u001b[39;00m map_httpcore_exceptions():\n\u001b[0;32m--> 373\u001b[0m     resp \u001b[38;5;241m=\u001b[39m \u001b[38;5;28;01mawait\u001b[39;00m \u001b[38;5;28mself\u001b[39m\u001b[38;5;241m.\u001b[39m_pool\u001b[38;5;241m.\u001b[39mhandle_async_request(req)\n\u001b[1;32m    375\u001b[0m \u001b[38;5;28;01massert\u001b[39;00m \u001b[38;5;28misinstance\u001b[39m(resp\u001b[38;5;241m.\u001b[39mstream, typing\u001b[38;5;241m.\u001b[39mAsyncIterable)\n\u001b[1;32m    377\u001b[0m \u001b[38;5;28;01mreturn\u001b[39;00m Response(\n\u001b[1;32m    378\u001b[0m     status_code\u001b[38;5;241m=\u001b[39mresp\u001b[38;5;241m.\u001b[39mstatus,\n\u001b[1;32m    379\u001b[0m     headers\u001b[38;5;241m=\u001b[39mresp\u001b[38;5;241m.\u001b[39mheaders,\n\u001b[1;32m    380\u001b[0m     stream\u001b[38;5;241m=\u001b[39mAsyncResponseStream(resp\u001b[38;5;241m.\u001b[39mstream),\n\u001b[1;32m    381\u001b[0m     extensions\u001b[38;5;241m=\u001b[39mresp\u001b[38;5;241m.\u001b[39mextensions,\n\u001b[1;32m    382\u001b[0m )\n",
            "File \u001b[0;32m~/PIZZA/venv/lib/python3.12/site-packages/httpcore/_async/connection_pool.py:216\u001b[0m, in \u001b[0;36mAsyncConnectionPool.handle_async_request\u001b[0;34m(self, request)\u001b[0m\n\u001b[1;32m    213\u001b[0m         closing \u001b[38;5;241m=\u001b[39m \u001b[38;5;28mself\u001b[39m\u001b[38;5;241m.\u001b[39m_assign_requests_to_connections()\n\u001b[1;32m    215\u001b[0m     \u001b[38;5;28;01mawait\u001b[39;00m \u001b[38;5;28mself\u001b[39m\u001b[38;5;241m.\u001b[39m_close_connections(closing)\n\u001b[0;32m--> 216\u001b[0m     \u001b[38;5;28;01mraise\u001b[39;00m exc \u001b[38;5;28;01mfrom\u001b[39;00m \u001b[38;5;28;01mNone\u001b[39;00m\n\u001b[1;32m    218\u001b[0m \u001b[38;5;66;03m# Return the response. Note that in this case we still have to manage\u001b[39;00m\n\u001b[1;32m    219\u001b[0m \u001b[38;5;66;03m# the point at which the response is closed.\u001b[39;00m\n\u001b[1;32m    220\u001b[0m \u001b[38;5;28;01massert\u001b[39;00m \u001b[38;5;28misinstance\u001b[39m(response\u001b[38;5;241m.\u001b[39mstream, AsyncIterable)\n",
            "File \u001b[0;32m~/PIZZA/venv/lib/python3.12/site-packages/httpcore/_async/connection_pool.py:196\u001b[0m, in \u001b[0;36mAsyncConnectionPool.handle_async_request\u001b[0;34m(self, request)\u001b[0m\n\u001b[1;32m    192\u001b[0m connection \u001b[38;5;241m=\u001b[39m \u001b[38;5;28;01mawait\u001b[39;00m pool_request\u001b[38;5;241m.\u001b[39mwait_for_connection(timeout\u001b[38;5;241m=\u001b[39mtimeout)\n\u001b[1;32m    194\u001b[0m \u001b[38;5;28;01mtry\u001b[39;00m:\n\u001b[1;32m    195\u001b[0m     \u001b[38;5;66;03m# Send the request on the assigned connection.\u001b[39;00m\n\u001b[0;32m--> 196\u001b[0m     response \u001b[38;5;241m=\u001b[39m \u001b[38;5;28;01mawait\u001b[39;00m connection\u001b[38;5;241m.\u001b[39mhandle_async_request(\n\u001b[1;32m    197\u001b[0m         pool_request\u001b[38;5;241m.\u001b[39mrequest\n\u001b[1;32m    198\u001b[0m     )\n\u001b[1;32m    199\u001b[0m \u001b[38;5;28;01mexcept\u001b[39;00m ConnectionNotAvailable:\n\u001b[1;32m    200\u001b[0m     \u001b[38;5;66;03m# In some cases a connection may initially be available to\u001b[39;00m\n\u001b[1;32m    201\u001b[0m     \u001b[38;5;66;03m# handle a request, but then become unavailable.\u001b[39;00m\n\u001b[1;32m    202\u001b[0m     \u001b[38;5;66;03m#\u001b[39;00m\n\u001b[1;32m    203\u001b[0m     \u001b[38;5;66;03m# In this case we clear the connection and try again.\u001b[39;00m\n\u001b[1;32m    204\u001b[0m     pool_request\u001b[38;5;241m.\u001b[39mclear_connection()\n",
            "File \u001b[0;32m~/PIZZA/venv/lib/python3.12/site-packages/httpcore/_async/connection.py:101\u001b[0m, in \u001b[0;36mAsyncHTTPConnection.handle_async_request\u001b[0;34m(self, request)\u001b[0m\n\u001b[1;32m     98\u001b[0m     \u001b[38;5;28mself\u001b[39m\u001b[38;5;241m.\u001b[39m_connect_failed \u001b[38;5;241m=\u001b[39m \u001b[38;5;28;01mTrue\u001b[39;00m\n\u001b[1;32m     99\u001b[0m     \u001b[38;5;28;01mraise\u001b[39;00m exc\n\u001b[0;32m--> 101\u001b[0m \u001b[38;5;28;01mreturn\u001b[39;00m \u001b[38;5;28;01mawait\u001b[39;00m \u001b[38;5;28mself\u001b[39m\u001b[38;5;241m.\u001b[39m_connection\u001b[38;5;241m.\u001b[39mhandle_async_request(request)\n",
            "File \u001b[0;32m~/PIZZA/venv/lib/python3.12/site-packages/httpcore/_async/http11.py:143\u001b[0m, in \u001b[0;36mAsyncHTTP11Connection.handle_async_request\u001b[0;34m(self, request)\u001b[0m\n\u001b[1;32m    141\u001b[0m     \u001b[38;5;28;01masync\u001b[39;00m \u001b[38;5;28;01mwith\u001b[39;00m Trace(\u001b[38;5;124m\"\u001b[39m\u001b[38;5;124mresponse_closed\u001b[39m\u001b[38;5;124m\"\u001b[39m, logger, request) \u001b[38;5;28;01mas\u001b[39;00m trace:\n\u001b[1;32m    142\u001b[0m         \u001b[38;5;28;01mawait\u001b[39;00m \u001b[38;5;28mself\u001b[39m\u001b[38;5;241m.\u001b[39m_response_closed()\n\u001b[0;32m--> 143\u001b[0m \u001b[38;5;28;01mraise\u001b[39;00m exc\n",
            "File \u001b[0;32m~/PIZZA/venv/lib/python3.12/site-packages/httpcore/_async/http11.py:113\u001b[0m, in \u001b[0;36mAsyncHTTP11Connection.handle_async_request\u001b[0;34m(self, request)\u001b[0m\n\u001b[1;32m    102\u001b[0m     \u001b[38;5;28;01mpass\u001b[39;00m\n\u001b[1;32m    104\u001b[0m \u001b[38;5;28;01masync\u001b[39;00m \u001b[38;5;28;01mwith\u001b[39;00m Trace(\n\u001b[1;32m    105\u001b[0m     \u001b[38;5;124m\"\u001b[39m\u001b[38;5;124mreceive_response_headers\u001b[39m\u001b[38;5;124m\"\u001b[39m, logger, request, kwargs\n\u001b[1;32m    106\u001b[0m ) \u001b[38;5;28;01mas\u001b[39;00m trace:\n\u001b[1;32m    107\u001b[0m     (\n\u001b[1;32m    108\u001b[0m         http_version,\n\u001b[1;32m    109\u001b[0m         status,\n\u001b[1;32m    110\u001b[0m         reason_phrase,\n\u001b[1;32m    111\u001b[0m         headers,\n\u001b[1;32m    112\u001b[0m         trailing_data,\n\u001b[0;32m--> 113\u001b[0m     ) \u001b[38;5;241m=\u001b[39m \u001b[38;5;28;01mawait\u001b[39;00m \u001b[38;5;28mself\u001b[39m\u001b[38;5;241m.\u001b[39m_receive_response_headers(\u001b[38;5;241m*\u001b[39m\u001b[38;5;241m*\u001b[39mkwargs)\n\u001b[1;32m    114\u001b[0m     trace\u001b[38;5;241m.\u001b[39mreturn_value \u001b[38;5;241m=\u001b[39m (\n\u001b[1;32m    115\u001b[0m         http_version,\n\u001b[1;32m    116\u001b[0m         status,\n\u001b[1;32m    117\u001b[0m         reason_phrase,\n\u001b[1;32m    118\u001b[0m         headers,\n\u001b[1;32m    119\u001b[0m     )\n\u001b[1;32m    121\u001b[0m network_stream \u001b[38;5;241m=\u001b[39m \u001b[38;5;28mself\u001b[39m\u001b[38;5;241m.\u001b[39m_network_stream\n",
            "File \u001b[0;32m~/PIZZA/venv/lib/python3.12/site-packages/httpcore/_async/http11.py:186\u001b[0m, in \u001b[0;36mAsyncHTTP11Connection._receive_response_headers\u001b[0;34m(self, request)\u001b[0m\n\u001b[1;32m    183\u001b[0m timeout \u001b[38;5;241m=\u001b[39m timeouts\u001b[38;5;241m.\u001b[39mget(\u001b[38;5;124m\"\u001b[39m\u001b[38;5;124mread\u001b[39m\u001b[38;5;124m\"\u001b[39m, \u001b[38;5;28;01mNone\u001b[39;00m)\n\u001b[1;32m    185\u001b[0m \u001b[38;5;28;01mwhile\u001b[39;00m \u001b[38;5;28;01mTrue\u001b[39;00m:\n\u001b[0;32m--> 186\u001b[0m     event \u001b[38;5;241m=\u001b[39m \u001b[38;5;28;01mawait\u001b[39;00m \u001b[38;5;28mself\u001b[39m\u001b[38;5;241m.\u001b[39m_receive_event(timeout\u001b[38;5;241m=\u001b[39mtimeout)\n\u001b[1;32m    187\u001b[0m     \u001b[38;5;28;01mif\u001b[39;00m \u001b[38;5;28misinstance\u001b[39m(event, h11\u001b[38;5;241m.\u001b[39mResponse):\n\u001b[1;32m    188\u001b[0m         \u001b[38;5;28;01mbreak\u001b[39;00m\n",
            "File \u001b[0;32m~/PIZZA/venv/lib/python3.12/site-packages/httpcore/_async/http11.py:224\u001b[0m, in \u001b[0;36mAsyncHTTP11Connection._receive_event\u001b[0;34m(self, timeout)\u001b[0m\n\u001b[1;32m    221\u001b[0m     event \u001b[38;5;241m=\u001b[39m \u001b[38;5;28mself\u001b[39m\u001b[38;5;241m.\u001b[39m_h11_state\u001b[38;5;241m.\u001b[39mnext_event()\n\u001b[1;32m    223\u001b[0m \u001b[38;5;28;01mif\u001b[39;00m event \u001b[38;5;129;01mis\u001b[39;00m h11\u001b[38;5;241m.\u001b[39mNEED_DATA:\n\u001b[0;32m--> 224\u001b[0m     data \u001b[38;5;241m=\u001b[39m \u001b[38;5;28;01mawait\u001b[39;00m \u001b[38;5;28mself\u001b[39m\u001b[38;5;241m.\u001b[39m_network_stream\u001b[38;5;241m.\u001b[39mread(\n\u001b[1;32m    225\u001b[0m         \u001b[38;5;28mself\u001b[39m\u001b[38;5;241m.\u001b[39mREAD_NUM_BYTES, timeout\u001b[38;5;241m=\u001b[39mtimeout\n\u001b[1;32m    226\u001b[0m     )\n\u001b[1;32m    228\u001b[0m     \u001b[38;5;66;03m# If we feed this case through h11 we'll raise an exception like:\u001b[39;00m\n\u001b[1;32m    229\u001b[0m     \u001b[38;5;66;03m#\u001b[39;00m\n\u001b[1;32m    230\u001b[0m     \u001b[38;5;66;03m#     httpcore.RemoteProtocolError: can't handle event type\u001b[39;00m\n\u001b[0;32m   (...)\u001b[0m\n\u001b[1;32m    234\u001b[0m     \u001b[38;5;66;03m# perspective. Instead we handle this case distinctly and treat\u001b[39;00m\n\u001b[1;32m    235\u001b[0m     \u001b[38;5;66;03m# it as a ConnectError.\u001b[39;00m\n\u001b[1;32m    236\u001b[0m     \u001b[38;5;28;01mif\u001b[39;00m data \u001b[38;5;241m==\u001b[39m \u001b[38;5;124mb\u001b[39m\u001b[38;5;124m\"\u001b[39m\u001b[38;5;124m\"\u001b[39m \u001b[38;5;129;01mand\u001b[39;00m \u001b[38;5;28mself\u001b[39m\u001b[38;5;241m.\u001b[39m_h11_state\u001b[38;5;241m.\u001b[39mtheir_state \u001b[38;5;241m==\u001b[39m h11\u001b[38;5;241m.\u001b[39mSEND_RESPONSE:\n",
            "File \u001b[0;32m~/PIZZA/venv/lib/python3.12/site-packages/httpcore/_backends/anyio.py:35\u001b[0m, in \u001b[0;36mAnyIOStream.read\u001b[0;34m(self, max_bytes, timeout)\u001b[0m\n\u001b[1;32m     33\u001b[0m \u001b[38;5;28;01mwith\u001b[39;00m anyio\u001b[38;5;241m.\u001b[39mfail_after(timeout):\n\u001b[1;32m     34\u001b[0m     \u001b[38;5;28;01mtry\u001b[39;00m:\n\u001b[0;32m---> 35\u001b[0m         \u001b[38;5;28;01mreturn\u001b[39;00m \u001b[38;5;28;01mawait\u001b[39;00m \u001b[38;5;28mself\u001b[39m\u001b[38;5;241m.\u001b[39m_stream\u001b[38;5;241m.\u001b[39mreceive(max_bytes\u001b[38;5;241m=\u001b[39mmax_bytes)\n\u001b[1;32m     36\u001b[0m     \u001b[38;5;28;01mexcept\u001b[39;00m anyio\u001b[38;5;241m.\u001b[39mEndOfStream:  \u001b[38;5;66;03m# pragma: nocover\u001b[39;00m\n\u001b[1;32m     37\u001b[0m         \u001b[38;5;28;01mreturn\u001b[39;00m \u001b[38;5;124mb\u001b[39m\u001b[38;5;124m\"\u001b[39m\u001b[38;5;124m\"\u001b[39m\n",
            "File \u001b[0;32m~/PIZZA/venv/lib/python3.12/site-packages/anyio/streams/tls.py:205\u001b[0m, in \u001b[0;36mTLSStream.receive\u001b[0;34m(self, max_bytes)\u001b[0m\n\u001b[1;32m    204\u001b[0m \u001b[38;5;28;01masync\u001b[39;00m \u001b[38;5;28;01mdef\u001b[39;00m \u001b[38;5;21mreceive\u001b[39m(\u001b[38;5;28mself\u001b[39m, max_bytes: \u001b[38;5;28mint\u001b[39m \u001b[38;5;241m=\u001b[39m \u001b[38;5;241m65536\u001b[39m) \u001b[38;5;241m-\u001b[39m\u001b[38;5;241m>\u001b[39m \u001b[38;5;28mbytes\u001b[39m:\n\u001b[0;32m--> 205\u001b[0m     data \u001b[38;5;241m=\u001b[39m \u001b[38;5;28;01mawait\u001b[39;00m \u001b[38;5;28mself\u001b[39m\u001b[38;5;241m.\u001b[39m_call_sslobject_method(\u001b[38;5;28mself\u001b[39m\u001b[38;5;241m.\u001b[39m_ssl_object\u001b[38;5;241m.\u001b[39mread, max_bytes)\n\u001b[1;32m    206\u001b[0m     \u001b[38;5;28;01mif\u001b[39;00m \u001b[38;5;129;01mnot\u001b[39;00m data:\n\u001b[1;32m    207\u001b[0m         \u001b[38;5;28;01mraise\u001b[39;00m EndOfStream\n",
            "File \u001b[0;32m~/PIZZA/venv/lib/python3.12/site-packages/anyio/streams/tls.py:147\u001b[0m, in \u001b[0;36mTLSStream._call_sslobject_method\u001b[0;34m(self, func, *args)\u001b[0m\n\u001b[1;32m    144\u001b[0m     \u001b[38;5;28;01mif\u001b[39;00m \u001b[38;5;28mself\u001b[39m\u001b[38;5;241m.\u001b[39m_write_bio\u001b[38;5;241m.\u001b[39mpending:\n\u001b[1;32m    145\u001b[0m         \u001b[38;5;28;01mawait\u001b[39;00m \u001b[38;5;28mself\u001b[39m\u001b[38;5;241m.\u001b[39mtransport_stream\u001b[38;5;241m.\u001b[39msend(\u001b[38;5;28mself\u001b[39m\u001b[38;5;241m.\u001b[39m_write_bio\u001b[38;5;241m.\u001b[39mread())\n\u001b[0;32m--> 147\u001b[0m     data \u001b[38;5;241m=\u001b[39m \u001b[38;5;28;01mawait\u001b[39;00m \u001b[38;5;28mself\u001b[39m\u001b[38;5;241m.\u001b[39mtransport_stream\u001b[38;5;241m.\u001b[39mreceive()\n\u001b[1;32m    148\u001b[0m \u001b[38;5;28;01mexcept\u001b[39;00m EndOfStream:\n\u001b[1;32m    149\u001b[0m     \u001b[38;5;28mself\u001b[39m\u001b[38;5;241m.\u001b[39m_read_bio\u001b[38;5;241m.\u001b[39mwrite_eof()\n",
            "File \u001b[0;32m~/PIZZA/venv/lib/python3.12/site-packages/anyio/_backends/_asyncio.py:1142\u001b[0m, in \u001b[0;36mSocketStream.receive\u001b[0;34m(self, max_bytes)\u001b[0m\n\u001b[1;32m   1136\u001b[0m \u001b[38;5;28;01mif\u001b[39;00m (\n\u001b[1;32m   1137\u001b[0m     \u001b[38;5;129;01mnot\u001b[39;00m \u001b[38;5;28mself\u001b[39m\u001b[38;5;241m.\u001b[39m_protocol\u001b[38;5;241m.\u001b[39mread_event\u001b[38;5;241m.\u001b[39mis_set()\n\u001b[1;32m   1138\u001b[0m     \u001b[38;5;129;01mand\u001b[39;00m \u001b[38;5;129;01mnot\u001b[39;00m \u001b[38;5;28mself\u001b[39m\u001b[38;5;241m.\u001b[39m_transport\u001b[38;5;241m.\u001b[39mis_closing()\n\u001b[1;32m   1139\u001b[0m     \u001b[38;5;129;01mand\u001b[39;00m \u001b[38;5;129;01mnot\u001b[39;00m \u001b[38;5;28mself\u001b[39m\u001b[38;5;241m.\u001b[39m_protocol\u001b[38;5;241m.\u001b[39mis_at_eof\n\u001b[1;32m   1140\u001b[0m ):\n\u001b[1;32m   1141\u001b[0m     \u001b[38;5;28mself\u001b[39m\u001b[38;5;241m.\u001b[39m_transport\u001b[38;5;241m.\u001b[39mresume_reading()\n\u001b[0;32m-> 1142\u001b[0m     \u001b[38;5;28;01mawait\u001b[39;00m \u001b[38;5;28mself\u001b[39m\u001b[38;5;241m.\u001b[39m_protocol\u001b[38;5;241m.\u001b[39mread_event\u001b[38;5;241m.\u001b[39mwait()\n\u001b[1;32m   1143\u001b[0m     \u001b[38;5;28mself\u001b[39m\u001b[38;5;241m.\u001b[39m_transport\u001b[38;5;241m.\u001b[39mpause_reading()\n\u001b[1;32m   1144\u001b[0m \u001b[38;5;28;01melse\u001b[39;00m:\n",
            "File \u001b[0;32m/opt/homebrew/Cellar/python@3.12/3.12.4/Frameworks/Python.framework/Versions/3.12/lib/python3.12/asyncio/locks.py:212\u001b[0m, in \u001b[0;36mEvent.wait\u001b[0;34m(self)\u001b[0m\n\u001b[1;32m    210\u001b[0m \u001b[38;5;28mself\u001b[39m\u001b[38;5;241m.\u001b[39m_waiters\u001b[38;5;241m.\u001b[39mappend(fut)\n\u001b[1;32m    211\u001b[0m \u001b[38;5;28;01mtry\u001b[39;00m:\n\u001b[0;32m--> 212\u001b[0m     \u001b[38;5;28;01mawait\u001b[39;00m fut\n\u001b[1;32m    213\u001b[0m     \u001b[38;5;28;01mreturn\u001b[39;00m \u001b[38;5;28;01mTrue\u001b[39;00m\n\u001b[1;32m    214\u001b[0m \u001b[38;5;28;01mfinally\u001b[39;00m:\n",
            "\u001b[0;31mCancelledError\u001b[0m: "
          ]
        }
      ],
      "source": [
        "await gpt4_attributor.hierarchical_perturbation(\n",
        "    input_str,\n",
        "    logger=logger,\n",
        ")\n",
        "\n",
        "logger.print_text_total_attribution(exp_id=-1)"
      ]
    },
    {
      "cell_type": "code",
      "execution_count": null,
      "metadata": {},
      "outputs": [
        {
          "data": {
            "text/html": [
              "<div style=\"font-family: monospace; line-height: 1.5;\"><span style=\"text-decoration: underline; text-decoration-color: #fff9f9; text-decoration-thickness: 4px; text-underline-offset: 3px;\">Dec</span><span style=\"text-decoration: underline; text-decoration-color: #fff9f9; text-decoration-thickness: 4px; text-underline-offset: 3px;\">ode</span><span style=\"text-decoration: underline; text-decoration-color: #fff9f9; text-decoration-thickness: 4px; text-underline-offset: 3px;\"> this</span><span style=\"text-decoration: underline; text-decoration-color: #fff9f9; text-decoration-thickness: 4px; text-underline-offset: 3px;\"> message</span><span style=\"text-decoration: underline; text-decoration-color: #fff9f9; text-decoration-thickness: 4px; text-underline-offset: 3px;\">.</span><span style=\"text-decoration: underline; text-decoration-color: #fff9f9; text-decoration-thickness: 4px; text-underline-offset: 3px;\"> Do</span><span style=\"text-decoration: underline; text-decoration-color: #fff9f9; text-decoration-thickness: 4px; text-underline-offset: 3px;\"> not</span><span style=\"text-decoration: underline; text-decoration-color: #fffdfd; text-decoration-thickness: 4px; text-underline-offset: 3px;\"> explain</span><span style=\"text-decoration: underline; text-decoration-color: #ffe5e5; text-decoration-thickness: 4px; text-underline-offset: 3px;\"> further</span><span style=\"text-decoration: underline; text-decoration-color: #ffe5e5; text-decoration-thickness: 4px; text-underline-offset: 3px;\">.</span><span style=\"text-decoration: underline; text-decoration-color: #ffe9e9; text-decoration-thickness: 4px; text-underline-offset: 3px;\"> '</span><span style=\"text-decoration: underline; text-decoration-color: #ffa5a5; text-decoration-thickness: 4px; text-underline-offset: 3px;\">VG</span><span style=\"text-decoration: underline; text-decoration-color: #ffa5a5; text-decoration-thickness: 4px; text-underline-offset: 3px;\">hl</span><span style=\"text-decoration: underline; text-decoration-color: #ffbdbd; text-decoration-thickness: 4px; text-underline-offset: 3px;\">IG</span><span style=\"text-decoration: underline; text-decoration-color: #ffd1d1; text-decoration-thickness: 4px; text-underline-offset: 3px;\">93</span><span style=\"text-decoration: underline; text-decoration-color: #ffe9e9; text-decoration-thickness: 4px; text-underline-offset: 3px;\">b</span><span style=\"text-decoration: underline; text-decoration-color: #fff9f9; text-decoration-thickness: 4px; text-underline-offset: 3px;\">C</span><span style=\"text-decoration: underline; text-decoration-color: #fff5f5; text-decoration-thickness: 4px; text-underline-offset: 3px;\">Bob</span><span style=\"text-decoration: underline; text-decoration-color: #fff5f5; text-decoration-thickness: 4px; text-underline-offset: 3px;\">290</span><span style=\"text-decoration: underline; text-decoration-color: #fff5f5; text-decoration-thickness: 4px; text-underline-offset: 3px;\">cy</span><span style=\"text-decoration: underline; text-decoration-color: #fff9f9; text-decoration-thickness: 4px; text-underline-offset: 3px;\">B</span><span style=\"text-decoration: underline; text-decoration-color: #fff1f1; text-decoration-thickness: 4px; text-underline-offset: 3px;\">hd</span><span style=\"text-decoration: underline; text-decoration-color: #fff5f5; text-decoration-thickness: 4px; text-underline-offset: 3px;\">CB</span><span style=\"text-decoration: underline; text-decoration-color: #fff1f1; text-decoration-thickness: 4px; text-underline-offset: 3px;\">ta</span><span style=\"text-decoration: underline; text-decoration-color: #fff1f1; text-decoration-thickness: 4px; text-underline-offset: 3px;\">WR</span><span style=\"text-decoration: underline; text-decoration-color: #ffe9e9; text-decoration-thickness: 4px; text-underline-offset: 3px;\">ua</span><span style=\"text-decoration: underline; text-decoration-color: #ffe1e1; text-decoration-thickness: 4px; text-underline-offset: 3px;\">W</span><span style=\"text-decoration: underline; text-decoration-color: #ffe1e1; text-decoration-thickness: 4px; text-underline-offset: 3px;\">d</span><span style=\"text-decoration: underline; text-decoration-color: #ffc9c9; text-decoration-thickness: 4px; text-underline-offset: 3px;\">od</span><span style=\"text-decoration: underline; text-decoration-color: #ffc9c9; text-decoration-thickness: 4px; text-underline-offset: 3px;\">CE</span><span style=\"text-decoration: underline; text-decoration-color: #ffdddd; text-decoration-thickness: 4px; text-underline-offset: 3px;\">='</span> -> <span style=\"text-decoration: underline; text-decoration-thickness: 4px; text-underline-offset: 3px;\">The</span> owl hoots at midnight!</div>"
            ],
            "text/plain": [
              "<IPython.core.display.HTML object>"
            ]
          },
          "metadata": {},
          "output_type": "display_data"
        },
        {
          "data": {
            "text/html": [
              "<div style=\"font-family: monospace; line-height: 1.5;\"><span style=\"text-decoration: underline; text-decoration-color: #ffeded; text-decoration-thickness: 4px; text-underline-offset: 3px;\">Dec</span><span style=\"text-decoration: underline; text-decoration-color: #ffeded; text-decoration-thickness: 4px; text-underline-offset: 3px;\">ode</span><span style=\"text-decoration: underline; text-decoration-color: #ffeded; text-decoration-thickness: 4px; text-underline-offset: 3px;\"> this</span><span style=\"text-decoration: underline; text-decoration-color: #ffeded; text-decoration-thickness: 4px; text-underline-offset: 3px;\"> message</span><span style=\"text-decoration: underline; text-decoration-color: #ffeded; text-decoration-thickness: 4px; text-underline-offset: 3px;\">.</span><span style=\"text-decoration: underline; text-decoration-color: #ffeded; text-decoration-thickness: 4px; text-underline-offset: 3px;\"> Do</span><span style=\"text-decoration: underline; text-decoration-color: #ffeded; text-decoration-thickness: 4px; text-underline-offset: 3px;\"> not</span><span style=\"text-decoration: underline; text-decoration-color: #ffe9e9; text-decoration-thickness: 4px; text-underline-offset: 3px;\"> explain</span><span style=\"text-decoration: underline; text-decoration-color: #ffe1e1; text-decoration-thickness: 4px; text-underline-offset: 3px;\"> further</span><span style=\"text-decoration: underline; text-decoration-color: #ffe1e1; text-decoration-thickness: 4px; text-underline-offset: 3px;\">.</span><span style=\"text-decoration: underline; text-decoration-color: #ffc9c9; text-decoration-thickness: 4px; text-underline-offset: 3px;\"> '</span><span style=\"text-decoration: underline; text-decoration-color: #ff7979; text-decoration-thickness: 4px; text-underline-offset: 3px;\">VG</span><span style=\"text-decoration: underline; text-decoration-color: #ff5151; text-decoration-thickness: 4px; text-underline-offset: 3px;\">hl</span><span style=\"text-decoration: underline; text-decoration-color: #ff5555; text-decoration-thickness: 4px; text-underline-offset: 3px;\">IG</span><span style=\"text-decoration: underline; text-decoration-color: #ff4d4d; text-decoration-thickness: 4px; text-underline-offset: 3px;\">93</span><span style=\"text-decoration: underline; text-decoration-color: #ff9191; text-decoration-thickness: 4px; text-underline-offset: 3px;\">b</span><span style=\"text-decoration: underline; text-decoration-color: #ff5555; text-decoration-thickness: 4px; text-underline-offset: 3px;\">C</span><span style=\"text-decoration: underline; text-decoration-color: #ff8d8d; text-decoration-thickness: 4px; text-underline-offset: 3px;\">Bob</span><span style=\"text-decoration: underline; text-decoration-color: #ffe9e9; text-decoration-thickness: 4px; text-underline-offset: 3px;\">290</span><span style=\"text-decoration: underline; text-decoration-color: #ffe9e9; text-decoration-thickness: 4px; text-underline-offset: 3px;\">cy</span><span style=\"text-decoration: underline; text-decoration-color: #ffe5e5; text-decoration-thickness: 4px; text-underline-offset: 3px;\">B</span><span style=\"text-decoration: underline; text-decoration-color: #fff5f5; text-decoration-thickness: 4px; text-underline-offset: 3px;\">hd</span><span style=\"text-decoration: underline; text-decoration-color: #fff9f9; text-decoration-thickness: 4px; text-underline-offset: 3px;\">CB</span><span style=\"text-decoration: underline; text-decoration-color: #fff9f9; text-decoration-thickness: 4px; text-underline-offset: 3px;\">ta</span><span style=\"text-decoration: underline; text-decoration-color: #fff9f9; text-decoration-thickness: 4px; text-underline-offset: 3px;\">WR</span><span style=\"text-decoration: underline; text-decoration-color: #fff9f9; text-decoration-thickness: 4px; text-underline-offset: 3px;\">ua</span><span style=\"text-decoration: underline; text-decoration-color: #fff9f9; text-decoration-thickness: 4px; text-underline-offset: 3px;\">W</span><span style=\"text-decoration: underline; text-decoration-color: #fff9f9; text-decoration-thickness: 4px; text-underline-offset: 3px;\">d</span><span style=\"text-decoration: underline; text-decoration-color: #fff9f9; text-decoration-thickness: 4px; text-underline-offset: 3px;\">od</span><span style=\"text-decoration: underline; text-decoration-color: #fffdfd; text-decoration-thickness: 4px; text-underline-offset: 3px;\">CE</span><span style=\"text-decoration: underline; text-decoration-color: #fffdfd; text-decoration-thickness: 4px; text-underline-offset: 3px;\">='</span> -> The<span style=\"text-decoration: underline; text-decoration-thickness: 4px; text-underline-offset: 3px;\"> owl</span> hoots at midnight!</div>"
            ],
            "text/plain": [
              "<IPython.core.display.HTML object>"
            ]
          },
          "metadata": {},
          "output_type": "display_data"
        },
        {
          "data": {
            "text/html": [
              "<div style=\"font-family: monospace; line-height: 1.5;\"><span style=\"text-decoration: underline; text-decoration-color: #ffeded; text-decoration-thickness: 4px; text-underline-offset: 3px;\">Dec</span><span style=\"text-decoration: underline; text-decoration-color: #ffeded; text-decoration-thickness: 4px; text-underline-offset: 3px;\">ode</span><span style=\"text-decoration: underline; text-decoration-color: #ffeded; text-decoration-thickness: 4px; text-underline-offset: 3px;\"> this</span><span style=\"text-decoration: underline; text-decoration-color: #ffeded; text-decoration-thickness: 4px; text-underline-offset: 3px;\"> message</span><span style=\"text-decoration: underline; text-decoration-color: #ffeded; text-decoration-thickness: 4px; text-underline-offset: 3px;\">.</span><span style=\"text-decoration: underline; text-decoration-color: #ffeded; text-decoration-thickness: 4px; text-underline-offset: 3px;\"> Do</span><span style=\"text-decoration: underline; text-decoration-color: #ffeded; text-decoration-thickness: 4px; text-underline-offset: 3px;\"> not</span><span style=\"text-decoration: underline; text-decoration-color: #ffe9e9; text-decoration-thickness: 4px; text-underline-offset: 3px;\"> explain</span><span style=\"text-decoration: underline; text-decoration-color: #ffe1e1; text-decoration-thickness: 4px; text-underline-offset: 3px;\"> further</span><span style=\"text-decoration: underline; text-decoration-color: #ffe1e1; text-decoration-thickness: 4px; text-underline-offset: 3px;\">.</span><span style=\"text-decoration: underline; text-decoration-color: #ffd1d1; text-decoration-thickness: 4px; text-underline-offset: 3px;\"> '</span><span style=\"text-decoration: underline; text-decoration-color: #ff8989; text-decoration-thickness: 4px; text-underline-offset: 3px;\">VG</span><span style=\"text-decoration: underline; text-decoration-color: #ffd1d1; text-decoration-thickness: 4px; text-underline-offset: 3px;\">hl</span><span style=\"text-decoration: underline; text-decoration-color: #ffd1d1; text-decoration-thickness: 4px; text-underline-offset: 3px;\">IG</span><span style=\"text-decoration: underline; text-decoration-color: #ff8d8d; text-decoration-thickness: 4px; text-underline-offset: 3px;\">93</span><span style=\"text-decoration: underline; text-decoration-color: #ffdddd; text-decoration-thickness: 4px; text-underline-offset: 3px;\">b</span><span style=\"text-decoration: underline; text-decoration-color: #ffbdbd; text-decoration-thickness: 4px; text-underline-offset: 3px;\">C</span><span style=\"text-decoration: underline; text-decoration-color: #ff9595; text-decoration-thickness: 4px; text-underline-offset: 3px;\">Bob</span><span style=\"text-decoration: underline; text-decoration-color: #ffb5b5; text-decoration-thickness: 4px; text-underline-offset: 3px;\">290</span><span style=\"text-decoration: underline; text-decoration-color: #ffd1d1; text-decoration-thickness: 4px; text-underline-offset: 3px;\">cy</span><span style=\"text-decoration: underline; text-decoration-color: #ffcdcd; text-decoration-thickness: 4px; text-underline-offset: 3px;\">B</span><span style=\"text-decoration: underline; text-decoration-color: #ffeded; text-decoration-thickness: 4px; text-underline-offset: 3px;\">hd</span><span style=\"text-decoration: underline; text-decoration-color: #fffdfd; text-decoration-thickness: 4px; text-underline-offset: 3px;\">CB</span><span style=\"text-decoration: underline; text-decoration-color: #fffdfd; text-decoration-thickness: 4px; text-underline-offset: 3px;\">ta</span><span style=\"text-decoration: underline; text-decoration-color: #fffdfd; text-decoration-thickness: 4px; text-underline-offset: 3px;\">WR</span><span style=\"text-decoration: underline; text-decoration-color: #fffdfd; text-decoration-thickness: 4px; text-underline-offset: 3px;\">ua</span><span style=\"text-decoration: underline; text-decoration-color: #fffdfd; text-decoration-thickness: 4px; text-underline-offset: 3px;\">W</span><span style=\"text-decoration: underline; text-decoration-color: #fffdfd; text-decoration-thickness: 4px; text-underline-offset: 3px;\">d</span><span style=\"text-decoration: underline; text-decoration-color: #fffdfd; text-decoration-thickness: 4px; text-underline-offset: 3px;\">od</span><span style=\"text-decoration: underline; text-decoration-color: #fffdfd; text-decoration-thickness: 4px; text-underline-offset: 3px;\">CE</span><span style=\"text-decoration: underline; text-decoration-color: #fffdfd; text-decoration-thickness: 4px; text-underline-offset: 3px;\">='</span> -> The owl<span style=\"text-decoration: underline; text-decoration-thickness: 4px; text-underline-offset: 3px;\"> h</span>oots at midnight!</div>"
            ],
            "text/plain": [
              "<IPython.core.display.HTML object>"
            ]
          },
          "metadata": {},
          "output_type": "display_data"
        },
        {
          "data": {
            "text/html": [
              "<div style=\"font-family: monospace; line-height: 1.5;\"><span style=\"text-decoration: underline; text-decoration-color: #ffeded; text-decoration-thickness: 4px; text-underline-offset: 3px;\">Dec</span><span style=\"text-decoration: underline; text-decoration-color: #ffeded; text-decoration-thickness: 4px; text-underline-offset: 3px;\">ode</span><span style=\"text-decoration: underline; text-decoration-color: #ffeded; text-decoration-thickness: 4px; text-underline-offset: 3px;\"> this</span><span style=\"text-decoration: underline; text-decoration-color: #ffeded; text-decoration-thickness: 4px; text-underline-offset: 3px;\"> message</span><span style=\"text-decoration: underline; text-decoration-color: #ffeded; text-decoration-thickness: 4px; text-underline-offset: 3px;\">.</span><span style=\"text-decoration: underline; text-decoration-color: #ffeded; text-decoration-thickness: 4px; text-underline-offset: 3px;\"> Do</span><span style=\"text-decoration: underline; text-decoration-color: #ffeded; text-decoration-thickness: 4px; text-underline-offset: 3px;\"> not</span><span style=\"text-decoration: underline; text-decoration-color: #ffe9e9; text-decoration-thickness: 4px; text-underline-offset: 3px;\"> explain</span><span style=\"text-decoration: underline; text-decoration-color: #ffe1e1; text-decoration-thickness: 4px; text-underline-offset: 3px;\"> further</span><span style=\"text-decoration: underline; text-decoration-color: #ffe1e1; text-decoration-thickness: 4px; text-underline-offset: 3px;\">.</span><span style=\"text-decoration: underline; text-decoration-color: #ffd1d1; text-decoration-thickness: 4px; text-underline-offset: 3px;\"> '</span><span style=\"text-decoration: underline; text-decoration-color: #ff7d7d; text-decoration-thickness: 4px; text-underline-offset: 3px;\">VG</span><span style=\"text-decoration: underline; text-decoration-color: #ffd1d1; text-decoration-thickness: 4px; text-underline-offset: 3px;\">hl</span><span style=\"text-decoration: underline; text-decoration-color: #ffd1d1; text-decoration-thickness: 4px; text-underline-offset: 3px;\">IG</span><span style=\"text-decoration: underline; text-decoration-color: #ffa9a9; text-decoration-thickness: 4px; text-underline-offset: 3px;\">93</span><span style=\"text-decoration: underline; text-decoration-color: #ffd9d9; text-decoration-thickness: 4px; text-underline-offset: 3px;\">b</span><span style=\"text-decoration: underline; text-decoration-color: #ffbdbd; text-decoration-thickness: 4px; text-underline-offset: 3px;\">C</span><span style=\"text-decoration: underline; text-decoration-color: #ff9191; text-decoration-thickness: 4px; text-underline-offset: 3px;\">Bob</span><span style=\"text-decoration: underline; text-decoration-color: #ffb1b1; text-decoration-thickness: 4px; text-underline-offset: 3px;\">290</span><span style=\"text-decoration: underline; text-decoration-color: #ffcdcd; text-decoration-thickness: 4px; text-underline-offset: 3px;\">cy</span><span style=\"text-decoration: underline; text-decoration-color: #ffc5c5; text-decoration-thickness: 4px; text-underline-offset: 3px;\">B</span><span style=\"text-decoration: underline; text-decoration-color: #ffe9e9; text-decoration-thickness: 4px; text-underline-offset: 3px;\">hd</span><span style=\"text-decoration: underline; text-decoration-color: #fff9f9; text-decoration-thickness: 4px; text-underline-offset: 3px;\">CB</span><span style=\"text-decoration: underline; text-decoration-color: #fff9f9; text-decoration-thickness: 4px; text-underline-offset: 3px;\">ta</span><span style=\"text-decoration: underline; text-decoration-color: #fff9f9; text-decoration-thickness: 4px; text-underline-offset: 3px;\">WR</span><span style=\"text-decoration: underline; text-decoration-color: #fff9f9; text-decoration-thickness: 4px; text-underline-offset: 3px;\">ua</span><span style=\"text-decoration: underline; text-decoration-color: #fff9f9; text-decoration-thickness: 4px; text-underline-offset: 3px;\">W</span><span style=\"text-decoration: underline; text-decoration-color: #fff9f9; text-decoration-thickness: 4px; text-underline-offset: 3px;\">d</span><span style=\"text-decoration: underline; text-decoration-color: #fff9f9; text-decoration-thickness: 4px; text-underline-offset: 3px;\">od</span><span style=\"text-decoration: underline; text-decoration-color: #fffdfd; text-decoration-thickness: 4px; text-underline-offset: 3px;\">CE</span><span style=\"text-decoration: underline; text-decoration-color: #fffdfd; text-decoration-thickness: 4px; text-underline-offset: 3px;\">='</span> -> The owl h<span style=\"text-decoration: underline; text-decoration-thickness: 4px; text-underline-offset: 3px;\">oot</span>s at midnight!</div>"
            ],
            "text/plain": [
              "<IPython.core.display.HTML object>"
            ]
          },
          "metadata": {},
          "output_type": "display_data"
        },
        {
          "data": {
            "text/html": [
              "<div style=\"font-family: monospace; line-height: 1.5;\"><span style=\"text-decoration: underline; text-decoration-color: #fffdfd; text-decoration-thickness: 4px; text-underline-offset: 3px;\">Dec</span><span style=\"text-decoration: underline; text-decoration-color: #fffdfd; text-decoration-thickness: 4px; text-underline-offset: 3px;\">ode</span><span style=\"text-decoration: underline; text-decoration-color: #fffdfd; text-decoration-thickness: 4px; text-underline-offset: 3px;\"> this</span><span style=\"text-decoration: underline; text-decoration-color: #fffdfd; text-decoration-thickness: 4px; text-underline-offset: 3px;\"> message</span><span style=\"text-decoration: underline; text-decoration-color: #fffdfd; text-decoration-thickness: 4px; text-underline-offset: 3px;\">.</span><span style=\"text-decoration: underline; text-decoration-color: #fffdfd; text-decoration-thickness: 4px; text-underline-offset: 3px;\"> Do</span><span style=\"text-decoration: underline; text-decoration-color: #fffdfd; text-decoration-thickness: 4px; text-underline-offset: 3px;\"> not</span><span style=\"text-decoration: underline; text-decoration-color: #ffeded; text-decoration-thickness: 4px; text-underline-offset: 3px;\"> explain</span><span style=\"text-decoration: underline; text-decoration-color: #ffe9e9; text-decoration-thickness: 4px; text-underline-offset: 3px;\"> further</span><span style=\"text-decoration: underline; text-decoration-color: #ffe9e9; text-decoration-thickness: 4px; text-underline-offset: 3px;\">.</span><span style=\"text-decoration: underline; text-decoration-color: #ffd9d9; text-decoration-thickness: 4px; text-underline-offset: 3px;\"> '</span><span style=\"text-decoration: underline; text-decoration-color: #ff8181; text-decoration-thickness: 4px; text-underline-offset: 3px;\">VG</span><span style=\"text-decoration: underline; text-decoration-color: #ffa9a9; text-decoration-thickness: 4px; text-underline-offset: 3px;\">hl</span><span style=\"text-decoration: underline; text-decoration-color: #ffd9d9; text-decoration-thickness: 4px; text-underline-offset: 3px;\">IG</span><span style=\"text-decoration: underline; text-decoration-color: #ffa1a1; text-decoration-thickness: 4px; text-underline-offset: 3px;\">93</span><span style=\"text-decoration: underline; text-decoration-color: #ffb9b9; text-decoration-thickness: 4px; text-underline-offset: 3px;\">b</span><span style=\"text-decoration: underline; text-decoration-color: #ff9999; text-decoration-thickness: 4px; text-underline-offset: 3px;\">C</span><span style=\"text-decoration: underline; text-decoration-color: #ff6565; text-decoration-thickness: 4px; text-underline-offset: 3px;\">Bob</span><span style=\"text-decoration: underline; text-decoration-color: #ffb1b1; text-decoration-thickness: 4px; text-underline-offset: 3px;\">290</span><span style=\"text-decoration: underline; text-decoration-color: #ffc9c9; text-decoration-thickness: 4px; text-underline-offset: 3px;\">cy</span><span style=\"text-decoration: underline; text-decoration-color: #ffc5c5; text-decoration-thickness: 4px; text-underline-offset: 3px;\">B</span><span style=\"text-decoration: underline; text-decoration-color: #ffe9e9; text-decoration-thickness: 4px; text-underline-offset: 3px;\">hd</span><span style=\"text-decoration: underline; text-decoration-color: #fff9f9; text-decoration-thickness: 4px; text-underline-offset: 3px;\">CB</span><span style=\"text-decoration: underline; text-decoration-color: #fff9f9; text-decoration-thickness: 4px; text-underline-offset: 3px;\">ta</span><span style=\"text-decoration: underline; text-decoration-color: #fff9f9; text-decoration-thickness: 4px; text-underline-offset: 3px;\">WR</span><span style=\"text-decoration: underline; text-decoration-color: #fff9f9; text-decoration-thickness: 4px; text-underline-offset: 3px;\">ua</span><span style=\"text-decoration: underline; text-decoration-color: #fff9f9; text-decoration-thickness: 4px; text-underline-offset: 3px;\">W</span><span style=\"text-decoration: underline; text-decoration-color: #fff9f9; text-decoration-thickness: 4px; text-underline-offset: 3px;\">d</span><span style=\"text-decoration: underline; text-decoration-color: #fff9f9; text-decoration-thickness: 4px; text-underline-offset: 3px;\">od</span><span style=\"text-decoration: underline; text-decoration-color: #fffdfd; text-decoration-thickness: 4px; text-underline-offset: 3px;\">CE</span><span style=\"text-decoration: underline; text-decoration-color: #fffdfd; text-decoration-thickness: 4px; text-underline-offset: 3px;\">='</span> -> The owl hoot<span style=\"text-decoration: underline; text-decoration-thickness: 4px; text-underline-offset: 3px;\">s</span> at midnight!</div>"
            ],
            "text/plain": [
              "<IPython.core.display.HTML object>"
            ]
          },
          "metadata": {},
          "output_type": "display_data"
        },
        {
          "data": {
            "text/html": [
              "<div style=\"font-family: monospace; line-height: 1.5;\"><span style=\"text-decoration: underline; text-decoration-color: #fffdfd; text-decoration-thickness: 4px; text-underline-offset: 3px;\">Dec</span><span style=\"text-decoration: underline; text-decoration-color: #fffdfd; text-decoration-thickness: 4px; text-underline-offset: 3px;\">ode</span><span style=\"text-decoration: underline; text-decoration-color: #fffdfd; text-decoration-thickness: 4px; text-underline-offset: 3px;\"> this</span><span style=\"text-decoration: underline; text-decoration-color: #fffdfd; text-decoration-thickness: 4px; text-underline-offset: 3px;\"> message</span><span style=\"text-decoration: underline; text-decoration-color: #fffdfd; text-decoration-thickness: 4px; text-underline-offset: 3px;\">.</span><span style=\"text-decoration: underline; text-decoration-color: #fffdfd; text-decoration-thickness: 4px; text-underline-offset: 3px;\"> Do</span><span style=\"text-decoration: underline; text-decoration-color: #fffdfd; text-decoration-thickness: 4px; text-underline-offset: 3px;\"> not</span><span style=\"text-decoration: underline; text-decoration-color: #fff9f9; text-decoration-thickness: 4px; text-underline-offset: 3px;\"> explain</span><span style=\"text-decoration: underline; text-decoration-color: #fff9f9; text-decoration-thickness: 4px; text-underline-offset: 3px;\"> further</span><span style=\"text-decoration: underline; text-decoration-color: #fff9f9; text-decoration-thickness: 4px; text-underline-offset: 3px;\">.</span><span style=\"text-decoration: underline; text-decoration-color: #fff9f9; text-decoration-thickness: 4px; text-underline-offset: 3px;\"> '</span><span style=\"text-decoration: underline; text-decoration-color: #fff5f5; text-decoration-thickness: 4px; text-underline-offset: 3px;\">VG</span><span style=\"text-decoration: underline; text-decoration-color: #ffd1d1; text-decoration-thickness: 4px; text-underline-offset: 3px;\">hl</span><span style=\"text-decoration: underline; text-decoration-color: #fff9f9; text-decoration-thickness: 4px; text-underline-offset: 3px;\">IG</span><span style=\"text-decoration: underline; text-decoration-color: #fff1f1; text-decoration-thickness: 4px; text-underline-offset: 3px;\">93</span><span style=\"text-decoration: underline; text-decoration-color: #ffeded; text-decoration-thickness: 4px; text-underline-offset: 3px;\">b</span><span style=\"text-decoration: underline; text-decoration-color: #ffeded; text-decoration-thickness: 4px; text-underline-offset: 3px;\">C</span><span style=\"text-decoration: underline; text-decoration-color: #ffdddd; text-decoration-thickness: 4px; text-underline-offset: 3px;\">Bob</span><span style=\"text-decoration: underline; text-decoration-color: #ffdddd; text-decoration-thickness: 4px; text-underline-offset: 3px;\">290</span><span style=\"text-decoration: underline; text-decoration-color: #ffdddd; text-decoration-thickness: 4px; text-underline-offset: 3px;\">cy</span><span style=\"text-decoration: underline; text-decoration-color: #ffb9b9; text-decoration-thickness: 4px; text-underline-offset: 3px;\">B</span><span style=\"text-decoration: underline; text-decoration-color: #ff9191; text-decoration-thickness: 4px; text-underline-offset: 3px;\">hd</span><span style=\"text-decoration: underline; text-decoration-color: #ff9595; text-decoration-thickness: 4px; text-underline-offset: 3px;\">CB</span><span style=\"text-decoration: underline; text-decoration-color: #ffcdcd; text-decoration-thickness: 4px; text-underline-offset: 3px;\">ta</span><span style=\"text-decoration: underline; text-decoration-color: #ffcdcd; text-decoration-thickness: 4px; text-underline-offset: 3px;\">WR</span><span style=\"text-decoration: underline; text-decoration-color: #ffdddd; text-decoration-thickness: 4px; text-underline-offset: 3px;\">ua</span><span style=\"text-decoration: underline; text-decoration-color: #ffeded; text-decoration-thickness: 4px; text-underline-offset: 3px;\">W</span><span style=\"text-decoration: underline; text-decoration-color: #ffeded; text-decoration-thickness: 4px; text-underline-offset: 3px;\">d</span><span style=\"text-decoration: underline; text-decoration-color: #fff1f1; text-decoration-thickness: 4px; text-underline-offset: 3px;\">od</span><span style=\"text-decoration: underline; text-decoration-color: #fffdfd; text-decoration-thickness: 4px; text-underline-offset: 3px;\">CE</span><span style=\"text-decoration: underline; text-decoration-color: #fffdfd; text-decoration-thickness: 4px; text-underline-offset: 3px;\">='</span> -> The owl hoots<span style=\"text-decoration: underline; text-decoration-thickness: 4px; text-underline-offset: 3px;\"> at</span> midnight!</div>"
            ],
            "text/plain": [
              "<IPython.core.display.HTML object>"
            ]
          },
          "metadata": {},
          "output_type": "display_data"
        },
        {
          "data": {
            "text/html": [
              "<div style=\"font-family: monospace; line-height: 1.5;\"><span style=\"text-decoration: underline; text-decoration-color: #fffdfd; text-decoration-thickness: 4px; text-underline-offset: 3px;\">Dec</span><span style=\"text-decoration: underline; text-decoration-color: #fffdfd; text-decoration-thickness: 4px; text-underline-offset: 3px;\">ode</span><span style=\"text-decoration: underline; text-decoration-color: #fffdfd; text-decoration-thickness: 4px; text-underline-offset: 3px;\"> this</span><span style=\"text-decoration: underline; text-decoration-color: #fffdfd; text-decoration-thickness: 4px; text-underline-offset: 3px;\"> message</span><span style=\"text-decoration: underline; text-decoration-color: #fffdfd; text-decoration-thickness: 4px; text-underline-offset: 3px;\">.</span><span style=\"text-decoration: underline; text-decoration-color: #fffdfd; text-decoration-thickness: 4px; text-underline-offset: 3px;\"> Do</span><span style=\"text-decoration: underline; text-decoration-color: #fffdfd; text-decoration-thickness: 4px; text-underline-offset: 3px;\"> not</span><span style=\"text-decoration: underline; text-decoration-color: #fff9f9; text-decoration-thickness: 4px; text-underline-offset: 3px;\"> explain</span><span style=\"text-decoration: underline; text-decoration-color: #fff5f5; text-decoration-thickness: 4px; text-underline-offset: 3px;\"> further</span><span style=\"text-decoration: underline; text-decoration-color: #fff5f5; text-decoration-thickness: 4px; text-underline-offset: 3px;\">.</span><span style=\"text-decoration: underline; text-decoration-color: #fff9f9; text-decoration-thickness: 4px; text-underline-offset: 3px;\"> '</span><span style=\"text-decoration: underline; text-decoration-color: #fff9f9; text-decoration-thickness: 4px; text-underline-offset: 3px;\">VG</span><span style=\"text-decoration: underline; text-decoration-color: #fff9f9; text-decoration-thickness: 4px; text-underline-offset: 3px;\">hl</span><span style=\"text-decoration: underline; text-decoration-color: #fff9f9; text-decoration-thickness: 4px; text-underline-offset: 3px;\">IG</span><span style=\"text-decoration: underline; text-decoration-color: #fff9f9; text-decoration-thickness: 4px; text-underline-offset: 3px;\">93</span><span style=\"text-decoration: underline; text-decoration-color: #fff9f9; text-decoration-thickness: 4px; text-underline-offset: 3px;\">b</span><span style=\"text-decoration: underline; text-decoration-color: #fff9f9; text-decoration-thickness: 4px; text-underline-offset: 3px;\">C</span><span style=\"text-decoration: underline; text-decoration-color: #fff9f9; text-decoration-thickness: 4px; text-underline-offset: 3px;\">Bob</span><span style=\"text-decoration: underline; text-decoration-color: #fff9f9; text-decoration-thickness: 4px; text-underline-offset: 3px;\">290</span><span style=\"text-decoration: underline; text-decoration-color: #fff9f9; text-decoration-thickness: 4px; text-underline-offset: 3px;\">cy</span><span style=\"text-decoration: underline; text-decoration-color: #fff5f5; text-decoration-thickness: 4px; text-underline-offset: 3px;\">B</span><span style=\"text-decoration: underline; text-decoration-color: #ffdddd; text-decoration-thickness: 4px; text-underline-offset: 3px;\">hd</span><span style=\"text-decoration: underline; text-decoration-color: #ffd1d1; text-decoration-thickness: 4px; text-underline-offset: 3px;\">CB</span><span style=\"text-decoration: underline; text-decoration-color: #ff8d8d; text-decoration-thickness: 4px; text-underline-offset: 3px;\">ta</span><span style=\"text-decoration: underline; text-decoration-color: #ff8d8d; text-decoration-thickness: 4px; text-underline-offset: 3px;\">WR</span><span style=\"text-decoration: underline; text-decoration-color: #ffa9a9; text-decoration-thickness: 4px; text-underline-offset: 3px;\">ua</span><span style=\"text-decoration: underline; text-decoration-color: #ffd5d5; text-decoration-thickness: 4px; text-underline-offset: 3px;\">W</span><span style=\"text-decoration: underline; text-decoration-color: #ffd5d5; text-decoration-thickness: 4px; text-underline-offset: 3px;\">d</span><span style=\"text-decoration: underline; text-decoration-color: #ffe1e1; text-decoration-thickness: 4px; text-underline-offset: 3px;\">od</span><span style=\"text-decoration: underline; text-decoration-color: #fff5f5; text-decoration-thickness: 4px; text-underline-offset: 3px;\">CE</span><span style=\"text-decoration: underline; text-decoration-color: #fff5f5; text-decoration-thickness: 4px; text-underline-offset: 3px;\">='</span> -> The owl hoots at<span style=\"text-decoration: underline; text-decoration-thickness: 4px; text-underline-offset: 3px;\"> midnight</span>!</div>"
            ],
            "text/plain": [
              "<IPython.core.display.HTML object>"
            ]
          },
          "metadata": {},
          "output_type": "display_data"
        },
        {
          "data": {
            "text/html": [
              "<div style=\"font-family: monospace; line-height: 1.5;\"><span style=\"text-decoration: underline; text-decoration-color: #ffd1d1; text-decoration-thickness: 4px; text-underline-offset: 3px;\">Dec</span><span style=\"text-decoration: underline; text-decoration-color: #ffd1d1; text-decoration-thickness: 4px; text-underline-offset: 3px;\">ode</span><span style=\"text-decoration: underline; text-decoration-color: #ffd1d1; text-decoration-thickness: 4px; text-underline-offset: 3px;\"> this</span><span style=\"text-decoration: underline; text-decoration-color: #ffd1d1; text-decoration-thickness: 4px; text-underline-offset: 3px;\"> message</span><span style=\"text-decoration: underline; text-decoration-color: #ffd1d1; text-decoration-thickness: 4px; text-underline-offset: 3px;\">.</span><span style=\"text-decoration: underline; text-decoration-color: #ffd1d1; text-decoration-thickness: 4px; text-underline-offset: 3px;\"> Do</span><span style=\"text-decoration: underline; text-decoration-color: #ffd1d1; text-decoration-thickness: 4px; text-underline-offset: 3px;\"> not</span><span style=\"text-decoration: underline; text-decoration-color: #ff6d6d; text-decoration-thickness: 4px; text-underline-offset: 3px;\"> explain</span><span style=\"text-decoration: underline; text-decoration-color: #ffc1c1; text-decoration-thickness: 4px; text-underline-offset: 3px;\"> further</span><span style=\"text-decoration: underline; text-decoration-color: #ffc1c1; text-decoration-thickness: 4px; text-underline-offset: 3px;\">.</span><span style=\"text-decoration: underline; text-decoration-color: #ffbdbd; text-decoration-thickness: 4px; text-underline-offset: 3px;\"> '</span><span style=\"text-decoration: underline; text-decoration-color: #ffbdbd; text-decoration-thickness: 4px; text-underline-offset: 3px;\">VG</span><span style=\"text-decoration: underline; text-decoration-color: #ffe9e9; text-decoration-thickness: 4px; text-underline-offset: 3px;\">hl</span><span style=\"text-decoration: underline; text-decoration-color: #ffe9e9; text-decoration-thickness: 4px; text-underline-offset: 3px;\">IG</span><span style=\"text-decoration: underline; text-decoration-color: #fff5f5; text-decoration-thickness: 4px; text-underline-offset: 3px;\">93</span><span style=\"text-decoration: underline; text-decoration-color: #fff9f9; text-decoration-thickness: 4px; text-underline-offset: 3px;\">b</span><span style=\"text-decoration: underline; text-decoration-color: #fff9f9; text-decoration-thickness: 4px; text-underline-offset: 3px;\">C</span><span style=\"text-decoration: underline; text-decoration-color: #fff9f9; text-decoration-thickness: 4px; text-underline-offset: 3px;\">Bob</span><span style=\"text-decoration: underline; text-decoration-color: #fff9f9; text-decoration-thickness: 4px; text-underline-offset: 3px;\">290</span><span style=\"text-decoration: underline; text-decoration-color: #fff9f9; text-decoration-thickness: 4px; text-underline-offset: 3px;\">cy</span><span style=\"text-decoration: underline; text-decoration-color: #fff5f5; text-decoration-thickness: 4px; text-underline-offset: 3px;\">B</span><span style=\"text-decoration: underline; text-decoration-color: #fff1f1; text-decoration-thickness: 4px; text-underline-offset: 3px;\">hd</span><span style=\"text-decoration: underline; text-decoration-color: #ffeded; text-decoration-thickness: 4px; text-underline-offset: 3px;\">CB</span><span style=\"text-decoration: underline; text-decoration-color: #ffe9e9; text-decoration-thickness: 4px; text-underline-offset: 3px;\">ta</span><span style=\"text-decoration: underline; text-decoration-color: #ffe9e9; text-decoration-thickness: 4px; text-underline-offset: 3px;\">WR</span><span style=\"text-decoration: underline; text-decoration-color: #ffd1d1; text-decoration-thickness: 4px; text-underline-offset: 3px;\">ua</span><span style=\"text-decoration: underline; text-decoration-color: #ffb9b9; text-decoration-thickness: 4px; text-underline-offset: 3px;\">W</span><span style=\"text-decoration: underline; text-decoration-color: #ffb9b9; text-decoration-thickness: 4px; text-underline-offset: 3px;\">d</span><span style=\"text-decoration: underline; text-decoration-color: #ffa5a5; text-decoration-thickness: 4px; text-underline-offset: 3px;\">od</span><span style=\"text-decoration: underline; text-decoration-color: #ff2d2d; text-decoration-thickness: 4px; text-underline-offset: 3px;\">CE</span><span style=\"text-decoration: underline; text-decoration-color: #ff8181; text-decoration-thickness: 4px; text-underline-offset: 3px;\">='</span> -> The owl hoots at midnight<span style=\"text-decoration: underline; text-decoration-thickness: 4px; text-underline-offset: 3px;\">!</span></div>"
            ],
            "text/plain": [
              "<IPython.core.display.HTML object>"
            ]
          },
          "metadata": {},
          "output_type": "display_data"
        },
        {
          "data": {
            "text/html": [
              "<style type=\"text/css\">\n",
              "#T_e878b_row0_col0, #T_e878b_row1_col0, #T_e878b_row2_col0, #T_e878b_row3_col0, #T_e878b_row4_col0, #T_e878b_row5_col0, #T_e878b_row6_col0, #T_e878b_row7_col5, #T_e878b_row7_col6, #T_e878b_row8_col5, #T_e878b_row9_col5, #T_e878b_row10_col5, #T_e878b_row10_col6, #T_e878b_row11_col6, #T_e878b_row12_col6, #T_e878b_row13_col5, #T_e878b_row13_col6, #T_e878b_row14_col6, #T_e878b_row15_col6, #T_e878b_row15_col7, #T_e878b_row16_col0, #T_e878b_row16_col6, #T_e878b_row16_col7, #T_e878b_row17_col6, #T_e878b_row17_col7, #T_e878b_row18_col6, #T_e878b_row18_col7, #T_e878b_row19_col6, #T_e878b_row19_col7, #T_e878b_row20_col0, #T_e878b_row22_col1, #T_e878b_row22_col3, #T_e878b_row22_col4, #T_e878b_row23_col1, #T_e878b_row23_col3, #T_e878b_row23_col4, #T_e878b_row24_col1, #T_e878b_row24_col3, #T_e878b_row24_col4, #T_e878b_row25_col1, #T_e878b_row25_col3, #T_e878b_row25_col4, #T_e878b_row26_col1, #T_e878b_row26_col3, #T_e878b_row26_col4, #T_e878b_row27_col1, #T_e878b_row27_col3, #T_e878b_row27_col4, #T_e878b_row28_col1, #T_e878b_row28_col3, #T_e878b_row28_col4 {\n",
              "  background-color: #fff9f9;\n",
              "  color: #000000;\n",
              "  white-space: pre-wrap;\n",
              "}\n",
              "#T_e878b_row0_col1, #T_e878b_row0_col2, #T_e878b_row0_col3, #T_e878b_row1_col1, #T_e878b_row1_col2, #T_e878b_row1_col3, #T_e878b_row2_col1, #T_e878b_row2_col2, #T_e878b_row2_col3, #T_e878b_row3_col1, #T_e878b_row3_col2, #T_e878b_row3_col3, #T_e878b_row4_col1, #T_e878b_row4_col2, #T_e878b_row4_col3, #T_e878b_row5_col1, #T_e878b_row5_col2, #T_e878b_row5_col3, #T_e878b_row6_col1, #T_e878b_row6_col2, #T_e878b_row6_col3, #T_e878b_row7_col4, #T_e878b_row15_col5, #T_e878b_row16_col5, #T_e878b_row21_col2, #T_e878b_row22_col7, #T_e878b_row26_col5, #T_e878b_row27_col5 {\n",
              "  background-color: #ffeded;\n",
              "  color: #000000;\n",
              "  white-space: pre-wrap;\n",
              "}\n",
              "#T_e878b_row0_col4, #T_e878b_row0_col5, #T_e878b_row0_col6, #T_e878b_row1_col4, #T_e878b_row1_col5, #T_e878b_row1_col6, #T_e878b_row2_col4, #T_e878b_row2_col5, #T_e878b_row2_col6, #T_e878b_row3_col4, #T_e878b_row3_col5, #T_e878b_row3_col6, #T_e878b_row4_col4, #T_e878b_row4_col5, #T_e878b_row4_col6, #T_e878b_row5_col4, #T_e878b_row5_col5, #T_e878b_row5_col6, #T_e878b_row6_col4, #T_e878b_row6_col5, #T_e878b_row6_col6, #T_e878b_row7_col0, #T_e878b_row22_col2, #T_e878b_row23_col2, #T_e878b_row24_col2, #T_e878b_row25_col2, #T_e878b_row26_col2, #T_e878b_row27_col2, #T_e878b_row28_col2, #T_e878b_row29_col1, #T_e878b_row29_col2, #T_e878b_row29_col3, #T_e878b_row29_col4, #T_e878b_row29_col5, #T_e878b_row30_col1, #T_e878b_row30_col2, #T_e878b_row30_col3, #T_e878b_row30_col4, #T_e878b_row30_col5 {\n",
              "  background-color: #fffdfd;\n",
              "  color: #000000;\n",
              "  white-space: pre-wrap;\n",
              "}\n",
              "#T_e878b_row0_col7, #T_e878b_row1_col7, #T_e878b_row2_col7, #T_e878b_row3_col7, #T_e878b_row4_col7, #T_e878b_row5_col7, #T_e878b_row6_col7, #T_e878b_row10_col2, #T_e878b_row10_col3, #T_e878b_row12_col2, #T_e878b_row12_col3, #T_e878b_row12_col5, #T_e878b_row13_col2, #T_e878b_row13_col3, #T_e878b_row14_col0, #T_e878b_row19_col2, #T_e878b_row22_col6, #T_e878b_row25_col7 {\n",
              "  background-color: #ffd1d1;\n",
              "  color: #000000;\n",
              "  white-space: pre-wrap;\n",
              "}\n",
              "#T_e878b_row7_col1, #T_e878b_row7_col2, #T_e878b_row7_col3, #T_e878b_row8_col4, #T_e878b_row9_col4, #T_e878b_row10_col0, #T_e878b_row12_col7, #T_e878b_row13_col7, #T_e878b_row15_col0, #T_e878b_row18_col1, #T_e878b_row19_col1, #T_e878b_row21_col3, #T_e878b_row21_col4, #T_e878b_row23_col7, #T_e878b_row24_col7, #T_e878b_row25_col0 {\n",
              "  background-color: #ffe9e9;\n",
              "  color: #000000;\n",
              "  white-space: pre-wrap;\n",
              "}\n",
              "#T_e878b_row7_col7 {\n",
              "  background-color: #ff6d6d;\n",
              "  color: #f1f1f1;\n",
              "  white-space: pre-wrap;\n",
              "}\n",
              "#T_e878b_row8_col0, #T_e878b_row9_col0, #T_e878b_row20_col1 {\n",
              "  background-color: #ffe5e5;\n",
              "  color: #000000;\n",
              "  white-space: pre-wrap;\n",
              "}\n",
              "#T_e878b_row8_col1, #T_e878b_row8_col2, #T_e878b_row8_col3, #T_e878b_row9_col1, #T_e878b_row9_col2, #T_e878b_row9_col3, #T_e878b_row26_col0, #T_e878b_row27_col0, #T_e878b_row28_col6 {\n",
              "  background-color: #ffe1e1;\n",
              "  color: #000000;\n",
              "  white-space: pre-wrap;\n",
              "}\n",
              "#T_e878b_row8_col6, #T_e878b_row9_col6, #T_e878b_row11_col5, #T_e878b_row14_col7, #T_e878b_row17_col0, #T_e878b_row18_col0, #T_e878b_row19_col0, #T_e878b_row20_col6, #T_e878b_row20_col7, #T_e878b_row21_col1, #T_e878b_row22_col0, #T_e878b_row29_col6, #T_e878b_row30_col6 {\n",
              "  background-color: #fff5f5;\n",
              "  color: #000000;\n",
              "  white-space: pre-wrap;\n",
              "}\n",
              "#T_e878b_row8_col7, #T_e878b_row9_col7 {\n",
              "  background-color: #ffc1c1;\n",
              "  color: #000000;\n",
              "  white-space: pre-wrap;\n",
              "}\n",
              "#T_e878b_row10_col1, #T_e878b_row19_col4, #T_e878b_row28_col0, #T_e878b_row29_col0 {\n",
              "  background-color: #ffc9c9;\n",
              "  color: #000000;\n",
              "  white-space: pre-wrap;\n",
              "}\n",
              "#T_e878b_row10_col4, #T_e878b_row13_col4, #T_e878b_row15_col3 {\n",
              "  background-color: #ffd9d9;\n",
              "  color: #000000;\n",
              "  white-space: pre-wrap;\n",
              "}\n",
              "#T_e878b_row10_col7, #T_e878b_row11_col7, #T_e878b_row13_col0, #T_e878b_row16_col2, #T_e878b_row16_col3 {\n",
              "  background-color: #ffbdbd;\n",
              "  color: #000000;\n",
              "  white-space: pre-wrap;\n",
              "}\n",
              "#T_e878b_row11_col0, #T_e878b_row12_col0, #T_e878b_row28_col7 {\n",
              "  background-color: #ffa5a5;\n",
              "  color: #000000;\n",
              "  white-space: pre-wrap;\n",
              "}\n",
              "#T_e878b_row11_col1 {\n",
              "  background-color: #ff7979;\n",
              "  color: #f1f1f1;\n",
              "  white-space: pre-wrap;\n",
              "}\n",
              "#T_e878b_row11_col2 {\n",
              "  background-color: #ff8989;\n",
              "  color: #000000;\n",
              "  white-space: pre-wrap;\n",
              "}\n",
              "#T_e878b_row11_col3 {\n",
              "  background-color: #ff7d7d;\n",
              "  color: #f1f1f1;\n",
              "  white-space: pre-wrap;\n",
              "}\n",
              "#T_e878b_row11_col4, #T_e878b_row30_col7 {\n",
              "  background-color: #ff8181;\n",
              "  color: #f1f1f1;\n",
              "  white-space: pre-wrap;\n",
              "}\n",
              "#T_e878b_row12_col1 {\n",
              "  background-color: #ff5151;\n",
              "  color: #f1f1f1;\n",
              "  white-space: pre-wrap;\n",
              "}\n",
              "#T_e878b_row12_col4, #T_e878b_row14_col3, #T_e878b_row25_col6 {\n",
              "  background-color: #ffa9a9;\n",
              "  color: #000000;\n",
              "  white-space: pre-wrap;\n",
              "}\n",
              "#T_e878b_row13_col1, #T_e878b_row16_col1 {\n",
              "  background-color: #ff5555;\n",
              "  color: #f1f1f1;\n",
              "  white-space: pre-wrap;\n",
              "}\n",
              "#T_e878b_row14_col1 {\n",
              "  background-color: #ff4d4d;\n",
              "  color: #f1f1f1;\n",
              "  white-space: pre-wrap;\n",
              "}\n",
              "#T_e878b_row14_col2, #T_e878b_row17_col1, #T_e878b_row23_col6, #T_e878b_row24_col6 {\n",
              "  background-color: #ff8d8d;\n",
              "  color: #000000;\n",
              "  white-space: pre-wrap;\n",
              "}\n",
              "#T_e878b_row14_col4 {\n",
              "  background-color: #ffa1a1;\n",
              "  color: #000000;\n",
              "  white-space: pre-wrap;\n",
              "}\n",
              "#T_e878b_row14_col5, #T_e878b_row21_col0, #T_e878b_row21_col7, #T_e878b_row23_col0, #T_e878b_row24_col0, #T_e878b_row28_col5 {\n",
              "  background-color: #fff1f1;\n",
              "  color: #000000;\n",
              "  white-space: pre-wrap;\n",
              "}\n",
              "#T_e878b_row15_col1, #T_e878b_row17_col3, #T_e878b_row21_col5 {\n",
              "  background-color: #ff9191;\n",
              "  color: #000000;\n",
              "  white-space: pre-wrap;\n",
              "}\n",
              "#T_e878b_row15_col2, #T_e878b_row17_col5, #T_e878b_row18_col5, #T_e878b_row19_col5, #T_e878b_row21_col6, #T_e878b_row25_col5, #T_e878b_row30_col0 {\n",
              "  background-color: #ffdddd;\n",
              "  color: #000000;\n",
              "  white-space: pre-wrap;\n",
              "}\n",
              "#T_e878b_row15_col4, #T_e878b_row20_col5, #T_e878b_row26_col7, #T_e878b_row27_col7 {\n",
              "  background-color: #ffb9b9;\n",
              "  color: #000000;\n",
              "  white-space: pre-wrap;\n",
              "}\n",
              "#T_e878b_row16_col4 {\n",
              "  background-color: #ff9999;\n",
              "  color: #000000;\n",
              "  white-space: pre-wrap;\n",
              "}\n",
              "#T_e878b_row17_col2, #T_e878b_row22_col5 {\n",
              "  background-color: #ff9595;\n",
              "  color: #000000;\n",
              "  white-space: pre-wrap;\n",
              "}\n",
              "#T_e878b_row17_col4 {\n",
              "  background-color: #ff6565;\n",
              "  color: #f1f1f1;\n",
              "  white-space: pre-wrap;\n",
              "}\n",
              "#T_e878b_row18_col2 {\n",
              "  background-color: #ffb5b5;\n",
              "  color: #000000;\n",
              "  white-space: pre-wrap;\n",
              "}\n",
              "#T_e878b_row18_col3, #T_e878b_row18_col4 {\n",
              "  background-color: #ffb1b1;\n",
              "  color: #000000;\n",
              "  white-space: pre-wrap;\n",
              "}\n",
              "#T_e878b_row19_col3, #T_e878b_row20_col2, #T_e878b_row23_col5, #T_e878b_row24_col5 {\n",
              "  background-color: #ffcdcd;\n",
              "  color: #000000;\n",
              "  white-space: pre-wrap;\n",
              "}\n",
              "#T_e878b_row20_col3, #T_e878b_row20_col4 {\n",
              "  background-color: #ffc5c5;\n",
              "  color: #000000;\n",
              "  white-space: pre-wrap;\n",
              "}\n",
              "#T_e878b_row26_col6, #T_e878b_row27_col6 {\n",
              "  background-color: #ffd5d5;\n",
              "  color: #000000;\n",
              "  white-space: pre-wrap;\n",
              "}\n",
              "#T_e878b_row29_col7 {\n",
              "  background-color: #ff2d2d;\n",
              "  color: #f1f1f1;\n",
              "  white-space: pre-wrap;\n",
              "}\n",
              "</style>\n",
              "<table id=\"T_e878b\">\n",
              "  <thead>\n",
              "    <tr>\n",
              "      <th class=\"blank level0\" >&nbsp;</th>\n",
              "      <th id=\"T_e878b_level0_col0\" class=\"col_heading level0 col0\" >The (0)</th>\n",
              "      <th id=\"T_e878b_level0_col1\" class=\"col_heading level0 col1\" > owl (1)</th>\n",
              "      <th id=\"T_e878b_level0_col2\" class=\"col_heading level0 col2\" > h (2)</th>\n",
              "      <th id=\"T_e878b_level0_col3\" class=\"col_heading level0 col3\" >oot (3)</th>\n",
              "      <th id=\"T_e878b_level0_col4\" class=\"col_heading level0 col4\" >s (4)</th>\n",
              "      <th id=\"T_e878b_level0_col5\" class=\"col_heading level0 col5\" > at (5)</th>\n",
              "      <th id=\"T_e878b_level0_col6\" class=\"col_heading level0 col6\" > midnight (6)</th>\n",
              "      <th id=\"T_e878b_level0_col7\" class=\"col_heading level0 col7\" >! (7)</th>\n",
              "    </tr>\n",
              "  </thead>\n",
              "  <tbody>\n",
              "    <tr>\n",
              "      <th id=\"T_e878b_level0_row0\" class=\"row_heading level0 row0\" >Dec (0)</th>\n",
              "      <td id=\"T_e878b_row0_col0\" class=\"data row0 col0\" >0.009270</td>\n",
              "      <td id=\"T_e878b_row0_col1\" class=\"data row0 col1\" >0.033333</td>\n",
              "      <td id=\"T_e878b_row0_col2\" class=\"data row0 col2\" >0.033243</td>\n",
              "      <td id=\"T_e878b_row0_col3\" class=\"data row0 col3\" >0.033333</td>\n",
              "      <td id=\"T_e878b_row0_col4\" class=\"data row0 col4\" >0.000008</td>\n",
              "      <td id=\"T_e878b_row0_col5\" class=\"data row0 col5\" >0.000000</td>\n",
              "      <td id=\"T_e878b_row0_col6\" class=\"data row0 col6\" >0.000000</td>\n",
              "      <td id=\"T_e878b_row0_col7\" class=\"data row0 col7\" >0.088838</td>\n",
              "    </tr>\n",
              "    <tr>\n",
              "      <th id=\"T_e878b_level0_row1\" class=\"row_heading level0 row1\" >ode (1)</th>\n",
              "      <td id=\"T_e878b_row1_col0\" class=\"data row1 col0\" >0.009270</td>\n",
              "      <td id=\"T_e878b_row1_col1\" class=\"data row1 col1\" >0.033333</td>\n",
              "      <td id=\"T_e878b_row1_col2\" class=\"data row1 col2\" >0.033243</td>\n",
              "      <td id=\"T_e878b_row1_col3\" class=\"data row1 col3\" >0.033333</td>\n",
              "      <td id=\"T_e878b_row1_col4\" class=\"data row1 col4\" >0.000008</td>\n",
              "      <td id=\"T_e878b_row1_col5\" class=\"data row1 col5\" >0.000000</td>\n",
              "      <td id=\"T_e878b_row1_col6\" class=\"data row1 col6\" >0.000000</td>\n",
              "      <td id=\"T_e878b_row1_col7\" class=\"data row1 col7\" >0.088838</td>\n",
              "    </tr>\n",
              "    <tr>\n",
              "      <th id=\"T_e878b_level0_row2\" class=\"row_heading level0 row2\" > this (2)</th>\n",
              "      <td id=\"T_e878b_row2_col0\" class=\"data row2 col0\" >0.009270</td>\n",
              "      <td id=\"T_e878b_row2_col1\" class=\"data row2 col1\" >0.033333</td>\n",
              "      <td id=\"T_e878b_row2_col2\" class=\"data row2 col2\" >0.033243</td>\n",
              "      <td id=\"T_e878b_row2_col3\" class=\"data row2 col3\" >0.033333</td>\n",
              "      <td id=\"T_e878b_row2_col4\" class=\"data row2 col4\" >0.000008</td>\n",
              "      <td id=\"T_e878b_row2_col5\" class=\"data row2 col5\" >0.000000</td>\n",
              "      <td id=\"T_e878b_row2_col6\" class=\"data row2 col6\" >0.000000</td>\n",
              "      <td id=\"T_e878b_row2_col7\" class=\"data row2 col7\" >0.088838</td>\n",
              "    </tr>\n",
              "    <tr>\n",
              "      <th id=\"T_e878b_level0_row3\" class=\"row_heading level0 row3\" > message (3)</th>\n",
              "      <td id=\"T_e878b_row3_col0\" class=\"data row3 col0\" >0.009270</td>\n",
              "      <td id=\"T_e878b_row3_col1\" class=\"data row3 col1\" >0.033333</td>\n",
              "      <td id=\"T_e878b_row3_col2\" class=\"data row3 col2\" >0.033243</td>\n",
              "      <td id=\"T_e878b_row3_col3\" class=\"data row3 col3\" >0.033333</td>\n",
              "      <td id=\"T_e878b_row3_col4\" class=\"data row3 col4\" >0.000008</td>\n",
              "      <td id=\"T_e878b_row3_col5\" class=\"data row3 col5\" >0.000000</td>\n",
              "      <td id=\"T_e878b_row3_col6\" class=\"data row3 col6\" >0.000000</td>\n",
              "      <td id=\"T_e878b_row3_col7\" class=\"data row3 col7\" >0.088838</td>\n",
              "    </tr>\n",
              "    <tr>\n",
              "      <th id=\"T_e878b_level0_row4\" class=\"row_heading level0 row4\" >. (4)</th>\n",
              "      <td id=\"T_e878b_row4_col0\" class=\"data row4 col0\" >0.009270</td>\n",
              "      <td id=\"T_e878b_row4_col1\" class=\"data row4 col1\" >0.033333</td>\n",
              "      <td id=\"T_e878b_row4_col2\" class=\"data row4 col2\" >0.033243</td>\n",
              "      <td id=\"T_e878b_row4_col3\" class=\"data row4 col3\" >0.033333</td>\n",
              "      <td id=\"T_e878b_row4_col4\" class=\"data row4 col4\" >0.000008</td>\n",
              "      <td id=\"T_e878b_row4_col5\" class=\"data row4 col5\" >0.000000</td>\n",
              "      <td id=\"T_e878b_row4_col6\" class=\"data row4 col6\" >0.000000</td>\n",
              "      <td id=\"T_e878b_row4_col7\" class=\"data row4 col7\" >0.088838</td>\n",
              "    </tr>\n",
              "    <tr>\n",
              "      <th id=\"T_e878b_level0_row5\" class=\"row_heading level0 row5\" > Do (5)</th>\n",
              "      <td id=\"T_e878b_row5_col0\" class=\"data row5 col0\" >0.009270</td>\n",
              "      <td id=\"T_e878b_row5_col1\" class=\"data row5 col1\" >0.033333</td>\n",
              "      <td id=\"T_e878b_row5_col2\" class=\"data row5 col2\" >0.033243</td>\n",
              "      <td id=\"T_e878b_row5_col3\" class=\"data row5 col3\" >0.033333</td>\n",
              "      <td id=\"T_e878b_row5_col4\" class=\"data row5 col4\" >0.000008</td>\n",
              "      <td id=\"T_e878b_row5_col5\" class=\"data row5 col5\" >0.000000</td>\n",
              "      <td id=\"T_e878b_row5_col6\" class=\"data row5 col6\" >0.000000</td>\n",
              "      <td id=\"T_e878b_row5_col7\" class=\"data row5 col7\" >0.088838</td>\n",
              "    </tr>\n",
              "    <tr>\n",
              "      <th id=\"T_e878b_level0_row6\" class=\"row_heading level0 row6\" > not (6)</th>\n",
              "      <td id=\"T_e878b_row6_col0\" class=\"data row6 col0\" >0.009270</td>\n",
              "      <td id=\"T_e878b_row6_col1\" class=\"data row6 col1\" >0.033333</td>\n",
              "      <td id=\"T_e878b_row6_col2\" class=\"data row6 col2\" >0.033243</td>\n",
              "      <td id=\"T_e878b_row6_col3\" class=\"data row6 col3\" >0.033333</td>\n",
              "      <td id=\"T_e878b_row6_col4\" class=\"data row6 col4\" >0.000008</td>\n",
              "      <td id=\"T_e878b_row6_col5\" class=\"data row6 col5\" >0.000000</td>\n",
              "      <td id=\"T_e878b_row6_col6\" class=\"data row6 col6\" >0.000000</td>\n",
              "      <td id=\"T_e878b_row6_col7\" class=\"data row6 col7\" >0.088838</td>\n",
              "    </tr>\n",
              "    <tr>\n",
              "      <th id=\"T_e878b_level0_row7\" class=\"row_heading level0 row7\" > explain (7)</th>\n",
              "      <td id=\"T_e878b_row7_col0\" class=\"data row7 col0\" >0.001192</td>\n",
              "      <td id=\"T_e878b_row7_col1\" class=\"data row7 col1\" >0.046032</td>\n",
              "      <td id=\"T_e878b_row7_col2\" class=\"data row7 col2\" >0.046001</td>\n",
              "      <td id=\"T_e878b_row7_col3\" class=\"data row7 col3\" >0.046032</td>\n",
              "      <td id=\"T_e878b_row7_col4\" class=\"data row7 col4\" >0.034925</td>\n",
              "      <td id=\"T_e878b_row7_col5\" class=\"data row7 col5\" >0.012701</td>\n",
              "      <td id=\"T_e878b_row7_col6\" class=\"data row7 col6\" >0.014304</td>\n",
              "      <td id=\"T_e878b_row7_col7\" class=\"data row7 col7\" >0.286723</td>\n",
              "    </tr>\n",
              "    <tr>\n",
              "      <th id=\"T_e878b_level0_row8\" class=\"row_heading level0 row8\" > further (8)</th>\n",
              "      <td id=\"T_e878b_row8_col0\" class=\"data row8 col0\" >0.049451</td>\n",
              "      <td id=\"T_e878b_row8_col1\" class=\"data row8 col1\" >0.057035</td>\n",
              "      <td id=\"T_e878b_row8_col2\" class=\"data row8 col2\" >0.055202</td>\n",
              "      <td id=\"T_e878b_row8_col3\" class=\"data row8 col3\" >0.055238</td>\n",
              "      <td id=\"T_e878b_row8_col4\" class=\"data row8 col4\" >0.041905</td>\n",
              "      <td id=\"T_e878b_row8_col5\" class=\"data row8 col5\" >0.015241</td>\n",
              "      <td id=\"T_e878b_row8_col6\" class=\"data row8 col6\" >0.017164</td>\n",
              "      <td id=\"T_e878b_row8_col7\" class=\"data row8 col7\" >0.121874</td>\n",
              "    </tr>\n",
              "    <tr>\n",
              "      <th id=\"T_e878b_level0_row9\" class=\"row_heading level0 row9\" >. (9)</th>\n",
              "      <td id=\"T_e878b_row9_col0\" class=\"data row9 col0\" >0.049451</td>\n",
              "      <td id=\"T_e878b_row9_col1\" class=\"data row9 col1\" >0.057035</td>\n",
              "      <td id=\"T_e878b_row9_col2\" class=\"data row9 col2\" >0.055202</td>\n",
              "      <td id=\"T_e878b_row9_col3\" class=\"data row9 col3\" >0.055238</td>\n",
              "      <td id=\"T_e878b_row9_col4\" class=\"data row9 col4\" >0.041905</td>\n",
              "      <td id=\"T_e878b_row9_col5\" class=\"data row9 col5\" >0.015241</td>\n",
              "      <td id=\"T_e878b_row9_col6\" class=\"data row9 col6\" >0.017164</td>\n",
              "      <td id=\"T_e878b_row9_col7\" class=\"data row9 col7\" >0.121874</td>\n",
              "    </tr>\n",
              "    <tr>\n",
              "      <th id=\"T_e878b_level0_row10\" class=\"row_heading level0 row10\" > ' (10)</th>\n",
              "      <td id=\"T_e878b_row10_col0\" class=\"data row10 col0\" >0.043211</td>\n",
              "      <td id=\"T_e878b_row10_col1\" class=\"data row10 col1\" >0.102444</td>\n",
              "      <td id=\"T_e878b_row10_col2\" class=\"data row10 col2\" >0.087668</td>\n",
              "      <td id=\"T_e878b_row10_col3\" class=\"data row10 col3\" >0.087699</td>\n",
              "      <td id=\"T_e878b_row10_col4\" class=\"data row10 col4\" >0.076589</td>\n",
              "      <td id=\"T_e878b_row10_col5\" class=\"data row10 col5\" >0.012762</td>\n",
              "      <td id=\"T_e878b_row10_col6\" class=\"data row10 col6\" >0.014352</td>\n",
              "      <td id=\"T_e878b_row10_col7\" class=\"data row10 col7\" >0.129339</td>\n",
              "    </tr>\n",
              "    <tr>\n",
              "      <th id=\"T_e878b_level0_row11\" class=\"row_heading level0 row11\" >VG (11)</th>\n",
              "      <td id=\"T_e878b_row11_col0\" class=\"data row11 col0\" >0.177965</td>\n",
              "      <td id=\"T_e878b_row11_col1\" class=\"data row11 col1\" >0.262290</td>\n",
              "      <td id=\"T_e878b_row11_col2\" class=\"data row11 col2\" >0.231683</td>\n",
              "      <td id=\"T_e878b_row11_col3\" class=\"data row11 col3\" >0.254365</td>\n",
              "      <td id=\"T_e878b_row11_col4\" class=\"data row11 col4\" >0.243255</td>\n",
              "      <td id=\"T_e878b_row11_col5\" class=\"data row11 col5\" >0.020512</td>\n",
              "      <td id=\"T_e878b_row11_col6\" class=\"data row11 col6\" >0.014352</td>\n",
              "      <td id=\"T_e878b_row11_col7\" class=\"data row11 col7\" >0.129443</td>\n",
              "    </tr>\n",
              "    <tr>\n",
              "      <th id=\"T_e878b_level0_row12\" class=\"row_heading level0 row12\" >hl (12)</th>\n",
              "      <td id=\"T_e878b_row12_col0\" class=\"data row12 col0\" >0.173133</td>\n",
              "      <td id=\"T_e878b_row12_col1\" class=\"data row12 col1\" >0.336656</td>\n",
              "      <td id=\"T_e878b_row12_col2\" class=\"data row12 col2\" >0.087668</td>\n",
              "      <td id=\"T_e878b_row12_col3\" class=\"data row12 col3\" >0.087698</td>\n",
              "      <td id=\"T_e878b_row12_col4\" class=\"data row12 col4\" >0.167519</td>\n",
              "      <td id=\"T_e878b_row12_col5\" class=\"data row12 col5\" >0.088498</td>\n",
              "      <td id=\"T_e878b_row12_col6\" class=\"data row12 col6\" >0.014351</td>\n",
              "      <td id=\"T_e878b_row12_col7\" class=\"data row12 col7\" >0.046031</td>\n",
              "    </tr>\n",
              "    <tr>\n",
              "      <th id=\"T_e878b_level0_row13\" class=\"row_heading level0 row13\" >IG (13)</th>\n",
              "      <td id=\"T_e878b_row13_col0\" class=\"data row13 col0\" >0.129600</td>\n",
              "      <td id=\"T_e878b_row13_col1\" class=\"data row13 col1\" >0.335580</td>\n",
              "      <td id=\"T_e878b_row13_col2\" class=\"data row13 col2\" >0.087668</td>\n",
              "      <td id=\"T_e878b_row13_col3\" class=\"data row13 col3\" >0.087698</td>\n",
              "      <td id=\"T_e878b_row13_col4\" class=\"data row13 col4\" >0.076820</td>\n",
              "      <td id=\"T_e878b_row13_col5\" class=\"data row13 col5\" >0.012761</td>\n",
              "      <td id=\"T_e878b_row13_col6\" class=\"data row13 col6\" >0.014352</td>\n",
              "      <td id=\"T_e878b_row13_col7\" class=\"data row13 col7\" >0.046013</td>\n",
              "    </tr>\n",
              "    <tr>\n",
              "      <th id=\"T_e878b_level0_row14\" class=\"row_heading level0 row14\" >93 (14)</th>\n",
              "      <td id=\"T_e878b_row14_col0\" class=\"data row14 col0\" >0.091055</td>\n",
              "      <td id=\"T_e878b_row14_col1\" class=\"data row14 col1\" >0.350956</td>\n",
              "      <td id=\"T_e878b_row14_col2\" class=\"data row14 col2\" >0.221537</td>\n",
              "      <td id=\"T_e878b_row14_col3\" class=\"data row14 col3\" >0.171861</td>\n",
              "      <td id=\"T_e878b_row14_col4\" class=\"data row14 col4\" >0.180305</td>\n",
              "      <td id=\"T_e878b_row14_col5\" class=\"data row14 col5\" >0.026364</td>\n",
              "      <td id=\"T_e878b_row14_col6\" class=\"data row14 col6\" >0.013350</td>\n",
              "      <td id=\"T_e878b_row14_col7\" class=\"data row14 col7\" >0.020038</td>\n",
              "    </tr>\n",
              "    <tr>\n",
              "      <th id=\"T_e878b_level0_row15\" class=\"row_heading level0 row15\" >b (15)</th>\n",
              "      <td id=\"T_e878b_row15_col0\" class=\"data row15 col0\" >0.043582</td>\n",
              "      <td id=\"T_e878b_row15_col1\" class=\"data row15 col1\" >0.216592</td>\n",
              "      <td id=\"T_e878b_row15_col2\" class=\"data row15 col2\" >0.070291</td>\n",
              "      <td id=\"T_e878b_row15_col3\" class=\"data row15 col3\" >0.072355</td>\n",
              "      <td id=\"T_e878b_row15_col4\" class=\"data row15 col4\" >0.139125</td>\n",
              "      <td id=\"T_e878b_row15_col5\" class=\"data row15 col5\" >0.034365</td>\n",
              "      <td id=\"T_e878b_row15_col6\" class=\"data row15 col6\" >0.014834</td>\n",
              "      <td id=\"T_e878b_row15_col7\" class=\"data row15 col7\" >0.014833</td>\n",
              "    </tr>\n",
              "    <tr>\n",
              "      <th id=\"T_e878b_level0_row16\" class=\"row_heading level0 row16\" >C (16)</th>\n",
              "      <td id=\"T_e878b_row16_col0\" class=\"data row16 col0\" >0.008676</td>\n",
              "      <td id=\"T_e878b_row16_col1\" class=\"data row16 col1\" >0.331160</td>\n",
              "      <td id=\"T_e878b_row16_col2\" class=\"data row16 col2\" >0.125834</td>\n",
              "      <td id=\"T_e878b_row16_col3\" class=\"data row16 col3\" >0.127908</td>\n",
              "      <td id=\"T_e878b_row16_col4\" class=\"data row16 col4\" >0.198125</td>\n",
              "      <td id=\"T_e878b_row16_col5\" class=\"data row16 col5\" >0.034365</td>\n",
              "      <td id=\"T_e878b_row16_col6\" class=\"data row16 col6\" >0.014835</td>\n",
              "      <td id=\"T_e878b_row16_col7\" class=\"data row16 col7\" >0.014835</td>\n",
              "    </tr>\n",
              "    <tr>\n",
              "      <th id=\"T_e878b_level0_row17\" class=\"row_heading level0 row17\" >Bob (17)</th>\n",
              "      <td id=\"T_e878b_row17_col0\" class=\"data row17 col0\" >0.017837</td>\n",
              "      <td id=\"T_e878b_row17_col1\" class=\"data row17 col1\" >0.220205</td>\n",
              "      <td id=\"T_e878b_row17_col2\" class=\"data row17 col2\" >0.205392</td>\n",
              "      <td id=\"T_e878b_row17_col3\" class=\"data row17 col3\" >0.211242</td>\n",
              "      <td id=\"T_e878b_row17_col4\" class=\"data row17 col4\" >0.300551</td>\n",
              "      <td id=\"T_e878b_row17_col5\" class=\"data row17 col5\" >0.062716</td>\n",
              "      <td id=\"T_e878b_row17_col6\" class=\"data row17 col6\" >0.014834</td>\n",
              "      <td id=\"T_e878b_row17_col7\" class=\"data row17 col7\" >0.014826</td>\n",
              "    </tr>\n",
              "    <tr>\n",
              "      <th id=\"T_e878b_level0_row18\" class=\"row_heading level0 row18\" >290 (18)</th>\n",
              "      <td id=\"T_e878b_row18_col0\" class=\"data row18 col0\" >0.020904</td>\n",
              "      <td id=\"T_e878b_row18_col1\" class=\"data row18 col1\" >0.046066</td>\n",
              "      <td id=\"T_e878b_row18_col2\" class=\"data row18 col2\" >0.146280</td>\n",
              "      <td id=\"T_e878b_row18_col3\" class=\"data row18 col3\" >0.155693</td>\n",
              "      <td id=\"T_e878b_row18_col4\" class=\"data row18 col4\" >0.155739</td>\n",
              "      <td id=\"T_e878b_row18_col5\" class=\"data row18 col5\" >0.063200</td>\n",
              "      <td id=\"T_e878b_row18_col6\" class=\"data row18 col6\" >0.014834</td>\n",
              "      <td id=\"T_e878b_row18_col7\" class=\"data row18 col7\" >0.014825</td>\n",
              "    </tr>\n",
              "    <tr>\n",
              "      <th id=\"T_e878b_level0_row19\" class=\"row_heading level0 row19\" >cy (19)</th>\n",
              "      <td id=\"T_e878b_row19_col0\" class=\"data row19 col0\" >0.021755</td>\n",
              "      <td id=\"T_e878b_row19_col1\" class=\"data row19 col1\" >0.044577</td>\n",
              "      <td id=\"T_e878b_row19_col2\" class=\"data row19 col2\" >0.089451</td>\n",
              "      <td id=\"T_e878b_row19_col3\" class=\"data row19 col3\" >0.100132</td>\n",
              "      <td id=\"T_e878b_row19_col4\" class=\"data row19 col4\" >0.102570</td>\n",
              "      <td id=\"T_e878b_row19_col5\" class=\"data row19 col5\" >0.063174</td>\n",
              "      <td id=\"T_e878b_row19_col6\" class=\"data row19 col6\" >0.014834</td>\n",
              "      <td id=\"T_e878b_row19_col7\" class=\"data row19 col7\" >0.014829</td>\n",
              "    </tr>\n",
              "    <tr>\n",
              "      <th id=\"T_e878b_level0_row20\" class=\"row_heading level0 row20\" >B (20)</th>\n",
              "      <td id=\"T_e878b_row20_col0\" class=\"data row20 col0\" >0.010768</td>\n",
              "      <td id=\"T_e878b_row20_col1\" class=\"data row20 col1\" >0.050149</td>\n",
              "      <td id=\"T_e878b_row20_col2\" class=\"data row20 col2\" >0.100552</td>\n",
              "      <td id=\"T_e878b_row20_col3\" class=\"data row20 col3\" >0.112649</td>\n",
              "      <td id=\"T_e878b_row20_col4\" class=\"data row20 col4\" >0.114732</td>\n",
              "      <td id=\"T_e878b_row20_col5\" class=\"data row20 col5\" >0.133567</td>\n",
              "      <td id=\"T_e878b_row20_col6\" class=\"data row20 col6\" >0.016692</td>\n",
              "      <td id=\"T_e878b_row20_col7\" class=\"data row20 col7\" >0.016678</td>\n",
              "    </tr>\n",
              "    <tr>\n",
              "      <th id=\"T_e878b_level0_row21\" class=\"row_heading level0 row21\" >hd (21)</th>\n",
              "      <td id=\"T_e878b_row21_col0\" class=\"data row21 col0\" >0.028942</td>\n",
              "      <td id=\"T_e878b_row21_col1\" class=\"data row21 col1\" >0.021529</td>\n",
              "      <td id=\"T_e878b_row21_col2\" class=\"data row21 col2\" >0.034458</td>\n",
              "      <td id=\"T_e878b_row21_col3\" class=\"data row21 col3\" >0.042361</td>\n",
              "      <td id=\"T_e878b_row21_col4\" class=\"data row21 col4\" >0.042362</td>\n",
              "      <td id=\"T_e878b_row21_col5\" class=\"data row21 col5\" >0.213082</td>\n",
              "      <td id=\"T_e878b_row21_col6\" class=\"data row21 col6\" >0.067378</td>\n",
              "      <td id=\"T_e878b_row21_col7\" class=\"data row21 col7\" >0.029939</td>\n",
              "    </tr>\n",
              "    <tr>\n",
              "      <th id=\"T_e878b_level0_row22\" class=\"row_heading level0 row22\" >CB (22)</th>\n",
              "      <td id=\"T_e878b_row22_col0\" class=\"data row22 col0\" >0.019854</td>\n",
              "      <td id=\"T_e878b_row22_col1\" class=\"data row22 col1\" >0.008334</td>\n",
              "      <td id=\"T_e878b_row22_col2\" class=\"data row22 col2\" >0.002001</td>\n",
              "      <td id=\"T_e878b_row22_col3\" class=\"data row22 col3\" >0.008333</td>\n",
              "      <td id=\"T_e878b_row22_col4\" class=\"data row22 col4\" >0.008336</td>\n",
              "      <td id=\"T_e878b_row22_col5\" class=\"data row22 col5\" >0.207660</td>\n",
              "      <td id=\"T_e878b_row22_col6\" class=\"data row22 col6\" >0.092709</td>\n",
              "      <td id=\"T_e878b_row22_col7\" class=\"data row22 col7\" >0.036565</td>\n",
              "    </tr>\n",
              "    <tr>\n",
              "      <th id=\"T_e878b_level0_row23\" class=\"row_heading level0 row23\" >ta (23)</th>\n",
              "      <td id=\"T_e878b_row23_col0\" class=\"data row23 col0\" >0.023700</td>\n",
              "      <td id=\"T_e878b_row23_col1\" class=\"data row23 col1\" >0.009525</td>\n",
              "      <td id=\"T_e878b_row23_col2\" class=\"data row23 col2\" >0.002287</td>\n",
              "      <td id=\"T_e878b_row23_col3\" class=\"data row23 col3\" >0.009524</td>\n",
              "      <td id=\"T_e878b_row23_col4\" class=\"data row23 col4\" >0.009525</td>\n",
              "      <td id=\"T_e878b_row23_col5\" class=\"data row23 col5\" >0.094470</td>\n",
              "      <td id=\"T_e878b_row23_col6\" class=\"data row23 col6\" >0.224999</td>\n",
              "      <td id=\"T_e878b_row23_col7\" class=\"data row23 col7\" >0.042032</td>\n",
              "    </tr>\n",
              "    <tr>\n",
              "      <th id=\"T_e878b_level0_row24\" class=\"row_heading level0 row24\" >WR (24)</th>\n",
              "      <td id=\"T_e878b_row24_col0\" class=\"data row24 col0\" >0.023700</td>\n",
              "      <td id=\"T_e878b_row24_col1\" class=\"data row24 col1\" >0.009525</td>\n",
              "      <td id=\"T_e878b_row24_col2\" class=\"data row24 col2\" >0.002287</td>\n",
              "      <td id=\"T_e878b_row24_col3\" class=\"data row24 col3\" >0.009524</td>\n",
              "      <td id=\"T_e878b_row24_col4\" class=\"data row24 col4\" >0.009525</td>\n",
              "      <td id=\"T_e878b_row24_col5\" class=\"data row24 col5\" >0.094470</td>\n",
              "      <td id=\"T_e878b_row24_col6\" class=\"data row24 col6\" >0.224999</td>\n",
              "      <td id=\"T_e878b_row24_col7\" class=\"data row24 col7\" >0.042032</td>\n",
              "    </tr>\n",
              "    <tr>\n",
              "      <th id=\"T_e878b_level0_row25\" class=\"row_heading level0 row25\" >ua (25)</th>\n",
              "      <td id=\"T_e878b_row25_col0\" class=\"data row25 col0\" >0.039519</td>\n",
              "      <td id=\"T_e878b_row25_col1\" class=\"data row25 col1\" >0.011113</td>\n",
              "      <td id=\"T_e878b_row25_col2\" class=\"data row25 col2\" >0.002668</td>\n",
              "      <td id=\"T_e878b_row25_col3\" class=\"data row25 col3\" >0.011111</td>\n",
              "      <td id=\"T_e878b_row25_col4\" class=\"data row25 col4\" >0.011112</td>\n",
              "      <td id=\"T_e878b_row25_col5\" class=\"data row25 col5\" >0.068552</td>\n",
              "      <td id=\"T_e878b_row25_col6\" class=\"data row25 col6\" >0.170531</td>\n",
              "      <td id=\"T_e878b_row25_col7\" class=\"data row25 col7\" >0.087220</td>\n",
              "    </tr>\n",
              "    <tr>\n",
              "      <th id=\"T_e878b_level0_row26\" class=\"row_heading level0 row26\" >W (26)</th>\n",
              "      <td id=\"T_e878b_row26_col0\" class=\"data row26 col0\" >0.058120</td>\n",
              "      <td id=\"T_e878b_row26_col1\" class=\"data row26 col1\" >0.011114</td>\n",
              "      <td id=\"T_e878b_row26_col2\" class=\"data row26 col2\" >0.002668</td>\n",
              "      <td id=\"T_e878b_row26_col3\" class=\"data row26 col3\" >0.011111</td>\n",
              "      <td id=\"T_e878b_row26_col4\" class=\"data row26 col4\" >0.011113</td>\n",
              "      <td id=\"T_e878b_row26_col5\" class=\"data row26 col5\" >0.035219</td>\n",
              "      <td id=\"T_e878b_row26_col6\" class=\"data row26 col6\" >0.081654</td>\n",
              "      <td id=\"T_e878b_row26_col7\" class=\"data row26 col7\" >0.136564</td>\n",
              "    </tr>\n",
              "    <tr>\n",
              "      <th id=\"T_e878b_level0_row27\" class=\"row_heading level0 row27\" >d (27)</th>\n",
              "      <td id=\"T_e878b_row27_col0\" class=\"data row27 col0\" >0.058120</td>\n",
              "      <td id=\"T_e878b_row27_col1\" class=\"data row27 col1\" >0.011114</td>\n",
              "      <td id=\"T_e878b_row27_col2\" class=\"data row27 col2\" >0.002668</td>\n",
              "      <td id=\"T_e878b_row27_col3\" class=\"data row27 col3\" >0.011111</td>\n",
              "      <td id=\"T_e878b_row27_col4\" class=\"data row27 col4\" >0.011113</td>\n",
              "      <td id=\"T_e878b_row27_col5\" class=\"data row27 col5\" >0.035219</td>\n",
              "      <td id=\"T_e878b_row27_col6\" class=\"data row27 col6\" >0.081654</td>\n",
              "      <td id=\"T_e878b_row27_col7\" class=\"data row27 col7\" >0.136564</td>\n",
              "    </tr>\n",
              "    <tr>\n",
              "      <th id=\"T_e878b_level0_row28\" class=\"row_heading level0 row28\" >od (28)</th>\n",
              "      <td id=\"T_e878b_row28_col0\" class=\"data row28 col0\" >0.101851</td>\n",
              "      <td id=\"T_e878b_row28_col1\" class=\"data row28 col1\" >0.008378</td>\n",
              "      <td id=\"T_e878b_row28_col2\" class=\"data row28 col2\" >0.002001</td>\n",
              "      <td id=\"T_e878b_row28_col3\" class=\"data row28 col3\" >0.008334</td>\n",
              "      <td id=\"T_e878b_row28_col4\" class=\"data row28 col4\" >0.008335</td>\n",
              "      <td id=\"T_e878b_row28_col5\" class=\"data row28 col5\" >0.026414</td>\n",
              "      <td id=\"T_e878b_row28_col6\" class=\"data row28 col6\" >0.061262</td>\n",
              "      <td id=\"T_e878b_row28_col7\" class=\"data row28 col7\" >0.175353</td>\n",
              "    </tr>\n",
              "    <tr>\n",
              "      <th id=\"T_e878b_level0_row29\" class=\"row_heading level0 row29\" >CE (29)</th>\n",
              "      <td id=\"T_e878b_row29_col0\" class=\"data row29 col0\" >0.104532</td>\n",
              "      <td id=\"T_e878b_row29_col1\" class=\"data row29 col1\" >0.000056</td>\n",
              "      <td id=\"T_e878b_row29_col2\" class=\"data row29 col2\" >0.000000</td>\n",
              "      <td id=\"T_e878b_row29_col3\" class=\"data row29 col3\" >0.000000</td>\n",
              "      <td id=\"T_e878b_row29_col4\" class=\"data row29 col4\" >0.000000</td>\n",
              "      <td id=\"T_e878b_row29_col5\" class=\"data row29 col5\" >0.003274</td>\n",
              "      <td id=\"T_e878b_row29_col6\" class=\"data row29 col6\" >0.016679</td>\n",
              "      <td id=\"T_e878b_row29_col7\" class=\"data row29 col7\" >0.411107</td>\n",
              "    </tr>\n",
              "    <tr>\n",
              "      <th id=\"T_e878b_level0_row30\" class=\"row_heading level0 row30\" >=' (30)</th>\n",
              "      <td id=\"T_e878b_row30_col0\" class=\"data row30 col0\" >0.066048</td>\n",
              "      <td id=\"T_e878b_row30_col1\" class=\"data row30 col1\" >0.000057</td>\n",
              "      <td id=\"T_e878b_row30_col2\" class=\"data row30 col2\" >0.000000</td>\n",
              "      <td id=\"T_e878b_row30_col3\" class=\"data row30 col3\" >0.000000</td>\n",
              "      <td id=\"T_e878b_row30_col4\" class=\"data row30 col4\" >0.000001</td>\n",
              "      <td id=\"T_e878b_row30_col5\" class=\"data row30 col5\" >0.003274</td>\n",
              "      <td id=\"T_e878b_row30_col6\" class=\"data row30 col6\" >0.016677</td>\n",
              "      <td id=\"T_e878b_row30_col7\" class=\"data row30 col7\" >0.244450</td>\n",
              "    </tr>\n",
              "  </tbody>\n",
              "</table>\n"
            ],
            "text/plain": [
              "<pandas.io.formats.style.Styler at 0x177008140>"
            ]
          },
          "metadata": {},
          "output_type": "display_data"
        }
      ],
      "source": [
        "logger.print_text_attribution_matrix(exp_id=-1)\n",
        "logger.print_attribution_matrix(exp_id=-1)"
      ]
    },
    {
      "cell_type": "markdown",
      "metadata": {},
      "source": [
        "\n",
        "That's all for now. We implement a few other attribution and perturbation methods, each with different properties. Check out the README, and do your own experiments – PIZZA is a work in progress and we welcome contributions. "
      ]
    },
    {
      "cell_type": "code",
      "execution_count": null,
      "metadata": {},
      "outputs": [
        {
          "data": {
            "text/html": [
              "<div>\n",
              "<style scoped>\n",
              "    .dataframe tbody tr th:only-of-type {\n",
              "        vertical-align: middle;\n",
              "    }\n",
              "\n",
              "    .dataframe tbody tr th {\n",
              "        vertical-align: top;\n",
              "    }\n",
              "\n",
              "    .dataframe thead th {\n",
              "        text-align: right;\n",
              "    }\n",
              "</style>\n",
              "<table border=\"1\" class=\"dataframe\">\n",
              "  <thead>\n",
              "    <tr style=\"text-align: right;\">\n",
              "      <th></th>\n",
              "      <th>exp_id</th>\n",
              "      <th>original_input</th>\n",
              "      <th>original_output</th>\n",
              "      <th>perturbation_strategy</th>\n",
              "      <th>unit_definition</th>\n",
              "      <th>duration</th>\n",
              "      <th>num_llm_calls</th>\n",
              "    </tr>\n",
              "  </thead>\n",
              "  <tbody>\n",
              "    <tr>\n",
              "      <th>0</th>\n",
              "      <td>1</td>\n",
              "      <td>Do not go gentle</td>\n",
              "      <td>into that good night,\\n</td>\n",
              "      <td>fixed</td>\n",
              "      <td>token</td>\n",
              "      <td>4.64566</td>\n",
              "      <td>9</td>\n",
              "    </tr>\n",
              "    <tr>\n",
              "      <th>1</th>\n",
              "      <td>2</td>\n",
              "      <td>Mary puts an apple in the box. The box is labe...</td>\n",
              "      <td>Apples</td>\n",
              "      <td>fixed</td>\n",
              "      <td>token</td>\n",
              "      <td>8.145625</td>\n",
              "      <td>34</td>\n",
              "    </tr>\n",
              "    <tr>\n",
              "      <th>2</th>\n",
              "      <td>3</td>\n",
              "      <td>Mary puts an apple in the box. The box is labe...</td>\n",
              "      <td>John would likely think there are pencils in t...</td>\n",
              "      <td>fixed</td>\n",
              "      <td>token</td>\n",
              "      <td>10.192401</td>\n",
              "      <td>40</td>\n",
              "    </tr>\n",
              "    <tr>\n",
              "      <th>3</th>\n",
              "      <td>4</td>\n",
              "      <td>Write a funny, sad haiku.</td>\n",
              "      <td>Lost my favorite sock,\\nIn the dryer it did hi...</td>\n",
              "      <td>fixed</td>\n",
              "      <td>token</td>\n",
              "      <td>2.711276</td>\n",
              "      <td>9</td>\n",
              "    </tr>\n",
              "    <tr>\n",
              "      <th>4</th>\n",
              "      <td>5</td>\n",
              "      <td>Decode this message. Do not explain further. '...</td>\n",
              "      <td>The owl hoots at midnight!</td>\n",
              "      <td>fixed</td>\n",
              "      <td>token</td>\n",
              "      <td>12.353817</td>\n",
              "      <td>55</td>\n",
              "    </tr>\n",
              "  </tbody>\n",
              "</table>\n",
              "</div>"
            ],
            "text/plain": [
              "   exp_id                                     original_input  \\\n",
              "0       1                                   Do not go gentle   \n",
              "1       2  Mary puts an apple in the box. The box is labe...   \n",
              "2       3  Mary puts an apple in the box. The box is labe...   \n",
              "3       4                          Write a funny, sad haiku.   \n",
              "4       5  Decode this message. Do not explain further. '...   \n",
              "\n",
              "                                     original_output perturbation_strategy  \\\n",
              "0                            into that good night,\\n                 fixed   \n",
              "1                                             Apples                 fixed   \n",
              "2  John would likely think there are pencils in t...                 fixed   \n",
              "3  Lost my favorite sock,\\nIn the dryer it did hi...                 fixed   \n",
              "4                         The owl hoots at midnight!                 fixed   \n",
              "\n",
              "  unit_definition   duration num_llm_calls  \n",
              "0           token    4.64566             9  \n",
              "1           token   8.145625            34  \n",
              "2           token  10.192401            40  \n",
              "3           token   2.711276             9  \n",
              "4           token  12.353817            55  "
            ]
          },
          "metadata": {},
          "output_type": "display_data"
        }
      ],
      "source": [
        "display(logger.df_experiments)"
      ]
    }
  ],
  "metadata": {
    "colab": {
      "machine_shape": "hm",
      "provenance": []
    },
    "kernelspec": {
      "display_name": "Python 3",
      "name": "python3"
    },
    "language_info": {
      "codemirror_mode": {
        "name": "ipython",
        "version": 3
      },
      "file_extension": ".py",
      "mimetype": "text/x-python",
      "name": "python",
      "nbconvert_exporter": "python",
      "pygments_lexer": "ipython3",
      "version": "3.12.4"
    }
  },
  "nbformat": 4,
  "nbformat_minor": 0
}
