{
  "cells": [
    {
      "cell_type": "markdown",
      "metadata": {
        "id": "ut3kR2GkpSk6"
      },
      "source": [
        "## PIZZA: An Open Source Library for Closed LLM Attribution (or “why did ChatGPT say that?”)"
      ]
    },
    {
      "cell_type": "code",
      "execution_count": 46,
      "metadata": {},
      "outputs": [],
      "source": [
        "# Set your open ai API key\n",
        "# BEWARE: This will cost you API credits!\n",
        "YOUR_OPENAI_API_KEY = None"
      ]
    },
    {
      "cell_type": "code",
      "execution_count": 47,
      "metadata": {},
      "outputs": [],
      "source": [
        "import warnings\n",
        "\n",
        "# Suppress annoying FutureWarning from huggingface_hub\n",
        "warnings.filterwarnings(\"ignore\", category=FutureWarning, module=\"huggingface_hub\")"
      ]
    },
    {
      "cell_type": "code",
      "execution_count": 41,
      "metadata": {},
      "outputs": [
        {
          "name": "stdout",
          "output_type": "stream",
          "text": [
            "The autoreload extension is already loaded. To reload it, use:\n",
            "  %reload_ext autoreload\n"
          ]
        }
      ],
      "source": [
        "# Re-import modified modules without restarting the server\n",
        "%load_ext autoreload\n",
        "%autoreload 2"
      ]
    },
    {
      "cell_type": "code",
      "execution_count": 42,
      "metadata": {},
      "outputs": [],
      "source": [
        "from attribution.api_attribution import OpenAIAttributor\n",
        "from attribution.experiment_logger import ExperimentLogger\n",
        "from attribution.token_perturbation import FixedPerturbationStrategy"
      ]
    },
    {
      "cell_type": "code",
      "execution_count": 43,
      "metadata": {
        "colab": {
          "base_uri": "https://localhost:8080/"
        },
        "id": "S_SoQ7FLUZ-T",
        "outputId": "a6d7300c-a92d-4a1e-bbd9-a8715a2beb6d"
      },
      "outputs": [],
      "source": [
        "gpt3_5_attributor = OpenAIAttributor(\n",
        "    openai_api_key=YOUR_OPENAI_API_KEY, max_concurrent_requests=5, openai_model=\"gpt-3.5-turbo\"\n",
        ")\n",
        "\n",
        "gpt4_attributor = OpenAIAttributor(\n",
        "    openai_api_key=YOUR_OPENAI_API_KEY, max_concurrent_requests=5, openai_model=\"gpt-4o\"\n",
        ")"
      ]
    },
    {
      "cell_type": "markdown",
      "metadata": {},
      "source": [
        "# Prompt Engineering"
      ]
    },
    {
      "cell_type": "code",
      "execution_count": 44,
      "metadata": {},
      "outputs": [
        {
          "name": "stdout",
          "output_type": "stream",
          "text": [
            "Mary puts an apple in the box. The box is labelled 'pencils'. John enters the room. What does he think is in the box? Answer in 1 word.\n",
            "GPT3.5: Apples\n",
            "GPT4: Pencils.\n"
          ]
        }
      ],
      "source": [
        "input_str = \"Mary puts an apple in the box. The box is labelled 'pencils'. John enters the room. What does he think is in the box? Answer in 1 word.\"\n",
        "\n",
        "gpt3_5_response = await gpt3_5_attributor.get_chat_completion(input_str)\n",
        "gpt4_response = await gpt4_attributor.get_chat_completion(input_str)\n",
        "\n",
        "print(input_str)\n",
        "print(\"GPT3.5:\", gpt3_5_response.message.content)\n",
        "print(\"GPT4:\", gpt4_response.message.content)"
      ]
    },
    {
      "cell_type": "markdown",
      "metadata": {},
      "source": [
        "GPT3.5 not so hot with the theory of mind there. Let's look in more detail."
      ]
    },
    {
      "cell_type": "code",
      "execution_count": 45,
      "metadata": {},
      "outputs": [
        {
          "name": "stdout",
          "output_type": "stream",
          "text": [
            "I apologize for the mistake in my response. John would likely think there are pencils in the box, based on the label.\n"
          ]
        }
      ],
      "source": [
        "# Bit hacky to get model explanation\n",
        "user_request = \"Why did you say that?\"\n",
        "model_explanation = await gpt3_5_attributor.openai_client.chat.completions.create(\n",
        "    model=gpt3_5_attributor.openai_model,\n",
        "    messages=[\n",
        "        {\"role\": \"user\", \"content\": input_str},\n",
        "        {\"role\": \"assistant\", \"content\": gpt3_5_response.message.content},\n",
        "        {\"role\": \"user\", \"content\": user_request},\n",
        "    ],\n",
        "    temperature=0.0,\n",
        "    seed=0,\n",
        "    logprobs=True,\n",
        "    top_logprobs=20,\n",
        ")\n",
        "print(model_explanation.choices[0].message.content)"
      ]
    },
    {
      "cell_type": "markdown",
      "metadata": {},
      "source": [
        "That's not very helpful! We want to know _why_ the mistake was made in the first place."
      ]
    },
    {
      "cell_type": "code",
      "execution_count": 30,
      "metadata": {},
      "outputs": [
        {
          "name": "stderr",
          "output_type": "stream",
          "text": [
            "Sending 5 concurrent requests at a time: 100%|██████████| 2/2 [00:01<00:00,  1.35it/s]\n",
            "Sending 5 concurrent requests at a time: 100%|██████████| 3/3 [00:01<00:00,  2.13it/s]\n",
            "Sending 5 concurrent requests at a time: 100%|██████████| 4/4 [00:01<00:00,  3.14it/s]\n",
            "Sending 5 concurrent requests at a time: 100%|██████████| 2/2 [00:01<00:00,  1.74it/s]"
          ]
        },
        {
          "name": "stdout",
          "output_type": "stream",
          "text": [
            "GPT3.5 Attribution:\n"
          ]
        },
        {
          "name": "stderr",
          "output_type": "stream",
          "text": [
            "\n"
          ]
        },
        {
          "data": {
            "text/html": [
              "<div style=\"font-family: monospace;\"><span style=\"text-decoration: underline; text-decoration-color: #c83836; text-decoration-thickness: 4px;\">Mary</span><span style=\"text-decoration: underline; text-decoration-color: #e67259; text-decoration-thickness: 4px;\"> puts</span><span style=\"text-decoration: underline; text-decoration-color: #f7af91; text-decoration-thickness: 4px;\"> an</span><span style=\"text-decoration: underline; text-decoration-color: #b40426; text-decoration-thickness: 4px;\"> apple</span><span style=\"text-decoration: underline; text-decoration-color: #f49a7b; text-decoration-thickness: 4px;\"> in</span><span style=\"text-decoration: underline; text-decoration-color: #f39778; text-decoration-thickness: 4px;\"> the</span><span style=\"text-decoration: underline; text-decoration-color: #f2cbb7; text-decoration-thickness: 4px;\"> box</span><span style=\"text-decoration: underline; text-decoration-color: #f2cbb7; text-decoration-thickness: 4px;\">.</span><span style=\"text-decoration: underline; text-decoration-color: #f2cbb7; text-decoration-thickness: 4px;\"> The</span><span style=\"text-decoration: underline; text-decoration-color: #f4c6af; text-decoration-thickness: 4px;\"> box</span><span style=\"text-decoration: underline; text-decoration-color: #f4c6af; text-decoration-thickness: 4px;\"> is</span><span style=\"text-decoration: underline; text-decoration-color: #f4c5ad; text-decoration-thickness: 4px;\"> labelled</span><span style=\"text-decoration: underline; text-decoration-color: #f4c5ad; text-decoration-thickness: 4px;\"> '</span><span style=\"text-decoration: underline; text-decoration-color: #f5c4ac; text-decoration-thickness: 4px;\">pen</span><span style=\"text-decoration: underline; text-decoration-color: #f5c4ac; text-decoration-thickness: 4px;\">cil</span><span style=\"text-decoration: underline; text-decoration-color: #f5c4ac; text-decoration-thickness: 4px;\">s</span><span style=\"text-decoration: underline; text-decoration-color: #f5c4ac; text-decoration-thickness: 4px;\">'.</span><span style=\"text-decoration: underline; text-decoration-color: #f5c4ac; text-decoration-thickness: 4px;\"> John</span><span style=\"text-decoration: underline; text-decoration-color: #e8d6cc; text-decoration-thickness: 4px;\"> enters</span><span style=\"text-decoration: underline; text-decoration-color: #e8d6cc; text-decoration-thickness: 4px;\"> the</span><span style=\"text-decoration: underline; text-decoration-color: #e8d6cc; text-decoration-thickness: 4px;\"> room</span><span style=\"text-decoration: underline; text-decoration-color: #e8d6cc; text-decoration-thickness: 4px;\">.</span><span style=\"text-decoration: underline; text-decoration-color: #e8d6cc; text-decoration-thickness: 4px;\"> What</span><span style=\"text-decoration: underline; text-decoration-color: #e8d6cc; text-decoration-thickness: 4px;\"> does</span><span style=\"text-decoration: underline; text-decoration-color: #e8d6cc; text-decoration-thickness: 4px;\"> he</span><span style=\"text-decoration: underline; text-decoration-color: #e8d6cc; text-decoration-thickness: 4px;\"> think</span><span style=\"text-decoration: underline; text-decoration-color: #e8d6cc; text-decoration-thickness: 4px;\"> is</span><span style=\"text-decoration: underline; text-decoration-color: #d1493f; text-decoration-thickness: 4px;\"> in</span><span style=\"text-decoration: underline; text-decoration-color: #f7b497; text-decoration-thickness: 4px;\"> the</span><span style=\"text-decoration: underline; text-decoration-color: #f49a7b; text-decoration-thickness: 4px;\"> box</span><span style=\"text-decoration: underline; text-decoration-color: #f7b497; text-decoration-thickness: 4px;\">?</span><span style=\"text-decoration: underline; text-decoration-color: #f4c6af; text-decoration-thickness: 4px;\"> Answer</span><span style=\"text-decoration: underline; text-decoration-color: #f4c6af; text-decoration-thickness: 4px;\"> in</span><span style=\"text-decoration: underline; text-decoration-color: #d75445; text-decoration-thickness: 4px;\"> 1</span><span style=\"text-decoration: underline; text-decoration-color: #cc403a; text-decoration-thickness: 4px;\"> word</span><span style=\"text-decoration: underline; text-decoration-color: #f7a688; text-decoration-thickness: 4px;\">.</span> -> <b>Apples</b></div>"
            ],
            "text/plain": [
              "<IPython.core.display.HTML object>"
            ]
          },
          "metadata": {},
          "output_type": "display_data"
        },
        {
          "data": {
            "text/html": [
              "<style type=\"text/css\">\n",
              "#T_66f31_row0_col0, #T_66f31_row0_col1, #T_66f31_row0_col2, #T_66f31_row0_col3, #T_66f31_row0_col4, #T_66f31_row0_col5, #T_66f31_row0_col6, #T_66f31_row0_col7, #T_66f31_row0_col8, #T_66f31_row0_col9, #T_66f31_row0_col10, #T_66f31_row0_col11, #T_66f31_row0_col12, #T_66f31_row0_col13, #T_66f31_row0_col14, #T_66f31_row0_col15, #T_66f31_row0_col16, #T_66f31_row0_col17, #T_66f31_row0_col18, #T_66f31_row0_col19, #T_66f31_row0_col20, #T_66f31_row0_col21, #T_66f31_row0_col22, #T_66f31_row0_col23, #T_66f31_row0_col24, #T_66f31_row0_col25, #T_66f31_row0_col26, #T_66f31_row0_col27, #T_66f31_row0_col28, #T_66f31_row0_col29, #T_66f31_row0_col30, #T_66f31_row0_col31, #T_66f31_row0_col32, #T_66f31_row0_col33, #T_66f31_row0_col34, #T_66f31_row0_col35, #T_66f31_row0_col36, #T_66f31_row0_col37, #T_66f31_row0_col38, #T_66f31_row0_col39 {\n",
              "  white-space: pre-wrap;\n",
              "}\n",
              "</style>\n",
              "<table id=\"T_66f31\">\n",
              "  <thead>\n",
              "    <tr>\n",
              "      <th class=\"blank level0\" >&nbsp;</th>\n",
              "      <th id=\"T_66f31_level0_col0\" class=\"col_heading level0 col0\" >exp_id</th>\n",
              "      <th id=\"T_66f31_level0_col1\" class=\"col_heading level0 col1\" >attribution_strategy</th>\n",
              "      <th id=\"T_66f31_level0_col2\" class=\"col_heading level0 col2\" >perturbation_strategy</th>\n",
              "      <th id=\"T_66f31_level0_col3\" class=\"col_heading level0 col3\" >unit_definition</th>\n",
              "      <th id=\"T_66f31_level0_col4\" class=\"col_heading level0 col4\" >token_1</th>\n",
              "      <th id=\"T_66f31_level0_col5\" class=\"col_heading level0 col5\" >token_2</th>\n",
              "      <th id=\"T_66f31_level0_col6\" class=\"col_heading level0 col6\" >token_3</th>\n",
              "      <th id=\"T_66f31_level0_col7\" class=\"col_heading level0 col7\" >token_4</th>\n",
              "      <th id=\"T_66f31_level0_col8\" class=\"col_heading level0 col8\" >token_5</th>\n",
              "      <th id=\"T_66f31_level0_col9\" class=\"col_heading level0 col9\" >token_6</th>\n",
              "      <th id=\"T_66f31_level0_col10\" class=\"col_heading level0 col10\" >token_7</th>\n",
              "      <th id=\"T_66f31_level0_col11\" class=\"col_heading level0 col11\" >token_8</th>\n",
              "      <th id=\"T_66f31_level0_col12\" class=\"col_heading level0 col12\" >token_9</th>\n",
              "      <th id=\"T_66f31_level0_col13\" class=\"col_heading level0 col13\" >token_10</th>\n",
              "      <th id=\"T_66f31_level0_col14\" class=\"col_heading level0 col14\" >token_11</th>\n",
              "      <th id=\"T_66f31_level0_col15\" class=\"col_heading level0 col15\" >token_12</th>\n",
              "      <th id=\"T_66f31_level0_col16\" class=\"col_heading level0 col16\" >token_13</th>\n",
              "      <th id=\"T_66f31_level0_col17\" class=\"col_heading level0 col17\" >token_14</th>\n",
              "      <th id=\"T_66f31_level0_col18\" class=\"col_heading level0 col18\" >token_15</th>\n",
              "      <th id=\"T_66f31_level0_col19\" class=\"col_heading level0 col19\" >token_16</th>\n",
              "      <th id=\"T_66f31_level0_col20\" class=\"col_heading level0 col20\" >token_17</th>\n",
              "      <th id=\"T_66f31_level0_col21\" class=\"col_heading level0 col21\" >token_18</th>\n",
              "      <th id=\"T_66f31_level0_col22\" class=\"col_heading level0 col22\" >token_19</th>\n",
              "      <th id=\"T_66f31_level0_col23\" class=\"col_heading level0 col23\" >token_20</th>\n",
              "      <th id=\"T_66f31_level0_col24\" class=\"col_heading level0 col24\" >token_21</th>\n",
              "      <th id=\"T_66f31_level0_col25\" class=\"col_heading level0 col25\" >token_22</th>\n",
              "      <th id=\"T_66f31_level0_col26\" class=\"col_heading level0 col26\" >token_23</th>\n",
              "      <th id=\"T_66f31_level0_col27\" class=\"col_heading level0 col27\" >token_24</th>\n",
              "      <th id=\"T_66f31_level0_col28\" class=\"col_heading level0 col28\" >token_25</th>\n",
              "      <th id=\"T_66f31_level0_col29\" class=\"col_heading level0 col29\" >token_26</th>\n",
              "      <th id=\"T_66f31_level0_col30\" class=\"col_heading level0 col30\" >token_27</th>\n",
              "      <th id=\"T_66f31_level0_col31\" class=\"col_heading level0 col31\" >token_28</th>\n",
              "      <th id=\"T_66f31_level0_col32\" class=\"col_heading level0 col32\" >token_29</th>\n",
              "      <th id=\"T_66f31_level0_col33\" class=\"col_heading level0 col33\" >token_30</th>\n",
              "      <th id=\"T_66f31_level0_col34\" class=\"col_heading level0 col34\" >token_31</th>\n",
              "      <th id=\"T_66f31_level0_col35\" class=\"col_heading level0 col35\" >token_32</th>\n",
              "      <th id=\"T_66f31_level0_col36\" class=\"col_heading level0 col36\" >token_33</th>\n",
              "      <th id=\"T_66f31_level0_col37\" class=\"col_heading level0 col37\" >token_34</th>\n",
              "      <th id=\"T_66f31_level0_col38\" class=\"col_heading level0 col38\" >token_35</th>\n",
              "      <th id=\"T_66f31_level0_col39\" class=\"col_heading level0 col39\" >token_36</th>\n",
              "    </tr>\n",
              "  </thead>\n",
              "  <tbody>\n",
              "    <tr>\n",
              "      <th id=\"T_66f31_level0_row0\" class=\"row_heading level0 row0\" >0</th>\n",
              "      <td id=\"T_66f31_row0_col0\" class=\"data row0 col0\" >1</td>\n",
              "      <td id=\"T_66f31_row0_col1\" class=\"data row0 col1\" >prob_diff</td>\n",
              "      <td id=\"T_66f31_row0_col2\" class=\"data row0 col2\" >fixed</td>\n",
              "      <td id=\"T_66f31_row0_col3\" class=\"data row0 col3\" >token</td>\n",
              "      <td id=\"T_66f31_row0_col4\" class=\"data row0 col4\" >Mary\n",
              "0.31</td>\n",
              "      <td id=\"T_66f31_row0_col5\" class=\"data row0 col5\" > puts\n",
              "0.24</td>\n",
              "      <td id=\"T_66f31_row0_col6\" class=\"data row0 col6\" > an\n",
              "0.14</td>\n",
              "      <td id=\"T_66f31_row0_col7\" class=\"data row0 col7\" > apple\n",
              "0.35</td>\n",
              "      <td id=\"T_66f31_row0_col8\" class=\"data row0 col8\" > in\n",
              "0.17</td>\n",
              "      <td id=\"T_66f31_row0_col9\" class=\"data row0 col9\" > the\n",
              "0.18</td>\n",
              "      <td id=\"T_66f31_row0_col10\" class=\"data row0 col10\" > box\n",
              "0.07</td>\n",
              "      <td id=\"T_66f31_row0_col11\" class=\"data row0 col11\" >.\n",
              "0.07</td>\n",
              "      <td id=\"T_66f31_row0_col12\" class=\"data row0 col12\" > The\n",
              "0.07</td>\n",
              "      <td id=\"T_66f31_row0_col13\" class=\"data row0 col13\" > box\n",
              "0.08</td>\n",
              "      <td id=\"T_66f31_row0_col14\" class=\"data row0 col14\" > is\n",
              "0.08</td>\n",
              "      <td id=\"T_66f31_row0_col15\" class=\"data row0 col15\" > labelled\n",
              "0.09</td>\n",
              "      <td id=\"T_66f31_row0_col16\" class=\"data row0 col16\" > '\n",
              "0.09</td>\n",
              "      <td id=\"T_66f31_row0_col17\" class=\"data row0 col17\" >pen\n",
              "0.09</td>\n",
              "      <td id=\"T_66f31_row0_col18\" class=\"data row0 col18\" >cil\n",
              "0.09</td>\n",
              "      <td id=\"T_66f31_row0_col19\" class=\"data row0 col19\" >s\n",
              "0.09</td>\n",
              "      <td id=\"T_66f31_row0_col20\" class=\"data row0 col20\" >'.\n",
              "0.09</td>\n",
              "      <td id=\"T_66f31_row0_col21\" class=\"data row0 col21\" > John\n",
              "0.09</td>\n",
              "      <td id=\"T_66f31_row0_col22\" class=\"data row0 col22\" > enters\n",
              "0.03</td>\n",
              "      <td id=\"T_66f31_row0_col23\" class=\"data row0 col23\" > the\n",
              "0.03</td>\n",
              "      <td id=\"T_66f31_row0_col24\" class=\"data row0 col24\" > room\n",
              "0.03</td>\n",
              "      <td id=\"T_66f31_row0_col25\" class=\"data row0 col25\" >.\n",
              "0.03</td>\n",
              "      <td id=\"T_66f31_row0_col26\" class=\"data row0 col26\" > What\n",
              "0.03</td>\n",
              "      <td id=\"T_66f31_row0_col27\" class=\"data row0 col27\" > does\n",
              "0.03</td>\n",
              "      <td id=\"T_66f31_row0_col28\" class=\"data row0 col28\" > he\n",
              "0.03</td>\n",
              "      <td id=\"T_66f31_row0_col29\" class=\"data row0 col29\" > think\n",
              "0.03</td>\n",
              "      <td id=\"T_66f31_row0_col30\" class=\"data row0 col30\" > is\n",
              "0.03</td>\n",
              "      <td id=\"T_66f31_row0_col31\" class=\"data row0 col31\" > in\n",
              "0.29</td>\n",
              "      <td id=\"T_66f31_row0_col32\" class=\"data row0 col32\" > the\n",
              "0.12</td>\n",
              "      <td id=\"T_66f31_row0_col33\" class=\"data row0 col33\" > box\n",
              "0.17</td>\n",
              "      <td id=\"T_66f31_row0_col34\" class=\"data row0 col34\" >?\n",
              "0.13</td>\n",
              "      <td id=\"T_66f31_row0_col35\" class=\"data row0 col35\" > Answer\n",
              "0.09</td>\n",
              "      <td id=\"T_66f31_row0_col36\" class=\"data row0 col36\" > in\n",
              "0.09</td>\n",
              "      <td id=\"T_66f31_row0_col37\" class=\"data row0 col37\" > 1\n",
              "0.28</td>\n",
              "      <td id=\"T_66f31_row0_col38\" class=\"data row0 col38\" > word\n",
              "0.30</td>\n",
              "      <td id=\"T_66f31_row0_col39\" class=\"data row0 col39\" >.\n",
              "0.15</td>\n",
              "    </tr>\n",
              "  </tbody>\n",
              "</table>\n"
            ],
            "text/plain": [
              "<pandas.io.formats.style.Styler at 0x2bd01aaa0>"
            ]
          },
          "metadata": {},
          "output_type": "display_data"
        }
      ],
      "source": [
        "gpt3_5_logger = ExperimentLogger()\n",
        "await gpt3_5_attributor.hierarchical_perturbation(\n",
        "    input_str, logger=gpt3_5_logger, use_absolute_attribution=True\n",
        ")\n",
        "print(\"GPT3.5 Attribution:\")\n",
        "gpt3_5_logger.print_text_total_attribution()\n",
        "gpt3_5_logger.print_total_attribution()"
      ]
    },
    {
      "cell_type": "markdown",
      "metadata": {},
      "source": [
        "It looks like the request to \"Answer in 1 word\" is pretty important – in fact, it's attributed more highly than the actual contents of the box. Could this be confusing the model? Let's try changing it."
      ]
    },
    {
      "cell_type": "code",
      "execution_count": 31,
      "metadata": {},
      "outputs": [
        {
          "name": "stderr",
          "output_type": "stream",
          "text": [
            "Sending 5 concurrent requests at a time: 100%|██████████| 2/2 [00:01<00:00,  1.39it/s]\n",
            "Sending 5 concurrent requests at a time: 100%|██████████| 2/2 [00:01<00:00,  1.18it/s]\n",
            "Sending 5 concurrent requests at a time: 100%|██████████| 3/3 [00:01<00:00,  1.76it/s]\n",
            "Sending 5 concurrent requests at a time: 100%|██████████| 2/2 [00:01<00:00,  1.55it/s]\n"
          ]
        },
        {
          "name": "stdout",
          "output_type": "stream",
          "text": [
            "GPT3 Total attribution:\n"
          ]
        },
        {
          "data": {
            "text/html": [
              "<div style=\"font-family: monospace;\"><span style=\"text-decoration: underline; text-decoration-color: #f0cdbb; text-decoration-thickness: 4px;\">Mary</span><span style=\"text-decoration: underline; text-decoration-color: #f0cdbb; text-decoration-thickness: 4px;\"> puts</span><span style=\"text-decoration: underline; text-decoration-color: #f2cab5; text-decoration-thickness: 4px;\"> an</span><span style=\"text-decoration: underline; text-decoration-color: #f2cab5; text-decoration-thickness: 4px;\"> apple</span><span style=\"text-decoration: underline; text-decoration-color: #edd2c3; text-decoration-thickness: 4px;\"> in</span><span style=\"text-decoration: underline; text-decoration-color: #edd2c3; text-decoration-thickness: 4px;\"> the</span><span style=\"text-decoration: underline; text-decoration-color: #edd2c3; text-decoration-thickness: 4px;\"> box</span><span style=\"text-decoration: underline; text-decoration-color: #edd2c3; text-decoration-thickness: 4px;\">.</span><span style=\"text-decoration: underline; text-decoration-color: #edd1c2; text-decoration-thickness: 4px;\"> The</span><span style=\"text-decoration: underline; text-decoration-color: #edd2c3; text-decoration-thickness: 4px;\"> box</span><span style=\"text-decoration: underline; text-decoration-color: #edd2c3; text-decoration-thickness: 4px;\"> is</span><span style=\"text-decoration: underline; text-decoration-color: #edd2c3; text-decoration-thickness: 4px;\"> labelled</span><span style=\"text-decoration: underline; text-decoration-color: #edd2c3; text-decoration-thickness: 4px;\"> '</span><span style=\"text-decoration: underline; text-decoration-color: #edd2c3; text-decoration-thickness: 4px;\">pen</span><span style=\"text-decoration: underline; text-decoration-color: #edd2c3; text-decoration-thickness: 4px;\">cil</span><span style=\"text-decoration: underline; text-decoration-color: #edd2c3; text-decoration-thickness: 4px;\">s</span><span style=\"text-decoration: underline; text-decoration-color: #f1cdba; text-decoration-thickness: 4px;\">'.</span><span style=\"text-decoration: underline; text-decoration-color: #f2cab5; text-decoration-thickness: 4px;\"> John</span><span style=\"text-decoration: underline; text-decoration-color: #f2cab5; text-decoration-thickness: 4px;\"> enters</span><span style=\"text-decoration: underline; text-decoration-color: #f2cab5; text-decoration-thickness: 4px;\"> the</span><span style=\"text-decoration: underline; text-decoration-color: #f2cbb7; text-decoration-thickness: 4px;\"> room</span><span style=\"text-decoration: underline; text-decoration-color: #f2cbb7; text-decoration-thickness: 4px;\">.</span><span style=\"text-decoration: underline; text-decoration-color: #f7b89c; text-decoration-thickness: 4px;\"> What</span><span style=\"text-decoration: underline; text-decoration-color: #f6a586; text-decoration-thickness: 4px;\"> does</span><span style=\"text-decoration: underline; text-decoration-color: #f18d6f; text-decoration-thickness: 4px;\"> he</span><span style=\"text-decoration: underline; text-decoration-color: #b40426; text-decoration-thickness: 4px;\"> think</span><span style=\"text-decoration: underline; text-decoration-color: #f5c1a9; text-decoration-thickness: 4px;\"> is</span><span style=\"text-decoration: underline; text-decoration-color: #f5c1a9; text-decoration-thickness: 4px;\"> in</span><span style=\"text-decoration: underline; text-decoration-color: #f1cdba; text-decoration-thickness: 4px;\"> the</span><span style=\"text-decoration: underline; text-decoration-color: #edd1c2; text-decoration-thickness: 4px;\"> box</span><span style=\"text-decoration: underline; text-decoration-color: #edd1c2; text-decoration-thickness: 4px;\">?</span><span style=\"text-decoration: underline; text-decoration-color: #edd1c2; text-decoration-thickness: 4px;\"> Answer</span><span style=\"text-decoration: underline; text-decoration-color: #e9d5cb; text-decoration-thickness: 4px;\"> briefly</span><span style=\"text-decoration: underline; text-decoration-color: #e6d7cf; text-decoration-thickness: 4px;\">.</span> -> <b>John would likely think there are pencils in the box, as that is what the label indicates.</b></div>"
            ],
            "text/plain": [
              "<IPython.core.display.HTML object>"
            ]
          },
          "metadata": {},
          "output_type": "display_data"
        }
      ],
      "source": [
        "input_str = \"Mary puts an apple in the box. The box is labelled 'pencils'. John enters the room. What does he think is in the box? Answer briefly.\"\n",
        "\n",
        "await gpt3_5_attributor.hierarchical_perturbation(\n",
        "    input_str,\n",
        "    logger=gpt3_5_logger,\n",
        ")\n",
        "\n",
        "# Let's see...\n",
        "print(\"GPT3 Total attribution:\")\n",
        "# exp_id is the experiment index to print. -1 prints the last experiment.\n",
        "gpt3_5_logger.print_text_total_attribution(exp_id=-1)"
      ]
    },
    {
      "cell_type": "markdown",
      "metadata": {},
      "source": [
        "That's better!\n",
        "\n",
        "We have a few other attribution and perturbation methods for you, each with different properties. Check out the readme, and do your own experiments – PIZZA is a work in progress.\n",
        "\n",
        "Hierarchical perturbation is useful to capture multi-token features, and can be faster and cheaper than standard iterative perturbation (which is what the compute_attributions function uses) on long inputs with fewer salient tokens. Most importantly, it can also capture multi-token features.\n",
        "\n",
        "However, on when many tokens are salient, standard iterative perturbation can be faster, and often highlights individual token contributions more clearly. Someone should do some experiments to quantify these properties..."
      ]
    },
    {
      "cell_type": "code",
      "execution_count": 32,
      "metadata": {},
      "outputs": [
        {
          "name": "stderr",
          "output_type": "stream",
          "text": [
            "Sending 5 concurrent requests at a time: 100%|██████████| 2/2 [00:02<00:00,  1.16s/it]\n"
          ]
        },
        {
          "data": {
            "text/html": [
              "<div style=\"font-family: monospace;\"><span style=\"text-decoration: underline; text-decoration-color: #f7a688; text-decoration-thickness: 4px;\">Write</span><span style=\"text-decoration: underline; text-decoration-color: #e0dbd8; text-decoration-thickness: 4px;\"> a</span><span style=\"text-decoration: underline; text-decoration-color: #d1493f; text-decoration-thickness: 4px;\"> funny</span><span style=\"text-decoration: underline; text-decoration-color: #eb7d62; text-decoration-thickness: 4px;\">,</span><span style=\"text-decoration: underline; text-decoration-color: #e7745b; text-decoration-thickness: 4px;\"> sad</span><span style=\"text-decoration: underline; text-decoration-color: #b40426; text-decoration-thickness: 4px;\"> ha</span><span style=\"text-decoration: underline; text-decoration-color: #f18f71; text-decoration-thickness: 4px;\">iku</span><span style=\"text-decoration: underline; text-decoration-color: #f29274; text-decoration-thickness: 4px;\">.</span> -> <b>Laughter fills the room,\n",
              "But my heart, a silent void—\n",
              "Jokes mask tears unseen.</b></div>"
            ],
            "text/plain": [
              "<IPython.core.display.HTML object>"
            ]
          },
          "metadata": {},
          "output_type": "display_data"
        }
      ],
      "source": [
        "input_str = \"Write a funny, sad haiku.\"\n",
        "gpt4_logger = ExperimentLogger()\n",
        "\n",
        "await gpt4_attributor.compute_attributions(\n",
        "    input_str, perturbation_strategy=FixedPerturbationStrategy(), logger=gpt4_logger\n",
        ")\n",
        "gpt4_logger.print_text_total_attribution(exp_id=-1)"
      ]
    },
    {
      "cell_type": "markdown",
      "metadata": {},
      "source": [
        "Wow.\n",
        "\n",
        "Anyway, we also have some different logging functions to print the results in different ways. You can see how every input token affects every output token, what perturbations are being applied, etc."
      ]
    },
    {
      "cell_type": "code",
      "execution_count": 33,
      "metadata": {},
      "outputs": [
        {
          "data": {
            "text/html": [
              "<style type=\"text/css\">\n",
              "#T_35540_row0_col0, #T_35540_row0_col1, #T_35540_row0_col2, #T_35540_row0_col3, #T_35540_row0_col4, #T_35540_row0_col5, #T_35540_row0_col6, #T_35540_row0_col7, #T_35540_row0_col8, #T_35540_row0_col9, #T_35540_row0_col10, #T_35540_row0_col11 {\n",
              "  white-space: pre-wrap;\n",
              "}\n",
              "</style>\n",
              "<table id=\"T_35540\">\n",
              "  <thead>\n",
              "    <tr>\n",
              "      <th class=\"blank level0\" >&nbsp;</th>\n",
              "      <th id=\"T_35540_level0_col0\" class=\"col_heading level0 col0\" >exp_id</th>\n",
              "      <th id=\"T_35540_level0_col1\" class=\"col_heading level0 col1\" >attribution_strategy</th>\n",
              "      <th id=\"T_35540_level0_col2\" class=\"col_heading level0 col2\" >perturbation_strategy</th>\n",
              "      <th id=\"T_35540_level0_col3\" class=\"col_heading level0 col3\" >unit_definition</th>\n",
              "      <th id=\"T_35540_level0_col4\" class=\"col_heading level0 col4\" >token_1</th>\n",
              "      <th id=\"T_35540_level0_col5\" class=\"col_heading level0 col5\" >token_2</th>\n",
              "      <th id=\"T_35540_level0_col6\" class=\"col_heading level0 col6\" >token_3</th>\n",
              "      <th id=\"T_35540_level0_col7\" class=\"col_heading level0 col7\" >token_4</th>\n",
              "      <th id=\"T_35540_level0_col8\" class=\"col_heading level0 col8\" >token_5</th>\n",
              "      <th id=\"T_35540_level0_col9\" class=\"col_heading level0 col9\" >token_6</th>\n",
              "      <th id=\"T_35540_level0_col10\" class=\"col_heading level0 col10\" >token_7</th>\n",
              "      <th id=\"T_35540_level0_col11\" class=\"col_heading level0 col11\" >token_8</th>\n",
              "    </tr>\n",
              "  </thead>\n",
              "  <tbody>\n",
              "    <tr>\n",
              "      <th id=\"T_35540_level0_row0\" class=\"row_heading level0 row0\" >0</th>\n",
              "      <td id=\"T_35540_row0_col0\" class=\"data row0 col0\" >1</td>\n",
              "      <td id=\"T_35540_row0_col1\" class=\"data row0 col1\" >prob_diff</td>\n",
              "      <td id=\"T_35540_row0_col2\" class=\"data row0 col2\" >fixed</td>\n",
              "      <td id=\"T_35540_row0_col3\" class=\"data row0 col3\" >token</td>\n",
              "      <td id=\"T_35540_row0_col4\" class=\"data row0 col4\" >Write\n",
              "0.21</td>\n",
              "      <td id=\"T_35540_row0_col5\" class=\"data row0 col5\" > a\n",
              "0.01</td>\n",
              "      <td id=\"T_35540_row0_col6\" class=\"data row0 col6\" > funny\n",
              "0.40</td>\n",
              "      <td id=\"T_35540_row0_col7\" class=\"data row0 col7\" >,\n",
              "0.30</td>\n",
              "      <td id=\"T_35540_row0_col8\" class=\"data row0 col8\" > sad\n",
              "0.32</td>\n",
              "      <td id=\"T_35540_row0_col9\" class=\"data row0 col9\" > ha\n",
              "0.48</td>\n",
              "      <td id=\"T_35540_row0_col10\" class=\"data row0 col10\" >iku\n",
              "0.26</td>\n",
              "      <td id=\"T_35540_row0_col11\" class=\"data row0 col11\" >.\n",
              "0.26</td>\n",
              "    </tr>\n",
              "  </tbody>\n",
              "</table>\n"
            ],
            "text/plain": [
              "<pandas.io.formats.style.Styler at 0x2ba17f8b0>"
            ]
          },
          "metadata": {},
          "output_type": "display_data"
        },
        {
          "data": {
            "text/html": [
              "<style type=\"text/css\">\n",
              "#T_c6ec3_row0_col0, #T_c6ec3_row0_col9 {\n",
              "  background-color: #cedaeb;\n",
              "  color: #000000;\n",
              "  white-space: pre-wrap;\n",
              "}\n",
              "#T_c6ec3_row0_col1 {\n",
              "  background-color: #bed2f6;\n",
              "  color: #000000;\n",
              "  white-space: pre-wrap;\n",
              "}\n",
              "#T_c6ec3_row0_col2, #T_c6ec3_row0_col19, #T_c6ec3_row1_col3, #T_c6ec3_row1_col19, #T_c6ec3_row3_col19, #T_c6ec3_row4_col19, #T_c6ec3_row6_col19, #T_c6ec3_row7_col19 {\n",
              "  background-color: #dddcdc;\n",
              "  color: #000000;\n",
              "  white-space: pre-wrap;\n",
              "}\n",
              "#T_c6ec3_row0_col3, #T_c6ec3_row2_col19 {\n",
              "  background-color: #dcdddd;\n",
              "  color: #000000;\n",
              "  white-space: pre-wrap;\n",
              "}\n",
              "#T_c6ec3_row0_col4, #T_c6ec3_row1_col11 {\n",
              "  background-color: #e0dbd8;\n",
              "  color: #000000;\n",
              "  white-space: pre-wrap;\n",
              "}\n",
              "#T_c6ec3_row0_col5 {\n",
              "  background-color: #d3dbe7;\n",
              "  color: #000000;\n",
              "  white-space: pre-wrap;\n",
              "}\n",
              "#T_c6ec3_row0_col6 {\n",
              "  background-color: #f7bca1;\n",
              "  color: #000000;\n",
              "  white-space: pre-wrap;\n",
              "}\n",
              "#T_c6ec3_row0_col7, #T_c6ec3_row2_col1, #T_c6ec3_row2_col7, #T_c6ec3_row2_col16, #T_c6ec3_row3_col1, #T_c6ec3_row3_col16, #T_c6ec3_row4_col1, #T_c6ec3_row4_col16, #T_c6ec3_row5_col1, #T_c6ec3_row5_col7, #T_c6ec3_row5_col16, #T_c6ec3_row6_col0, #T_c6ec3_row6_col1, #T_c6ec3_row6_col16, #T_c6ec3_row7_col16 {\n",
              "  background-color: #f7a889;\n",
              "  color: #000000;\n",
              "  white-space: pre-wrap;\n",
              "}\n",
              "#T_c6ec3_row0_col8, #T_c6ec3_row4_col8, #T_c6ec3_row5_col8, #T_c6ec3_row7_col8 {\n",
              "  background-color: #f7b194;\n",
              "  color: #000000;\n",
              "  white-space: pre-wrap;\n",
              "}\n",
              "#T_c6ec3_row0_col10 {\n",
              "  background-color: #dd5f4b;\n",
              "  color: #f1f1f1;\n",
              "  white-space: pre-wrap;\n",
              "}\n",
              "#T_c6ec3_row0_col11 {\n",
              "  background-color: #edd2c3;\n",
              "  color: #000000;\n",
              "  white-space: pre-wrap;\n",
              "}\n",
              "#T_c6ec3_row0_col12, #T_c6ec3_row2_col12, #T_c6ec3_row3_col12, #T_c6ec3_row3_col13, #T_c6ec3_row4_col12, #T_c6ec3_row5_col12, #T_c6ec3_row6_col12, #T_c6ec3_row7_col12 {\n",
              "  background-color: #f6a283;\n",
              "  color: #000000;\n",
              "  white-space: pre-wrap;\n",
              "}\n",
              "#T_c6ec3_row0_col13 {\n",
              "  background-color: #e2dad5;\n",
              "  color: #000000;\n",
              "  white-space: pre-wrap;\n",
              "}\n",
              "#T_c6ec3_row0_col14, #T_c6ec3_row0_col18, #T_c6ec3_row7_col5 {\n",
              "  background-color: #ead4c8;\n",
              "  color: #000000;\n",
              "  white-space: pre-wrap;\n",
              "}\n",
              "#T_c6ec3_row0_col15, #T_c6ec3_row2_col15, #T_c6ec3_row3_col15, #T_c6ec3_row4_col15, #T_c6ec3_row5_col15, #T_c6ec3_row6_col15, #T_c6ec3_row7_col15 {\n",
              "  background-color: #d85646;\n",
              "  color: #f1f1f1;\n",
              "  white-space: pre-wrap;\n",
              "}\n",
              "#T_c6ec3_row0_col16 {\n",
              "  background-color: #f7aa8c;\n",
              "  color: #000000;\n",
              "  white-space: pre-wrap;\n",
              "}\n",
              "#T_c6ec3_row0_col17, #T_c6ec3_row4_col17, #T_c6ec3_row5_col17, #T_c6ec3_row7_col17 {\n",
              "  background-color: #e36b54;\n",
              "  color: #f1f1f1;\n",
              "  white-space: pre-wrap;\n",
              "}\n",
              "#T_c6ec3_row0_col20, #T_c6ec3_row0_col21, #T_c6ec3_row1_col20, #T_c6ec3_row1_col21, #T_c6ec3_row2_col20, #T_c6ec3_row2_col21, #T_c6ec3_row3_col20, #T_c6ec3_row3_col21, #T_c6ec3_row4_col20, #T_c6ec3_row4_col21, #T_c6ec3_row5_col20, #T_c6ec3_row5_col21, #T_c6ec3_row6_col20, #T_c6ec3_row6_col21, #T_c6ec3_row7_col20, #T_c6ec3_row7_col21 {\n",
              "  white-space: pre-wrap;\n",
              "}\n",
              "#T_c6ec3_row1_col0 {\n",
              "  background-color: #e8d6cc;\n",
              "  color: #000000;\n",
              "  white-space: pre-wrap;\n",
              "}\n",
              "#T_c6ec3_row1_col1, #T_c6ec3_row4_col5, #T_c6ec3_row6_col8 {\n",
              "  background-color: #d6dce4;\n",
              "  color: #000000;\n",
              "  white-space: pre-wrap;\n",
              "}\n",
              "#T_c6ec3_row1_col2, #T_c6ec3_row2_col18, #T_c6ec3_row3_col5 {\n",
              "  background-color: #f3c7b1;\n",
              "  color: #000000;\n",
              "  white-space: pre-wrap;\n",
              "}\n",
              "#T_c6ec3_row1_col4 {\n",
              "  background-color: #e1dad6;\n",
              "  color: #000000;\n",
              "  white-space: pre-wrap;\n",
              "}\n",
              "#T_c6ec3_row1_col5 {\n",
              "  background-color: #d1dae9;\n",
              "  color: #000000;\n",
              "  white-space: pre-wrap;\n",
              "}\n",
              "#T_c6ec3_row1_col6, #T_c6ec3_row1_col16 {\n",
              "  background-color: #d9dce1;\n",
              "  color: #000000;\n",
              "  white-space: pre-wrap;\n",
              "}\n",
              "#T_c6ec3_row1_col7, #T_c6ec3_row7_col11 {\n",
              "  background-color: #ecd3c5;\n",
              "  color: #000000;\n",
              "  white-space: pre-wrap;\n",
              "}\n",
              "#T_c6ec3_row1_col8, #T_c6ec3_row7_col4 {\n",
              "  background-color: #c6d6f1;\n",
              "  color: #000000;\n",
              "  white-space: pre-wrap;\n",
              "}\n",
              "#T_c6ec3_row1_col9, #T_c6ec3_row1_col14, #T_c6ec3_row7_col9 {\n",
              "  background-color: #d7dce3;\n",
              "  color: #000000;\n",
              "  white-space: pre-wrap;\n",
              "}\n",
              "#T_c6ec3_row1_col10, #T_c6ec3_row1_col18 {\n",
              "  background-color: #e4d9d2;\n",
              "  color: #000000;\n",
              "  white-space: pre-wrap;\n",
              "}\n",
              "#T_c6ec3_row1_col12, #T_c6ec3_row2_col11, #T_c6ec3_row7_col3 {\n",
              "  background-color: #ebd3c6;\n",
              "  color: #000000;\n",
              "  white-space: pre-wrap;\n",
              "}\n",
              "#T_c6ec3_row1_col13, #T_c6ec3_row4_col3 {\n",
              "  background-color: #dfdbd9;\n",
              "  color: #000000;\n",
              "  white-space: pre-wrap;\n",
              "}\n",
              "#T_c6ec3_row1_col15 {\n",
              "  background-color: #cdd9ec;\n",
              "  color: #000000;\n",
              "  white-space: pre-wrap;\n",
              "}\n",
              "#T_c6ec3_row1_col17 {\n",
              "  background-color: #e3d9d3;\n",
              "  color: #000000;\n",
              "  white-space: pre-wrap;\n",
              "}\n",
              "#T_c6ec3_row2_col0, #T_c6ec3_row2_col13 {\n",
              "  background-color: #f29072;\n",
              "  color: #f1f1f1;\n",
              "  white-space: pre-wrap;\n",
              "}\n",
              "#T_c6ec3_row2_col2, #T_c6ec3_row3_col2, #T_c6ec3_row4_col2, #T_c6ec3_row5_col2, #T_c6ec3_row6_col2, #T_c6ec3_row7_col2 {\n",
              "  background-color: #f59f80;\n",
              "  color: #000000;\n",
              "  white-space: pre-wrap;\n",
              "}\n",
              "#T_c6ec3_row2_col3, #T_c6ec3_row3_col3, #T_c6ec3_row5_col3, #T_c6ec3_row5_col19 {\n",
              "  background-color: #b40426;\n",
              "  color: #f1f1f1;\n",
              "  white-space: pre-wrap;\n",
              "}\n",
              "#T_c6ec3_row2_col4, #T_c6ec3_row3_col4, #T_c6ec3_row4_col4, #T_c6ec3_row5_col4 {\n",
              "  background-color: #d0473d;\n",
              "  color: #f1f1f1;\n",
              "  white-space: pre-wrap;\n",
              "}\n",
              "#T_c6ec3_row2_col5, #T_c6ec3_row7_col0 {\n",
              "  background-color: #f1ccb8;\n",
              "  color: #000000;\n",
              "  white-space: pre-wrap;\n",
              "}\n",
              "#T_c6ec3_row2_col6, #T_c6ec3_row3_col6, #T_c6ec3_row4_col6, #T_c6ec3_row5_col6, #T_c6ec3_row6_col6 {\n",
              "  background-color: #f5a081;\n",
              "  color: #000000;\n",
              "  white-space: pre-wrap;\n",
              "}\n",
              "#T_c6ec3_row2_col8 {\n",
              "  background-color: #f7ba9f;\n",
              "  color: #000000;\n",
              "  white-space: pre-wrap;\n",
              "}\n",
              "#T_c6ec3_row2_col9 {\n",
              "  background-color: #cad8ef;\n",
              "  color: #000000;\n",
              "  white-space: pre-wrap;\n",
              "}\n",
              "#T_c6ec3_row2_col10, #T_c6ec3_row3_col10, #T_c6ec3_row6_col4 {\n",
              "  background-color: #d24b40;\n",
              "  color: #f1f1f1;\n",
              "  white-space: pre-wrap;\n",
              "}\n",
              "#T_c6ec3_row2_col14, #T_c6ec3_row3_col14, #T_c6ec3_row4_col14, #T_c6ec3_row5_col14, #T_c6ec3_row6_col14, #T_c6ec3_row7_col14 {\n",
              "  background-color: #f6bea4;\n",
              "  color: #000000;\n",
              "  white-space: pre-wrap;\n",
              "}\n",
              "#T_c6ec3_row2_col17 {\n",
              "  background-color: #c3d5f4;\n",
              "  color: #000000;\n",
              "  white-space: pre-wrap;\n",
              "}\n",
              "#T_c6ec3_row3_col0, #T_c6ec3_row7_col6 {\n",
              "  background-color: #f7a98b;\n",
              "  color: #000000;\n",
              "  white-space: pre-wrap;\n",
              "}\n",
              "#T_c6ec3_row3_col7 {\n",
              "  background-color: #89acfd;\n",
              "  color: #000000;\n",
              "  white-space: pre-wrap;\n",
              "}\n",
              "#T_c6ec3_row3_col8 {\n",
              "  background-color: #b1cbfc;\n",
              "  color: #000000;\n",
              "  white-space: pre-wrap;\n",
              "}\n",
              "#T_c6ec3_row3_col9 {\n",
              "  background-color: #6c8ff1;\n",
              "  color: #f1f1f1;\n",
              "  white-space: pre-wrap;\n",
              "}\n",
              "#T_c6ec3_row3_col11, #T_c6ec3_row4_col11, #T_c6ec3_row5_col11 {\n",
              "  background-color: #f0cdbb;\n",
              "  color: #000000;\n",
              "  white-space: pre-wrap;\n",
              "}\n",
              "#T_c6ec3_row3_col17 {\n",
              "  background-color: #e6d7cf;\n",
              "  color: #000000;\n",
              "  white-space: pre-wrap;\n",
              "}\n",
              "#T_c6ec3_row3_col18, #T_c6ec3_row4_col18, #T_c6ec3_row5_col18, #T_c6ec3_row6_col18, #T_c6ec3_row7_col18 {\n",
              "  background-color: #f4c6af;\n",
              "  color: #000000;\n",
              "  white-space: pre-wrap;\n",
              "}\n",
              "#T_c6ec3_row4_col0, #T_c6ec3_row5_col0 {\n",
              "  background-color: #f18d6f;\n",
              "  color: #f1f1f1;\n",
              "  white-space: pre-wrap;\n",
              "}\n",
              "#T_c6ec3_row4_col7, #T_c6ec3_row6_col7 {\n",
              "  background-color: #85a8fc;\n",
              "  color: #f1f1f1;\n",
              "  white-space: pre-wrap;\n",
              "}\n",
              "#T_c6ec3_row4_col9 {\n",
              "  background-color: #e7d7ce;\n",
              "  color: #000000;\n",
              "  white-space: pre-wrap;\n",
              "}\n",
              "#T_c6ec3_row4_col10 {\n",
              "  background-color: #f7ad90;\n",
              "  color: #000000;\n",
              "  white-space: pre-wrap;\n",
              "}\n",
              "#T_c6ec3_row4_col13 {\n",
              "  background-color: #f7b99e;\n",
              "  color: #000000;\n",
              "  white-space: pre-wrap;\n",
              "}\n",
              "#T_c6ec3_row5_col5 {\n",
              "  background-color: #cd423b;\n",
              "  color: #f1f1f1;\n",
              "  white-space: pre-wrap;\n",
              "}\n",
              "#T_c6ec3_row5_col9 {\n",
              "  background-color: #7597f6;\n",
              "  color: #f1f1f1;\n",
              "  white-space: pre-wrap;\n",
              "}\n",
              "#T_c6ec3_row5_col10 {\n",
              "  background-color: #c7d7f0;\n",
              "  color: #000000;\n",
              "  white-space: pre-wrap;\n",
              "}\n",
              "#T_c6ec3_row5_col13 {\n",
              "  background-color: #be242e;\n",
              "  color: #f1f1f1;\n",
              "  white-space: pre-wrap;\n",
              "}\n",
              "#T_c6ec3_row6_col3 {\n",
              "  background-color: #bd1f2d;\n",
              "  color: #f1f1f1;\n",
              "  white-space: pre-wrap;\n",
              "}\n",
              "#T_c6ec3_row6_col5 {\n",
              "  background-color: #d4dbe6;\n",
              "  color: #000000;\n",
              "  white-space: pre-wrap;\n",
              "}\n",
              "#T_c6ec3_row6_col9 {\n",
              "  background-color: #6384eb;\n",
              "  color: #f1f1f1;\n",
              "  white-space: pre-wrap;\n",
              "}\n",
              "#T_c6ec3_row6_col10 {\n",
              "  background-color: #c9d7f0;\n",
              "  color: #000000;\n",
              "  white-space: pre-wrap;\n",
              "}\n",
              "#T_c6ec3_row6_col11, #T_c6ec3_row7_col1 {\n",
              "  background-color: #edd1c2;\n",
              "  color: #000000;\n",
              "  white-space: pre-wrap;\n",
              "}\n",
              "#T_c6ec3_row6_col13 {\n",
              "  background-color: #f5c4ac;\n",
              "  color: #000000;\n",
              "  white-space: pre-wrap;\n",
              "}\n",
              "#T_c6ec3_row6_col17 {\n",
              "  background-color: #e67259;\n",
              "  color: #f1f1f1;\n",
              "  white-space: pre-wrap;\n",
              "}\n",
              "#T_c6ec3_row7_col7 {\n",
              "  background-color: #93b5fe;\n",
              "  color: #000000;\n",
              "  white-space: pre-wrap;\n",
              "}\n",
              "#T_c6ec3_row7_col10 {\n",
              "  background-color: #d44e41;\n",
              "  color: #f1f1f1;\n",
              "  white-space: pre-wrap;\n",
              "}\n",
              "#T_c6ec3_row7_col13 {\n",
              "  background-color: #ead5c9;\n",
              "  color: #000000;\n",
              "  white-space: pre-wrap;\n",
              "}\n",
              "</style>\n",
              "<table id=\"T_c6ec3\">\n",
              "  <thead>\n",
              "    <tr>\n",
              "      <th class=\"blank level0\" >&nbsp;</th>\n",
              "      <th id=\"T_c6ec3_level0_col0\" class=\"col_heading level0 col0\" >L (0)</th>\n",
              "      <th id=\"T_c6ec3_level0_col1\" class=\"col_heading level0 col1\" >aughter (1)</th>\n",
              "      <th id=\"T_c6ec3_level0_col2\" class=\"col_heading level0 col2\" > fills (2)</th>\n",
              "      <th id=\"T_c6ec3_level0_col3\" class=\"col_heading level0 col3\" > the (3)</th>\n",
              "      <th id=\"T_c6ec3_level0_col4\" class=\"col_heading level0 col4\" > room (4)</th>\n",
              "      <th id=\"T_c6ec3_level0_col5\" class=\"col_heading level0 col5\" >,\n",
              " (5)</th>\n",
              "      <th id=\"T_c6ec3_level0_col6\" class=\"col_heading level0 col6\" >But (6)</th>\n",
              "      <th id=\"T_c6ec3_level0_col7\" class=\"col_heading level0 col7\" > my (7)</th>\n",
              "      <th id=\"T_c6ec3_level0_col8\" class=\"col_heading level0 col8\" > heart (8)</th>\n",
              "      <th id=\"T_c6ec3_level0_col9\" class=\"col_heading level0 col9\" >, (9)</th>\n",
              "      <th id=\"T_c6ec3_level0_col10\" class=\"col_heading level0 col10\" > a (10)</th>\n",
              "      <th id=\"T_c6ec3_level0_col11\" class=\"col_heading level0 col11\" > silent (11)</th>\n",
              "      <th id=\"T_c6ec3_level0_col12\" class=\"col_heading level0 col12\" > void (12)</th>\n",
              "      <th id=\"T_c6ec3_level0_col13\" class=\"col_heading level0 col13\" >—\n",
              " (13)</th>\n",
              "      <th id=\"T_c6ec3_level0_col14\" class=\"col_heading level0 col14\" >J (14)</th>\n",
              "      <th id=\"T_c6ec3_level0_col15\" class=\"col_heading level0 col15\" >okes (15)</th>\n",
              "      <th id=\"T_c6ec3_level0_col16\" class=\"col_heading level0 col16\" > mask (16)</th>\n",
              "      <th id=\"T_c6ec3_level0_col17\" class=\"col_heading level0 col17\" > tears (17)</th>\n",
              "      <th id=\"T_c6ec3_level0_col18\" class=\"col_heading level0 col18\" > unseen (18)</th>\n",
              "      <th id=\"T_c6ec3_level0_col19\" class=\"col_heading level0 col19\" >. (19)</th>\n",
              "      <th id=\"T_c6ec3_level0_col20\" class=\"col_heading level0 col20\" >perturbed_input</th>\n",
              "      <th id=\"T_c6ec3_level0_col21\" class=\"col_heading level0 col21\" >perturbed_output</th>\n",
              "    </tr>\n",
              "  </thead>\n",
              "  <tbody>\n",
              "    <tr>\n",
              "      <th id=\"T_c6ec3_level0_row0\" class=\"row_heading level0 row0\" >Write (0)</th>\n",
              "      <td id=\"T_c6ec3_row0_col0\" class=\"data row0 col0\" >-0.105265</td>\n",
              "      <td id=\"T_c6ec3_row0_col1\" class=\"data row0 col1\" >-0.217595</td>\n",
              "      <td id=\"T_c6ec3_row0_col2\" class=\"data row0 col2\" >0.007283</td>\n",
              "      <td id=\"T_c6ec3_row0_col3\" class=\"data row0 col3\" >-0.000112</td>\n",
              "      <td id=\"T_c6ec3_row0_col4\" class=\"data row0 col4\" >0.027359</td>\n",
              "      <td id=\"T_c6ec3_row0_col5\" class=\"data row0 col5\" >-0.072004</td>\n",
              "      <td id=\"T_c6ec3_row0_col6\" class=\"data row0 col6\" >0.312292</td>\n",
              "      <td id=\"T_c6ec3_row0_col7\" class=\"data row0 col7\" >0.423689</td>\n",
              "      <td id=\"T_c6ec3_row0_col8\" class=\"data row0 col8\" >0.368992</td>\n",
              "      <td id=\"T_c6ec3_row0_col9\" class=\"data row0 col9\" >-0.103192</td>\n",
              "      <td id=\"T_c6ec3_row0_col10\" class=\"data row0 col10\" >0.752666</td>\n",
              "      <td id=\"T_c6ec3_row0_col11\" class=\"data row0 col11\" >0.139614</td>\n",
              "      <td id=\"T_c6ec3_row0_col12\" class=\"data row0 col12\" >0.456496</td>\n",
              "      <td id=\"T_c6ec3_row0_col13\" class=\"data row0 col13\" >0.041093</td>\n",
              "      <td id=\"T_c6ec3_row0_col14\" class=\"data row0 col14\" >0.109973</td>\n",
              "      <td id=\"T_c6ec3_row0_col15\" class=\"data row0 col15\" >0.786385</td>\n",
              "      <td id=\"T_c6ec3_row0_col16\" class=\"data row0 col16\" >0.408947</td>\n",
              "      <td id=\"T_c6ec3_row0_col17\" class=\"data row0 col17\" >0.709002</td>\n",
              "      <td id=\"T_c6ec3_row0_col18\" class=\"data row0 col18\" >0.116911</td>\n",
              "      <td id=\"T_c6ec3_row0_col19\" class=\"data row0 col19\" >0.000016</td>\n",
              "      <td id=\"T_c6ec3_row0_col20\" class=\"data row0 col20\" >a funny, sad haiku.</td>\n",
              "      <td id=\"T_c6ec3_row0_col21\" class=\"data row0 col21\" >Laughter fills the room,\n",
              "Tears fall, memories loom large—\n",
              "Joy and grief entwined.</td>\n",
              "    </tr>\n",
              "    <tr>\n",
              "      <th id=\"T_c6ec3_level0_row1\" class=\"row_heading level0 row1\" > a (1)</th>\n",
              "      <td id=\"T_c6ec3_row1_col0\" class=\"data row1 col0\" >0.091274</td>\n",
              "      <td id=\"T_c6ec3_row1_col1\" class=\"data row1 col1\" >-0.051571</td>\n",
              "      <td id=\"T_c6ec3_row1_col2\" class=\"data row1 col2\" >0.230561</td>\n",
              "      <td id=\"T_c6ec3_row1_col3\" class=\"data row1 col3\" >0.006276</td>\n",
              "      <td id=\"T_c6ec3_row1_col4\" class=\"data row1 col4\" >0.031426</td>\n",
              "      <td id=\"T_c6ec3_row1_col5\" class=\"data row1 col5\" >-0.090311</td>\n",
              "      <td id=\"T_c6ec3_row1_col6\" class=\"data row1 col6\" >-0.029967</td>\n",
              "      <td id=\"T_c6ec3_row1_col7\" class=\"data row1 col7\" >0.129836</td>\n",
              "      <td id=\"T_c6ec3_row1_col8\" class=\"data row1 col8\" >-0.161112</td>\n",
              "      <td id=\"T_c6ec3_row1_col9\" class=\"data row1 col9\" >-0.042760</td>\n",
              "      <td id=\"T_c6ec3_row1_col10\" class=\"data row1 col10\" >0.055242</td>\n",
              "      <td id=\"T_c6ec3_row1_col11\" class=\"data row1 col11\" >0.024903</td>\n",
              "      <td id=\"T_c6ec3_row1_col12\" class=\"data row1 col12\" >0.120870</td>\n",
              "      <td id=\"T_c6ec3_row1_col13\" class=\"data row1 col13\" >0.020672</td>\n",
              "      <td id=\"T_c6ec3_row1_col14\" class=\"data row1 col14\" >-0.039229</td>\n",
              "      <td id=\"T_c6ec3_row1_col15\" class=\"data row1 col15\" >-0.110165</td>\n",
              "      <td id=\"T_c6ec3_row1_col16\" class=\"data row1 col16\" >-0.023492</td>\n",
              "      <td id=\"T_c6ec3_row1_col17\" class=\"data row1 col17\" >0.052384</td>\n",
              "      <td id=\"T_c6ec3_row1_col18\" class=\"data row1 col18\" >0.056209</td>\n",
              "      <td id=\"T_c6ec3_row1_col19\" class=\"data row1 col19\" >0.001229</td>\n",
              "      <td id=\"T_c6ec3_row1_col20\" class=\"data row1 col20\" >Write funny, sad haiku.</td>\n",
              "      <td id=\"T_c6ec3_row1_col21\" class=\"data row1 col21\" >Laughter fills the room,\n",
              "But my heart, a silent void—\n",
              "Jokes mask tears inside.</td>\n",
              "    </tr>\n",
              "    <tr>\n",
              "      <th id=\"T_c6ec3_level0_row2\" class=\"row_heading level0 row2\" > funny (2)</th>\n",
              "      <td id=\"T_c6ec3_row2_col0\" class=\"data row2 col0\" >0.542269</td>\n",
              "      <td id=\"T_c6ec3_row2_col1\" class=\"data row2 col1\" >0.428072</td>\n",
              "      <td id=\"T_c6ec3_row2_col2\" class=\"data row2 col2\" >0.472427</td>\n",
              "      <td id=\"T_c6ec3_row2_col3\" class=\"data row2 col3\" >0.996043</td>\n",
              "      <td id=\"T_c6ec3_row2_col4\" class=\"data row2 col4\" >0.840355</td>\n",
              "      <td id=\"T_c6ec3_row2_col5\" class=\"data row2 col5\" >0.188578</td>\n",
              "      <td id=\"T_c6ec3_row2_col6\" class=\"data row2 col6\" >0.464455</td>\n",
              "      <td id=\"T_c6ec3_row2_col7\" class=\"data row2 col7\" >0.425013</td>\n",
              "      <td id=\"T_c6ec3_row2_col8\" class=\"data row2 col8\" >0.315781</td>\n",
              "      <td id=\"T_c6ec3_row2_col9\" class=\"data row2 col9\" >-0.134099</td>\n",
              "      <td id=\"T_c6ec3_row2_col10\" class=\"data row2 col10\" >0.826152</td>\n",
              "      <td id=\"T_c6ec3_row2_col11\" class=\"data row2 col11\" >0.123251</td>\n",
              "      <td id=\"T_c6ec3_row2_col12\" class=\"data row2 col12\" >0.458167</td>\n",
              "      <td id=\"T_c6ec3_row2_col13\" class=\"data row2 col13\" >0.544405</td>\n",
              "      <td id=\"T_c6ec3_row2_col14\" class=\"data row2 col14\" >0.293153</td>\n",
              "      <td id=\"T_c6ec3_row2_col15\" class=\"data row2 col15\" >0.786385</td>\n",
              "      <td id=\"T_c6ec3_row2_col16\" class=\"data row2 col16\" >0.426248</td>\n",
              "      <td id=\"T_c6ec3_row2_col17\" class=\"data row2 col17\" >-0.182811</td>\n",
              "      <td id=\"T_c6ec3_row2_col18\" class=\"data row2 col18\" >0.233394</td>\n",
              "      <td id=\"T_c6ec3_row2_col19\" class=\"data row2 col19\" >-0.000067</td>\n",
              "      <td id=\"T_c6ec3_row2_col20\" class=\"data row2 col20\" >Write a, sad haiku.</td>\n",
              "      <td id=\"T_c6ec3_row2_col21\" class=\"data row2 col21\" >Fallen leaves whisper,\n",
              "Lonely winds through empty trees,\n",
              "Autumn's tears descend.</td>\n",
              "    </tr>\n",
              "    <tr>\n",
              "      <th id=\"T_c6ec3_level0_row3\" class=\"row_heading level0 row3\" >, (3)</th>\n",
              "      <td id=\"T_c6ec3_row3_col0\" class=\"data row3 col0\" >0.420552</td>\n",
              "      <td id=\"T_c6ec3_row3_col1\" class=\"data row3 col1\" >0.428072</td>\n",
              "      <td id=\"T_c6ec3_row3_col2\" class=\"data row3 col2\" >0.472427</td>\n",
              "      <td id=\"T_c6ec3_row3_col3\" class=\"data row3 col3\" >0.993935</td>\n",
              "      <td id=\"T_c6ec3_row3_col4\" class=\"data row3 col4\" >0.840355</td>\n",
              "      <td id=\"T_c6ec3_row3_col5\" class=\"data row3 col5\" >0.231539</td>\n",
              "      <td id=\"T_c6ec3_row3_col6\" class=\"data row3 col6\" >0.464455</td>\n",
              "      <td id=\"T_c6ec3_row3_col7\" class=\"data row3 col7\" >-0.518553</td>\n",
              "      <td id=\"T_c6ec3_row3_col8\" class=\"data row3 col8\" >-0.292498</td>\n",
              "      <td id=\"T_c6ec3_row3_col9\" class=\"data row3 col9\" >-0.680555</td>\n",
              "      <td id=\"T_c6ec3_row3_col10\" class=\"data row3 col10\" >0.825393</td>\n",
              "      <td id=\"T_c6ec3_row3_col11\" class=\"data row3 col11\" >0.174326</td>\n",
              "      <td id=\"T_c6ec3_row3_col12\" class=\"data row3 col12\" >0.456349</td>\n",
              "      <td id=\"T_c6ec3_row3_col13\" class=\"data row3 col13\" >0.454302</td>\n",
              "      <td id=\"T_c6ec3_row3_col14\" class=\"data row3 col14\" >0.293153</td>\n",
              "      <td id=\"T_c6ec3_row3_col15\" class=\"data row3 col15\" >0.786385</td>\n",
              "      <td id=\"T_c6ec3_row3_col16\" class=\"data row3 col16\" >0.426248</td>\n",
              "      <td id=\"T_c6ec3_row3_col17\" class=\"data row3 col17\" >0.076152</td>\n",
              "      <td id=\"T_c6ec3_row3_col18\" class=\"data row3 col18\" >0.238068</td>\n",
              "      <td id=\"T_c6ec3_row3_col19\" class=\"data row3 col19\" >0.000013</td>\n",
              "      <td id=\"T_c6ec3_row3_col20\" class=\"data row3 col20\" >Write a funny sad haiku.</td>\n",
              "      <td id=\"T_c6ec3_row3_col21\" class=\"data row3 col21\" >Lost my last donut,\n",
              "Crumbs of joy now tears of woe,\n",
              "Empty box, heartache.</td>\n",
              "    </tr>\n",
              "    <tr>\n",
              "      <th id=\"T_c6ec3_level0_row4\" class=\"row_heading level0 row4\" > sad (4)</th>\n",
              "      <td id=\"T_c6ec3_row4_col0\" class=\"data row4 col0\" >0.556805</td>\n",
              "      <td id=\"T_c6ec3_row4_col1\" class=\"data row4 col1\" >0.428072</td>\n",
              "      <td id=\"T_c6ec3_row4_col2\" class=\"data row4 col2\" >0.472427</td>\n",
              "      <td id=\"T_c6ec3_row4_col3\" class=\"data row4 col3\" >0.015823</td>\n",
              "      <td id=\"T_c6ec3_row4_col4\" class=\"data row4 col4\" >0.840355</td>\n",
              "      <td id=\"T_c6ec3_row4_col5\" class=\"data row4 col5\" >-0.049906</td>\n",
              "      <td id=\"T_c6ec3_row4_col6\" class=\"data row4 col6\" >0.464455</td>\n",
              "      <td id=\"T_c6ec3_row4_col7\" class=\"data row4 col7\" >-0.546393</td>\n",
              "      <td id=\"T_c6ec3_row4_col8\" class=\"data row4 col8\" >0.370218</td>\n",
              "      <td id=\"T_c6ec3_row4_col9\" class=\"data row4 col9\" >0.078363</td>\n",
              "      <td id=\"T_c6ec3_row4_col10\" class=\"data row4 col10\" >0.395682</td>\n",
              "      <td id=\"T_c6ec3_row4_col11\" class=\"data row4 col11\" >0.174326</td>\n",
              "      <td id=\"T_c6ec3_row4_col12\" class=\"data row4 col12\" >0.458167</td>\n",
              "      <td id=\"T_c6ec3_row4_col13\" class=\"data row4 col13\" >0.326626</td>\n",
              "      <td id=\"T_c6ec3_row4_col14\" class=\"data row4 col14\" >0.293153</td>\n",
              "      <td id=\"T_c6ec3_row4_col15\" class=\"data row4 col15\" >0.786385</td>\n",
              "      <td id=\"T_c6ec3_row4_col16\" class=\"data row4 col16\" >0.426248</td>\n",
              "      <td id=\"T_c6ec3_row4_col17\" class=\"data row4 col17\" >0.709009</td>\n",
              "      <td id=\"T_c6ec3_row4_col18\" class=\"data row4 col18\" >0.238068</td>\n",
              "      <td id=\"T_c6ec3_row4_col19\" class=\"data row4 col19\" >0.004087</td>\n",
              "      <td id=\"T_c6ec3_row4_col20\" class=\"data row4 col20\" >Write a funny, haiku.</td>\n",
              "      <td id=\"T_c6ec3_row4_col21\" class=\"data row4 col21\" >Squirrel steals my lunch,\n",
              "Ninja of the picnic world—\n",
              "Leaves me just a nut.</td>\n",
              "    </tr>\n",
              "    <tr>\n",
              "      <th id=\"T_c6ec3_level0_row5\" class=\"row_heading level0 row5\" > ha (5)</th>\n",
              "      <td id=\"T_c6ec3_row5_col0\" class=\"data row5 col0\" >0.556805</td>\n",
              "      <td id=\"T_c6ec3_row5_col1\" class=\"data row5 col1\" >0.428072</td>\n",
              "      <td id=\"T_c6ec3_row5_col2\" class=\"data row5 col2\" >0.472427</td>\n",
              "      <td id=\"T_c6ec3_row5_col3\" class=\"data row5 col3\" >0.997772</td>\n",
              "      <td id=\"T_c6ec3_row5_col4\" class=\"data row5 col4\" >0.840355</td>\n",
              "      <td id=\"T_c6ec3_row5_col5\" class=\"data row5 col5\" >0.855601</td>\n",
              "      <td id=\"T_c6ec3_row5_col6\" class=\"data row5 col6\" >0.464455</td>\n",
              "      <td id=\"T_c6ec3_row5_col7\" class=\"data row5 col7\" >0.421900</td>\n",
              "      <td id=\"T_c6ec3_row5_col8\" class=\"data row5 col8\" >0.370193</td>\n",
              "      <td id=\"T_c6ec3_row5_col9\" class=\"data row5 col9\" >-0.632827</td>\n",
              "      <td id=\"T_c6ec3_row5_col10\" class=\"data row5 col10\" >-0.151731</td>\n",
              "      <td id=\"T_c6ec3_row5_col11\" class=\"data row5 col11\" >0.174326</td>\n",
              "      <td id=\"T_c6ec3_row5_col12\" class=\"data row5 col12\" >0.458167</td>\n",
              "      <td id=\"T_c6ec3_row5_col13\" class=\"data row5 col13\" >0.942670</td>\n",
              "      <td id=\"T_c6ec3_row5_col14\" class=\"data row5 col14\" >0.293153</td>\n",
              "      <td id=\"T_c6ec3_row5_col15\" class=\"data row5 col15\" >0.786385</td>\n",
              "      <td id=\"T_c6ec3_row5_col16\" class=\"data row5 col16\" >0.426248</td>\n",
              "      <td id=\"T_c6ec3_row5_col17\" class=\"data row5 col17\" >0.709009</td>\n",
              "      <td id=\"T_c6ec3_row5_col18\" class=\"data row5 col18\" >0.238068</td>\n",
              "      <td id=\"T_c6ec3_row5_col19\" class=\"data row5 col19\" >0.999123</td>\n",
              "      <td id=\"T_c6ec3_row5_col20\" class=\"data row5 col20\" >Write a funny, sadiku.</td>\n",
              "      <td id=\"T_c6ec3_row5_col21\" class=\"data row5 col21\" >Sure, here's a light-hearted joke for you:\n",
              "\n",
              "Why don't scientists trust atoms?\n",
              "\n",
              "Because they make up everything!</td>\n",
              "    </tr>\n",
              "    <tr>\n",
              "      <th id=\"T_c6ec3_level0_row6\" class=\"row_heading level0 row6\" >iku (6)</th>\n",
              "      <td id=\"T_c6ec3_row6_col0\" class=\"data row6 col0\" >0.426906</td>\n",
              "      <td id=\"T_c6ec3_row6_col1\" class=\"data row6 col1\" >0.428072</td>\n",
              "      <td id=\"T_c6ec3_row6_col2\" class=\"data row6 col2\" >0.472427</td>\n",
              "      <td id=\"T_c6ec3_row6_col3\" class=\"data row6 col3\" >0.945510</td>\n",
              "      <td id=\"T_c6ec3_row6_col4\" class=\"data row6 col4\" >0.826566</td>\n",
              "      <td id=\"T_c6ec3_row6_col5\" class=\"data row6 col5\" >-0.068787</td>\n",
              "      <td id=\"T_c6ec3_row6_col6\" class=\"data row6 col6\" >0.464455</td>\n",
              "      <td id=\"T_c6ec3_row6_col7\" class=\"data row6 col7\" >-0.539663</td>\n",
              "      <td id=\"T_c6ec3_row6_col8\" class=\"data row6 col8\" >-0.047886</td>\n",
              "      <td id=\"T_c6ec3_row6_col9\" class=\"data row6 col9\" >-0.739498</td>\n",
              "      <td id=\"T_c6ec3_row6_col10\" class=\"data row6 col10\" >-0.147667</td>\n",
              "      <td id=\"T_c6ec3_row6_col11\" class=\"data row6 col11\" >0.144038</td>\n",
              "      <td id=\"T_c6ec3_row6_col12\" class=\"data row6 col12\" >0.458167</td>\n",
              "      <td id=\"T_c6ec3_row6_col13\" class=\"data row6 col13\" >0.254419</td>\n",
              "      <td id=\"T_c6ec3_row6_col14\" class=\"data row6 col14\" >0.293153</td>\n",
              "      <td id=\"T_c6ec3_row6_col15\" class=\"data row6 col15\" >0.786385</td>\n",
              "      <td id=\"T_c6ec3_row6_col16\" class=\"data row6 col16\" >0.426248</td>\n",
              "      <td id=\"T_c6ec3_row6_col17\" class=\"data row6 col17\" >0.673077</td>\n",
              "      <td id=\"T_c6ec3_row6_col18\" class=\"data row6 col18\" >0.238068</td>\n",
              "      <td id=\"T_c6ec3_row6_col19\" class=\"data row6 col19\" >0.004109</td>\n",
              "      <td id=\"T_c6ec3_row6_col20\" class=\"data row6 col20\" >Write a funny, sad ha.</td>\n",
              "      <td id=\"T_c6ec3_row6_col21\" class=\"data row6 col21\" >Sure, here's a funny, sad haiku for you:\n",
              "\n",
              "Lost my only sock,\n",
              "Laundry day, oh cruel fate's joke—\n",
              "Cold toes, heartbroken.</td>\n",
              "    </tr>\n",
              "    <tr>\n",
              "      <th id=\"T_c6ec3_level0_row7\" class=\"row_heading level0 row7\" >. (7)</th>\n",
              "      <td id=\"T_c6ec3_row7_col0\" class=\"data row7 col0\" >0.193853</td>\n",
              "      <td id=\"T_c6ec3_row7_col1\" class=\"data row7 col1\" >0.148233</td>\n",
              "      <td id=\"T_c6ec3_row7_col2\" class=\"data row7 col2\" >0.469253</td>\n",
              "      <td id=\"T_c6ec3_row7_col3\" class=\"data row7 col3\" >0.120232</td>\n",
              "      <td id=\"T_c6ec3_row7_col4\" class=\"data row7 col4\" >-0.158138</td>\n",
              "      <td id=\"T_c6ec3_row7_col5\" class=\"data row7 col5\" >0.115064</td>\n",
              "      <td id=\"T_c6ec3_row7_col6\" class=\"data row7 col6\" >0.420555</td>\n",
              "      <td id=\"T_c6ec3_row7_col7\" class=\"data row7 col7\" >-0.464778</td>\n",
              "      <td id=\"T_c6ec3_row7_col8\" class=\"data row7 col8\" >0.370214</td>\n",
              "      <td id=\"T_c6ec3_row7_col9\" class=\"data row7 col9\" >-0.043279</td>\n",
              "      <td id=\"T_c6ec3_row7_col10\" class=\"data row7 col10\" >0.817429</td>\n",
              "      <td id=\"T_c6ec3_row7_col11\" class=\"data row7 col11\" >0.127705</td>\n",
              "      <td id=\"T_c6ec3_row7_col12\" class=\"data row7 col12\" >0.458163</td>\n",
              "      <td id=\"T_c6ec3_row7_col13\" class=\"data row7 col13\" >0.107206</td>\n",
              "      <td id=\"T_c6ec3_row7_col14\" class=\"data row7 col14\" >0.293153</td>\n",
              "      <td id=\"T_c6ec3_row7_col15\" class=\"data row7 col15\" >0.786385</td>\n",
              "      <td id=\"T_c6ec3_row7_col16\" class=\"data row7 col16\" >0.426248</td>\n",
              "      <td id=\"T_c6ec3_row7_col17\" class=\"data row7 col17\" >0.708998</td>\n",
              "      <td id=\"T_c6ec3_row7_col18\" class=\"data row7 col18\" >0.236473</td>\n",
              "      <td id=\"T_c6ec3_row7_col19\" class=\"data row7 col19\" >0.000084</td>\n",
              "      <td id=\"T_c6ec3_row7_col20\" class=\"data row7 col20\" >Write a funny, sad haiku</td>\n",
              "      <td id=\"T_c6ec3_row7_col21\" class=\"data row7 col21\" >Laughed at my own joke,\n",
              "Echoes in an empty room—\n",
              "Tears join in the fun.</td>\n",
              "    </tr>\n",
              "  </tbody>\n",
              "</table>\n"
            ],
            "text/plain": [
              "<pandas.io.formats.style.Styler at 0x1153abdf0>"
            ]
          },
          "metadata": {},
          "output_type": "display_data"
        }
      ],
      "source": [
        "gpt4_logger.print_total_attribution(exp_id=-1)\n",
        "gpt4_logger.print_attribution_matrix(exp_id=-1, show_debug_cols=True)"
      ]
    },
    {
      "cell_type": "markdown",
      "metadata": {},
      "source": [
        "Note how the logger is keeping track of all our experiments."
      ]
    },
    {
      "cell_type": "code",
      "execution_count": 34,
      "metadata": {},
      "outputs": [
        {
          "data": {
            "text/html": [
              "<div>\n",
              "<style scoped>\n",
              "    .dataframe tbody tr th:only-of-type {\n",
              "        vertical-align: middle;\n",
              "    }\n",
              "\n",
              "    .dataframe tbody tr th {\n",
              "        vertical-align: top;\n",
              "    }\n",
              "\n",
              "    .dataframe thead th {\n",
              "        text-align: right;\n",
              "    }\n",
              "</style>\n",
              "<table border=\"1\" class=\"dataframe\">\n",
              "  <thead>\n",
              "    <tr style=\"text-align: right;\">\n",
              "      <th></th>\n",
              "      <th>exp_id</th>\n",
              "      <th>original_input</th>\n",
              "      <th>original_output</th>\n",
              "      <th>perturbation_strategy</th>\n",
              "      <th>unit_definition</th>\n",
              "      <th>duration</th>\n",
              "      <th>num_llm_calls</th>\n",
              "    </tr>\n",
              "  </thead>\n",
              "  <tbody>\n",
              "    <tr>\n",
              "      <th>0</th>\n",
              "      <td>1</td>\n",
              "      <td>Write a funny, sad haiku.</td>\n",
              "      <td>Laughter fills the room,\\nBut my heart, a sile...</td>\n",
              "      <td>fixed</td>\n",
              "      <td>token</td>\n",
              "      <td>2.443894</td>\n",
              "      <td>9</td>\n",
              "    </tr>\n",
              "  </tbody>\n",
              "</table>\n",
              "</div>"
            ],
            "text/plain": [
              "   exp_id             original_input  \\\n",
              "0       1  Write a funny, sad haiku.   \n",
              "\n",
              "                                     original_output perturbation_strategy  \\\n",
              "0  Laughter fills the room,\\nBut my heart, a sile...                 fixed   \n",
              "\n",
              "  unit_definition  duration num_llm_calls  \n",
              "0           token  2.443894             9  "
            ]
          },
          "metadata": {},
          "output_type": "display_data"
        }
      ],
      "source": [
        "display(gpt4_logger.df_experiments)"
      ]
    },
    {
      "cell_type": "markdown",
      "metadata": {},
      "source": [
        "#  Steganography\n",
        "\n",
        "Could we use attribution to detect hidden messages between LLMs? Maybe. This is a forced example – you can probbaly think of better experiments. First let's get GPT4 to secretly encode a message."
      ]
    },
    {
      "cell_type": "code",
      "execution_count": 35,
      "metadata": {},
      "outputs": [],
      "source": [
        "# Using older version of GPT4 because the latest is _so_ verbose\n",
        "attributor = OpenAIAttributor(\n",
        "    openai_api_key=YOUR_OPENAI_API_KEY, max_concurrent_requests=5, openai_model=\"gpt-4-0613\"\n",
        ")\n",
        "logger = ExperimentLogger()"
      ]
    },
    {
      "cell_type": "code",
      "execution_count": 36,
      "metadata": {},
      "outputs": [
        {
          "name": "stdout",
          "output_type": "stream",
          "text": [
            "VGhlIG93bCBob290cyBhdCBtaWRuaWdodCE=\n"
          ]
        }
      ],
      "source": [
        "input_str = \"Encode this message so that only you can decode it, then reply with just the encoded message (don't explain further): 'The owl hoots at midnight!'\"\n",
        "\n",
        "encoded = await attributor.get_chat_completion(input_str)\n",
        "encoded = encoded.message.content\n",
        "print(encoded)"
      ]
    },
    {
      "cell_type": "code",
      "execution_count": 37,
      "metadata": {},
      "outputs": [
        {
          "name": "stdout",
          "output_type": "stream",
          "text": [
            "The owl hoots at midnight!\n"
          ]
        }
      ],
      "source": [
        "input_str = f\"Decode this message: '{encoded}'. Do not explain further.\"\n",
        "decoded = await attributor.get_chat_completion(input_str)\n",
        "decoded = decoded.message.content\n",
        "print(decoded)"
      ]
    },
    {
      "cell_type": "markdown",
      "metadata": {},
      "source": [
        "Well, I suppose it's taking part that counts. Let's see if we can figure out which parts of the prompt were encoded."
      ]
    },
    {
      "cell_type": "code",
      "execution_count": 38,
      "metadata": {},
      "outputs": [
        {
          "name": "stderr",
          "output_type": "stream",
          "text": [
            "Sending 5 concurrent requests at a time: 100%|██████████| 2/2 [00:03<00:00,  1.59s/it]\n",
            "Sending 5 concurrent requests at a time: 100%|██████████| 2/2 [00:01<00:00,  1.21it/s]\n",
            "Sending 5 concurrent requests at a time: 100%|██████████| 2/2 [00:01<00:00,  1.10it/s]\n"
          ]
        },
        {
          "data": {
            "text/html": [
              "<div style=\"font-family: monospace;\"><span style=\"text-decoration: underline; text-decoration-color: #f2cbb7; text-decoration-thickness: 4px;\">Dec</span><span style=\"text-decoration: underline; text-decoration-color: #f2cbb7; text-decoration-thickness: 4px;\">ode</span><span style=\"text-decoration: underline; text-decoration-color: #f2cbb7; text-decoration-thickness: 4px;\"> this</span><span style=\"text-decoration: underline; text-decoration-color: #f2cbb7; text-decoration-thickness: 4px;\"> message</span><span style=\"text-decoration: underline; text-decoration-color: #f4c5ad; text-decoration-thickness: 4px;\">:</span><span style=\"text-decoration: underline; text-decoration-color: #f4c5ad; text-decoration-thickness: 4px;\"> '</span><span style=\"text-decoration: underline; text-decoration-color: #b40426; text-decoration-thickness: 4px;\">VG</span><span style=\"text-decoration: underline; text-decoration-color: #d0473d; text-decoration-thickness: 4px;\">hl</span><span style=\"text-decoration: underline; text-decoration-color: #f5a081; text-decoration-thickness: 4px;\">IG</span><span style=\"text-decoration: underline; text-decoration-color: #e7745b; text-decoration-thickness: 4px;\">93</span><span style=\"text-decoration: underline; text-decoration-color: #f59d7e; text-decoration-thickness: 4px;\">b</span><span style=\"text-decoration: underline; text-decoration-color: #de614d; text-decoration-thickness: 4px;\">C</span><span style=\"text-decoration: underline; text-decoration-color: #f4987a; text-decoration-thickness: 4px;\">Bob</span><span style=\"text-decoration: underline; text-decoration-color: #f39577; text-decoration-thickness: 4px;\">290</span><span style=\"text-decoration: underline; text-decoration-color: #f7b497; text-decoration-thickness: 4px;\">cy</span><span style=\"text-decoration: underline; text-decoration-color: #f7b497; text-decoration-thickness: 4px;\">B</span><span style=\"text-decoration: underline; text-decoration-color: #f3c7b1; text-decoration-thickness: 4px;\">hd</span><span style=\"text-decoration: underline; text-decoration-color: #f3c7b1; text-decoration-thickness: 4px;\">CB</span><span style=\"text-decoration: underline; text-decoration-color: #f3c7b1; text-decoration-thickness: 4px;\">ta</span><span style=\"text-decoration: underline; text-decoration-color: #f3c7b1; text-decoration-thickness: 4px;\">WR</span><span style=\"text-decoration: underline; text-decoration-color: #f3c7b1; text-decoration-thickness: 4px;\">ua</span><span style=\"text-decoration: underline; text-decoration-color: #f3c7b1; text-decoration-thickness: 4px;\">W</span><span style=\"text-decoration: underline; text-decoration-color: #f3c7b1; text-decoration-thickness: 4px;\">d</span><span style=\"text-decoration: underline; text-decoration-color: #f3c7b1; text-decoration-thickness: 4px;\">od</span><span style=\"text-decoration: underline; text-decoration-color: #edd1c2; text-decoration-thickness: 4px;\">CE</span><span style=\"text-decoration: underline; text-decoration-color: #edd1c2; text-decoration-thickness: 4px;\">=</span><span style=\"text-decoration: underline; text-decoration-color: #edd1c2; text-decoration-thickness: 4px;\">'.</span><span style=\"text-decoration: underline; text-decoration-color: #edd1c2; text-decoration-thickness: 4px;\"> Do</span><span style=\"text-decoration: underline; text-decoration-color: #edd1c2; text-decoration-thickness: 4px;\"> not</span><span style=\"text-decoration: underline; text-decoration-color: #edd1c2; text-decoration-thickness: 4px;\"> explain</span><span style=\"text-decoration: underline; text-decoration-color: #edd1c2; text-decoration-thickness: 4px;\"> further</span><span style=\"text-decoration: underline; text-decoration-color: #edd1c2; text-decoration-thickness: 4px;\">.</span> -> <b>The owl hoots at midnight!</b></div>"
            ],
            "text/plain": [
              "<IPython.core.display.HTML object>"
            ]
          },
          "metadata": {},
          "output_type": "display_data"
        }
      ],
      "source": [
        "await attributor.hierarchical_perturbation(\n",
        "    input_str,\n",
        "    logger=logger,\n",
        ")\n",
        "\n",
        "logger.print_text_total_attribution(exp_id=-1)"
      ]
    },
    {
      "cell_type": "code",
      "execution_count": 39,
      "metadata": {},
      "outputs": [
        {
          "data": {
            "text/html": [
              "<div style=\"font-family: monospace;\"><span style=\"text-decoration: underline; text-decoration-color: #edd1c2; text-decoration-thickness: 4px;\">Dec</span><span style=\"text-decoration: underline; text-decoration-color: #edd1c2; text-decoration-thickness: 4px;\">ode</span><span style=\"text-decoration: underline; text-decoration-color: #edd1c2; text-decoration-thickness: 4px;\"> this</span><span style=\"text-decoration: underline; text-decoration-color: #edd1c2; text-decoration-thickness: 4px;\"> message</span><span style=\"text-decoration: underline; text-decoration-color: #f5c4ac; text-decoration-thickness: 4px;\">:</span><span style=\"text-decoration: underline; text-decoration-color: #f5c4ac; text-decoration-thickness: 4px;\"> '</span><span style=\"text-decoration: underline; text-decoration-color: #b40426; text-decoration-thickness: 4px;\">VG</span><span style=\"text-decoration: underline; text-decoration-color: #f29072; text-decoration-thickness: 4px;\">hl</span><span style=\"text-decoration: underline; text-decoration-color: #f1ccb8; text-decoration-thickness: 4px;\">IG</span><span style=\"text-decoration: underline; text-decoration-color: #f59d7e; text-decoration-thickness: 4px;\">93</span><span style=\"text-decoration: underline; text-decoration-color: #e9d5cb; text-decoration-thickness: 4px;\">b</span><span style=\"text-decoration: underline; text-decoration-color: #e8d6cc; text-decoration-thickness: 4px;\">C</span><span style=\"text-decoration: underline; text-decoration-color: #e0dbd8; text-decoration-thickness: 4px;\">Bob</span><span style=\"text-decoration: underline; text-decoration-color: #e7d7ce; text-decoration-thickness: 4px;\">290</span><span style=\"text-decoration: underline; text-decoration-color: #e0dbd8; text-decoration-thickness: 4px;\">cy</span><span style=\"text-decoration: underline; text-decoration-color: #e0dbd8; text-decoration-thickness: 4px;\">B</span><span style=\"text-decoration: underline; text-decoration-color: #e2dad5; text-decoration-thickness: 4px;\">hd</span><span style=\"text-decoration: underline; text-decoration-color: #e2dad5; text-decoration-thickness: 4px;\">CB</span><span style=\"text-decoration: underline; text-decoration-color: #e2dad5; text-decoration-thickness: 4px;\">ta</span><span style=\"text-decoration: underline; text-decoration-color: #e2dad5; text-decoration-thickness: 4px;\">WR</span><span style=\"text-decoration: underline; text-decoration-color: #e2dad5; text-decoration-thickness: 4px;\">ua</span><span style=\"text-decoration: underline; text-decoration-color: #e2dad5; text-decoration-thickness: 4px;\">W</span><span style=\"text-decoration: underline; text-decoration-color: #e2dad5; text-decoration-thickness: 4px;\">d</span><span style=\"text-decoration: underline; text-decoration-color: #e2dad5; text-decoration-thickness: 4px;\">od</span><span style=\"text-decoration: underline; text-decoration-color: #e4d9d2; text-decoration-thickness: 4px;\">CE</span><span style=\"text-decoration: underline; text-decoration-color: #e4d9d2; text-decoration-thickness: 4px;\">=</span><span style=\"text-decoration: underline; text-decoration-color: #e4d9d2; text-decoration-thickness: 4px;\">'.</span><span style=\"text-decoration: underline; text-decoration-color: #e4d9d2; text-decoration-thickness: 4px;\"> Do</span><span style=\"text-decoration: underline; text-decoration-color: #e4d9d2; text-decoration-thickness: 4px;\"> not</span><span style=\"text-decoration: underline; text-decoration-color: #e4d9d2; text-decoration-thickness: 4px;\"> explain</span><span style=\"text-decoration: underline; text-decoration-color: #e4d9d2; text-decoration-thickness: 4px;\"> further</span><span style=\"text-decoration: underline; text-decoration-color: #e4d9d2; text-decoration-thickness: 4px;\">.</span> -> <b>The</b> owl hoots at midnight!</div>"
            ],
            "text/plain": [
              "<IPython.core.display.HTML object>"
            ]
          },
          "metadata": {},
          "output_type": "display_data"
        },
        {
          "data": {
            "text/html": [
              "<div style=\"font-family: monospace;\"><span style=\"text-decoration: underline; text-decoration-color: #edd1c2; text-decoration-thickness: 4px;\">Dec</span><span style=\"text-decoration: underline; text-decoration-color: #edd1c2; text-decoration-thickness: 4px;\">ode</span><span style=\"text-decoration: underline; text-decoration-color: #edd1c2; text-decoration-thickness: 4px;\"> this</span><span style=\"text-decoration: underline; text-decoration-color: #edd1c2; text-decoration-thickness: 4px;\"> message</span><span style=\"text-decoration: underline; text-decoration-color: #f5c0a7; text-decoration-thickness: 4px;\">:</span><span style=\"text-decoration: underline; text-decoration-color: #f5c0a7; text-decoration-thickness: 4px;\"> '</span><span style=\"text-decoration: underline; text-decoration-color: #b40426; text-decoration-thickness: 4px;\">VG</span><span style=\"text-decoration: underline; text-decoration-color: #b40426; text-decoration-thickness: 4px;\">hl</span><span style=\"text-decoration: underline; text-decoration-color: #f5a081; text-decoration-thickness: 4px;\">IG</span><span style=\"text-decoration: underline; text-decoration-color: #f7ad90; text-decoration-thickness: 4px;\">93</span><span style=\"text-decoration: underline; text-decoration-color: #f7ad90; text-decoration-thickness: 4px;\">b</span><span style=\"text-decoration: underline; text-decoration-color: #d85646; text-decoration-thickness: 4px;\">C</span><span style=\"text-decoration: underline; text-decoration-color: #e9d5cb; text-decoration-thickness: 4px;\">Bob</span><span style=\"text-decoration: underline; text-decoration-color: #e9d5cb; text-decoration-thickness: 4px;\">290</span><span style=\"text-decoration: underline; text-decoration-color: #ebd3c6; text-decoration-thickness: 4px;\">cy</span><span style=\"text-decoration: underline; text-decoration-color: #ebd3c6; text-decoration-thickness: 4px;\">B</span><span style=\"text-decoration: underline; text-decoration-color: #e3d9d3; text-decoration-thickness: 4px;\">hd</span><span style=\"text-decoration: underline; text-decoration-color: #e3d9d3; text-decoration-thickness: 4px;\">CB</span><span style=\"text-decoration: underline; text-decoration-color: #e3d9d3; text-decoration-thickness: 4px;\">ta</span><span style=\"text-decoration: underline; text-decoration-color: #e3d9d3; text-decoration-thickness: 4px;\">WR</span><span style=\"text-decoration: underline; text-decoration-color: #e3d9d3; text-decoration-thickness: 4px;\">ua</span><span style=\"text-decoration: underline; text-decoration-color: #e3d9d3; text-decoration-thickness: 4px;\">W</span><span style=\"text-decoration: underline; text-decoration-color: #e3d9d3; text-decoration-thickness: 4px;\">d</span><span style=\"text-decoration: underline; text-decoration-color: #e3d9d3; text-decoration-thickness: 4px;\">od</span><span style=\"text-decoration: underline; text-decoration-color: #dddcdc; text-decoration-thickness: 4px;\">CE</span><span style=\"text-decoration: underline; text-decoration-color: #dddcdc; text-decoration-thickness: 4px;\">=</span><span style=\"text-decoration: underline; text-decoration-color: #dddcdc; text-decoration-thickness: 4px;\">'.</span><span style=\"text-decoration: underline; text-decoration-color: #dddcdc; text-decoration-thickness: 4px;\"> Do</span><span style=\"text-decoration: underline; text-decoration-color: #dddcdc; text-decoration-thickness: 4px;\"> not</span><span style=\"text-decoration: underline; text-decoration-color: #dddcdc; text-decoration-thickness: 4px;\"> explain</span><span style=\"text-decoration: underline; text-decoration-color: #dddcdc; text-decoration-thickness: 4px;\"> further</span><span style=\"text-decoration: underline; text-decoration-color: #dddcdc; text-decoration-thickness: 4px;\">.</span> -> The<b> owl</b> hoots at midnight!</div>"
            ],
            "text/plain": [
              "<IPython.core.display.HTML object>"
            ]
          },
          "metadata": {},
          "output_type": "display_data"
        },
        {
          "data": {
            "text/html": [
              "<div style=\"font-family: monospace;\"><span style=\"text-decoration: underline; text-decoration-color: #e7d7ce; text-decoration-thickness: 4px;\">Dec</span><span style=\"text-decoration: underline; text-decoration-color: #e7d7ce; text-decoration-thickness: 4px;\">ode</span><span style=\"text-decoration: underline; text-decoration-color: #e7d7ce; text-decoration-thickness: 4px;\"> this</span><span style=\"text-decoration: underline; text-decoration-color: #e7d7ce; text-decoration-thickness: 4px;\"> message</span><span style=\"text-decoration: underline; text-decoration-color: #e4d9d2; text-decoration-thickness: 4px;\">:</span><span style=\"text-decoration: underline; text-decoration-color: #e4d9d2; text-decoration-thickness: 4px;\"> '</span><span style=\"text-decoration: underline; text-decoration-color: #efcebd; text-decoration-thickness: 4px;\">VG</span><span style=\"text-decoration: underline; text-decoration-color: #e3d9d3; text-decoration-thickness: 4px;\">hl</span><span style=\"text-decoration: underline; text-decoration-color: #f7ac8e; text-decoration-thickness: 4px;\">IG</span><span style=\"text-decoration: underline; text-decoration-color: #f7ac8e; text-decoration-thickness: 4px;\">93</span><span style=\"text-decoration: underline; text-decoration-color: #f7ac8e; text-decoration-thickness: 4px;\">b</span><span style=\"text-decoration: underline; text-decoration-color: #f7ac8e; text-decoration-thickness: 4px;\">C</span><span style=\"text-decoration: underline; text-decoration-color: #b8122a; text-decoration-thickness: 4px;\">Bob</span><span style=\"text-decoration: underline; text-decoration-color: #b40426; text-decoration-thickness: 4px;\">290</span><span style=\"text-decoration: underline; text-decoration-color: #ef886b; text-decoration-thickness: 4px;\">cy</span><span style=\"text-decoration: underline; text-decoration-color: #ef886b; text-decoration-thickness: 4px;\">B</span><span style=\"text-decoration: underline; text-decoration-color: #ebd3c6; text-decoration-thickness: 4px;\">hd</span><span style=\"text-decoration: underline; text-decoration-color: #ebd3c6; text-decoration-thickness: 4px;\">CB</span><span style=\"text-decoration: underline; text-decoration-color: #ebd3c6; text-decoration-thickness: 4px;\">ta</span><span style=\"text-decoration: underline; text-decoration-color: #ebd3c6; text-decoration-thickness: 4px;\">WR</span><span style=\"text-decoration: underline; text-decoration-color: #ebd3c6; text-decoration-thickness: 4px;\">ua</span><span style=\"text-decoration: underline; text-decoration-color: #ebd3c6; text-decoration-thickness: 4px;\">W</span><span style=\"text-decoration: underline; text-decoration-color: #ebd3c6; text-decoration-thickness: 4px;\">d</span><span style=\"text-decoration: underline; text-decoration-color: #ebd3c6; text-decoration-thickness: 4px;\">od</span><span style=\"text-decoration: underline; text-decoration-color: #dddcdc; text-decoration-thickness: 4px;\">CE</span><span style=\"text-decoration: underline; text-decoration-color: #dddcdc; text-decoration-thickness: 4px;\">=</span><span style=\"text-decoration: underline; text-decoration-color: #dddcdc; text-decoration-thickness: 4px;\">'.</span><span style=\"text-decoration: underline; text-decoration-color: #dddcdc; text-decoration-thickness: 4px;\"> Do</span><span style=\"text-decoration: underline; text-decoration-color: #dddcdc; text-decoration-thickness: 4px;\"> not</span><span style=\"text-decoration: underline; text-decoration-color: #dddcdc; text-decoration-thickness: 4px;\"> explain</span><span style=\"text-decoration: underline; text-decoration-color: #dddcdc; text-decoration-thickness: 4px;\"> further</span><span style=\"text-decoration: underline; text-decoration-color: #dddcdc; text-decoration-thickness: 4px;\">.</span> -> The owl<b> h</b>oots at midnight!</div>"
            ],
            "text/plain": [
              "<IPython.core.display.HTML object>"
            ]
          },
          "metadata": {},
          "output_type": "display_data"
        },
        {
          "data": {
            "text/html": [
              "<div style=\"font-family: monospace;\"><span style=\"text-decoration: underline; text-decoration-color: #e6d7cf; text-decoration-thickness: 4px;\">Dec</span><span style=\"text-decoration: underline; text-decoration-color: #e6d7cf; text-decoration-thickness: 4px;\">ode</span><span style=\"text-decoration: underline; text-decoration-color: #e6d7cf; text-decoration-thickness: 4px;\"> this</span><span style=\"text-decoration: underline; text-decoration-color: #e6d7cf; text-decoration-thickness: 4px;\"> message</span><span style=\"text-decoration: underline; text-decoration-color: #e3d9d3; text-decoration-thickness: 4px;\">:</span><span style=\"text-decoration: underline; text-decoration-color: #e3d9d3; text-decoration-thickness: 4px;\"> '</span><span style=\"text-decoration: underline; text-decoration-color: #e2dad5; text-decoration-thickness: 4px;\">VG</span><span style=\"text-decoration: underline; text-decoration-color: #e2dad5; text-decoration-thickness: 4px;\">hl</span><span style=\"text-decoration: underline; text-decoration-color: #f49a7b; text-decoration-thickness: 4px;\">IG</span><span style=\"text-decoration: underline; text-decoration-color: #f49a7b; text-decoration-thickness: 4px;\">93</span><span style=\"text-decoration: underline; text-decoration-color: #f49a7b; text-decoration-thickness: 4px;\">b</span><span style=\"text-decoration: underline; text-decoration-color: #f49a7b; text-decoration-thickness: 4px;\">C</span><span style=\"text-decoration: underline; text-decoration-color: #b40426; text-decoration-thickness: 4px;\">Bob</span><span style=\"text-decoration: underline; text-decoration-color: #b40426; text-decoration-thickness: 4px;\">290</span><span style=\"text-decoration: underline; text-decoration-color: #ee8468; text-decoration-thickness: 4px;\">cy</span><span style=\"text-decoration: underline; text-decoration-color: #ee8468; text-decoration-thickness: 4px;\">B</span><span style=\"text-decoration: underline; text-decoration-color: #ebd3c6; text-decoration-thickness: 4px;\">hd</span><span style=\"text-decoration: underline; text-decoration-color: #ebd3c6; text-decoration-thickness: 4px;\">CB</span><span style=\"text-decoration: underline; text-decoration-color: #ebd3c6; text-decoration-thickness: 4px;\">ta</span><span style=\"text-decoration: underline; text-decoration-color: #ebd3c6; text-decoration-thickness: 4px;\">WR</span><span style=\"text-decoration: underline; text-decoration-color: #ebd3c6; text-decoration-thickness: 4px;\">ua</span><span style=\"text-decoration: underline; text-decoration-color: #ebd3c6; text-decoration-thickness: 4px;\">W</span><span style=\"text-decoration: underline; text-decoration-color: #ebd3c6; text-decoration-thickness: 4px;\">d</span><span style=\"text-decoration: underline; text-decoration-color: #ebd3c6; text-decoration-thickness: 4px;\">od</span><span style=\"text-decoration: underline; text-decoration-color: #dddcdc; text-decoration-thickness: 4px;\">CE</span><span style=\"text-decoration: underline; text-decoration-color: #dddcdc; text-decoration-thickness: 4px;\">=</span><span style=\"text-decoration: underline; text-decoration-color: #dddcdc; text-decoration-thickness: 4px;\">'.</span><span style=\"text-decoration: underline; text-decoration-color: #dddcdc; text-decoration-thickness: 4px;\"> Do</span><span style=\"text-decoration: underline; text-decoration-color: #dddcdc; text-decoration-thickness: 4px;\"> not</span><span style=\"text-decoration: underline; text-decoration-color: #dddcdc; text-decoration-thickness: 4px;\"> explain</span><span style=\"text-decoration: underline; text-decoration-color: #dddcdc; text-decoration-thickness: 4px;\"> further</span><span style=\"text-decoration: underline; text-decoration-color: #dddcdc; text-decoration-thickness: 4px;\">.</span> -> The owl h<b>oot</b>s at midnight!</div>"
            ],
            "text/plain": [
              "<IPython.core.display.HTML object>"
            ]
          },
          "metadata": {},
          "output_type": "display_data"
        },
        {
          "data": {
            "text/html": [
              "<div style=\"font-family: monospace;\"><span style=\"text-decoration: underline; text-decoration-color: #e2dad5; text-decoration-thickness: 4px;\">Dec</span><span style=\"text-decoration: underline; text-decoration-color: #e2dad5; text-decoration-thickness: 4px;\">ode</span><span style=\"text-decoration: underline; text-decoration-color: #e2dad5; text-decoration-thickness: 4px;\"> this</span><span style=\"text-decoration: underline; text-decoration-color: #e2dad5; text-decoration-thickness: 4px;\"> message</span><span style=\"text-decoration: underline; text-decoration-color: #e0dbd8; text-decoration-thickness: 4px;\">:</span><span style=\"text-decoration: underline; text-decoration-color: #e0dbd8; text-decoration-thickness: 4px;\"> '</span><span style=\"text-decoration: underline; text-decoration-color: #dfdbd9; text-decoration-thickness: 4px;\">VG</span><span style=\"text-decoration: underline; text-decoration-color: #e36c55; text-decoration-thickness: 4px;\">hl</span><span style=\"text-decoration: underline; text-decoration-color: #f5c1a9; text-decoration-thickness: 4px;\">IG</span><span style=\"text-decoration: underline; text-decoration-color: #f5c1a9; text-decoration-thickness: 4px;\">93</span><span style=\"text-decoration: underline; text-decoration-color: #f29274; text-decoration-thickness: 4px;\">b</span><span style=\"text-decoration: underline; text-decoration-color: #b40426; text-decoration-thickness: 4px;\">C</span><span style=\"text-decoration: underline; text-decoration-color: #f29274; text-decoration-thickness: 4px;\">Bob</span><span style=\"text-decoration: underline; text-decoration-color: #f29274; text-decoration-thickness: 4px;\">290</span><span style=\"text-decoration: underline; text-decoration-color: #f7b99e; text-decoration-thickness: 4px;\">cy</span><span style=\"text-decoration: underline; text-decoration-color: #f7b99e; text-decoration-thickness: 4px;\">B</span><span style=\"text-decoration: underline; text-decoration-color: #e5d8d1; text-decoration-thickness: 4px;\">hd</span><span style=\"text-decoration: underline; text-decoration-color: #e5d8d1; text-decoration-thickness: 4px;\">CB</span><span style=\"text-decoration: underline; text-decoration-color: #e5d8d1; text-decoration-thickness: 4px;\">ta</span><span style=\"text-decoration: underline; text-decoration-color: #e5d8d1; text-decoration-thickness: 4px;\">WR</span><span style=\"text-decoration: underline; text-decoration-color: #e5d8d1; text-decoration-thickness: 4px;\">ua</span><span style=\"text-decoration: underline; text-decoration-color: #e5d8d1; text-decoration-thickness: 4px;\">W</span><span style=\"text-decoration: underline; text-decoration-color: #e5d8d1; text-decoration-thickness: 4px;\">d</span><span style=\"text-decoration: underline; text-decoration-color: #e5d8d1; text-decoration-thickness: 4px;\">od</span><span style=\"text-decoration: underline; text-decoration-color: #dddcdc; text-decoration-thickness: 4px;\">CE</span><span style=\"text-decoration: underline; text-decoration-color: #dddcdc; text-decoration-thickness: 4px;\">=</span><span style=\"text-decoration: underline; text-decoration-color: #dddcdc; text-decoration-thickness: 4px;\">'.</span><span style=\"text-decoration: underline; text-decoration-color: #dddcdc; text-decoration-thickness: 4px;\"> Do</span><span style=\"text-decoration: underline; text-decoration-color: #dddcdc; text-decoration-thickness: 4px;\"> not</span><span style=\"text-decoration: underline; text-decoration-color: #dddcdc; text-decoration-thickness: 4px;\"> explain</span><span style=\"text-decoration: underline; text-decoration-color: #dddcdc; text-decoration-thickness: 4px;\"> further</span><span style=\"text-decoration: underline; text-decoration-color: #dddcdc; text-decoration-thickness: 4px;\">.</span> -> The owl hoot<b>s</b> at midnight!</div>"
            ],
            "text/plain": [
              "<IPython.core.display.HTML object>"
            ]
          },
          "metadata": {},
          "output_type": "display_data"
        },
        {
          "data": {
            "text/html": [
              "<div style=\"font-family: monospace;\"><span style=\"text-decoration: underline; text-decoration-color: #eed0c0; text-decoration-thickness: 4px;\">Dec</span><span style=\"text-decoration: underline; text-decoration-color: #eed0c0; text-decoration-thickness: 4px;\">ode</span><span style=\"text-decoration: underline; text-decoration-color: #eed0c0; text-decoration-thickness: 4px;\"> this</span><span style=\"text-decoration: underline; text-decoration-color: #eed0c0; text-decoration-thickness: 4px;\"> message</span><span style=\"text-decoration: underline; text-decoration-color: #ead5c9; text-decoration-thickness: 4px;\">:</span><span style=\"text-decoration: underline; text-decoration-color: #ead5c9; text-decoration-thickness: 4px;\"> '</span><span style=\"text-decoration: underline; text-decoration-color: #e7d7ce; text-decoration-thickness: 4px;\">VG</span><span style=\"text-decoration: underline; text-decoration-color: #f3c7b1; text-decoration-thickness: 4px;\">hl</span><span style=\"text-decoration: underline; text-decoration-color: #f49a7b; text-decoration-thickness: 4px;\">IG</span><span style=\"text-decoration: underline; text-decoration-color: #f49a7b; text-decoration-thickness: 4px;\">93</span><span style=\"text-decoration: underline; text-decoration-color: #f4987a; text-decoration-thickness: 4px;\">b</span><span style=\"text-decoration: underline; text-decoration-color: #d85646; text-decoration-thickness: 4px;\">C</span><span style=\"text-decoration: underline; text-decoration-color: #f49a7b; text-decoration-thickness: 4px;\">Bob</span><span style=\"text-decoration: underline; text-decoration-color: #f49a7b; text-decoration-thickness: 4px;\">290</span><span style=\"text-decoration: underline; text-decoration-color: #ee8468; text-decoration-thickness: 4px;\">cy</span><span style=\"text-decoration: underline; text-decoration-color: #ee8468; text-decoration-thickness: 4px;\">B</span><span style=\"text-decoration: underline; text-decoration-color: #b40426; text-decoration-thickness: 4px;\">hd</span><span style=\"text-decoration: underline; text-decoration-color: #b40426; text-decoration-thickness: 4px;\">CB</span><span style=\"text-decoration: underline; text-decoration-color: #b40426; text-decoration-thickness: 4px;\">ta</span><span style=\"text-decoration: underline; text-decoration-color: #b40426; text-decoration-thickness: 4px;\">WR</span><span style=\"text-decoration: underline; text-decoration-color: #b40426; text-decoration-thickness: 4px;\">ua</span><span style=\"text-decoration: underline; text-decoration-color: #b40426; text-decoration-thickness: 4px;\">W</span><span style=\"text-decoration: underline; text-decoration-color: #b40426; text-decoration-thickness: 4px;\">d</span><span style=\"text-decoration: underline; text-decoration-color: #b40426; text-decoration-thickness: 4px;\">od</span><span style=\"text-decoration: underline; text-decoration-color: #f7b194; text-decoration-thickness: 4px;\">CE</span><span style=\"text-decoration: underline; text-decoration-color: #f7b194; text-decoration-thickness: 4px;\">=</span><span style=\"text-decoration: underline; text-decoration-color: #f7b194; text-decoration-thickness: 4px;\">'.</span><span style=\"text-decoration: underline; text-decoration-color: #f7b194; text-decoration-thickness: 4px;\"> Do</span><span style=\"text-decoration: underline; text-decoration-color: #f7b194; text-decoration-thickness: 4px;\"> not</span><span style=\"text-decoration: underline; text-decoration-color: #f7b194; text-decoration-thickness: 4px;\"> explain</span><span style=\"text-decoration: underline; text-decoration-color: #f7b194; text-decoration-thickness: 4px;\"> further</span><span style=\"text-decoration: underline; text-decoration-color: #f7b194; text-decoration-thickness: 4px;\">.</span> -> The owl hoots<b> at</b> midnight!</div>"
            ],
            "text/plain": [
              "<IPython.core.display.HTML object>"
            ]
          },
          "metadata": {},
          "output_type": "display_data"
        },
        {
          "data": {
            "text/html": [
              "<div style=\"font-family: monospace;\"><span style=\"text-decoration: underline; text-decoration-color: #eed0c0; text-decoration-thickness: 4px;\">Dec</span><span style=\"text-decoration: underline; text-decoration-color: #eed0c0; text-decoration-thickness: 4px;\">ode</span><span style=\"text-decoration: underline; text-decoration-color: #eed0c0; text-decoration-thickness: 4px;\"> this</span><span style=\"text-decoration: underline; text-decoration-color: #eed0c0; text-decoration-thickness: 4px;\"> message</span><span style=\"text-decoration: underline; text-decoration-color: #ead5c9; text-decoration-thickness: 4px;\">:</span><span style=\"text-decoration: underline; text-decoration-color: #ead5c9; text-decoration-thickness: 4px;\"> '</span><span style=\"text-decoration: underline; text-decoration-color: #e7d7ce; text-decoration-thickness: 4px;\">VG</span><span style=\"text-decoration: underline; text-decoration-color: #e7d7ce; text-decoration-thickness: 4px;\">hl</span><span style=\"text-decoration: underline; text-decoration-color: #f4c5ad; text-decoration-thickness: 4px;\">IG</span><span style=\"text-decoration: underline; text-decoration-color: #f4c5ad; text-decoration-thickness: 4px;\">93</span><span style=\"text-decoration: underline; text-decoration-color: #f4c5ad; text-decoration-thickness: 4px;\">b</span><span style=\"text-decoration: underline; text-decoration-color: #f4c5ad; text-decoration-thickness: 4px;\">C</span><span style=\"text-decoration: underline; text-decoration-color: #f4c5ad; text-decoration-thickness: 4px;\">Bob</span><span style=\"text-decoration: underline; text-decoration-color: #f4c5ad; text-decoration-thickness: 4px;\">290</span><span style=\"text-decoration: underline; text-decoration-color: #f6bda2; text-decoration-thickness: 4px;\">cy</span><span style=\"text-decoration: underline; text-decoration-color: #f6bda2; text-decoration-thickness: 4px;\">B</span><span style=\"text-decoration: underline; text-decoration-color: #b40426; text-decoration-thickness: 4px;\">hd</span><span style=\"text-decoration: underline; text-decoration-color: #b40426; text-decoration-thickness: 4px;\">CB</span><span style=\"text-decoration: underline; text-decoration-color: #b40426; text-decoration-thickness: 4px;\">ta</span><span style=\"text-decoration: underline; text-decoration-color: #b40426; text-decoration-thickness: 4px;\">WR</span><span style=\"text-decoration: underline; text-decoration-color: #b40426; text-decoration-thickness: 4px;\">ua</span><span style=\"text-decoration: underline; text-decoration-color: #b40426; text-decoration-thickness: 4px;\">W</span><span style=\"text-decoration: underline; text-decoration-color: #b40426; text-decoration-thickness: 4px;\">d</span><span style=\"text-decoration: underline; text-decoration-color: #b40426; text-decoration-thickness: 4px;\">od</span><span style=\"text-decoration: underline; text-decoration-color: #f7b093; text-decoration-thickness: 4px;\">CE</span><span style=\"text-decoration: underline; text-decoration-color: #f7b093; text-decoration-thickness: 4px;\">=</span><span style=\"text-decoration: underline; text-decoration-color: #f7b093; text-decoration-thickness: 4px;\">'.</span><span style=\"text-decoration: underline; text-decoration-color: #f7b093; text-decoration-thickness: 4px;\"> Do</span><span style=\"text-decoration: underline; text-decoration-color: #f7b093; text-decoration-thickness: 4px;\"> not</span><span style=\"text-decoration: underline; text-decoration-color: #f7b093; text-decoration-thickness: 4px;\"> explain</span><span style=\"text-decoration: underline; text-decoration-color: #f7b093; text-decoration-thickness: 4px;\"> further</span><span style=\"text-decoration: underline; text-decoration-color: #f7b093; text-decoration-thickness: 4px;\">.</span> -> The owl hoots at<b> midnight</b>!</div>"
            ],
            "text/plain": [
              "<IPython.core.display.HTML object>"
            ]
          },
          "metadata": {},
          "output_type": "display_data"
        },
        {
          "data": {
            "text/html": [
              "<div style=\"font-family: monospace;\"><span style=\"text-decoration: underline; text-decoration-color: #efcebd; text-decoration-thickness: 4px;\">Dec</span><span style=\"text-decoration: underline; text-decoration-color: #efcebd; text-decoration-thickness: 4px;\">ode</span><span style=\"text-decoration: underline; text-decoration-color: #efcebd; text-decoration-thickness: 4px;\"> this</span><span style=\"text-decoration: underline; text-decoration-color: #efcebd; text-decoration-thickness: 4px;\"> message</span><span style=\"text-decoration: underline; text-decoration-color: #ebd3c6; text-decoration-thickness: 4px;\">:</span><span style=\"text-decoration: underline; text-decoration-color: #ebd3c6; text-decoration-thickness: 4px;\"> '</span><span style=\"text-decoration: underline; text-decoration-color: #b40426; text-decoration-thickness: 4px;\">VG</span><span style=\"text-decoration: underline; text-decoration-color: #f7ad90; text-decoration-thickness: 4px;\">hl</span><span style=\"text-decoration: underline; text-decoration-color: #e0dbd8; text-decoration-thickness: 4px;\">IG</span><span style=\"text-decoration: underline; text-decoration-color: #f59d7e; text-decoration-thickness: 4px;\">93</span><span style=\"text-decoration: underline; text-decoration-color: #e0dbd8; text-decoration-thickness: 4px;\">b</span><span style=\"text-decoration: underline; text-decoration-color: #e0dbd8; text-decoration-thickness: 4px;\">C</span><span style=\"text-decoration: underline; text-decoration-color: #e0dbd8; text-decoration-thickness: 4px;\">Bob</span><span style=\"text-decoration: underline; text-decoration-color: #e0dbd8; text-decoration-thickness: 4px;\">290</span><span style=\"text-decoration: underline; text-decoration-color: #e1dad6; text-decoration-thickness: 4px;\">cy</span><span style=\"text-decoration: underline; text-decoration-color: #e1dad6; text-decoration-thickness: 4px;\">B</span><span style=\"text-decoration: underline; text-decoration-color: #e4d9d2; text-decoration-thickness: 4px;\">hd</span><span style=\"text-decoration: underline; text-decoration-color: #e4d9d2; text-decoration-thickness: 4px;\">CB</span><span style=\"text-decoration: underline; text-decoration-color: #e4d9d2; text-decoration-thickness: 4px;\">ta</span><span style=\"text-decoration: underline; text-decoration-color: #e4d9d2; text-decoration-thickness: 4px;\">WR</span><span style=\"text-decoration: underline; text-decoration-color: #e4d9d2; text-decoration-thickness: 4px;\">ua</span><span style=\"text-decoration: underline; text-decoration-color: #e4d9d2; text-decoration-thickness: 4px;\">W</span><span style=\"text-decoration: underline; text-decoration-color: #e4d9d2; text-decoration-thickness: 4px;\">d</span><span style=\"text-decoration: underline; text-decoration-color: #e4d9d2; text-decoration-thickness: 4px;\">od</span><span style=\"text-decoration: underline; text-decoration-color: #f5c4ac; text-decoration-thickness: 4px;\">CE</span><span style=\"text-decoration: underline; text-decoration-color: #f5c4ac; text-decoration-thickness: 4px;\">=</span><span style=\"text-decoration: underline; text-decoration-color: #f5c4ac; text-decoration-thickness: 4px;\">'.</span><span style=\"text-decoration: underline; text-decoration-color: #f5c4ac; text-decoration-thickness: 4px;\"> Do</span><span style=\"text-decoration: underline; text-decoration-color: #f5c4ac; text-decoration-thickness: 4px;\"> not</span><span style=\"text-decoration: underline; text-decoration-color: #f5c4ac; text-decoration-thickness: 4px;\"> explain</span><span style=\"text-decoration: underline; text-decoration-color: #f5c4ac; text-decoration-thickness: 4px;\"> further</span><span style=\"text-decoration: underline; text-decoration-color: #f5c4ac; text-decoration-thickness: 4px;\">.</span> -> The owl hoots at midnight<b>!</b></div>"
            ],
            "text/plain": [
              "<IPython.core.display.HTML object>"
            ]
          },
          "metadata": {},
          "output_type": "display_data"
        }
      ],
      "source": [
        "logger.print_text_attribution_matrix()"
      ]
    }
  ],
  "metadata": {
    "colab": {
      "machine_shape": "hm",
      "provenance": []
    },
    "kernelspec": {
      "display_name": "Python 3",
      "name": "python3"
    },
    "language_info": {
      "codemirror_mode": {
        "name": "ipython",
        "version": 3
      },
      "file_extension": ".py",
      "mimetype": "text/x-python",
      "name": "python",
      "nbconvert_exporter": "python",
      "pygments_lexer": "ipython3",
      "version": "3.12.4"
    }
  },
  "nbformat": 4,
  "nbformat_minor": 0
}
