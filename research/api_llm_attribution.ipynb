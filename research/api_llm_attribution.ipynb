{
 "cells": [
  {
   "cell_type": "code",
   "execution_count": 9,
   "metadata": {},
   "outputs": [
    {
     "data": {
      "text/plain": [
       "True"
      ]
     },
     "execution_count": 9,
     "metadata": {},
     "output_type": "execute_result"
    }
   ],
   "source": [
    "import os\n",
    "import torch\n",
    "from transformers import AutoTokenizer, AutoModel, PreTrainedModel, PreTrainedTokenizer, GPT2LMHeadModel, GPT2Tokenizer\n",
    "from sklearn.neighbors import NearestNeighbors\n",
    "from dotenv import load_dotenv\n",
    "from typing import List\n",
    "from openai import OpenAI"
   ]
  },
  {
   "cell_type": "code",
   "execution_count": 2,
   "metadata": {},
   "outputs": [],
   "source": [
    "load_dotenv()\n",
    "client = OpenAI(api_key=os.getenv('OPENAI_API_KEY'))"
   ]
  },
  {
   "cell_type": "code",
   "execution_count": 3,
   "metadata": {},
   "outputs": [],
   "source": [
    "model = GPT2LMHeadModel.from_pretrained('gpt2')  # or any other checkpoint\n",
    "tokenizer = GPT2Tokenizer.from_pretrained('gpt2')\n",
    "\n",
    "word_token_embeddings = model.transformer.wte.weight  # Word Token Embeddings \n",
    "position_embeddings = model.transformer.wpe.weight  # Word Position Embeddings \n",
    "token_cosine_distances = None"
   ]
  },
  {
   "cell_type": "code",
   "execution_count": 6,
   "metadata": {},
   "outputs": [
    {
     "name": "stdout",
     "output_type": "stream",
     "text": [
      "torch.Size([50257, 50257])\n"
     ]
    }
   ],
   "source": [
    "token_cosine_distances = calculate_cosine_distances_between_tokens(word_token_embeddings)\n",
    "print(token_cosine_distances.shape)"
   ]
  },
  {
   "cell_type": "code",
   "execution_count": 35,
   "metadata": {},
   "outputs": [],
   "source": [
    "def get_model_output(input: str):\n",
    "    response = client.chat.completions.create(\n",
    "        model=\"gpt-3.5-turbo\",\n",
    "        messages=[{\"role\": \"user\", \"content\": input}],\n",
    "        logprobs=True,\n",
    "        top_logprobs=20,\n",
    "    )\n",
    "\n",
    "    return response.choices[0]\n",
    "\n",
    "\n",
    "# TOKEN PERTURBATION METHODS\n",
    "def get_most_similar_tokens(token: str, model: PreTrainedModel, tokenizer: PreTrainedTokenizer, n_tokens: int = 1) -> List[str]:\n",
    "    token_id = tokenizer.encode(token, add_special_tokens=False)[0]\n",
    "    \n",
    "    # Get the embedding of the token\n",
    "    embeddings = model.transformer.wte.weight\n",
    "    token_embedding = embeddings[token_id, :]\n",
    "\n",
    "    # Fit the NearestNeighbors model to the embeddings\n",
    "    nbrs = NearestNeighbors(n_neighbors=n_tokens, algorithm='ball_tree').fit(embeddings.detach().numpy())\n",
    "    \n",
    "    # Find the nearest neighbor\n",
    "    indices = nbrs.kneighbors(\n",
    "        token_embedding.detach().numpy().reshape(1, -1),\n",
    "        n_neighbors=10,\n",
    "        return_distance=False\n",
    "    )\n",
    "\n",
    "    return [tokenizer.decode(ix) for ix in indices.flatten()]\n",
    "\n",
    "def calculate_cosine_distances_between_tokens(word_token_embeddings: torch.Tensor) -> torch.Tensor:\n",
    "    normalized_embeddings = torch.nn.functional.normalize(word_token_embeddings, p=2, dim=1)\n",
    "    dot_product = torch.matmul(normalized_embeddings, normalized_embeddings.T)\n",
    "    return 1 - dot_product\n",
    "\n",
    "\n",
    "# OUTPUT SIMILARITY MEASURES\n",
    "def is_token_in_top_20(token, top_logprobs):\n",
    "    top_20_tokens = set(logprob.token for logprob in top_logprobs)\n",
    "    # print(token in top_20_tokens, f'token: `{token}`, pred: `{top_logprobs[0].token}` - {top_20_tokens}')\n",
    "    return token in top_20_tokens\n",
    "\n",
    "\n",
    "def all_tokens_in_top_20(initial_logprobs, new_logprobs):\n",
    "    if (\n",
    "        initial_logprobs is None\n",
    "        or new_logprobs is None\n",
    "        or initial_logprobs.content is None\n",
    "        or new_logprobs.content is None\n",
    "    ):\n",
    "        return False\n",
    "\n",
    "    return all(\n",
    "        is_token_in_top_20(initial_token.token, new_token.top_logprobs)\n",
    "        for initial_token, new_token\n",
    "        in zip(initial_logprobs.content, new_logprobs.content)\n",
    "    )\n",
    "\n",
    "\n",
    "def total_logprob_difference(initial_logprobs, perturbed_logprobs):\n",
    "    # Get the logprobs of the top 20 tokens for the initial and perturbed outputs\n",
    "    initial_top_logprobs = {logprob.token: logprob.logprob for logprob in initial_logprobs.content}\n",
    "    perturbed_top_logprobs = {logprob.token: logprob.logprob for logprob in perturbed_logprobs.content}\n",
    "\n",
    "    # Calculate the total difference in logprobs\n",
    "    total_difference = 0\n",
    "    for token, initial_logprob in initial_top_logprobs.items():\n",
    "        perturbed_logprob = perturbed_top_logprobs.get(token, 0)\n",
    "        total_difference += abs(initial_logprob - perturbed_logprob)\n",
    "\n",
    "    return total_difference\n",
    "\n",
    "\n",
    "def max_logprob_difference(initial_logprobs, perturbed_logprobs):\n",
    "    # Get the logprobs of the top 20 tokens for the initial and perturbed outputs\n",
    "    initial_top_logprobs = {logprob.token: logprob.logprob for logprob in initial_logprobs.content}\n",
    "    perturbed_top_logprobs = {logprob.token: logprob.logprob for logprob in perturbed_logprobs.content}\n",
    "\n",
    "    # Calculate the maximum difference in logprobs\n",
    "    max_difference = 0\n",
    "    for token, initial_logprob in initial_top_logprobs.items():\n",
    "        perturbed_logprob = perturbed_top_logprobs.get(token, 0)\n",
    "        max_difference = max(max_difference, abs(initial_logprob - perturbed_logprob))\n",
    "\n",
    "    return max_difference\n",
    "\n",
    "\n",
    "def token_displacement(initial_logprobs, perturbed_logprobs):\n",
    "    # Get the top 20 tokens for the initial and perturbed outputs\n",
    "    initial_top_tokens = [logprob.token for logprob in initial_logprobs.content]\n",
    "    perturbed_top_tokens = [logprob.token for logprob in perturbed_logprobs.content]\n",
    "\n",
    "    # Calculate the total displacement of tokens\n",
    "    total_displacement = 0\n",
    "    for i, token in enumerate(initial_top_tokens):\n",
    "        if token in perturbed_top_tokens:\n",
    "            total_displacement += abs(i - perturbed_top_tokens.index(token))\n",
    "\n",
    "    return total_displacement"
   ]
  },
  {
   "cell_type": "code",
   "execution_count": 26,
   "metadata": {},
   "outputs": [],
   "source": [
    "def calculate_token_importance(input_sequence: str, model: PreTrainedModel, tokenizer: PreTrainedTokenizer):\n",
    "    tokens = tokenizer.tokenize(input_sequence)\n",
    "    initial_output = get_model_output(input_sequence)\n",
    "\n",
    "    # Initialize a dictionary to store the importance of each token\n",
    "    token_importance = {}\n",
    "\n",
    "    for i, token in enumerate(tokens):\n",
    "        print(i)\n",
    "        # Get the most similar tokens to the current token\n",
    "        similar_tokens = get_most_similar_tokens(token, model, tokenizer, n_tokens=20)\n",
    "\n",
    "        # For each similar token\n",
    "        for similar_token in similar_tokens:\n",
    "            # Replace the current token with the similar token\n",
    "            perturbed_input = \" \".join(tokens[:i] + [similar_token] + tokens[i+1:])\n",
    "\n",
    "            # Get the output logprobs for the perturbed input\n",
    "            perturbed_output = get_model_output(perturbed_input)\n",
    "\n",
    "            # If all output logprobs are no longer in the top 20\n",
    "            if not all_tokens_in_top_20(initial_output.logprobs, perturbed_output.logprobs):\n",
    "                # Assign importance to the current token based on the index of the similar token\n",
    "                token_importance[token] = similar_tokens.index(similar_token)\n",
    "                break\n",
    "\n",
    "    return initial_output.message.content, token_importance"
   ]
  },
  {
   "cell_type": "code",
   "execution_count": 28,
   "metadata": {},
   "outputs": [
    {
     "name": "stdout",
     "output_type": "stream",
     "text": [
      "0\n",
      "1\n",
      "2\n",
      "3\n",
      "4\n",
      "5\n",
      "6\n",
      "7\n",
      "8\n",
      "9\n",
      "ChatCompletionMessage(content='Je suis Mike.', role='assistant', function_call=None, tool_calls=None)\n",
      "Token: Trans, Importance: 4\n",
      "Token: late, Importance: 7\n",
      "Token: Ġto, Importance: 1\n",
      "Token: ĠFrench, Importance: 0\n",
      "Token: I, Importance: 5\n",
      "Token: Ġam, Importance: 7\n",
      "Token: ĠMike, Importance: 1\n",
      "Token: ', Importance: 1\n"
     ]
    }
   ],
   "source": [
    "input_sequence = \"Translate to French: 'I am Mike'\"\n",
    "output_message, token_importance = calculate_token_importance(input_sequence, model, tokenizer)\n",
    "\n",
    "# Print the importance of each token\n",
    "print(output_message)\n",
    "for token, importance in token_importance.items():\n",
    "    print(f\"Token: {token}, Importance: {importance}\")"
   ]
  },
  {
   "cell_type": "code",
   "execution_count": 36,
   "metadata": {},
   "outputs": [
    {
     "name": "stdout",
     "output_type": "stream",
     "text": [
      "Input: Translate the following English text to Spanish: 'Hello, how are you?'\n",
      "Perturbation: Translate the following English message to Spanish: 'Hello, how are you?'\n",
      "ChoiceLogprobs(content=[ChatCompletionTokenLogprob(token=\"'H\", bytes=[39, 72], logprob=-1.0393208, top_logprobs=[TopLogprob(token='Hola', bytes=[72, 111, 108, 97], logprob=-0.5348233), TopLogprob(token=\"'H\", bytes=[39, 72], logprob=-1.0393208), TopLogprob(token='¡', bytes=[194, 161], logprob=-2.9327002), TopLogprob(token='\"H', bytes=[34, 72], logprob=-4.978692), TopLogprob(token=\"'\", bytes=[39], logprob=-8.790809), TopLogprob(token='\"', bytes=[34], logprob=-10.078332), TopLogprob(token='The', bytes=[84, 104, 101], logprob=-10.162473), TopLogprob(token='-H', bytes=[45, 72], logprob=-10.2620325), TopLogprob(token=\"''\", bytes=[39, 39], logprob=-10.335744), TopLogprob(token='Translation', bytes=[84, 114, 97, 110, 115, 108, 97, 116, 105, 111, 110], logprob=-10.907006), TopLogprob(token='´', bytes=[194, 180], logprob=-11.357045), TopLogprob(token=\"'S\", bytes=[39, 83], logprob=-11.531449), TopLogprob(token='H', bytes=[72], logprob=-11.5562315), TopLogprob(token='Spanish', bytes=[83, 112, 97, 110, 105, 115, 104], logprob=-11.624881), TopLogprob(token='Translated', bytes=[84, 114, 97, 110, 115, 108, 97, 116, 101, 100], logprob=-11.836211), TopLogprob(token='-', bytes=[45], logprob=-12.201905), TopLogprob(token='`', bytes=[96], logprob=-12.285863), TopLogprob(token='¿', bytes=[194, 191], logprob=-12.889575), TopLogprob(token='\\ufeff', bytes=[239, 187, 191], logprob=-13.057836), TopLogprob(token='‘', bytes=[226, 128, 152], logprob=-13.399377)]), ChatCompletionTokenLogprob(token='ola', bytes=[111, 108, 97], logprob=-2.1008714e-06, top_logprobs=[TopLogprob(token='ola', bytes=[111, 108, 97], logprob=-2.1008714e-06), TopLogprob(token='ol', bytes=[111, 108], logprob=-13.131117), TopLogprob(token='allo', bytes=[97, 108, 108, 111], logprob=-20.384861), TopLogprob(token='olla', bytes=[111, 108, 108, 97], logprob=-20.411251), TopLogprob(token='oa', bytes=[111, 97], logprob=-20.611195), TopLogprob(token='alo', bytes=[97, 108, 111], logprob=-20.641134), TopLogprob(token='ó', bytes=[195, 179], logprob=-21.25274), TopLogprob(token='oli', bytes=[111, 108, 105], logprob=-21.694883), TopLogprob(token='olas', bytes=[111, 108, 97, 115], logprob=-22.16289), TopLogprob(token='olo', bytes=[111, 108, 111], logprob=-22.466837), TopLogprob(token='OLA', bytes=[79, 76, 65], logprob=-22.728582), TopLogprob(token='ora', bytes=[111, 114, 97], logprob=-22.937462), TopLogprob(token=' o', bytes=[32, 111], logprob=-22.944206), TopLogprob(token='oy', bytes=[111, 121], logprob=-22.961805), TopLogprob(token='olah', bytes=[111, 108, 97, 104], logprob=-23.310934), TopLogprob(token='la', bytes=[108, 97], logprob=-23.33656), TopLogprob(token='ól', bytes=[195, 179, 108], logprob=-23.41042), TopLogprob(token='oola', bytes=[111, 111, 108, 97], logprob=-23.772326), TopLogprob(token='o', bytes=[111], logprob=-23.820648), TopLogprob(token='ala', bytes=[97, 108, 97], logprob=-23.983358)]), ChatCompletionTokenLogprob(token=',', bytes=[44], logprob=-4.179569e-05, top_logprobs=[TopLogprob(token=',', bytes=[44], logprob=-4.179569e-05), TopLogprob(token=' ¿', bytes=[32, 194, 191], logprob=-10.106901), TopLogprob(token=' ,', bytes=[32, 44], logprob=-14.919901), TopLogprob(token='.', bytes=[46], logprob=-15.347975), TopLogprob(token=' cómo', bytes=[32, 99, 195, 179, 109, 111], logprob=-15.392086), TopLogprob(token='¿', bytes=[194, 191], logprob=-16.005375), TopLogprob(token='!', bytes=[33], logprob=-17.231829), TopLogprob(token=\"',\", bytes=[39, 44], logprob=-17.501953), TopLogprob(token=' como', bytes=[32, 99, 111, 109, 111], logprob=-17.743385), TopLogprob(token=',,', bytes=[44, 44], logprob=-18.267862), TopLogprob(token=',\\n', bytes=[44, 10], logprob=-18.462082), TopLogprob(token=\"'\", bytes=[39], logprob=-18.917791), TopLogprob(token='́', bytes=[204, 129], logprob=-19.311956), TopLogprob(token='\\u200b', bytes=[226, 128, 139], logprob=-19.465322), TopLogprob(token='.,', bytes=[46, 44], logprob=-19.66911), TopLogprob(token=' qué', bytes=[32, 113, 117, 195, 169], logprob=-19.805254), TopLogprob(token=' ', bytes=[32], logprob=-19.892164), TopLogprob(token=' ¡', bytes=[32, 194, 161], logprob=-19.902624), TopLogprob(token='，', bytes=[239, 188, 140], logprob=-19.936928), TopLogprob(token=',c', bytes=[44, 99], logprob=-20.131823)]), ChatCompletionTokenLogprob(token=' ¿', bytes=[32, 194, 191], logprob=-0.004613234, top_logprobs=[TopLogprob(token=' ¿', bytes=[32, 194, 191], logprob=-0.004613234), TopLogprob(token=' cómo', bytes=[32, 99, 195, 179, 109, 111], logprob=-5.4048057), TopLogprob(token=' como', bytes=[32, 99, 111, 109, 111], logprob=-9.394002), TopLogprob(token='¿', bytes=[194, 191], logprob=-10.778419), TopLogprob(token=' ', bytes=[32], logprob=-13.588805), TopLogprob(token=' qué', bytes=[32, 113, 117, 195, 169], logprob=-13.878657), TopLogprob(token=' ¡', bytes=[32, 194, 161], logprob=-14.679715), TopLogprob(token=' ?', bytes=[32, 63], logprob=-14.954261), TopLogprob(token=' C', bytes=[32, 67], logprob=-15.230868), TopLogprob(token='\\xa0', bytes=[194, 160], logprob=-16.064207), TopLogprob(token=' Como', bytes=[32, 67, 111, 109, 111], logprob=-17.018867), TopLogprob(token=' how', bytes=[32, 104, 111, 119], logprob=-17.07683), TopLogprob(token=' \\u200b\\u200b', bytes=[32, 226, 128, 139, 226, 128, 139], logprob=-17.571257), TopLogprob(token=' \\u200b', bytes=[32, 226, 128, 139], logprob=-17.65744), TopLogprob(token=' có', bytes=[32, 99, 195, 179], logprob=-17.665648), TopLogprob(token=' �', bytes=[32, 239, 191, 189], logprob=-17.961832), TopLogprob(token=' How', bytes=[32, 72, 111, 119], logprob=-17.993221), TopLogprob(token=' \\n', bytes=[32, 10], logprob=-18.004786), TopLogprob(token=' \\\\xc2', bytes=[32, 194], logprob=-18.15026), TopLogprob(token=' c', bytes=[32, 99], logprob=-18.260017)]), ChatCompletionTokenLogprob(token='c', bytes=[99], logprob=-0.001137835, top_logprobs=[TopLogprob(token='c', bytes=[99], logprob=-0.001137835), TopLogprob(token='Cómo', bytes=[67, 195, 179, 109, 111], logprob=-6.8082285), TopLogprob(token='como', bytes=[99, 111, 109, 111], logprob=-10.65289), TopLogprob(token=' cómo', bytes=[32, 99, 195, 179, 109, 111], logprob=-12.014659), TopLogprob(token='qué', bytes=[113, 117, 195, 169], logprob=-12.987403), TopLogprob(token=' C', bytes=[32, 67], logprob=-16.262682), TopLogprob(token='Como', bytes=[67, 111, 109, 111], logprob=-16.263762), TopLogprob(token='<|end|>', bytes=None, logprob=-16.331976), TopLogprob(token='ómo', bytes=[195, 179, 109, 111], logprob=-16.759174), TopLogprob(token='co', bytes=[99, 111], logprob=-16.837603), TopLogprob(token='cu', bytes=[99, 117], logprob=-16.872246), TopLogprob(token='Qué', bytes=[81, 117, 195, 169], logprob=-16.884277), TopLogprob(token='C', bytes=[67], logprob=-17.061882), TopLogprob(token='how', bytes=[104, 111, 119], logprob=-17.341778), TopLogprob(token='cm', bytes=[99, 109], logprob=-17.688728), TopLogprob(token='h', bytes=[104], logprob=-18.53641), TopLogprob(token='com', bytes=[99, 111, 109], logprob=-18.747421), TopLogprob(token=\"'\", bytes=[39], logprob=-19.150707), TopLogprob(token='qu', bytes=[113, 117], logprob=-19.39767), TopLogprob(token='que', bytes=[113, 117, 101], logprob=-19.504263)]), ChatCompletionTokenLogprob(token='ómo', bytes=[195, 179, 109, 111], logprob=-9.2457245e-05, top_logprobs=[TopLogprob(token='ómo', bytes=[195, 179, 109, 111], logprob=-9.2457245e-05), TopLogprob(token='óm', bytes=[195, 179, 109], logprob=-9.481023), TopLogprob(token='ó', bytes=[195, 179], logprob=-11.175427), TopLogprob(token='ò', bytes=[195, 178], logprob=-13.753474), TopLogprob(token='\\u200b', bytes=[226, 128, 139], logprob=-15.660977), TopLogprob(token='ö', bytes=[195, 182], logprob=-15.908595), TopLogprob(token='\\\\xe1', bytes=[225], logprob=-15.986033), TopLogprob(token='ón', bytes=[195, 179, 110], logprob=-16.04157), TopLogprob(token='Ó', bytes=[195, 147], logprob=-16.527395), TopLogprob(token='&oacute', bytes=[38, 111, 97, 99, 117, 116, 101], logprob=-16.564524), TopLogprob(token='\\\\xef\\\\xbf', bytes=[239, 191], logprob=-16.783401), TopLogprob(token='\\u200b\\u200b', bytes=[226, 128, 139, 226, 128, 139], logprob=-17.020298), TopLogprob(token='�', bytes=[239, 191, 189], logprob=-17.319761), TopLogprob(token='ú', bytes=[195, 186], logprob=-17.343231), TopLogprob(token='ό', bytes=[207, 140], logprob=-17.367184), TopLogprob(token='´', bytes=[194, 180], logprob=-17.550194), TopLogprob(token='Cómo', bytes=[67, 195, 179, 109, 111], logprob=-17.566795), TopLogprob(token=' ó', bytes=[32, 195, 179], logprob=-17.945557), TopLogprob(token='ódigo', bytes=[195, 179, 100, 105, 103, 111], logprob=-17.980896), TopLogprob(token='ō', bytes=[197, 141], logprob=-18.07086)]), ChatCompletionTokenLogprob(token=' est', bytes=[32, 101, 115, 116], logprob=-2.7372049e-05, top_logprobs=[TopLogprob(token=' est', bytes=[32, 101, 115, 116], logprob=-2.7372049e-05), TopLogprob(token=' estas', bytes=[32, 101, 115, 116, 97, 115], logprob=-10.854808), TopLogprob(token=' está', bytes=[32, 101, 115, 116, 195, 161], logprob=-11.932725), TopLogprob(token=' están', bytes=[32, 101, 115, 116, 195, 161, 110], logprob=-13.812703), TopLogprob(token=' Est', bytes=[32, 69, 115, 116], logprob=-14.771041), TopLogprob(token=' te', bytes=[32, 116, 101], logprob=-17.278452), TopLogprob(token=' ', bytes=[32], logprob=-17.967115), TopLogprob(token=' esta', bytes=[32, 101, 115, 116, 97], logprob=-18.048258), TopLogprob(token='_est', bytes=[95, 101, 115, 116], logprob=-18.250143), TopLogprob(token='est', bytes=[101, 115, 116], logprob=-18.52801), TopLogprob(token='.est', bytes=[46, 101, 115, 116], logprob=-18.8755), TopLogprob(token=' estar', bytes=[32, 101, 115, 116, 97, 114], logprob=-19.092833), TopLogprob(token='Est', bytes=[69, 115, 116], logprob=-19.764854), TopLogprob(token='\\xa0', bytes=[194, 160], logprob=-19.990726), TopLogprob(token=' es', bytes=[32, 101, 115], logprob=-20.007269), TopLogprob(token=' EST', bytes=[32, 69, 83, 84], logprob=-20.04845), TopLogprob(token=' estamos', bytes=[32, 101, 115, 116, 97, 109, 111, 115], logprob=-20.065025), TopLogprob(token=' has', bytes=[32, 104, 97, 115], logprob=-20.237978), TopLogprob(token=' estoy', bytes=[32, 101, 115, 116, 111, 121], logprob=-20.51727), TopLogprob(token=' vas', bytes=[32, 118, 97, 115], logprob=-20.576262)]), ChatCompletionTokenLogprob(token='ás', bytes=[195, 161, 115], logprob=0.0, top_logprobs=[TopLogprob(token='ás', bytes=[195, 161, 115], logprob=0.0), TopLogprob(token='à', bytes=[195, 160], logprob=-18.158258), TopLogprob(token='s', bytes=[115], logprob=-19.483753), TopLogprob(token='<|end|>', bytes=None, logprob=-20.422539), TopLogprob(token='\\u200b', bytes=[226, 128, 139], logprob=-21.1432), TopLogprob(token='Á', bytes=[195, 129], logprob=-21.274057), TopLogprob(token='Ã', bytes=[195, 131], logprob=-21.343111), TopLogprob(token='´', bytes=[194, 180], logprob=-21.39357), TopLogprob(token='ása', bytes=[195, 161, 115, 97], logprob=-21.507557), TopLogprob(token=' á', bytes=[32, 195, 161], logprob=-21.575945), TopLogprob(token='és', bytes=[195, 169, 115], logprob=-22.068182), TopLogprob(token='äs', bytes=[195, 164, 115], logprob=-22.11519), TopLogprob(token='å', bytes=[195, 165], logprob=-22.364023), TopLogprob(token='&a', bytes=[38, 97], logprob=-22.866648), TopLogprob(token='u', bytes=[117], logprob=-22.907778), TopLogprob(token='??', bytes=[63, 63], logprob=-23.106382), TopLogprob(token='ais', bytes=[97, 105, 115], logprob=-23.20674), TopLogprob(token=\"'\", bytes=[39], logprob=-23.211374), TopLogprob(token='\\u200b\\u200b', bytes=[226, 128, 139, 226, 128, 139], logprob=-23.298521), TopLogprob(token='&#', bytes=[38, 35], logprob=-23.557688)]), ChatCompletionTokenLogprob(token=\"?'\", bytes=[63, 39], logprob=-0.001919122, top_logprobs=[TopLogprob(token=\"?'\", bytes=[63, 39], logprob=-0.001919122), TopLogprob(token='?', bytes=[63], logprob=-6.2941155), TopLogprob(token='?\"', bytes=[63, 34], logprob=-10.217724), TopLogprob(token='?’', bytes=[63, 226, 128, 153], logprob=-10.967085), TopLogprob(token=\"?'\\n\\n\", bytes=[63, 39, 10, 10], logprob=-11.497112), TopLogprob(token=' tú', bytes=[32, 116, 195, 186], logprob=-12.482952), TopLogprob(token='?”', bytes=[63, 226, 128, 157], logprob=-14.36104), TopLogprob(token=\"?',\", bytes=[63, 39, 44], logprob=-14.42795), TopLogprob(token=\"'?\", bytes=[39, 63], logprob=-14.829485), TopLogprob(token='?\\n', bytes=[63, 10], logprob=-14.856407), TopLogprob(token=' ?', bytes=[32, 63], logprob=-15.552555), TopLogprob(token='?.', bytes=[63, 46], logprob=-16.062414), TopLogprob(token=' tu', bytes=[32, 116, 117], logprob=-16.451399), TopLogprob(token=\"'\", bytes=[39], logprob=-16.659065), TopLogprob(token=\".'\", bytes=[46, 39], logprob=-17.245844), TopLogprob(token='?\\n\\n', bytes=[63, 10, 10], logprob=-17.401638), TopLogprob(token=\"?('\", bytes=[63, 40, 39], logprob=-17.481386), TopLogprob(token=\"?',\\n\", bytes=[63, 39, 44, 10], logprob=-18.442896), TopLogprob(token=' usted', bytes=[32, 117, 115, 116, 101, 100], logprob=-18.491367), TopLogprob(token='/', bytes=[47], logprob=-18.6128)])])\n",
      "Total Logprob Difference: 1.0421612963674003\n",
      "Max Logprob Difference: 1.0393208\n",
      "Token Displacement: 6\n",
      "\n",
      "\n",
      "Input: What is the capital of France?\n",
      "Perturbation: What is the population of France?\n",
      "ChoiceLogprobs(content=[ChatCompletionTokenLogprob(token='The', bytes=[84, 104, 101], logprob=-0.046778508, top_logprobs=[TopLogprob(token='The', bytes=[84, 104, 101], logprob=-0.046778508), TopLogprob(token='Paris', bytes=[80, 97, 114, 105, 115], logprob=-3.0859935), TopLogprob(token='the', bytes=[116, 104, 101], logprob=-11.948401), TopLogprob(token='-', bytes=[45], logprob=-12.389701), TopLogprob(token=' The', bytes=[32, 84, 104, 101], logprob=-13.685393), TopLogprob(token='he', bytes=[104, 101], logprob=-14.204408), TopLogprob(token='par', bytes=[112, 97, 114], logprob=-14.517085), TopLogprob(token=' Paris', bytes=[32, 80, 97, 114, 105, 115], logprob=-14.659329), TopLogprob(token='Par', bytes=[80, 97, 114], logprob=-14.892417), TopLogprob(token='T', bytes=[84], logprob=-15.132791), TopLogprob(token='France', bytes=[70, 114, 97, 110, 99, 101], logprob=-15.488942), TopLogprob(token='\\u200b', bytes=[226, 128, 139], logprob=-15.72376), TopLogprob(token='As', bytes=[65, 115], logprob=-15.786847), TopLogprob(token='\\u200b\\u200b', bytes=[226, 128, 139, 226, 128, 139], logprob=-15.855687), TopLogprob(token='PAR', bytes=[80, 65, 82], logprob=-15.933246), TopLogprob(token='\\n', bytes=[10], logprob=-16.057648), TopLogprob(token='There', bytes=[84, 104, 101, 114, 101], logprob=-16.086634), TopLogprob(token='I', bytes=[73], logprob=-16.11847), TopLogprob(token='It', bytes=[73, 116], logprob=-16.155394), TopLogprob(token='\"', bytes=[34], logprob=-16.329044)]), ChatCompletionTokenLogprob(token=' capital', bytes=[32, 99, 97, 112, 105, 116, 97, 108], logprob=-1.3856493e-06, top_logprobs=[TopLogprob(token=' capital', bytes=[32, 99, 97, 112, 105, 116, 97, 108], logprob=-1.3856493e-06), TopLogprob(token=' Capital', bytes=[32, 67, 97, 112, 105, 116, 97, 108], logprob=-14.419126), TopLogprob(token=' ', bytes=[32], logprob=-15.186822), TopLogprob(token=' capita', bytes=[32, 99, 97, 112, 105, 116, 97], logprob=-15.298121), TopLogprob(token=' capt', bytes=[32, 99, 97, 112, 116], logprob=-16.282003), TopLogprob(token=' city', bytes=[32, 99, 105, 116, 121], logprob=-16.357693), TopLogprob(token='capital', bytes=[99, 97, 112, 105, 116, 97, 108], logprob=-16.75099), TopLogprob(token='\\xa0', bytes=[194, 160], logprob=-17.842937), TopLogprob(token=' c', bytes=[32, 99], logprob=-17.885492), TopLogprob(token=' cap', bytes=[32, 99, 97, 112], logprob=-18.07274), TopLogprob(token=' the', bytes=[32, 116, 104, 101], logprob=-18.153225), TopLogprob(token=' current', bytes=[32, 99, 117, 114, 114, 101, 110, 116], logprob=-18.368202), TopLogprob(token=' French', bytes=[32, 70, 114, 101, 110, 99, 104], logprob=-18.897108), TopLogprob(token=' answer', bytes=[32, 97, 110, 115, 119, 101, 114], logprob=-19.416265), TopLogprob(token=' is', bytes=[32, 105, 115], logprob=-19.508503), TopLogprob(token=' ca', bytes=[32, 99, 97], logprob=-19.521349), TopLogprob(token=' capit', bytes=[32, 99, 97, 112, 105, 116], logprob=-19.642159), TopLogprob(token=' capitals', bytes=[32, 99, 97, 112, 105, 116, 97, 108, 115], logprob=-19.776415), TopLogprob(token=' national', bytes=[32, 110, 97, 116, 105, 111, 110, 97, 108], logprob=-20.03473), TopLogprob(token=' official', bytes=[32, 111, 102, 102, 105, 99, 105, 97, 108], logprob=-20.261133)]), ChatCompletionTokenLogprob(token=' of', bytes=[32, 111, 102], logprob=-0.00043293412, top_logprobs=[TopLogprob(token=' of', bytes=[32, 111, 102], logprob=-0.00043293412), TopLogprob(token=' city', bytes=[32, 99, 105, 116, 121], logprob=-7.747177), TopLogprob(token=' is', bytes=[32, 105, 115], logprob=-14.544926), TopLogprob(token=' if', bytes=[32, 105, 102], logprob=-16.45275), TopLogprob(token=' France', bytes=[32, 70, 114, 97, 110, 99, 101], logprob=-16.575466), TopLogprob(token=' and', bytes=[32, 97, 110, 100], logprob=-16.775784), TopLogprob(token=' fo', bytes=[32, 102, 111], logprob=-16.863476), TopLogprob(token=' ', bytes=[32], logprob=-16.888138), TopLogprob(token=' City', bytes=[32, 67, 105, 116, 121], logprob=-17.263844), TopLogprob(token=' o', bytes=[32, 111], logprob=-17.431458), TopLogprob(token='of', bytes=[111, 102], logprob=-17.541885), TopLogprob(token=' pf', bytes=[32, 112, 102], logprob=-17.804634), TopLogprob(token=' on', bytes=[32, 111, 110], logprob=-18.064064), TopLogprob(token=' the', bytes=[32, 116, 104, 101], logprob=-18.284885), TopLogprob(token=' or', bytes=[32, 111, 114], logprob=-18.80046), TopLogprob(token=' od', bytes=[32, 111, 100], logprob=-18.912407), TopLogprob(token='\\xa0', bytes=[194, 160], logprob=-18.948383), TopLogprob(token=' for', bytes=[32, 102, 111, 114], logprob=-19.261217), TopLogprob(token=' off', bytes=[32, 111, 102, 102], logprob=-19.282225), TopLogprob(token=' f', bytes=[32, 102], logprob=-19.409733)]), ChatCompletionTokenLogprob(token=' France', bytes=[32, 70, 114, 97, 110, 99, 101], logprob=-1.8624639e-06, top_logprobs=[TopLogprob(token=' France', bytes=[32, 70, 114, 97, 110, 99, 101], logprob=-1.8624639e-06), TopLogprob(token=' Paris', bytes=[32, 80, 97, 114, 105, 115], logprob=-14.648106), TopLogprob(token=' france', bytes=[32, 102, 114, 97, 110, 99, 101], logprob=-14.941217), TopLogprob(token='France', bytes=[70, 114, 97, 110, 99, 101], logprob=-15.488249), TopLogprob(token=' ', bytes=[32], logprob=-15.750479), TopLogprob(token=' Fr', bytes=[32, 70, 114], logprob=-15.829638), TopLogprob(token=' Fran', bytes=[32, 70, 114, 97, 110], logprob=-16.266125), TopLogprob(token=' F', bytes=[32, 70], logprob=-16.465601), TopLogprob(token=' of', bytes=[32, 111, 102], logprob=-16.549013), TopLogprob(token=' Franc', bytes=[32, 70, 114, 97, 110, 99], logprob=-16.614725), TopLogprob(token=' Frances', bytes=[32, 70, 114, 97, 110, 99, 101, 115], logprob=-16.618212), TopLogprob(token=' is', bytes=[32, 105, 115], logprob=-16.871254), TopLogprob(token=' Fra', bytes=[32, 70, 114, 97], logprob=-17.521526), TopLogprob(token='\\xa0', bytes=[194, 160], logprob=-17.597652), TopLogprob(token=' Spain', bytes=[32, 83, 112, 97, 105, 110], logprob=-17.750378), TopLogprob(token=' the', bytes=[32, 116, 104, 101], logprob=-17.758156), TopLogprob(token=' French', bytes=[32, 70, 114, 101, 110, 99, 104], logprob=-18.033447), TopLogprob(token=' Italy', bytes=[32, 73, 116, 97, 108, 121], logprob=-18.186794), TopLogprob(token=' Germany', bytes=[32, 71, 101, 114, 109, 97, 110, 121], logprob=-19.201107), TopLogprob(token=' Francis', bytes=[32, 70, 114, 97, 110, 99, 105, 115], logprob=-19.841702)]), ChatCompletionTokenLogprob(token=' is', bytes=[32, 105, 115], logprob=-4.00813e-06, top_logprobs=[TopLogprob(token=' is', bytes=[32, 105, 115], logprob=-4.00813e-06), TopLogprob(token=' in', bytes=[32, 105, 110], logprob=-12.595865), TopLogprob(token=' Paris', bytes=[32, 80, 97, 114, 105, 115], logprob=-16.10636), TopLogprob(token=' ', bytes=[32], logprob=-16.164879), TopLogprob(token=',', bytes=[44], logprob=-16.255533), TopLogprob(token=' if', bytes=[32, 105, 102], logprob=-17.144909), TopLogprob(token='is', bytes=[105, 115], logprob=-17.513931), TopLogprob(token=' the', bytes=[32, 116, 104, 101], logprob=-17.666012), TopLogprob(token=' it', bytes=[32, 105, 116], logprob=-17.674284), TopLogprob(token=' Is', bytes=[32, 73, 115], logprob=-17.835964), TopLogprob(token=' ist', bytes=[32, 105, 115, 116], logprob=-18.044174), TopLogprob(token=' and', bytes=[32, 97, 110, 100], logprob=-18.08397), TopLogprob(token='.', bytes=[46], logprob=-18.163305), TopLogprob(token=' (', bytes=[32, 40], logprob=-18.611052), TopLogprob(token=\"'s\", bytes=[39, 115], logprob=-18.623005), TopLogprob(token=' its', bytes=[32, 105, 116, 115], logprob=-18.690632), TopLogprob(token=' id', bytes=[32, 105, 100], logprob=-18.853104), TopLogprob(token=' of', bytes=[32, 111, 102], logprob=-18.853197), TopLogprob(token=':', bytes=[58], logprob=-18.963758), TopLogprob(token='\\tis', bytes=[9, 105, 115], logprob=-19.16154)]), ChatCompletionTokenLogprob(token=' Paris', bytes=[32, 80, 97, 114, 105, 115], logprob=-4.3202e-07, top_logprobs=[TopLogprob(token=' Paris', bytes=[32, 80, 97, 114, 105, 115], logprob=-4.3202e-07), TopLogprob(token=' ', bytes=[32], logprob=-15.499727), TopLogprob(token='Paris', bytes=[80, 97, 114, 105, 115], logprob=-15.737141), TopLogprob(token=' **', bytes=[32, 42, 42], logprob=-17.769484), TopLogprob(token=' P', bytes=[32, 80], logprob=-18.143503), TopLogprob(token='\\xa0', bytes=[194, 160], logprob=-18.377687), TopLogprob(token=' the', bytes=[32, 116, 104, 101], logprob=-18.531809), TopLogprob(token=' called', bytes=[32, 99, 97, 108, 108, 101, 100], logprob=-18.548573), TopLogprob(token=',', bytes=[44], logprob=-18.642473), TopLogprob(token=' \"', bytes=[32, 34], logprob=-18.69514), TopLogprob(token=' paris', bytes=[32, 112, 97, 114, 105, 115], logprob=-19.345943), TopLogprob(token=' known', bytes=[32, 107, 110, 111, 119, 110], logprob=-19.63383), TopLogprob(token=' is', bytes=[32, 105, 115], logprob=-19.840342), TopLogprob(token=' Par', bytes=[32, 80, 97, 114], logprob=-19.85952), TopLogprob(token=' <', bytes=[32, 60], logprob=-19.96776), TopLogprob(token=' Pa', bytes=[32, 80, 97], logprob=-20.46565), TopLogprob(token=' a', bytes=[32, 97], logprob=-20.728043), TopLogprob(token='\\n', bytes=[10], logprob=-20.828035), TopLogprob(token=' *', bytes=[32, 42], logprob=-20.982327), TopLogprob(token=' \\n\\n', bytes=[32, 10, 10], logprob=-21.011354)]), ChatCompletionTokenLogprob(token='.', bytes=[46], logprob=-6.873572e-05, top_logprobs=[TopLogprob(token='.', bytes=[46], logprob=-6.873572e-05), TopLogprob(token='<|end|>', bytes=None, logprob=-9.671387), TopLogprob(token=',', bytes=[44], logprob=-12.598664), TopLogprob(token='.\\n\\n', bytes=[46, 10, 10], logprob=-13.549565), TopLogprob(token='.\\n', bytes=[46, 10], logprob=-14.285532), TopLogprob(token=' .', bytes=[32, 46], logprob=-16.109333), TopLogprob(token=' ', bytes=[32], logprob=-16.789793), TopLogprob(token='!', bytes=[33], logprob=-17.358364), TopLogprob(token='.\\n\\n\\n', bytes=[46, 10, 10, 10], logprob=-17.675663), TopLogprob(token='<|end|>', bytes=None, logprob=-17.959019), TopLogprob(token='..', bytes=[46, 46], logprob=-18.13543), TopLogprob(token=' and', bytes=[32, 97, 110, 100], logprob=-18.14056), TopLogprob(token=' in', bytes=[32, 105, 110], logprob=-18.17966), TopLogprob(token=' which', bytes=[32, 119, 104, 105, 99, 104], logprob=-18.395548), TopLogprob(token=' -', bytes=[32, 45], logprob=-18.726116), TopLogprob(token=' (', bytes=[32, 40], logprob=-18.86308), TopLogprob(token='.\"', bytes=[46, 34], logprob=-18.963207), TopLogprob(token=' located', bytes=[32, 108, 111, 99, 97, 116, 101, 100], logprob=-18.977966), TopLogprob(token=' \\\\xf0\\\\x9f', bytes=[32, 240, 159], logprob=-19.072718), TopLogprob(token='.\\n\\n\\n\\n', bytes=[46, 10, 10, 10, 10], logprob=-19.482166)])])\n",
      "Total Logprob Difference: 0.0472857804122\n",
      "Max Logprob Difference: 0.046778508\n",
      "Token Displacement: 24\n",
      "\n",
      "\n",
      "Input: Who won the world series in 2020?\n",
      "Perturbation: Who won the world series in 2019?\n",
      "ChoiceLogprobs(content=[ChatCompletionTokenLogprob(token='The', bytes=[84, 104, 101], logprob=-0.0010332842, top_logprobs=[TopLogprob(token='The', bytes=[84, 104, 101], logprob=-0.0010332842), TopLogprob(token='In', bytes=[73, 110], logprob=-7.258775), TopLogprob(token='Los', bytes=[76, 111, 115], logprob=-8.705909), TopLogprob(token=' The', bytes=[32, 84, 104, 101], logprob=-9.708987), TopLogprob(token='he', bytes=[104, 101], logprob=-10.156442), TopLogprob(token='the', bytes=[116, 104, 101], logprob=-10.218965), TopLogprob(token='202', bytes=[50, 48, 50], logprob=-12.578477), TopLogprob(token='Due', bytes=[68, 117, 101], logprob=-13.219758), TopLogprob(token='-', bytes=[45], logprob=-13.335719), TopLogprob(token='T', bytes=[84], logprob=-13.342523), TopLogprob(token='-The', bytes=[45, 84, 104, 101], logprob=-13.474364), TopLogprob(token='\\tThe', bytes=[9, 84, 104, 101], logprob=-13.862876), TopLogprob(token='in', bytes=[105, 110], logprob=-13.869983), TopLogprob(token='There', bytes=[84, 104, 101, 114, 101], logprob=-13.913671), TopLogprob(token='Th', bytes=[84, 104], logprob=-14.047019), TopLogprob(token='.', bytes=[46], logprob=-14.127332), TopLogprob(token='It', bytes=[73, 116], logprob=-14.182819), TopLogprob(token='.The', bytes=[46, 84, 104, 101], logprob=-14.319959), TopLogprob(token='As', bytes=[65, 115], logprob=-14.322773), TopLogprob(token='\\n', bytes=[10], logprob=-14.4531555)]), ChatCompletionTokenLogprob(token=' Los', bytes=[32, 76, 111, 115], logprob=-0.005080295, top_logprobs=[TopLogprob(token=' Los', bytes=[32, 76, 111, 115], logprob=-0.005080295), TopLogprob(token=' ', bytes=[32], logprob=-5.3037176), TopLogprob(token=' World', bytes=[32, 87, 111, 114, 108, 100], logprob=-9.59409), TopLogprob(token=' world', bytes=[32, 119, 111, 114, 108, 100], logprob=-11.258628), TopLogprob(token=' LA', bytes=[32, 76, 65], logprob=-12.698752), TopLogprob(token=' Tampa', bytes=[32, 84, 97, 109, 112, 97], logprob=-13.069028), TopLogprob(token='\\xa0', bytes=[194, 160], logprob=-13.091777), TopLogprob(token=' winner', bytes=[32, 119, 105, 110, 110, 101, 114], logprob=-13.517661), TopLogprob(token=' Atlanta', bytes=[32, 65, 116, 108, 97, 110, 116, 97], logprob=-13.743121), TopLogprob(token=' L', bytes=[32, 76], logprob=-13.882329), TopLogprob(token='Los', bytes=[76, 111, 115], logprob=-14.426797), TopLogprob(token=' winners', bytes=[32, 119, 105, 110, 110, 101, 114, 115], logprob=-14.92434), TopLogprob(token=' los', bytes=[32, 108, 111, 115], logprob=-15.212487), TopLogprob(token=' the', bytes=[32, 116, 104, 101], logprob=-15.2144785), TopLogprob(token=' <', bytes=[32, 60], logprob=-15.7118025), TopLogprob(token=' Major', bytes=[32, 77, 97, 106, 111, 114], logprob=-15.825475), TopLogprob(token=' Washington', bytes=[32, 87, 97, 115, 104, 105, 110, 103, 116, 111, 110], logprob=-15.825641), TopLogprob(token=' \"', bytes=[32, 34], logprob=-16.293707), TopLogprob(token=' MLB', bytes=[32, 77, 76, 66], logprob=-16.383638), TopLogprob(token=' *', bytes=[32, 42], logprob=-16.44156)]), ChatCompletionTokenLogprob(token=' Angeles', bytes=[32, 65, 110, 103, 101, 108, 101, 115], logprob=-3.7697225e-06, top_logprobs=[TopLogprob(token=' Angeles', bytes=[32, 65, 110, 103, 101, 108, 101, 115], logprob=-3.7697225e-06), TopLogprob(token=' Ang', bytes=[32, 65, 110, 103], logprob=-12.725851), TopLogprob(token=' Angels', bytes=[32, 65, 110, 103, 101, 108, 115], logprob=-14.673023), TopLogprob(token=' Ange', bytes=[32, 65, 110, 103, 101], logprob=-15.705694), TopLogprob(token=' ange', bytes=[32, 97, 110, 103, 101], logprob=-16.991457), TopLogprob(token=' Angle', bytes=[32, 65, 110, 103, 108, 101], logprob=-17.716522), TopLogprob(token=' Dodgers', bytes=[32, 68, 111, 100, 103, 101, 114, 115], logprob=-17.811985), TopLogprob(token=' An', bytes=[32, 65, 110], logprob=-17.997578), TopLogprob(token=' A', bytes=[32, 65], logprob=-18.095623), TopLogprob(token=' ', bytes=[32], logprob=-18.400015), TopLogprob(token=' Angel', bytes=[32, 65, 110, 103, 101, 108], logprob=-18.467422), TopLogprob(token='An', bytes=[65, 110], logprob=-19.520689), TopLogprob(token='\\xa0', bytes=[194, 160], logprob=-19.783403), TopLogprob(token=' Los', bytes=[32, 76, 111, 115], logprob=-20.495104), TopLogprob(token=' Age', bytes=[32, 65, 103, 101], logprob=-20.563868), TopLogprob(token='-An', bytes=[45, 65, 110], logprob=-20.579496), TopLogprob(token=' Vegas', bytes=[32, 86, 101, 103, 97, 115], logprob=-20.58189), TopLogprob(token='n', bytes=[110], logprob=-20.662258), TopLogprob(token=' Á', bytes=[32, 195, 129], logprob=-20.667786), TopLogprob(token='a', bytes=[97], logprob=-20.71257)]), ChatCompletionTokenLogprob(token=' Dodgers', bytes=[32, 68, 111, 100, 103, 101, 114, 115], logprob=-6.301394e-05, top_logprobs=[TopLogprob(token=' Dodgers', bytes=[32, 68, 111, 100, 103, 101, 114, 115], logprob=-6.301394e-05), TopLogprob(token=' Dod', bytes=[32, 68, 111, 100], logprob=-10.41964), TopLogprob(token=' Dodge', bytes=[32, 68, 111, 100, 103, 101], logprob=-11.560865), TopLogprob(token=' dod', bytes=[32, 100, 111, 100], logprob=-11.699932), TopLogprob(token=' Lakers', bytes=[32, 76, 97, 107, 101, 114, 115], logprob=-12.22089), TopLogprob(token=' won', bytes=[32, 119, 111, 110], logprob=-12.499207), TopLogprob(token=' ', bytes=[32], logprob=-13.463772), TopLogprob(token=' Do', bytes=[32, 68, 111], logprob=-14.055531), TopLogprob(token=' D', bytes=[32, 68], logprob=-14.347103), TopLogprob(token='\\xa0', bytes=[194, 160], logprob=-14.908596), TopLogprob(token=' Dog', bytes=[32, 68, 111, 103], logprob=-14.911423), TopLogprob(token='Dod', bytes=[68, 111, 100], logprob=-15.041647), TopLogprob(token=' do', bytes=[32, 100, 111], logprob=-15.401831), TopLogprob(token=' (', bytes=[32, 40], logprob=-15.416676), TopLogprob(token=' Angels', bytes=[32, 65, 110, 103, 101, 108, 115], logprob=-15.741573), TopLogprob(token=' of', bytes=[32, 111, 102], logprob=-15.743362), TopLogprob(token=' dodge', bytes=[32, 100, 111, 100, 103, 101], logprob=-15.801607), TopLogprob(token=' are', bytes=[32, 97, 114, 101], logprob=-15.958803), TopLogprob(token=' will', bytes=[32, 119, 105, 108, 108], logprob=-16.332272), TopLogprob(token=' did', bytes=[32, 100, 105, 100], logprob=-16.51823)]), ChatCompletionTokenLogprob(token=' won', bytes=[32, 119, 111, 110], logprob=-5.8603408e-05, top_logprobs=[TopLogprob(token=' won', bytes=[32, 119, 111, 110], logprob=-5.8603408e-05), TopLogprob(token=' were', bytes=[32, 119, 101, 114, 101], logprob=-10.701238), TopLogprob(token='.', bytes=[46], logprob=-10.767034), TopLogprob(token=' are', bytes=[32, 97, 114, 101], logprob=-12.153287), TopLogprob(token='won', bytes=[119, 111, 110], logprob=-12.346478), TopLogprob(token=' defeated', bytes=[32, 100, 101, 102, 101, 97, 116, 101, 100], logprob=-13.030467), TopLogprob(token=' emerged', bytes=[32, 101, 109, 101, 114, 103, 101, 100], logprob=-13.611886), TopLogprob(token=',', bytes=[44], logprob=-13.968274), TopLogprob(token=' Won', bytes=[32, 87, 111, 110], logprob=-15.360343), TopLogprob(token=' ', bytes=[32], logprob=-15.528964), TopLogprob(token='Won', bytes=[87, 111, 110], logprob=-15.551797), TopLogprob(token=' is', bytes=[32, 105, 115], logprob=-16.685833), TopLogprob(token=' of', bytes=[32, 111, 102], logprob=-16.768158), TopLogprob(token=' (', bytes=[32, 40], logprob=-17.089716), TopLogprob(token=' in', bytes=[32, 105, 110], logprob=-17.212137), TopLogprob(token=' was', bytes=[32, 119, 97, 115], logprob=-17.417603), TopLogprob(token='.\\n\\n', bytes=[46, 10, 10], logprob=-17.643988), TopLogprob(token=' became', bytes=[32, 98, 101, 99, 97, 109, 101], logprob=-17.71189), TopLogprob(token='&nbsp', bytes=[38, 110, 98, 115, 112], logprob=-17.770418), TopLogprob(token=' with', bytes=[32, 119, 105, 116, 104], logprob=-17.953653)]), ChatCompletionTokenLogprob(token=' the', bytes=[32, 116, 104, 101], logprob=-5.080963e-06, top_logprobs=[TopLogprob(token=' the', bytes=[32, 116, 104, 101], logprob=-5.080963e-06), TopLogprob(token=' ', bytes=[32], logprob=-13.540742), TopLogprob(token=' in', bytes=[32, 105, 110], logprob=-13.669507), TopLogprob(token=' World', bytes=[32, 87, 111, 114, 108, 100], logprob=-14.001084), TopLogprob(token=' The', bytes=[32, 84, 104, 101], logprob=-14.41599), TopLogprob(token=' their', bytes=[32, 116, 104, 101, 105, 114], logprob=-14.593942), TopLogprob(token=' against', bytes=[32, 97, 103, 97, 105, 110, 115, 116], logprob=-14.816619), TopLogprob(token=' Major', bytes=[32, 77, 97, 106, 111, 114], logprob=-15.991235), TopLogprob(token='the', bytes=[116, 104, 101], logprob=-16.724049), TopLogprob(token=' th', bytes=[32, 116, 104], logprob=-16.922869), TopLogprob(token=' to', bytes=[32, 116, 111], logprob=-17.204666), TopLogprob(token=' t', bytes=[32, 116], logprob=-17.459732), TopLogprob(token=' and', bytes=[32, 97, 110, 100], logprob=-17.46167), TopLogprob(token=' he', bytes=[32, 104, 101], logprob=-17.513178), TopLogprob(token=',', bytes=[44], logprob=-17.584799), TopLogprob(token='.', bytes=[46], logprob=-17.734928), TopLogprob(token=' of', bytes=[32, 111, 102], logprob=-18.011795), TopLogprob(token=' Game', bytes=[32, 71, 97, 109, 101], logprob=-18.075262), TopLogprob(token=' a', bytes=[32, 97], logprob=-18.085648), TopLogprob(token=' MLB', bytes=[32, 77, 76, 66], logprob=-18.249935)]), ChatCompletionTokenLogprob(token=' ', bytes=[32], logprob=-1.0803578, top_logprobs=[TopLogprob(token=' World', bytes=[32, 87, 111, 114, 108, 100], logprob=-0.41508988), TopLogprob(token=' ', bytes=[32], logprob=-1.0803578), TopLogprob(token=' MLB', bytes=[32, 77, 76, 66], logprob=-8.719247), TopLogprob(token=' Major', bytes=[32, 77, 97, 106, 111, 114], logprob=-9.695561), TopLogprob(token=' world', bytes=[32, 119, 111, 114, 108, 100], logprob=-11.018184), TopLogprob(token=' the', bytes=[32, 116, 104, 101], logprob=-13.05067), TopLogprob(token='World', bytes=[87, 111, 114, 108, 100], logprob=-14.3246355), TopLogprob(token=' Word', bytes=[32, 87, 111, 114, 100], logprob=-15.381461), TopLogprob(token='202', bytes=[50, 48, 50], logprob=-15.41302), TopLogprob(token='\\xa0', bytes=[194, 160], logprob=-16.167776), TopLogprob(token=' most', bytes=[32, 109, 111, 115, 116], logprob=-16.354572), TopLogprob(token=' baseball', bytes=[32, 98, 97, 115, 101, 98, 97, 108, 108], logprob=-16.853123), TopLogprob(token=' Baseball', bytes=[32, 66, 97, 115, 101, 98, 97, 108, 108], logprob=-16.889366), TopLogprob(token=' in', bytes=[32, 105, 110], logprob=-17.322893), TopLogprob(token=' shortened', bytes=[32, 115, 104, 111, 114, 116, 101, 110, 101, 100], logprob=-17.671486), TopLogprob(token=' Wor', bytes=[32, 87, 111, 114], logprob=-17.676159), TopLogprob(token=' The', bytes=[32, 84, 104, 101], logprob=-18.113754), TopLogprob(token=' major', bytes=[32, 109, 97, 106, 111, 114], logprob=-18.207432), TopLogprob(token=' COVID', bytes=[32, 67, 79, 86, 73, 68], logprob=-18.316734), TopLogprob(token=' championship', bytes=[32, 99, 104, 97, 109, 112, 105, 111, 110, 115, 104, 105, 112], logprob=-18.323755)]), ChatCompletionTokenLogprob(token='202', bytes=[50, 48, 50], logprob=-4.4849444e-06, top_logprobs=[TopLogprob(token='202', bytes=[50, 48, 50], logprob=-4.4849444e-06), TopLogprob(token=' World', bytes=[32, 87, 111, 114, 108, 100], logprob=-13.328664), TopLogprob(token=' ', bytes=[32], logprob=-13.499743), TopLogprob(token='201', bytes=[50, 48, 49], logprob=-14.365478), TopLogprob(token='200', bytes=[50, 48, 48], logprob=-14.555316), TopLogprob(token='2', bytes=[50], logprob=-16.275265), TopLogprob(token='116', bytes=[49, 49, 54], logprob=-17.013323), TopLogprob(token=' world', bytes=[32, 119, 111, 114, 108, 100], logprob=-17.20064), TopLogprob(token='20', bytes=[50, 48], logprob=-17.47107), TopLogprob(token=' Major', bytes=[32, 77, 97, 106, 111, 114], logprob=-18.242298), TopLogprob(token=' MLB', bytes=[32, 77, 76, 66], logprob=-18.580366), TopLogprob(token='7', bytes=[55], logprob=-19.655651), TopLogprob(token='4', bytes=[52], logprob=-19.693562), TopLogprob(token='World', bytes=[87, 111, 114, 108, 100], logprob=-19.711933), TopLogprob(token='100', bytes=[49, 48, 48], logprob=-19.718685), TopLogprob(token=' the', bytes=[32, 116, 104, 101], logprob=-19.906013), TopLogprob(token='114', bytes=[49, 49, 52], logprob=-19.912617), TopLogprob(token='1', bytes=[49], logprob=-19.9454), TopLogprob(token='120', bytes=[49, 50, 48], logprob=-20.030174), TopLogprob(token='220', bytes=[50, 50, 48], logprob=-20.041412)]), ChatCompletionTokenLogprob(token='0', bytes=[48], logprob=-2.4584822e-06, top_logprobs=[TopLogprob(token='0', bytes=[48], logprob=-2.4584822e-06), TopLogprob(token='1', bytes=[49], logprob=-13.187314), TopLogprob(token='02', bytes=[48, 50], logprob=-15.114093), TopLogprob(token='2', bytes=[50], logprob=-16.090046), TopLogprob(token='o', bytes=[111], logprob=-17.46731), TopLogprob(token='9', bytes=[57], logprob=-17.970032), TopLogprob(token='O', bytes=[79], logprob=-18.1806), TopLogprob(token='01', bytes=[48, 49], logprob=-18.302315), TopLogprob(token='09', bytes=[48, 57], logprob=-18.486725), TopLogprob(token=' World', bytes=[32, 87, 111, 114, 108, 100], logprob=-18.725618), TopLogprob(token='3', bytes=[51], logprob=-18.961628), TopLogprob(token='08', bytes=[48, 56], logprob=-19.090935), TopLogprob(token='00', bytes=[48, 48], logprob=-19.205992), TopLogprob(token='20', bytes=[50, 48], logprob=-19.407116), TopLogprob(token='03', bytes=[48, 51], logprob=-19.54315), TopLogprob(token=' ', bytes=[32], logprob=-19.667458), TopLogprob(token='07', bytes=[48, 55], logprob=-19.95619), TopLogprob(token='4', bytes=[52], logprob=-20.196459), TopLogprob(token='06', bytes=[48, 54], logprob=-20.28898), TopLogprob(token='10', bytes=[49, 48], logprob=-20.424503)]), ChatCompletionTokenLogprob(token=' World', bytes=[32, 87, 111, 114, 108, 100], logprob=-1.4617256e-05, top_logprobs=[TopLogprob(token=' World', bytes=[32, 87, 111, 114, 108, 100], logprob=-1.4617256e-05), TopLogprob(token=' MLB', bytes=[32, 77, 76, 66], logprob=-11.456191), TopLogprob(token=' Major', bytes=[32, 77, 97, 106, 111, 114], logprob=-12.722379), TopLogprob(token=' world', bytes=[32, 119, 111, 114, 108, 100], logprob=-14.732301), TopLogprob(token='World', bytes=[87, 111, 114, 108, 100], logprob=-14.858375), TopLogprob(token=' Word', bytes=[32, 87, 111, 114, 100], logprob=-16.638536), TopLogprob(token=' ', bytes=[32], logprob=-17.38327), TopLogprob(token=' Wor', bytes=[32, 87, 111, 114], logprob=-17.647306), TopLogprob(token=' Baseball', bytes=[32, 66, 97, 115, 101, 98, 97, 108, 108], logprob=-19.89736), TopLogprob(token='\\xa0', bytes=[194, 160], logprob=-20.4163), TopLogprob(token=' WORLD', bytes=[32, 87, 79, 82, 76, 68], logprob=-20.489723), TopLogprob(token=' the', bytes=[32, 116, 104, 101], logprob=-20.65362), TopLogprob(token=' baseball', bytes=[32, 98, 97, 115, 101, 98, 97, 108, 108], logprob=-20.973846), TopLogprob(token=',', bytes=[44], logprob=-21.027414), TopLogprob(token='.', bytes=[46], logprob=-21.062748), TopLogprob(token=' (', bytes=[32, 40], logprob=-21.227999), TopLogprob(token=' Wo', bytes=[32, 87, 111], logprob=-21.258312), TopLogprob(token=' edition', bytes=[32, 101, 100, 105, 116, 105, 111, 110], logprob=-21.26619), TopLogprob(token=' and', bytes=[32, 97, 110, 100], logprob=-21.738665), TopLogprob(token=' in', bytes=[32, 105, 110], logprob=-22.01551)]), ChatCompletionTokenLogprob(token=' Series', bytes=[32, 83, 101, 114, 105, 101, 115], logprob=-5.7961847e-06, top_logprobs=[TopLogprob(token=' Series', bytes=[32, 83, 101, 114, 105, 101, 115], logprob=-5.7961847e-06), TopLogprob(token=' series', bytes=[32, 115, 101, 114, 105, 101, 115], logprob=-12.363796), TopLogprob(token=' Serie', bytes=[32, 83, 101, 114, 105, 101], logprob=-14.888515), TopLogprob(token=' Ser', bytes=[32, 83, 101, 114], logprob=-15.074381), TopLogprob(token='Series', bytes=[83, 101, 114, 105, 101, 115], logprob=-15.195007), TopLogprob(token=' Se', bytes=[32, 83, 101], logprob=-15.707909), TopLogprob(token=' S', bytes=[32, 83], logprob=-15.747322), TopLogprob(token=' ', bytes=[32], logprob=-15.9132595), TopLogprob(token=' World', bytes=[32, 87, 111, 114, 108, 100], logprob=-17.291264), TopLogprob(token=' Championship', bytes=[32, 67, 104, 97, 109, 112, 105, 111, 110, 115, 104, 105, 112], logprob=-17.30434), TopLogprob(token=' Baseball', bytes=[32, 66, 97, 115, 101, 98, 97, 108, 108], logprob=-18.047695), TopLogprob(token='\\xa0', bytes=[194, 160], logprob=-18.06923), TopLogprob(token=\"'s\", bytes=[39, 115], logprob=-18.276482), TopLogprob(token='\\n', bytes=[10], logprob=-19.230528), TopLogprob(token='.', bytes=[46], logprob=-19.246601), TopLogprob(token='-Series', bytes=[45, 83, 101, 114, 105, 101, 115], logprob=-19.441185), TopLogprob(token=' in', bytes=[32, 105, 110], logprob=-19.680075), TopLogprob(token=' of', bytes=[32, 111, 102], logprob=-19.860611), TopLogprob(token='\\n\\n', bytes=[10, 10], logprob=-20.117496), TopLogprob(token=' the', bytes=[32, 116, 104, 101], logprob=-20.278545)]), ChatCompletionTokenLogprob(token='.', bytes=[46], logprob=-0.19593477, top_logprobs=[TopLogprob(token='.', bytes=[46], logprob=-0.19593477), TopLogprob(token=',', bytes=[44], logprob=-2.4222379), TopLogprob(token=' against', bytes=[32, 97, 103, 97, 105, 110, 115, 116], logprob=-2.9240842), TopLogprob(token=' by', bytes=[32, 98, 121], logprob=-3.3968625), TopLogprob(token=' in', bytes=[32, 105, 110], logprob=-6.885821), TopLogprob(token=' after', bytes=[32, 97, 102, 116, 101, 114], logprob=-7.0646863), TopLogprob(token=' over', bytes=[32, 111, 118, 101, 114], logprob=-9.449238), TopLogprob(token=' with', bytes=[32, 119, 105, 116, 104], logprob=-10.632496), TopLogprob(token=' defeating', bytes=[32, 100, 101, 102, 101, 97, 116, 105, 110, 103], logprob=-11.466692), TopLogprob(token=' on', bytes=[32, 111, 110], logprob=-11.941277), TopLogprob(token='.\\n\\n', bytes=[46, 10, 10], logprob=-12.168612), TopLogprob(token=' as', bytes=[32, 97, 115], logprob=-12.818668), TopLogprob(token='.\\n', bytes=[46, 10], logprob=-13.062954), TopLogprob(token=' when', bytes=[32, 119, 104, 101, 110], logprob=-13.166433), TopLogprob(token=' for', bytes=[32, 102, 111, 114], logprob=-13.556871), TopLogprob(token=';', bytes=[59], logprob=-13.831974), TopLogprob(token=' ', bytes=[32], logprob=-13.917759), TopLogprob(token=' of', bytes=[32, 111, 102], logprob=-14.038275), TopLogprob(token=' title', bytes=[32, 116, 105, 116, 108, 101], logprob=-14.061113), TopLogprob(token=' and', bytes=[32, 97, 110, 100], logprob=-14.105158)])])\n",
      "Total Logprob Difference: 0.3220890602791\n",
      "Max Logprob Difference: 0.28165662999999996\n",
      "Token Displacement: 6\n",
      "\n",
      "\n"
     ]
    }
   ],
   "source": [
    "# Inspect values of different output similarity measures\n",
    "\n",
    "input_sequences = [\n",
    "    \"Translate the following English text to Spanish: 'Hello, how are you?'\",\n",
    "    \"What is the capital of France?\",\n",
    "    \"Who won the world series in 2020?\",\n",
    "]\n",
    "\n",
    "# Define some example perturbations\n",
    "perturbations = [\n",
    "    \"Translate the following English message to Spanish: 'Hello, how are you?'\",\n",
    "    \"What is the population of France?\",\n",
    "    \"Who won the world series in 2019?\",\n",
    "]\n",
    "\n",
    "# For each input sequence and its perturbation\n",
    "for input_sequence, perturbation in zip(input_sequences, perturbations):\n",
    "    print(f\"Input: {input_sequence}\")\n",
    "    print(f\"Perturbation: {perturbation}\")\n",
    "\n",
    "    # Get the initial and perturbed output logprobs\n",
    "    initial_output = get_model_output(input_sequence)\n",
    "    perturbed_output = get_model_output(perturbation)\n",
    "\n",
    "    # Calculate the total logprob difference\n",
    "    print(initial_output.logprobs)\n",
    "    total_diff = total_logprob_difference(initial_output.logprobs, perturbed_output.logprobs)\n",
    "    print(f\"Total Logprob Difference: {total_diff}\")\n",
    "\n",
    "    # Calculate the max logprob difference\n",
    "    max_diff = max_logprob_difference(initial_output.logprobs, perturbed_output.logprobs)\n",
    "    print(f\"Max Logprob Difference: {max_diff}\")\n",
    "\n",
    "    # Calculate the token displacement\n",
    "    displacement = token_displacement(initial_output.logprobs, perturbed_output.logprobs)\n",
    "    print(f\"Token Displacement: {displacement}\")\n",
    "\n",
    "    print(\"\\n\")"
   ]
  },
  {
   "cell_type": "code",
   "execution_count": 8,
   "metadata": {},
   "outputs": [
    {
     "name": "stdout",
     "output_type": "stream",
     "text": [
      "Token: cat\n",
      "10% percentile token: 2000\n",
      "20% percentile token: tw\n",
      "30% percentile token:  Sho\n",
      "40% percentile token:  Armed\n",
      "50% percentile token:  overwhelm\n",
      "60% percentile token:  Wasteland\n",
      "70% percentile token:  Pieces\n",
      "80% percentile token:  bright\n",
      "90% percentile token:  middle\n"
     ]
    }
   ],
   "source": [
    "token = 'cat'\n",
    "token_index = tokenizer.encode(token, add_special_tokens=False)[0]\n",
    "\n",
    "# Get the cosine distances for the selected token\n",
    "token_distances = token_cosine_distances[token_index]\n",
    "\n",
    "sorted_indices = torch.argsort(token_distances)\n",
    "percentiles = [0.1, 0.2, 0.3, 0.4, 0.5, 0.6, 0.7, 0.8, 0.9]\n",
    "percentile_indices = [sorted_indices[int(len(sorted_indices) * p)] for p in percentiles]\n",
    "token = tokenizer.decode(token_index)\n",
    "percentile_tokens = [tokenizer.decode(idx) for idx in percentile_indices]\n",
    "\n",
    "print(f\"Token: {token}\")\n",
    "for p, t in zip(percentiles, percentile_tokens):\n",
    "    print(f\"{int(p * 100)}% percentile token: {t}\")"
   ]
  },
  {
   "cell_type": "code",
   "execution_count": 38,
   "metadata": {},
   "outputs": [],
   "source": [
    "\n",
    "initial_logprobs = get_output_logprobs('the 5 continents are europe, asia, africa')\n",
    "new_logprobs = get_output_logprobs('all 5 continents are europe, asia, africa')"
   ]
  },
  {
   "cell_type": "code",
   "execution_count": 39,
   "metadata": {},
   "outputs": [
    {
     "name": "stdout",
     "output_type": "stream",
     "text": [
      "ChatCompletionMessage(content=', north america, south america, and australia.', role='assistant', function_call=None, tool_calls=None)\n",
      "ChatCompletionMessage(content=', Australia, and the Americas.', role='assistant', function_call=None, tool_calls=None)\n",
      "True token: `,`, pred: `,` - {' ,', 'Australia', ' ', 'the', ' North', 'amer', ' the', 'The', 'am', 'north', '\\n\\n', ' australia', 'North', ' americ', ',', ' south', ' Australia', ' north', ' america', 'south'}\n",
      "True token: ` north`, pred: ` North` - {' o', ' Antarctica', ' ', '  \\n', ' O', ' \\n', ' North', ' the', ' South', ' \\n\\n', 'am', ' australia', ' americ', ' America', ' south', ' Australia', ' north', ' Americas', ' america', ' Austral'}\n",
      "False token: ` america`, pred: `,` - {' ,', ' /', ' and', ' O', '/A', '.', ' or', '/', '/P', ' (', ',', ',\\n\\n', '-O', ',and', ',\\n', '/O', '/New', '/o', ' &', '(O'}\n"
     ]
    },
    {
     "data": {
      "text/plain": [
       "False"
      ]
     },
     "execution_count": 39,
     "metadata": {},
     "output_type": "execute_result"
    }
   ],
   "source": [
    "print(initial_logprobs.message)\n",
    "print(new_logprobs.message)\n",
    "all_tokens_in_top_20(initial_logprobs.logprobs, new_logprobs.logprobs)"
   ]
  },
  {
   "cell_type": "code",
   "execution_count": null,
   "metadata": {},
   "outputs": [],
   "source": [
    "tokenizer = AutoTokenizer.from_pretrained('gpt2')\n",
    "model = AutoModel.from_pretrained('gpt2')\n",
    "\n",
    "# Define the input sequence\n",
    "input_sequence = \"Translate the following English text to French: 'Hello, how are you?'\"\n",
    "\n",
    "baseline_token = \" \"\n",
    "tokens = tokenizer.tokenize(input_sequence)\n",
    "embeddings = model(**tokenizer(tokens, return_tensors='pt'))[0][0].detach().numpy()\n",
    "initial_output = get_output_logprobs(input_sequence)\n",
    "\n",
    "for i, token in enumerate(tokens):\n",
    "    print(f\"Processing token: {token}\")\n",
    "\n",
    "    distant_tokens = get_increasingly_distant_tokens(token, embeddings, tokenizer)\n",
    "\n",
    "    # For each distant token\n",
    "    for distant_token in distant_tokens:\n",
    "        print(f\"  Replacing with distant token: {distant_token}\")\n",
    "\n",
    "        # Replace the current token with the distant token\n",
    "        perturbed_input = \" \".join(tokens[:i] + [distant_token] + tokens[i+1:])\n",
    "\n",
    "        # Get the output logprobs for the perturbed input\n",
    "        perturbed_logprobs = get_output_logprobs(perturbed_input)\n",
    "\n",
    "        # If all output logprobs are no longer in the top 20\n",
    "        if all_logprobs_not_in_top_20(perturbed_logprobs, initial_output.logprobs):\n",
    "            # Assign importance to the current token based on the index of the distant token\n",
    "            importance = get_importance(distant_tokens.index(distant_token))\n",
    "            print(f\"Importance of token '{token}': {importance}\")\n",
    "            break"
   ]
  }
 ],
 "metadata": {
  "kernelspec": {
   "display_name": ".venv",
   "language": "python",
   "name": "python3"
  },
  "language_info": {
   "codemirror_mode": {
    "name": "ipython",
    "version": 3
   },
   "file_extension": ".py",
   "mimetype": "text/x-python",
   "name": "python",
   "nbconvert_exporter": "python",
   "pygments_lexer": "ipython3",
   "version": "3.9.19"
  }
 },
 "nbformat": 4,
 "nbformat_minor": 2
}
